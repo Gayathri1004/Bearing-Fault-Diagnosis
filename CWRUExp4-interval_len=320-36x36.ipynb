{
 "cells": [
  {
   "cell_type": "code",
   "execution_count": 2,
   "id": "5a5ab9cc-9d31-4bd8-9339-c80842c4c686",
   "metadata": {},
   "outputs": [],
   "source": [
    "\n",
    "import tensorflow as tf\n",
    "import numpy as np\n",
    "import random\n",
    "import os"
   ]
  },
  {
   "cell_type": "code",
   "execution_count": 3,
   "id": "32209d77-1aef-4ca4-81d7-ea6457e51333",
   "metadata": {},
   "outputs": [],
   "source": [
    "# Set a fixed seed value for reproducibility\n",
    "SEED = 1\n",
    "random.seed(SEED)            # Python random module\n",
    "np.random.seed(SEED)         # NumPy\n",
    "tf.random.set_seed(SEED)     # TensorFlow\n"
   ]
  },
  {
   "cell_type": "code",
   "execution_count": 4,
   "id": "71899bcf-951f-483f-9b14-081df6aa4b2d",
   "metadata": {},
   "outputs": [],
   "source": [
    "# Enforce deterministic behavior for GPU operations\n",
    "os.environ['TF_DETERMINISTIC_OPS'] = '1'  # Ensure deterministic execution\n",
    "os.environ['TF_CUDNN_DETERMINISTIC'] = '1'  # Deterministic cuDNN algorithms\n"
   ]
  },
  {
   "cell_type": "code",
   "execution_count": 5,
   "id": "bbd1cd7b-5ae6-45e4-9888-9da0cae55811",
   "metadata": {},
   "outputs": [],
   "source": [
    "# Control GPU memory allocation (prevents TensorFlow from using all GPU memory)\n",
    "gpus = tf.config.experimental.list_physical_devices('GPU')\n",
    "if gpus:\n",
    "    for gpu in gpus:\n",
    "        tf.config.experimental.set_memory_growth(gpu, True)  # Enable memory growth\n",
    "\n",
    "# Restrict parallelism (ensures consistent execution order)\n",
    "tf.config.threading.set_inter_op_parallelism_threads(1)\n",
    "tf.config.threading.set_intra_op_parallelism_threads(1)"
   ]
  },
  {
   "cell_type": "code",
   "execution_count": 6,
   "id": "0842921e-69f2-4b98-a50d-a8cbf80872d1",
   "metadata": {},
   "outputs": [],
   "source": [
    "# import os\n",
    "import scipy.io #to load matlab files \n",
    "# import numpy as np\n",
    "from sklearn.model_selection import train_test_split #for data splitting #, KFold\n",
    "from sklearn.metrics import confusion_matrix\n",
    "# import tensorflow as tf\n",
    "from tensorflow.keras import layers, models #build and train CNN model\n",
    "import matplotlib.pyplot as plt #for plotting confusion matrices and accuracy metrics\n",
    "import seaborn as sns \n",
    "# import pandas as pd\n",
    "\n",
    "from scipy import signal #for computing spectograms\n",
    "from skimage.transform import resize #for resizing data\n",
    "from sklearn.model_selection import StratifiedKFold"
   ]
  },
  {
   "cell_type": "code",
   "execution_count": 7,
   "id": "7d9d9640-93e2-47e2-98d4-06a74ec1a58b",
   "metadata": {},
   "outputs": [],
   "source": [
    "\"\"\"\n",
    "# -----------------------------------------------------------------------------\n",
    "# Read CWRU Bearing Data (Load - 2HP)\n",
    "# -----------------------------------------------------------------------------\n",
    "\"\"\"\n",
    "def ImportData():\n",
    "  folder_path = 'CWRU_BearingData_Load_2HP' \n",
    "  # X99_normal = scipy.io.loadmat('content/drive/MyDrive/BearingData_CaseWestern/99.mat')['X099_DE_time'] \n",
    "  file_path1 = os.path.join(folder_path, '99.mat')\n",
    "  X99_normal = scipy.io.loadmat(file_path1)['X099_DE_time'] #vibration data extracted from X099_DE_time key (drive-end accelerometer data)\n",
    "\n",
    "    \n",
    "  # X111_InnerRace_007 = scipy.io.loadmat('/content/drive/MyDrive/BearingData_CaseWestern/111.mat')['X111_DE_time']\n",
    "  file_path2 = os.path.join(folder_path, '111.mat')\n",
    "  X111_InnerRace_007  = scipy.io.loadmat(file_path2)['X111_DE_time']\n",
    "\n",
    "  # X124_Ball_007 = scipy.io.loadmat('/content/drive/MyDrive/BearingData_CaseWestern/124.mat')['X124_DE_time']\n",
    "  file_path3 = os.path.join(folder_path, '124.mat')\n",
    "  X124_Ball_007 = scipy.io.loadmat(file_path3)['X124_DE_time']\n",
    "\n",
    "  # X137_Outer_007 = scipy.io.loadmat('/content/drive/MyDrive/BearingData_CaseWestern/137.mat')['X137_DE_time']\n",
    "  file_path4 = os.path.join(folder_path, '137.mat')\n",
    "  X137_Outer_007 = scipy.io.loadmat(file_path4)['X137_DE_time']\n",
    "    \n",
    "  # X176_InnerRace_014 = scipy.io.loadmat('/content/drive/MyDrive/BearingData_CaseWestern/176.mat')['X176_DE_time']\n",
    "  file_path5 = os.path.join(folder_path, '176.mat')\n",
    "  X176_InnerRace_014 = scipy.io.loadmat(file_path5)['X176_DE_time']\n",
    "\n",
    "  # X191_Ball_014 = scipy.io.loadmat('/content/drive/MyDrive/BearingData_CaseWestern/191.mat')['X191_DE_time']\n",
    "  file_path6 = os.path.join(folder_path, '191.mat')\n",
    "  X191_Ball_014 = scipy.io.loadmat(file_path6)['X191_DE_time']\n",
    "    \n",
    "  # X203_Outer_014 = scipy.io.loadmat('/content/drive/MyDrive/BearingData_CaseWestern/203.mat')['X203_DE_time']\n",
    "  file_path7 = os.path.join(folder_path, '203.mat')\n",
    "  X203_Outer_014  = scipy.io.loadmat(file_path7)['X203_DE_time']\n",
    "\n",
    "  #  X215_InnerRace_021 = scipy.io.loadmat('/content/drive/MyDrive/BearingData_CaseWestern/215.mat')['X215_DE_time']\n",
    "  file_path8 = os.path.join(folder_path, '215.mat')\n",
    "  X215_InnerRace_021  = scipy.io.loadmat(file_path8)['X215_DE_time']\n",
    "    \n",
    "  # X228_Ball_021 = scipy.io.loadmat('/content/drive/MyDrive/BearingData_CaseWestern/228.mat')['X228_DE_time']\n",
    "  file_path9 = os.path.join(folder_path, '228.mat')\n",
    "  X228_Ball_021  = scipy.io.loadmat(file_path9)['X228_DE_time']\n",
    "\n",
    "  # X240_Outer_021 = scipy.io.loadmat('/content/drive/MyDrive/BearingData_CaseWestern/240.mat')['X240_DE_time']\n",
    "  file_path10 = os.path.join(folder_path, '240.mat')\n",
    "  X240_Outer_021  = scipy.io.loadmat(file_path10)['X240_DE_time'] \n",
    "    \n",
    "  return [X99_normal,X111_InnerRace_007,X124_Ball_007,X137_Outer_007,X176_InnerRace_014,X191_Ball_014,X203_Outer_014,X215_InnerRace_021,X228_Ball_021,X240_Outer_021]"
   ]
  },
  {
   "cell_type": "code",
   "execution_count": 8,
   "id": "7f6fbfd8-76a9-49e1-94e2-2924bd737533",
   "metadata": {},
   "outputs": [],
   "source": [
    "\"\"\"\n",
    "# -----------------------------------------------------------------------------\n",
    "# Data Processing and Feature Extraction\n",
    "# -----------------------------------------------------------------------------\n",
    "\"\"\"\n",
    "# def Sampling(Data, interval_length, samples_per_block):\n",
    "#     No_of_blocks = (round(len(Data)/interval_length) - round(samples_per_block/interval_length) - 1)\n",
    "#     SplitData = np.zeros([No_of_blocks, samples_per_block])\n",
    "#     for i in range(No_of_blocks):\n",
    "#         SplitData[i,:] = Data[i*interval_length:(i*interval_length)+samples_per_block].T\n",
    "#     return SplitData\n",
    "\n",
    "#segments the time-series data into smaller blocks for processing\n",
    "#data: 1D numpy array of vibration data\n",
    "#interval length: step size (in samples) betweeen the start of consectuive blocks\n",
    "#samples_per_block: no. of samples in each block (fixed at 1600 in the code)\n",
    "#ignore_points: no. of points to skip at start and end of data(default is 0)\n",
    "def Sampling(Data, interval_length, samples_per_block, ignore_points=0):\n",
    "    # Adjust data length to ignore the first and last 'ignore_points'\n",
    "    adjusted_length = len(Data) - 2 * ignore_points\n",
    "    print(len(Data))\n",
    "    # Adjust the number of blocks\n",
    "    No_of_blocks = (round(adjusted_length / interval_length) - round(samples_per_block / interval_length) - 1)\n",
    "    SplitData = np.zeros([No_of_blocks, samples_per_block]) #splitdata matrix where each row is a block of samples_per_block samples\n",
    "    \n",
    "    for i in range(No_of_blocks):\n",
    "        # Skip the first 'ignore_points' and start sampling from that position\n",
    "        start_idx = ignore_points + i * interval_length\n",
    "        SplitData[i, :] = Data[start_idx:(start_idx + samples_per_block)].T #.T transpose ensure the data is correctly oriented (since the input is a column vector)\n",
    "    \n",
    "    return SplitData #2D array of shape - no.ofblocks, samples_per_block)\n",
    "\n",
    "\n",
    "def DataPreparation(Data, interval_length, samples_per_block):\n",
    "  for count,i in enumerate(Data):\n",
    "    SplitData = Sampling(i, interval_length, samples_per_block) #for each dataset calls samplying to create blocks of 1600 samples\n",
    "    y = np.zeros([len(SplitData),10]) #y (one-hot encoded): Shape (No_of_blocks, 10), where the column corresponding to the class is set to 1 (e.g., for class 0, [1, 0, 0, ..., 0])\n",
    "    y[:,count] = 1\n",
    "    y1 = np.zeros([len(SplitData),1]) #y1 (integer labels): Shape (No_of_blocks, 1), where each element is the class index (0 to 9).\n",
    "    y1[:,0] = count \n",
    "    # Stack up and label the data   \n",
    "    if count==0:\n",
    "      X = SplitData\n",
    "      LabelPositional = y\n",
    "      Label = y1\n",
    "    else:\n",
    "      X = np.append(X, SplitData, axis=0)\n",
    "      LabelPositional = np.append(LabelPositional,y,axis=0)\n",
    "      Label = np.append(Label,y1,axis=0)\n",
    "  print(X)\n",
    "  return X, LabelPositional, Label"
   ]
  },
  {
   "cell_type": "code",
   "execution_count": 9,
   "id": "44975d7a-8b19-44e0-a88f-ca7bf2c4749a",
   "metadata": {},
   "outputs": [],
   "source": [
    "def min_max_norm(ary):\n",
    "    ary = (ary - ary.min()) / np.abs(ary.max() - ary.min())\n",
    "    return ary\n",
    "\n",
    "def generate_spectrogram_image(data_y_vector, image_shape):\n",
    "    \"\"\"\n",
    "    Calculate the spectrogram of an array data_y_vector and resize it in \n",
    "    the image_shape resolution\n",
    "    \"\"\"\n",
    "    fs = 48000\n",
    "    # data_y_vector_len = np.shape(data_y_vector)[0]\n",
    "\n",
    "    f, t, sxx = signal.spectrogram(\n",
    "        data_y_vector,\n",
    "        fs)\n",
    "\n",
    "    sxx = min_max_norm(sxx)\n",
    "    sxx = resize(sxx, image_shape, mode='constant', anti_aliasing=True)\n",
    "\n",
    "    return sxx"
   ]
  },
  {
   "cell_type": "code",
   "execution_count": 10,
   "id": "c3c91be0-79cd-438c-876c-9291efc88572",
   "metadata": {},
   "outputs": [
    {
     "name": "stdout",
     "output_type": "stream",
     "text": [
      "485063\n",
      "485643\n",
      "486804\n",
      "486804\n",
      "487964\n",
      "487384\n",
      "486804\n",
      "491446\n",
      "487384\n",
      "487964\n",
      "[[ 0.06425354  0.06300185 -0.00438092 ... -0.029832   -0.018984\n",
      "  -0.002712  ]\n",
      " [ 0.06571385  0.01606338 -0.05424    ...  0.01585477  0.02211323\n",
      "   0.07280677]\n",
      " [ 0.04672985 -0.00146031 -0.04819015 ... -0.10952308 -0.06884308\n",
      "   0.00146031]\n",
      " ...\n",
      " [ 0.13354667  0.09932533  0.06426933 ... -0.00584267  0.06844267\n",
      "   0.13354667]\n",
      " [ 0.13688533  0.11268     0.08430133 ...  0.20365867  0.13855467\n",
      "   0.06844267]\n",
      " [-0.686096   -0.74201867 -0.698616   ... -0.23370667 -0.33136267\n",
      "  -0.34221333]]\n",
      "Shape of Input Data = (15179, 1296)\n",
      "Shape of Label Y_CNN = (15179, 10)\n",
      "Shape of Label Y = (15179, 1)\n"
     ]
    }
   ],
   "source": [
    "Data = ImportData()\n",
    "interval_length = 320 #1600  #290 #200  \n",
    "samples_per_block = 1296 #1650-25*2\n",
    "\n",
    "\n",
    "# Y_CNN is of shape (n, 10) representing 10 classes as 10 columns. In each sample, for the class to which it belongs, \n",
    "# the corresponding column value is marked 1 and the rest as 0, facilitating Softmax implementation in CNN \n",
    "# Y is of shape (m, 1) where column values are between 0 and 9 representing the classes directly. - 1-hot encoding\n",
    "X, Y_CNN, Y = DataPreparation(Data, interval_length, samples_per_block) \n",
    "\n",
    "\n",
    "print('Shape of Input Data =', X.shape)\n",
    "print('Shape of Label Y_CNN =', Y_CNN.shape)\n",
    "print('Shape of Label Y =', Y.shape)\n",
    "\n",
    "# XX = {'X':X}\n",
    "# scipy.io.savemat('Data.mat', XX)\n"
   ]
  },
  {
   "cell_type": "code",
   "execution_count": 11,
   "id": "aaaee3ff-4250-4baf-bf15-23256e6d8fa0",
   "metadata": {},
   "outputs": [
    {
     "name": "stdout",
     "output_type": "stream",
     "text": [
      "(15179, 36, 36, 1)\n"
     ]
    }
   ],
   "source": [
    "\"\"\"\n",
    "# -----------------------------------------------------------------------------\n",
    "# Multiclass Classification CNN Model Training\n",
    "# -----------------------------------------------------------------------------\n",
    "\"\"\"\n",
    "\n",
    "## 2-Dimensional Convolutional Neural Network Classification\n",
    "\n",
    "# Reshape the data - 2 dimensional feed \n",
    "Input_2D = X.reshape([-1,36,36,1])\n",
    "\n",
    "# Input_2D = X_image.reshape([-1,96,96,1])\n",
    "print(Input_2D.shape)\n",
    "\n",
    "# Test-Train Split \n",
    "X_2D_train, X_2D_test, y_2D_train, y_2D_test, y_label_train, y_label_test = train_test_split(Input_2D, Y_CNN, Y, train_size=0.8, test_size=0.2, random_state=42, stratify=Y)\n",
    "#(ensuring class balance via stratify=Y)\n",
    "# X_2D_train, X_2D_test, y_2D_train, y_2D_test = train_test_split(Input_2D, Y_CNN, train_size=0.8, test_size=0.2, random_state=42, shuffle=True)\n",
    "\n",
    "# Define the CNN Classification model\n",
    "class CNN_2D():\n",
    "  def __init__(self):\n",
    "    self.model = self.CreateModel()\n",
    "\n",
    "  def CreateModel(self):\n",
    "    model = models.Sequential([\n",
    "        # layers.Conv2D(filters=16, kernel_size=(3,3), strides=(2,2), padding ='same',activation='relu'),\n",
    "        layers.Conv2D(filters=16, kernel_size=(3,3), padding='same',activation='relu', input_shape=(36,36,1)),\n",
    "        layers.MaxPool2D(pool_size=(2,2), padding='same'),\n",
    "        layers.Conv2D(filters=32, kernel_size=(3,3), padding ='same',activation='relu'),\n",
    "        layers.MaxPool2D(pool_size=(2,2), padding='same'),\n",
    "        layers.Conv2D(filters=64, kernel_size=(3,3),padding ='same', activation='relu'),\n",
    "        layers.MaxPool2D(pool_size=(2,2), padding='same'),\n",
    "        layers.Conv2D(filters=128, kernel_size=(3,3),padding ='same', activation='relu'),\n",
    "        layers.MaxPool2D(pool_size=(2,2), padding='same'),\n",
    "        layers.Flatten(),\n",
    "        layers.Dense(100,activation='relu'),\n",
    "        layers.Dense(50,activation='relu'),\n",
    "        layers.Dense(10),\n",
    "        layers.Softmax()\n",
    "        ])\n",
    "    model.compile(optimizer='adam',\n",
    "              loss=tf.keras.losses.CategoricalCrossentropy(),\n",
    "              metrics=['accuracy'])\n",
    "    return model"
   ]
  },
  {
   "cell_type": "code",
   "execution_count": 12,
   "id": "ecf41e7c-a3e8-4875-ac08-918e90ad86df",
   "metadata": {},
   "outputs": [
    {
     "name": "stderr",
     "output_type": "stream",
     "text": [
      "/Users/Gayathri/pyenvs/tf-env/lib/python3.11/site-packages/keras/src/layers/convolutional/base_conv.py:113: UserWarning: Do not pass an `input_shape`/`input_dim` argument to a layer. When using Sequential models, prefer using an `Input(shape)` object as the first layer in the model instead.\n",
      "  super().__init__(activity_regularizer=activity_regularizer, **kwargs)\n"
     ]
    },
    {
     "name": "stdout",
     "output_type": "stream",
     "text": [
      "Epoch 1/200\n"
     ]
    },
    {
     "name": "stderr",
     "output_type": "stream",
     "text": [
      "2025-06-04 14:08:36.211370: E tensorflow/core/framework/node_def_util.cc:680] NodeDef mentions attribute use_unbounded_threadpool which is not in the op definition: Op<name=MapDataset; signature=input_dataset:variant, other_arguments: -> handle:variant; attr=f:func; attr=Targuments:list(type),min=0; attr=output_types:list(type),min=1; attr=output_shapes:list(shape),min=1; attr=use_inter_op_parallelism:bool,default=true; attr=preserve_cardinality:bool,default=false; attr=force_synchronous:bool,default=false; attr=metadata:string,default=\"\"> This may be expected if your graph generating binary is newer  than this binary. Unknown attributes will be ignored. NodeDef: {{node ParallelMapDatasetV2/_15}}\n",
      "2025-06-04 14:08:36.212443: E tensorflow/core/framework/node_def_util.cc:680] NodeDef mentions attribute use_unbounded_threadpool which is not in the op definition: Op<name=MapDataset; signature=input_dataset:variant, other_arguments: -> handle:variant; attr=f:func; attr=Targuments:list(type),min=0; attr=output_types:list(type),min=1; attr=output_shapes:list(shape),min=1; attr=use_inter_op_parallelism:bool,default=true; attr=preserve_cardinality:bool,default=false; attr=force_synchronous:bool,default=false; attr=metadata:string,default=\"\"> This may be expected if your graph generating binary is newer  than this binary. Unknown attributes will be ignored. NodeDef: {{node ParallelMapDatasetV2/_15}}\n"
     ]
    },
    {
     "name": "stdout",
     "output_type": "stream",
     "text": [
      "\u001b[1m303/304\u001b[0m \u001b[32m━━━━━━━━━━━━━━━━━━━\u001b[0m\u001b[37m━\u001b[0m \u001b[1m0s\u001b[0m 32ms/step - accuracy: 0.5221 - loss: 1.3004"
     ]
    },
    {
     "name": "stderr",
     "output_type": "stream",
     "text": [
      "2025-06-04 14:08:46.794896: E tensorflow/core/framework/node_def_util.cc:680] NodeDef mentions attribute use_unbounded_threadpool which is not in the op definition: Op<name=MapDataset; signature=input_dataset:variant, other_arguments: -> handle:variant; attr=f:func; attr=Targuments:list(type),min=0; attr=output_types:list(type),min=1; attr=output_shapes:list(shape),min=1; attr=use_inter_op_parallelism:bool,default=true; attr=preserve_cardinality:bool,default=false; attr=force_synchronous:bool,default=false; attr=metadata:string,default=\"\"> This may be expected if your graph generating binary is newer  than this binary. Unknown attributes will be ignored. NodeDef: {{node ParallelMapDatasetV2/_15}}\n",
      "2025-06-04 14:08:46.795186: E tensorflow/core/framework/node_def_util.cc:680] NodeDef mentions attribute use_unbounded_threadpool which is not in the op definition: Op<name=MapDataset; signature=input_dataset:variant, other_arguments: -> handle:variant; attr=f:func; attr=Targuments:list(type),min=0; attr=output_types:list(type),min=1; attr=output_shapes:list(shape),min=1; attr=use_inter_op_parallelism:bool,default=true; attr=preserve_cardinality:bool,default=false; attr=force_synchronous:bool,default=false; attr=metadata:string,default=\"\"> This may be expected if your graph generating binary is newer  than this binary. Unknown attributes will be ignored. NodeDef: {{node ParallelMapDatasetV2/_15}}\n"
     ]
    },
    {
     "name": "stdout",
     "output_type": "stream",
     "text": [
      "\n",
      "Epoch 1: val_accuracy improved from -inf to 0.83738, saving model to CNN2D_results/V4_2_NOL_exp2/best_model_1.h5\n"
     ]
    },
    {
     "name": "stderr",
     "output_type": "stream",
     "text": [
      "WARNING:absl:You are saving your model as an HDF5 file via `model.save()` or `keras.saving.save_model(model)`. This file format is considered legacy. We recommend using instead the native Keras format, e.g. `model.save('my_model.keras')` or `keras.saving.save_model(model, 'my_model.keras')`. \n"
     ]
    },
    {
     "name": "stdout",
     "output_type": "stream",
     "text": [
      "\u001b[1m304/304\u001b[0m \u001b[32m━━━━━━━━━━━━━━━━━━━━\u001b[0m\u001b[37m\u001b[0m \u001b[1m11s\u001b[0m 34ms/step - accuracy: 0.5233 - loss: 1.2972 - val_accuracy: 0.8374 - val_loss: 0.3604\n",
      "Epoch 2/200\n",
      "\u001b[1m302/304\u001b[0m \u001b[32m━━━━━━━━━━━━━━━━━━━\u001b[0m\u001b[37m━\u001b[0m \u001b[1m0s\u001b[0m 32ms/step - accuracy: 0.8560 - loss: 0.3464\n",
      "Epoch 2: val_accuracy did not improve from 0.83738\n",
      "\u001b[1m304/304\u001b[0m \u001b[32m━━━━━━━━━━━━━━━━━━━━\u001b[0m\u001b[37m\u001b[0m \u001b[1m10s\u001b[0m 34ms/step - accuracy: 0.8560 - loss: 0.3463 - val_accuracy: 0.7637 - val_loss: 0.5688\n",
      "Epoch 3/200\n",
      "\u001b[1m303/304\u001b[0m \u001b[32m━━━━━━━━━━━━━━━━━━━\u001b[0m\u001b[37m━\u001b[0m \u001b[1m0s\u001b[0m 30ms/step - accuracy: 0.8601 - loss: 0.3260\n",
      "Epoch 3: val_accuracy did not improve from 0.83738\n",
      "\u001b[1m304/304\u001b[0m \u001b[32m━━━━━━━━━━━━━━━━━━━━\u001b[0m\u001b[37m\u001b[0m \u001b[1m10s\u001b[0m 32ms/step - accuracy: 0.8602 - loss: 0.3257 - val_accuracy: 0.8024 - val_loss: 0.4405\n",
      "Epoch 4/200\n",
      "\u001b[1m304/304\u001b[0m \u001b[32m━━━━━━━━━━━━━━━━━━━━\u001b[0m\u001b[37m\u001b[0m \u001b[1m0s\u001b[0m 36ms/step - accuracy: 0.8811 - loss: 0.2536\n",
      "Epoch 4: val_accuracy did not improve from 0.83738\n",
      "\u001b[1m304/304\u001b[0m \u001b[32m━━━━━━━━━━━━━━━━━━━━\u001b[0m\u001b[37m\u001b[0m \u001b[1m11s\u001b[0m 38ms/step - accuracy: 0.8811 - loss: 0.2535 - val_accuracy: 0.7929 - val_loss: 0.4992\n",
      "Epoch 5/200\n",
      "\u001b[1m302/304\u001b[0m \u001b[32m━━━━━━━━━━━━━━━━━━━\u001b[0m\u001b[37m━\u001b[0m \u001b[1m0s\u001b[0m 31ms/step - accuracy: 0.8904 - loss: 0.2537\n",
      "Epoch 5: val_accuracy improved from 0.83738 to 0.88596, saving model to CNN2D_results/V4_2_NOL_exp2/best_model_1.h5\n"
     ]
    },
    {
     "name": "stderr",
     "output_type": "stream",
     "text": [
      "WARNING:absl:You are saving your model as an HDF5 file via `model.save()` or `keras.saving.save_model(model)`. This file format is considered legacy. We recommend using instead the native Keras format, e.g. `model.save('my_model.keras')` or `keras.saving.save_model(model, 'my_model.keras')`. \n"
     ]
    },
    {
     "name": "stdout",
     "output_type": "stream",
     "text": [
      "\u001b[1m304/304\u001b[0m \u001b[32m━━━━━━━━━━━━━━━━━━━━\u001b[0m\u001b[37m\u001b[0m \u001b[1m10s\u001b[0m 33ms/step - accuracy: 0.8905 - loss: 0.2535 - val_accuracy: 0.8860 - val_loss: 0.2393\n",
      "Epoch 6/200\n",
      "\u001b[1m303/304\u001b[0m \u001b[32m━━━━━━━━━━━━━━━━━━━\u001b[0m\u001b[37m━\u001b[0m \u001b[1m0s\u001b[0m 29ms/step - accuracy: 0.9120 - loss: 0.1914\n",
      "Epoch 6: val_accuracy improved from 0.88596 to 0.88925, saving model to CNN2D_results/V4_2_NOL_exp2/best_model_1.h5\n"
     ]
    },
    {
     "name": "stderr",
     "output_type": "stream",
     "text": [
      "WARNING:absl:You are saving your model as an HDF5 file via `model.save()` or `keras.saving.save_model(model)`. This file format is considered legacy. We recommend using instead the native Keras format, e.g. `model.save('my_model.keras')` or `keras.saving.save_model(model, 'my_model.keras')`. \n"
     ]
    },
    {
     "name": "stdout",
     "output_type": "stream",
     "text": [
      "\u001b[1m304/304\u001b[0m \u001b[32m━━━━━━━━━━━━━━━━━━━━\u001b[0m\u001b[37m\u001b[0m \u001b[1m10s\u001b[0m 32ms/step - accuracy: 0.9121 - loss: 0.1913 - val_accuracy: 0.8893 - val_loss: 0.2468\n",
      "Epoch 7/200\n",
      "\u001b[1m303/304\u001b[0m \u001b[32m━━━━━━━━━━━━━━━━━━━\u001b[0m\u001b[37m━\u001b[0m \u001b[1m0s\u001b[0m 31ms/step - accuracy: 0.9083 - loss: 0.2124\n",
      "Epoch 7: val_accuracy improved from 0.88925 to 0.90737, saving model to CNN2D_results/V4_2_NOL_exp2/best_model_1.h5\n"
     ]
    },
    {
     "name": "stderr",
     "output_type": "stream",
     "text": [
      "WARNING:absl:You are saving your model as an HDF5 file via `model.save()` or `keras.saving.save_model(model)`. This file format is considered legacy. We recommend using instead the native Keras format, e.g. `model.save('my_model.keras')` or `keras.saving.save_model(model, 'my_model.keras')`. \n"
     ]
    },
    {
     "name": "stdout",
     "output_type": "stream",
     "text": [
      "\u001b[1m304/304\u001b[0m \u001b[32m━━━━━━━━━━━━━━━━━━━━\u001b[0m\u001b[37m\u001b[0m \u001b[1m10s\u001b[0m 33ms/step - accuracy: 0.9084 - loss: 0.2123 - val_accuracy: 0.9074 - val_loss: 0.2068\n",
      "Epoch 8/200\n",
      "\u001b[1m303/304\u001b[0m \u001b[32m━━━━━━━━━━━━━━━━━━━\u001b[0m\u001b[37m━\u001b[0m \u001b[1m0s\u001b[0m 29ms/step - accuracy: 0.9330 - loss: 0.1622\n",
      "Epoch 8: val_accuracy improved from 0.90737 to 0.94195, saving model to CNN2D_results/V4_2_NOL_exp2/best_model_1.h5\n"
     ]
    },
    {
     "name": "stderr",
     "output_type": "stream",
     "text": [
      "WARNING:absl:You are saving your model as an HDF5 file via `model.save()` or `keras.saving.save_model(model)`. This file format is considered legacy. We recommend using instead the native Keras format, e.g. `model.save('my_model.keras')` or `keras.saving.save_model(model, 'my_model.keras')`. \n"
     ]
    },
    {
     "name": "stdout",
     "output_type": "stream",
     "text": [
      "\u001b[1m304/304\u001b[0m \u001b[32m━━━━━━━━━━━━━━━━━━━━\u001b[0m\u001b[37m\u001b[0m \u001b[1m10s\u001b[0m 31ms/step - accuracy: 0.9330 - loss: 0.1621 - val_accuracy: 0.9420 - val_loss: 0.1514\n",
      "Epoch 9/200\n",
      "\u001b[1m304/304\u001b[0m \u001b[32m━━━━━━━━━━━━━━━━━━━━\u001b[0m\u001b[37m\u001b[0m \u001b[1m0s\u001b[0m 30ms/step - accuracy: 0.9409 - loss: 0.1509\n",
      "Epoch 9: val_accuracy improved from 0.94195 to 0.94977, saving model to CNN2D_results/V4_2_NOL_exp2/best_model_1.h5\n"
     ]
    },
    {
     "name": "stderr",
     "output_type": "stream",
     "text": [
      "WARNING:absl:You are saving your model as an HDF5 file via `model.save()` or `keras.saving.save_model(model)`. This file format is considered legacy. We recommend using instead the native Keras format, e.g. `model.save('my_model.keras')` or `keras.saving.save_model(model, 'my_model.keras')`. \n"
     ]
    },
    {
     "name": "stdout",
     "output_type": "stream",
     "text": [
      "\u001b[1m304/304\u001b[0m \u001b[32m━━━━━━━━━━━━━━━━━━━━\u001b[0m\u001b[37m\u001b[0m \u001b[1m10s\u001b[0m 32ms/step - accuracy: 0.9410 - loss: 0.1508 - val_accuracy: 0.9498 - val_loss: 0.1179\n",
      "Epoch 10/200\n",
      "\u001b[1m302/304\u001b[0m \u001b[32m━━━━━━━━━━━━━━━━━━━\u001b[0m\u001b[37m━\u001b[0m \u001b[1m0s\u001b[0m 30ms/step - accuracy: 0.9523 - loss: 0.1221\n",
      "Epoch 10: val_accuracy improved from 0.94977 to 0.96418, saving model to CNN2D_results/V4_2_NOL_exp2/best_model_1.h5\n"
     ]
    },
    {
     "name": "stderr",
     "output_type": "stream",
     "text": [
      "WARNING:absl:You are saving your model as an HDF5 file via `model.save()` or `keras.saving.save_model(model)`. This file format is considered legacy. We recommend using instead the native Keras format, e.g. `model.save('my_model.keras')` or `keras.saving.save_model(model, 'my_model.keras')`. \n"
     ]
    },
    {
     "name": "stdout",
     "output_type": "stream",
     "text": [
      "\u001b[1m304/304\u001b[0m \u001b[32m━━━━━━━━━━━━━━━━━━━━\u001b[0m\u001b[37m\u001b[0m \u001b[1m10s\u001b[0m 32ms/step - accuracy: 0.9524 - loss: 0.1218 - val_accuracy: 0.9642 - val_loss: 0.0912\n",
      "Epoch 11/200\n",
      "\u001b[1m303/304\u001b[0m \u001b[32m━━━━━━━━━━━━━━━━━━━\u001b[0m\u001b[37m━\u001b[0m \u001b[1m0s\u001b[0m 30ms/step - accuracy: 0.9645 - loss: 0.0882\n",
      "Epoch 11: val_accuracy improved from 0.96418 to 0.97242, saving model to CNN2D_results/V4_2_NOL_exp2/best_model_1.h5\n"
     ]
    },
    {
     "name": "stderr",
     "output_type": "stream",
     "text": [
      "WARNING:absl:You are saving your model as an HDF5 file via `model.save()` or `keras.saving.save_model(model)`. This file format is considered legacy. We recommend using instead the native Keras format, e.g. `model.save('my_model.keras')` or `keras.saving.save_model(model, 'my_model.keras')`. \n"
     ]
    },
    {
     "name": "stdout",
     "output_type": "stream",
     "text": [
      "\u001b[1m304/304\u001b[0m \u001b[32m━━━━━━━━━━━━━━━━━━━━\u001b[0m\u001b[37m\u001b[0m \u001b[1m10s\u001b[0m 33ms/step - accuracy: 0.9645 - loss: 0.0881 - val_accuracy: 0.9724 - val_loss: 0.0735\n",
      "Epoch 12/200\n",
      "\u001b[1m303/304\u001b[0m \u001b[32m━━━━━━━━━━━━━━━━━━━\u001b[0m\u001b[37m━\u001b[0m \u001b[1m0s\u001b[0m 29ms/step - accuracy: 0.9661 - loss: 0.0878\n",
      "Epoch 12: val_accuracy improved from 0.97242 to 0.98106, saving model to CNN2D_results/V4_2_NOL_exp2/best_model_1.h5\n"
     ]
    },
    {
     "name": "stderr",
     "output_type": "stream",
     "text": [
      "WARNING:absl:You are saving your model as an HDF5 file via `model.save()` or `keras.saving.save_model(model)`. This file format is considered legacy. We recommend using instead the native Keras format, e.g. `model.save('my_model.keras')` or `keras.saving.save_model(model, 'my_model.keras')`. \n"
     ]
    },
    {
     "name": "stdout",
     "output_type": "stream",
     "text": [
      "\u001b[1m304/304\u001b[0m \u001b[32m━━━━━━━━━━━━━━━━━━━━\u001b[0m\u001b[37m\u001b[0m \u001b[1m10s\u001b[0m 32ms/step - accuracy: 0.9661 - loss: 0.0876 - val_accuracy: 0.9811 - val_loss: 0.0549\n",
      "Epoch 13/200\n",
      "\u001b[1m302/304\u001b[0m \u001b[32m━━━━━━━━━━━━━━━━━━━\u001b[0m\u001b[37m━\u001b[0m \u001b[1m0s\u001b[0m 30ms/step - accuracy: 0.9688 - loss: 0.0915\n",
      "Epoch 13: val_accuracy did not improve from 0.98106\n",
      "\u001b[1m304/304\u001b[0m \u001b[32m━━━━━━━━━━━━━━━━━━━━\u001b[0m\u001b[37m\u001b[0m \u001b[1m10s\u001b[0m 32ms/step - accuracy: 0.9689 - loss: 0.0913 - val_accuracy: 0.9716 - val_loss: 0.0682\n",
      "Epoch 14/200\n",
      "\u001b[1m302/304\u001b[0m \u001b[32m━━━━━━━━━━━━━━━━━━━\u001b[0m\u001b[37m━\u001b[0m \u001b[1m0s\u001b[0m 30ms/step - accuracy: 0.9764 - loss: 0.0719\n",
      "Epoch 14: val_accuracy did not improve from 0.98106\n",
      "\u001b[1m304/304\u001b[0m \u001b[32m━━━━━━━━━━━━━━━━━━━━\u001b[0m\u001b[37m\u001b[0m \u001b[1m10s\u001b[0m 32ms/step - accuracy: 0.9764 - loss: 0.0717 - val_accuracy: 0.9741 - val_loss: 0.0663\n",
      "Epoch 15/200\n",
      "\u001b[1m303/304\u001b[0m \u001b[32m━━━━━━━━━━━━━━━━━━━\u001b[0m\u001b[37m━\u001b[0m \u001b[1m0s\u001b[0m 30ms/step - accuracy: 0.9853 - loss: 0.0465\n",
      "Epoch 15: val_accuracy did not improve from 0.98106\n",
      "\u001b[1m304/304\u001b[0m \u001b[32m━━━━━━━━━━━━━━━━━━━━\u001b[0m\u001b[37m\u001b[0m \u001b[1m10s\u001b[0m 33ms/step - accuracy: 0.9853 - loss: 0.0464 - val_accuracy: 0.9807 - val_loss: 0.0582\n",
      "Epoch 16/200\n",
      "\u001b[1m304/304\u001b[0m \u001b[32m━━━━━━━━━━━━━━━━━━━━\u001b[0m\u001b[37m\u001b[0m \u001b[1m0s\u001b[0m 31ms/step - accuracy: 0.9799 - loss: 0.0586\n",
      "Epoch 16: val_accuracy did not improve from 0.98106\n",
      "\u001b[1m304/304\u001b[0m \u001b[32m━━━━━━━━━━━━━━━━━━━━\u001b[0m\u001b[37m\u001b[0m \u001b[1m10s\u001b[0m 33ms/step - accuracy: 0.9799 - loss: 0.0586 - val_accuracy: 0.9485 - val_loss: 0.1559\n",
      "Epoch 17/200\n",
      "\u001b[1m304/304\u001b[0m \u001b[32m━━━━━━━━━━━━━━━━━━━━\u001b[0m\u001b[37m\u001b[0m \u001b[1m0s\u001b[0m 40ms/step - accuracy: 0.9697 - loss: 0.0903\n",
      "Epoch 17: val_accuracy did not improve from 0.98106\n",
      "\u001b[1m304/304\u001b[0m \u001b[32m━━━━━━━━━━━━━━━━━━━━\u001b[0m\u001b[37m\u001b[0m \u001b[1m13s\u001b[0m 42ms/step - accuracy: 0.9698 - loss: 0.0902 - val_accuracy: 0.9621 - val_loss: 0.1290\n",
      "Epoch 18/200\n",
      "\u001b[1m303/304\u001b[0m \u001b[32m━━━━━━━━━━━━━━━━━━━\u001b[0m\u001b[37m━\u001b[0m \u001b[1m0s\u001b[0m 29ms/step - accuracy: 0.9840 - loss: 0.0500\n",
      "Epoch 18: val_accuracy did not improve from 0.98106\n",
      "\u001b[1m304/304\u001b[0m \u001b[32m━━━━━━━━━━━━━━━━━━━━\u001b[0m\u001b[37m\u001b[0m \u001b[1m9s\u001b[0m 31ms/step - accuracy: 0.9840 - loss: 0.0499 - val_accuracy: 0.9802 - val_loss: 0.0535\n",
      "Epoch 19/200\n",
      "\u001b[1m303/304\u001b[0m \u001b[32m━━━━━━━━━━━━━━━━━━━\u001b[0m\u001b[37m━\u001b[0m \u001b[1m0s\u001b[0m 29ms/step - accuracy: 0.9849 - loss: 0.0456\n",
      "Epoch 19: val_accuracy did not improve from 0.98106\n",
      "\u001b[1m304/304\u001b[0m \u001b[32m━━━━━━━━━━━━━━━━━━━━\u001b[0m\u001b[37m\u001b[0m \u001b[1m10s\u001b[0m 32ms/step - accuracy: 0.9849 - loss: 0.0457 - val_accuracy: 0.9765 - val_loss: 0.0635\n",
      "Epoch 20/200\n",
      "\u001b[1m303/304\u001b[0m \u001b[32m━━━━━━━━━━━━━━━━━━━\u001b[0m\u001b[37m━\u001b[0m \u001b[1m0s\u001b[0m 29ms/step - accuracy: 0.9929 - loss: 0.0200\n",
      "Epoch 20: val_accuracy did not improve from 0.98106\n",
      "\u001b[1m304/304\u001b[0m \u001b[32m━━━━━━━━━━━━━━━━━━━━\u001b[0m\u001b[37m\u001b[0m \u001b[1m9s\u001b[0m 31ms/step - accuracy: 0.9929 - loss: 0.0200 - val_accuracy: 0.9786 - val_loss: 0.0627\n",
      "Epoch 21/200\n",
      "\u001b[1m302/304\u001b[0m \u001b[32m━━━━━━━━━━━━━━━━━━━\u001b[0m\u001b[37m━\u001b[0m \u001b[1m0s\u001b[0m 29ms/step - accuracy: 0.9950 - loss: 0.0183\n",
      "Epoch 21: val_accuracy did not improve from 0.98106\n",
      "\u001b[1m304/304\u001b[0m \u001b[32m━━━━━━━━━━━━━━━━━━━━\u001b[0m\u001b[37m\u001b[0m \u001b[1m10s\u001b[0m 31ms/step - accuracy: 0.9950 - loss: 0.0183 - val_accuracy: 0.9699 - val_loss: 0.0882\n",
      "Epoch 22/200\n",
      "\u001b[1m302/304\u001b[0m \u001b[32m━━━━━━━━━━━━━━━━━━━\u001b[0m\u001b[37m━\u001b[0m \u001b[1m0s\u001b[0m 29ms/step - accuracy: 0.9895 - loss: 0.0273\n",
      "Epoch 22: val_accuracy improved from 0.98106 to 0.98436, saving model to CNN2D_results/V4_2_NOL_exp2/best_model_1.h5\n"
     ]
    },
    {
     "name": "stderr",
     "output_type": "stream",
     "text": [
      "WARNING:absl:You are saving your model as an HDF5 file via `model.save()` or `keras.saving.save_model(model)`. This file format is considered legacy. We recommend using instead the native Keras format, e.g. `model.save('my_model.keras')` or `keras.saving.save_model(model, 'my_model.keras')`. \n"
     ]
    },
    {
     "name": "stdout",
     "output_type": "stream",
     "text": [
      "\u001b[1m304/304\u001b[0m \u001b[32m━━━━━━━━━━━━━━━━━━━━\u001b[0m\u001b[37m\u001b[0m \u001b[1m10s\u001b[0m 32ms/step - accuracy: 0.9895 - loss: 0.0273 - val_accuracy: 0.9844 - val_loss: 0.0481\n",
      "Epoch 23/200\n",
      "\u001b[1m302/304\u001b[0m \u001b[32m━━━━━━━━━━━━━━━━━━━\u001b[0m\u001b[37m━\u001b[0m \u001b[1m0s\u001b[0m 30ms/step - accuracy: 0.9948 - loss: 0.0196\n",
      "Epoch 23: val_accuracy did not improve from 0.98436\n",
      "\u001b[1m304/304\u001b[0m \u001b[32m━━━━━━━━━━━━━━━━━━━━\u001b[0m\u001b[37m\u001b[0m \u001b[1m10s\u001b[0m 32ms/step - accuracy: 0.9948 - loss: 0.0197 - val_accuracy: 0.9687 - val_loss: 0.0896\n",
      "Epoch 24/200\n",
      "\u001b[1m303/304\u001b[0m \u001b[32m━━━━━━━━━━━━━━━━━━━\u001b[0m\u001b[37m━\u001b[0m \u001b[1m0s\u001b[0m 29ms/step - accuracy: 0.9922 - loss: 0.0287\n",
      "Epoch 24: val_accuracy did not improve from 0.98436\n",
      "\u001b[1m304/304\u001b[0m \u001b[32m━━━━━━━━━━━━━━━━━━━━\u001b[0m\u001b[37m\u001b[0m \u001b[1m10s\u001b[0m 32ms/step - accuracy: 0.9922 - loss: 0.0286 - val_accuracy: 0.9774 - val_loss: 0.0773\n",
      "Epoch 25/200\n",
      "\u001b[1m303/304\u001b[0m \u001b[32m━━━━━━━━━━━━━━━━━━━\u001b[0m\u001b[37m━\u001b[0m \u001b[1m0s\u001b[0m 29ms/step - accuracy: 0.9892 - loss: 0.0377\n",
      "Epoch 25: val_accuracy did not improve from 0.98436\n",
      "\u001b[1m304/304\u001b[0m \u001b[32m━━━━━━━━━━━━━━━━━━━━\u001b[0m\u001b[37m\u001b[0m \u001b[1m10s\u001b[0m 32ms/step - accuracy: 0.9892 - loss: 0.0376 - val_accuracy: 0.9506 - val_loss: 0.1657\n",
      "Epoch 26/200\n",
      "\u001b[1m303/304\u001b[0m \u001b[32m━━━━━━━━━━━━━━━━━━━\u001b[0m\u001b[37m━\u001b[0m \u001b[1m0s\u001b[0m 29ms/step - accuracy: 0.9926 - loss: 0.0217\n",
      "Epoch 26: val_accuracy did not improve from 0.98436\n",
      "\u001b[1m304/304\u001b[0m \u001b[32m━━━━━━━━━━━━━━━━━━━━\u001b[0m\u001b[37m\u001b[0m \u001b[1m9s\u001b[0m 31ms/step - accuracy: 0.9926 - loss: 0.0217 - val_accuracy: 0.9749 - val_loss: 0.0947\n",
      "Epoch 27/200\n",
      "\u001b[1m303/304\u001b[0m \u001b[32m━━━━━━━━━━━━━━━━━━━\u001b[0m\u001b[37m━\u001b[0m \u001b[1m0s\u001b[0m 29ms/step - accuracy: 0.9986 - loss: 0.0066\n",
      "Epoch 27: val_accuracy improved from 0.98436 to 0.99094, saving model to CNN2D_results/V4_2_NOL_exp2/best_model_1.h5\n"
     ]
    },
    {
     "name": "stderr",
     "output_type": "stream",
     "text": [
      "WARNING:absl:You are saving your model as an HDF5 file via `model.save()` or `keras.saving.save_model(model)`. This file format is considered legacy. We recommend using instead the native Keras format, e.g. `model.save('my_model.keras')` or `keras.saving.save_model(model, 'my_model.keras')`. \n"
     ]
    },
    {
     "name": "stdout",
     "output_type": "stream",
     "text": [
      "\u001b[1m304/304\u001b[0m \u001b[32m━━━━━━━━━━━━━━━━━━━━\u001b[0m\u001b[37m\u001b[0m \u001b[1m10s\u001b[0m 32ms/step - accuracy: 0.9986 - loss: 0.0065 - val_accuracy: 0.9909 - val_loss: 0.0299\n",
      "Epoch 28/200\n",
      "\u001b[1m302/304\u001b[0m \u001b[32m━━━━━━━━━━━━━━━━━━━\u001b[0m\u001b[37m━\u001b[0m \u001b[1m0s\u001b[0m 29ms/step - accuracy: 0.9998 - loss: 7.2726e-04\n",
      "Epoch 28: val_accuracy did not improve from 0.99094\n",
      "\u001b[1m304/304\u001b[0m \u001b[32m━━━━━━━━━━━━━━━━━━━━\u001b[0m\u001b[37m\u001b[0m \u001b[1m9s\u001b[0m 31ms/step - accuracy: 0.9998 - loss: 7.4119e-04 - val_accuracy: 0.9864 - val_loss: 0.0433\n",
      "Epoch 29/200\n",
      "\u001b[1m302/304\u001b[0m \u001b[32m━━━━━━━━━━━━━━━━━━━\u001b[0m\u001b[37m━\u001b[0m \u001b[1m0s\u001b[0m 30ms/step - accuracy: 0.9923 - loss: 0.0222\n",
      "Epoch 29: val_accuracy did not improve from 0.99094\n",
      "\u001b[1m304/304\u001b[0m \u001b[32m━━━━━━━━━━━━━━━━━━━━\u001b[0m\u001b[37m\u001b[0m \u001b[1m10s\u001b[0m 32ms/step - accuracy: 0.9923 - loss: 0.0223 - val_accuracy: 0.9720 - val_loss: 0.0986\n",
      "Epoch 30/200\n",
      "\u001b[1m303/304\u001b[0m \u001b[32m━━━━━━━━━━━━━━━━━━━\u001b[0m\u001b[37m━\u001b[0m \u001b[1m0s\u001b[0m 29ms/step - accuracy: 0.9913 - loss: 0.0228\n",
      "Epoch 30: val_accuracy did not improve from 0.99094\n",
      "\u001b[1m304/304\u001b[0m \u001b[32m━━━━━━━━━━━━━━━━━━━━\u001b[0m\u001b[37m\u001b[0m \u001b[1m10s\u001b[0m 31ms/step - accuracy: 0.9914 - loss: 0.0228 - val_accuracy: 0.9802 - val_loss: 0.0652\n",
      "Epoch 31/200\n",
      "\u001b[1m303/304\u001b[0m \u001b[32m━━━━━━━━━━━━━━━━━━━\u001b[0m\u001b[37m━\u001b[0m \u001b[1m0s\u001b[0m 29ms/step - accuracy: 0.9915 - loss: 0.0300\n",
      "Epoch 31: val_accuracy did not improve from 0.99094\n",
      "\u001b[1m304/304\u001b[0m \u001b[32m━━━━━━━━━━━━━━━━━━━━\u001b[0m\u001b[37m\u001b[0m \u001b[1m9s\u001b[0m 31ms/step - accuracy: 0.9915 - loss: 0.0299 - val_accuracy: 0.9831 - val_loss: 0.0510\n",
      "Epoch 32/200\n",
      "\u001b[1m303/304\u001b[0m \u001b[32m━━━━━━━━━━━━━━━━━━━\u001b[0m\u001b[37m━\u001b[0m \u001b[1m0s\u001b[0m 29ms/step - accuracy: 1.0000 - loss: 8.1654e-04\n",
      "Epoch 32: val_accuracy did not improve from 0.99094\n",
      "\u001b[1m304/304\u001b[0m \u001b[32m━━━━━━━━━━━━━━━━━━━━\u001b[0m\u001b[37m\u001b[0m \u001b[1m10s\u001b[0m 31ms/step - accuracy: 1.0000 - loss: 8.4190e-04 - val_accuracy: 0.9720 - val_loss: 0.1058\n",
      "Epoch 33/200\n",
      "\u001b[1m303/304\u001b[0m \u001b[32m━━━━━━━━━━━━━━━━━━━\u001b[0m\u001b[37m━\u001b[0m \u001b[1m0s\u001b[0m 29ms/step - accuracy: 0.9866 - loss: 0.0481\n",
      "Epoch 33: val_accuracy did not improve from 0.99094\n",
      "\u001b[1m304/304\u001b[0m \u001b[32m━━━━━━━━━━━━━━━━━━━━\u001b[0m\u001b[37m\u001b[0m \u001b[1m10s\u001b[0m 31ms/step - accuracy: 0.9867 - loss: 0.0480 - val_accuracy: 0.9889 - val_loss: 0.0368\n",
      "Epoch 34/200\n",
      "\u001b[1m302/304\u001b[0m \u001b[32m━━━━━━━━━━━━━━━━━━━\u001b[0m\u001b[37m━\u001b[0m \u001b[1m0s\u001b[0m 29ms/step - accuracy: 0.9993 - loss: 0.0022\n",
      "Epoch 34: val_accuracy did not improve from 0.99094\n",
      "\u001b[1m304/304\u001b[0m \u001b[32m━━━━━━━━━━━━━━━━━━━━\u001b[0m\u001b[37m\u001b[0m \u001b[1m10s\u001b[0m 31ms/step - accuracy: 0.9993 - loss: 0.0022 - val_accuracy: 0.9905 - val_loss: 0.0332\n",
      "Epoch 35/200\n",
      "\u001b[1m302/304\u001b[0m \u001b[32m━━━━━━━━━━━━━━━━━━━\u001b[0m\u001b[37m━\u001b[0m \u001b[1m0s\u001b[0m 32ms/step - accuracy: 1.0000 - loss: 2.2013e-04\n",
      "Epoch 35: val_accuracy improved from 0.99094 to 0.99135, saving model to CNN2D_results/V4_2_NOL_exp2/best_model_1.h5\n"
     ]
    },
    {
     "name": "stderr",
     "output_type": "stream",
     "text": [
      "WARNING:absl:You are saving your model as an HDF5 file via `model.save()` or `keras.saving.save_model(model)`. This file format is considered legacy. We recommend using instead the native Keras format, e.g. `model.save('my_model.keras')` or `keras.saving.save_model(model, 'my_model.keras')`. \n"
     ]
    },
    {
     "name": "stdout",
     "output_type": "stream",
     "text": [
      "\u001b[1m304/304\u001b[0m \u001b[32m━━━━━━━━━━━━━━━━━━━━\u001b[0m\u001b[37m\u001b[0m \u001b[1m10s\u001b[0m 34ms/step - accuracy: 1.0000 - loss: 2.1971e-04 - val_accuracy: 0.9914 - val_loss: 0.0319\n",
      "Epoch 36/200\n",
      "\u001b[1m303/304\u001b[0m \u001b[32m━━━━━━━━━━━━━━━━━━━\u001b[0m\u001b[37m━\u001b[0m \u001b[1m0s\u001b[0m 30ms/step - accuracy: 1.0000 - loss: 8.2430e-05\n",
      "Epoch 36: val_accuracy did not improve from 0.99135\n",
      "\u001b[1m304/304\u001b[0m \u001b[32m━━━━━━━━━━━━━━━━━━━━\u001b[0m\u001b[37m\u001b[0m \u001b[1m10s\u001b[0m 32ms/step - accuracy: 1.0000 - loss: 8.2413e-05 - val_accuracy: 0.9914 - val_loss: 0.0322\n",
      "Epoch 37/200\n",
      "\u001b[1m303/304\u001b[0m \u001b[32m━━━━━━━━━━━━━━━━━━━\u001b[0m\u001b[37m━\u001b[0m \u001b[1m0s\u001b[0m 29ms/step - accuracy: 1.0000 - loss: 5.5080e-05\n",
      "Epoch 37: val_accuracy did not improve from 0.99135\n",
      "\u001b[1m304/304\u001b[0m \u001b[32m━━━━━━━━━━━━━━━━━━━━\u001b[0m\u001b[37m\u001b[0m \u001b[1m10s\u001b[0m 31ms/step - accuracy: 1.0000 - loss: 5.5073e-05 - val_accuracy: 0.9914 - val_loss: 0.0330\n",
      "Epoch 38/200\n",
      "\u001b[1m303/304\u001b[0m \u001b[32m━━━━━━━━━━━━━━━━━━━\u001b[0m\u001b[37m━\u001b[0m \u001b[1m0s\u001b[0m 32ms/step - accuracy: 1.0000 - loss: 3.9560e-05\n",
      "Epoch 38: val_accuracy did not improve from 0.99135\n",
      "\u001b[1m304/304\u001b[0m \u001b[32m━━━━━━━━━━━━━━━━━━━━\u001b[0m\u001b[37m\u001b[0m \u001b[1m10s\u001b[0m 34ms/step - accuracy: 1.0000 - loss: 3.9557e-05 - val_accuracy: 0.9914 - val_loss: 0.0337\n",
      "Epoch 39/200\n",
      "\u001b[1m303/304\u001b[0m \u001b[32m━━━━━━━━━━━━━━━━━━━\u001b[0m\u001b[37m━\u001b[0m \u001b[1m0s\u001b[0m 29ms/step - accuracy: 1.0000 - loss: 2.9644e-05\n",
      "Epoch 39: val_accuracy did not improve from 0.99135\n",
      "\u001b[1m304/304\u001b[0m \u001b[32m━━━━━━━━━━━━━━━━━━━━\u001b[0m\u001b[37m\u001b[0m \u001b[1m10s\u001b[0m 32ms/step - accuracy: 1.0000 - loss: 2.9643e-05 - val_accuracy: 0.9914 - val_loss: 0.0344\n",
      "Epoch 40/200\n",
      "\u001b[1m303/304\u001b[0m \u001b[32m━━━━━━━━━━━━━━━━━━━\u001b[0m\u001b[37m━\u001b[0m \u001b[1m0s\u001b[0m 29ms/step - accuracy: 1.0000 - loss: 2.2802e-05\n",
      "Epoch 40: val_accuracy did not improve from 0.99135\n",
      "\u001b[1m304/304\u001b[0m \u001b[32m━━━━━━━━━━━━━━━━━━━━\u001b[0m\u001b[37m\u001b[0m \u001b[1m9s\u001b[0m 31ms/step - accuracy: 1.0000 - loss: 2.2802e-05 - val_accuracy: 0.9914 - val_loss: 0.0352\n",
      "Epoch 41/200\n",
      "\u001b[1m302/304\u001b[0m \u001b[32m━━━━━━━━━━━━━━━━━━━\u001b[0m\u001b[37m━\u001b[0m \u001b[1m0s\u001b[0m 29ms/step - accuracy: 1.0000 - loss: 1.7859e-05\n",
      "Epoch 41: val_accuracy did not improve from 0.99135\n",
      "\u001b[1m304/304\u001b[0m \u001b[32m━━━━━━━━━━━━━━━━━━━━\u001b[0m\u001b[37m\u001b[0m \u001b[1m10s\u001b[0m 32ms/step - accuracy: 1.0000 - loss: 1.7861e-05 - val_accuracy: 0.9914 - val_loss: 0.0359\n",
      "Epoch 42/200\n",
      "\u001b[1m302/304\u001b[0m \u001b[32m━━━━━━━━━━━━━━━━━━━\u001b[0m\u001b[37m━\u001b[0m \u001b[1m0s\u001b[0m 31ms/step - accuracy: 1.0000 - loss: 1.4155e-05\n",
      "Epoch 42: val_accuracy did not improve from 0.99135\n",
      "\u001b[1m304/304\u001b[0m \u001b[32m━━━━━━━━━━━━━━━━━━━━\u001b[0m\u001b[37m\u001b[0m \u001b[1m10s\u001b[0m 33ms/step - accuracy: 1.0000 - loss: 1.4157e-05 - val_accuracy: 0.9914 - val_loss: 0.0366\n",
      "Epoch 43/200\n",
      "\u001b[1m303/304\u001b[0m \u001b[32m━━━━━━━━━━━━━━━━━━━\u001b[0m\u001b[37m━\u001b[0m \u001b[1m0s\u001b[0m 37ms/step - accuracy: 1.0000 - loss: 1.1373e-05\n",
      "Epoch 43: val_accuracy did not improve from 0.99135\n",
      "\u001b[1m304/304\u001b[0m \u001b[32m━━━━━━━━━━━━━━━━━━━━\u001b[0m\u001b[37m\u001b[0m \u001b[1m12s\u001b[0m 39ms/step - accuracy: 1.0000 - loss: 1.1374e-05 - val_accuracy: 0.9914 - val_loss: 0.0372\n",
      "Epoch 44/200\n",
      "\u001b[1m302/304\u001b[0m \u001b[32m━━━━━━━━━━━━━━━━━━━\u001b[0m\u001b[37m━\u001b[0m \u001b[1m0s\u001b[0m 30ms/step - accuracy: 1.0000 - loss: 9.2197e-06\n",
      "Epoch 44: val_accuracy did not improve from 0.99135\n",
      "\u001b[1m304/304\u001b[0m \u001b[32m━━━━━━━━━━━━━━━━━━━━\u001b[0m\u001b[37m\u001b[0m \u001b[1m10s\u001b[0m 32ms/step - accuracy: 1.0000 - loss: 9.2215e-06 - val_accuracy: 0.9909 - val_loss: 0.0379\n",
      "Epoch 45/200\n",
      "\u001b[1m303/304\u001b[0m \u001b[32m━━━━━━━━━━━━━━━━━━━\u001b[0m\u001b[37m━\u001b[0m \u001b[1m0s\u001b[0m 30ms/step - accuracy: 1.0000 - loss: 7.5338e-06\n",
      "Epoch 45: val_accuracy did not improve from 0.99135\n",
      "\u001b[1m304/304\u001b[0m \u001b[32m━━━━━━━━━━━━━━━━━━━━\u001b[0m\u001b[37m\u001b[0m \u001b[1m10s\u001b[0m 33ms/step - accuracy: 1.0000 - loss: 7.5349e-06 - val_accuracy: 0.9914 - val_loss: 0.0385\n",
      "Epoch 46/200\n",
      "\u001b[1m304/304\u001b[0m \u001b[32m━━━━━━━━━━━━━━━━━━━━\u001b[0m\u001b[37m\u001b[0m \u001b[1m0s\u001b[0m 33ms/step - accuracy: 1.0000 - loss: 6.1784e-06\n",
      "Epoch 46: val_accuracy improved from 0.99135 to 0.99177, saving model to CNN2D_results/V4_2_NOL_exp2/best_model_1.h5\n"
     ]
    },
    {
     "name": "stderr",
     "output_type": "stream",
     "text": [
      "WARNING:absl:You are saving your model as an HDF5 file via `model.save()` or `keras.saving.save_model(model)`. This file format is considered legacy. We recommend using instead the native Keras format, e.g. `model.save('my_model.keras')` or `keras.saving.save_model(model, 'my_model.keras')`. \n"
     ]
    },
    {
     "name": "stdout",
     "output_type": "stream",
     "text": [
      "\u001b[1m304/304\u001b[0m \u001b[32m━━━━━━━━━━━━━━━━━━━━\u001b[0m\u001b[37m\u001b[0m \u001b[1m11s\u001b[0m 36ms/step - accuracy: 1.0000 - loss: 6.1789e-06 - val_accuracy: 0.9918 - val_loss: 0.0391\n",
      "Epoch 47/200\n",
      "\u001b[1m303/304\u001b[0m \u001b[32m━━━━━━━━━━━━━━━━━━━\u001b[0m\u001b[37m━\u001b[0m \u001b[1m0s\u001b[0m 31ms/step - accuracy: 1.0000 - loss: 5.0747e-06\n",
      "Epoch 47: val_accuracy did not improve from 0.99177\n",
      "\u001b[1m304/304\u001b[0m \u001b[32m━━━━━━━━━━━━━━━━━━━━\u001b[0m\u001b[37m\u001b[0m \u001b[1m10s\u001b[0m 34ms/step - accuracy: 1.0000 - loss: 5.0756e-06 - val_accuracy: 0.9918 - val_loss: 0.0398\n",
      "Epoch 48/200\n",
      "\u001b[1m304/304\u001b[0m \u001b[32m━━━━━━━━━━━━━━━━━━━━\u001b[0m\u001b[37m\u001b[0m \u001b[1m0s\u001b[0m 30ms/step - accuracy: 1.0000 - loss: 4.1881e-06\n",
      "Epoch 48: val_accuracy did not improve from 0.99177\n",
      "\u001b[1m304/304\u001b[0m \u001b[32m━━━━━━━━━━━━━━━━━━━━\u001b[0m\u001b[37m\u001b[0m \u001b[1m10s\u001b[0m 32ms/step - accuracy: 1.0000 - loss: 4.1885e-06 - val_accuracy: 0.9918 - val_loss: 0.0404\n",
      "Epoch 49/200\n",
      "\u001b[1m303/304\u001b[0m \u001b[32m━━━━━━━━━━━━━━━━━━━\u001b[0m\u001b[37m━\u001b[0m \u001b[1m0s\u001b[0m 32ms/step - accuracy: 1.0000 - loss: 3.4647e-06\n",
      "Epoch 49: val_accuracy did not improve from 0.99177\n",
      "\u001b[1m304/304\u001b[0m \u001b[32m━━━━━━━━━━━━━━━━━━━━\u001b[0m\u001b[37m\u001b[0m \u001b[1m11s\u001b[0m 35ms/step - accuracy: 1.0000 - loss: 3.4655e-06 - val_accuracy: 0.9918 - val_loss: 0.0410\n",
      "Epoch 50/200\n",
      "\u001b[1m304/304\u001b[0m \u001b[32m━━━━━━━━━━━━━━━━━━━━\u001b[0m\u001b[37m\u001b[0m \u001b[1m0s\u001b[0m 31ms/step - accuracy: 1.0000 - loss: 2.8764e-06\n",
      "Epoch 50: val_accuracy did not improve from 0.99177\n",
      "\u001b[1m304/304\u001b[0m \u001b[32m━━━━━━━━━━━━━━━━━━━━\u001b[0m\u001b[37m\u001b[0m \u001b[1m10s\u001b[0m 34ms/step - accuracy: 1.0000 - loss: 2.8767e-06 - val_accuracy: 0.9918 - val_loss: 0.0416\n",
      "Epoch 51/200\n",
      "\u001b[1m303/304\u001b[0m \u001b[32m━━━━━━━━━━━━━━━━━━━\u001b[0m\u001b[37m━\u001b[0m \u001b[1m0s\u001b[0m 32ms/step - accuracy: 1.0000 - loss: 2.3916e-06\n",
      "Epoch 51: val_accuracy did not improve from 0.99177\n",
      "\u001b[1m304/304\u001b[0m \u001b[32m━━━━━━━━━━━━━━━━━━━━\u001b[0m\u001b[37m\u001b[0m \u001b[1m10s\u001b[0m 34ms/step - accuracy: 1.0000 - loss: 2.3922e-06 - val_accuracy: 0.9918 - val_loss: 0.0422\n",
      "Epoch 52/200\n",
      "\u001b[1m303/304\u001b[0m \u001b[32m━━━━━━━━━━━━━━━━━━━\u001b[0m\u001b[37m━\u001b[0m \u001b[1m0s\u001b[0m 31ms/step - accuracy: 1.0000 - loss: 1.9932e-06\n",
      "Epoch 52: val_accuracy did not improve from 0.99177\n",
      "\u001b[1m304/304\u001b[0m \u001b[32m━━━━━━━━━━━━━━━━━━━━\u001b[0m\u001b[37m\u001b[0m \u001b[1m10s\u001b[0m 33ms/step - accuracy: 1.0000 - loss: 1.9938e-06 - val_accuracy: 0.9918 - val_loss: 0.0428\n",
      "Epoch 53/200\n",
      "\u001b[1m302/304\u001b[0m \u001b[32m━━━━━━━━━━━━━━━━━━━\u001b[0m\u001b[37m━\u001b[0m \u001b[1m0s\u001b[0m 30ms/step - accuracy: 1.0000 - loss: 1.6619e-06\n",
      "Epoch 53: val_accuracy did not improve from 0.99177\n",
      "\u001b[1m304/304\u001b[0m \u001b[32m━━━━━━━━━━━━━━━━━━━━\u001b[0m\u001b[37m\u001b[0m \u001b[1m10s\u001b[0m 32ms/step - accuracy: 1.0000 - loss: 1.6626e-06 - val_accuracy: 0.9918 - val_loss: 0.0434\n",
      "Epoch 54/200\n",
      "\u001b[1m303/304\u001b[0m \u001b[32m━━━━━━━━━━━━━━━━━━━\u001b[0m\u001b[37m━\u001b[0m \u001b[1m0s\u001b[0m 30ms/step - accuracy: 1.0000 - loss: 1.3888e-06\n",
      "Epoch 54: val_accuracy did not improve from 0.99177\n",
      "\u001b[1m304/304\u001b[0m \u001b[32m━━━━━━━━━━━━━━━━━━━━\u001b[0m\u001b[37m\u001b[0m \u001b[1m10s\u001b[0m 32ms/step - accuracy: 1.0000 - loss: 1.3892e-06 - val_accuracy: 0.9918 - val_loss: 0.0440\n",
      "Epoch 55/200\n",
      "\u001b[1m302/304\u001b[0m \u001b[32m━━━━━━━━━━━━━━━━━━━\u001b[0m\u001b[37m━\u001b[0m \u001b[1m0s\u001b[0m 32ms/step - accuracy: 1.0000 - loss: 1.1621e-06\n",
      "Epoch 55: val_accuracy did not improve from 0.99177\n",
      "\u001b[1m304/304\u001b[0m \u001b[32m━━━━━━━━━━━━━━━━━━━━\u001b[0m\u001b[37m\u001b[0m \u001b[1m10s\u001b[0m 34ms/step - accuracy: 1.0000 - loss: 1.1627e-06 - val_accuracy: 0.9918 - val_loss: 0.0446\n",
      "Epoch 56/200\n",
      "\u001b[1m303/304\u001b[0m \u001b[32m━━━━━━━━━━━━━━━━━━━\u001b[0m\u001b[37m━\u001b[0m \u001b[1m0s\u001b[0m 29ms/step - accuracy: 1.0000 - loss: 9.7326e-07\n",
      "Epoch 56: val_accuracy did not improve from 0.99177\n",
      "\u001b[1m304/304\u001b[0m \u001b[32m━━━━━━━━━━━━━━━━━━━━\u001b[0m\u001b[37m\u001b[0m \u001b[1m10s\u001b[0m 32ms/step - accuracy: 1.0000 - loss: 9.7359e-07 - val_accuracy: 0.9918 - val_loss: 0.0451\n",
      "Epoch 57/200\n",
      "\u001b[1m302/304\u001b[0m \u001b[32m━━━━━━━━━━━━━━━━━━━\u001b[0m\u001b[37m━\u001b[0m \u001b[1m0s\u001b[0m 29ms/step - accuracy: 1.0000 - loss: 8.1452e-07\n",
      "Epoch 57: val_accuracy did not improve from 0.99177\n",
      "\u001b[1m304/304\u001b[0m \u001b[32m━━━━━━━━━━━━━━━━━━━━\u001b[0m\u001b[37m\u001b[0m \u001b[1m9s\u001b[0m 31ms/step - accuracy: 1.0000 - loss: 8.1497e-07 - val_accuracy: 0.9918 - val_loss: 0.0457\n",
      "Epoch 58/200\n",
      "\u001b[1m303/304\u001b[0m \u001b[32m━━━━━━━━━━━━━━━━━━━\u001b[0m\u001b[37m━\u001b[0m \u001b[1m0s\u001b[0m 30ms/step - accuracy: 1.0000 - loss: 6.8302e-07\n",
      "Epoch 58: val_accuracy did not improve from 0.99177\n",
      "\u001b[1m304/304\u001b[0m \u001b[32m━━━━━━━━━━━━━━━━━━━━\u001b[0m\u001b[37m\u001b[0m \u001b[1m10s\u001b[0m 32ms/step - accuracy: 1.0000 - loss: 6.8327e-07 - val_accuracy: 0.9918 - val_loss: 0.0463\n",
      "Epoch 59/200\n",
      "\u001b[1m303/304\u001b[0m \u001b[32m━━━━━━━━━━━━━━━━━━━\u001b[0m\u001b[37m━\u001b[0m \u001b[1m0s\u001b[0m 29ms/step - accuracy: 1.0000 - loss: 5.7328e-07\n",
      "Epoch 59: val_accuracy did not improve from 0.99177\n",
      "\u001b[1m304/304\u001b[0m \u001b[32m━━━━━━━━━━━━━━━━━━━━\u001b[0m\u001b[37m\u001b[0m \u001b[1m10s\u001b[0m 32ms/step - accuracy: 1.0000 - loss: 5.7350e-07 - val_accuracy: 0.9918 - val_loss: 0.0469\n",
      "Epoch 60/200\n",
      "\u001b[1m304/304\u001b[0m \u001b[32m━━━━━━━━━━━━━━━━━━━━\u001b[0m\u001b[37m\u001b[0m \u001b[1m0s\u001b[0m 30ms/step - accuracy: 1.0000 - loss: 4.8159e-07\n",
      "Epoch 60: val_accuracy did not improve from 0.99177\n",
      "\u001b[1m304/304\u001b[0m \u001b[32m━━━━━━━━━━━━━━━━━━━━\u001b[0m\u001b[37m\u001b[0m \u001b[1m10s\u001b[0m 32ms/step - accuracy: 1.0000 - loss: 4.8169e-07 - val_accuracy: 0.9918 - val_loss: 0.0475\n",
      "Epoch 61/200\n",
      "\u001b[1m303/304\u001b[0m \u001b[32m━━━━━━━━━━━━━━━━━━━\u001b[0m\u001b[37m━\u001b[0m \u001b[1m0s\u001b[0m 33ms/step - accuracy: 1.0000 - loss: 4.0478e-07\n",
      "Epoch 61: val_accuracy did not improve from 0.99177\n",
      "\u001b[1m304/304\u001b[0m \u001b[32m━━━━━━━━━━━━━━━━━━━━\u001b[0m\u001b[37m\u001b[0m \u001b[1m11s\u001b[0m 35ms/step - accuracy: 1.0000 - loss: 4.0494e-07 - val_accuracy: 0.9918 - val_loss: 0.0480\n",
      "Epoch 62/200\n",
      "\u001b[1m303/304\u001b[0m \u001b[32m━━━━━━━━━━━━━━━━━━━\u001b[0m\u001b[37m━\u001b[0m \u001b[1m0s\u001b[0m 34ms/step - accuracy: 1.0000 - loss: 3.3984e-07\n",
      "Epoch 62: val_accuracy did not improve from 0.99177\n",
      "\u001b[1m304/304\u001b[0m \u001b[32m━━━━━━━━━━━━━━━━━━━━\u001b[0m\u001b[37m\u001b[0m \u001b[1m11s\u001b[0m 37ms/step - accuracy: 1.0000 - loss: 3.3998e-07 - val_accuracy: 0.9918 - val_loss: 0.0486\n",
      "Epoch 63/200\n",
      "\u001b[1m303/304\u001b[0m \u001b[32m━━━━━━━━━━━━━━━━━━━\u001b[0m\u001b[37m━\u001b[0m \u001b[1m0s\u001b[0m 30ms/step - accuracy: 1.0000 - loss: 2.8570e-07\n",
      "Epoch 63: val_accuracy did not improve from 0.99177\n",
      "\u001b[1m304/304\u001b[0m \u001b[32m━━━━━━━━━━━━━━━━━━━━\u001b[0m\u001b[37m\u001b[0m \u001b[1m10s\u001b[0m 32ms/step - accuracy: 1.0000 - loss: 2.8583e-07 - val_accuracy: 0.9918 - val_loss: 0.0492\n",
      "Epoch 64/200\n",
      "\u001b[1m303/304\u001b[0m \u001b[32m━━━━━━━━━━━━━━━━━━━\u001b[0m\u001b[37m━\u001b[0m \u001b[1m0s\u001b[0m 32ms/step - accuracy: 1.0000 - loss: 2.3998e-07\n",
      "Epoch 64: val_accuracy did not improve from 0.99177\n",
      "\u001b[1m304/304\u001b[0m \u001b[32m━━━━━━━━━━━━━━━━━━━━\u001b[0m\u001b[37m\u001b[0m \u001b[1m11s\u001b[0m 35ms/step - accuracy: 1.0000 - loss: 2.4009e-07 - val_accuracy: 0.9918 - val_loss: 0.0498\n",
      "Epoch 65/200\n",
      "\u001b[1m303/304\u001b[0m \u001b[32m━━━━━━━━━━━━━━━━━━━\u001b[0m\u001b[37m━\u001b[0m \u001b[1m0s\u001b[0m 31ms/step - accuracy: 1.0000 - loss: 2.0174e-07\n",
      "Epoch 65: val_accuracy did not improve from 0.99177\n",
      "\u001b[1m304/304\u001b[0m \u001b[32m━━━━━━━━━━━━━━━━━━━━\u001b[0m\u001b[37m\u001b[0m \u001b[1m10s\u001b[0m 33ms/step - accuracy: 1.0000 - loss: 2.0183e-07 - val_accuracy: 0.9918 - val_loss: 0.0504\n",
      "Epoch 66/200\n",
      "\u001b[1m303/304\u001b[0m \u001b[32m━━━━━━━━━━━━━━━━━━━\u001b[0m\u001b[37m━\u001b[0m \u001b[1m0s\u001b[0m 29ms/step - accuracy: 1.0000 - loss: 1.6997e-07\n",
      "Epoch 66: val_accuracy did not improve from 0.99177\n",
      "\u001b[1m304/304\u001b[0m \u001b[32m━━━━━━━━━━━━━━━━━━━━\u001b[0m\u001b[37m\u001b[0m \u001b[1m10s\u001b[0m 32ms/step - accuracy: 1.0000 - loss: 1.7005e-07 - val_accuracy: 0.9918 - val_loss: 0.0510\n",
      "Epoch 67/200\n",
      "\u001b[1m302/304\u001b[0m \u001b[32m━━━━━━━━━━━━━━━━━━━\u001b[0m\u001b[37m━\u001b[0m \u001b[1m0s\u001b[0m 31ms/step - accuracy: 1.0000 - loss: 1.4331e-07\n",
      "Epoch 67: val_accuracy did not improve from 0.99177\n",
      "\u001b[1m304/304\u001b[0m \u001b[32m━━━━━━━━━━━━━━━━━━━━\u001b[0m\u001b[37m\u001b[0m \u001b[1m10s\u001b[0m 34ms/step - accuracy: 1.0000 - loss: 1.4342e-07 - val_accuracy: 0.9918 - val_loss: 0.0515\n",
      "Epoch 68/200\n",
      "\u001b[1m303/304\u001b[0m \u001b[32m━━━━━━━━━━━━━━━━━━━\u001b[0m\u001b[37m━\u001b[0m \u001b[1m0s\u001b[0m 37ms/step - accuracy: 1.0000 - loss: 1.2059e-07\n",
      "Epoch 68: val_accuracy did not improve from 0.99177\n",
      "\u001b[1m304/304\u001b[0m \u001b[32m━━━━━━━━━━━━━━━━━━━━\u001b[0m\u001b[37m\u001b[0m \u001b[1m12s\u001b[0m 39ms/step - accuracy: 1.0000 - loss: 1.2065e-07 - val_accuracy: 0.9914 - val_loss: 0.0521\n",
      "Epoch 69/200\n",
      "\u001b[1m302/304\u001b[0m \u001b[32m━━━━━━━━━━━━━━━━━━━\u001b[0m\u001b[37m━\u001b[0m \u001b[1m0s\u001b[0m 31ms/step - accuracy: 1.0000 - loss: 1.0187e-07\n",
      "Epoch 69: val_accuracy did not improve from 0.99177\n",
      "\u001b[1m304/304\u001b[0m \u001b[32m━━━━━━━━━━━━━━━━━━━━\u001b[0m\u001b[37m\u001b[0m \u001b[1m10s\u001b[0m 33ms/step - accuracy: 1.0000 - loss: 1.0195e-07 - val_accuracy: 0.9914 - val_loss: 0.0527\n",
      "Epoch 70/200\n",
      "\u001b[1m302/304\u001b[0m \u001b[32m━━━━━━━━━━━━━━━━━━━\u001b[0m\u001b[37m━\u001b[0m \u001b[1m0s\u001b[0m 30ms/step - accuracy: 1.0000 - loss: 8.5327e-08\n",
      "Epoch 70: val_accuracy did not improve from 0.99177\n",
      "\u001b[1m304/304\u001b[0m \u001b[32m━━━━━━━━━━━━━━━━━━━━\u001b[0m\u001b[37m\u001b[0m \u001b[1m10s\u001b[0m 33ms/step - accuracy: 1.0000 - loss: 8.5394e-08 - val_accuracy: 0.9914 - val_loss: 0.0532\n",
      "Epoch 71/200\n",
      "\u001b[1m303/304\u001b[0m \u001b[32m━━━━━━━━━━━━━━━━━━━\u001b[0m\u001b[37m━\u001b[0m \u001b[1m0s\u001b[0m 32ms/step - accuracy: 1.0000 - loss: 7.1892e-08\n",
      "Epoch 71: val_accuracy did not improve from 0.99177\n",
      "\u001b[1m304/304\u001b[0m \u001b[32m━━━━━━━━━━━━━━━━━━━━\u001b[0m\u001b[37m\u001b[0m \u001b[1m10s\u001b[0m 34ms/step - accuracy: 1.0000 - loss: 7.1930e-08 - val_accuracy: 0.9914 - val_loss: 0.0538\n",
      "Epoch 72/200\n",
      "\u001b[1m303/304\u001b[0m \u001b[32m━━━━━━━━━━━━━━━━━━━\u001b[0m\u001b[37m━\u001b[0m \u001b[1m0s\u001b[0m 31ms/step - accuracy: 1.0000 - loss: 6.0764e-08\n",
      "Epoch 72: val_accuracy did not improve from 0.99177\n",
      "\u001b[1m304/304\u001b[0m \u001b[32m━━━━━━━━━━━━━━━━━━━━\u001b[0m\u001b[37m\u001b[0m \u001b[1m10s\u001b[0m 33ms/step - accuracy: 1.0000 - loss: 6.0797e-08 - val_accuracy: 0.9914 - val_loss: 0.0543\n",
      "Epoch 73/200\n",
      "\u001b[1m303/304\u001b[0m \u001b[32m━━━━━━━━━━━━━━━━━━━\u001b[0m\u001b[37m━\u001b[0m \u001b[1m0s\u001b[0m 31ms/step - accuracy: 1.0000 - loss: 5.1319e-08\n",
      "Epoch 73: val_accuracy did not improve from 0.99177\n",
      "\u001b[1m304/304\u001b[0m \u001b[32m━━━━━━━━━━━━━━━━━━━━\u001b[0m\u001b[37m\u001b[0m \u001b[1m10s\u001b[0m 33ms/step - accuracy: 1.0000 - loss: 5.1348e-08 - val_accuracy: 0.9918 - val_loss: 0.0548\n",
      "Epoch 74/200\n",
      "\u001b[1m302/304\u001b[0m \u001b[32m━━━━━━━━━━━━━━━━━━━\u001b[0m\u001b[37m━\u001b[0m \u001b[1m0s\u001b[0m 30ms/step - accuracy: 1.0000 - loss: 4.3184e-08\n",
      "Epoch 74: val_accuracy did not improve from 0.99177\n",
      "\u001b[1m304/304\u001b[0m \u001b[32m━━━━━━━━━━━━━━━━━━━━\u001b[0m\u001b[37m\u001b[0m \u001b[1m10s\u001b[0m 32ms/step - accuracy: 1.0000 - loss: 4.3221e-08 - val_accuracy: 0.9918 - val_loss: 0.0553\n",
      "Epoch 75/200\n",
      "\u001b[1m302/304\u001b[0m \u001b[32m━━━━━━━━━━━━━━━━━━━\u001b[0m\u001b[37m━\u001b[0m \u001b[1m0s\u001b[0m 30ms/step - accuracy: 1.0000 - loss: 3.6431e-08\n",
      "Epoch 75: val_accuracy did not improve from 0.99177\n",
      "\u001b[1m304/304\u001b[0m \u001b[32m━━━━━━━━━━━━━━━━━━━━\u001b[0m\u001b[37m\u001b[0m \u001b[1m10s\u001b[0m 32ms/step - accuracy: 1.0000 - loss: 3.6463e-08 - val_accuracy: 0.9918 - val_loss: 0.0558\n",
      "Epoch 76/200\n",
      "\u001b[1m303/304\u001b[0m \u001b[32m━━━━━━━━━━━━━━━━━━━\u001b[0m\u001b[37m━\u001b[0m \u001b[1m0s\u001b[0m 31ms/step - accuracy: 1.0000 - loss: 3.0700e-08\n",
      "Epoch 76: val_accuracy did not improve from 0.99177\n",
      "\u001b[1m304/304\u001b[0m \u001b[32m━━━━━━━━━━━━━━━━━━━━\u001b[0m\u001b[37m\u001b[0m \u001b[1m10s\u001b[0m 33ms/step - accuracy: 1.0000 - loss: 3.0718e-08 - val_accuracy: 0.9918 - val_loss: 0.0563\n",
      "Epoch 77/200\n",
      "\u001b[1m303/304\u001b[0m \u001b[32m━━━━━━━━━━━━━━━━━━━\u001b[0m\u001b[37m━\u001b[0m \u001b[1m0s\u001b[0m 31ms/step - accuracy: 1.0000 - loss: 2.5932e-08\n",
      "Epoch 77: val_accuracy did not improve from 0.99177\n",
      "\u001b[1m304/304\u001b[0m \u001b[32m━━━━━━━━━━━━━━━━━━━━\u001b[0m\u001b[37m\u001b[0m \u001b[1m10s\u001b[0m 33ms/step - accuracy: 1.0000 - loss: 2.5948e-08 - val_accuracy: 0.9918 - val_loss: 0.0569\n",
      "Epoch 78/200\n",
      "\u001b[1m303/304\u001b[0m \u001b[32m━━━━━━━━━━━━━━━━━━━\u001b[0m\u001b[37m━\u001b[0m \u001b[1m0s\u001b[0m 30ms/step - accuracy: 1.0000 - loss: 2.1925e-08\n",
      "Epoch 78: val_accuracy did not improve from 0.99177\n",
      "\u001b[1m304/304\u001b[0m \u001b[32m━━━━━━━━━━━━━━━━━━━━\u001b[0m\u001b[37m\u001b[0m \u001b[1m10s\u001b[0m 32ms/step - accuracy: 1.0000 - loss: 2.1940e-08 - val_accuracy: 0.9918 - val_loss: 0.0573\n",
      "Epoch 79/200\n",
      "\u001b[1m302/304\u001b[0m \u001b[32m━━━━━━━━━━━━━━━━━━━\u001b[0m\u001b[37m━\u001b[0m \u001b[1m0s\u001b[0m 30ms/step - accuracy: 1.0000 - loss: 1.8771e-08\n",
      "Epoch 79: val_accuracy did not improve from 0.99177\n",
      "\u001b[1m304/304\u001b[0m \u001b[32m━━━━━━━━━━━━━━━━━━━━\u001b[0m\u001b[37m\u001b[0m \u001b[1m10s\u001b[0m 33ms/step - accuracy: 1.0000 - loss: 1.8789e-08 - val_accuracy: 0.9918 - val_loss: 0.0579\n",
      "Epoch 80/200\n",
      "\u001b[1m303/304\u001b[0m \u001b[32m━━━━━━━━━━━━━━━━━━━\u001b[0m\u001b[37m━\u001b[0m \u001b[1m0s\u001b[0m 30ms/step - accuracy: 1.0000 - loss: 1.5894e-08\n",
      "Epoch 80: val_accuracy did not improve from 0.99177\n",
      "\u001b[1m304/304\u001b[0m \u001b[32m━━━━━━━━━━━━━━━━━━━━\u001b[0m\u001b[37m\u001b[0m \u001b[1m10s\u001b[0m 32ms/step - accuracy: 1.0000 - loss: 1.5904e-08 - val_accuracy: 0.9918 - val_loss: 0.0584\n",
      "Epoch 81/200\n",
      "\u001b[1m302/304\u001b[0m \u001b[32m━━━━━━━━━━━━━━━━━━━\u001b[0m\u001b[37m━\u001b[0m \u001b[1m0s\u001b[0m 30ms/step - accuracy: 1.0000 - loss: 1.3451e-08\n",
      "Epoch 81: val_accuracy did not improve from 0.99177\n",
      "\u001b[1m304/304\u001b[0m \u001b[32m━━━━━━━━━━━━━━━━━━━━\u001b[0m\u001b[37m\u001b[0m \u001b[1m10s\u001b[0m 33ms/step - accuracy: 1.0000 - loss: 1.3464e-08 - val_accuracy: 0.9918 - val_loss: 0.0590\n",
      "Epoch 82/200\n",
      "\u001b[1m303/304\u001b[0m \u001b[32m━━━━━━━━━━━━━━━━━━━\u001b[0m\u001b[37m━\u001b[0m \u001b[1m0s\u001b[0m 31ms/step - accuracy: 1.0000 - loss: 1.1336e-08\n",
      "Epoch 82: val_accuracy did not improve from 0.99177\n",
      "\u001b[1m304/304\u001b[0m \u001b[32m━━━━━━━━━━━━━━━━━━━━\u001b[0m\u001b[37m\u001b[0m \u001b[1m10s\u001b[0m 33ms/step - accuracy: 1.0000 - loss: 1.1344e-08 - val_accuracy: 0.9918 - val_loss: 0.0594\n",
      "Epoch 83/200\n",
      "\u001b[1m303/304\u001b[0m \u001b[32m━━━━━━━━━━━━━━━━━━━\u001b[0m\u001b[37m━\u001b[0m \u001b[1m0s\u001b[0m 30ms/step - accuracy: 1.0000 - loss: 9.6743e-09\n",
      "Epoch 83: val_accuracy did not improve from 0.99177\n",
      "\u001b[1m304/304\u001b[0m \u001b[32m━━━━━━━━━━━━━━━━━━━━\u001b[0m\u001b[37m\u001b[0m \u001b[1m10s\u001b[0m 33ms/step - accuracy: 1.0000 - loss: 9.6805e-09 - val_accuracy: 0.9918 - val_loss: 0.0600\n",
      "Epoch 84/200\n",
      "\u001b[1m303/304\u001b[0m \u001b[32m━━━━━━━━━━━━━━━━━━━\u001b[0m\u001b[37m━\u001b[0m \u001b[1m0s\u001b[0m 31ms/step - accuracy: 1.0000 - loss: 8.1421e-09\n",
      "Epoch 84: val_accuracy did not improve from 0.99177\n",
      "\u001b[1m304/304\u001b[0m \u001b[32m━━━━━━━━━━━━━━━━━━━━\u001b[0m\u001b[37m\u001b[0m \u001b[1m10s\u001b[0m 33ms/step - accuracy: 1.0000 - loss: 8.1480e-09 - val_accuracy: 0.9918 - val_loss: 0.0604\n",
      "Epoch 85/200\n",
      "\u001b[1m303/304\u001b[0m \u001b[32m━━━━━━━━━━━━━━━━━━━\u001b[0m\u001b[37m━\u001b[0m \u001b[1m0s\u001b[0m 31ms/step - accuracy: 1.0000 - loss: 7.0203e-09\n",
      "Epoch 85: val_accuracy did not improve from 0.99177\n",
      "\u001b[1m304/304\u001b[0m \u001b[32m━━━━━━━━━━━━━━━━━━━━\u001b[0m\u001b[37m\u001b[0m \u001b[1m10s\u001b[0m 33ms/step - accuracy: 1.0000 - loss: 7.0255e-09 - val_accuracy: 0.9918 - val_loss: 0.0608\n",
      "Epoch 86/200\n",
      "\u001b[1m303/304\u001b[0m \u001b[32m━━━━━━━━━━━━━━━━━━━\u001b[0m\u001b[37m━\u001b[0m \u001b[1m0s\u001b[0m 30ms/step - accuracy: 1.0000 - loss: 6.0814e-09\n",
      "Epoch 86: val_accuracy did not improve from 0.99177\n",
      "\u001b[1m304/304\u001b[0m \u001b[32m━━━━━━━━━━━━━━━━━━━━\u001b[0m\u001b[37m\u001b[0m \u001b[1m10s\u001b[0m 33ms/step - accuracy: 1.0000 - loss: 6.0852e-09 - val_accuracy: 0.9918 - val_loss: 0.0612\n",
      "Epoch 87/200\n",
      "\u001b[1m303/304\u001b[0m \u001b[32m━━━━━━━━━━━━━━━━━━━\u001b[0m\u001b[37m━\u001b[0m \u001b[1m0s\u001b[0m 30ms/step - accuracy: 1.0000 - loss: 5.1845e-09\n",
      "Epoch 87: val_accuracy did not improve from 0.99177\n",
      "\u001b[1m304/304\u001b[0m \u001b[32m━━━━━━━━━━━━━━━━━━━━\u001b[0m\u001b[37m\u001b[0m \u001b[1m10s\u001b[0m 33ms/step - accuracy: 1.0000 - loss: 5.1877e-09 - val_accuracy: 0.9918 - val_loss: 0.0617\n",
      "Epoch 88/200\n",
      "\u001b[1m302/304\u001b[0m \u001b[32m━━━━━━━━━━━━━━━━━━━\u001b[0m\u001b[37m━\u001b[0m \u001b[1m0s\u001b[0m 31ms/step - accuracy: 1.0000 - loss: 4.3992e-09\n",
      "Epoch 88: val_accuracy did not improve from 0.99177\n",
      "\u001b[1m304/304\u001b[0m \u001b[32m━━━━━━━━━━━━━━━━━━━━\u001b[0m\u001b[37m\u001b[0m \u001b[1m10s\u001b[0m 33ms/step - accuracy: 1.0000 - loss: 4.4038e-09 - val_accuracy: 0.9918 - val_loss: 0.0622\n",
      "Epoch 89/200\n",
      "\u001b[1m303/304\u001b[0m \u001b[32m━━━━━━━━━━━━━━━━━━━\u001b[0m\u001b[37m━\u001b[0m \u001b[1m0s\u001b[0m 30ms/step - accuracy: 1.0000 - loss: 3.5993e-09\n",
      "Epoch 89: val_accuracy did not improve from 0.99177\n",
      "\u001b[1m304/304\u001b[0m \u001b[32m━━━━━━━━━━━━━━━━━━━━\u001b[0m\u001b[37m\u001b[0m \u001b[1m10s\u001b[0m 33ms/step - accuracy: 1.0000 - loss: 3.6024e-09 - val_accuracy: 0.9918 - val_loss: 0.0626\n",
      "Epoch 90/200\n",
      "\u001b[1m303/304\u001b[0m \u001b[32m━━━━━━━━━━━━━━━━━━━\u001b[0m\u001b[37m━\u001b[0m \u001b[1m0s\u001b[0m 30ms/step - accuracy: 1.0000 - loss: 2.9514e-09\n",
      "Epoch 90: val_accuracy did not improve from 0.99177\n",
      "\u001b[1m304/304\u001b[0m \u001b[32m━━━━━━━━━━━━━━━━━━━━\u001b[0m\u001b[37m\u001b[0m \u001b[1m10s\u001b[0m 33ms/step - accuracy: 1.0000 - loss: 2.9536e-09 - val_accuracy: 0.9918 - val_loss: 0.0630\n",
      "Epoch 91/200\n",
      "\u001b[1m303/304\u001b[0m \u001b[32m━━━━━━━━━━━━━━━━━━━\u001b[0m\u001b[37m━\u001b[0m \u001b[1m0s\u001b[0m 31ms/step - accuracy: 1.0000 - loss: 2.6249e-09\n",
      "Epoch 91: val_accuracy did not improve from 0.99177\n",
      "\u001b[1m304/304\u001b[0m \u001b[32m━━━━━━━━━━━━━━━━━━━━\u001b[0m\u001b[37m\u001b[0m \u001b[1m10s\u001b[0m 33ms/step - accuracy: 1.0000 - loss: 2.6266e-09 - val_accuracy: 0.9918 - val_loss: 0.0634\n",
      "Epoch 92/200\n",
      "\u001b[1m302/304\u001b[0m \u001b[32m━━━━━━━━━━━━━━━━━━━\u001b[0m\u001b[37m━\u001b[0m \u001b[1m0s\u001b[0m 31ms/step - accuracy: 1.0000 - loss: 2.2763e-09\n",
      "Epoch 92: val_accuracy did not improve from 0.99177\n",
      "\u001b[1m304/304\u001b[0m \u001b[32m━━━━━━━━━━━━━━━━━━━━\u001b[0m\u001b[37m\u001b[0m \u001b[1m10s\u001b[0m 33ms/step - accuracy: 1.0000 - loss: 2.2791e-09 - val_accuracy: 0.9918 - val_loss: 0.0638\n",
      "Epoch 93/200\n",
      "\u001b[1m302/304\u001b[0m \u001b[32m━━━━━━━━━━━━━━━━━━━\u001b[0m\u001b[37m━\u001b[0m \u001b[1m0s\u001b[0m 30ms/step - accuracy: 1.0000 - loss: 1.9933e-09\n",
      "Epoch 93: val_accuracy did not improve from 0.99177\n",
      "\u001b[1m304/304\u001b[0m \u001b[32m━━━━━━━━━━━━━━━━━━━━\u001b[0m\u001b[37m\u001b[0m \u001b[1m10s\u001b[0m 33ms/step - accuracy: 1.0000 - loss: 1.9962e-09 - val_accuracy: 0.9918 - val_loss: 0.0639\n",
      "Epoch 94/200\n",
      "\u001b[1m302/304\u001b[0m \u001b[32m━━━━━━━━━━━━━━━━━━━\u001b[0m\u001b[37m━\u001b[0m \u001b[1m0s\u001b[0m 31ms/step - accuracy: 1.0000 - loss: 1.7851e-09\n",
      "Epoch 94: val_accuracy improved from 0.99177 to 0.99218, saving model to CNN2D_results/V4_2_NOL_exp2/best_model_1.h5\n"
     ]
    },
    {
     "name": "stderr",
     "output_type": "stream",
     "text": [
      "WARNING:absl:You are saving your model as an HDF5 file via `model.save()` or `keras.saving.save_model(model)`. This file format is considered legacy. We recommend using instead the native Keras format, e.g. `model.save('my_model.keras')` or `keras.saving.save_model(model, 'my_model.keras')`. \n"
     ]
    },
    {
     "name": "stdout",
     "output_type": "stream",
     "text": [
      "\u001b[1m304/304\u001b[0m \u001b[32m━━━━━━━━━━━━━━━━━━━━\u001b[0m\u001b[37m\u001b[0m \u001b[1m10s\u001b[0m 34ms/step - accuracy: 1.0000 - loss: 1.7873e-09 - val_accuracy: 0.9922 - val_loss: 0.0642\n",
      "Epoch 95/200\n",
      "\u001b[1m303/304\u001b[0m \u001b[32m━━━━━━━━━━━━━━━━━━━\u001b[0m\u001b[37m━\u001b[0m \u001b[1m0s\u001b[0m 30ms/step - accuracy: 1.0000 - loss: 1.4784e-09\n",
      "Epoch 95: val_accuracy did not improve from 0.99218\n",
      "\u001b[1m304/304\u001b[0m \u001b[32m━━━━━━━━━━━━━━━━━━━━\u001b[0m\u001b[37m\u001b[0m \u001b[1m10s\u001b[0m 32ms/step - accuracy: 1.0000 - loss: 1.4801e-09 - val_accuracy: 0.9918 - val_loss: 0.0648\n",
      "Epoch 96/200\n",
      "\u001b[1m303/304\u001b[0m \u001b[32m━━━━━━━━━━━━━━━━━━━\u001b[0m\u001b[37m━\u001b[0m \u001b[1m0s\u001b[0m 29ms/step - accuracy: 1.0000 - loss: 1.2088e-09\n",
      "Epoch 96: val_accuracy did not improve from 0.99218\n",
      "\u001b[1m304/304\u001b[0m \u001b[32m━━━━━━━━━━━━━━━━━━━━\u001b[0m\u001b[37m\u001b[0m \u001b[1m10s\u001b[0m 32ms/step - accuracy: 1.0000 - loss: 1.2103e-09 - val_accuracy: 0.9922 - val_loss: 0.0650\n",
      "Epoch 97/200\n",
      "\u001b[1m302/304\u001b[0m \u001b[32m━━━━━━━━━━━━━━━━━━━\u001b[0m\u001b[37m━\u001b[0m \u001b[1m0s\u001b[0m 30ms/step - accuracy: 1.0000 - loss: 1.0635e-09\n",
      "Epoch 97: val_accuracy did not improve from 0.99218\n",
      "\u001b[1m304/304\u001b[0m \u001b[32m━━━━━━━━━━━━━━━━━━━━\u001b[0m\u001b[37m\u001b[0m \u001b[1m10s\u001b[0m 32ms/step - accuracy: 1.0000 - loss: 1.0658e-09 - val_accuracy: 0.9922 - val_loss: 0.0651\n",
      "Epoch 98/200\n",
      "\u001b[1m303/304\u001b[0m \u001b[32m━━━━━━━━━━━━━━━━━━━\u001b[0m\u001b[37m━\u001b[0m \u001b[1m0s\u001b[0m 30ms/step - accuracy: 1.0000 - loss: 9.3023e-10\n",
      "Epoch 98: val_accuracy did not improve from 0.99218\n",
      "\u001b[1m304/304\u001b[0m \u001b[32m━━━━━━━━━━━━━━━━━━━━\u001b[0m\u001b[37m\u001b[0m \u001b[1m10s\u001b[0m 32ms/step - accuracy: 1.0000 - loss: 9.3129e-10 - val_accuracy: 0.9922 - val_loss: 0.0652\n",
      "Epoch 99/200\n",
      "\u001b[1m303/304\u001b[0m \u001b[32m━━━━━━━━━━━━━━━━━━━\u001b[0m\u001b[37m━\u001b[0m \u001b[1m0s\u001b[0m 29ms/step - accuracy: 1.0000 - loss: 7.2055e-10\n",
      "Epoch 99: val_accuracy did not improve from 0.99218\n",
      "\u001b[1m304/304\u001b[0m \u001b[32m━━━━━━━━━━━━━━━━━━━━\u001b[0m\u001b[37m\u001b[0m \u001b[1m10s\u001b[0m 32ms/step - accuracy: 1.0000 - loss: 7.2153e-10 - val_accuracy: 0.9922 - val_loss: 0.0655\n",
      "Epoch 100/200\n",
      "\u001b[1m304/304\u001b[0m \u001b[32m━━━━━━━━━━━━━━━━━━━━\u001b[0m\u001b[37m\u001b[0m \u001b[1m0s\u001b[0m 30ms/step - accuracy: 1.0000 - loss: 6.6648e-10\n",
      "Epoch 100: val_accuracy did not improve from 0.99218\n",
      "\u001b[1m304/304\u001b[0m \u001b[32m━━━━━━━━━━━━━━━━━━━━\u001b[0m\u001b[37m\u001b[0m \u001b[1m10s\u001b[0m 32ms/step - accuracy: 1.0000 - loss: 6.6691e-10 - val_accuracy: 0.9922 - val_loss: 0.0655\n",
      "Epoch 101/200\n",
      "\u001b[1m302/304\u001b[0m \u001b[32m━━━━━━━━━━━━━━━━━━━\u001b[0m\u001b[37m━\u001b[0m \u001b[1m0s\u001b[0m 30ms/step - accuracy: 1.0000 - loss: 5.2373e-10\n",
      "Epoch 101: val_accuracy did not improve from 0.99218\n",
      "\u001b[1m304/304\u001b[0m \u001b[32m━━━━━━━━━━━━━━━━━━━━\u001b[0m\u001b[37m\u001b[0m \u001b[1m10s\u001b[0m 32ms/step - accuracy: 1.0000 - loss: 5.2511e-10 - val_accuracy: 0.9922 - val_loss: 0.0655\n",
      "Epoch 102/200\n",
      "\u001b[1m303/304\u001b[0m \u001b[32m━━━━━━━━━━━━━━━━━━━\u001b[0m\u001b[37m━\u001b[0m \u001b[1m0s\u001b[0m 30ms/step - accuracy: 1.0000 - loss: 4.6078e-10\n",
      "Epoch 102: val_accuracy did not improve from 0.99218\n",
      "\u001b[1m304/304\u001b[0m \u001b[32m━━━━━━━━━━━━━━━━━━━━\u001b[0m\u001b[37m\u001b[0m \u001b[1m10s\u001b[0m 32ms/step - accuracy: 1.0000 - loss: 4.6138e-10 - val_accuracy: 0.9922 - val_loss: 0.0657\n",
      "Epoch 103/200\n",
      "\u001b[1m302/304\u001b[0m \u001b[32m━━━━━━━━━━━━━━━━━━━\u001b[0m\u001b[37m━\u001b[0m \u001b[1m0s\u001b[0m 30ms/step - accuracy: 1.0000 - loss: 3.3533e-10\n",
      "Epoch 103: val_accuracy did not improve from 0.99218\n",
      "\u001b[1m304/304\u001b[0m \u001b[32m━━━━━━━━━━━━━━━━━━━━\u001b[0m\u001b[37m\u001b[0m \u001b[1m10s\u001b[0m 32ms/step - accuracy: 1.0000 - loss: 3.3663e-10 - val_accuracy: 0.9922 - val_loss: 0.0655\n",
      "Epoch 104/200\n",
      "\u001b[1m303/304\u001b[0m \u001b[32m━━━━━━━━━━━━━━━━━━━\u001b[0m\u001b[37m━\u001b[0m \u001b[1m0s\u001b[0m 30ms/step - accuracy: 1.0000 - loss: 3.5644e-10\n",
      "Epoch 104: val_accuracy did not improve from 0.99218\n",
      "\u001b[1m304/304\u001b[0m \u001b[32m━━━━━━━━━━━━━━━━━━━━\u001b[0m\u001b[37m\u001b[0m \u001b[1m10s\u001b[0m 32ms/step - accuracy: 1.0000 - loss: 3.5692e-10 - val_accuracy: 0.9922 - val_loss: 0.0658\n",
      "Epoch 105/200\n",
      "\u001b[1m303/304\u001b[0m \u001b[32m━━━━━━━━━━━━━━━━━━━\u001b[0m\u001b[37m━\u001b[0m \u001b[1m0s\u001b[0m 29ms/step - accuracy: 1.0000 - loss: 2.9674e-10\n",
      "Epoch 105: val_accuracy did not improve from 0.99218\n",
      "\u001b[1m304/304\u001b[0m \u001b[32m━━━━━━━━━━━━━━━━━━━━\u001b[0m\u001b[37m\u001b[0m \u001b[1m10s\u001b[0m 32ms/step - accuracy: 1.0000 - loss: 2.9721e-10 - val_accuracy: 0.9922 - val_loss: 0.0656\n",
      "Epoch 106/200\n",
      "\u001b[1m302/304\u001b[0m \u001b[32m━━━━━━━━━━━━━━━━━━━\u001b[0m\u001b[37m━\u001b[0m \u001b[1m0s\u001b[0m 30ms/step - accuracy: 1.0000 - loss: 3.0961e-10\n",
      "Epoch 106: val_accuracy did not improve from 0.99218\n",
      "\u001b[1m304/304\u001b[0m \u001b[32m━━━━━━━━━━━━━━━━━━━━\u001b[0m\u001b[37m\u001b[0m \u001b[1m10s\u001b[0m 32ms/step - accuracy: 1.0000 - loss: 3.1043e-10 - val_accuracy: 0.9922 - val_loss: 0.0654\n",
      "Epoch 107/200\n",
      "\u001b[1m303/304\u001b[0m \u001b[32m━━━━━━━━━━━━━━━━━━━\u001b[0m\u001b[37m━\u001b[0m \u001b[1m0s\u001b[0m 28ms/step - accuracy: 1.0000 - loss: 2.8110e-10\n",
      "Epoch 107: val_accuracy did not improve from 0.99218\n",
      "\u001b[1m304/304\u001b[0m \u001b[32m━━━━━━━━━━━━━━━━━━━━\u001b[0m\u001b[37m\u001b[0m \u001b[1m9s\u001b[0m 30ms/step - accuracy: 1.0000 - loss: 2.8143e-10 - val_accuracy: 0.9918 - val_loss: 0.0653\n",
      "Epoch 108/200\n",
      "\u001b[1m303/304\u001b[0m \u001b[32m━━━━━━━━━━━━━━━━━━━\u001b[0m\u001b[37m━\u001b[0m \u001b[1m0s\u001b[0m 28ms/step - accuracy: 1.0000 - loss: 2.8252e-10\n",
      "Epoch 108: val_accuracy did not improve from 0.99218\n",
      "\u001b[1m304/304\u001b[0m \u001b[32m━━━━━━━━━━━━━━━━━━━━\u001b[0m\u001b[37m\u001b[0m \u001b[1m9s\u001b[0m 30ms/step - accuracy: 1.0000 - loss: 2.8292e-10 - val_accuracy: 0.9918 - val_loss: 0.0653\n",
      "Epoch 109/200\n",
      "\u001b[1m303/304\u001b[0m \u001b[32m━━━━━━━━━━━━━━━━━━━\u001b[0m\u001b[37m━\u001b[0m \u001b[1m0s\u001b[0m 29ms/step - accuracy: 1.0000 - loss: 2.9706e-10\n",
      "Epoch 109: val_accuracy did not improve from 0.99218\n",
      "\u001b[1m304/304\u001b[0m \u001b[32m━━━━━━━━━━━━━━━━━━━━\u001b[0m\u001b[37m\u001b[0m \u001b[1m10s\u001b[0m 32ms/step - accuracy: 1.0000 - loss: 2.9745e-10 - val_accuracy: 0.9918 - val_loss: 0.0659\n",
      "Epoch 110/200\n",
      "\u001b[1m303/304\u001b[0m \u001b[32m━━━━━━━━━━━━━━━━━━━\u001b[0m\u001b[37m━\u001b[0m \u001b[1m0s\u001b[0m 29ms/step - accuracy: 1.0000 - loss: 1.5566e-10\n",
      "Epoch 110: val_accuracy did not improve from 0.99218\n",
      "\u001b[1m304/304\u001b[0m \u001b[32m━━━━━━━━━━━━━━━━━━━━\u001b[0m\u001b[37m\u001b[0m \u001b[1m10s\u001b[0m 32ms/step - accuracy: 1.0000 - loss: 1.5600e-10 - val_accuracy: 0.9922 - val_loss: 0.0647\n",
      "Epoch 111/200\n",
      "\u001b[1m302/304\u001b[0m \u001b[32m━━━━━━━━━━━━━━━━━━━\u001b[0m\u001b[37m━\u001b[0m \u001b[1m0s\u001b[0m 29ms/step - accuracy: 1.0000 - loss: 2.4527e-10\n",
      "Epoch 111: val_accuracy did not improve from 0.99218\n",
      "\u001b[1m304/304\u001b[0m \u001b[32m━━━━━━━━━━━━━━━━━━━━\u001b[0m\u001b[37m\u001b[0m \u001b[1m9s\u001b[0m 31ms/step - accuracy: 1.0000 - loss: 2.4576e-10 - val_accuracy: 0.9922 - val_loss: 0.0640\n",
      "Epoch 112/200\n",
      "\u001b[1m303/304\u001b[0m \u001b[32m━━━━━━━━━━━━━━━━━━━\u001b[0m\u001b[37m━\u001b[0m \u001b[1m0s\u001b[0m 28ms/step - accuracy: 1.0000 - loss: 1.6688e-10\n",
      "Epoch 112: val_accuracy improved from 0.99218 to 0.99259, saving model to CNN2D_results/V4_2_NOL_exp2/best_model_1.h5\n"
     ]
    },
    {
     "name": "stderr",
     "output_type": "stream",
     "text": [
      "WARNING:absl:You are saving your model as an HDF5 file via `model.save()` or `keras.saving.save_model(model)`. This file format is considered legacy. We recommend using instead the native Keras format, e.g. `model.save('my_model.keras')` or `keras.saving.save_model(model, 'my_model.keras')`. \n"
     ]
    },
    {
     "name": "stdout",
     "output_type": "stream",
     "text": [
      "\u001b[1m304/304\u001b[0m \u001b[32m━━━━━━━━━━━━━━━━━━━━\u001b[0m\u001b[37m\u001b[0m \u001b[1m9s\u001b[0m 30ms/step - accuracy: 1.0000 - loss: 1.6739e-10 - val_accuracy: 0.9926 - val_loss: 0.0641\n",
      "Epoch 113/200\n",
      "\u001b[1m303/304\u001b[0m \u001b[32m━━━━━━━━━━━━━━━━━━━\u001b[0m\u001b[37m━\u001b[0m \u001b[1m0s\u001b[0m 28ms/step - accuracy: 1.0000 - loss: 1.8828e-10\n",
      "Epoch 113: val_accuracy did not improve from 0.99259\n",
      "\u001b[1m304/304\u001b[0m \u001b[32m━━━━━━━━━━━━━━━━━━━━\u001b[0m\u001b[37m\u001b[0m \u001b[1m9s\u001b[0m 30ms/step - accuracy: 1.0000 - loss: 1.8842e-10 - val_accuracy: 0.9926 - val_loss: 0.0635\n",
      "Epoch 114/200\n",
      "\u001b[1m303/304\u001b[0m \u001b[32m━━━━━━━━━━━━━━━━━━━\u001b[0m\u001b[37m━\u001b[0m \u001b[1m0s\u001b[0m 28ms/step - accuracy: 1.0000 - loss: 1.6665e-10\n",
      "Epoch 114: val_accuracy did not improve from 0.99259\n",
      "\u001b[1m304/304\u001b[0m \u001b[32m━━━━━━━━━━━━━━━━━━━━\u001b[0m\u001b[37m\u001b[0m \u001b[1m9s\u001b[0m 31ms/step - accuracy: 1.0000 - loss: 1.6701e-10 - val_accuracy: 0.9926 - val_loss: 0.0646\n",
      "Epoch 115/200\n",
      "\u001b[1m303/304\u001b[0m \u001b[32m━━━━━━━━━━━━━━━━━━━\u001b[0m\u001b[37m━\u001b[0m \u001b[1m0s\u001b[0m 28ms/step - accuracy: 1.0000 - loss: 1.8466e-10\n",
      "Epoch 115: val_accuracy did not improve from 0.99259\n",
      "\u001b[1m304/304\u001b[0m \u001b[32m━━━━━━━━━━━━━━━━━━━━\u001b[0m\u001b[37m\u001b[0m \u001b[1m9s\u001b[0m 30ms/step - accuracy: 1.0000 - loss: 1.8498e-10 - val_accuracy: 0.9926 - val_loss: 0.0626\n",
      "Epoch 116/200\n",
      "\u001b[1m303/304\u001b[0m \u001b[32m━━━━━━━━━━━━━━━━━━━\u001b[0m\u001b[37m━\u001b[0m \u001b[1m0s\u001b[0m 28ms/step - accuracy: 1.0000 - loss: 1.7639e-10\n",
      "Epoch 116: val_accuracy did not improve from 0.99259\n",
      "\u001b[1m304/304\u001b[0m \u001b[32m━━━━━━━━━━━━━━━━━━━━\u001b[0m\u001b[37m\u001b[0m \u001b[1m9s\u001b[0m 30ms/step - accuracy: 1.0000 - loss: 1.7668e-10 - val_accuracy: 0.9922 - val_loss: 0.0614\n",
      "Epoch 117/200\n",
      "\u001b[1m303/304\u001b[0m \u001b[32m━━━━━━━━━━━━━━━━━━━\u001b[0m\u001b[37m━\u001b[0m \u001b[1m0s\u001b[0m 28ms/step - accuracy: 1.0000 - loss: 1.8989e-10\n",
      "Epoch 117: val_accuracy did not improve from 0.99259\n",
      "\u001b[1m304/304\u001b[0m \u001b[32m━━━━━━━━━━━━━━━━━━━━\u001b[0m\u001b[37m\u001b[0m \u001b[1m9s\u001b[0m 30ms/step - accuracy: 1.0000 - loss: 1.9049e-10 - val_accuracy: 0.9926 - val_loss: 0.0638\n",
      "Epoch 118/200\n",
      "\u001b[1m303/304\u001b[0m \u001b[32m━━━━━━━━━━━━━━━━━━━\u001b[0m\u001b[37m━\u001b[0m \u001b[1m0s\u001b[0m 28ms/step - accuracy: 1.0000 - loss: 1.4993e-10\n",
      "Epoch 118: val_accuracy did not improve from 0.99259\n",
      "\u001b[1m304/304\u001b[0m \u001b[32m━━━━━━━━━━━━━━━━━━━━\u001b[0m\u001b[37m\u001b[0m \u001b[1m9s\u001b[0m 30ms/step - accuracy: 1.0000 - loss: 1.4991e-10 - val_accuracy: 0.9922 - val_loss: 0.0618\n",
      "Epoch 119/200\n",
      "\u001b[1m302/304\u001b[0m \u001b[32m━━━━━━━━━━━━━━━━━━━\u001b[0m\u001b[37m━\u001b[0m \u001b[1m0s\u001b[0m 28ms/step - accuracy: 1.0000 - loss: 1.5854e-10\n",
      "Epoch 119: val_accuracy did not improve from 0.99259\n",
      "\u001b[1m304/304\u001b[0m \u001b[32m━━━━━━━━━━━━━━━━━━━━\u001b[0m\u001b[37m\u001b[0m \u001b[1m9s\u001b[0m 30ms/step - accuracy: 1.0000 - loss: 1.5940e-10 - val_accuracy: 0.9926 - val_loss: 0.0626\n",
      "Epoch 120/200\n",
      "\u001b[1m303/304\u001b[0m \u001b[32m━━━━━━━━━━━━━━━━━━━\u001b[0m\u001b[37m━\u001b[0m \u001b[1m0s\u001b[0m 29ms/step - accuracy: 1.0000 - loss: 8.8858e-11\n",
      "Epoch 120: val_accuracy did not improve from 0.99259\n",
      "\u001b[1m304/304\u001b[0m \u001b[32m━━━━━━━━━━━━━━━━━━━━\u001b[0m\u001b[37m\u001b[0m \u001b[1m9s\u001b[0m 31ms/step - accuracy: 1.0000 - loss: 8.9080e-11 - val_accuracy: 0.9926 - val_loss: 0.0643\n",
      "Epoch 121/200\n",
      "\u001b[1m303/304\u001b[0m \u001b[32m━━━━━━━━━━━━━━━━━━━\u001b[0m\u001b[37m━\u001b[0m \u001b[1m0s\u001b[0m 28ms/step - accuracy: 1.0000 - loss: 1.0295e-10\n",
      "Epoch 121: val_accuracy did not improve from 0.99259\n",
      "\u001b[1m304/304\u001b[0m \u001b[32m━━━━━━━━━━━━━━━━━━━━\u001b[0m\u001b[37m\u001b[0m \u001b[1m9s\u001b[0m 30ms/step - accuracy: 1.0000 - loss: 1.0349e-10 - val_accuracy: 0.9926 - val_loss: 0.0616\n",
      "Epoch 122/200\n",
      "\u001b[1m303/304\u001b[0m \u001b[32m━━━━━━━━━━━━━━━━━━━\u001b[0m\u001b[37m━\u001b[0m \u001b[1m0s\u001b[0m 28ms/step - accuracy: 0.9835 - loss: 0.0708\n",
      "Epoch 122: val_accuracy did not improve from 0.99259\n",
      "\u001b[1m304/304\u001b[0m \u001b[32m━━━━━━━━━━━━━━━━━━━━\u001b[0m\u001b[37m\u001b[0m \u001b[1m9s\u001b[0m 30ms/step - accuracy: 0.9835 - loss: 0.0709 - val_accuracy: 0.9769 - val_loss: 0.0732\n",
      "Epoch 123/200\n",
      "\u001b[1m303/304\u001b[0m \u001b[32m━━━━━━━━━━━━━━━━━━━\u001b[0m\u001b[37m━\u001b[0m \u001b[1m0s\u001b[0m 28ms/step - accuracy: 0.9945 - loss: 0.0187\n",
      "Epoch 123: val_accuracy did not improve from 0.99259\n",
      "\u001b[1m304/304\u001b[0m \u001b[32m━━━━━━━━━━━━━━━━━━━━\u001b[0m\u001b[37m\u001b[0m \u001b[1m9s\u001b[0m 30ms/step - accuracy: 0.9946 - loss: 0.0187 - val_accuracy: 0.9790 - val_loss: 0.0718\n",
      "Epoch 124/200\n",
      "\u001b[1m302/304\u001b[0m \u001b[32m━━━━━━━━━━━━━━━━━━━\u001b[0m\u001b[37m━\u001b[0m \u001b[1m0s\u001b[0m 35ms/step - accuracy: 0.9952 - loss: 0.0175\n",
      "Epoch 124: val_accuracy did not improve from 0.99259\n",
      "\u001b[1m304/304\u001b[0m \u001b[32m━━━━━━━━━━━━━━━━━━━━\u001b[0m\u001b[37m\u001b[0m \u001b[1m11s\u001b[0m 37ms/step - accuracy: 0.9952 - loss: 0.0175 - val_accuracy: 0.9646 - val_loss: 0.1379\n",
      "Epoch 125/200\n",
      "\u001b[1m303/304\u001b[0m \u001b[32m━━━━━━━━━━━━━━━━━━━\u001b[0m\u001b[37m━\u001b[0m \u001b[1m0s\u001b[0m 226ms/step - accuracy: 0.9924 - loss: 0.0263\n",
      "Epoch 125: val_accuracy did not improve from 0.99259\n",
      "\u001b[1m304/304\u001b[0m \u001b[32m━━━━━━━━━━━━━━━━━━━━\u001b[0m\u001b[37m\u001b[0m \u001b[1m69s\u001b[0m 228ms/step - accuracy: 0.9924 - loss: 0.0263 - val_accuracy: 0.9782 - val_loss: 0.0640\n",
      "Epoch 126/200\n",
      "\u001b[1m303/304\u001b[0m \u001b[32m━━━━━━━━━━━━━━━━━━━\u001b[0m\u001b[37m━\u001b[0m \u001b[1m0s\u001b[0m 477ms/step - accuracy: 0.9992 - loss: 0.0043\n",
      "Epoch 126: val_accuracy did not improve from 0.99259\n",
      "\u001b[1m304/304\u001b[0m \u001b[32m━━━━━━━━━━━━━━━━━━━━\u001b[0m\u001b[37m\u001b[0m \u001b[1m145s\u001b[0m 478ms/step - accuracy: 0.9992 - loss: 0.0043 - val_accuracy: 0.9893 - val_loss: 0.0339\n",
      "Epoch 127/200\n",
      "\u001b[1m303/304\u001b[0m \u001b[32m━━━━━━━━━━━━━━━━━━━\u001b[0m\u001b[37m━\u001b[0m \u001b[1m0s\u001b[0m 34ms/step - accuracy: 0.9977 - loss: 0.0072\n",
      "Epoch 127: val_accuracy did not improve from 0.99259\n",
      "\u001b[1m304/304\u001b[0m \u001b[32m━━━━━━━━━━━━━━━━━━━━\u001b[0m\u001b[37m\u001b[0m \u001b[1m11s\u001b[0m 36ms/step - accuracy: 0.9977 - loss: 0.0072 - val_accuracy: 0.9881 - val_loss: 0.0426\n",
      "Epoch 128/200\n",
      "\u001b[1m303/304\u001b[0m \u001b[32m━━━━━━━━━━━━━━━━━━━\u001b[0m\u001b[37m━\u001b[0m \u001b[1m0s\u001b[0m 28ms/step - accuracy: 1.0000 - loss: 5.2150e-04\n",
      "Epoch 128: val_accuracy did not improve from 0.99259\n",
      "\u001b[1m304/304\u001b[0m \u001b[32m━━━━━━━━━━━━━━━━━━━━\u001b[0m\u001b[37m\u001b[0m \u001b[1m9s\u001b[0m 30ms/step - accuracy: 1.0000 - loss: 5.2015e-04 - val_accuracy: 0.9909 - val_loss: 0.0352\n",
      "Epoch 129/200\n",
      "\u001b[1m304/304\u001b[0m \u001b[32m━━━━━━━━━━━━━━━━━━━━\u001b[0m\u001b[37m\u001b[0m \u001b[1m0s\u001b[0m 32ms/step - accuracy: 1.0000 - loss: 7.9662e-05\n",
      "Epoch 129: val_accuracy did not improve from 0.99259\n",
      "\u001b[1m304/304\u001b[0m \u001b[32m━━━━━━━━━━━━━━━━━━━━\u001b[0m\u001b[37m\u001b[0m \u001b[1m10s\u001b[0m 34ms/step - accuracy: 1.0000 - loss: 7.9628e-05 - val_accuracy: 0.9901 - val_loss: 0.0364\n",
      "Epoch 130/200\n",
      "\u001b[1m303/304\u001b[0m \u001b[32m━━━━━━━━━━━━━━━━━━━\u001b[0m\u001b[37m━\u001b[0m \u001b[1m0s\u001b[0m 29ms/step - accuracy: 1.0000 - loss: 4.8190e-05\n",
      "Epoch 130: val_accuracy did not improve from 0.99259\n",
      "\u001b[1m304/304\u001b[0m \u001b[32m━━━━━━━━━━━━━━━━━━━━\u001b[0m\u001b[37m\u001b[0m \u001b[1m9s\u001b[0m 31ms/step - accuracy: 1.0000 - loss: 4.8155e-05 - val_accuracy: 0.9901 - val_loss: 0.0376\n",
      "Epoch 131/200\n",
      "\u001b[1m303/304\u001b[0m \u001b[32m━━━━━━━━━━━━━━━━━━━\u001b[0m\u001b[37m━\u001b[0m \u001b[1m0s\u001b[0m 28ms/step - accuracy: 1.0000 - loss: 3.2832e-05\n",
      "Epoch 131: val_accuracy did not improve from 0.99259\n",
      "\u001b[1m304/304\u001b[0m \u001b[32m━━━━━━━━━━━━━━━━━━━━\u001b[0m\u001b[37m\u001b[0m \u001b[1m9s\u001b[0m 30ms/step - accuracy: 1.0000 - loss: 3.2812e-05 - val_accuracy: 0.9901 - val_loss: 0.0385\n",
      "Epoch 132/200\n",
      "\u001b[1m302/304\u001b[0m \u001b[32m━━━━━━━━━━━━━━━━━━━\u001b[0m\u001b[37m━\u001b[0m \u001b[1m0s\u001b[0m 30ms/step - accuracy: 1.0000 - loss: 2.4008e-05\n",
      "Epoch 132: val_accuracy did not improve from 0.99259\n",
      "\u001b[1m304/304\u001b[0m \u001b[32m━━━━━━━━━━━━━━━━━━━━\u001b[0m\u001b[37m\u001b[0m \u001b[1m10s\u001b[0m 32ms/step - accuracy: 1.0000 - loss: 2.3988e-05 - val_accuracy: 0.9905 - val_loss: 0.0393\n",
      "Epoch 133/200\n",
      "\u001b[1m303/304\u001b[0m \u001b[32m━━━━━━━━━━━━━━━━━━━\u001b[0m\u001b[37m━\u001b[0m \u001b[1m0s\u001b[0m 30ms/step - accuracy: 1.0000 - loss: 1.8196e-05\n",
      "Epoch 133: val_accuracy did not improve from 0.99259\n",
      "\u001b[1m304/304\u001b[0m \u001b[32m━━━━━━━━━━━━━━━━━━━━\u001b[0m\u001b[37m\u001b[0m \u001b[1m10s\u001b[0m 32ms/step - accuracy: 1.0000 - loss: 1.8186e-05 - val_accuracy: 0.9905 - val_loss: 0.0401\n",
      "Epoch 134/200\n",
      "\u001b[1m302/304\u001b[0m \u001b[32m━━━━━━━━━━━━━━━━━━━\u001b[0m\u001b[37m━\u001b[0m \u001b[1m0s\u001b[0m 33ms/step - accuracy: 1.0000 - loss: 1.4119e-05\n",
      "Epoch 134: val_accuracy did not improve from 0.99259\n",
      "\u001b[1m304/304\u001b[0m \u001b[32m━━━━━━━━━━━━━━━━━━━━\u001b[0m\u001b[37m\u001b[0m \u001b[1m11s\u001b[0m 35ms/step - accuracy: 1.0000 - loss: 1.4109e-05 - val_accuracy: 0.9909 - val_loss: 0.0408\n",
      "Epoch 135/200\n",
      "\u001b[1m303/304\u001b[0m \u001b[32m━━━━━━━━━━━━━━━━━━━\u001b[0m\u001b[37m━\u001b[0m \u001b[1m0s\u001b[0m 28ms/step - accuracy: 1.0000 - loss: 1.1109e-05\n",
      "Epoch 135: val_accuracy did not improve from 0.99259\n",
      "\u001b[1m304/304\u001b[0m \u001b[32m━━━━━━━━━━━━━━━━━━━━\u001b[0m\u001b[37m\u001b[0m \u001b[1m9s\u001b[0m 30ms/step - accuracy: 1.0000 - loss: 1.1104e-05 - val_accuracy: 0.9909 - val_loss: 0.0416\n",
      "Epoch 136/200\n",
      "\u001b[1m303/304\u001b[0m \u001b[32m━━━━━━━━━━━━━━━━━━━\u001b[0m\u001b[37m━\u001b[0m \u001b[1m0s\u001b[0m 28ms/step - accuracy: 1.0000 - loss: 8.8341e-06\n",
      "Epoch 136: val_accuracy did not improve from 0.99259\n",
      "\u001b[1m304/304\u001b[0m \u001b[32m━━━━━━━━━━━━━━━━━━━━\u001b[0m\u001b[37m\u001b[0m \u001b[1m9s\u001b[0m 30ms/step - accuracy: 1.0000 - loss: 8.8296e-06 - val_accuracy: 0.9909 - val_loss: 0.0423\n",
      "Epoch 137/200\n",
      "\u001b[1m303/304\u001b[0m \u001b[32m━━━━━━━━━━━━━━━━━━━\u001b[0m\u001b[37m━\u001b[0m \u001b[1m0s\u001b[0m 31ms/step - accuracy: 1.0000 - loss: 6.9421e-06\n",
      "Epoch 137: val_accuracy did not improve from 0.99259\n",
      "\u001b[1m304/304\u001b[0m \u001b[32m━━━━━━━━━━━━━━━━━━━━\u001b[0m\u001b[37m\u001b[0m \u001b[1m10s\u001b[0m 33ms/step - accuracy: 1.0000 - loss: 6.9386e-06 - val_accuracy: 0.9914 - val_loss: 0.0431\n",
      "Epoch 138/200\n",
      "\u001b[1m303/304\u001b[0m \u001b[32m━━━━━━━━━━━━━━━━━━━\u001b[0m\u001b[37m━\u001b[0m \u001b[1m0s\u001b[0m 34ms/step - accuracy: 1.0000 - loss: 5.1867e-06\n",
      "Epoch 138: val_accuracy did not improve from 0.99259\n",
      "\u001b[1m304/304\u001b[0m \u001b[32m━━━━━━━━━━━━━━━━━━━━\u001b[0m\u001b[37m\u001b[0m \u001b[1m11s\u001b[0m 36ms/step - accuracy: 1.0000 - loss: 5.1839e-06 - val_accuracy: 0.9914 - val_loss: 0.0438\n",
      "Epoch 139/200\n",
      "\u001b[1m303/304\u001b[0m \u001b[32m━━━━━━━━━━━━━━━━━━━\u001b[0m\u001b[37m━\u001b[0m \u001b[1m0s\u001b[0m 29ms/step - accuracy: 1.0000 - loss: 3.9661e-06\n",
      "Epoch 139: val_accuracy did not improve from 0.99259\n",
      "\u001b[1m304/304\u001b[0m \u001b[32m━━━━━━━━━━━━━━━━━━━━\u001b[0m\u001b[37m\u001b[0m \u001b[1m9s\u001b[0m 31ms/step - accuracy: 1.0000 - loss: 3.9640e-06 - val_accuracy: 0.9918 - val_loss: 0.0446\n",
      "Epoch 140/200\n",
      "\u001b[1m303/304\u001b[0m \u001b[32m━━━━━━━━━━━━━━━━━━━\u001b[0m\u001b[37m━\u001b[0m \u001b[1m0s\u001b[0m 29ms/step - accuracy: 1.0000 - loss: 3.1436e-06\n",
      "Epoch 140: val_accuracy did not improve from 0.99259\n",
      "\u001b[1m304/304\u001b[0m \u001b[32m━━━━━━━━━━━━━━━━━━━━\u001b[0m\u001b[37m\u001b[0m \u001b[1m9s\u001b[0m 31ms/step - accuracy: 1.0000 - loss: 3.1418e-06 - val_accuracy: 0.9922 - val_loss: 0.0455\n",
      "Epoch 141/200\n",
      "\u001b[1m303/304\u001b[0m \u001b[32m━━━━━━━━━━━━━━━━━━━\u001b[0m\u001b[37m━\u001b[0m \u001b[1m0s\u001b[0m 29ms/step - accuracy: 1.0000 - loss: 2.4583e-06\n",
      "Epoch 141: val_accuracy did not improve from 0.99259\n",
      "\u001b[1m304/304\u001b[0m \u001b[32m━━━━━━━━━━━━━━━━━━━━\u001b[0m\u001b[37m\u001b[0m \u001b[1m10s\u001b[0m 31ms/step - accuracy: 1.0000 - loss: 2.4568e-06 - val_accuracy: 0.9922 - val_loss: 0.0468\n",
      "Epoch 142/200\n",
      "\u001b[1m304/304\u001b[0m \u001b[32m━━━━━━━━━━━━━━━━━━━━\u001b[0m\u001b[37m\u001b[0m \u001b[1m0s\u001b[0m 29ms/step - accuracy: 1.0000 - loss: 1.8682e-06\n",
      "Epoch 142: val_accuracy did not improve from 0.99259\n",
      "\u001b[1m304/304\u001b[0m \u001b[32m━━━━━━━━━━━━━━━━━━━━\u001b[0m\u001b[37m\u001b[0m \u001b[1m10s\u001b[0m 31ms/step - accuracy: 1.0000 - loss: 1.8677e-06 - val_accuracy: 0.9922 - val_loss: 0.0480\n",
      "Epoch 143/200\n",
      "\u001b[1m304/304\u001b[0m \u001b[32m━━━━━━━━━━━━━━━━━━━━\u001b[0m\u001b[37m\u001b[0m \u001b[1m0s\u001b[0m 45ms/step - accuracy: 1.0000 - loss: 1.4210e-06\n",
      "Epoch 143: val_accuracy did not improve from 0.99259\n",
      "\u001b[1m304/304\u001b[0m \u001b[32m━━━━━━━━━━━━━━━━━━━━\u001b[0m\u001b[37m\u001b[0m \u001b[1m15s\u001b[0m 48ms/step - accuracy: 1.0000 - loss: 1.4206e-06 - val_accuracy: 0.9918 - val_loss: 0.0492\n",
      "Epoch 144/200\n",
      "\u001b[1m303/304\u001b[0m \u001b[32m━━━━━━━━━━━━━━━━━━━\u001b[0m\u001b[37m━\u001b[0m \u001b[1m0s\u001b[0m 32ms/step - accuracy: 1.0000 - loss: 1.1003e-06\n",
      "Epoch 144: val_accuracy did not improve from 0.99259\n",
      "\u001b[1m304/304\u001b[0m \u001b[32m━━━━━━━━━━━━━━━━━━━━\u001b[0m\u001b[37m\u001b[0m \u001b[1m10s\u001b[0m 34ms/step - accuracy: 1.0000 - loss: 1.0998e-06 - val_accuracy: 0.9918 - val_loss: 0.0502\n",
      "Epoch 145/200\n",
      "\u001b[1m303/304\u001b[0m \u001b[32m━━━━━━━━━━━━━━━━━━━\u001b[0m\u001b[37m━\u001b[0m \u001b[1m0s\u001b[0m 29ms/step - accuracy: 1.0000 - loss: 8.5842e-07\n",
      "Epoch 145: val_accuracy did not improve from 0.99259\n",
      "\u001b[1m304/304\u001b[0m \u001b[32m━━━━━━━━━━━━━━━━━━━━\u001b[0m\u001b[37m\u001b[0m \u001b[1m9s\u001b[0m 31ms/step - accuracy: 1.0000 - loss: 8.5810e-07 - val_accuracy: 0.9918 - val_loss: 0.0513\n",
      "Epoch 146/200\n",
      "\u001b[1m303/304\u001b[0m \u001b[32m━━━━━━━━━━━━━━━━━━━\u001b[0m\u001b[37m━\u001b[0m \u001b[1m0s\u001b[0m 29ms/step - accuracy: 1.0000 - loss: 6.8674e-07\n",
      "Epoch 146: val_accuracy did not improve from 0.99259\n",
      "\u001b[1m304/304\u001b[0m \u001b[32m━━━━━━━━━━━━━━━━━━━━\u001b[0m\u001b[37m\u001b[0m \u001b[1m9s\u001b[0m 31ms/step - accuracy: 1.0000 - loss: 6.8652e-07 - val_accuracy: 0.9918 - val_loss: 0.0523\n",
      "Epoch 147/200\n",
      "\u001b[1m303/304\u001b[0m \u001b[32m━━━━━━━━━━━━━━━━━━━\u001b[0m\u001b[37m━\u001b[0m \u001b[1m0s\u001b[0m 29ms/step - accuracy: 1.0000 - loss: 5.5747e-07\n",
      "Epoch 147: val_accuracy did not improve from 0.99259\n",
      "\u001b[1m304/304\u001b[0m \u001b[32m━━━━━━━━━━━━━━━━━━━━\u001b[0m\u001b[37m\u001b[0m \u001b[1m9s\u001b[0m 31ms/step - accuracy: 1.0000 - loss: 5.5731e-07 - val_accuracy: 0.9918 - val_loss: 0.0532\n",
      "Epoch 148/200\n",
      "\u001b[1m303/304\u001b[0m \u001b[32m━━━━━━━━━━━━━━━━━━━\u001b[0m\u001b[37m━\u001b[0m \u001b[1m0s\u001b[0m 29ms/step - accuracy: 1.0000 - loss: 4.5946e-07\n",
      "Epoch 148: val_accuracy did not improve from 0.99259\n",
      "\u001b[1m304/304\u001b[0m \u001b[32m━━━━━━━━━━━━━━━━━━━━\u001b[0m\u001b[37m\u001b[0m \u001b[1m9s\u001b[0m 31ms/step - accuracy: 1.0000 - loss: 4.5934e-07 - val_accuracy: 0.9922 - val_loss: 0.0541\n",
      "Epoch 149/200\n",
      "\u001b[1m303/304\u001b[0m \u001b[32m━━━━━━━━━━━━━━━━━━━\u001b[0m\u001b[37m━\u001b[0m \u001b[1m0s\u001b[0m 29ms/step - accuracy: 1.0000 - loss: 3.8150e-07\n",
      "Epoch 149: val_accuracy did not improve from 0.99259\n",
      "\u001b[1m304/304\u001b[0m \u001b[32m━━━━━━━━━━━━━━━━━━━━\u001b[0m\u001b[37m\u001b[0m \u001b[1m10s\u001b[0m 31ms/step - accuracy: 1.0000 - loss: 3.8140e-07 - val_accuracy: 0.9922 - val_loss: 0.0549\n",
      "Epoch 150/200\n",
      "\u001b[1m302/304\u001b[0m \u001b[32m━━━━━━━━━━━━━━━━━━━\u001b[0m\u001b[37m━\u001b[0m \u001b[1m0s\u001b[0m 30ms/step - accuracy: 1.0000 - loss: 3.1976e-07\n",
      "Epoch 150: val_accuracy did not improve from 0.99259\n",
      "\u001b[1m304/304\u001b[0m \u001b[32m━━━━━━━━━━━━━━━━━━━━\u001b[0m\u001b[37m\u001b[0m \u001b[1m10s\u001b[0m 33ms/step - accuracy: 1.0000 - loss: 3.1964e-07 - val_accuracy: 0.9922 - val_loss: 0.0558\n",
      "Epoch 151/200\n",
      "\u001b[1m302/304\u001b[0m \u001b[32m━━━━━━━━━━━━━━━━━━━\u001b[0m\u001b[37m━\u001b[0m \u001b[1m0s\u001b[0m 35ms/step - accuracy: 1.0000 - loss: 2.6908e-07\n",
      "Epoch 151: val_accuracy did not improve from 0.99259\n",
      "\u001b[1m304/304\u001b[0m \u001b[32m━━━━━━━━━━━━━━━━━━━━\u001b[0m\u001b[37m\u001b[0m \u001b[1m11s\u001b[0m 37ms/step - accuracy: 1.0000 - loss: 2.6899e-07 - val_accuracy: 0.9918 - val_loss: 0.0566\n",
      "Epoch 152/200\n",
      "\u001b[1m303/304\u001b[0m \u001b[32m━━━━━━━━━━━━━━━━━━━\u001b[0m\u001b[37m━\u001b[0m \u001b[1m0s\u001b[0m 29ms/step - accuracy: 1.0000 - loss: 2.2657e-07\n",
      "Epoch 152: val_accuracy did not improve from 0.99259\n",
      "\u001b[1m304/304\u001b[0m \u001b[32m━━━━━━━━━━━━━━━━━━━━\u001b[0m\u001b[37m\u001b[0m \u001b[1m9s\u001b[0m 31ms/step - accuracy: 1.0000 - loss: 2.2652e-07 - val_accuracy: 0.9918 - val_loss: 0.0574\n",
      "Epoch 153/200\n",
      "\u001b[1m303/304\u001b[0m \u001b[32m━━━━━━━━━━━━━━━━━━━\u001b[0m\u001b[37m━\u001b[0m \u001b[1m0s\u001b[0m 29ms/step - accuracy: 1.0000 - loss: 1.9179e-07\n",
      "Epoch 153: val_accuracy did not improve from 0.99259\n",
      "\u001b[1m304/304\u001b[0m \u001b[32m━━━━━━━━━━━━━━━━━━━━\u001b[0m\u001b[37m\u001b[0m \u001b[1m9s\u001b[0m 31ms/step - accuracy: 1.0000 - loss: 1.9175e-07 - val_accuracy: 0.9918 - val_loss: 0.0582\n",
      "Epoch 154/200\n",
      "\u001b[1m302/304\u001b[0m \u001b[32m━━━━━━━━━━━━━━━━━━━\u001b[0m\u001b[37m━\u001b[0m \u001b[1m0s\u001b[0m 30ms/step - accuracy: 1.0000 - loss: 1.6241e-07\n",
      "Epoch 154: val_accuracy did not improve from 0.99259\n",
      "\u001b[1m304/304\u001b[0m \u001b[32m━━━━━━━━━━━━━━━━━━━━\u001b[0m\u001b[37m\u001b[0m \u001b[1m10s\u001b[0m 32ms/step - accuracy: 1.0000 - loss: 1.6235e-07 - val_accuracy: 0.9918 - val_loss: 0.0589\n",
      "Epoch 155/200\n",
      "\u001b[1m303/304\u001b[0m \u001b[32m━━━━━━━━━━━━━━━━━━━\u001b[0m\u001b[37m━\u001b[0m \u001b[1m0s\u001b[0m 30ms/step - accuracy: 1.0000 - loss: 1.3757e-07\n",
      "Epoch 155: val_accuracy did not improve from 0.99259\n",
      "\u001b[1m304/304\u001b[0m \u001b[32m━━━━━━━━━━━━━━━━━━━━\u001b[0m\u001b[37m\u001b[0m \u001b[1m10s\u001b[0m 32ms/step - accuracy: 1.0000 - loss: 1.3754e-07 - val_accuracy: 0.9918 - val_loss: 0.0596\n",
      "Epoch 156/200\n",
      "\u001b[1m302/304\u001b[0m \u001b[32m━━━━━━━━━━━━━━━━━━━\u001b[0m\u001b[37m━\u001b[0m \u001b[1m0s\u001b[0m 29ms/step - accuracy: 1.0000 - loss: 1.1676e-07\n",
      "Epoch 156: val_accuracy did not improve from 0.99259\n",
      "\u001b[1m304/304\u001b[0m \u001b[32m━━━━━━━━━━━━━━━━━━━━\u001b[0m\u001b[37m\u001b[0m \u001b[1m9s\u001b[0m 31ms/step - accuracy: 1.0000 - loss: 1.1673e-07 - val_accuracy: 0.9918 - val_loss: 0.0604\n",
      "Epoch 157/200\n",
      "\u001b[1m302/304\u001b[0m \u001b[32m━━━━━━━━━━━━━━━━━━━\u001b[0m\u001b[37m━\u001b[0m \u001b[1m0s\u001b[0m 30ms/step - accuracy: 1.0000 - loss: 9.9462e-08\n",
      "Epoch 157: val_accuracy did not improve from 0.99259\n",
      "\u001b[1m304/304\u001b[0m \u001b[32m━━━━━━━━━━━━━━━━━━━━\u001b[0m\u001b[37m\u001b[0m \u001b[1m10s\u001b[0m 32ms/step - accuracy: 1.0000 - loss: 9.9429e-08 - val_accuracy: 0.9918 - val_loss: 0.0611\n",
      "Epoch 158/200\n",
      "\u001b[1m303/304\u001b[0m \u001b[32m━━━━━━━━━━━━━━━━━━━\u001b[0m\u001b[37m━\u001b[0m \u001b[1m0s\u001b[0m 29ms/step - accuracy: 1.0000 - loss: 8.4377e-08\n",
      "Epoch 158: val_accuracy did not improve from 0.99259\n",
      "\u001b[1m304/304\u001b[0m \u001b[32m━━━━━━━━━━━━━━━━━━━━\u001b[0m\u001b[37m\u001b[0m \u001b[1m10s\u001b[0m 31ms/step - accuracy: 1.0000 - loss: 8.4360e-08 - val_accuracy: 0.9918 - val_loss: 0.0618\n",
      "Epoch 159/200\n",
      "\u001b[1m302/304\u001b[0m \u001b[32m━━━━━━━━━━━━━━━━━━━\u001b[0m\u001b[37m━\u001b[0m \u001b[1m0s\u001b[0m 29ms/step - accuracy: 1.0000 - loss: 7.2002e-08\n",
      "Epoch 159: val_accuracy did not improve from 0.99259\n",
      "\u001b[1m304/304\u001b[0m \u001b[32m━━━━━━━━━━━━━━━━━━━━\u001b[0m\u001b[37m\u001b[0m \u001b[1m10s\u001b[0m 31ms/step - accuracy: 1.0000 - loss: 7.1980e-08 - val_accuracy: 0.9918 - val_loss: 0.0625\n",
      "Epoch 160/200\n",
      "\u001b[1m303/304\u001b[0m \u001b[32m━━━━━━━━━━━━━━━━━━━\u001b[0m\u001b[37m━\u001b[0m \u001b[1m0s\u001b[0m 29ms/step - accuracy: 1.0000 - loss: 6.1392e-08\n",
      "Epoch 160: val_accuracy did not improve from 0.99259\n",
      "\u001b[1m304/304\u001b[0m \u001b[32m━━━━━━━━━━━━━━━━━━━━\u001b[0m\u001b[37m\u001b[0m \u001b[1m10s\u001b[0m 31ms/step - accuracy: 1.0000 - loss: 6.1380e-08 - val_accuracy: 0.9918 - val_loss: 0.0632\n",
      "Epoch 161/200\n",
      "\u001b[1m303/304\u001b[0m \u001b[32m━━━━━━━━━━━━━━━━━━━\u001b[0m\u001b[37m━\u001b[0m \u001b[1m0s\u001b[0m 32ms/step - accuracy: 1.0000 - loss: 5.2264e-08\n",
      "Epoch 161: val_accuracy did not improve from 0.99259\n",
      "\u001b[1m304/304\u001b[0m \u001b[32m━━━━━━━━━━━━━━━━━━━━\u001b[0m\u001b[37m\u001b[0m \u001b[1m10s\u001b[0m 34ms/step - accuracy: 1.0000 - loss: 5.2252e-08 - val_accuracy: 0.9918 - val_loss: 0.0638\n",
      "Epoch 162/200\n",
      "\u001b[1m302/304\u001b[0m \u001b[32m━━━━━━━━━━━━━━━━━━━\u001b[0m\u001b[37m━\u001b[0m \u001b[1m0s\u001b[0m 30ms/step - accuracy: 1.0000 - loss: 4.4819e-08\n",
      "Epoch 162: val_accuracy did not improve from 0.99259\n",
      "\u001b[1m304/304\u001b[0m \u001b[32m━━━━━━━━━━━━━━━━━━━━\u001b[0m\u001b[37m\u001b[0m \u001b[1m10s\u001b[0m 32ms/step - accuracy: 1.0000 - loss: 4.4804e-08 - val_accuracy: 0.9918 - val_loss: 0.0645\n",
      "Best model saved at: CNN2D_results/V4_2_NOL_exp2/best_model_1.h5\n"
     ]
    },
    {
     "name": "stderr",
     "output_type": "stream",
     "text": [
      "WARNING:absl:Compiled the loaded model, but the compiled metrics have yet to be built. `model.compile_metrics` will be empty until you train or evaluate the model.\n"
     ]
    },
    {
     "name": "stdout",
     "output_type": "stream",
     "text": [
      "Best model loaded successfully!\n",
      "\u001b[1m14/76\u001b[0m \u001b[32m━━━\u001b[0m\u001b[37m━━━━━━━━━━━━━━━━━\u001b[0m \u001b[1m0s\u001b[0m 9ms/step"
     ]
    },
    {
     "name": "stderr",
     "output_type": "stream",
     "text": [
      "2025-06-04 14:38:35.621542: E tensorflow/core/framework/node_def_util.cc:680] NodeDef mentions attribute use_unbounded_threadpool which is not in the op definition: Op<name=MapDataset; signature=input_dataset:variant, other_arguments: -> handle:variant; attr=f:func; attr=Targuments:list(type),min=0; attr=output_types:list(type),min=1; attr=output_shapes:list(shape),min=1; attr=use_inter_op_parallelism:bool,default=true; attr=preserve_cardinality:bool,default=false; attr=force_synchronous:bool,default=false; attr=metadata:string,default=\"\"> This may be expected if your graph generating binary is newer  than this binary. Unknown attributes will be ignored. NodeDef: {{node ParallelMapDatasetV2/_14}}\n",
      "2025-06-04 14:38:35.622417: E tensorflow/core/framework/node_def_util.cc:680] NodeDef mentions attribute use_unbounded_threadpool which is not in the op definition: Op<name=MapDataset; signature=input_dataset:variant, other_arguments: -> handle:variant; attr=f:func; attr=Targuments:list(type),min=0; attr=output_types:list(type),min=1; attr=output_shapes:list(shape),min=1; attr=use_inter_op_parallelism:bool,default=true; attr=preserve_cardinality:bool,default=false; attr=force_synchronous:bool,default=false; attr=metadata:string,default=\"\"> This may be expected if your graph generating binary is newer  than this binary. Unknown attributes will be ignored. NodeDef: {{node ParallelMapDatasetV2/_14}}\n"
     ]
    },
    {
     "name": "stdout",
     "output_type": "stream",
     "text": [
      "\u001b[1m76/76\u001b[0m \u001b[32m━━━━━━━━━━━━━━━━━━━━\u001b[0m\u001b[37m\u001b[0m \u001b[1m1s\u001b[0m 9ms/step\n",
      "\u001b[1m304/304\u001b[0m \u001b[32m━━━━━━━━━━━━━━━━━━━━\u001b[0m\u001b[37m\u001b[0m \u001b[1m3s\u001b[0m 9ms/step - accuracy: 1.0000 - loss: 2.8569e-10\n",
      "\u001b[1m76/76\u001b[0m \u001b[32m━━━━━━━━━━━━━━━━━━━━\u001b[0m\u001b[37m\u001b[0m \u001b[1m1s\u001b[0m 9ms/step - accuracy: 0.9939 - loss: 0.0478\n",
      "\u001b[1m95/95\u001b[0m \u001b[32m━━━━━━━━━━━━━━━━━━━━\u001b[0m\u001b[37m\u001b[0m \u001b[1m1s\u001b[0m 9ms/step - accuracy: 0.9919 - loss: 0.0617\n",
      "Epoch 1/200\n"
     ]
    },
    {
     "name": "stderr",
     "output_type": "stream",
     "text": [
      "2025-06-04 14:38:41.172659: E tensorflow/core/framework/node_def_util.cc:680] NodeDef mentions attribute use_unbounded_threadpool which is not in the op definition: Op<name=MapDataset; signature=input_dataset:variant, other_arguments: -> handle:variant; attr=f:func; attr=Targuments:list(type),min=0; attr=output_types:list(type),min=1; attr=output_shapes:list(shape),min=1; attr=use_inter_op_parallelism:bool,default=true; attr=preserve_cardinality:bool,default=false; attr=force_synchronous:bool,default=false; attr=metadata:string,default=\"\"> This may be expected if your graph generating binary is newer  than this binary. Unknown attributes will be ignored. NodeDef: {{node ParallelMapDatasetV2/_15}}\n",
      "2025-06-04 14:38:41.173005: E tensorflow/core/framework/node_def_util.cc:680] NodeDef mentions attribute use_unbounded_threadpool which is not in the op definition: Op<name=MapDataset; signature=input_dataset:variant, other_arguments: -> handle:variant; attr=f:func; attr=Targuments:list(type),min=0; attr=output_types:list(type),min=1; attr=output_shapes:list(shape),min=1; attr=use_inter_op_parallelism:bool,default=true; attr=preserve_cardinality:bool,default=false; attr=force_synchronous:bool,default=false; attr=metadata:string,default=\"\"> This may be expected if your graph generating binary is newer  than this binary. Unknown attributes will be ignored. NodeDef: {{node ParallelMapDatasetV2/_15}}\n"
     ]
    },
    {
     "name": "stdout",
     "output_type": "stream",
     "text": [
      "\u001b[1m302/304\u001b[0m \u001b[32m━━━━━━━━━━━━━━━━━━━\u001b[0m\u001b[37m━\u001b[0m \u001b[1m0s\u001b[0m 30ms/step - accuracy: 0.5031 - loss: 1.2959"
     ]
    },
    {
     "name": "stderr",
     "output_type": "stream",
     "text": [
      "2025-06-04 14:38:50.856476: E tensorflow/core/framework/node_def_util.cc:680] NodeDef mentions attribute use_unbounded_threadpool which is not in the op definition: Op<name=MapDataset; signature=input_dataset:variant, other_arguments: -> handle:variant; attr=f:func; attr=Targuments:list(type),min=0; attr=output_types:list(type),min=1; attr=output_shapes:list(shape),min=1; attr=use_inter_op_parallelism:bool,default=true; attr=preserve_cardinality:bool,default=false; attr=force_synchronous:bool,default=false; attr=metadata:string,default=\"\"> This may be expected if your graph generating binary is newer  than this binary. Unknown attributes will be ignored. NodeDef: {{node ParallelMapDatasetV2/_15}}\n",
      "2025-06-04 14:38:50.856776: E tensorflow/core/framework/node_def_util.cc:680] NodeDef mentions attribute use_unbounded_threadpool which is not in the op definition: Op<name=MapDataset; signature=input_dataset:variant, other_arguments: -> handle:variant; attr=f:func; attr=Targuments:list(type),min=0; attr=output_types:list(type),min=1; attr=output_shapes:list(shape),min=1; attr=use_inter_op_parallelism:bool,default=true; attr=preserve_cardinality:bool,default=false; attr=force_synchronous:bool,default=false; attr=metadata:string,default=\"\"> This may be expected if your graph generating binary is newer  than this binary. Unknown attributes will be ignored. NodeDef: {{node ParallelMapDatasetV2/_15}}\n"
     ]
    },
    {
     "name": "stdout",
     "output_type": "stream",
     "text": [
      "\n",
      "Epoch 1: val_accuracy improved from -inf to 0.85056, saving model to CNN2D_results/V4_2_NOL_exp2/best_model_2.h5\n"
     ]
    },
    {
     "name": "stderr",
     "output_type": "stream",
     "text": [
      "WARNING:absl:You are saving your model as an HDF5 file via `model.save()` or `keras.saving.save_model(model)`. This file format is considered legacy. We recommend using instead the native Keras format, e.g. `model.save('my_model.keras')` or `keras.saving.save_model(model, 'my_model.keras')`. \n"
     ]
    },
    {
     "name": "stdout",
     "output_type": "stream",
     "text": [
      "\u001b[1m304/304\u001b[0m \u001b[32m━━━━━━━━━━━━━━━━━━━━\u001b[0m\u001b[37m\u001b[0m \u001b[1m11s\u001b[0m 33ms/step - accuracy: 0.5050 - loss: 1.2911 - val_accuracy: 0.8506 - val_loss: 0.3511\n",
      "Epoch 2/200\n",
      "\u001b[1m303/304\u001b[0m \u001b[32m━━━━━━━━━━━━━━━━━━━\u001b[0m\u001b[37m━\u001b[0m \u001b[1m0s\u001b[0m 29ms/step - accuracy: 0.8441 - loss: 0.3597\n",
      "Epoch 2: val_accuracy improved from 0.85056 to 0.87196, saving model to CNN2D_results/V4_2_NOL_exp2/best_model_2.h5\n"
     ]
    },
    {
     "name": "stderr",
     "output_type": "stream",
     "text": [
      "WARNING:absl:You are saving your model as an HDF5 file via `model.save()` or `keras.saving.save_model(model)`. This file format is considered legacy. We recommend using instead the native Keras format, e.g. `model.save('my_model.keras')` or `keras.saving.save_model(model, 'my_model.keras')`. \n"
     ]
    },
    {
     "name": "stdout",
     "output_type": "stream",
     "text": [
      "\u001b[1m304/304\u001b[0m \u001b[32m━━━━━━━━━━━━━━━━━━━━\u001b[0m\u001b[37m\u001b[0m \u001b[1m9s\u001b[0m 31ms/step - accuracy: 0.8441 - loss: 0.3596 - val_accuracy: 0.8720 - val_loss: 0.2884\n",
      "Epoch 3/200\n",
      "\u001b[1m303/304\u001b[0m \u001b[32m━━━━━━━━━━━━━━━━━━━\u001b[0m\u001b[37m━\u001b[0m \u001b[1m0s\u001b[0m 29ms/step - accuracy: 0.8731 - loss: 0.2855\n",
      "Epoch 3: val_accuracy improved from 0.87196 to 0.89090, saving model to CNN2D_results/V4_2_NOL_exp2/best_model_2.h5\n"
     ]
    },
    {
     "name": "stderr",
     "output_type": "stream",
     "text": [
      "WARNING:absl:You are saving your model as an HDF5 file via `model.save()` or `keras.saving.save_model(model)`. This file format is considered legacy. We recommend using instead the native Keras format, e.g. `model.save('my_model.keras')` or `keras.saving.save_model(model, 'my_model.keras')`. \n"
     ]
    },
    {
     "name": "stdout",
     "output_type": "stream",
     "text": [
      "\u001b[1m304/304\u001b[0m \u001b[32m━━━━━━━━━━━━━━━━━━━━\u001b[0m\u001b[37m\u001b[0m \u001b[1m9s\u001b[0m 31ms/step - accuracy: 0.8731 - loss: 0.2854 - val_accuracy: 0.8909 - val_loss: 0.2369\n",
      "Epoch 4/200\n",
      "\u001b[1m302/304\u001b[0m \u001b[32m━━━━━━━━━━━━━━━━━━━\u001b[0m\u001b[37m━\u001b[0m \u001b[1m0s\u001b[0m 30ms/step - accuracy: 0.8797 - loss: 0.2631\n",
      "Epoch 4: val_accuracy improved from 0.89090 to 0.89708, saving model to CNN2D_results/V4_2_NOL_exp2/best_model_2.h5\n"
     ]
    },
    {
     "name": "stderr",
     "output_type": "stream",
     "text": [
      "WARNING:absl:You are saving your model as an HDF5 file via `model.save()` or `keras.saving.save_model(model)`. This file format is considered legacy. We recommend using instead the native Keras format, e.g. `model.save('my_model.keras')` or `keras.saving.save_model(model, 'my_model.keras')`. \n"
     ]
    },
    {
     "name": "stdout",
     "output_type": "stream",
     "text": [
      "\u001b[1m304/304\u001b[0m \u001b[32m━━━━━━━━━━━━━━━━━━━━\u001b[0m\u001b[37m\u001b[0m \u001b[1m10s\u001b[0m 32ms/step - accuracy: 0.8797 - loss: 0.2631 - val_accuracy: 0.8971 - val_loss: 0.2377\n",
      "Epoch 5/200\n",
      "\u001b[1m302/304\u001b[0m \u001b[32m━━━━━━━━━━━━━━━━━━━\u001b[0m\u001b[37m━\u001b[0m \u001b[1m0s\u001b[0m 29ms/step - accuracy: 0.9034 - loss: 0.2172\n",
      "Epoch 5: val_accuracy improved from 0.89708 to 0.90613, saving model to CNN2D_results/V4_2_NOL_exp2/best_model_2.h5\n"
     ]
    },
    {
     "name": "stderr",
     "output_type": "stream",
     "text": [
      "WARNING:absl:You are saving your model as an HDF5 file via `model.save()` or `keras.saving.save_model(model)`. This file format is considered legacy. We recommend using instead the native Keras format, e.g. `model.save('my_model.keras')` or `keras.saving.save_model(model, 'my_model.keras')`. \n"
     ]
    },
    {
     "name": "stdout",
     "output_type": "stream",
     "text": [
      "\u001b[1m304/304\u001b[0m \u001b[32m━━━━━━━━━━━━━━━━━━━━\u001b[0m\u001b[37m\u001b[0m \u001b[1m10s\u001b[0m 32ms/step - accuracy: 0.9034 - loss: 0.2173 - val_accuracy: 0.9061 - val_loss: 0.2193\n",
      "Epoch 6/200\n",
      "\u001b[1m302/304\u001b[0m \u001b[32m━━━━━━━━━━━━━━━━━━━\u001b[0m\u001b[37m━\u001b[0m \u001b[1m0s\u001b[0m 29ms/step - accuracy: 0.9106 - loss: 0.1985\n",
      "Epoch 6: val_accuracy improved from 0.90613 to 0.92837, saving model to CNN2D_results/V4_2_NOL_exp2/best_model_2.h5\n"
     ]
    },
    {
     "name": "stderr",
     "output_type": "stream",
     "text": [
      "WARNING:absl:You are saving your model as an HDF5 file via `model.save()` or `keras.saving.save_model(model)`. This file format is considered legacy. We recommend using instead the native Keras format, e.g. `model.save('my_model.keras')` or `keras.saving.save_model(model, 'my_model.keras')`. \n"
     ]
    },
    {
     "name": "stdout",
     "output_type": "stream",
     "text": [
      "\u001b[1m304/304\u001b[0m \u001b[32m━━━━━━━━━━━━━━━━━━━━\u001b[0m\u001b[37m\u001b[0m \u001b[1m9s\u001b[0m 31ms/step - accuracy: 0.9107 - loss: 0.1985 - val_accuracy: 0.9284 - val_loss: 0.1574\n",
      "Epoch 7/200\n",
      "\u001b[1m303/304\u001b[0m \u001b[32m━━━━━━━━━━━━━━━━━━━\u001b[0m\u001b[37m━\u001b[0m \u001b[1m0s\u001b[0m 29ms/step - accuracy: 0.9293 - loss: 0.1636\n",
      "Epoch 7: val_accuracy did not improve from 0.92837\n",
      "\u001b[1m304/304\u001b[0m \u001b[32m━━━━━━━━━━━━━━━━━━━━\u001b[0m\u001b[37m\u001b[0m \u001b[1m9s\u001b[0m 31ms/step - accuracy: 0.9293 - loss: 0.1636 - val_accuracy: 0.9057 - val_loss: 0.2968\n",
      "Epoch 8/200\n",
      "\u001b[1m303/304\u001b[0m \u001b[32m━━━━━━━━━━━━━━━━━━━\u001b[0m\u001b[37m━\u001b[0m \u001b[1m0s\u001b[0m 28ms/step - accuracy: 0.9276 - loss: 0.1819\n",
      "Epoch 8: val_accuracy improved from 0.92837 to 0.93207, saving model to CNN2D_results/V4_2_NOL_exp2/best_model_2.h5\n"
     ]
    },
    {
     "name": "stderr",
     "output_type": "stream",
     "text": [
      "WARNING:absl:You are saving your model as an HDF5 file via `model.save()` or `keras.saving.save_model(model)`. This file format is considered legacy. We recommend using instead the native Keras format, e.g. `model.save('my_model.keras')` or `keras.saving.save_model(model, 'my_model.keras')`. \n"
     ]
    },
    {
     "name": "stdout",
     "output_type": "stream",
     "text": [
      "\u001b[1m304/304\u001b[0m \u001b[32m━━━━━━━━━━━━━━━━━━━━\u001b[0m\u001b[37m\u001b[0m \u001b[1m9s\u001b[0m 30ms/step - accuracy: 0.9277 - loss: 0.1818 - val_accuracy: 0.9321 - val_loss: 0.1390\n",
      "Epoch 9/200\n",
      "\u001b[1m303/304\u001b[0m \u001b[32m━━━━━━━━━━━━━━━━━━━\u001b[0m\u001b[37m━\u001b[0m \u001b[1m0s\u001b[0m 28ms/step - accuracy: 0.9536 - loss: 0.1191\n",
      "Epoch 9: val_accuracy did not improve from 0.93207\n",
      "\u001b[1m304/304\u001b[0m \u001b[32m━━━━━━━━━━━━━━━━━━━━\u001b[0m\u001b[37m\u001b[0m \u001b[1m9s\u001b[0m 30ms/step - accuracy: 0.9536 - loss: 0.1190 - val_accuracy: 0.9300 - val_loss: 0.1640\n",
      "Epoch 10/200\n",
      "\u001b[1m303/304\u001b[0m \u001b[32m━━━━━━━━━━━━━━━━━━━\u001b[0m\u001b[37m━\u001b[0m \u001b[1m0s\u001b[0m 28ms/step - accuracy: 0.9618 - loss: 0.0972\n",
      "Epoch 10: val_accuracy improved from 0.93207 to 0.93495, saving model to CNN2D_results/V4_2_NOL_exp2/best_model_2.h5\n"
     ]
    },
    {
     "name": "stderr",
     "output_type": "stream",
     "text": [
      "WARNING:absl:You are saving your model as an HDF5 file via `model.save()` or `keras.saving.save_model(model)`. This file format is considered legacy. We recommend using instead the native Keras format, e.g. `model.save('my_model.keras')` or `keras.saving.save_model(model, 'my_model.keras')`. \n"
     ]
    },
    {
     "name": "stdout",
     "output_type": "stream",
     "text": [
      "\u001b[1m304/304\u001b[0m \u001b[32m━━━━━━━━━━━━━━━━━━━━\u001b[0m\u001b[37m\u001b[0m \u001b[1m9s\u001b[0m 31ms/step - accuracy: 0.9618 - loss: 0.0972 - val_accuracy: 0.9350 - val_loss: 0.1700\n",
      "Epoch 11/200\n",
      "\u001b[1m302/304\u001b[0m \u001b[32m━━━━━━━━━━━━━━━━━━━\u001b[0m\u001b[37m━\u001b[0m \u001b[1m0s\u001b[0m 29ms/step - accuracy: 0.9678 - loss: 0.0754\n",
      "Epoch 11: val_accuracy improved from 0.93495 to 0.93536, saving model to CNN2D_results/V4_2_NOL_exp2/best_model_2.h5\n"
     ]
    },
    {
     "name": "stderr",
     "output_type": "stream",
     "text": [
      "WARNING:absl:You are saving your model as an HDF5 file via `model.save()` or `keras.saving.save_model(model)`. This file format is considered legacy. We recommend using instead the native Keras format, e.g. `model.save('my_model.keras')` or `keras.saving.save_model(model, 'my_model.keras')`. \n"
     ]
    },
    {
     "name": "stdout",
     "output_type": "stream",
     "text": [
      "\u001b[1m304/304\u001b[0m \u001b[32m━━━━━━━━━━━━━━━━━━━━\u001b[0m\u001b[37m\u001b[0m \u001b[1m9s\u001b[0m 31ms/step - accuracy: 0.9679 - loss: 0.0753 - val_accuracy: 0.9354 - val_loss: 0.1645\n",
      "Epoch 12/200\n",
      "\u001b[1m303/304\u001b[0m \u001b[32m━━━━━━━━━━━━━━━━━━━\u001b[0m\u001b[37m━\u001b[0m \u001b[1m0s\u001b[0m 29ms/step - accuracy: 0.9704 - loss: 0.0731\n",
      "Epoch 12: val_accuracy improved from 0.93536 to 0.94072, saving model to CNN2D_results/V4_2_NOL_exp2/best_model_2.h5\n"
     ]
    },
    {
     "name": "stderr",
     "output_type": "stream",
     "text": [
      "WARNING:absl:You are saving your model as an HDF5 file via `model.save()` or `keras.saving.save_model(model)`. This file format is considered legacy. We recommend using instead the native Keras format, e.g. `model.save('my_model.keras')` or `keras.saving.save_model(model, 'my_model.keras')`. \n"
     ]
    },
    {
     "name": "stdout",
     "output_type": "stream",
     "text": [
      "\u001b[1m304/304\u001b[0m \u001b[32m━━━━━━━━━━━━━━━━━━━━\u001b[0m\u001b[37m\u001b[0m \u001b[1m9s\u001b[0m 31ms/step - accuracy: 0.9704 - loss: 0.0730 - val_accuracy: 0.9407 - val_loss: 0.1577\n",
      "Epoch 13/200\n",
      "\u001b[1m303/304\u001b[0m \u001b[32m━━━━━━━━━━━━━━━━━━━\u001b[0m\u001b[37m━\u001b[0m \u001b[1m0s\u001b[0m 28ms/step - accuracy: 0.9783 - loss: 0.0547\n",
      "Epoch 13: val_accuracy improved from 0.94072 to 0.94195, saving model to CNN2D_results/V4_2_NOL_exp2/best_model_2.h5\n"
     ]
    },
    {
     "name": "stderr",
     "output_type": "stream",
     "text": [
      "WARNING:absl:You are saving your model as an HDF5 file via `model.save()` or `keras.saving.save_model(model)`. This file format is considered legacy. We recommend using instead the native Keras format, e.g. `model.save('my_model.keras')` or `keras.saving.save_model(model, 'my_model.keras')`. \n"
     ]
    },
    {
     "name": "stdout",
     "output_type": "stream",
     "text": [
      "\u001b[1m304/304\u001b[0m \u001b[32m━━━━━━━━━━━━━━━━━━━━\u001b[0m\u001b[37m\u001b[0m \u001b[1m9s\u001b[0m 30ms/step - accuracy: 0.9783 - loss: 0.0547 - val_accuracy: 0.9420 - val_loss: 0.1562\n",
      "Epoch 14/200\n",
      "\u001b[1m302/304\u001b[0m \u001b[32m━━━━━━━━━━━━━━━━━━━\u001b[0m\u001b[37m━\u001b[0m \u001b[1m0s\u001b[0m 29ms/step - accuracy: 0.9813 - loss: 0.0511\n",
      "Epoch 14: val_accuracy improved from 0.94195 to 0.96624, saving model to CNN2D_results/V4_2_NOL_exp2/best_model_2.h5\n"
     ]
    },
    {
     "name": "stderr",
     "output_type": "stream",
     "text": [
      "WARNING:absl:You are saving your model as an HDF5 file via `model.save()` or `keras.saving.save_model(model)`. This file format is considered legacy. We recommend using instead the native Keras format, e.g. `model.save('my_model.keras')` or `keras.saving.save_model(model, 'my_model.keras')`. \n"
     ]
    },
    {
     "name": "stdout",
     "output_type": "stream",
     "text": [
      "\u001b[1m304/304\u001b[0m \u001b[32m━━━━━━━━━━━━━━━━━━━━\u001b[0m\u001b[37m\u001b[0m \u001b[1m9s\u001b[0m 31ms/step - accuracy: 0.9813 - loss: 0.0513 - val_accuracy: 0.9662 - val_loss: 0.0866\n",
      "Epoch 15/200\n",
      "\u001b[1m303/304\u001b[0m \u001b[32m━━━━━━━━━━━━━━━━━━━\u001b[0m\u001b[37m━\u001b[0m \u001b[1m0s\u001b[0m 28ms/step - accuracy: 0.9856 - loss: 0.0437\n",
      "Epoch 15: val_accuracy did not improve from 0.96624\n",
      "\u001b[1m304/304\u001b[0m \u001b[32m━━━━━━━━━━━━━━━━━━━━\u001b[0m\u001b[37m\u001b[0m \u001b[1m9s\u001b[0m 30ms/step - accuracy: 0.9856 - loss: 0.0437 - val_accuracy: 0.9625 - val_loss: 0.1146\n",
      "Epoch 16/200\n",
      "\u001b[1m303/304\u001b[0m \u001b[32m━━━━━━━━━━━━━━━━━━━\u001b[0m\u001b[37m━\u001b[0m \u001b[1m0s\u001b[0m 28ms/step - accuracy: 0.9880 - loss: 0.0345\n",
      "Epoch 16: val_accuracy improved from 0.96624 to 0.97859, saving model to CNN2D_results/V4_2_NOL_exp2/best_model_2.h5\n"
     ]
    },
    {
     "name": "stderr",
     "output_type": "stream",
     "text": [
      "WARNING:absl:You are saving your model as an HDF5 file via `model.save()` or `keras.saving.save_model(model)`. This file format is considered legacy. We recommend using instead the native Keras format, e.g. `model.save('my_model.keras')` or `keras.saving.save_model(model, 'my_model.keras')`. \n"
     ]
    },
    {
     "name": "stdout",
     "output_type": "stream",
     "text": [
      "\u001b[1m304/304\u001b[0m \u001b[32m━━━━━━━━━━━━━━━━━━━━\u001b[0m\u001b[37m\u001b[0m \u001b[1m9s\u001b[0m 30ms/step - accuracy: 0.9880 - loss: 0.0345 - val_accuracy: 0.9786 - val_loss: 0.0624\n",
      "Epoch 17/200\n",
      "\u001b[1m303/304\u001b[0m \u001b[32m━━━━━━━━━━━━━━━━━━━\u001b[0m\u001b[37m━\u001b[0m \u001b[1m0s\u001b[0m 29ms/step - accuracy: 0.9858 - loss: 0.0436\n",
      "Epoch 17: val_accuracy improved from 0.97859 to 0.98147, saving model to CNN2D_results/V4_2_NOL_exp2/best_model_2.h5\n"
     ]
    },
    {
     "name": "stderr",
     "output_type": "stream",
     "text": [
      "WARNING:absl:You are saving your model as an HDF5 file via `model.save()` or `keras.saving.save_model(model)`. This file format is considered legacy. We recommend using instead the native Keras format, e.g. `model.save('my_model.keras')` or `keras.saving.save_model(model, 'my_model.keras')`. \n"
     ]
    },
    {
     "name": "stdout",
     "output_type": "stream",
     "text": [
      "\u001b[1m304/304\u001b[0m \u001b[32m━━━━━━━━━━━━━━━━━━━━\u001b[0m\u001b[37m\u001b[0m \u001b[1m9s\u001b[0m 31ms/step - accuracy: 0.9858 - loss: 0.0436 - val_accuracy: 0.9815 - val_loss: 0.0624\n",
      "Epoch 18/200\n",
      "\u001b[1m303/304\u001b[0m \u001b[32m━━━━━━━━━━━━━━━━━━━\u001b[0m\u001b[37m━\u001b[0m \u001b[1m0s\u001b[0m 29ms/step - accuracy: 0.9843 - loss: 0.0403\n",
      "Epoch 18: val_accuracy did not improve from 0.98147\n",
      "\u001b[1m304/304\u001b[0m \u001b[32m━━━━━━━━━━━━━━━━━━━━\u001b[0m\u001b[37m\u001b[0m \u001b[1m9s\u001b[0m 31ms/step - accuracy: 0.9843 - loss: 0.0403 - val_accuracy: 0.9699 - val_loss: 0.0916\n",
      "Epoch 19/200\n",
      "\u001b[1m303/304\u001b[0m \u001b[32m━━━━━━━━━━━━━━━━━━━\u001b[0m\u001b[37m━\u001b[0m \u001b[1m0s\u001b[0m 28ms/step - accuracy: 0.9843 - loss: 0.0403\n",
      "Epoch 19: val_accuracy improved from 0.98147 to 0.98806, saving model to CNN2D_results/V4_2_NOL_exp2/best_model_2.h5\n"
     ]
    },
    {
     "name": "stderr",
     "output_type": "stream",
     "text": [
      "WARNING:absl:You are saving your model as an HDF5 file via `model.save()` or `keras.saving.save_model(model)`. This file format is considered legacy. We recommend using instead the native Keras format, e.g. `model.save('my_model.keras')` or `keras.saving.save_model(model, 'my_model.keras')`. \n"
     ]
    },
    {
     "name": "stdout",
     "output_type": "stream",
     "text": [
      "\u001b[1m304/304\u001b[0m \u001b[32m━━━━━━━━━━━━━━━━━━━━\u001b[0m\u001b[37m\u001b[0m \u001b[1m9s\u001b[0m 30ms/step - accuracy: 0.9844 - loss: 0.0402 - val_accuracy: 0.9881 - val_loss: 0.0396\n",
      "Epoch 20/200\n",
      "\u001b[1m303/304\u001b[0m \u001b[32m━━━━━━━━━━━━━━━━━━━\u001b[0m\u001b[37m━\u001b[0m \u001b[1m0s\u001b[0m 30ms/step - accuracy: 0.9824 - loss: 0.0594\n",
      "Epoch 20: val_accuracy did not improve from 0.98806\n",
      "\u001b[1m304/304\u001b[0m \u001b[32m━━━━━━━━━━━━━━━━━━━━\u001b[0m\u001b[37m\u001b[0m \u001b[1m10s\u001b[0m 32ms/step - accuracy: 0.9824 - loss: 0.0594 - val_accuracy: 0.9765 - val_loss: 0.0737\n",
      "Epoch 21/200\n",
      "\u001b[1m302/304\u001b[0m \u001b[32m━━━━━━━━━━━━━━━━━━━\u001b[0m\u001b[37m━\u001b[0m \u001b[1m0s\u001b[0m 35ms/step - accuracy: 0.9948 - loss: 0.0179\n",
      "Epoch 21: val_accuracy did not improve from 0.98806\n",
      "\u001b[1m304/304\u001b[0m \u001b[32m━━━━━━━━━━━━━━━━━━━━\u001b[0m\u001b[37m\u001b[0m \u001b[1m11s\u001b[0m 37ms/step - accuracy: 0.9948 - loss: 0.0179 - val_accuracy: 0.9728 - val_loss: 0.0963\n",
      "Epoch 22/200\n",
      "\u001b[1m302/304\u001b[0m \u001b[32m━━━━━━━━━━━━━━━━━━━\u001b[0m\u001b[37m━\u001b[0m \u001b[1m0s\u001b[0m 31ms/step - accuracy: 0.9909 - loss: 0.0250\n",
      "Epoch 22: val_accuracy did not improve from 0.98806\n",
      "\u001b[1m304/304\u001b[0m \u001b[32m━━━━━━━━━━━━━━━━━━━━\u001b[0m\u001b[37m\u001b[0m \u001b[1m10s\u001b[0m 33ms/step - accuracy: 0.9909 - loss: 0.0250 - val_accuracy: 0.9852 - val_loss: 0.0443\n",
      "Epoch 23/200\n",
      "\u001b[1m303/304\u001b[0m \u001b[32m━━━━━━━━━━━━━━━━━━━\u001b[0m\u001b[37m━\u001b[0m \u001b[1m0s\u001b[0m 29ms/step - accuracy: 0.9896 - loss: 0.0336\n",
      "Epoch 23: val_accuracy did not improve from 0.98806\n",
      "\u001b[1m304/304\u001b[0m \u001b[32m━━━━━━━━━━━━━━━━━━━━\u001b[0m\u001b[37m\u001b[0m \u001b[1m9s\u001b[0m 31ms/step - accuracy: 0.9896 - loss: 0.0335 - val_accuracy: 0.9741 - val_loss: 0.0824\n",
      "Epoch 24/200\n",
      "\u001b[1m302/304\u001b[0m \u001b[32m━━━━━━━━━━━━━━━━━━━\u001b[0m\u001b[37m━\u001b[0m \u001b[1m0s\u001b[0m 30ms/step - accuracy: 0.9872 - loss: 0.0409\n",
      "Epoch 24: val_accuracy did not improve from 0.98806\n",
      "\u001b[1m304/304\u001b[0m \u001b[32m━━━━━━━━━━━━━━━━━━━━\u001b[0m\u001b[37m\u001b[0m \u001b[1m10s\u001b[0m 32ms/step - accuracy: 0.9872 - loss: 0.0409 - val_accuracy: 0.9819 - val_loss: 0.0580\n",
      "Epoch 25/200\n",
      "\u001b[1m303/304\u001b[0m \u001b[32m━━━━━━━━━━━━━━━━━━━\u001b[0m\u001b[37m━\u001b[0m \u001b[1m0s\u001b[0m 28ms/step - accuracy: 0.9938 - loss: 0.0151\n",
      "Epoch 25: val_accuracy did not improve from 0.98806\n",
      "\u001b[1m304/304\u001b[0m \u001b[32m━━━━━━━━━━━━━━━━━━━━\u001b[0m\u001b[37m\u001b[0m \u001b[1m9s\u001b[0m 30ms/step - accuracy: 0.9938 - loss: 0.0151 - val_accuracy: 0.9679 - val_loss: 0.0967\n",
      "Epoch 26/200\n",
      "\u001b[1m303/304\u001b[0m \u001b[32m━━━━━━━━━━━━━━━━━━━\u001b[0m\u001b[37m━\u001b[0m \u001b[1m0s\u001b[0m 28ms/step - accuracy: 0.9957 - loss: 0.0119\n",
      "Epoch 26: val_accuracy did not improve from 0.98806\n",
      "\u001b[1m304/304\u001b[0m \u001b[32m━━━━━━━━━━━━━━━━━━━━\u001b[0m\u001b[37m\u001b[0m \u001b[1m9s\u001b[0m 30ms/step - accuracy: 0.9957 - loss: 0.0119 - val_accuracy: 0.9823 - val_loss: 0.0629\n",
      "Epoch 27/200\n",
      "\u001b[1m302/304\u001b[0m \u001b[32m━━━━━━━━━━━━━━━━━━━\u001b[0m\u001b[37m━\u001b[0m \u001b[1m0s\u001b[0m 31ms/step - accuracy: 0.9958 - loss: 0.0107\n",
      "Epoch 27: val_accuracy improved from 0.98806 to 0.98888, saving model to CNN2D_results/V4_2_NOL_exp2/best_model_2.h5\n"
     ]
    },
    {
     "name": "stderr",
     "output_type": "stream",
     "text": [
      "WARNING:absl:You are saving your model as an HDF5 file via `model.save()` or `keras.saving.save_model(model)`. This file format is considered legacy. We recommend using instead the native Keras format, e.g. `model.save('my_model.keras')` or `keras.saving.save_model(model, 'my_model.keras')`. \n"
     ]
    },
    {
     "name": "stdout",
     "output_type": "stream",
     "text": [
      "\u001b[1m304/304\u001b[0m \u001b[32m━━━━━━━━━━━━━━━━━━━━\u001b[0m\u001b[37m\u001b[0m \u001b[1m10s\u001b[0m 33ms/step - accuracy: 0.9958 - loss: 0.0107 - val_accuracy: 0.9889 - val_loss: 0.0400\n",
      "Epoch 28/200\n",
      "\u001b[1m302/304\u001b[0m \u001b[32m━━━━━━━━━━━━━━━━━━━\u001b[0m\u001b[37m━\u001b[0m \u001b[1m0s\u001b[0m 33ms/step - accuracy: 0.9963 - loss: 0.0144\n",
      "Epoch 28: val_accuracy did not improve from 0.98888\n",
      "\u001b[1m304/304\u001b[0m \u001b[32m━━━━━━━━━━━━━━━━━━━━\u001b[0m\u001b[37m\u001b[0m \u001b[1m11s\u001b[0m 35ms/step - accuracy: 0.9963 - loss: 0.0144 - val_accuracy: 0.9753 - val_loss: 0.0844\n",
      "Epoch 29/200\n",
      "\u001b[1m303/304\u001b[0m \u001b[32m━━━━━━━━━━━━━━━━━━━\u001b[0m\u001b[37m━\u001b[0m \u001b[1m0s\u001b[0m 30ms/step - accuracy: 0.9952 - loss: 0.0154\n",
      "Epoch 29: val_accuracy did not improve from 0.98888\n",
      "\u001b[1m304/304\u001b[0m \u001b[32m━━━━━━━━━━━━━━━━━━━━\u001b[0m\u001b[37m\u001b[0m \u001b[1m10s\u001b[0m 32ms/step - accuracy: 0.9952 - loss: 0.0153 - val_accuracy: 0.9502 - val_loss: 0.2101\n",
      "Epoch 30/200\n",
      "\u001b[1m302/304\u001b[0m \u001b[32m━━━━━━━━━━━━━━━━━━━\u001b[0m\u001b[37m━\u001b[0m \u001b[1m0s\u001b[0m 29ms/step - accuracy: 0.9977 - loss: 0.0057\n",
      "Epoch 30: val_accuracy did not improve from 0.98888\n",
      "\u001b[1m304/304\u001b[0m \u001b[32m━━━━━━━━━━━━━━━━━━━━\u001b[0m\u001b[37m\u001b[0m \u001b[1m10s\u001b[0m 31ms/step - accuracy: 0.9977 - loss: 0.0057 - val_accuracy: 0.9835 - val_loss: 0.0646\n",
      "Epoch 31/200\n",
      "\u001b[1m303/304\u001b[0m \u001b[32m━━━━━━━━━━━━━━━━━━━\u001b[0m\u001b[37m━\u001b[0m \u001b[1m0s\u001b[0m 29ms/step - accuracy: 0.9942 - loss: 0.0169\n",
      "Epoch 31: val_accuracy did not improve from 0.98888\n",
      "\u001b[1m304/304\u001b[0m \u001b[32m━━━━━━━━━━━━━━━━━━━━\u001b[0m\u001b[37m\u001b[0m \u001b[1m9s\u001b[0m 31ms/step - accuracy: 0.9942 - loss: 0.0169 - val_accuracy: 0.9835 - val_loss: 0.0554\n",
      "Epoch 32/200\n",
      "\u001b[1m303/304\u001b[0m \u001b[32m━━━━━━━━━━━━━━━━━━━\u001b[0m\u001b[37m━\u001b[0m \u001b[1m0s\u001b[0m 28ms/step - accuracy: 1.0000 - loss: 3.2135e-04\n",
      "Epoch 32: val_accuracy did not improve from 0.98888\n",
      "\u001b[1m304/304\u001b[0m \u001b[32m━━━━━━━━━━━━━━━━━━━━\u001b[0m\u001b[37m\u001b[0m \u001b[1m9s\u001b[0m 30ms/step - accuracy: 1.0000 - loss: 3.2057e-04 - val_accuracy: 0.9860 - val_loss: 0.0565\n",
      "Epoch 33/200\n",
      "\u001b[1m303/304\u001b[0m \u001b[32m━━━━━━━━━━━━━━━━━━━\u001b[0m\u001b[37m━\u001b[0m \u001b[1m0s\u001b[0m 28ms/step - accuracy: 1.0000 - loss: 9.7682e-05\n",
      "Epoch 33: val_accuracy did not improve from 0.98888\n",
      "\u001b[1m304/304\u001b[0m \u001b[32m━━━━━━━━━━━━━━━━━━━━\u001b[0m\u001b[37m\u001b[0m \u001b[1m9s\u001b[0m 30ms/step - accuracy: 1.0000 - loss: 9.7477e-05 - val_accuracy: 0.9864 - val_loss: 0.0580\n",
      "Epoch 34/200\n",
      "\u001b[1m302/304\u001b[0m \u001b[32m━━━━━━━━━━━━━━━━━━━\u001b[0m\u001b[37m━\u001b[0m \u001b[1m0s\u001b[0m 29ms/step - accuracy: 1.0000 - loss: 4.7806e-05\n",
      "Epoch 34: val_accuracy did not improve from 0.98888\n",
      "\u001b[1m304/304\u001b[0m \u001b[32m━━━━━━━━━━━━━━━━━━━━\u001b[0m\u001b[37m\u001b[0m \u001b[1m9s\u001b[0m 31ms/step - accuracy: 1.0000 - loss: 4.7710e-05 - val_accuracy: 0.9864 - val_loss: 0.0602\n",
      "Epoch 35/200\n",
      "\u001b[1m303/304\u001b[0m \u001b[32m━━━━━━━━━━━━━━━━━━━\u001b[0m\u001b[37m━\u001b[0m \u001b[1m0s\u001b[0m 29ms/step - accuracy: 1.0000 - loss: 2.9618e-05\n",
      "Epoch 35: val_accuracy did not improve from 0.98888\n",
      "\u001b[1m304/304\u001b[0m \u001b[32m━━━━━━━━━━━━━━━━━━━━\u001b[0m\u001b[37m\u001b[0m \u001b[1m9s\u001b[0m 31ms/step - accuracy: 1.0000 - loss: 2.9582e-05 - val_accuracy: 0.9872 - val_loss: 0.0612\n",
      "Epoch 36/200\n",
      "\u001b[1m304/304\u001b[0m \u001b[32m━━━━━━━━━━━━━━━━━━━━\u001b[0m\u001b[37m\u001b[0m \u001b[1m0s\u001b[0m 29ms/step - accuracy: 1.0000 - loss: 2.0695e-05\n",
      "Epoch 36: val_accuracy did not improve from 0.98888\n",
      "\u001b[1m304/304\u001b[0m \u001b[32m━━━━━━━━━━━━━━━━━━━━\u001b[0m\u001b[37m\u001b[0m \u001b[1m10s\u001b[0m 31ms/step - accuracy: 1.0000 - loss: 2.0684e-05 - val_accuracy: 0.9872 - val_loss: 0.0616\n",
      "Epoch 37/200\n",
      "\u001b[1m303/304\u001b[0m \u001b[32m━━━━━━━━━━━━━━━━━━━\u001b[0m\u001b[37m━\u001b[0m \u001b[1m0s\u001b[0m 29ms/step - accuracy: 1.0000 - loss: 1.5523e-05\n",
      "Epoch 37: val_accuracy did not improve from 0.98888\n",
      "\u001b[1m304/304\u001b[0m \u001b[32m━━━━━━━━━━━━━━━━━━━━\u001b[0m\u001b[37m\u001b[0m \u001b[1m9s\u001b[0m 31ms/step - accuracy: 1.0000 - loss: 1.5508e-05 - val_accuracy: 0.9868 - val_loss: 0.0621\n",
      "Epoch 38/200\n",
      "\u001b[1m303/304\u001b[0m \u001b[32m━━━━━━━━━━━━━━━━━━━\u001b[0m\u001b[37m━\u001b[0m \u001b[1m0s\u001b[0m 28ms/step - accuracy: 1.0000 - loss: 1.2039e-05\n",
      "Epoch 38: val_accuracy did not improve from 0.98888\n",
      "\u001b[1m304/304\u001b[0m \u001b[32m━━━━━━━━━━━━━━━━━━━━\u001b[0m\u001b[37m\u001b[0m \u001b[1m9s\u001b[0m 30ms/step - accuracy: 1.0000 - loss: 1.2028e-05 - val_accuracy: 0.9868 - val_loss: 0.0624\n",
      "Epoch 39/200\n",
      "\u001b[1m303/304\u001b[0m \u001b[32m━━━━━━━━━━━━━━━━━━━\u001b[0m\u001b[37m━\u001b[0m \u001b[1m0s\u001b[0m 28ms/step - accuracy: 1.0000 - loss: 9.5424e-06\n",
      "Epoch 39: val_accuracy did not improve from 0.98888\n",
      "\u001b[1m304/304\u001b[0m \u001b[32m━━━━━━━━━━━━━━━━━━━━\u001b[0m\u001b[37m\u001b[0m \u001b[1m9s\u001b[0m 30ms/step - accuracy: 1.0000 - loss: 9.5344e-06 - val_accuracy: 0.9868 - val_loss: 0.0629\n",
      "Epoch 40/200\n",
      "\u001b[1m303/304\u001b[0m \u001b[32m━━━━━━━━━━━━━━━━━━━\u001b[0m\u001b[37m━\u001b[0m \u001b[1m0s\u001b[0m 28ms/step - accuracy: 1.0000 - loss: 7.6619e-06\n",
      "Epoch 40: val_accuracy did not improve from 0.98888\n",
      "\u001b[1m304/304\u001b[0m \u001b[32m━━━━━━━━━━━━━━━━━━━━\u001b[0m\u001b[37m\u001b[0m \u001b[1m9s\u001b[0m 30ms/step - accuracy: 1.0000 - loss: 7.6561e-06 - val_accuracy: 0.9868 - val_loss: 0.0635\n",
      "Epoch 41/200\n",
      "\u001b[1m303/304\u001b[0m \u001b[32m━━━━━━━━━━━━━━━━━━━\u001b[0m\u001b[37m━\u001b[0m \u001b[1m0s\u001b[0m 28ms/step - accuracy: 1.0000 - loss: 6.1946e-06\n",
      "Epoch 41: val_accuracy did not improve from 0.98888\n",
      "\u001b[1m304/304\u001b[0m \u001b[32m━━━━━━━━━━━━━━━━━━━━\u001b[0m\u001b[37m\u001b[0m \u001b[1m9s\u001b[0m 30ms/step - accuracy: 1.0000 - loss: 6.1903e-06 - val_accuracy: 0.9872 - val_loss: 0.0642\n",
      "Epoch 42/200\n",
      "\u001b[1m303/304\u001b[0m \u001b[32m━━━━━━━━━━━━━━━━━━━\u001b[0m\u001b[37m━\u001b[0m \u001b[1m0s\u001b[0m 28ms/step - accuracy: 1.0000 - loss: 5.0777e-06\n",
      "Epoch 42: val_accuracy did not improve from 0.98888\n",
      "\u001b[1m304/304\u001b[0m \u001b[32m━━━━━━━━━━━━━━━━━━━━\u001b[0m\u001b[37m\u001b[0m \u001b[1m9s\u001b[0m 30ms/step - accuracy: 1.0000 - loss: 5.0744e-06 - val_accuracy: 0.9872 - val_loss: 0.0649\n",
      "Epoch 43/200\n",
      "\u001b[1m302/304\u001b[0m \u001b[32m━━━━━━━━━━━━━━━━━━━\u001b[0m\u001b[37m━\u001b[0m \u001b[1m0s\u001b[0m 29ms/step - accuracy: 1.0000 - loss: 4.2030e-06\n",
      "Epoch 43: val_accuracy did not improve from 0.98888\n",
      "\u001b[1m304/304\u001b[0m \u001b[32m━━━━━━━━━━━━━━━━━━━━\u001b[0m\u001b[37m\u001b[0m \u001b[1m9s\u001b[0m 31ms/step - accuracy: 1.0000 - loss: 4.1992e-06 - val_accuracy: 0.9872 - val_loss: 0.0656\n",
      "Epoch 44/200\n",
      "\u001b[1m303/304\u001b[0m \u001b[32m━━━━━━━━━━━━━━━━━━━\u001b[0m\u001b[37m━\u001b[0m \u001b[1m0s\u001b[0m 29ms/step - accuracy: 1.0000 - loss: 3.5054e-06\n",
      "Epoch 44: val_accuracy did not improve from 0.98888\n",
      "\u001b[1m304/304\u001b[0m \u001b[32m━━━━━━━━━━━━━━━━━━━━\u001b[0m\u001b[37m\u001b[0m \u001b[1m9s\u001b[0m 31ms/step - accuracy: 1.0000 - loss: 3.5033e-06 - val_accuracy: 0.9872 - val_loss: 0.0663\n",
      "Epoch 45/200\n",
      "\u001b[1m303/304\u001b[0m \u001b[32m━━━━━━━━━━━━━━━━━━━\u001b[0m\u001b[37m━\u001b[0m \u001b[1m0s\u001b[0m 28ms/step - accuracy: 1.0000 - loss: 2.9278e-06\n",
      "Epoch 45: val_accuracy did not improve from 0.98888\n",
      "\u001b[1m304/304\u001b[0m \u001b[32m━━━━━━━━━━━━━━━━━━━━\u001b[0m\u001b[37m\u001b[0m \u001b[1m9s\u001b[0m 31ms/step - accuracy: 1.0000 - loss: 2.9262e-06 - val_accuracy: 0.9868 - val_loss: 0.0670\n",
      "Epoch 46/200\n",
      "\u001b[1m303/304\u001b[0m \u001b[32m━━━━━━━━━━━━━━━━━━━\u001b[0m\u001b[37m━\u001b[0m \u001b[1m0s\u001b[0m 34ms/step - accuracy: 1.0000 - loss: 2.4631e-06\n",
      "Epoch 46: val_accuracy did not improve from 0.98888\n",
      "\u001b[1m304/304\u001b[0m \u001b[32m━━━━━━━━━━━━━━━━━━━━\u001b[0m\u001b[37m\u001b[0m \u001b[1m11s\u001b[0m 36ms/step - accuracy: 1.0000 - loss: 2.4619e-06 - val_accuracy: 0.9872 - val_loss: 0.0677\n",
      "Epoch 47/200\n",
      "\u001b[1m303/304\u001b[0m \u001b[32m━━━━━━━━━━━━━━━━━━━\u001b[0m\u001b[37m━\u001b[0m \u001b[1m0s\u001b[0m 29ms/step - accuracy: 1.0000 - loss: 2.0742e-06\n",
      "Epoch 47: val_accuracy did not improve from 0.98888\n",
      "\u001b[1m304/304\u001b[0m \u001b[32m━━━━━━━━━━━━━━━━━━━━\u001b[0m\u001b[37m\u001b[0m \u001b[1m9s\u001b[0m 31ms/step - accuracy: 1.0000 - loss: 2.0731e-06 - val_accuracy: 0.9872 - val_loss: 0.0685\n",
      "Epoch 48/200\n",
      "\u001b[1m303/304\u001b[0m \u001b[32m━━━━━━━━━━━━━━━━━━━\u001b[0m\u001b[37m━\u001b[0m \u001b[1m0s\u001b[0m 28ms/step - accuracy: 1.0000 - loss: 1.7559e-06\n",
      "Epoch 48: val_accuracy did not improve from 0.98888\n",
      "\u001b[1m304/304\u001b[0m \u001b[32m━━━━━━━━━━━━━━━━━━━━\u001b[0m\u001b[37m\u001b[0m \u001b[1m9s\u001b[0m 30ms/step - accuracy: 1.0000 - loss: 1.7551e-06 - val_accuracy: 0.9872 - val_loss: 0.0693\n",
      "Epoch 49/200\n",
      "\u001b[1m302/304\u001b[0m \u001b[32m━━━━━━━━━━━━━━━━━━━\u001b[0m\u001b[37m━\u001b[0m \u001b[1m0s\u001b[0m 29ms/step - accuracy: 1.0000 - loss: 1.4877e-06\n",
      "Epoch 49: val_accuracy did not improve from 0.98888\n",
      "\u001b[1m304/304\u001b[0m \u001b[32m━━━━━━━━━━━━━━━━━━━━\u001b[0m\u001b[37m\u001b[0m \u001b[1m10s\u001b[0m 31ms/step - accuracy: 1.0000 - loss: 1.4866e-06 - val_accuracy: 0.9872 - val_loss: 0.0700\n",
      "Epoch 50/200\n",
      "\u001b[1m303/304\u001b[0m \u001b[32m━━━━━━━━━━━━━━━━━━━\u001b[0m\u001b[37m━\u001b[0m \u001b[1m0s\u001b[0m 29ms/step - accuracy: 1.0000 - loss: 1.2650e-06\n",
      "Epoch 50: val_accuracy did not improve from 0.98888\n",
      "\u001b[1m304/304\u001b[0m \u001b[32m━━━━━━━━━━━━━━━━━━━━\u001b[0m\u001b[37m\u001b[0m \u001b[1m9s\u001b[0m 31ms/step - accuracy: 1.0000 - loss: 1.2644e-06 - val_accuracy: 0.9876 - val_loss: 0.0707\n",
      "Epoch 51/200\n",
      "\u001b[1m303/304\u001b[0m \u001b[32m━━━━━━━━━━━━━━━━━━━\u001b[0m\u001b[37m━\u001b[0m \u001b[1m0s\u001b[0m 28ms/step - accuracy: 1.0000 - loss: 1.0747e-06\n",
      "Epoch 51: val_accuracy did not improve from 0.98888\n",
      "\u001b[1m304/304\u001b[0m \u001b[32m━━━━━━━━━━━━━━━━━━━━\u001b[0m\u001b[37m\u001b[0m \u001b[1m9s\u001b[0m 30ms/step - accuracy: 1.0000 - loss: 1.0741e-06 - val_accuracy: 0.9876 - val_loss: 0.0715\n",
      "Epoch 52/200\n",
      "\u001b[1m302/304\u001b[0m \u001b[32m━━━━━━━━━━━━━━━━━━━\u001b[0m\u001b[37m━\u001b[0m \u001b[1m0s\u001b[0m 31ms/step - accuracy: 1.0000 - loss: 9.1422e-07\n",
      "Epoch 52: val_accuracy did not improve from 0.98888\n",
      "\u001b[1m304/304\u001b[0m \u001b[32m━━━━━━━━━━━━━━━━━━━━\u001b[0m\u001b[37m\u001b[0m \u001b[1m10s\u001b[0m 33ms/step - accuracy: 1.0000 - loss: 9.1351e-07 - val_accuracy: 0.9872 - val_loss: 0.0723\n",
      "Epoch 53/200\n",
      "\u001b[1m303/304\u001b[0m \u001b[32m━━━━━━━━━━━━━━━━━━━\u001b[0m\u001b[37m━\u001b[0m \u001b[1m0s\u001b[0m 29ms/step - accuracy: 1.0000 - loss: 7.7910e-07\n",
      "Epoch 53: val_accuracy did not improve from 0.98888\n",
      "\u001b[1m304/304\u001b[0m \u001b[32m━━━━━━━━━━━━━━━━━━━━\u001b[0m\u001b[37m\u001b[0m \u001b[1m9s\u001b[0m 31ms/step - accuracy: 1.0000 - loss: 7.7868e-07 - val_accuracy: 0.9868 - val_loss: 0.0730\n",
      "Epoch 54/200\n",
      "\u001b[1m303/304\u001b[0m \u001b[32m━━━━━━━━━━━━━━━━━━━\u001b[0m\u001b[37m━\u001b[0m \u001b[1m0s\u001b[0m 28ms/step - accuracy: 1.0000 - loss: 6.6315e-07\n",
      "Epoch 54: val_accuracy did not improve from 0.98888\n",
      "\u001b[1m304/304\u001b[0m \u001b[32m━━━━━━━━━━━━━━━━━━━━\u001b[0m\u001b[37m\u001b[0m \u001b[1m9s\u001b[0m 30ms/step - accuracy: 1.0000 - loss: 6.6279e-07 - val_accuracy: 0.9868 - val_loss: 0.0737\n",
      "Epoch 55/200\n",
      "\u001b[1m303/304\u001b[0m \u001b[32m━━━━━━━━━━━━━━━━━━━\u001b[0m\u001b[37m━\u001b[0m \u001b[1m0s\u001b[0m 28ms/step - accuracy: 1.0000 - loss: 5.6383e-07\n",
      "Epoch 55: val_accuracy did not improve from 0.98888\n",
      "\u001b[1m304/304\u001b[0m \u001b[32m━━━━━━━━━━━━━━━━━━━━\u001b[0m\u001b[37m\u001b[0m \u001b[1m9s\u001b[0m 31ms/step - accuracy: 1.0000 - loss: 5.6351e-07 - val_accuracy: 0.9864 - val_loss: 0.0745\n",
      "Epoch 56/200\n",
      "\u001b[1m303/304\u001b[0m \u001b[32m━━━━━━━━━━━━━━━━━━━\u001b[0m\u001b[37m━\u001b[0m \u001b[1m0s\u001b[0m 29ms/step - accuracy: 1.0000 - loss: 4.7879e-07\n",
      "Epoch 56: val_accuracy did not improve from 0.98888\n",
      "\u001b[1m304/304\u001b[0m \u001b[32m━━━━━━━━━━━━━━━━━━━━\u001b[0m\u001b[37m\u001b[0m \u001b[1m9s\u001b[0m 31ms/step - accuracy: 1.0000 - loss: 4.7852e-07 - val_accuracy: 0.9864 - val_loss: 0.0752\n",
      "Epoch 57/200\n",
      "\u001b[1m303/304\u001b[0m \u001b[32m━━━━━━━━━━━━━━━━━━━\u001b[0m\u001b[37m━\u001b[0m \u001b[1m0s\u001b[0m 30ms/step - accuracy: 1.0000 - loss: 4.0842e-07\n",
      "Epoch 57: val_accuracy did not improve from 0.98888\n",
      "\u001b[1m304/304\u001b[0m \u001b[32m━━━━━━━━━━━━━━━━━━━━\u001b[0m\u001b[37m\u001b[0m \u001b[1m10s\u001b[0m 32ms/step - accuracy: 1.0000 - loss: 4.0818e-07 - val_accuracy: 0.9860 - val_loss: 0.0760\n",
      "Epoch 58/200\n",
      "\u001b[1m303/304\u001b[0m \u001b[32m━━━━━━━━━━━━━━━━━━━\u001b[0m\u001b[37m━\u001b[0m \u001b[1m0s\u001b[0m 29ms/step - accuracy: 1.0000 - loss: 3.4497e-07\n",
      "Epoch 58: val_accuracy did not improve from 0.98888\n",
      "\u001b[1m304/304\u001b[0m \u001b[32m━━━━━━━━━━━━━━━━━━━━\u001b[0m\u001b[37m\u001b[0m \u001b[1m9s\u001b[0m 31ms/step - accuracy: 1.0000 - loss: 3.4476e-07 - val_accuracy: 0.9860 - val_loss: 0.0766\n",
      "Epoch 59/200\n",
      "\u001b[1m303/304\u001b[0m \u001b[32m━━━━━━━━━━━━━━━━━━━\u001b[0m\u001b[37m━\u001b[0m \u001b[1m0s\u001b[0m 29ms/step - accuracy: 1.0000 - loss: 2.9042e-07\n",
      "Epoch 59: val_accuracy did not improve from 0.98888\n",
      "\u001b[1m304/304\u001b[0m \u001b[32m━━━━━━━━━━━━━━━━━━━━\u001b[0m\u001b[37m\u001b[0m \u001b[1m9s\u001b[0m 31ms/step - accuracy: 1.0000 - loss: 2.9025e-07 - val_accuracy: 0.9856 - val_loss: 0.0773\n",
      "Epoch 60/200\n",
      "\u001b[1m303/304\u001b[0m \u001b[32m━━━━━━━━━━━━━━━━━━━\u001b[0m\u001b[37m━\u001b[0m \u001b[1m0s\u001b[0m 29ms/step - accuracy: 1.0000 - loss: 2.4570e-07\n",
      "Epoch 60: val_accuracy did not improve from 0.98888\n",
      "\u001b[1m304/304\u001b[0m \u001b[32m━━━━━━━━━━━━━━━━━━━━\u001b[0m\u001b[37m\u001b[0m \u001b[1m9s\u001b[0m 31ms/step - accuracy: 1.0000 - loss: 2.4555e-07 - val_accuracy: 0.9856 - val_loss: 0.0781\n",
      "Epoch 61/200\n",
      "\u001b[1m302/304\u001b[0m \u001b[32m━━━━━━━━━━━━━━━━━━━\u001b[0m\u001b[37m━\u001b[0m \u001b[1m0s\u001b[0m 29ms/step - accuracy: 1.0000 - loss: 2.0769e-07\n",
      "Epoch 61: val_accuracy did not improve from 0.98888\n",
      "\u001b[1m304/304\u001b[0m \u001b[32m━━━━━━━━━━━━━━━━━━━━\u001b[0m\u001b[37m\u001b[0m \u001b[1m9s\u001b[0m 31ms/step - accuracy: 1.0000 - loss: 2.0751e-07 - val_accuracy: 0.9860 - val_loss: 0.0788\n",
      "Epoch 62/200\n",
      "\u001b[1m302/304\u001b[0m \u001b[32m━━━━━━━━━━━━━━━━━━━\u001b[0m\u001b[37m━\u001b[0m \u001b[1m0s\u001b[0m 29ms/step - accuracy: 1.0000 - loss: 1.7497e-07\n",
      "Epoch 62: val_accuracy did not improve from 0.98888\n",
      "\u001b[1m304/304\u001b[0m \u001b[32m━━━━━━━━━━━━━━━━━━━━\u001b[0m\u001b[37m\u001b[0m \u001b[1m10s\u001b[0m 31ms/step - accuracy: 1.0000 - loss: 1.7481e-07 - val_accuracy: 0.9860 - val_loss: 0.0795\n",
      "Epoch 63/200\n",
      "\u001b[1m303/304\u001b[0m \u001b[32m━━━━━━━━━━━━━━━━━━━\u001b[0m\u001b[37m━\u001b[0m \u001b[1m0s\u001b[0m 29ms/step - accuracy: 1.0000 - loss: 1.4781e-07\n",
      "Epoch 63: val_accuracy did not improve from 0.98888\n",
      "\u001b[1m304/304\u001b[0m \u001b[32m━━━━━━━━━━━━━━━━━━━━\u001b[0m\u001b[37m\u001b[0m \u001b[1m9s\u001b[0m 31ms/step - accuracy: 1.0000 - loss: 1.4772e-07 - val_accuracy: 0.9864 - val_loss: 0.0803\n",
      "Epoch 64/200\n",
      "\u001b[1m303/304\u001b[0m \u001b[32m━━━━━━━━━━━━━━━━━━━\u001b[0m\u001b[37m━\u001b[0m \u001b[1m0s\u001b[0m 28ms/step - accuracy: 1.0000 - loss: 1.2477e-07\n",
      "Epoch 64: val_accuracy did not improve from 0.98888\n",
      "\u001b[1m304/304\u001b[0m \u001b[32m━━━━━━━━━━━━━━━━━━━━\u001b[0m\u001b[37m\u001b[0m \u001b[1m9s\u001b[0m 30ms/step - accuracy: 1.0000 - loss: 1.2470e-07 - val_accuracy: 0.9864 - val_loss: 0.0810\n",
      "Epoch 65/200\n",
      "\u001b[1m303/304\u001b[0m \u001b[32m━━━━━━━━━━━━━━━━━━━\u001b[0m\u001b[37m━\u001b[0m \u001b[1m0s\u001b[0m 29ms/step - accuracy: 1.0000 - loss: 1.0535e-07\n",
      "Epoch 65: val_accuracy did not improve from 0.98888\n",
      "\u001b[1m304/304\u001b[0m \u001b[32m━━━━━━━━━━━━━━━━━━━━\u001b[0m\u001b[37m\u001b[0m \u001b[1m9s\u001b[0m 31ms/step - accuracy: 1.0000 - loss: 1.0529e-07 - val_accuracy: 0.9864 - val_loss: 0.0817\n",
      "Epoch 66/200\n",
      "\u001b[1m303/304\u001b[0m \u001b[32m━━━━━━━━━━━━━━━━━━━\u001b[0m\u001b[37m━\u001b[0m \u001b[1m0s\u001b[0m 29ms/step - accuracy: 1.0000 - loss: 8.9449e-08\n",
      "Epoch 66: val_accuracy did not improve from 0.98888\n",
      "\u001b[1m304/304\u001b[0m \u001b[32m━━━━━━━━━━━━━━━━━━━━\u001b[0m\u001b[37m\u001b[0m \u001b[1m9s\u001b[0m 31ms/step - accuracy: 1.0000 - loss: 8.9397e-08 - val_accuracy: 0.9864 - val_loss: 0.0824\n",
      "Epoch 67/200\n",
      "\u001b[1m302/304\u001b[0m \u001b[32m━━━━━━━━━━━━━━━━━━━\u001b[0m\u001b[37m━\u001b[0m \u001b[1m0s\u001b[0m 29ms/step - accuracy: 1.0000 - loss: 7.6176e-08\n",
      "Epoch 67: val_accuracy did not improve from 0.98888\n",
      "\u001b[1m304/304\u001b[0m \u001b[32m━━━━━━━━━━━━━━━━━━━━\u001b[0m\u001b[37m\u001b[0m \u001b[1m9s\u001b[0m 31ms/step - accuracy: 1.0000 - loss: 7.6111e-08 - val_accuracy: 0.9864 - val_loss: 0.0832\n",
      "Epoch 68/200\n",
      "\u001b[1m303/304\u001b[0m \u001b[32m━━━━━━━━━━━━━━━━━━━\u001b[0m\u001b[37m━\u001b[0m \u001b[1m0s\u001b[0m 29ms/step - accuracy: 1.0000 - loss: 6.4772e-08\n",
      "Epoch 68: val_accuracy did not improve from 0.98888\n",
      "\u001b[1m304/304\u001b[0m \u001b[32m━━━━━━━━━━━━━━━━━━━━\u001b[0m\u001b[37m\u001b[0m \u001b[1m10s\u001b[0m 31ms/step - accuracy: 1.0000 - loss: 6.4735e-08 - val_accuracy: 0.9864 - val_loss: 0.0840\n",
      "Epoch 69/200\n",
      "\u001b[1m303/304\u001b[0m \u001b[32m━━━━━━━━━━━━━━━━━━━\u001b[0m\u001b[37m━\u001b[0m \u001b[1m0s\u001b[0m 29ms/step - accuracy: 1.0000 - loss: 5.5451e-08\n",
      "Epoch 69: val_accuracy did not improve from 0.98888\n",
      "\u001b[1m304/304\u001b[0m \u001b[32m━━━━━━━━━━━━━━━━━━━━\u001b[0m\u001b[37m\u001b[0m \u001b[1m9s\u001b[0m 31ms/step - accuracy: 1.0000 - loss: 5.5418e-08 - val_accuracy: 0.9864 - val_loss: 0.0848\n",
      "Epoch 70/200\n",
      "\u001b[1m303/304\u001b[0m \u001b[32m━━━━━━━━━━━━━━━━━━━\u001b[0m\u001b[37m━\u001b[0m \u001b[1m0s\u001b[0m 28ms/step - accuracy: 1.0000 - loss: 4.6957e-08\n",
      "Epoch 70: val_accuracy did not improve from 0.98888\n",
      "\u001b[1m304/304\u001b[0m \u001b[32m━━━━━━━━━━━━━━━━━━━━\u001b[0m\u001b[37m\u001b[0m \u001b[1m9s\u001b[0m 30ms/step - accuracy: 1.0000 - loss: 4.6930e-08 - val_accuracy: 0.9868 - val_loss: 0.0855\n",
      "Epoch 71/200\n",
      "\u001b[1m303/304\u001b[0m \u001b[32m━━━━━━━━━━━━━━━━━━━\u001b[0m\u001b[37m━\u001b[0m \u001b[1m0s\u001b[0m 29ms/step - accuracy: 1.0000 - loss: 4.0242e-08\n",
      "Epoch 71: val_accuracy did not improve from 0.98888\n",
      "\u001b[1m304/304\u001b[0m \u001b[32m━━━━━━━━━━━━━━━━━━━━\u001b[0m\u001b[37m\u001b[0m \u001b[1m9s\u001b[0m 31ms/step - accuracy: 1.0000 - loss: 4.0219e-08 - val_accuracy: 0.9868 - val_loss: 0.0862\n",
      "Epoch 72/200\n",
      "\u001b[1m302/304\u001b[0m \u001b[32m━━━━━━━━━━━━━━━━━━━\u001b[0m\u001b[37m━\u001b[0m \u001b[1m0s\u001b[0m 29ms/step - accuracy: 1.0000 - loss: 3.4386e-08\n",
      "Epoch 72: val_accuracy did not improve from 0.98888\n",
      "\u001b[1m304/304\u001b[0m \u001b[32m━━━━━━━━━━━━━━━━━━━━\u001b[0m\u001b[37m\u001b[0m \u001b[1m9s\u001b[0m 31ms/step - accuracy: 1.0000 - loss: 3.4356e-08 - val_accuracy: 0.9868 - val_loss: 0.0869\n",
      "Epoch 73/200\n",
      "\u001b[1m303/304\u001b[0m \u001b[32m━━━━━━━━━━━━━━━━━━━\u001b[0m\u001b[37m━\u001b[0m \u001b[1m0s\u001b[0m 29ms/step - accuracy: 1.0000 - loss: 2.9278e-08\n",
      "Epoch 73: val_accuracy did not improve from 0.98888\n",
      "\u001b[1m304/304\u001b[0m \u001b[32m━━━━━━━━━━━━━━━━━━━━\u001b[0m\u001b[37m\u001b[0m \u001b[1m9s\u001b[0m 31ms/step - accuracy: 1.0000 - loss: 2.9261e-08 - val_accuracy: 0.9868 - val_loss: 0.0876\n",
      "Epoch 74/200\n",
      "\u001b[1m303/304\u001b[0m \u001b[32m━━━━━━━━━━━━━━━━━━━\u001b[0m\u001b[37m━\u001b[0m \u001b[1m0s\u001b[0m 28ms/step - accuracy: 1.0000 - loss: 2.5203e-08\n",
      "Epoch 74: val_accuracy did not improve from 0.98888\n",
      "\u001b[1m304/304\u001b[0m \u001b[32m━━━━━━━━━━━━━━━━━━━━\u001b[0m\u001b[37m\u001b[0m \u001b[1m9s\u001b[0m 31ms/step - accuracy: 1.0000 - loss: 2.5187e-08 - val_accuracy: 0.9868 - val_loss: 0.0883\n",
      "Epoch 75/200\n",
      "\u001b[1m303/304\u001b[0m \u001b[32m━━━━━━━━━━━━━━━━━━━\u001b[0m\u001b[37m━\u001b[0m \u001b[1m0s\u001b[0m 29ms/step - accuracy: 1.0000 - loss: 2.1541e-08\n",
      "Epoch 75: val_accuracy did not improve from 0.98888\n",
      "\u001b[1m304/304\u001b[0m \u001b[32m━━━━━━━━━━━━━━━━━━━━\u001b[0m\u001b[37m\u001b[0m \u001b[1m10s\u001b[0m 31ms/step - accuracy: 1.0000 - loss: 2.1529e-08 - val_accuracy: 0.9868 - val_loss: 0.0889\n",
      "Epoch 76/200\n",
      "\u001b[1m303/304\u001b[0m \u001b[32m━━━━━━━━━━━━━━━━━━━\u001b[0m\u001b[37m━\u001b[0m \u001b[1m0s\u001b[0m 28ms/step - accuracy: 1.0000 - loss: 1.8624e-08\n",
      "Epoch 76: val_accuracy did not improve from 0.98888\n",
      "\u001b[1m304/304\u001b[0m \u001b[32m━━━━━━━━━━━━━━━━━━━━\u001b[0m\u001b[37m\u001b[0m \u001b[1m9s\u001b[0m 30ms/step - accuracy: 1.0000 - loss: 1.8613e-08 - val_accuracy: 0.9868 - val_loss: 0.0896\n",
      "Epoch 77/200\n",
      "\u001b[1m303/304\u001b[0m \u001b[32m━━━━━━━━━━━━━━━━━━━\u001b[0m\u001b[37m━\u001b[0m \u001b[1m0s\u001b[0m 29ms/step - accuracy: 1.0000 - loss: 1.5996e-08\n",
      "Epoch 77: val_accuracy did not improve from 0.98888\n",
      "\u001b[1m304/304\u001b[0m \u001b[32m━━━━━━━━━━━━━━━━━━━━\u001b[0m\u001b[37m\u001b[0m \u001b[1m9s\u001b[0m 31ms/step - accuracy: 1.0000 - loss: 1.5986e-08 - val_accuracy: 0.9868 - val_loss: 0.0903\n"
     ]
    },
    {
     "name": "stderr",
     "output_type": "stream",
     "text": [
      "WARNING:absl:Compiled the loaded model, but the compiled metrics have yet to be built. `model.compile_metrics` will be empty until you train or evaluate the model.\n"
     ]
    },
    {
     "name": "stdout",
     "output_type": "stream",
     "text": [
      "Best model saved at: CNN2D_results/V4_2_NOL_exp2/best_model_2.h5\n",
      "Best model loaded successfully!\n",
      "\u001b[1m14/76\u001b[0m \u001b[32m━━━\u001b[0m\u001b[37m━━━━━━━━━━━━━━━━━\u001b[0m \u001b[1m0s\u001b[0m 8ms/step"
     ]
    },
    {
     "name": "stderr",
     "output_type": "stream",
     "text": [
      "2025-06-04 14:50:51.427817: E tensorflow/core/framework/node_def_util.cc:680] NodeDef mentions attribute use_unbounded_threadpool which is not in the op definition: Op<name=MapDataset; signature=input_dataset:variant, other_arguments: -> handle:variant; attr=f:func; attr=Targuments:list(type),min=0; attr=output_types:list(type),min=1; attr=output_shapes:list(shape),min=1; attr=use_inter_op_parallelism:bool,default=true; attr=preserve_cardinality:bool,default=false; attr=force_synchronous:bool,default=false; attr=metadata:string,default=\"\"> This may be expected if your graph generating binary is newer  than this binary. Unknown attributes will be ignored. NodeDef: {{node ParallelMapDatasetV2/_14}}\n",
      "2025-06-04 14:50:51.428652: E tensorflow/core/framework/node_def_util.cc:680] NodeDef mentions attribute use_unbounded_threadpool which is not in the op definition: Op<name=MapDataset; signature=input_dataset:variant, other_arguments: -> handle:variant; attr=f:func; attr=Targuments:list(type),min=0; attr=output_types:list(type),min=1; attr=output_shapes:list(shape),min=1; attr=use_inter_op_parallelism:bool,default=true; attr=preserve_cardinality:bool,default=false; attr=force_synchronous:bool,default=false; attr=metadata:string,default=\"\"> This may be expected if your graph generating binary is newer  than this binary. Unknown attributes will be ignored. NodeDef: {{node ParallelMapDatasetV2/_14}}\n"
     ]
    },
    {
     "name": "stdout",
     "output_type": "stream",
     "text": [
      "\u001b[1m76/76\u001b[0m \u001b[32m━━━━━━━━━━━━━━━━━━━━\u001b[0m\u001b[37m\u001b[0m \u001b[1m1s\u001b[0m 8ms/step\n",
      "\u001b[1m304/304\u001b[0m \u001b[32m━━━━━━━━━━━━━━━━━━━━\u001b[0m\u001b[37m\u001b[0m \u001b[1m3s\u001b[0m 8ms/step - accuracy: 0.9988 - loss: 0.0034\n",
      "\u001b[1m76/76\u001b[0m \u001b[32m━━━━━━━━━━━━━━━━━━━━\u001b[0m\u001b[37m\u001b[0m \u001b[1m1s\u001b[0m 8ms/step - accuracy: 0.9889 - loss: 0.0393\n",
      "\u001b[1m95/95\u001b[0m \u001b[32m━━━━━━━━━━━━━━━━━━━━\u001b[0m\u001b[37m\u001b[0m \u001b[1m1s\u001b[0m 8ms/step - accuracy: 0.9846 - loss: 0.0396\n",
      "Epoch 1/200\n"
     ]
    },
    {
     "name": "stderr",
     "output_type": "stream",
     "text": [
      "2025-06-04 14:50:56.656322: E tensorflow/core/framework/node_def_util.cc:680] NodeDef mentions attribute use_unbounded_threadpool which is not in the op definition: Op<name=MapDataset; signature=input_dataset:variant, other_arguments: -> handle:variant; attr=f:func; attr=Targuments:list(type),min=0; attr=output_types:list(type),min=1; attr=output_shapes:list(shape),min=1; attr=use_inter_op_parallelism:bool,default=true; attr=preserve_cardinality:bool,default=false; attr=force_synchronous:bool,default=false; attr=metadata:string,default=\"\"> This may be expected if your graph generating binary is newer  than this binary. Unknown attributes will be ignored. NodeDef: {{node ParallelMapDatasetV2/_15}}\n",
      "2025-06-04 14:50:56.656608: E tensorflow/core/framework/node_def_util.cc:680] NodeDef mentions attribute use_unbounded_threadpool which is not in the op definition: Op<name=MapDataset; signature=input_dataset:variant, other_arguments: -> handle:variant; attr=f:func; attr=Targuments:list(type),min=0; attr=output_types:list(type),min=1; attr=output_shapes:list(shape),min=1; attr=use_inter_op_parallelism:bool,default=true; attr=preserve_cardinality:bool,default=false; attr=force_synchronous:bool,default=false; attr=metadata:string,default=\"\"> This may be expected if your graph generating binary is newer  than this binary. Unknown attributes will be ignored. NodeDef: {{node ParallelMapDatasetV2/_15}}\n"
     ]
    },
    {
     "name": "stdout",
     "output_type": "stream",
     "text": [
      "\u001b[1m303/304\u001b[0m \u001b[32m━━━━━━━━━━━━━━━━━━━\u001b[0m\u001b[37m━\u001b[0m \u001b[1m0s\u001b[0m 29ms/step - accuracy: 0.4881 - loss: 1.3582"
     ]
    },
    {
     "name": "stderr",
     "output_type": "stream",
     "text": [
      "2025-06-04 14:51:07.402412: E tensorflow/core/framework/node_def_util.cc:680] NodeDef mentions attribute use_unbounded_threadpool which is not in the op definition: Op<name=MapDataset; signature=input_dataset:variant, other_arguments: -> handle:variant; attr=f:func; attr=Targuments:list(type),min=0; attr=output_types:list(type),min=1; attr=output_shapes:list(shape),min=1; attr=use_inter_op_parallelism:bool,default=true; attr=preserve_cardinality:bool,default=false; attr=force_synchronous:bool,default=false; attr=metadata:string,default=\"\"> This may be expected if your graph generating binary is newer  than this binary. Unknown attributes will be ignored. NodeDef: {{node ParallelMapDatasetV2/_15}}\n",
      "2025-06-04 14:51:07.402714: E tensorflow/core/framework/node_def_util.cc:680] NodeDef mentions attribute use_unbounded_threadpool which is not in the op definition: Op<name=MapDataset; signature=input_dataset:variant, other_arguments: -> handle:variant; attr=f:func; attr=Targuments:list(type),min=0; attr=output_types:list(type),min=1; attr=output_shapes:list(shape),min=1; attr=use_inter_op_parallelism:bool,default=true; attr=preserve_cardinality:bool,default=false; attr=force_synchronous:bool,default=false; attr=metadata:string,default=\"\"> This may be expected if your graph generating binary is newer  than this binary. Unknown attributes will be ignored. NodeDef: {{node ParallelMapDatasetV2/_15}}\n"
     ]
    },
    {
     "name": "stdout",
     "output_type": "stream",
     "text": [
      "\n",
      "Epoch 1: val_accuracy improved from -inf to 0.81103, saving model to CNN2D_results/V4_2_NOL_exp2/best_model_3.h5\n"
     ]
    },
    {
     "name": "stderr",
     "output_type": "stream",
     "text": [
      "WARNING:absl:You are saving your model as an HDF5 file via `model.save()` or `keras.saving.save_model(model)`. This file format is considered legacy. We recommend using instead the native Keras format, e.g. `model.save('my_model.keras')` or `keras.saving.save_model(model, 'my_model.keras')`. \n"
     ]
    },
    {
     "name": "stdout",
     "output_type": "stream",
     "text": [
      "\u001b[1m304/304\u001b[0m \u001b[32m━━━━━━━━━━━━━━━━━━━━\u001b[0m\u001b[37m\u001b[0m \u001b[1m11s\u001b[0m 31ms/step - accuracy: 0.4894 - loss: 1.3550 - val_accuracy: 0.8110 - val_loss: 0.4865\n",
      "Epoch 2/200\n",
      "\u001b[1m303/304\u001b[0m \u001b[32m━━━━━━━━━━━━━━━━━━━\u001b[0m\u001b[37m━\u001b[0m \u001b[1m0s\u001b[0m 29ms/step - accuracy: 0.8089 - loss: 0.4314\n",
      "Epoch 2: val_accuracy improved from 0.81103 to 0.84315, saving model to CNN2D_results/V4_2_NOL_exp2/best_model_3.h5\n"
     ]
    },
    {
     "name": "stderr",
     "output_type": "stream",
     "text": [
      "WARNING:absl:You are saving your model as an HDF5 file via `model.save()` or `keras.saving.save_model(model)`. This file format is considered legacy. We recommend using instead the native Keras format, e.g. `model.save('my_model.keras')` or `keras.saving.save_model(model, 'my_model.keras')`. \n"
     ]
    },
    {
     "name": "stdout",
     "output_type": "stream",
     "text": [
      "\u001b[1m304/304\u001b[0m \u001b[32m━━━━━━━━━━━━━━━━━━━━\u001b[0m\u001b[37m\u001b[0m \u001b[1m9s\u001b[0m 31ms/step - accuracy: 0.8091 - loss: 0.4311 - val_accuracy: 0.8431 - val_loss: 0.3806\n",
      "Epoch 3/200\n",
      "\u001b[1m302/304\u001b[0m \u001b[32m━━━━━━━━━━━━━━━━━━━\u001b[0m\u001b[37m━\u001b[0m \u001b[1m0s\u001b[0m 29ms/step - accuracy: 0.8559 - loss: 0.3127\n",
      "Epoch 3: val_accuracy did not improve from 0.84315\n",
      "\u001b[1m304/304\u001b[0m \u001b[32m━━━━━━━━━━━━━━━━━━━━\u001b[0m\u001b[37m\u001b[0m \u001b[1m9s\u001b[0m 31ms/step - accuracy: 0.8560 - loss: 0.3125 - val_accuracy: 0.8275 - val_loss: 0.4066\n",
      "Epoch 4/200\n",
      "\u001b[1m303/304\u001b[0m \u001b[32m━━━━━━━━━━━━━━━━━━━\u001b[0m\u001b[37m━\u001b[0m \u001b[1m0s\u001b[0m 28ms/step - accuracy: 0.8752 - loss: 0.2614\n",
      "Epoch 4: val_accuracy improved from 0.84315 to 0.86291, saving model to CNN2D_results/V4_2_NOL_exp2/best_model_3.h5\n"
     ]
    },
    {
     "name": "stderr",
     "output_type": "stream",
     "text": [
      "WARNING:absl:You are saving your model as an HDF5 file via `model.save()` or `keras.saving.save_model(model)`. This file format is considered legacy. We recommend using instead the native Keras format, e.g. `model.save('my_model.keras')` or `keras.saving.save_model(model, 'my_model.keras')`. \n"
     ]
    },
    {
     "name": "stdout",
     "output_type": "stream",
     "text": [
      "\u001b[1m304/304\u001b[0m \u001b[32m━━━━━━━━━━━━━━━━━━━━\u001b[0m\u001b[37m\u001b[0m \u001b[1m9s\u001b[0m 30ms/step - accuracy: 0.8752 - loss: 0.2613 - val_accuracy: 0.8629 - val_loss: 0.3255\n",
      "Epoch 5/200\n",
      "\u001b[1m302/304\u001b[0m \u001b[32m━━━━━━━━━━━━━━━━━━━\u001b[0m\u001b[37m━\u001b[0m \u001b[1m0s\u001b[0m 29ms/step - accuracy: 0.8883 - loss: 0.2336\n",
      "Epoch 5: val_accuracy improved from 0.86291 to 0.88843, saving model to CNN2D_results/V4_2_NOL_exp2/best_model_3.h5\n"
     ]
    },
    {
     "name": "stderr",
     "output_type": "stream",
     "text": [
      "WARNING:absl:You are saving your model as an HDF5 file via `model.save()` or `keras.saving.save_model(model)`. This file format is considered legacy. We recommend using instead the native Keras format, e.g. `model.save('my_model.keras')` or `keras.saving.save_model(model, 'my_model.keras')`. \n"
     ]
    },
    {
     "name": "stdout",
     "output_type": "stream",
     "text": [
      "\u001b[1m304/304\u001b[0m \u001b[32m━━━━━━━━━━━━━━━━━━━━\u001b[0m\u001b[37m\u001b[0m \u001b[1m9s\u001b[0m 31ms/step - accuracy: 0.8883 - loss: 0.2337 - val_accuracy: 0.8884 - val_loss: 0.2386\n",
      "Epoch 6/200\n",
      "\u001b[1m303/304\u001b[0m \u001b[32m━━━━━━━━━━━━━━━━━━━\u001b[0m\u001b[37m━\u001b[0m \u001b[1m0s\u001b[0m 28ms/step - accuracy: 0.9044 - loss: 0.2012\n",
      "Epoch 6: val_accuracy improved from 0.88843 to 0.91807, saving model to CNN2D_results/V4_2_NOL_exp2/best_model_3.h5\n"
     ]
    },
    {
     "name": "stderr",
     "output_type": "stream",
     "text": [
      "WARNING:absl:You are saving your model as an HDF5 file via `model.save()` or `keras.saving.save_model(model)`. This file format is considered legacy. We recommend using instead the native Keras format, e.g. `model.save('my_model.keras')` or `keras.saving.save_model(model, 'my_model.keras')`. \n"
     ]
    },
    {
     "name": "stdout",
     "output_type": "stream",
     "text": [
      "\u001b[1m304/304\u001b[0m \u001b[32m━━━━━━━━━━━━━━━━━━━━\u001b[0m\u001b[37m\u001b[0m \u001b[1m9s\u001b[0m 30ms/step - accuracy: 0.9044 - loss: 0.2011 - val_accuracy: 0.9181 - val_loss: 0.1959\n",
      "Epoch 7/200\n",
      "\u001b[1m302/304\u001b[0m \u001b[32m━━━━━━━━━━━━━━━━━━━\u001b[0m\u001b[37m━\u001b[0m \u001b[1m0s\u001b[0m 29ms/step - accuracy: 0.9144 - loss: 0.1882\n",
      "Epoch 7: val_accuracy improved from 0.91807 to 0.91848, saving model to CNN2D_results/V4_2_NOL_exp2/best_model_3.h5\n"
     ]
    },
    {
     "name": "stderr",
     "output_type": "stream",
     "text": [
      "WARNING:absl:You are saving your model as an HDF5 file via `model.save()` or `keras.saving.save_model(model)`. This file format is considered legacy. We recommend using instead the native Keras format, e.g. `model.save('my_model.keras')` or `keras.saving.save_model(model, 'my_model.keras')`. \n"
     ]
    },
    {
     "name": "stdout",
     "output_type": "stream",
     "text": [
      "\u001b[1m304/304\u001b[0m \u001b[32m━━━━━━━━━━━━━━━━━━━━\u001b[0m\u001b[37m\u001b[0m \u001b[1m9s\u001b[0m 31ms/step - accuracy: 0.9145 - loss: 0.1881 - val_accuracy: 0.9185 - val_loss: 0.2219\n",
      "Epoch 8/200\n",
      "\u001b[1m303/304\u001b[0m \u001b[32m━━━━━━━━━━━━━━━━━━━\u001b[0m\u001b[37m━\u001b[0m \u001b[1m0s\u001b[0m 28ms/step - accuracy: 0.9296 - loss: 0.1602\n",
      "Epoch 8: val_accuracy improved from 0.91848 to 0.95389, saving model to CNN2D_results/V4_2_NOL_exp2/best_model_3.h5\n"
     ]
    },
    {
     "name": "stderr",
     "output_type": "stream",
     "text": [
      "WARNING:absl:You are saving your model as an HDF5 file via `model.save()` or `keras.saving.save_model(model)`. This file format is considered legacy. We recommend using instead the native Keras format, e.g. `model.save('my_model.keras')` or `keras.saving.save_model(model, 'my_model.keras')`. \n"
     ]
    },
    {
     "name": "stdout",
     "output_type": "stream",
     "text": [
      "\u001b[1m304/304\u001b[0m \u001b[32m━━━━━━━━━━━━━━━━━━━━\u001b[0m\u001b[37m\u001b[0m \u001b[1m9s\u001b[0m 30ms/step - accuracy: 0.9297 - loss: 0.1601 - val_accuracy: 0.9539 - val_loss: 0.1224\n",
      "Epoch 9/200\n",
      "\u001b[1m303/304\u001b[0m \u001b[32m━━━━━━━━━━━━━━━━━━━\u001b[0m\u001b[37m━\u001b[0m \u001b[1m0s\u001b[0m 28ms/step - accuracy: 0.9348 - loss: 0.1510\n",
      "Epoch 9: val_accuracy improved from 0.95389 to 0.96212, saving model to CNN2D_results/V4_2_NOL_exp2/best_model_3.h5\n"
     ]
    },
    {
     "name": "stderr",
     "output_type": "stream",
     "text": [
      "WARNING:absl:You are saving your model as an HDF5 file via `model.save()` or `keras.saving.save_model(model)`. This file format is considered legacy. We recommend using instead the native Keras format, e.g. `model.save('my_model.keras')` or `keras.saving.save_model(model, 'my_model.keras')`. \n"
     ]
    },
    {
     "name": "stdout",
     "output_type": "stream",
     "text": [
      "\u001b[1m304/304\u001b[0m \u001b[32m━━━━━━━━━━━━━━━━━━━━\u001b[0m\u001b[37m\u001b[0m \u001b[1m9s\u001b[0m 30ms/step - accuracy: 0.9348 - loss: 0.1509 - val_accuracy: 0.9621 - val_loss: 0.1137\n",
      "Epoch 10/200\n",
      "\u001b[1m303/304\u001b[0m \u001b[32m━━━━━━━━━━━━━━━━━━━\u001b[0m\u001b[37m━\u001b[0m \u001b[1m0s\u001b[0m 29ms/step - accuracy: 0.9548 - loss: 0.1129\n",
      "Epoch 10: val_accuracy did not improve from 0.96212\n",
      "\u001b[1m304/304\u001b[0m \u001b[32m━━━━━━━━━━━━━━━━━━━━\u001b[0m\u001b[37m\u001b[0m \u001b[1m9s\u001b[0m 31ms/step - accuracy: 0.9549 - loss: 0.1128 - val_accuracy: 0.9555 - val_loss: 0.1176\n",
      "Epoch 11/200\n",
      "\u001b[1m303/304\u001b[0m \u001b[32m━━━━━━━━━━━━━━━━━━━\u001b[0m\u001b[37m━\u001b[0m \u001b[1m0s\u001b[0m 28ms/step - accuracy: 0.9597 - loss: 0.1080\n",
      "Epoch 11: val_accuracy did not improve from 0.96212\n",
      "\u001b[1m304/304\u001b[0m \u001b[32m━━━━━━━━━━━━━━━━━━━━\u001b[0m\u001b[37m\u001b[0m \u001b[1m9s\u001b[0m 31ms/step - accuracy: 0.9597 - loss: 0.1079 - val_accuracy: 0.9494 - val_loss: 0.1557\n",
      "Epoch 12/200\n",
      "\u001b[1m303/304\u001b[0m \u001b[32m━━━━━━━━━━━━━━━━━━━\u001b[0m\u001b[37m━\u001b[0m \u001b[1m0s\u001b[0m 29ms/step - accuracy: 0.9652 - loss: 0.0893\n",
      "Epoch 12: val_accuracy did not improve from 0.96212\n",
      "\u001b[1m304/304\u001b[0m \u001b[32m━━━━━━━━━━━━━━━━━━━━\u001b[0m\u001b[37m\u001b[0m \u001b[1m9s\u001b[0m 31ms/step - accuracy: 0.9652 - loss: 0.0893 - val_accuracy: 0.9551 - val_loss: 0.1115\n",
      "Epoch 13/200\n",
      "\u001b[1m303/304\u001b[0m \u001b[32m━━━━━━━━━━━━━━━━━━━\u001b[0m\u001b[37m━\u001b[0m \u001b[1m0s\u001b[0m 29ms/step - accuracy: 0.9821 - loss: 0.0484\n",
      "Epoch 13: val_accuracy improved from 0.96212 to 0.96995, saving model to CNN2D_results/V4_2_NOL_exp2/best_model_3.h5\n"
     ]
    },
    {
     "name": "stderr",
     "output_type": "stream",
     "text": [
      "WARNING:absl:You are saving your model as an HDF5 file via `model.save()` or `keras.saving.save_model(model)`. This file format is considered legacy. We recommend using instead the native Keras format, e.g. `model.save('my_model.keras')` or `keras.saving.save_model(model, 'my_model.keras')`. \n"
     ]
    },
    {
     "name": "stdout",
     "output_type": "stream",
     "text": [
      "\u001b[1m304/304\u001b[0m \u001b[32m━━━━━━━━━━━━━━━━━━━━\u001b[0m\u001b[37m\u001b[0m \u001b[1m9s\u001b[0m 31ms/step - accuracy: 0.9822 - loss: 0.0484 - val_accuracy: 0.9699 - val_loss: 0.0762\n",
      "Epoch 14/200\n",
      "\u001b[1m303/304\u001b[0m \u001b[32m━━━━━━━━━━━━━━━━━━━\u001b[0m\u001b[37m━\u001b[0m \u001b[1m0s\u001b[0m 29ms/step - accuracy: 0.9886 - loss: 0.0373\n",
      "Epoch 14: val_accuracy improved from 0.96995 to 0.97736, saving model to CNN2D_results/V4_2_NOL_exp2/best_model_3.h5\n"
     ]
    },
    {
     "name": "stderr",
     "output_type": "stream",
     "text": [
      "WARNING:absl:You are saving your model as an HDF5 file via `model.save()` or `keras.saving.save_model(model)`. This file format is considered legacy. We recommend using instead the native Keras format, e.g. `model.save('my_model.keras')` or `keras.saving.save_model(model, 'my_model.keras')`. \n"
     ]
    },
    {
     "name": "stdout",
     "output_type": "stream",
     "text": [
      "\u001b[1m304/304\u001b[0m \u001b[32m━━━━━━━━━━━━━━━━━━━━\u001b[0m\u001b[37m\u001b[0m \u001b[1m9s\u001b[0m 31ms/step - accuracy: 0.9886 - loss: 0.0373 - val_accuracy: 0.9774 - val_loss: 0.0754\n",
      "Epoch 15/200\n",
      "\u001b[1m302/304\u001b[0m \u001b[32m━━━━━━━━━━━━━━━━━━━\u001b[0m\u001b[37m━\u001b[0m \u001b[1m0s\u001b[0m 28ms/step - accuracy: 0.9864 - loss: 0.0430\n",
      "Epoch 15: val_accuracy did not improve from 0.97736\n",
      "\u001b[1m304/304\u001b[0m \u001b[32m━━━━━━━━━━━━━━━━━━━━\u001b[0m\u001b[37m\u001b[0m \u001b[1m9s\u001b[0m 30ms/step - accuracy: 0.9865 - loss: 0.0429 - val_accuracy: 0.9741 - val_loss: 0.0797\n",
      "Epoch 16/200\n",
      "\u001b[1m302/304\u001b[0m \u001b[32m━━━━━━━━━━━━━━━━━━━\u001b[0m\u001b[37m━\u001b[0m \u001b[1m0s\u001b[0m 29ms/step - accuracy: 0.9886 - loss: 0.0335\n",
      "Epoch 16: val_accuracy did not improve from 0.97736\n",
      "\u001b[1m304/304\u001b[0m \u001b[32m━━━━━━━━━━━━━━━━━━━━\u001b[0m\u001b[37m\u001b[0m \u001b[1m9s\u001b[0m 31ms/step - accuracy: 0.9886 - loss: 0.0336 - val_accuracy: 0.9592 - val_loss: 0.1269\n",
      "Epoch 17/200\n",
      "\u001b[1m303/304\u001b[0m \u001b[32m━━━━━━━━━━━━━━━━━━━\u001b[0m\u001b[37m━\u001b[0m \u001b[1m0s\u001b[0m 28ms/step - accuracy: 0.9791 - loss: 0.0680\n",
      "Epoch 17: val_accuracy did not improve from 0.97736\n",
      "\u001b[1m304/304\u001b[0m \u001b[32m━━━━━━━━━━━━━━━━━━━━\u001b[0m\u001b[37m\u001b[0m \u001b[1m9s\u001b[0m 30ms/step - accuracy: 0.9791 - loss: 0.0679 - val_accuracy: 0.9732 - val_loss: 0.0735\n",
      "Epoch 18/200\n",
      "\u001b[1m303/304\u001b[0m \u001b[32m━━━━━━━━━━━━━━━━━━━\u001b[0m\u001b[37m━\u001b[0m \u001b[1m0s\u001b[0m 28ms/step - accuracy: 0.9872 - loss: 0.0360\n",
      "Epoch 18: val_accuracy did not improve from 0.97736\n",
      "\u001b[1m304/304\u001b[0m \u001b[32m━━━━━━━━━━━━━━━━━━━━\u001b[0m\u001b[37m\u001b[0m \u001b[1m9s\u001b[0m 30ms/step - accuracy: 0.9872 - loss: 0.0359 - val_accuracy: 0.9720 - val_loss: 0.0878\n",
      "Epoch 19/200\n",
      "\u001b[1m303/304\u001b[0m \u001b[32m━━━━━━━━━━━━━━━━━━━\u001b[0m\u001b[37m━\u001b[0m \u001b[1m0s\u001b[0m 28ms/step - accuracy: 0.9947 - loss: 0.0171\n",
      "Epoch 19: val_accuracy did not improve from 0.97736\n",
      "\u001b[1m304/304\u001b[0m \u001b[32m━━━━━━━━━━━━━━━━━━━━\u001b[0m\u001b[37m\u001b[0m \u001b[1m9s\u001b[0m 30ms/step - accuracy: 0.9946 - loss: 0.0172 - val_accuracy: 0.9469 - val_loss: 0.1680\n",
      "Epoch 20/200\n",
      "\u001b[1m303/304\u001b[0m \u001b[32m━━━━━━━━━━━━━━━━━━━\u001b[0m\u001b[37m━\u001b[0m \u001b[1m0s\u001b[0m 28ms/step - accuracy: 0.9881 - loss: 0.0423\n",
      "Epoch 20: val_accuracy did not improve from 0.97736\n",
      "\u001b[1m304/304\u001b[0m \u001b[32m━━━━━━━━━━━━━━━━━━━━\u001b[0m\u001b[37m\u001b[0m \u001b[1m9s\u001b[0m 30ms/step - accuracy: 0.9881 - loss: 0.0424 - val_accuracy: 0.9699 - val_loss: 0.0929\n",
      "Epoch 21/200\n",
      "\u001b[1m303/304\u001b[0m \u001b[32m━━━━━━━━━━━━━━━━━━━\u001b[0m\u001b[37m━\u001b[0m \u001b[1m0s\u001b[0m 28ms/step - accuracy: 0.9949 - loss: 0.0163\n",
      "Epoch 21: val_accuracy did not improve from 0.97736\n",
      "\u001b[1m304/304\u001b[0m \u001b[32m━━━━━━━━━━━━━━━━━━━━\u001b[0m\u001b[37m\u001b[0m \u001b[1m9s\u001b[0m 30ms/step - accuracy: 0.9949 - loss: 0.0163 - val_accuracy: 0.9535 - val_loss: 0.1434\n",
      "Epoch 22/200\n",
      "\u001b[1m303/304\u001b[0m \u001b[32m━━━━━━━━━━━━━━━━━━━\u001b[0m\u001b[37m━\u001b[0m \u001b[1m0s\u001b[0m 28ms/step - accuracy: 0.9831 - loss: 0.0574\n",
      "Epoch 22: val_accuracy did not improve from 0.97736\n",
      "\u001b[1m304/304\u001b[0m \u001b[32m━━━━━━━━━━━━━━━━━━━━\u001b[0m\u001b[37m\u001b[0m \u001b[1m9s\u001b[0m 30ms/step - accuracy: 0.9831 - loss: 0.0572 - val_accuracy: 0.9761 - val_loss: 0.0636\n",
      "Epoch 23/200\n",
      "\u001b[1m303/304\u001b[0m \u001b[32m━━━━━━━━━━━━━━━━━━━\u001b[0m\u001b[37m━\u001b[0m \u001b[1m0s\u001b[0m 29ms/step - accuracy: 0.9948 - loss: 0.0159\n",
      "Epoch 23: val_accuracy did not improve from 0.97736\n",
      "\u001b[1m304/304\u001b[0m \u001b[32m━━━━━━━━━━━━━━━━━━━━\u001b[0m\u001b[37m\u001b[0m \u001b[1m9s\u001b[0m 31ms/step - accuracy: 0.9948 - loss: 0.0159 - val_accuracy: 0.9539 - val_loss: 0.1691\n",
      "Epoch 24/200\n",
      "\u001b[1m303/304\u001b[0m \u001b[32m━━━━━━━━━━━━━━━━━━━\u001b[0m\u001b[37m━\u001b[0m \u001b[1m0s\u001b[0m 28ms/step - accuracy: 0.9952 - loss: 0.0135\n",
      "Epoch 24: val_accuracy did not improve from 0.97736\n",
      "\u001b[1m304/304\u001b[0m \u001b[32m━━━━━━━━━━━━━━━━━━━━\u001b[0m\u001b[37m\u001b[0m \u001b[1m9s\u001b[0m 30ms/step - accuracy: 0.9952 - loss: 0.0135 - val_accuracy: 0.9695 - val_loss: 0.0980\n",
      "Epoch 25/200\n",
      "\u001b[1m303/304\u001b[0m \u001b[32m━━━━━━━━━━━━━━━━━━━\u001b[0m\u001b[37m━\u001b[0m \u001b[1m0s\u001b[0m 28ms/step - accuracy: 0.9960 - loss: 0.0135\n",
      "Epoch 25: val_accuracy improved from 0.97736 to 0.98518, saving model to CNN2D_results/V4_2_NOL_exp2/best_model_3.h5\n"
     ]
    },
    {
     "name": "stderr",
     "output_type": "stream",
     "text": [
      "WARNING:absl:You are saving your model as an HDF5 file via `model.save()` or `keras.saving.save_model(model)`. This file format is considered legacy. We recommend using instead the native Keras format, e.g. `model.save('my_model.keras')` or `keras.saving.save_model(model, 'my_model.keras')`. \n"
     ]
    },
    {
     "name": "stdout",
     "output_type": "stream",
     "text": [
      "\u001b[1m304/304\u001b[0m \u001b[32m━━━━━━━━━━━━━━━━━━━━\u001b[0m\u001b[37m\u001b[0m \u001b[1m9s\u001b[0m 30ms/step - accuracy: 0.9960 - loss: 0.0135 - val_accuracy: 0.9852 - val_loss: 0.0540\n",
      "Epoch 26/200\n",
      "\u001b[1m302/304\u001b[0m \u001b[32m━━━━━━━━━━━━━━━━━━━\u001b[0m\u001b[37m━\u001b[0m \u001b[1m0s\u001b[0m 28ms/step - accuracy: 0.9923 - loss: 0.0187\n",
      "Epoch 26: val_accuracy did not improve from 0.98518\n",
      "\u001b[1m304/304\u001b[0m \u001b[32m━━━━━━━━━━━━━━━━━━━━\u001b[0m\u001b[37m\u001b[0m \u001b[1m9s\u001b[0m 30ms/step - accuracy: 0.9924 - loss: 0.0187 - val_accuracy: 0.9827 - val_loss: 0.0696\n",
      "Epoch 27/200\n",
      "\u001b[1m302/304\u001b[0m \u001b[32m━━━━━━━━━━━━━━━━━━━\u001b[0m\u001b[37m━\u001b[0m \u001b[1m0s\u001b[0m 34ms/step - accuracy: 0.9978 - loss: 0.0076\n",
      "Epoch 27: val_accuracy did not improve from 0.98518\n",
      "\u001b[1m304/304\u001b[0m \u001b[32m━━━━━━━━━━━━━━━━━━━━\u001b[0m\u001b[37m\u001b[0m \u001b[1m11s\u001b[0m 37ms/step - accuracy: 0.9978 - loss: 0.0076 - val_accuracy: 0.9848 - val_loss: 0.0632\n",
      "Epoch 28/200\n",
      "\u001b[1m302/304\u001b[0m \u001b[32m━━━━━━━━━━━━━━━━━━━\u001b[0m\u001b[37m━\u001b[0m \u001b[1m0s\u001b[0m 32ms/step - accuracy: 1.0000 - loss: 8.8036e-04\n",
      "Epoch 28: val_accuracy did not improve from 0.98518\n",
      "\u001b[1m304/304\u001b[0m \u001b[32m━━━━━━━━━━━━━━━━━━━━\u001b[0m\u001b[37m\u001b[0m \u001b[1m11s\u001b[0m 35ms/step - accuracy: 1.0000 - loss: 8.7611e-04 - val_accuracy: 0.9815 - val_loss: 0.0804\n",
      "Epoch 29/200\n",
      "\u001b[1m303/304\u001b[0m \u001b[32m━━━━━━━━━━━━━━━━━━━\u001b[0m\u001b[37m━\u001b[0m \u001b[1m0s\u001b[0m 30ms/step - accuracy: 1.0000 - loss: 3.0021e-04\n",
      "Epoch 29: val_accuracy improved from 0.98518 to 0.98559, saving model to CNN2D_results/V4_2_NOL_exp2/best_model_3.h5\n"
     ]
    },
    {
     "name": "stderr",
     "output_type": "stream",
     "text": [
      "WARNING:absl:You are saving your model as an HDF5 file via `model.save()` or `keras.saving.save_model(model)`. This file format is considered legacy. We recommend using instead the native Keras format, e.g. `model.save('my_model.keras')` or `keras.saving.save_model(model, 'my_model.keras')`. \n"
     ]
    },
    {
     "name": "stdout",
     "output_type": "stream",
     "text": [
      "\u001b[1m304/304\u001b[0m \u001b[32m━━━━━━━━━━━━━━━━━━━━\u001b[0m\u001b[37m\u001b[0m \u001b[1m10s\u001b[0m 33ms/step - accuracy: 1.0000 - loss: 2.9935e-04 - val_accuracy: 0.9856 - val_loss: 0.0637\n",
      "Epoch 30/200\n",
      "\u001b[1m302/304\u001b[0m \u001b[32m━━━━━━━━━━━━━━━━━━━\u001b[0m\u001b[37m━\u001b[0m \u001b[1m0s\u001b[0m 29ms/step - accuracy: 1.0000 - loss: 1.0513e-04\n",
      "Epoch 30: val_accuracy did not improve from 0.98559\n",
      "\u001b[1m304/304\u001b[0m \u001b[32m━━━━━━━━━━━━━━━━━━━━\u001b[0m\u001b[37m\u001b[0m \u001b[1m9s\u001b[0m 31ms/step - accuracy: 1.0000 - loss: 1.0500e-04 - val_accuracy: 0.9852 - val_loss: 0.0650\n",
      "Epoch 31/200\n",
      "\u001b[1m303/304\u001b[0m \u001b[32m━━━━━━━━━━━━━━━━━━━\u001b[0m\u001b[37m━\u001b[0m \u001b[1m0s\u001b[0m 29ms/step - accuracy: 1.0000 - loss: 8.0279e-05\n",
      "Epoch 31: val_accuracy did not improve from 0.98559\n",
      "\u001b[1m304/304\u001b[0m \u001b[32m━━━━━━━━━━━━━━━━━━━━\u001b[0m\u001b[37m\u001b[0m \u001b[1m9s\u001b[0m 31ms/step - accuracy: 1.0000 - loss: 8.0237e-05 - val_accuracy: 0.9844 - val_loss: 0.0668\n",
      "Epoch 32/200\n",
      "\u001b[1m303/304\u001b[0m \u001b[32m━━━━━━━━━━━━━━━━━━━\u001b[0m\u001b[37m━\u001b[0m \u001b[1m0s\u001b[0m 29ms/step - accuracy: 1.0000 - loss: 5.0299e-05\n",
      "Epoch 32: val_accuracy did not improve from 0.98559\n",
      "\u001b[1m304/304\u001b[0m \u001b[32m━━━━━━━━━━━━━━━━━━━━\u001b[0m\u001b[37m\u001b[0m \u001b[1m9s\u001b[0m 31ms/step - accuracy: 1.0000 - loss: 5.0263e-05 - val_accuracy: 0.9844 - val_loss: 0.0688\n",
      "Epoch 33/200\n",
      "\u001b[1m303/304\u001b[0m \u001b[32m━━━━━━━━━━━━━━━━━━━\u001b[0m\u001b[37m━\u001b[0m \u001b[1m0s\u001b[0m 29ms/step - accuracy: 1.0000 - loss: 3.8295e-05\n",
      "Epoch 33: val_accuracy did not improve from 0.98559\n",
      "\u001b[1m304/304\u001b[0m \u001b[32m━━━━━━━━━━━━━━━━━━━━\u001b[0m\u001b[37m\u001b[0m \u001b[1m10s\u001b[0m 31ms/step - accuracy: 1.0000 - loss: 3.8270e-05 - val_accuracy: 0.9848 - val_loss: 0.0704\n",
      "Epoch 34/200\n",
      "\u001b[1m303/304\u001b[0m \u001b[32m━━━━━━━━━━━━━━━━━━━\u001b[0m\u001b[37m━\u001b[0m \u001b[1m0s\u001b[0m 28ms/step - accuracy: 1.0000 - loss: 2.9965e-05\n",
      "Epoch 34: val_accuracy did not improve from 0.98559\n",
      "\u001b[1m304/304\u001b[0m \u001b[32m━━━━━━━━━━━━━━━━━━━━\u001b[0m\u001b[37m\u001b[0m \u001b[1m9s\u001b[0m 30ms/step - accuracy: 1.0000 - loss: 2.9947e-05 - val_accuracy: 0.9848 - val_loss: 0.0719\n",
      "Epoch 35/200\n",
      "\u001b[1m304/304\u001b[0m \u001b[32m━━━━━━━━━━━━━━━━━━━━\u001b[0m\u001b[37m\u001b[0m \u001b[1m0s\u001b[0m 29ms/step - accuracy: 1.0000 - loss: 2.3909e-05\n",
      "Epoch 35: val_accuracy did not improve from 0.98559\n",
      "\u001b[1m304/304\u001b[0m \u001b[32m━━━━━━━━━━━━━━━━━━━━\u001b[0m\u001b[37m\u001b[0m \u001b[1m9s\u001b[0m 31ms/step - accuracy: 1.0000 - loss: 2.3901e-05 - val_accuracy: 0.9848 - val_loss: 0.0734\n",
      "Epoch 36/200\n",
      "\u001b[1m303/304\u001b[0m \u001b[32m━━━━━━━━━━━━━━━━━━━\u001b[0m\u001b[37m━\u001b[0m \u001b[1m0s\u001b[0m 28ms/step - accuracy: 1.0000 - loss: 1.9286e-05\n",
      "Epoch 36: val_accuracy did not improve from 0.98559\n",
      "\u001b[1m304/304\u001b[0m \u001b[32m━━━━━━━━━━━━━━━━━━━━\u001b[0m\u001b[37m\u001b[0m \u001b[1m9s\u001b[0m 30ms/step - accuracy: 1.0000 - loss: 1.9275e-05 - val_accuracy: 0.9848 - val_loss: 0.0747\n",
      "Epoch 37/200\n",
      "\u001b[1m303/304\u001b[0m \u001b[32m━━━━━━━━━━━━━━━━━━━\u001b[0m\u001b[37m━\u001b[0m \u001b[1m0s\u001b[0m 29ms/step - accuracy: 1.0000 - loss: 1.5660e-05\n",
      "Epoch 37: val_accuracy did not improve from 0.98559\n",
      "\u001b[1m304/304\u001b[0m \u001b[32m━━━━━━━━━━━━━━━━━━━━\u001b[0m\u001b[37m\u001b[0m \u001b[1m9s\u001b[0m 31ms/step - accuracy: 1.0000 - loss: 1.5651e-05 - val_accuracy: 0.9848 - val_loss: 0.0759\n",
      "Epoch 38/200\n",
      "\u001b[1m302/304\u001b[0m \u001b[32m━━━━━━━━━━━━━━━━━━━\u001b[0m\u001b[37m━\u001b[0m \u001b[1m0s\u001b[0m 30ms/step - accuracy: 1.0000 - loss: 1.2795e-05\n",
      "Epoch 38: val_accuracy did not improve from 0.98559\n",
      "\u001b[1m304/304\u001b[0m \u001b[32m━━━━━━━━━━━━━━━━━━━━\u001b[0m\u001b[37m\u001b[0m \u001b[1m10s\u001b[0m 32ms/step - accuracy: 1.0000 - loss: 1.2784e-05 - val_accuracy: 0.9848 - val_loss: 0.0772\n",
      "Epoch 39/200\n",
      "\u001b[1m302/304\u001b[0m \u001b[32m━━━━━━━━━━━━━━━━━━━\u001b[0m\u001b[37m━\u001b[0m \u001b[1m0s\u001b[0m 30ms/step - accuracy: 1.0000 - loss: 1.0575e-05\n",
      "Epoch 39: val_accuracy did not improve from 0.98559\n",
      "\u001b[1m304/304\u001b[0m \u001b[32m━━━━━━━━━━━━━━━━━━━━\u001b[0m\u001b[37m\u001b[0m \u001b[1m10s\u001b[0m 32ms/step - accuracy: 1.0000 - loss: 1.0566e-05 - val_accuracy: 0.9852 - val_loss: 0.0786\n",
      "Epoch 40/200\n",
      "\u001b[1m303/304\u001b[0m \u001b[32m━━━━━━━━━━━━━━━━━━━\u001b[0m\u001b[37m━\u001b[0m \u001b[1m0s\u001b[0m 29ms/step - accuracy: 1.0000 - loss: 8.7706e-06\n",
      "Epoch 40: val_accuracy did not improve from 0.98559\n",
      "\u001b[1m304/304\u001b[0m \u001b[32m━━━━━━━━━━━━━━━━━━━━\u001b[0m\u001b[37m\u001b[0m \u001b[1m9s\u001b[0m 31ms/step - accuracy: 1.0000 - loss: 8.7661e-06 - val_accuracy: 0.9852 - val_loss: 0.0799\n",
      "Epoch 41/200\n",
      "\u001b[1m302/304\u001b[0m \u001b[32m━━━━━━━━━━━━━━━━━━━\u001b[0m\u001b[37m━\u001b[0m \u001b[1m0s\u001b[0m 30ms/step - accuracy: 1.0000 - loss: 7.2921e-06\n",
      "Epoch 41: val_accuracy did not improve from 0.98559\n",
      "\u001b[1m304/304\u001b[0m \u001b[32m━━━━━━━━━━━━━━━━━━━━\u001b[0m\u001b[37m\u001b[0m \u001b[1m10s\u001b[0m 32ms/step - accuracy: 1.0000 - loss: 7.2865e-06 - val_accuracy: 0.9856 - val_loss: 0.0813\n",
      "Epoch 42/200\n",
      "\u001b[1m304/304\u001b[0m \u001b[32m━━━━━━━━━━━━━━━━━━━━\u001b[0m\u001b[37m\u001b[0m \u001b[1m0s\u001b[0m 29ms/step - accuracy: 1.0000 - loss: 6.0615e-06\n",
      "Epoch 42: val_accuracy did not improve from 0.98559\n",
      "\u001b[1m304/304\u001b[0m \u001b[32m━━━━━━━━━━━━━━━━━━━━\u001b[0m\u001b[37m\u001b[0m \u001b[1m10s\u001b[0m 31ms/step - accuracy: 1.0000 - loss: 6.0600e-06 - val_accuracy: 0.9856 - val_loss: 0.0827\n",
      "Epoch 43/200\n",
      "\u001b[1m302/304\u001b[0m \u001b[32m━━━━━━━━━━━━━━━━━━━\u001b[0m\u001b[37m━\u001b[0m \u001b[1m0s\u001b[0m 30ms/step - accuracy: 1.0000 - loss: 5.0647e-06\n",
      "Epoch 43: val_accuracy did not improve from 0.98559\n",
      "\u001b[1m304/304\u001b[0m \u001b[32m━━━━━━━━━━━━━━━━━━━━\u001b[0m\u001b[37m\u001b[0m \u001b[1m10s\u001b[0m 33ms/step - accuracy: 1.0000 - loss: 5.0608e-06 - val_accuracy: 0.9856 - val_loss: 0.0839\n",
      "Epoch 44/200\n",
      "\u001b[1m302/304\u001b[0m \u001b[32m━━━━━━━━━━━━━━━━━━━\u001b[0m\u001b[37m━\u001b[0m \u001b[1m0s\u001b[0m 31ms/step - accuracy: 1.0000 - loss: 4.2392e-06\n",
      "Epoch 44: val_accuracy did not improve from 0.98559\n",
      "\u001b[1m304/304\u001b[0m \u001b[32m━━━━━━━━━━━━━━━━━━━━\u001b[0m\u001b[37m\u001b[0m \u001b[1m10s\u001b[0m 33ms/step - accuracy: 1.0000 - loss: 4.2359e-06 - val_accuracy: 0.9856 - val_loss: 0.0853\n",
      "Epoch 45/200\n",
      "\u001b[1m302/304\u001b[0m \u001b[32m━━━━━━━━━━━━━━━━━━━\u001b[0m\u001b[37m━\u001b[0m \u001b[1m0s\u001b[0m 30ms/step - accuracy: 1.0000 - loss: 3.5569e-06\n",
      "Epoch 45: val_accuracy did not improve from 0.98559\n",
      "\u001b[1m304/304\u001b[0m \u001b[32m━━━━━━━━━━━━━━━━━━━━\u001b[0m\u001b[37m\u001b[0m \u001b[1m10s\u001b[0m 32ms/step - accuracy: 1.0000 - loss: 3.5541e-06 - val_accuracy: 0.9856 - val_loss: 0.0866\n",
      "Epoch 46/200\n",
      "\u001b[1m303/304\u001b[0m \u001b[32m━━━━━━━━━━━━━━━━━━━\u001b[0m\u001b[37m━\u001b[0m \u001b[1m0s\u001b[0m 29ms/step - accuracy: 1.0000 - loss: 2.9745e-06\n",
      "Epoch 46: val_accuracy did not improve from 0.98559\n",
      "\u001b[1m304/304\u001b[0m \u001b[32m━━━━━━━━━━━━━━━━━━━━\u001b[0m\u001b[37m\u001b[0m \u001b[1m9s\u001b[0m 31ms/step - accuracy: 1.0000 - loss: 2.9730e-06 - val_accuracy: 0.9856 - val_loss: 0.0879\n",
      "Epoch 47/200\n",
      "\u001b[1m303/304\u001b[0m \u001b[32m━━━━━━━━━━━━━━━━━━━\u001b[0m\u001b[37m━\u001b[0m \u001b[1m0s\u001b[0m 28ms/step - accuracy: 1.0000 - loss: 2.4906e-06\n",
      "Epoch 47: val_accuracy did not improve from 0.98559\n",
      "\u001b[1m304/304\u001b[0m \u001b[32m━━━━━━━━━━━━━━━━━━━━\u001b[0m\u001b[37m\u001b[0m \u001b[1m9s\u001b[0m 30ms/step - accuracy: 1.0000 - loss: 2.4893e-06 - val_accuracy: 0.9856 - val_loss: 0.0893\n",
      "Epoch 48/200\n",
      "\u001b[1m304/304\u001b[0m \u001b[32m━━━━━━━━━━━━━━━━━━━━\u001b[0m\u001b[37m\u001b[0m \u001b[1m0s\u001b[0m 29ms/step - accuracy: 1.0000 - loss: 2.0825e-06\n",
      "Epoch 48: val_accuracy did not improve from 0.98559\n",
      "\u001b[1m304/304\u001b[0m \u001b[32m━━━━━━━━━━━━━━━━━━━━\u001b[0m\u001b[37m\u001b[0m \u001b[1m10s\u001b[0m 31ms/step - accuracy: 1.0000 - loss: 2.0820e-06 - val_accuracy: 0.9856 - val_loss: 0.0907\n",
      "Epoch 49/200\n",
      "\u001b[1m303/304\u001b[0m \u001b[32m━━━━━━━━━━━━━━━━━━━\u001b[0m\u001b[37m━\u001b[0m \u001b[1m0s\u001b[0m 29ms/step - accuracy: 1.0000 - loss: 1.7488e-06\n",
      "Epoch 49: val_accuracy did not improve from 0.98559\n",
      "\u001b[1m304/304\u001b[0m \u001b[32m━━━━━━━━━━━━━━━━━━━━\u001b[0m\u001b[37m\u001b[0m \u001b[1m9s\u001b[0m 31ms/step - accuracy: 1.0000 - loss: 1.7478e-06 - val_accuracy: 0.9856 - val_loss: 0.0920\n",
      "Epoch 50/200\n",
      "\u001b[1m303/304\u001b[0m \u001b[32m━━━━━━━━━━━━━━━━━━━\u001b[0m\u001b[37m━\u001b[0m \u001b[1m0s\u001b[0m 28ms/step - accuracy: 1.0000 - loss: 1.4633e-06\n",
      "Epoch 50: val_accuracy did not improve from 0.98559\n",
      "\u001b[1m304/304\u001b[0m \u001b[32m━━━━━━━━━━━━━━━━━━━━\u001b[0m\u001b[37m\u001b[0m \u001b[1m9s\u001b[0m 31ms/step - accuracy: 1.0000 - loss: 1.4625e-06 - val_accuracy: 0.9856 - val_loss: 0.0934\n",
      "Epoch 51/200\n",
      "\u001b[1m303/304\u001b[0m \u001b[32m━━━━━━━━━━━━━━━━━━━\u001b[0m\u001b[37m━\u001b[0m \u001b[1m0s\u001b[0m 37ms/step - accuracy: 1.0000 - loss: 1.2293e-06\n",
      "Epoch 51: val_accuracy did not improve from 0.98559\n",
      "\u001b[1m304/304\u001b[0m \u001b[32m━━━━━━━━━━━━━━━━━━━━\u001b[0m\u001b[37m\u001b[0m \u001b[1m13s\u001b[0m 42ms/step - accuracy: 1.0000 - loss: 1.2286e-06 - val_accuracy: 0.9856 - val_loss: 0.0948\n",
      "Epoch 52/200\n",
      "\u001b[1m302/304\u001b[0m \u001b[32m━━━━━━━━━━━━━━━━━━━\u001b[0m\u001b[37m━\u001b[0m \u001b[1m0s\u001b[0m 29ms/step - accuracy: 1.0000 - loss: 1.0309e-06\n",
      "Epoch 52: val_accuracy did not improve from 0.98559\n",
      "\u001b[1m304/304\u001b[0m \u001b[32m━━━━━━━━━━━━━━━━━━━━\u001b[0m\u001b[37m\u001b[0m \u001b[1m10s\u001b[0m 31ms/step - accuracy: 1.0000 - loss: 1.0301e-06 - val_accuracy: 0.9856 - val_loss: 0.0962\n",
      "Epoch 53/200\n",
      "\u001b[1m303/304\u001b[0m \u001b[32m━━━━━━━━━━━━━━━━━━━\u001b[0m\u001b[37m━\u001b[0m \u001b[1m0s\u001b[0m 29ms/step - accuracy: 1.0000 - loss: 8.6316e-07\n",
      "Epoch 53: val_accuracy did not improve from 0.98559\n",
      "\u001b[1m304/304\u001b[0m \u001b[32m━━━━━━━━━━━━━━━━━━━━\u001b[0m\u001b[37m\u001b[0m \u001b[1m9s\u001b[0m 31ms/step - accuracy: 1.0000 - loss: 8.6269e-07 - val_accuracy: 0.9856 - val_loss: 0.0978\n",
      "Epoch 54/200\n",
      "\u001b[1m302/304\u001b[0m \u001b[32m━━━━━━━━━━━━━━━━━━━\u001b[0m\u001b[37m━\u001b[0m \u001b[1m0s\u001b[0m 30ms/step - accuracy: 1.0000 - loss: 7.2533e-07\n",
      "Epoch 54: val_accuracy did not improve from 0.98559\n",
      "\u001b[1m304/304\u001b[0m \u001b[32m━━━━━━━━━━━━━━━━━━━━\u001b[0m\u001b[37m\u001b[0m \u001b[1m10s\u001b[0m 32ms/step - accuracy: 1.0000 - loss: 7.2471e-07 - val_accuracy: 0.9856 - val_loss: 0.0992\n",
      "Epoch 55/200\n",
      "\u001b[1m303/304\u001b[0m \u001b[32m━━━━━━━━━━━━━━━━━━━\u001b[0m\u001b[37m━\u001b[0m \u001b[1m0s\u001b[0m 30ms/step - accuracy: 1.0000 - loss: 6.0694e-07\n",
      "Epoch 55: val_accuracy did not improve from 0.98559\n",
      "\u001b[1m304/304\u001b[0m \u001b[32m━━━━━━━━━━━━━━━━━━━━\u001b[0m\u001b[37m\u001b[0m \u001b[1m10s\u001b[0m 32ms/step - accuracy: 1.0000 - loss: 6.0659e-07 - val_accuracy: 0.9856 - val_loss: 0.1006\n",
      "Epoch 56/200\n",
      "\u001b[1m303/304\u001b[0m \u001b[32m━━━━━━━━━━━━━━━━━━━\u001b[0m\u001b[37m━\u001b[0m \u001b[1m0s\u001b[0m 30ms/step - accuracy: 1.0000 - loss: 5.0956e-07\n",
      "Epoch 56: val_accuracy did not improve from 0.98559\n",
      "\u001b[1m304/304\u001b[0m \u001b[32m━━━━━━━━━━━━━━━━━━━━\u001b[0m\u001b[37m\u001b[0m \u001b[1m10s\u001b[0m 32ms/step - accuracy: 1.0000 - loss: 5.0927e-07 - val_accuracy: 0.9856 - val_loss: 0.1022\n",
      "Epoch 57/200\n",
      "\u001b[1m304/304\u001b[0m \u001b[32m━━━━━━━━━━━━━━━━━━━━\u001b[0m\u001b[37m\u001b[0m \u001b[1m0s\u001b[0m 37ms/step - accuracy: 1.0000 - loss: 4.2810e-07\n",
      "Epoch 57: val_accuracy did not improve from 0.98559\n",
      "\u001b[1m304/304\u001b[0m \u001b[32m━━━━━━━━━━━━━━━━━━━━\u001b[0m\u001b[37m\u001b[0m \u001b[1m13s\u001b[0m 42ms/step - accuracy: 1.0000 - loss: 4.2798e-07 - val_accuracy: 0.9856 - val_loss: 0.1037\n",
      "Epoch 58/200\n",
      "\u001b[1m304/304\u001b[0m \u001b[32m━━━━━━━━━━━━━━━━━━━━\u001b[0m\u001b[37m\u001b[0m \u001b[1m0s\u001b[0m 38ms/step - accuracy: 1.0000 - loss: 3.5936e-07\n",
      "Epoch 58: val_accuracy improved from 0.98559 to 0.98600, saving model to CNN2D_results/V4_2_NOL_exp2/best_model_3.h5\n"
     ]
    },
    {
     "name": "stderr",
     "output_type": "stream",
     "text": [
      "WARNING:absl:You are saving your model as an HDF5 file via `model.save()` or `keras.saving.save_model(model)`. This file format is considered legacy. We recommend using instead the native Keras format, e.g. `model.save('my_model.keras')` or `keras.saving.save_model(model, 'my_model.keras')`. \n"
     ]
    },
    {
     "name": "stdout",
     "output_type": "stream",
     "text": [
      "\u001b[1m304/304\u001b[0m \u001b[32m━━━━━━━━━━━━━━━━━━━━\u001b[0m\u001b[37m\u001b[0m \u001b[1m12s\u001b[0m 41ms/step - accuracy: 1.0000 - loss: 3.5926e-07 - val_accuracy: 0.9860 - val_loss: 0.1051\n",
      "Epoch 59/200\n",
      "\u001b[1m303/304\u001b[0m \u001b[32m━━━━━━━━━━━━━━━━━━━\u001b[0m\u001b[37m━\u001b[0m \u001b[1m0s\u001b[0m 28ms/step - accuracy: 1.0000 - loss: 3.0382e-07\n",
      "Epoch 59: val_accuracy did not improve from 0.98600\n",
      "\u001b[1m304/304\u001b[0m \u001b[32m━━━━━━━━━━━━━━━━━━━━\u001b[0m\u001b[37m\u001b[0m \u001b[1m9s\u001b[0m 30ms/step - accuracy: 1.0000 - loss: 3.0365e-07 - val_accuracy: 0.9860 - val_loss: 0.1065\n",
      "Epoch 60/200\n",
      "\u001b[1m303/304\u001b[0m \u001b[32m━━━━━━━━━━━━━━━━━━━\u001b[0m\u001b[37m━\u001b[0m \u001b[1m0s\u001b[0m 28ms/step - accuracy: 1.0000 - loss: 2.5468e-07\n",
      "Epoch 60: val_accuracy did not improve from 0.98600\n",
      "\u001b[1m304/304\u001b[0m \u001b[32m━━━━━━━━━━━━━━━━━━━━\u001b[0m\u001b[37m\u001b[0m \u001b[1m9s\u001b[0m 30ms/step - accuracy: 1.0000 - loss: 2.5454e-07 - val_accuracy: 0.9860 - val_loss: 0.1080\n",
      "Epoch 61/200\n",
      "\u001b[1m303/304\u001b[0m \u001b[32m━━━━━━━━━━━━━━━━━━━\u001b[0m\u001b[37m━\u001b[0m \u001b[1m0s\u001b[0m 28ms/step - accuracy: 1.0000 - loss: 2.1459e-07\n",
      "Epoch 61: val_accuracy did not improve from 0.98600\n",
      "\u001b[1m304/304\u001b[0m \u001b[32m━━━━━━━━━━━━━━━━━━━━\u001b[0m\u001b[37m\u001b[0m \u001b[1m9s\u001b[0m 30ms/step - accuracy: 1.0000 - loss: 2.1447e-07 - val_accuracy: 0.9860 - val_loss: 0.1094\n",
      "Epoch 62/200\n",
      "\u001b[1m302/304\u001b[0m \u001b[32m━━━━━━━━━━━━━━━━━━━\u001b[0m\u001b[37m━\u001b[0m \u001b[1m0s\u001b[0m 29ms/step - accuracy: 1.0000 - loss: 1.8115e-07\n",
      "Epoch 62: val_accuracy did not improve from 0.98600\n",
      "\u001b[1m304/304\u001b[0m \u001b[32m━━━━━━━━━━━━━━━━━━━━\u001b[0m\u001b[37m\u001b[0m \u001b[1m9s\u001b[0m 31ms/step - accuracy: 1.0000 - loss: 1.8100e-07 - val_accuracy: 0.9860 - val_loss: 0.1107\n",
      "Epoch 63/200\n",
      "\u001b[1m302/304\u001b[0m \u001b[32m━━━━━━━━━━━━━━━━━━━\u001b[0m\u001b[37m━\u001b[0m \u001b[1m0s\u001b[0m 33ms/step - accuracy: 1.0000 - loss: 1.5313e-07\n",
      "Epoch 63: val_accuracy did not improve from 0.98600\n",
      "\u001b[1m304/304\u001b[0m \u001b[32m━━━━━━━━━━━━━━━━━━━━\u001b[0m\u001b[37m\u001b[0m \u001b[1m11s\u001b[0m 35ms/step - accuracy: 1.0000 - loss: 1.5301e-07 - val_accuracy: 0.9860 - val_loss: 0.1122\n",
      "Epoch 64/200\n",
      "\u001b[1m303/304\u001b[0m \u001b[32m━━━━━━━━━━━━━━━━━━━\u001b[0m\u001b[37m━\u001b[0m \u001b[1m0s\u001b[0m 29ms/step - accuracy: 1.0000 - loss: 1.2952e-07\n",
      "Epoch 64: val_accuracy did not improve from 0.98600\n",
      "\u001b[1m304/304\u001b[0m \u001b[32m━━━━━━━━━━━━━━━━━━━━\u001b[0m\u001b[37m\u001b[0m \u001b[1m9s\u001b[0m 31ms/step - accuracy: 1.0000 - loss: 1.2944e-07 - val_accuracy: 0.9860 - val_loss: 0.1136\n",
      "Epoch 65/200\n",
      "\u001b[1m303/304\u001b[0m \u001b[32m━━━━━━━━━━━━━━━━━━━\u001b[0m\u001b[37m━\u001b[0m \u001b[1m0s\u001b[0m 30ms/step - accuracy: 1.0000 - loss: 1.0919e-07\n",
      "Epoch 65: val_accuracy did not improve from 0.98600\n",
      "\u001b[1m304/304\u001b[0m \u001b[32m━━━━━━━━━━━━━━━━━━━━\u001b[0m\u001b[37m\u001b[0m \u001b[1m10s\u001b[0m 32ms/step - accuracy: 1.0000 - loss: 1.0913e-07 - val_accuracy: 0.9860 - val_loss: 0.1150\n",
      "Epoch 66/200\n",
      "\u001b[1m304/304\u001b[0m \u001b[32m━━━━━━━━━━━━━━━━━━━━\u001b[0m\u001b[37m\u001b[0m \u001b[1m0s\u001b[0m 30ms/step - accuracy: 1.0000 - loss: 9.2319e-08\n",
      "Epoch 66: val_accuracy did not improve from 0.98600\n",
      "\u001b[1m304/304\u001b[0m \u001b[32m━━━━━━━━━━━━━━━━━━━━\u001b[0m\u001b[37m\u001b[0m \u001b[1m10s\u001b[0m 32ms/step - accuracy: 1.0000 - loss: 9.2292e-08 - val_accuracy: 0.9860 - val_loss: 0.1164\n",
      "Epoch 67/200\n",
      "\u001b[1m302/304\u001b[0m \u001b[32m━━━━━━━━━━━━━━━━━━━\u001b[0m\u001b[37m━\u001b[0m \u001b[1m0s\u001b[0m 38ms/step - accuracy: 1.0000 - loss: 7.7797e-08\n",
      "Epoch 67: val_accuracy did not improve from 0.98600\n",
      "\u001b[1m304/304\u001b[0m \u001b[32m━━━━━━━━━━━━━━━━━━━━\u001b[0m\u001b[37m\u001b[0m \u001b[1m12s\u001b[0m 40ms/step - accuracy: 1.0000 - loss: 7.7731e-08 - val_accuracy: 0.9860 - val_loss: 0.1177\n",
      "Epoch 68/200\n",
      "\u001b[1m303/304\u001b[0m \u001b[32m━━━━━━━━━━━━━━━━━━━\u001b[0m\u001b[37m━\u001b[0m \u001b[1m0s\u001b[0m 33ms/step - accuracy: 1.0000 - loss: 6.6271e-08\n",
      "Epoch 68: val_accuracy did not improve from 0.98600\n",
      "\u001b[1m304/304\u001b[0m \u001b[32m━━━━━━━━━━━━━━━━━━━━\u001b[0m\u001b[37m\u001b[0m \u001b[1m11s\u001b[0m 36ms/step - accuracy: 1.0000 - loss: 6.6232e-08 - val_accuracy: 0.9860 - val_loss: 0.1191\n",
      "Epoch 69/200\n",
      "\u001b[1m303/304\u001b[0m \u001b[32m━━━━━━━━━━━━━━━━━━━\u001b[0m\u001b[37m━\u001b[0m \u001b[1m0s\u001b[0m 30ms/step - accuracy: 1.0000 - loss: 5.5863e-08\n",
      "Epoch 69: val_accuracy did not improve from 0.98600\n",
      "\u001b[1m304/304\u001b[0m \u001b[32m━━━━━━━━━━━━━━━━━━━━\u001b[0m\u001b[37m\u001b[0m \u001b[1m10s\u001b[0m 33ms/step - accuracy: 1.0000 - loss: 5.5831e-08 - val_accuracy: 0.9860 - val_loss: 0.1204\n",
      "Epoch 70/200\n",
      "\u001b[1m302/304\u001b[0m \u001b[32m━━━━━━━━━━━━━━━━━━━\u001b[0m\u001b[37m━\u001b[0m \u001b[1m0s\u001b[0m 31ms/step - accuracy: 1.0000 - loss: 4.7569e-08\n",
      "Epoch 70: val_accuracy did not improve from 0.98600\n",
      "\u001b[1m304/304\u001b[0m \u001b[32m━━━━━━━━━━━━━━━━━━━━\u001b[0m\u001b[37m\u001b[0m \u001b[1m10s\u001b[0m 33ms/step - accuracy: 1.0000 - loss: 4.7527e-08 - val_accuracy: 0.9860 - val_loss: 0.1219\n",
      "Epoch 71/200\n",
      "\u001b[1m303/304\u001b[0m \u001b[32m━━━━━━━━━━━━━━━━━━━\u001b[0m\u001b[37m━\u001b[0m \u001b[1m0s\u001b[0m 31ms/step - accuracy: 1.0000 - loss: 4.0293e-08\n",
      "Epoch 71: val_accuracy did not improve from 0.98600\n",
      "\u001b[1m304/304\u001b[0m \u001b[32m━━━━━━━━━━━━━━━━━━━━\u001b[0m\u001b[37m\u001b[0m \u001b[1m10s\u001b[0m 33ms/step - accuracy: 1.0000 - loss: 4.0269e-08 - val_accuracy: 0.9860 - val_loss: 0.1231\n",
      "Epoch 72/200\n",
      "\u001b[1m303/304\u001b[0m \u001b[32m━━━━━━━━━━━━━━━━━━━\u001b[0m\u001b[37m━\u001b[0m \u001b[1m0s\u001b[0m 29ms/step - accuracy: 1.0000 - loss: 3.3878e-08\n",
      "Epoch 72: val_accuracy did not improve from 0.98600\n",
      "\u001b[1m304/304\u001b[0m \u001b[32m━━━━━━━━━━━━━━━━━━━━\u001b[0m\u001b[37m\u001b[0m \u001b[1m9s\u001b[0m 31ms/step - accuracy: 1.0000 - loss: 3.3858e-08 - val_accuracy: 0.9860 - val_loss: 0.1244\n",
      "Epoch 73/200\n",
      "\u001b[1m303/304\u001b[0m \u001b[32m━━━━━━━━━━━━━━━━━━━\u001b[0m\u001b[37m━\u001b[0m \u001b[1m0s\u001b[0m 31ms/step - accuracy: 1.0000 - loss: 2.8654e-08\n",
      "Epoch 73: val_accuracy did not improve from 0.98600\n",
      "\u001b[1m304/304\u001b[0m \u001b[32m━━━━━━━━━━━━━━━━━━━━\u001b[0m\u001b[37m\u001b[0m \u001b[1m10s\u001b[0m 33ms/step - accuracy: 1.0000 - loss: 2.8638e-08 - val_accuracy: 0.9856 - val_loss: 0.1258\n",
      "Epoch 74/200\n",
      "\u001b[1m304/304\u001b[0m \u001b[32m━━━━━━━━━━━━━━━━━━━━\u001b[0m\u001b[37m\u001b[0m \u001b[1m0s\u001b[0m 30ms/step - accuracy: 1.0000 - loss: 2.4543e-08\n",
      "Epoch 74: val_accuracy did not improve from 0.98600\n",
      "\u001b[1m304/304\u001b[0m \u001b[32m━━━━━━━━━━━━━━━━━━━━\u001b[0m\u001b[37m\u001b[0m \u001b[1m10s\u001b[0m 34ms/step - accuracy: 1.0000 - loss: 2.4536e-08 - val_accuracy: 0.9856 - val_loss: 0.1270\n",
      "Epoch 75/200\n",
      "\u001b[1m303/304\u001b[0m \u001b[32m━━━━━━━━━━━━━━━━━━━\u001b[0m\u001b[37m━\u001b[0m \u001b[1m0s\u001b[0m 33ms/step - accuracy: 1.0000 - loss: 2.0882e-08\n",
      "Epoch 75: val_accuracy did not improve from 0.98600\n",
      "\u001b[1m304/304\u001b[0m \u001b[32m━━━━━━━━━━━━━━━━━━━━\u001b[0m\u001b[37m\u001b[0m \u001b[1m11s\u001b[0m 35ms/step - accuracy: 1.0000 - loss: 2.0871e-08 - val_accuracy: 0.9856 - val_loss: 0.1283\n",
      "Epoch 76/200\n",
      "\u001b[1m303/304\u001b[0m \u001b[32m━━━━━━━━━━━━━━━━━━━\u001b[0m\u001b[37m━\u001b[0m \u001b[1m0s\u001b[0m 32ms/step - accuracy: 1.0000 - loss: 1.7768e-08\n",
      "Epoch 76: val_accuracy did not improve from 0.98600\n",
      "\u001b[1m304/304\u001b[0m \u001b[32m━━━━━━━━━━━━━━━━━━━━\u001b[0m\u001b[37m\u001b[0m \u001b[1m11s\u001b[0m 34ms/step - accuracy: 1.0000 - loss: 1.7759e-08 - val_accuracy: 0.9856 - val_loss: 0.1296\n",
      "Epoch 77/200\n",
      "\u001b[1m303/304\u001b[0m \u001b[32m━━━━━━━━━━━━━━━━━━━\u001b[0m\u001b[37m━\u001b[0m \u001b[1m0s\u001b[0m 34ms/step - accuracy: 1.0000 - loss: 1.5115e-08\n",
      "Epoch 77: val_accuracy did not improve from 0.98600\n",
      "\u001b[1m304/304\u001b[0m \u001b[32m━━━━━━━━━━━━━━━━━━━━\u001b[0m\u001b[37m\u001b[0m \u001b[1m11s\u001b[0m 36ms/step - accuracy: 1.0000 - loss: 1.5106e-08 - val_accuracy: 0.9856 - val_loss: 0.1309\n",
      "Epoch 78/200\n",
      "\u001b[1m303/304\u001b[0m \u001b[32m━━━━━━━━━━━━━━━━━━━\u001b[0m\u001b[37m━\u001b[0m \u001b[1m0s\u001b[0m 29ms/step - accuracy: 1.0000 - loss: 1.2950e-08\n",
      "Epoch 78: val_accuracy did not improve from 0.98600\n",
      "\u001b[1m304/304\u001b[0m \u001b[32m━━━━━━━━━━━━━━━━━━━━\u001b[0m\u001b[37m\u001b[0m \u001b[1m9s\u001b[0m 31ms/step - accuracy: 1.0000 - loss: 1.2942e-08 - val_accuracy: 0.9852 - val_loss: 0.1322\n",
      "Epoch 79/200\n",
      "\u001b[1m303/304\u001b[0m \u001b[32m━━━━━━━━━━━━━━━━━━━\u001b[0m\u001b[37m━\u001b[0m \u001b[1m0s\u001b[0m 29ms/step - accuracy: 1.0000 - loss: 1.0789e-08\n",
      "Epoch 79: val_accuracy did not improve from 0.98600\n",
      "\u001b[1m304/304\u001b[0m \u001b[32m━━━━━━━━━━━━━━━━━━━━\u001b[0m\u001b[37m\u001b[0m \u001b[1m9s\u001b[0m 31ms/step - accuracy: 1.0000 - loss: 1.0783e-08 - val_accuracy: 0.9852 - val_loss: 0.1334\n",
      "Epoch 80/200\n",
      "\u001b[1m303/304\u001b[0m \u001b[32m━━━━━━━━━━━━━━━━━━━\u001b[0m\u001b[37m━\u001b[0m \u001b[1m0s\u001b[0m 29ms/step - accuracy: 1.0000 - loss: 9.4069e-09\n",
      "Epoch 80: val_accuracy did not improve from 0.98600\n",
      "\u001b[1m304/304\u001b[0m \u001b[32m━━━━━━━━━━━━━━━━━━━━\u001b[0m\u001b[37m\u001b[0m \u001b[1m9s\u001b[0m 31ms/step - accuracy: 1.0000 - loss: 9.4017e-09 - val_accuracy: 0.9852 - val_loss: 0.1345\n",
      "Epoch 81/200\n",
      "\u001b[1m303/304\u001b[0m \u001b[32m━━━━━━━━━━━━━━━━━━━\u001b[0m\u001b[37m━\u001b[0m \u001b[1m0s\u001b[0m 29ms/step - accuracy: 1.0000 - loss: 7.9665e-09\n",
      "Epoch 81: val_accuracy did not improve from 0.98600\n",
      "\u001b[1m304/304\u001b[0m \u001b[32m━━━━━━━━━━━━━━━━━━━━\u001b[0m\u001b[37m\u001b[0m \u001b[1m9s\u001b[0m 31ms/step - accuracy: 1.0000 - loss: 7.9629e-09 - val_accuracy: 0.9852 - val_loss: 0.1354\n",
      "Epoch 82/200\n",
      "\u001b[1m303/304\u001b[0m \u001b[32m━━━━━━━━━━━━━━━━━━━\u001b[0m\u001b[37m━\u001b[0m \u001b[1m0s\u001b[0m 31ms/step - accuracy: 1.0000 - loss: 6.8625e-09\n",
      "Epoch 82: val_accuracy did not improve from 0.98600\n",
      "\u001b[1m304/304\u001b[0m \u001b[32m━━━━━━━━━━━━━━━━━━━━\u001b[0m\u001b[37m\u001b[0m \u001b[1m10s\u001b[0m 33ms/step - accuracy: 1.0000 - loss: 6.8593e-09 - val_accuracy: 0.9852 - val_loss: 0.1367\n",
      "Epoch 83/200\n",
      "\u001b[1m303/304\u001b[0m \u001b[32m━━━━━━━━━━━━━━━━━━━\u001b[0m\u001b[37m━\u001b[0m \u001b[1m0s\u001b[0m 30ms/step - accuracy: 1.0000 - loss: 5.6881e-09\n",
      "Epoch 83: val_accuracy did not improve from 0.98600\n",
      "\u001b[1m304/304\u001b[0m \u001b[32m━━━━━━━━━━━━━━━━━━━━\u001b[0m\u001b[37m\u001b[0m \u001b[1m10s\u001b[0m 32ms/step - accuracy: 1.0000 - loss: 5.6861e-09 - val_accuracy: 0.9852 - val_loss: 0.1377\n",
      "Epoch 84/200\n",
      "\u001b[1m303/304\u001b[0m \u001b[32m━━━━━━━━━━━━━━━━━━━\u001b[0m\u001b[37m━\u001b[0m \u001b[1m0s\u001b[0m 29ms/step - accuracy: 1.0000 - loss: 5.0894e-09\n",
      "Epoch 84: val_accuracy did not improve from 0.98600\n",
      "\u001b[1m304/304\u001b[0m \u001b[32m━━━━━━━━━━━━━━━━━━━━\u001b[0m\u001b[37m\u001b[0m \u001b[1m10s\u001b[0m 31ms/step - accuracy: 1.0000 - loss: 5.0870e-09 - val_accuracy: 0.9852 - val_loss: 0.1387\n",
      "Epoch 85/200\n",
      "\u001b[1m303/304\u001b[0m \u001b[32m━━━━━━━━━━━━━━━━━━━\u001b[0m\u001b[37m━\u001b[0m \u001b[1m0s\u001b[0m 29ms/step - accuracy: 1.0000 - loss: 4.2273e-09\n",
      "Epoch 85: val_accuracy did not improve from 0.98600\n",
      "\u001b[1m304/304\u001b[0m \u001b[32m━━━━━━━━━━━━━━━━━━━━\u001b[0m\u001b[37m\u001b[0m \u001b[1m10s\u001b[0m 31ms/step - accuracy: 1.0000 - loss: 4.2257e-09 - val_accuracy: 0.9852 - val_loss: 0.1396\n",
      "Epoch 86/200\n",
      "\u001b[1m303/304\u001b[0m \u001b[32m━━━━━━━━━━━━━━━━━━━\u001b[0m\u001b[37m━\u001b[0m \u001b[1m0s\u001b[0m 29ms/step - accuracy: 1.0000 - loss: 3.6478e-09\n",
      "Epoch 86: val_accuracy did not improve from 0.98600\n",
      "\u001b[1m304/304\u001b[0m \u001b[32m━━━━━━━━━━━━━━━━━━━━\u001b[0m\u001b[37m\u001b[0m \u001b[1m10s\u001b[0m 31ms/step - accuracy: 1.0000 - loss: 3.6460e-09 - val_accuracy: 0.9852 - val_loss: 0.1404\n",
      "Epoch 87/200\n",
      "\u001b[1m303/304\u001b[0m \u001b[32m━━━━━━━━━━━━━━━━━━━\u001b[0m\u001b[37m━\u001b[0m \u001b[1m0s\u001b[0m 29ms/step - accuracy: 1.0000 - loss: 3.1204e-09\n",
      "Epoch 87: val_accuracy did not improve from 0.98600\n",
      "\u001b[1m304/304\u001b[0m \u001b[32m━━━━━━━━━━━━━━━━━━━━\u001b[0m\u001b[37m\u001b[0m \u001b[1m9s\u001b[0m 31ms/step - accuracy: 1.0000 - loss: 3.1188e-09 - val_accuracy: 0.9852 - val_loss: 0.1411\n",
      "Epoch 88/200\n",
      "\u001b[1m304/304\u001b[0m \u001b[32m━━━━━━━━━━━━━━━━━━━━\u001b[0m\u001b[37m\u001b[0m \u001b[1m0s\u001b[0m 33ms/step - accuracy: 1.0000 - loss: 2.8473e-09\n",
      "Epoch 88: val_accuracy did not improve from 0.98600\n",
      "\u001b[1m304/304\u001b[0m \u001b[32m━━━━━━━━━━━━━━━━━━━━\u001b[0m\u001b[37m\u001b[0m \u001b[1m11s\u001b[0m 35ms/step - accuracy: 1.0000 - loss: 2.8466e-09 - val_accuracy: 0.9852 - val_loss: 0.1420\n",
      "Epoch 89/200\n",
      "\u001b[1m304/304\u001b[0m \u001b[32m━━━━━━━━━━━━━━━━━━━━\u001b[0m\u001b[37m\u001b[0m \u001b[1m0s\u001b[0m 647ms/step - accuracy: 1.0000 - loss: 2.3409e-09\n",
      "Epoch 89: val_accuracy did not improve from 0.98600\n",
      "\u001b[1m304/304\u001b[0m \u001b[32m━━━━━━━━━━━━━━━━━━━━\u001b[0m\u001b[37m\u001b[0m \u001b[1m200s\u001b[0m 660ms/step - accuracy: 1.0000 - loss: 2.3407e-09 - val_accuracy: 0.9852 - val_loss: 0.1429\n",
      "Epoch 90/200\n",
      "\u001b[1m302/304\u001b[0m \u001b[32m━━━━━━━━━━━━━━━━━━━\u001b[0m\u001b[37m━\u001b[0m \u001b[1m0s\u001b[0m 40ms/step - accuracy: 1.0000 - loss: 1.9913e-09\n",
      "Epoch 90: val_accuracy did not improve from 0.98600\n",
      "\u001b[1m304/304\u001b[0m \u001b[32m━━━━━━━━━━━━━━━━━━━━\u001b[0m\u001b[37m\u001b[0m \u001b[1m13s\u001b[0m 43ms/step - accuracy: 1.0000 - loss: 1.9912e-09 - val_accuracy: 0.9852 - val_loss: 0.1440\n",
      "Epoch 91/200\n",
      "\u001b[1m303/304\u001b[0m \u001b[32m━━━━━━━━━━━━━━━━━━━\u001b[0m\u001b[37m━\u001b[0m \u001b[1m0s\u001b[0m 32ms/step - accuracy: 1.0000 - loss: 1.6228e-09\n",
      "Epoch 91: val_accuracy did not improve from 0.98600\n",
      "\u001b[1m304/304\u001b[0m \u001b[32m━━━━━━━━━━━━━━━━━━━━\u001b[0m\u001b[37m\u001b[0m \u001b[1m11s\u001b[0m 35ms/step - accuracy: 1.0000 - loss: 1.6226e-09 - val_accuracy: 0.9856 - val_loss: 0.1442\n",
      "Epoch 92/200\n",
      "\u001b[1m303/304\u001b[0m \u001b[32m━━━━━━━━━━━━━━━━━━━\u001b[0m\u001b[37m━\u001b[0m \u001b[1m0s\u001b[0m 30ms/step - accuracy: 1.0000 - loss: 1.5015e-09\n",
      "Epoch 92: val_accuracy did not improve from 0.98600\n",
      "\u001b[1m304/304\u001b[0m \u001b[32m━━━━━━━━━━━━━━━━━━━━\u001b[0m\u001b[37m\u001b[0m \u001b[1m10s\u001b[0m 32ms/step - accuracy: 1.0000 - loss: 1.5010e-09 - val_accuracy: 0.9856 - val_loss: 0.1447\n",
      "Epoch 93/200\n",
      "\u001b[1m304/304\u001b[0m \u001b[32m━━━━━━━━━━━━━━━━━━━━\u001b[0m\u001b[37m\u001b[0m \u001b[1m0s\u001b[0m 75ms/step - accuracy: 1.0000 - loss: 1.3223e-09\n",
      "Epoch 93: val_accuracy did not improve from 0.98600\n",
      "\u001b[1m304/304\u001b[0m \u001b[32m━━━━━━━━━━━━━━━━━━━━\u001b[0m\u001b[37m\u001b[0m \u001b[1m24s\u001b[0m 78ms/step - accuracy: 1.0000 - loss: 1.3220e-09 - val_accuracy: 0.9860 - val_loss: 0.1449\n",
      "Epoch 94/200\n",
      "\u001b[1m302/304\u001b[0m \u001b[32m━━━━━━━━━━━━━━━━━━━\u001b[0m\u001b[37m━\u001b[0m \u001b[1m0s\u001b[0m 31ms/step - accuracy: 1.0000 - loss: 1.1612e-09\n",
      "Epoch 94: val_accuracy improved from 0.98600 to 0.98641, saving model to CNN2D_results/V4_2_NOL_exp2/best_model_3.h5\n"
     ]
    },
    {
     "name": "stderr",
     "output_type": "stream",
     "text": [
      "WARNING:absl:You are saving your model as an HDF5 file via `model.save()` or `keras.saving.save_model(model)`. This file format is considered legacy. We recommend using instead the native Keras format, e.g. `model.save('my_model.keras')` or `keras.saving.save_model(model, 'my_model.keras')`. \n"
     ]
    },
    {
     "name": "stdout",
     "output_type": "stream",
     "text": [
      "\u001b[1m304/304\u001b[0m \u001b[32m━━━━━━━━━━━━━━━━━━━━\u001b[0m\u001b[37m\u001b[0m \u001b[1m10s\u001b[0m 33ms/step - accuracy: 1.0000 - loss: 1.1598e-09 - val_accuracy: 0.9864 - val_loss: 0.1446\n",
      "Epoch 95/200\n",
      "\u001b[1m302/304\u001b[0m \u001b[32m━━━━━━━━━━━━━━━━━━━\u001b[0m\u001b[37m━\u001b[0m \u001b[1m0s\u001b[0m 28ms/step - accuracy: 1.0000 - loss: 1.0541e-09\n",
      "Epoch 95: val_accuracy did not improve from 0.98641\n",
      "\u001b[1m304/304\u001b[0m \u001b[32m━━━━━━━━━━━━━━━━━━━━\u001b[0m\u001b[37m\u001b[0m \u001b[1m9s\u001b[0m 30ms/step - accuracy: 1.0000 - loss: 1.0529e-09 - val_accuracy: 0.9864 - val_loss: 0.1446\n",
      "Epoch 96/200\n",
      "\u001b[1m303/304\u001b[0m \u001b[32m━━━━━━━━━━━━━━━━━━━\u001b[0m\u001b[37m━\u001b[0m \u001b[1m1s\u001b[0m 2s/step - accuracy: 1.0000 - loss: 7.7640e-10\n",
      "Epoch 96: val_accuracy did not improve from 0.98641\n",
      "\u001b[1m304/304\u001b[0m \u001b[32m━━━━━━━━━━━━━━━━━━━━\u001b[0m\u001b[37m\u001b[0m \u001b[1m551s\u001b[0m 2s/step - accuracy: 1.0000 - loss: 7.7646e-10 - val_accuracy: 0.9860 - val_loss: 0.1450\n",
      "Epoch 97/200\n",
      "\u001b[1m302/304\u001b[0m \u001b[32m━━━━━━━━━━━━━━━━━━━\u001b[0m\u001b[37m━\u001b[0m \u001b[1m0s\u001b[0m 41ms/step - accuracy: 1.0000 - loss: 7.0430e-10\n",
      "Epoch 97: val_accuracy did not improve from 0.98641\n",
      "\u001b[1m304/304\u001b[0m \u001b[32m━━━━━━━━━━━━━━━━━━━━\u001b[0m\u001b[37m\u001b[0m \u001b[1m13s\u001b[0m 44ms/step - accuracy: 1.0000 - loss: 7.0438e-10 - val_accuracy: 0.9860 - val_loss: 0.1451\n",
      "Epoch 98/200\n",
      "\u001b[1m302/304\u001b[0m \u001b[32m━━━━━━━━━━━━━━━━━━━\u001b[0m\u001b[37m━\u001b[0m \u001b[1m0s\u001b[0m 31ms/step - accuracy: 1.0000 - loss: 5.3770e-10\n",
      "Epoch 98: val_accuracy did not improve from 0.98641\n",
      "\u001b[1m304/304\u001b[0m \u001b[32m━━━━━━━━━━━━━━━━━━━━\u001b[0m\u001b[37m\u001b[0m \u001b[1m10s\u001b[0m 34ms/step - accuracy: 1.0000 - loss: 5.3785e-10 - val_accuracy: 0.9860 - val_loss: 0.1453\n",
      "Epoch 99/200\n",
      "\u001b[1m302/304\u001b[0m \u001b[32m━━━━━━━━━━━━━━━━━━━\u001b[0m\u001b[37m━\u001b[0m \u001b[1m0s\u001b[0m 35ms/step - accuracy: 1.0000 - loss: 6.2493e-10\n",
      "Epoch 99: val_accuracy did not improve from 0.98641\n",
      "\u001b[1m304/304\u001b[0m \u001b[32m━━━━━━━━━━━━━━━━━━━━\u001b[0m\u001b[37m\u001b[0m \u001b[1m11s\u001b[0m 37ms/step - accuracy: 1.0000 - loss: 6.2470e-10 - val_accuracy: 0.9860 - val_loss: 0.1451\n",
      "Epoch 100/200\n",
      "\u001b[1m303/304\u001b[0m \u001b[32m━━━━━━━━━━━━━━━━━━━\u001b[0m\u001b[37m━\u001b[0m \u001b[1m0s\u001b[0m 31ms/step - accuracy: 1.0000 - loss: 4.5301e-10\n",
      "Epoch 100: val_accuracy did not improve from 0.98641\n",
      "\u001b[1m304/304\u001b[0m \u001b[32m━━━━━━━━━━━━━━━━━━━━\u001b[0m\u001b[37m\u001b[0m \u001b[1m10s\u001b[0m 34ms/step - accuracy: 1.0000 - loss: 4.5294e-10 - val_accuracy: 0.9860 - val_loss: 0.1443\n",
      "Epoch 101/200\n",
      "\u001b[1m303/304\u001b[0m \u001b[32m━━━━━━━━━━━━━━━━━━━\u001b[0m\u001b[37m━\u001b[0m \u001b[1m0s\u001b[0m 43ms/step - accuracy: 1.0000 - loss: 5.2429e-10\n",
      "Epoch 101: val_accuracy did not improve from 0.98641\n",
      "\u001b[1m304/304\u001b[0m \u001b[32m━━━━━━━━━━━━━━━━━━━━\u001b[0m\u001b[37m\u001b[0m \u001b[1m14s\u001b[0m 45ms/step - accuracy: 1.0000 - loss: 5.2399e-10 - val_accuracy: 0.9860 - val_loss: 0.1445\n",
      "Epoch 102/200\n",
      "\u001b[1m302/304\u001b[0m \u001b[32m━━━━━━━━━━━━━━━━━━━\u001b[0m\u001b[37m━\u001b[0m \u001b[1m0s\u001b[0m 33ms/step - accuracy: 1.0000 - loss: 4.6970e-10\n",
      "Epoch 102: val_accuracy did not improve from 0.98641\n",
      "\u001b[1m304/304\u001b[0m \u001b[32m━━━━━━━━━━━━━━━━━━━━\u001b[0m\u001b[37m\u001b[0m \u001b[1m11s\u001b[0m 35ms/step - accuracy: 1.0000 - loss: 4.6931e-10 - val_accuracy: 0.9860 - val_loss: 0.1446\n",
      "Epoch 103/200\n",
      "\u001b[1m302/304\u001b[0m \u001b[32m━━━━━━━━━━━━━━━━━━━\u001b[0m\u001b[37m━\u001b[0m \u001b[1m0s\u001b[0m 33ms/step - accuracy: 1.0000 - loss: 3.4985e-10\n",
      "Epoch 103: val_accuracy did not improve from 0.98641\n",
      "\u001b[1m304/304\u001b[0m \u001b[32m━━━━━━━━━━━━━━━━━━━━\u001b[0m\u001b[37m\u001b[0m \u001b[1m11s\u001b[0m 35ms/step - accuracy: 1.0000 - loss: 3.5039e-10 - val_accuracy: 0.9860 - val_loss: 0.1436\n",
      "Epoch 104/200\n",
      "\u001b[1m303/304\u001b[0m \u001b[32m━━━━━━━━━━━━━━━━━━━\u001b[0m\u001b[37m━\u001b[0m \u001b[1m0s\u001b[0m 31ms/step - accuracy: 1.0000 - loss: 3.1518e-10\n",
      "Epoch 104: val_accuracy did not improve from 0.98641\n",
      "\u001b[1m304/304\u001b[0m \u001b[32m━━━━━━━━━━━━━━━━━━━━\u001b[0m\u001b[37m\u001b[0m \u001b[1m10s\u001b[0m 33ms/step - accuracy: 1.0000 - loss: 3.1545e-10 - val_accuracy: 0.9860 - val_loss: 0.1444\n",
      "Epoch 105/200\n",
      "\u001b[1m303/304\u001b[0m \u001b[32m━━━━━━━━━━━━━━━━━━━\u001b[0m\u001b[37m━\u001b[0m \u001b[1m0s\u001b[0m 31ms/step - accuracy: 1.0000 - loss: 3.0475e-10\n",
      "Epoch 105: val_accuracy did not improve from 0.98641\n",
      "\u001b[1m304/304\u001b[0m \u001b[32m━━━━━━━━━━━━━━━━━━━━\u001b[0m\u001b[37m\u001b[0m \u001b[1m10s\u001b[0m 33ms/step - accuracy: 1.0000 - loss: 3.0461e-10 - val_accuracy: 0.9860 - val_loss: 0.1456\n",
      "Epoch 106/200\n",
      "\u001b[1m302/304\u001b[0m \u001b[32m━━━━━━━━━━━━━━━━━━━\u001b[0m\u001b[37m━\u001b[0m \u001b[1m0s\u001b[0m 31ms/step - accuracy: 1.0000 - loss: 3.2129e-10\n",
      "Epoch 106: val_accuracy did not improve from 0.98641\n",
      "\u001b[1m304/304\u001b[0m \u001b[32m━━━━━━━━━━━━━━━━━━━━\u001b[0m\u001b[37m\u001b[0m \u001b[1m10s\u001b[0m 33ms/step - accuracy: 1.0000 - loss: 3.2139e-10 - val_accuracy: 0.9860 - val_loss: 0.1440\n",
      "Epoch 107/200\n",
      "\u001b[1m303/304\u001b[0m \u001b[32m━━━━━━━━━━━━━━━━━━━\u001b[0m\u001b[37m━\u001b[0m \u001b[1m0s\u001b[0m 30ms/step - accuracy: 1.0000 - loss: 2.2075e-10\n",
      "Epoch 107: val_accuracy did not improve from 0.98641\n",
      "\u001b[1m304/304\u001b[0m \u001b[32m━━━━━━━━━━━━━━━━━━━━\u001b[0m\u001b[37m\u001b[0m \u001b[1m10s\u001b[0m 32ms/step - accuracy: 1.0000 - loss: 2.2075e-10 - val_accuracy: 0.9864 - val_loss: 0.1456\n",
      "Epoch 108/200\n",
      "\u001b[1m302/304\u001b[0m \u001b[32m━━━━━━━━━━━━━━━━━━━\u001b[0m\u001b[37m━\u001b[0m \u001b[1m0s\u001b[0m 29ms/step - accuracy: 1.0000 - loss: 1.5603e-10\n",
      "Epoch 108: val_accuracy did not improve from 0.98641\n",
      "\u001b[1m304/304\u001b[0m \u001b[32m━━━━━━━━━━━━━━━━━━━━\u001b[0m\u001b[37m\u001b[0m \u001b[1m10s\u001b[0m 32ms/step - accuracy: 1.0000 - loss: 1.5643e-10 - val_accuracy: 0.9864 - val_loss: 0.1462\n",
      "Epoch 109/200\n",
      "\u001b[1m302/304\u001b[0m \u001b[32m━━━━━━━━━━━━━━━━━━━\u001b[0m\u001b[37m━\u001b[0m \u001b[1m0s\u001b[0m 30ms/step - accuracy: 1.0000 - loss: 2.2657e-10\n",
      "Epoch 109: val_accuracy did not improve from 0.98641\n",
      "\u001b[1m304/304\u001b[0m \u001b[32m━━━━━━━━━━━━━━━━━━━━\u001b[0m\u001b[37m\u001b[0m \u001b[1m10s\u001b[0m 33ms/step - accuracy: 1.0000 - loss: 2.2652e-10 - val_accuracy: 0.9864 - val_loss: 0.1452\n",
      "Epoch 110/200\n",
      "\u001b[1m303/304\u001b[0m \u001b[32m━━━━━━━━━━━━━━━━━━━\u001b[0m\u001b[37m━\u001b[0m \u001b[1m0s\u001b[0m 29ms/step - accuracy: 1.0000 - loss: 1.5297e-10\n",
      "Epoch 110: val_accuracy did not improve from 0.98641\n",
      "\u001b[1m304/304\u001b[0m \u001b[32m━━━━━━━━━━━━━━━━━━━━\u001b[0m\u001b[37m\u001b[0m \u001b[1m10s\u001b[0m 32ms/step - accuracy: 1.0000 - loss: 1.5325e-10 - val_accuracy: 0.9860 - val_loss: 0.1461\n",
      "Epoch 111/200\n",
      "\u001b[1m303/304\u001b[0m \u001b[32m━━━━━━━━━━━━━━━━━━━\u001b[0m\u001b[37m━\u001b[0m \u001b[1m0s\u001b[0m 31ms/step - accuracy: 1.0000 - loss: 2.8077e-10\n",
      "Epoch 111: val_accuracy did not improve from 0.98641\n",
      "\u001b[1m304/304\u001b[0m \u001b[32m━━━━━━━━━━━━━━━━━━━━\u001b[0m\u001b[37m\u001b[0m \u001b[1m10s\u001b[0m 33ms/step - accuracy: 1.0000 - loss: 2.8054e-10 - val_accuracy: 0.9860 - val_loss: 0.1473\n",
      "Epoch 112/200\n",
      "\u001b[1m303/304\u001b[0m \u001b[32m━━━━━━━━━━━━━━━━━━━\u001b[0m\u001b[37m━\u001b[0m \u001b[1m0s\u001b[0m 29ms/step - accuracy: 0.9898 - loss: 0.0761\n",
      "Epoch 112: val_accuracy did not improve from 0.98641\n",
      "\u001b[1m304/304\u001b[0m \u001b[32m━━━━━━━━━━━━━━━━━━━━\u001b[0m\u001b[37m\u001b[0m \u001b[1m10s\u001b[0m 32ms/step - accuracy: 0.9897 - loss: 0.0769 - val_accuracy: 0.9564 - val_loss: 0.1201\n",
      "Epoch 113/200\n",
      "\u001b[1m302/304\u001b[0m \u001b[32m━━━━━━━━━━━━━━━━━━━\u001b[0m\u001b[37m━\u001b[0m \u001b[1m0s\u001b[0m 30ms/step - accuracy: 0.9938 - loss: 0.0195\n",
      "Epoch 113: val_accuracy did not improve from 0.98641\n",
      "\u001b[1m304/304\u001b[0m \u001b[32m━━━━━━━━━━━━━━━━━━━━\u001b[0m\u001b[37m\u001b[0m \u001b[1m10s\u001b[0m 32ms/step - accuracy: 0.9938 - loss: 0.0194 - val_accuracy: 0.9807 - val_loss: 0.0676\n",
      "Epoch 114/200\n",
      "\u001b[1m303/304\u001b[0m \u001b[32m━━━━━━━━━━━━━━━━━━━\u001b[0m\u001b[37m━\u001b[0m \u001b[1m0s\u001b[0m 29ms/step - accuracy: 0.9984 - loss: 0.0064\n",
      "Epoch 114: val_accuracy did not improve from 0.98641\n",
      "\u001b[1m304/304\u001b[0m \u001b[32m━━━━━━━━━━━━━━━━━━━━\u001b[0m\u001b[37m\u001b[0m \u001b[1m9s\u001b[0m 31ms/step - accuracy: 0.9984 - loss: 0.0063 - val_accuracy: 0.9794 - val_loss: 0.0928\n",
      "Epoch 115/200\n",
      "\u001b[1m302/304\u001b[0m \u001b[32m━━━━━━━━━━━━━━━━━━━\u001b[0m\u001b[37m━\u001b[0m \u001b[1m0s\u001b[0m 29ms/step - accuracy: 0.9995 - loss: 0.0023\n",
      "Epoch 115: val_accuracy improved from 0.98641 to 0.98724, saving model to CNN2D_results/V4_2_NOL_exp2/best_model_3.h5\n"
     ]
    },
    {
     "name": "stderr",
     "output_type": "stream",
     "text": [
      "WARNING:absl:You are saving your model as an HDF5 file via `model.save()` or `keras.saving.save_model(model)`. This file format is considered legacy. We recommend using instead the native Keras format, e.g. `model.save('my_model.keras')` or `keras.saving.save_model(model, 'my_model.keras')`. \n"
     ]
    },
    {
     "name": "stdout",
     "output_type": "stream",
     "text": [
      "\u001b[1m304/304\u001b[0m \u001b[32m━━━━━━━━━━━━━━━━━━━━\u001b[0m\u001b[37m\u001b[0m \u001b[1m9s\u001b[0m 31ms/step - accuracy: 0.9995 - loss: 0.0023 - val_accuracy: 0.9872 - val_loss: 0.0712\n",
      "Epoch 116/200\n",
      "\u001b[1m302/304\u001b[0m \u001b[32m━━━━━━━━━━━━━━━━━━━\u001b[0m\u001b[37m━\u001b[0m \u001b[1m0s\u001b[0m 29ms/step - accuracy: 1.0000 - loss: 1.8925e-04\n",
      "Epoch 116: val_accuracy did not improve from 0.98724\n",
      "\u001b[1m304/304\u001b[0m \u001b[32m━━━━━━━━━━━━━━━━━━━━\u001b[0m\u001b[37m\u001b[0m \u001b[1m9s\u001b[0m 31ms/step - accuracy: 1.0000 - loss: 1.8904e-04 - val_accuracy: 0.9864 - val_loss: 0.0731\n",
      "Epoch 117/200\n",
      "\u001b[1m303/304\u001b[0m \u001b[32m━━━━━━━━━━━━━━━━━━━\u001b[0m\u001b[37m━\u001b[0m \u001b[1m0s\u001b[0m 29ms/step - accuracy: 1.0000 - loss: 1.1738e-04\n",
      "Epoch 117: val_accuracy did not improve from 0.98724\n",
      "\u001b[1m304/304\u001b[0m \u001b[32m━━━━━━━━━━━━━━━━━━━━\u001b[0m\u001b[37m\u001b[0m \u001b[1m9s\u001b[0m 31ms/step - accuracy: 1.0000 - loss: 1.1734e-04 - val_accuracy: 0.9868 - val_loss: 0.0758\n",
      "Epoch 118/200\n",
      "\u001b[1m303/304\u001b[0m \u001b[32m━━━━━━━━━━━━━━━━━━━\u001b[0m\u001b[37m━\u001b[0m \u001b[1m0s\u001b[0m 29ms/step - accuracy: 1.0000 - loss: 8.5343e-05\n",
      "Epoch 118: val_accuracy did not improve from 0.98724\n",
      "\u001b[1m304/304\u001b[0m \u001b[32m━━━━━━━━━━━━━━━━━━━━\u001b[0m\u001b[37m\u001b[0m \u001b[1m9s\u001b[0m 31ms/step - accuracy: 1.0000 - loss: 8.5328e-05 - val_accuracy: 0.9868 - val_loss: 0.0782\n",
      "Epoch 119/200\n",
      "\u001b[1m302/304\u001b[0m \u001b[32m━━━━━━━━━━━━━━━━━━━\u001b[0m\u001b[37m━\u001b[0m \u001b[1m0s\u001b[0m 29ms/step - accuracy: 1.0000 - loss: 6.5079e-05\n",
      "Epoch 119: val_accuracy did not improve from 0.98724\n",
      "\u001b[1m304/304\u001b[0m \u001b[32m━━━━━━━━━━━━━━━━━━━━\u001b[0m\u001b[37m\u001b[0m \u001b[1m9s\u001b[0m 31ms/step - accuracy: 1.0000 - loss: 6.5067e-05 - val_accuracy: 0.9868 - val_loss: 0.0805\n",
      "Epoch 120/200\n",
      "\u001b[1m302/304\u001b[0m \u001b[32m━━━━━━━━━━━━━━━━━━━\u001b[0m\u001b[37m━\u001b[0m \u001b[1m0s\u001b[0m 30ms/step - accuracy: 1.0000 - loss: 5.0922e-05\n",
      "Epoch 120: val_accuracy did not improve from 0.98724\n",
      "\u001b[1m304/304\u001b[0m \u001b[32m━━━━━━━━━━━━━━━━━━━━\u001b[0m\u001b[37m\u001b[0m \u001b[1m10s\u001b[0m 32ms/step - accuracy: 1.0000 - loss: 5.0915e-05 - val_accuracy: 0.9868 - val_loss: 0.0826\n",
      "Epoch 121/200\n",
      "\u001b[1m302/304\u001b[0m \u001b[32m━━━━━━━━━━━━━━━━━━━\u001b[0m\u001b[37m━\u001b[0m \u001b[1m0s\u001b[0m 29ms/step - accuracy: 1.0000 - loss: 4.0568e-05\n",
      "Epoch 121: val_accuracy did not improve from 0.98724\n",
      "\u001b[1m304/304\u001b[0m \u001b[32m━━━━━━━━━━━━━━━━━━━━\u001b[0m\u001b[37m\u001b[0m \u001b[1m9s\u001b[0m 31ms/step - accuracy: 1.0000 - loss: 4.0564e-05 - val_accuracy: 0.9856 - val_loss: 0.0845\n",
      "Epoch 122/200\n",
      "\u001b[1m302/304\u001b[0m \u001b[32m━━━━━━━━━━━━━━━━━━━\u001b[0m\u001b[37m━\u001b[0m \u001b[1m0s\u001b[0m 30ms/step - accuracy: 1.0000 - loss: 3.2698e-05\n",
      "Epoch 122: val_accuracy did not improve from 0.98724\n",
      "\u001b[1m304/304\u001b[0m \u001b[32m━━━━━━━━━━━━━━━━━━━━\u001b[0m\u001b[37m\u001b[0m \u001b[1m10s\u001b[0m 32ms/step - accuracy: 1.0000 - loss: 3.2696e-05 - val_accuracy: 0.9856 - val_loss: 0.0863\n",
      "Epoch 123/200\n",
      "\u001b[1m302/304\u001b[0m \u001b[32m━━━━━━━━━━━━━━━━━━━\u001b[0m\u001b[37m━\u001b[0m \u001b[1m0s\u001b[0m 29ms/step - accuracy: 1.0000 - loss: 2.6673e-05\n",
      "Epoch 123: val_accuracy did not improve from 0.98724\n",
      "\u001b[1m304/304\u001b[0m \u001b[32m━━━━━━━━━━━━━━━━━━━━\u001b[0m\u001b[37m\u001b[0m \u001b[1m9s\u001b[0m 31ms/step - accuracy: 1.0000 - loss: 2.6671e-05 - val_accuracy: 0.9864 - val_loss: 0.0881\n",
      "Epoch 124/200\n",
      "\u001b[1m303/304\u001b[0m \u001b[32m━━━━━━━━━━━━━━━━━━━\u001b[0m\u001b[37m━\u001b[0m \u001b[1m0s\u001b[0m 29ms/step - accuracy: 1.0000 - loss: 2.1832e-05\n",
      "Epoch 124: val_accuracy did not improve from 0.98724\n",
      "\u001b[1m304/304\u001b[0m \u001b[32m━━━━━━━━━━━━━━━━━━━━\u001b[0m\u001b[37m\u001b[0m \u001b[1m9s\u001b[0m 31ms/step - accuracy: 1.0000 - loss: 2.1831e-05 - val_accuracy: 0.9864 - val_loss: 0.0897\n",
      "Epoch 125/200\n",
      "\u001b[1m302/304\u001b[0m \u001b[32m━━━━━━━━━━━━━━━━━━━\u001b[0m\u001b[37m━\u001b[0m \u001b[1m0s\u001b[0m 30ms/step - accuracy: 1.0000 - loss: 1.7934e-05\n",
      "Epoch 125: val_accuracy did not improve from 0.98724\n",
      "\u001b[1m304/304\u001b[0m \u001b[32m━━━━━━━━━━━━━━━━━━━━\u001b[0m\u001b[37m\u001b[0m \u001b[1m10s\u001b[0m 32ms/step - accuracy: 1.0000 - loss: 1.7932e-05 - val_accuracy: 0.9860 - val_loss: 0.0914\n",
      "Epoch 126/200\n",
      "\u001b[1m303/304\u001b[0m \u001b[32m━━━━━━━━━━━━━━━━━━━\u001b[0m\u001b[37m━\u001b[0m \u001b[1m0s\u001b[0m 29ms/step - accuracy: 1.0000 - loss: 1.4813e-05\n",
      "Epoch 126: val_accuracy did not improve from 0.98724\n",
      "\u001b[1m304/304\u001b[0m \u001b[32m━━━━━━━━━━━━━━━━━━━━\u001b[0m\u001b[37m\u001b[0m \u001b[1m10s\u001b[0m 31ms/step - accuracy: 1.0000 - loss: 1.4811e-05 - val_accuracy: 0.9860 - val_loss: 0.0932\n",
      "Epoch 127/200\n",
      "\u001b[1m303/304\u001b[0m \u001b[32m━━━━━━━━━━━━━━━━━━━\u001b[0m\u001b[37m━\u001b[0m \u001b[1m0s\u001b[0m 29ms/step - accuracy: 1.0000 - loss: 1.2228e-05\n",
      "Epoch 127: val_accuracy did not improve from 0.98724\n",
      "\u001b[1m304/304\u001b[0m \u001b[32m━━━━━━━━━━━━━━━━━━━━\u001b[0m\u001b[37m\u001b[0m \u001b[1m9s\u001b[0m 31ms/step - accuracy: 1.0000 - loss: 1.2227e-05 - val_accuracy: 0.9860 - val_loss: 0.0947\n",
      "Epoch 128/200\n",
      "\u001b[1m302/304\u001b[0m \u001b[32m━━━━━━━━━━━━━━━━━━━\u001b[0m\u001b[37m━\u001b[0m \u001b[1m0s\u001b[0m 29ms/step - accuracy: 1.0000 - loss: 1.0130e-05\n",
      "Epoch 128: val_accuracy did not improve from 0.98724\n",
      "\u001b[1m304/304\u001b[0m \u001b[32m━━━━━━━━━━━━━━━━━━━━\u001b[0m\u001b[37m\u001b[0m \u001b[1m10s\u001b[0m 31ms/step - accuracy: 1.0000 - loss: 1.0129e-05 - val_accuracy: 0.9860 - val_loss: 0.0965\n",
      "Epoch 129/200\n",
      "\u001b[1m303/304\u001b[0m \u001b[32m━━━━━━━━━━━━━━━━━━━\u001b[0m\u001b[37m━\u001b[0m \u001b[1m0s\u001b[0m 29ms/step - accuracy: 1.0000 - loss: 8.4166e-06\n",
      "Epoch 129: val_accuracy did not improve from 0.98724\n",
      "\u001b[1m304/304\u001b[0m \u001b[32m━━━━━━━━━━━━━━━━━━━━\u001b[0m\u001b[37m\u001b[0m \u001b[1m10s\u001b[0m 31ms/step - accuracy: 1.0000 - loss: 8.4156e-06 - val_accuracy: 0.9864 - val_loss: 0.0982\n",
      "Epoch 130/200\n",
      "\u001b[1m303/304\u001b[0m \u001b[32m━━━━━━━━━━━━━━━━━━━\u001b[0m\u001b[37m━\u001b[0m \u001b[1m0s\u001b[0m 31ms/step - accuracy: 1.0000 - loss: 7.0048e-06\n",
      "Epoch 130: val_accuracy did not improve from 0.98724\n",
      "\u001b[1m304/304\u001b[0m \u001b[32m━━━━━━━━━━━━━━━━━━━━\u001b[0m\u001b[37m\u001b[0m \u001b[1m10s\u001b[0m 33ms/step - accuracy: 1.0000 - loss: 7.0039e-06 - val_accuracy: 0.9864 - val_loss: 0.1001\n",
      "Epoch 131/200\n",
      "\u001b[1m303/304\u001b[0m \u001b[32m━━━━━━━━━━━━━━━━━━━\u001b[0m\u001b[37m━\u001b[0m \u001b[1m0s\u001b[0m 29ms/step - accuracy: 1.0000 - loss: 5.8355e-06\n",
      "Epoch 131: val_accuracy did not improve from 0.98724\n",
      "\u001b[1m304/304\u001b[0m \u001b[32m━━━━━━━━━━━━━━━━━━━━\u001b[0m\u001b[37m\u001b[0m \u001b[1m9s\u001b[0m 31ms/step - accuracy: 1.0000 - loss: 5.8347e-06 - val_accuracy: 0.9868 - val_loss: 0.1015\n",
      "Epoch 132/200\n",
      "\u001b[1m303/304\u001b[0m \u001b[32m━━━━━━━━━━━━━━━━━━━\u001b[0m\u001b[37m━\u001b[0m \u001b[1m0s\u001b[0m 29ms/step - accuracy: 1.0000 - loss: 4.8618e-06\n",
      "Epoch 132: val_accuracy did not improve from 0.98724\n",
      "\u001b[1m304/304\u001b[0m \u001b[32m━━━━━━━━━━━━━━━━━━━━\u001b[0m\u001b[37m\u001b[0m \u001b[1m10s\u001b[0m 31ms/step - accuracy: 1.0000 - loss: 4.8610e-06 - val_accuracy: 0.9868 - val_loss: 0.1033\n",
      "Epoch 133/200\n",
      "\u001b[1m303/304\u001b[0m \u001b[32m━━━━━━━━━━━━━━━━━━━\u001b[0m\u001b[37m━\u001b[0m \u001b[1m0s\u001b[0m 29ms/step - accuracy: 1.0000 - loss: 4.0582e-06\n",
      "Epoch 133: val_accuracy did not improve from 0.98724\n",
      "\u001b[1m304/304\u001b[0m \u001b[32m━━━━━━━━━━━━━━━━━━━━\u001b[0m\u001b[37m\u001b[0m \u001b[1m9s\u001b[0m 31ms/step - accuracy: 1.0000 - loss: 4.0575e-06 - val_accuracy: 0.9868 - val_loss: 0.1052\n",
      "Epoch 134/200\n",
      "\u001b[1m302/304\u001b[0m \u001b[32m━━━━━━━━━━━━━━━━━━━\u001b[0m\u001b[37m━\u001b[0m \u001b[1m0s\u001b[0m 29ms/step - accuracy: 1.0000 - loss: 3.3983e-06\n",
      "Epoch 134: val_accuracy did not improve from 0.98724\n",
      "\u001b[1m304/304\u001b[0m \u001b[32m━━━━━━━━━━━━━━━━━━━━\u001b[0m\u001b[37m\u001b[0m \u001b[1m9s\u001b[0m 31ms/step - accuracy: 1.0000 - loss: 3.3973e-06 - val_accuracy: 0.9868 - val_loss: 0.1070\n",
      "Epoch 135/200\n",
      "\u001b[1m303/304\u001b[0m \u001b[32m━━━━━━━━━━━━━━━━━━━\u001b[0m\u001b[37m━\u001b[0m \u001b[1m0s\u001b[0m 30ms/step - accuracy: 1.0000 - loss: 2.8451e-06\n",
      "Epoch 135: val_accuracy did not improve from 0.98724\n",
      "\u001b[1m304/304\u001b[0m \u001b[32m━━━━━━━━━━━━━━━━━━━━\u001b[0m\u001b[37m\u001b[0m \u001b[1m10s\u001b[0m 32ms/step - accuracy: 1.0000 - loss: 2.8445e-06 - val_accuracy: 0.9872 - val_loss: 0.1088\n",
      "Epoch 136/200\n",
      "\u001b[1m302/304\u001b[0m \u001b[32m━━━━━━━━━━━━━━━━━━━\u001b[0m\u001b[37m━\u001b[0m \u001b[1m0s\u001b[0m 30ms/step - accuracy: 1.0000 - loss: 2.3855e-06\n",
      "Epoch 136: val_accuracy did not improve from 0.98724\n",
      "\u001b[1m304/304\u001b[0m \u001b[32m━━━━━━━━━━━━━━━━━━━━\u001b[0m\u001b[37m\u001b[0m \u001b[1m10s\u001b[0m 32ms/step - accuracy: 1.0000 - loss: 2.3847e-06 - val_accuracy: 0.9872 - val_loss: 0.1107\n",
      "Epoch 137/200\n",
      "\u001b[1m302/304\u001b[0m \u001b[32m━━━━━━━━━━━━━━━━━━━\u001b[0m\u001b[37m━\u001b[0m \u001b[1m0s\u001b[0m 30ms/step - accuracy: 1.0000 - loss: 2.0011e-06\n",
      "Epoch 137: val_accuracy did not improve from 0.98724\n",
      "\u001b[1m304/304\u001b[0m \u001b[32m━━━━━━━━━━━━━━━━━━━━\u001b[0m\u001b[37m\u001b[0m \u001b[1m10s\u001b[0m 32ms/step - accuracy: 1.0000 - loss: 2.0004e-06 - val_accuracy: 0.9872 - val_loss: 0.1122\n",
      "Epoch 138/200\n",
      "\u001b[1m303/304\u001b[0m \u001b[32m━━━━━━━━━━━━━━━━━━━\u001b[0m\u001b[37m━\u001b[0m \u001b[1m0s\u001b[0m 29ms/step - accuracy: 1.0000 - loss: 1.6731e-06\n",
      "Epoch 138: val_accuracy did not improve from 0.98724\n",
      "\u001b[1m304/304\u001b[0m \u001b[32m━━━━━━━━━━━━━━━━━━━━\u001b[0m\u001b[37m\u001b[0m \u001b[1m10s\u001b[0m 31ms/step - accuracy: 1.0000 - loss: 1.6727e-06 - val_accuracy: 0.9872 - val_loss: 0.1141\n",
      "Epoch 139/200\n",
      "\u001b[1m303/304\u001b[0m \u001b[32m━━━━━━━━━━━━━━━━━━━\u001b[0m\u001b[37m━\u001b[0m \u001b[1m0s\u001b[0m 29ms/step - accuracy: 1.0000 - loss: 1.4070e-06\n",
      "Epoch 139: val_accuracy did not improve from 0.98724\n",
      "\u001b[1m304/304\u001b[0m \u001b[32m━━━━━━━━━━━━━━━━━━━━\u001b[0m\u001b[37m\u001b[0m \u001b[1m9s\u001b[0m 31ms/step - accuracy: 1.0000 - loss: 1.4066e-06 - val_accuracy: 0.9872 - val_loss: 0.1159\n",
      "Epoch 140/200\n",
      "\u001b[1m303/304\u001b[0m \u001b[32m━━━━━━━━━━━━━━━━━━━\u001b[0m\u001b[37m━\u001b[0m \u001b[1m0s\u001b[0m 29ms/step - accuracy: 1.0000 - loss: 1.1814e-06\n",
      "Epoch 140: val_accuracy did not improve from 0.98724\n",
      "\u001b[1m304/304\u001b[0m \u001b[32m━━━━━━━━━━━━━━━━━━━━\u001b[0m\u001b[37m\u001b[0m \u001b[1m9s\u001b[0m 31ms/step - accuracy: 1.0000 - loss: 1.1811e-06 - val_accuracy: 0.9872 - val_loss: 0.1175\n",
      "Epoch 141/200\n",
      "\u001b[1m303/304\u001b[0m \u001b[32m━━━━━━━━━━━━━━━━━━━\u001b[0m\u001b[37m━\u001b[0m \u001b[1m0s\u001b[0m 29ms/step - accuracy: 1.0000 - loss: 9.9246e-07\n",
      "Epoch 141: val_accuracy did not improve from 0.98724\n",
      "\u001b[1m304/304\u001b[0m \u001b[32m━━━━━━━━━━━━━━━━━━━━\u001b[0m\u001b[37m\u001b[0m \u001b[1m9s\u001b[0m 31ms/step - accuracy: 1.0000 - loss: 9.9214e-07 - val_accuracy: 0.9872 - val_loss: 0.1194\n",
      "Epoch 142/200\n",
      "\u001b[1m303/304\u001b[0m \u001b[32m━━━━━━━━━━━━━━━━━━━\u001b[0m\u001b[37m━\u001b[0m \u001b[1m0s\u001b[0m 29ms/step - accuracy: 1.0000 - loss: 8.3480e-07\n",
      "Epoch 142: val_accuracy did not improve from 0.98724\n",
      "\u001b[1m304/304\u001b[0m \u001b[32m━━━━━━━━━━━━━━━━━━━━\u001b[0m\u001b[37m\u001b[0m \u001b[1m10s\u001b[0m 31ms/step - accuracy: 1.0000 - loss: 8.3452e-07 - val_accuracy: 0.9872 - val_loss: 0.1213\n",
      "Epoch 143/200\n",
      "\u001b[1m303/304\u001b[0m \u001b[32m━━━━━━━━━━━━━━━━━━━\u001b[0m\u001b[37m━\u001b[0m \u001b[1m0s\u001b[0m 30ms/step - accuracy: 1.0000 - loss: 7.0169e-07\n",
      "Epoch 143: val_accuracy did not improve from 0.98724\n",
      "\u001b[1m304/304\u001b[0m \u001b[32m━━━━━━━━━━━━━━━━━━━━\u001b[0m\u001b[37m\u001b[0m \u001b[1m10s\u001b[0m 32ms/step - accuracy: 1.0000 - loss: 7.0145e-07 - val_accuracy: 0.9872 - val_loss: 0.1231\n",
      "Epoch 144/200\n",
      "\u001b[1m303/304\u001b[0m \u001b[32m━━━━━━━━━━━━━━━━━━━\u001b[0m\u001b[37m━\u001b[0m \u001b[1m0s\u001b[0m 30ms/step - accuracy: 1.0000 - loss: 5.8873e-07\n",
      "Epoch 144: val_accuracy improved from 0.98724 to 0.98765, saving model to CNN2D_results/V4_2_NOL_exp2/best_model_3.h5\n"
     ]
    },
    {
     "name": "stderr",
     "output_type": "stream",
     "text": [
      "WARNING:absl:You are saving your model as an HDF5 file via `model.save()` or `keras.saving.save_model(model)`. This file format is considered legacy. We recommend using instead the native Keras format, e.g. `model.save('my_model.keras')` or `keras.saving.save_model(model, 'my_model.keras')`. \n"
     ]
    },
    {
     "name": "stdout",
     "output_type": "stream",
     "text": [
      "\u001b[1m304/304\u001b[0m \u001b[32m━━━━━━━━━━━━━━━━━━━━\u001b[0m\u001b[37m\u001b[0m \u001b[1m10s\u001b[0m 32ms/step - accuracy: 1.0000 - loss: 5.8851e-07 - val_accuracy: 0.9876 - val_loss: 0.1251\n",
      "Epoch 145/200\n",
      "\u001b[1m303/304\u001b[0m \u001b[32m━━━━━━━━━━━━━━━━━━━\u001b[0m\u001b[37m━\u001b[0m \u001b[1m0s\u001b[0m 29ms/step - accuracy: 1.0000 - loss: 4.9530e-07\n",
      "Epoch 145: val_accuracy improved from 0.98765 to 0.98806, saving model to CNN2D_results/V4_2_NOL_exp2/best_model_3.h5\n"
     ]
    },
    {
     "name": "stderr",
     "output_type": "stream",
     "text": [
      "WARNING:absl:You are saving your model as an HDF5 file via `model.save()` or `keras.saving.save_model(model)`. This file format is considered legacy. We recommend using instead the native Keras format, e.g. `model.save('my_model.keras')` or `keras.saving.save_model(model, 'my_model.keras')`. \n"
     ]
    },
    {
     "name": "stdout",
     "output_type": "stream",
     "text": [
      "\u001b[1m304/304\u001b[0m \u001b[32m━━━━━━━━━━━━━━━━━━━━\u001b[0m\u001b[37m\u001b[0m \u001b[1m10s\u001b[0m 31ms/step - accuracy: 1.0000 - loss: 4.9512e-07 - val_accuracy: 0.9881 - val_loss: 0.1268\n",
      "Epoch 146/200\n",
      "\u001b[1m303/304\u001b[0m \u001b[32m━━━━━━━━━━━━━━━━━━━\u001b[0m\u001b[37m━\u001b[0m \u001b[1m0s\u001b[0m 28ms/step - accuracy: 1.0000 - loss: 4.1718e-07\n",
      "Epoch 146: val_accuracy did not improve from 0.98806\n",
      "\u001b[1m304/304\u001b[0m \u001b[32m━━━━━━━━━━━━━━━━━━━━\u001b[0m\u001b[37m\u001b[0m \u001b[1m9s\u001b[0m 31ms/step - accuracy: 1.0000 - loss: 4.1702e-07 - val_accuracy: 0.9881 - val_loss: 0.1290\n",
      "Epoch 147/200\n",
      "\u001b[1m302/304\u001b[0m \u001b[32m━━━━━━━━━━━━━━━━━━━\u001b[0m\u001b[37m━\u001b[0m \u001b[1m0s\u001b[0m 29ms/step - accuracy: 1.0000 - loss: 3.5163e-07\n",
      "Epoch 147: val_accuracy did not improve from 0.98806\n",
      "\u001b[1m304/304\u001b[0m \u001b[32m━━━━━━━━━━━━━━━━━━━━\u001b[0m\u001b[37m\u001b[0m \u001b[1m9s\u001b[0m 31ms/step - accuracy: 1.0000 - loss: 3.5143e-07 - val_accuracy: 0.9876 - val_loss: 0.1308\n",
      "Epoch 148/200\n",
      "\u001b[1m303/304\u001b[0m \u001b[32m━━━━━━━━━━━━━━━━━━━\u001b[0m\u001b[37m━\u001b[0m \u001b[1m0s\u001b[0m 28ms/step - accuracy: 1.0000 - loss: 2.9562e-07\n",
      "Epoch 148: val_accuracy did not improve from 0.98806\n",
      "\u001b[1m304/304\u001b[0m \u001b[32m━━━━━━━━━━━━━━━━━━━━\u001b[0m\u001b[37m\u001b[0m \u001b[1m9s\u001b[0m 31ms/step - accuracy: 1.0000 - loss: 2.9551e-07 - val_accuracy: 0.9876 - val_loss: 0.1326\n",
      "Epoch 149/200\n",
      "\u001b[1m303/304\u001b[0m \u001b[32m━━━━━━━━━━━━━━━━━━━\u001b[0m\u001b[37m━\u001b[0m \u001b[1m0s\u001b[0m 29ms/step - accuracy: 1.0000 - loss: 2.4916e-07\n",
      "Epoch 149: val_accuracy did not improve from 0.98806\n",
      "\u001b[1m304/304\u001b[0m \u001b[32m━━━━━━━━━━━━━━━━━━━━\u001b[0m\u001b[37m\u001b[0m \u001b[1m9s\u001b[0m 31ms/step - accuracy: 1.0000 - loss: 2.4906e-07 - val_accuracy: 0.9868 - val_loss: 0.1345\n",
      "Epoch 150/200\n",
      "\u001b[1m303/304\u001b[0m \u001b[32m━━━━━━━━━━━━━━━━━━━\u001b[0m\u001b[37m━\u001b[0m \u001b[1m0s\u001b[0m 28ms/step - accuracy: 1.0000 - loss: 2.1028e-07\n",
      "Epoch 150: val_accuracy did not improve from 0.98806\n",
      "\u001b[1m304/304\u001b[0m \u001b[32m━━━━━━━━━━━━━━━━━━━━\u001b[0m\u001b[37m\u001b[0m \u001b[1m9s\u001b[0m 30ms/step - accuracy: 1.0000 - loss: 2.1019e-07 - val_accuracy: 0.9868 - val_loss: 0.1362\n",
      "Epoch 151/200\n",
      "\u001b[1m302/304\u001b[0m \u001b[32m━━━━━━━━━━━━━━━━━━━\u001b[0m\u001b[37m━\u001b[0m \u001b[1m0s\u001b[0m 29ms/step - accuracy: 1.0000 - loss: 1.7705e-07\n",
      "Epoch 151: val_accuracy did not improve from 0.98806\n",
      "\u001b[1m304/304\u001b[0m \u001b[32m━━━━━━━━━━━━━━━━━━━━\u001b[0m\u001b[37m\u001b[0m \u001b[1m9s\u001b[0m 31ms/step - accuracy: 1.0000 - loss: 1.7694e-07 - val_accuracy: 0.9868 - val_loss: 0.1378\n",
      "Epoch 152/200\n",
      "\u001b[1m303/304\u001b[0m \u001b[32m━━━━━━━━━━━━━━━━━━━\u001b[0m\u001b[37m━\u001b[0m \u001b[1m0s\u001b[0m 28ms/step - accuracy: 1.0000 - loss: 1.4933e-07\n",
      "Epoch 152: val_accuracy did not improve from 0.98806\n",
      "\u001b[1m304/304\u001b[0m \u001b[32m━━━━━━━━━━━━━━━━━━━━\u001b[0m\u001b[37m\u001b[0m \u001b[1m9s\u001b[0m 31ms/step - accuracy: 1.0000 - loss: 1.4927e-07 - val_accuracy: 0.9868 - val_loss: 0.1395\n",
      "Epoch 153/200\n",
      "\u001b[1m303/304\u001b[0m \u001b[32m━━━━━━━━━━━━━━━━━━━\u001b[0m\u001b[37m━\u001b[0m \u001b[1m0s\u001b[0m 29ms/step - accuracy: 1.0000 - loss: 1.2651e-07\n",
      "Epoch 153: val_accuracy did not improve from 0.98806\n",
      "\u001b[1m304/304\u001b[0m \u001b[32m━━━━━━━━━━━━━━━━━━━━\u001b[0m\u001b[37m\u001b[0m \u001b[1m9s\u001b[0m 31ms/step - accuracy: 1.0000 - loss: 1.2646e-07 - val_accuracy: 0.9868 - val_loss: 0.1412\n",
      "Epoch 154/200\n",
      "\u001b[1m303/304\u001b[0m \u001b[32m━━━━━━━━━━━━━━━━━━━\u001b[0m\u001b[37m━\u001b[0m \u001b[1m0s\u001b[0m 29ms/step - accuracy: 1.0000 - loss: 1.0689e-07\n",
      "Epoch 154: val_accuracy did not improve from 0.98806\n",
      "\u001b[1m304/304\u001b[0m \u001b[32m━━━━━━━━━━━━━━━━━━━━\u001b[0m\u001b[37m\u001b[0m \u001b[1m9s\u001b[0m 31ms/step - accuracy: 1.0000 - loss: 1.0684e-07 - val_accuracy: 0.9868 - val_loss: 0.1428\n",
      "Epoch 155/200\n",
      "\u001b[1m302/304\u001b[0m \u001b[32m━━━━━━━━━━━━━━━━━━━\u001b[0m\u001b[37m━\u001b[0m \u001b[1m0s\u001b[0m 29ms/step - accuracy: 1.0000 - loss: 9.0290e-08\n",
      "Epoch 155: val_accuracy did not improve from 0.98806\n",
      "\u001b[1m304/304\u001b[0m \u001b[32m━━━━━━━━━━━━━━━━━━━━\u001b[0m\u001b[37m\u001b[0m \u001b[1m9s\u001b[0m 31ms/step - accuracy: 1.0000 - loss: 9.0227e-08 - val_accuracy: 0.9868 - val_loss: 0.1444\n",
      "Epoch 156/200\n",
      "\u001b[1m303/304\u001b[0m \u001b[32m━━━━━━━━━━━━━━━━━━━\u001b[0m\u001b[37m━\u001b[0m \u001b[1m0s\u001b[0m 29ms/step - accuracy: 1.0000 - loss: 7.6478e-08\n",
      "Epoch 156: val_accuracy did not improve from 0.98806\n",
      "\u001b[1m304/304\u001b[0m \u001b[32m━━━━━━━━━━━━━━━━━━━━\u001b[0m\u001b[37m\u001b[0m \u001b[1m9s\u001b[0m 31ms/step - accuracy: 1.0000 - loss: 7.6442e-08 - val_accuracy: 0.9868 - val_loss: 0.1461\n",
      "Epoch 157/200\n",
      "\u001b[1m303/304\u001b[0m \u001b[32m━━━━━━━━━━━━━━━━━━━\u001b[0m\u001b[37m━\u001b[0m \u001b[1m0s\u001b[0m 29ms/step - accuracy: 1.0000 - loss: 6.4332e-08\n",
      "Epoch 157: val_accuracy did not improve from 0.98806\n",
      "\u001b[1m304/304\u001b[0m \u001b[32m━━━━━━━━━━━━━━━━━━━━\u001b[0m\u001b[37m\u001b[0m \u001b[1m10s\u001b[0m 31ms/step - accuracy: 1.0000 - loss: 6.4301e-08 - val_accuracy: 0.9868 - val_loss: 0.1477\n",
      "Epoch 158/200\n",
      "\u001b[1m303/304\u001b[0m \u001b[32m━━━━━━━━━━━━━━━━━━━\u001b[0m\u001b[37m━\u001b[0m \u001b[1m0s\u001b[0m 29ms/step - accuracy: 1.0000 - loss: 5.4749e-08\n",
      "Epoch 158: val_accuracy did not improve from 0.98806\n",
      "\u001b[1m304/304\u001b[0m \u001b[32m━━━━━━━━━━━━━━━━━━━━\u001b[0m\u001b[37m\u001b[0m \u001b[1m9s\u001b[0m 31ms/step - accuracy: 1.0000 - loss: 5.4722e-08 - val_accuracy: 0.9872 - val_loss: 0.1494\n",
      "Epoch 159/200\n",
      "\u001b[1m303/304\u001b[0m \u001b[32m━━━━━━━━━━━━━━━━━━━\u001b[0m\u001b[37m━\u001b[0m \u001b[1m0s\u001b[0m 28ms/step - accuracy: 1.0000 - loss: 4.6526e-08\n",
      "Epoch 159: val_accuracy did not improve from 0.98806\n",
      "\u001b[1m304/304\u001b[0m \u001b[32m━━━━━━━━━━━━━━━━━━━━\u001b[0m\u001b[37m\u001b[0m \u001b[1m9s\u001b[0m 30ms/step - accuracy: 1.0000 - loss: 4.6502e-08 - val_accuracy: 0.9872 - val_loss: 0.1510\n",
      "Epoch 160/200\n",
      "\u001b[1m302/304\u001b[0m \u001b[32m━━━━━━━━━━━━━━━━━━━\u001b[0m\u001b[37m━\u001b[0m \u001b[1m0s\u001b[0m 29ms/step - accuracy: 1.0000 - loss: 3.9359e-08\n",
      "Epoch 160: val_accuracy did not improve from 0.98806\n",
      "\u001b[1m304/304\u001b[0m \u001b[32m━━━━━━━━━━━━━━━━━━━━\u001b[0m\u001b[37m\u001b[0m \u001b[1m9s\u001b[0m 31ms/step - accuracy: 1.0000 - loss: 3.9329e-08 - val_accuracy: 0.9868 - val_loss: 0.1526\n",
      "Epoch 161/200\n",
      "\u001b[1m302/304\u001b[0m \u001b[32m━━━━━━━━━━━━━━━━━━━\u001b[0m\u001b[37m━\u001b[0m \u001b[1m0s\u001b[0m 29ms/step - accuracy: 1.0000 - loss: 3.3497e-08\n",
      "Epoch 161: val_accuracy did not improve from 0.98806\n",
      "\u001b[1m304/304\u001b[0m \u001b[32m━━━━━━━━━━━━━━━━━━━━\u001b[0m\u001b[37m\u001b[0m \u001b[1m10s\u001b[0m 31ms/step - accuracy: 1.0000 - loss: 3.3471e-08 - val_accuracy: 0.9868 - val_loss: 0.1542\n",
      "Epoch 162/200\n",
      "\u001b[1m303/304\u001b[0m \u001b[32m━━━━━━━━━━━━━━━━━━━\u001b[0m\u001b[37m━\u001b[0m \u001b[1m0s\u001b[0m 29ms/step - accuracy: 1.0000 - loss: 2.8681e-08\n",
      "Epoch 162: val_accuracy did not improve from 0.98806\n",
      "\u001b[1m304/304\u001b[0m \u001b[32m━━━━━━━━━━━━━━━━━━━━\u001b[0m\u001b[37m\u001b[0m \u001b[1m9s\u001b[0m 31ms/step - accuracy: 1.0000 - loss: 2.8666e-08 - val_accuracy: 0.9868 - val_loss: 0.1558\n",
      "Epoch 163/200\n",
      "\u001b[1m303/304\u001b[0m \u001b[32m━━━━━━━━━━━━━━━━━━━\u001b[0m\u001b[37m━\u001b[0m \u001b[1m0s\u001b[0m 29ms/step - accuracy: 1.0000 - loss: 2.4488e-08\n",
      "Epoch 163: val_accuracy did not improve from 0.98806\n",
      "\u001b[1m304/304\u001b[0m \u001b[32m━━━━━━━━━━━━━━━━━━━━\u001b[0m\u001b[37m\u001b[0m \u001b[1m9s\u001b[0m 31ms/step - accuracy: 1.0000 - loss: 2.4474e-08 - val_accuracy: 0.9868 - val_loss: 0.1574\n",
      "Epoch 164/200\n",
      "\u001b[1m302/304\u001b[0m \u001b[32m━━━━━━━━━━━━━━━━━━━\u001b[0m\u001b[37m━\u001b[0m \u001b[1m0s\u001b[0m 29ms/step - accuracy: 1.0000 - loss: 2.0822e-08\n",
      "Epoch 164: val_accuracy did not improve from 0.98806\n",
      "\u001b[1m304/304\u001b[0m \u001b[32m━━━━━━━━━━━━━━━━━━━━\u001b[0m\u001b[37m\u001b[0m \u001b[1m10s\u001b[0m 31ms/step - accuracy: 1.0000 - loss: 2.0806e-08 - val_accuracy: 0.9868 - val_loss: 0.1590\n",
      "Epoch 165/200\n",
      "\u001b[1m303/304\u001b[0m \u001b[32m━━━━━━━━━━━━━━━━━━━\u001b[0m\u001b[37m━\u001b[0m \u001b[1m0s\u001b[0m 29ms/step - accuracy: 1.0000 - loss: 1.7632e-08\n",
      "Epoch 165: val_accuracy did not improve from 0.98806\n",
      "\u001b[1m304/304\u001b[0m \u001b[32m━━━━━━━━━━━━━━━━━━━━\u001b[0m\u001b[37m\u001b[0m \u001b[1m9s\u001b[0m 31ms/step - accuracy: 1.0000 - loss: 1.7623e-08 - val_accuracy: 0.9868 - val_loss: 0.1606\n",
      "Epoch 166/200\n",
      "\u001b[1m303/304\u001b[0m \u001b[32m━━━━━━━━━━━━━━━━━━━\u001b[0m\u001b[37m━\u001b[0m \u001b[1m0s\u001b[0m 29ms/step - accuracy: 1.0000 - loss: 1.4859e-08\n",
      "Epoch 166: val_accuracy did not improve from 0.98806\n",
      "\u001b[1m304/304\u001b[0m \u001b[32m━━━━━━━━━━━━━━━━━━━━\u001b[0m\u001b[37m\u001b[0m \u001b[1m9s\u001b[0m 31ms/step - accuracy: 1.0000 - loss: 1.4852e-08 - val_accuracy: 0.9868 - val_loss: 0.1621\n",
      "Epoch 167/200\n",
      "\u001b[1m302/304\u001b[0m \u001b[32m━━━━━━━━━━━━━━━━━━━\u001b[0m\u001b[37m━\u001b[0m \u001b[1m0s\u001b[0m 29ms/step - accuracy: 1.0000 - loss: 1.2722e-08\n",
      "Epoch 167: val_accuracy did not improve from 0.98806\n",
      "\u001b[1m304/304\u001b[0m \u001b[32m━━━━━━━━━━━━━━━━━━━━\u001b[0m\u001b[37m\u001b[0m \u001b[1m10s\u001b[0m 31ms/step - accuracy: 1.0000 - loss: 1.2713e-08 - val_accuracy: 0.9868 - val_loss: 0.1635\n",
      "Epoch 168/200\n",
      "\u001b[1m303/304\u001b[0m \u001b[32m━━━━━━━━━━━━━━━━━━━\u001b[0m\u001b[37m━\u001b[0m \u001b[1m0s\u001b[0m 30ms/step - accuracy: 1.0000 - loss: 1.1134e-08\n",
      "Epoch 168: val_accuracy did not improve from 0.98806\n",
      "\u001b[1m304/304\u001b[0m \u001b[32m━━━━━━━━━━━━━━━━━━━━\u001b[0m\u001b[37m\u001b[0m \u001b[1m10s\u001b[0m 32ms/step - accuracy: 1.0000 - loss: 1.1128e-08 - val_accuracy: 0.9868 - val_loss: 0.1649\n",
      "Epoch 169/200\n",
      "\u001b[1m303/304\u001b[0m \u001b[32m━━━━━━━━━━━━━━━━━━━\u001b[0m\u001b[37m━\u001b[0m \u001b[1m0s\u001b[0m 29ms/step - accuracy: 1.0000 - loss: 9.4355e-09\n",
      "Epoch 169: val_accuracy did not improve from 0.98806\n",
      "\u001b[1m304/304\u001b[0m \u001b[32m━━━━━━━━━━━━━━━━━━━━\u001b[0m\u001b[37m\u001b[0m \u001b[1m9s\u001b[0m 31ms/step - accuracy: 1.0000 - loss: 9.4304e-09 - val_accuracy: 0.9868 - val_loss: 0.1664\n",
      "Epoch 170/200\n",
      "\u001b[1m302/304\u001b[0m \u001b[32m━━━━━━━━━━━━━━━━━━━\u001b[0m\u001b[37m━\u001b[0m \u001b[1m0s\u001b[0m 29ms/step - accuracy: 1.0000 - loss: 8.1151e-09\n",
      "Epoch 170: val_accuracy did not improve from 0.98806\n",
      "\u001b[1m304/304\u001b[0m \u001b[32m━━━━━━━━━━━━━━━━━━━━\u001b[0m\u001b[37m\u001b[0m \u001b[1m10s\u001b[0m 31ms/step - accuracy: 1.0000 - loss: 8.1089e-09 - val_accuracy: 0.9868 - val_loss: 0.1677\n",
      "Epoch 171/200\n",
      "\u001b[1m303/304\u001b[0m \u001b[32m━━━━━━━━━━━━━━━━━━━\u001b[0m\u001b[37m━\u001b[0m \u001b[1m0s\u001b[0m 29ms/step - accuracy: 1.0000 - loss: 6.9404e-09\n",
      "Epoch 171: val_accuracy did not improve from 0.98806\n",
      "\u001b[1m304/304\u001b[0m \u001b[32m━━━━━━━━━━━━━━━━━━━━\u001b[0m\u001b[37m\u001b[0m \u001b[1m9s\u001b[0m 31ms/step - accuracy: 1.0000 - loss: 6.9367e-09 - val_accuracy: 0.9868 - val_loss: 0.1692\n",
      "Epoch 172/200\n",
      "\u001b[1m303/304\u001b[0m \u001b[32m━━━━━━━━━━━━━━━━━━━\u001b[0m\u001b[37m━\u001b[0m \u001b[1m0s\u001b[0m 29ms/step - accuracy: 1.0000 - loss: 5.9999e-09\n",
      "Epoch 172: val_accuracy did not improve from 0.98806\n",
      "\u001b[1m304/304\u001b[0m \u001b[32m━━━━━━━━━━━━━━━━━━━━\u001b[0m\u001b[37m\u001b[0m \u001b[1m9s\u001b[0m 31ms/step - accuracy: 1.0000 - loss: 5.9965e-09 - val_accuracy: 0.9868 - val_loss: 0.1705\n",
      "Epoch 173/200\n",
      "\u001b[1m303/304\u001b[0m \u001b[32m━━━━━━━━━━━━━━━━━━━\u001b[0m\u001b[37m━\u001b[0m \u001b[1m0s\u001b[0m 30ms/step - accuracy: 1.0000 - loss: 5.1111e-09\n",
      "Epoch 173: val_accuracy did not improve from 0.98806\n",
      "\u001b[1m304/304\u001b[0m \u001b[32m━━━━━━━━━━━━━━━━━━━━\u001b[0m\u001b[37m\u001b[0m \u001b[1m10s\u001b[0m 32ms/step - accuracy: 1.0000 - loss: 5.1083e-09 - val_accuracy: 0.9868 - val_loss: 0.1717\n",
      "Epoch 174/200\n",
      "\u001b[1m302/304\u001b[0m \u001b[32m━━━━━━━━━━━━━━━━━━━\u001b[0m\u001b[37m━\u001b[0m \u001b[1m0s\u001b[0m 30ms/step - accuracy: 1.0000 - loss: 4.5134e-09\n",
      "Epoch 174: val_accuracy did not improve from 0.98806\n",
      "\u001b[1m304/304\u001b[0m \u001b[32m━━━━━━━━━━━━━━━━━━━━\u001b[0m\u001b[37m\u001b[0m \u001b[1m10s\u001b[0m 32ms/step - accuracy: 1.0000 - loss: 4.5091e-09 - val_accuracy: 0.9868 - val_loss: 0.1730\n",
      "Epoch 175/200\n",
      "\u001b[1m303/304\u001b[0m \u001b[32m━━━━━━━━━━━━━━━━━━━\u001b[0m\u001b[37m━\u001b[0m \u001b[1m0s\u001b[0m 30ms/step - accuracy: 1.0000 - loss: 3.8776e-09\n",
      "Epoch 175: val_accuracy did not improve from 0.98806\n",
      "\u001b[1m304/304\u001b[0m \u001b[32m━━━━━━━━━━━━━━━━━━━━\u001b[0m\u001b[37m\u001b[0m \u001b[1m10s\u001b[0m 32ms/step - accuracy: 1.0000 - loss: 3.8746e-09 - val_accuracy: 0.9868 - val_loss: 0.1741\n",
      "Epoch 176/200\n",
      "\u001b[1m303/304\u001b[0m \u001b[32m━━━━━━━━━━━━━━━━━━━\u001b[0m\u001b[37m━\u001b[0m \u001b[1m0s\u001b[0m 30ms/step - accuracy: 1.0000 - loss: 3.3273e-09\n",
      "Epoch 176: val_accuracy did not improve from 0.98806\n",
      "\u001b[1m304/304\u001b[0m \u001b[32m━━━━━━━━━━━━━━━━━━━━\u001b[0m\u001b[37m\u001b[0m \u001b[1m10s\u001b[0m 32ms/step - accuracy: 1.0000 - loss: 3.3251e-09 - val_accuracy: 0.9868 - val_loss: 0.1750\n",
      "Epoch 177/200\n",
      "\u001b[1m303/304\u001b[0m \u001b[32m━━━━━━━━━━━━━━━━━━━\u001b[0m\u001b[37m━\u001b[0m \u001b[1m0s\u001b[0m 29ms/step - accuracy: 1.0000 - loss: 2.8515e-09\n",
      "Epoch 177: val_accuracy did not improve from 0.98806\n",
      "\u001b[1m304/304\u001b[0m \u001b[32m━━━━━━━━━━━━━━━━━━━━\u001b[0m\u001b[37m\u001b[0m \u001b[1m9s\u001b[0m 31ms/step - accuracy: 1.0000 - loss: 2.8501e-09 - val_accuracy: 0.9868 - val_loss: 0.1760\n",
      "Epoch 178/200\n",
      "\u001b[1m303/304\u001b[0m \u001b[32m━━━━━━━━━━━━━━━━━━━\u001b[0m\u001b[37m━\u001b[0m \u001b[1m0s\u001b[0m 29ms/step - accuracy: 1.0000 - loss: 2.3763e-09\n",
      "Epoch 178: val_accuracy did not improve from 0.98806\n",
      "\u001b[1m304/304\u001b[0m \u001b[32m━━━━━━━━━━━━━━━━━━━━\u001b[0m\u001b[37m\u001b[0m \u001b[1m9s\u001b[0m 31ms/step - accuracy: 1.0000 - loss: 2.3754e-09 - val_accuracy: 0.9868 - val_loss: 0.1773\n",
      "Epoch 179/200\n",
      "\u001b[1m303/304\u001b[0m \u001b[32m━━━━━━━━━━━━━━━━━━━\u001b[0m\u001b[37m━\u001b[0m \u001b[1m0s\u001b[0m 29ms/step - accuracy: 1.0000 - loss: 2.1024e-09\n",
      "Epoch 179: val_accuracy did not improve from 0.98806\n",
      "\u001b[1m304/304\u001b[0m \u001b[32m━━━━━━━━━━━━━━━━━━━━\u001b[0m\u001b[37m\u001b[0m \u001b[1m10s\u001b[0m 31ms/step - accuracy: 1.0000 - loss: 2.1015e-09 - val_accuracy: 0.9868 - val_loss: 0.1788\n",
      "Epoch 180/200\n",
      "\u001b[1m303/304\u001b[0m \u001b[32m━━━━━━━━━━━━━━━━━━━\u001b[0m\u001b[37m━\u001b[0m \u001b[1m0s\u001b[0m 30ms/step - accuracy: 1.0000 - loss: 1.7092e-09\n",
      "Epoch 180: val_accuracy did not improve from 0.98806\n",
      "\u001b[1m304/304\u001b[0m \u001b[32m━━━━━━━━━━━━━━━━━━━━\u001b[0m\u001b[37m\u001b[0m \u001b[1m10s\u001b[0m 32ms/step - accuracy: 1.0000 - loss: 1.7088e-09 - val_accuracy: 0.9868 - val_loss: 0.1802\n",
      "Epoch 181/200\n",
      "\u001b[1m303/304\u001b[0m \u001b[32m━━━━━━━━━━━━━━━━━━━\u001b[0m\u001b[37m━\u001b[0m \u001b[1m0s\u001b[0m 29ms/step - accuracy: 1.0000 - loss: 1.5147e-09\n",
      "Epoch 181: val_accuracy did not improve from 0.98806\n",
      "\u001b[1m304/304\u001b[0m \u001b[32m━━━━━━━━━━━━━━━━━━━━\u001b[0m\u001b[37m\u001b[0m \u001b[1m10s\u001b[0m 31ms/step - accuracy: 1.0000 - loss: 1.5142e-09 - val_accuracy: 0.9868 - val_loss: 0.1815\n",
      "Epoch 182/200\n",
      "\u001b[1m303/304\u001b[0m \u001b[32m━━━━━━━━━━━━━━━━━━━\u001b[0m\u001b[37m━\u001b[0m \u001b[1m0s\u001b[0m 30ms/step - accuracy: 1.0000 - loss: 1.3416e-09\n",
      "Epoch 182: val_accuracy did not improve from 0.98806\n",
      "\u001b[1m304/304\u001b[0m \u001b[32m━━━━━━━━━━━━━━━━━━━━\u001b[0m\u001b[37m\u001b[0m \u001b[1m10s\u001b[0m 32ms/step - accuracy: 1.0000 - loss: 1.3405e-09 - val_accuracy: 0.9868 - val_loss: 0.1825\n",
      "Epoch 183/200\n",
      "\u001b[1m303/304\u001b[0m \u001b[32m━━━━━━━━━━━━━━━━━━━\u001b[0m\u001b[37m━\u001b[0m \u001b[1m0s\u001b[0m 30ms/step - accuracy: 1.0000 - loss: 1.1967e-09\n",
      "Epoch 183: val_accuracy did not improve from 0.98806\n",
      "\u001b[1m304/304\u001b[0m \u001b[32m━━━━━━━━━━━━━━━━━━━━\u001b[0m\u001b[37m\u001b[0m \u001b[1m10s\u001b[0m 32ms/step - accuracy: 1.0000 - loss: 1.1956e-09 - val_accuracy: 0.9868 - val_loss: 0.1831\n",
      "Epoch 184/200\n",
      "\u001b[1m303/304\u001b[0m \u001b[32m━━━━━━━━━━━━━━━━━━━\u001b[0m\u001b[37m━\u001b[0m \u001b[1m0s\u001b[0m 30ms/step - accuracy: 1.0000 - loss: 9.9447e-10\n",
      "Epoch 184: val_accuracy did not improve from 0.98806\n",
      "\u001b[1m304/304\u001b[0m \u001b[32m━━━━━━━━━━━━━━━━━━━━\u001b[0m\u001b[37m\u001b[0m \u001b[1m10s\u001b[0m 32ms/step - accuracy: 1.0000 - loss: 9.9414e-10 - val_accuracy: 0.9868 - val_loss: 0.1839\n",
      "Epoch 185/200\n",
      "\u001b[1m303/304\u001b[0m \u001b[32m━━━━━━━━━━━━━━━━━━━\u001b[0m\u001b[37m━\u001b[0m \u001b[1m0s\u001b[0m 30ms/step - accuracy: 1.0000 - loss: 7.7444e-10\n",
      "Epoch 185: val_accuracy did not improve from 0.98806\n",
      "\u001b[1m304/304\u001b[0m \u001b[32m━━━━━━━━━━━━━━━━━━━━\u001b[0m\u001b[37m\u001b[0m \u001b[1m10s\u001b[0m 32ms/step - accuracy: 1.0000 - loss: 7.7451e-10 - val_accuracy: 0.9868 - val_loss: 0.1849\n",
      "Epoch 186/200\n",
      "\u001b[1m303/304\u001b[0m \u001b[32m━━━━━━━━━━━━━━━━━━━\u001b[0m\u001b[37m━\u001b[0m \u001b[1m0s\u001b[0m 34ms/step - accuracy: 1.0000 - loss: 6.1147e-10\n",
      "Epoch 186: val_accuracy did not improve from 0.98806\n",
      "\u001b[1m304/304\u001b[0m \u001b[32m━━━━━━━━━━━━━━━━━━━━\u001b[0m\u001b[37m\u001b[0m \u001b[1m11s\u001b[0m 36ms/step - accuracy: 1.0000 - loss: 6.1165e-10 - val_accuracy: 0.9868 - val_loss: 0.1857\n",
      "Epoch 187/200\n",
      "\u001b[1m302/304\u001b[0m \u001b[32m━━━━━━━━━━━━━━━━━━━\u001b[0m\u001b[37m━\u001b[0m \u001b[1m0s\u001b[0m 62ms/step - accuracy: 1.0000 - loss: 4.7590e-10\n",
      "Epoch 187: val_accuracy did not improve from 0.98806\n",
      "\u001b[1m304/304\u001b[0m \u001b[32m━━━━━━━━━━━━━━━━━━━━\u001b[0m\u001b[37m\u001b[0m \u001b[1m19s\u001b[0m 64ms/step - accuracy: 1.0000 - loss: 4.7617e-10 - val_accuracy: 0.9868 - val_loss: 0.1862\n",
      "Epoch 188/200\n",
      "\u001b[1m302/304\u001b[0m \u001b[32m━━━━━━━━━━━━━━━━━━━\u001b[0m\u001b[37m━\u001b[0m \u001b[1m0s\u001b[0m 34ms/step - accuracy: 1.0000 - loss: 4.2474e-10\n",
      "Epoch 188: val_accuracy did not improve from 0.98806\n",
      "\u001b[1m304/304\u001b[0m \u001b[32m━━━━━━━━━━━━━━━━━━━━\u001b[0m\u001b[37m\u001b[0m \u001b[1m11s\u001b[0m 36ms/step - accuracy: 1.0000 - loss: 4.2504e-10 - val_accuracy: 0.9872 - val_loss: 0.1865\n",
      "Epoch 189/200\n",
      "\u001b[1m302/304\u001b[0m \u001b[32m━━━━━━━━━━━━━━━━━━━\u001b[0m\u001b[37m━\u001b[0m \u001b[1m0s\u001b[0m 30ms/step - accuracy: 1.0000 - loss: 4.1960e-10\n",
      "Epoch 189: val_accuracy did not improve from 0.98806\n",
      "\u001b[1m304/304\u001b[0m \u001b[32m━━━━━━━━━━━━━━━━━━━━\u001b[0m\u001b[37m\u001b[0m \u001b[1m10s\u001b[0m 32ms/step - accuracy: 1.0000 - loss: 4.1970e-10 - val_accuracy: 0.9872 - val_loss: 0.1875\n",
      "Epoch 190/200\n",
      "\u001b[1m303/304\u001b[0m \u001b[32m━━━━━━━━━━━━━━━━━━━\u001b[0m\u001b[37m━\u001b[0m \u001b[1m0s\u001b[0m 29ms/step - accuracy: 1.0000 - loss: 3.3451e-10\n",
      "Epoch 190: val_accuracy did not improve from 0.98806\n",
      "\u001b[1m304/304\u001b[0m \u001b[32m━━━━━━━━━━━━━━━━━━━━\u001b[0m\u001b[37m\u001b[0m \u001b[1m9s\u001b[0m 31ms/step - accuracy: 1.0000 - loss: 3.3433e-10 - val_accuracy: 0.9872 - val_loss: 0.1889\n",
      "Epoch 191/200\n",
      "\u001b[1m303/304\u001b[0m \u001b[32m━━━━━━━━━━━━━━━━━━━\u001b[0m\u001b[37m━\u001b[0m \u001b[1m0s\u001b[0m 29ms/step - accuracy: 1.0000 - loss: 3.0739e-10\n",
      "Epoch 191: val_accuracy did not improve from 0.98806\n",
      "\u001b[1m304/304\u001b[0m \u001b[32m━━━━━━━━━━━━━━━━━━━━\u001b[0m\u001b[37m\u001b[0m \u001b[1m9s\u001b[0m 31ms/step - accuracy: 1.0000 - loss: 3.0747e-10 - val_accuracy: 0.9868 - val_loss: 0.1884\n",
      "Epoch 192/200\n",
      "\u001b[1m303/304\u001b[0m \u001b[32m━━━━━━━━━━━━━━━━━━━\u001b[0m\u001b[37m━\u001b[0m \u001b[1m0s\u001b[0m 154ms/step - accuracy: 1.0000 - loss: 2.5976e-10\n",
      "Epoch 192: val_accuracy did not improve from 0.98806\n",
      "\u001b[1m304/304\u001b[0m \u001b[32m━━━━━━━━━━━━━━━━━━━━\u001b[0m\u001b[37m\u001b[0m \u001b[1m47s\u001b[0m 156ms/step - accuracy: 1.0000 - loss: 2.5958e-10 - val_accuracy: 0.9868 - val_loss: 0.1902\n",
      "Epoch 193/200\n",
      "\u001b[1m302/304\u001b[0m \u001b[32m━━━━━━━━━━━━━━━━━━━\u001b[0m\u001b[37m━\u001b[0m \u001b[1m0s\u001b[0m 30ms/step - accuracy: 1.0000 - loss: 1.8969e-10\n",
      "Epoch 193: val_accuracy did not improve from 0.98806\n",
      "\u001b[1m304/304\u001b[0m \u001b[32m━━━━━━━━━━━━━━━━━━━━\u001b[0m\u001b[37m\u001b[0m \u001b[1m10s\u001b[0m 32ms/step - accuracy: 1.0000 - loss: 1.8963e-10 - val_accuracy: 0.9872 - val_loss: 0.1910\n",
      "Epoch 194/200\n",
      "\u001b[1m303/304\u001b[0m \u001b[32m━━━━━━━━━━━━━━━━━━━\u001b[0m\u001b[37m━\u001b[0m \u001b[1m0s\u001b[0m 29ms/step - accuracy: 1.0000 - loss: 2.1408e-10\n",
      "Epoch 194: val_accuracy did not improve from 0.98806\n",
      "\u001b[1m304/304\u001b[0m \u001b[32m━━━━━━━━━━━━━━━━━━━━\u001b[0m\u001b[37m\u001b[0m \u001b[1m10s\u001b[0m 31ms/step - accuracy: 1.0000 - loss: 2.1388e-10 - val_accuracy: 0.9872 - val_loss: 0.1922\n",
      "Epoch 195/200\n",
      "\u001b[1m303/304\u001b[0m \u001b[32m━━━━━━━━━━━━━━━━━━━\u001b[0m\u001b[37m━\u001b[0m \u001b[1m0s\u001b[0m 30ms/step - accuracy: 1.0000 - loss: 1.6173e-10\n",
      "Epoch 195: val_accuracy did not improve from 0.98806\n",
      "\u001b[1m304/304\u001b[0m \u001b[32m━━━━━━━━━━━━━━━━━━━━\u001b[0m\u001b[37m\u001b[0m \u001b[1m10s\u001b[0m 32ms/step - accuracy: 1.0000 - loss: 1.6172e-10 - val_accuracy: 0.9868 - val_loss: 0.1912\n"
     ]
    },
    {
     "name": "stderr",
     "output_type": "stream",
     "text": [
      "WARNING:absl:Compiled the loaded model, but the compiled metrics have yet to be built. `model.compile_metrics` will be empty until you train or evaluate the model.\n"
     ]
    },
    {
     "name": "stdout",
     "output_type": "stream",
     "text": [
      "Best model saved at: CNN2D_results/V4_2_NOL_exp2/best_model_3.h5\n",
      "Best model loaded successfully!\n",
      "\u001b[1m 6/76\u001b[0m \u001b[32m━\u001b[0m\u001b[37m━━━━━━━━━━━━━━━━━━━\u001b[0m \u001b[1m0s\u001b[0m 11ms/step  "
     ]
    },
    {
     "name": "stderr",
     "output_type": "stream",
     "text": [
      "2025-06-04 15:35:52.817054: E tensorflow/core/framework/node_def_util.cc:680] NodeDef mentions attribute use_unbounded_threadpool which is not in the op definition: Op<name=MapDataset; signature=input_dataset:variant, other_arguments: -> handle:variant; attr=f:func; attr=Targuments:list(type),min=0; attr=output_types:list(type),min=1; attr=output_shapes:list(shape),min=1; attr=use_inter_op_parallelism:bool,default=true; attr=preserve_cardinality:bool,default=false; attr=force_synchronous:bool,default=false; attr=metadata:string,default=\"\"> This may be expected if your graph generating binary is newer  than this binary. Unknown attributes will be ignored. NodeDef: {{node ParallelMapDatasetV2/_14}}\n",
      "2025-06-04 15:35:52.818237: E tensorflow/core/framework/node_def_util.cc:680] NodeDef mentions attribute use_unbounded_threadpool which is not in the op definition: Op<name=MapDataset; signature=input_dataset:variant, other_arguments: -> handle:variant; attr=f:func; attr=Targuments:list(type),min=0; attr=output_types:list(type),min=1; attr=output_shapes:list(shape),min=1; attr=use_inter_op_parallelism:bool,default=true; attr=preserve_cardinality:bool,default=false; attr=force_synchronous:bool,default=false; attr=metadata:string,default=\"\"> This may be expected if your graph generating binary is newer  than this binary. Unknown attributes will be ignored. NodeDef: {{node ParallelMapDatasetV2/_14}}\n"
     ]
    },
    {
     "name": "stdout",
     "output_type": "stream",
     "text": [
      "\u001b[1m76/76\u001b[0m \u001b[32m━━━━━━━━━━━━━━━━━━━━\u001b[0m\u001b[37m\u001b[0m \u001b[1m1s\u001b[0m 9ms/step\n",
      "\u001b[1m304/304\u001b[0m \u001b[32m━━━━━━━━━━━━━━━━━━━━\u001b[0m\u001b[37m\u001b[0m \u001b[1m3s\u001b[0m 8ms/step - accuracy: 1.0000 - loss: 3.2096e-07\n",
      "\u001b[1m76/76\u001b[0m \u001b[32m━━━━━━━━━━━━━━━━━━━━\u001b[0m\u001b[37m\u001b[0m \u001b[1m1s\u001b[0m 8ms/step - accuracy: 0.9918 - loss: 0.1043\n",
      "\u001b[1m95/95\u001b[0m \u001b[32m━━━━━━━━━━━━━━━━━━━━\u001b[0m\u001b[37m\u001b[0m \u001b[1m1s\u001b[0m 8ms/step - accuracy: 0.9883 - loss: 0.0526\n",
      "Epoch 1/200\n"
     ]
    },
    {
     "name": "stderr",
     "output_type": "stream",
     "text": [
      "2025-06-04 15:35:57.982874: E tensorflow/core/framework/node_def_util.cc:680] NodeDef mentions attribute use_unbounded_threadpool which is not in the op definition: Op<name=MapDataset; signature=input_dataset:variant, other_arguments: -> handle:variant; attr=f:func; attr=Targuments:list(type),min=0; attr=output_types:list(type),min=1; attr=output_shapes:list(shape),min=1; attr=use_inter_op_parallelism:bool,default=true; attr=preserve_cardinality:bool,default=false; attr=force_synchronous:bool,default=false; attr=metadata:string,default=\"\"> This may be expected if your graph generating binary is newer  than this binary. Unknown attributes will be ignored. NodeDef: {{node ParallelMapDatasetV2/_15}}\n",
      "2025-06-04 15:35:57.983165: E tensorflow/core/framework/node_def_util.cc:680] NodeDef mentions attribute use_unbounded_threadpool which is not in the op definition: Op<name=MapDataset; signature=input_dataset:variant, other_arguments: -> handle:variant; attr=f:func; attr=Targuments:list(type),min=0; attr=output_types:list(type),min=1; attr=output_shapes:list(shape),min=1; attr=use_inter_op_parallelism:bool,default=true; attr=preserve_cardinality:bool,default=false; attr=force_synchronous:bool,default=false; attr=metadata:string,default=\"\"> This may be expected if your graph generating binary is newer  than this binary. Unknown attributes will be ignored. NodeDef: {{node ParallelMapDatasetV2/_15}}\n"
     ]
    },
    {
     "name": "stdout",
     "output_type": "stream",
     "text": [
      "\u001b[1m302/304\u001b[0m \u001b[32m━━━━━━━━━━━━━━━━━━━\u001b[0m\u001b[37m━\u001b[0m \u001b[1m0s\u001b[0m 29ms/step - accuracy: 0.4912 - loss: 1.3278"
     ]
    },
    {
     "name": "stderr",
     "output_type": "stream",
     "text": [
      "2025-06-04 15:36:07.483527: E tensorflow/core/framework/node_def_util.cc:680] NodeDef mentions attribute use_unbounded_threadpool which is not in the op definition: Op<name=MapDataset; signature=input_dataset:variant, other_arguments: -> handle:variant; attr=f:func; attr=Targuments:list(type),min=0; attr=output_types:list(type),min=1; attr=output_shapes:list(shape),min=1; attr=use_inter_op_parallelism:bool,default=true; attr=preserve_cardinality:bool,default=false; attr=force_synchronous:bool,default=false; attr=metadata:string,default=\"\"> This may be expected if your graph generating binary is newer  than this binary. Unknown attributes will be ignored. NodeDef: {{node ParallelMapDatasetV2/_15}}\n",
      "2025-06-04 15:36:07.483801: E tensorflow/core/framework/node_def_util.cc:680] NodeDef mentions attribute use_unbounded_threadpool which is not in the op definition: Op<name=MapDataset; signature=input_dataset:variant, other_arguments: -> handle:variant; attr=f:func; attr=Targuments:list(type),min=0; attr=output_types:list(type),min=1; attr=output_shapes:list(shape),min=1; attr=use_inter_op_parallelism:bool,default=true; attr=preserve_cardinality:bool,default=false; attr=force_synchronous:bool,default=false; attr=metadata:string,default=\"\"> This may be expected if your graph generating binary is newer  than this binary. Unknown attributes will be ignored. NodeDef: {{node ParallelMapDatasetV2/_15}}\n"
     ]
    },
    {
     "name": "stdout",
     "output_type": "stream",
     "text": [
      "\n",
      "Epoch 1: val_accuracy improved from -inf to 0.80560, saving model to CNN2D_results/V4_2_NOL_exp2/best_model_4.h5\n"
     ]
    },
    {
     "name": "stderr",
     "output_type": "stream",
     "text": [
      "WARNING:absl:You are saving your model as an HDF5 file via `model.save()` or `keras.saving.save_model(model)`. This file format is considered legacy. We recommend using instead the native Keras format, e.g. `model.save('my_model.keras')` or `keras.saving.save_model(model, 'my_model.keras')`. \n"
     ]
    },
    {
     "name": "stdout",
     "output_type": "stream",
     "text": [
      "\u001b[1m304/304\u001b[0m \u001b[32m━━━━━━━━━━━━━━━━━━━━\u001b[0m\u001b[37m\u001b[0m \u001b[1m10s\u001b[0m 31ms/step - accuracy: 0.4930 - loss: 1.3231 - val_accuracy: 0.8056 - val_loss: 0.4548\n",
      "Epoch 2/200\n",
      "\u001b[1m303/304\u001b[0m \u001b[32m━━━━━━━━━━━━━━━━━━━\u001b[0m\u001b[37m━\u001b[0m \u001b[1m0s\u001b[0m 29ms/step - accuracy: 0.8400 - loss: 0.3983\n",
      "Epoch 2: val_accuracy improved from 0.80560 to 0.82372, saving model to CNN2D_results/V4_2_NOL_exp2/best_model_4.h5\n"
     ]
    },
    {
     "name": "stderr",
     "output_type": "stream",
     "text": [
      "WARNING:absl:You are saving your model as an HDF5 file via `model.save()` or `keras.saving.save_model(model)`. This file format is considered legacy. We recommend using instead the native Keras format, e.g. `model.save('my_model.keras')` or `keras.saving.save_model(model, 'my_model.keras')`. \n"
     ]
    },
    {
     "name": "stdout",
     "output_type": "stream",
     "text": [
      "\u001b[1m304/304\u001b[0m \u001b[32m━━━━━━━━━━━━━━━━━━━━\u001b[0m\u001b[37m\u001b[0m \u001b[1m10s\u001b[0m 32ms/step - accuracy: 0.8400 - loss: 0.3982 - val_accuracy: 0.8237 - val_loss: 0.3860\n",
      "Epoch 3/200\n",
      "\u001b[1m303/304\u001b[0m \u001b[32m━━━━━━━━━━━━━━━━━━━\u001b[0m\u001b[37m━\u001b[0m \u001b[1m0s\u001b[0m 29ms/step - accuracy: 0.8743 - loss: 0.2925\n",
      "Epoch 3: val_accuracy improved from 0.82372 to 0.88015, saving model to CNN2D_results/V4_2_NOL_exp2/best_model_4.h5\n"
     ]
    },
    {
     "name": "stderr",
     "output_type": "stream",
     "text": [
      "WARNING:absl:You are saving your model as an HDF5 file via `model.save()` or `keras.saving.save_model(model)`. This file format is considered legacy. We recommend using instead the native Keras format, e.g. `model.save('my_model.keras')` or `keras.saving.save_model(model, 'my_model.keras')`. \n"
     ]
    },
    {
     "name": "stdout",
     "output_type": "stream",
     "text": [
      "\u001b[1m304/304\u001b[0m \u001b[32m━━━━━━━━━━━━━━━━━━━━\u001b[0m\u001b[37m\u001b[0m \u001b[1m9s\u001b[0m 31ms/step - accuracy: 0.8743 - loss: 0.2925 - val_accuracy: 0.8801 - val_loss: 0.2650\n",
      "Epoch 4/200\n",
      "\u001b[1m303/304\u001b[0m \u001b[32m━━━━━━━━━━━━━━━━━━━\u001b[0m\u001b[37m━\u001b[0m \u001b[1m0s\u001b[0m 29ms/step - accuracy: 0.8987 - loss: 0.2395\n",
      "Epoch 4: val_accuracy improved from 0.88015 to 0.88591, saving model to CNN2D_results/V4_2_NOL_exp2/best_model_4.h5\n"
     ]
    },
    {
     "name": "stderr",
     "output_type": "stream",
     "text": [
      "WARNING:absl:You are saving your model as an HDF5 file via `model.save()` or `keras.saving.save_model(model)`. This file format is considered legacy. We recommend using instead the native Keras format, e.g. `model.save('my_model.keras')` or `keras.saving.save_model(model, 'my_model.keras')`. \n"
     ]
    },
    {
     "name": "stdout",
     "output_type": "stream",
     "text": [
      "\u001b[1m304/304\u001b[0m \u001b[32m━━━━━━━━━━━━━━━━━━━━\u001b[0m\u001b[37m\u001b[0m \u001b[1m9s\u001b[0m 31ms/step - accuracy: 0.8987 - loss: 0.2395 - val_accuracy: 0.8859 - val_loss: 0.2213\n",
      "Epoch 5/200\n",
      "\u001b[1m302/304\u001b[0m \u001b[32m━━━━━━━━━━━━━━━━━━━\u001b[0m\u001b[37m━\u001b[0m \u001b[1m0s\u001b[0m 29ms/step - accuracy: 0.9117 - loss: 0.1900\n",
      "Epoch 5: val_accuracy improved from 0.88591 to 0.91351, saving model to CNN2D_results/V4_2_NOL_exp2/best_model_4.h5\n"
     ]
    },
    {
     "name": "stderr",
     "output_type": "stream",
     "text": [
      "WARNING:absl:You are saving your model as an HDF5 file via `model.save()` or `keras.saving.save_model(model)`. This file format is considered legacy. We recommend using instead the native Keras format, e.g. `model.save('my_model.keras')` or `keras.saving.save_model(model, 'my_model.keras')`. \n"
     ]
    },
    {
     "name": "stdout",
     "output_type": "stream",
     "text": [
      "\u001b[1m304/304\u001b[0m \u001b[32m━━━━━━━━━━━━━━━━━━━━\u001b[0m\u001b[37m\u001b[0m \u001b[1m10s\u001b[0m 31ms/step - accuracy: 0.9117 - loss: 0.1901 - val_accuracy: 0.9135 - val_loss: 0.1818\n",
      "Epoch 6/200\n",
      "\u001b[1m302/304\u001b[0m \u001b[32m━━━━━━━━━━━━━━━━━━━\u001b[0m\u001b[37m━\u001b[0m \u001b[1m0s\u001b[0m 29ms/step - accuracy: 0.9184 - loss: 0.1836\n",
      "Epoch 6: val_accuracy improved from 0.91351 to 0.92051, saving model to CNN2D_results/V4_2_NOL_exp2/best_model_4.h5\n"
     ]
    },
    {
     "name": "stderr",
     "output_type": "stream",
     "text": [
      "WARNING:absl:You are saving your model as an HDF5 file via `model.save()` or `keras.saving.save_model(model)`. This file format is considered legacy. We recommend using instead the native Keras format, e.g. `model.save('my_model.keras')` or `keras.saving.save_model(model, 'my_model.keras')`. \n"
     ]
    },
    {
     "name": "stdout",
     "output_type": "stream",
     "text": [
      "\u001b[1m304/304\u001b[0m \u001b[32m━━━━━━━━━━━━━━━━━━━━\u001b[0m\u001b[37m\u001b[0m \u001b[1m10s\u001b[0m 31ms/step - accuracy: 0.9184 - loss: 0.1836 - val_accuracy: 0.9205 - val_loss: 0.1760\n",
      "Epoch 7/200\n",
      "\u001b[1m303/304\u001b[0m \u001b[32m━━━━━━━━━━━━━━━━━━━\u001b[0m\u001b[37m━\u001b[0m \u001b[1m0s\u001b[0m 28ms/step - accuracy: 0.9351 - loss: 0.1424\n",
      "Epoch 7: val_accuracy did not improve from 0.92051\n",
      "\u001b[1m304/304\u001b[0m \u001b[32m━━━━━━━━━━━━━━━━━━━━\u001b[0m\u001b[37m\u001b[0m \u001b[1m9s\u001b[0m 30ms/step - accuracy: 0.9350 - loss: 0.1426 - val_accuracy: 0.8999 - val_loss: 0.2633\n",
      "Epoch 8/200\n",
      "\u001b[1m303/304\u001b[0m \u001b[32m━━━━━━━━━━━━━━━━━━━\u001b[0m\u001b[37m━\u001b[0m \u001b[1m0s\u001b[0m 29ms/step - accuracy: 0.9405 - loss: 0.1386\n",
      "Epoch 8: val_accuracy improved from 0.92051 to 0.95593, saving model to CNN2D_results/V4_2_NOL_exp2/best_model_4.h5\n"
     ]
    },
    {
     "name": "stderr",
     "output_type": "stream",
     "text": [
      "WARNING:absl:You are saving your model as an HDF5 file via `model.save()` or `keras.saving.save_model(model)`. This file format is considered legacy. We recommend using instead the native Keras format, e.g. `model.save('my_model.keras')` or `keras.saving.save_model(model, 'my_model.keras')`. \n"
     ]
    },
    {
     "name": "stdout",
     "output_type": "stream",
     "text": [
      "\u001b[1m304/304\u001b[0m \u001b[32m━━━━━━━━━━━━━━━━━━━━\u001b[0m\u001b[37m\u001b[0m \u001b[1m9s\u001b[0m 31ms/step - accuracy: 0.9405 - loss: 0.1385 - val_accuracy: 0.9559 - val_loss: 0.1120\n",
      "Epoch 9/200\n",
      "\u001b[1m302/304\u001b[0m \u001b[32m━━━━━━━━━━━━━━━━━━━\u001b[0m\u001b[37m━\u001b[0m \u001b[1m0s\u001b[0m 29ms/step - accuracy: 0.9665 - loss: 0.0859\n",
      "Epoch 9: val_accuracy improved from 0.95593 to 0.96993, saving model to CNN2D_results/V4_2_NOL_exp2/best_model_4.h5\n"
     ]
    },
    {
     "name": "stderr",
     "output_type": "stream",
     "text": [
      "WARNING:absl:You are saving your model as an HDF5 file via `model.save()` or `keras.saving.save_model(model)`. This file format is considered legacy. We recommend using instead the native Keras format, e.g. `model.save('my_model.keras')` or `keras.saving.save_model(model, 'my_model.keras')`. \n"
     ]
    },
    {
     "name": "stdout",
     "output_type": "stream",
     "text": [
      "\u001b[1m304/304\u001b[0m \u001b[32m━━━━━━━━━━━━━━━━━━━━\u001b[0m\u001b[37m\u001b[0m \u001b[1m10s\u001b[0m 31ms/step - accuracy: 0.9665 - loss: 0.0860 - val_accuracy: 0.9699 - val_loss: 0.0863\n",
      "Epoch 10/200\n",
      "\u001b[1m303/304\u001b[0m \u001b[32m━━━━━━━━━━━━━━━━━━━\u001b[0m\u001b[37m━\u001b[0m \u001b[1m0s\u001b[0m 29ms/step - accuracy: 0.9693 - loss: 0.0856\n",
      "Epoch 10: val_accuracy did not improve from 0.96993\n",
      "\u001b[1m304/304\u001b[0m \u001b[32m━━━━━━━━━━━━━━━━━━━━\u001b[0m\u001b[37m\u001b[0m \u001b[1m9s\u001b[0m 31ms/step - accuracy: 0.9693 - loss: 0.0857 - val_accuracy: 0.9605 - val_loss: 0.1060\n",
      "Epoch 11/200\n",
      "\u001b[1m303/304\u001b[0m \u001b[32m━━━━━━━━━━━━━━━━━━━\u001b[0m\u001b[37m━\u001b[0m \u001b[1m0s\u001b[0m 29ms/step - accuracy: 0.9637 - loss: 0.0927\n",
      "Epoch 11: val_accuracy did not improve from 0.96993\n",
      "\u001b[1m304/304\u001b[0m \u001b[32m━━━━━━━━━━━━━━━━━━━━\u001b[0m\u001b[37m\u001b[0m \u001b[1m9s\u001b[0m 31ms/step - accuracy: 0.9637 - loss: 0.0927 - val_accuracy: 0.9230 - val_loss: 0.2543\n",
      "Epoch 12/200\n",
      "\u001b[1m303/304\u001b[0m \u001b[32m━━━━━━━━━━━━━━━━━━━\u001b[0m\u001b[37m━\u001b[0m \u001b[1m0s\u001b[0m 29ms/step - accuracy: 0.9701 - loss: 0.0818\n",
      "Epoch 12: val_accuracy did not improve from 0.96993\n",
      "\u001b[1m304/304\u001b[0m \u001b[32m━━━━━━━━━━━━━━━━━━━━\u001b[0m\u001b[37m\u001b[0m \u001b[1m9s\u001b[0m 31ms/step - accuracy: 0.9701 - loss: 0.0817 - val_accuracy: 0.9514 - val_loss: 0.1154\n",
      "Epoch 13/200\n",
      "\u001b[1m303/304\u001b[0m \u001b[32m━━━━━━━━━━━━━━━━━━━\u001b[0m\u001b[37m━\u001b[0m \u001b[1m0s\u001b[0m 28ms/step - accuracy: 0.9806 - loss: 0.0541\n",
      "Epoch 13: val_accuracy did not improve from 0.96993\n",
      "\u001b[1m304/304\u001b[0m \u001b[32m━━━━━━━━━━━━━━━━━━━━\u001b[0m\u001b[37m\u001b[0m \u001b[1m9s\u001b[0m 30ms/step - accuracy: 0.9806 - loss: 0.0540 - val_accuracy: 0.9452 - val_loss: 0.1426\n",
      "Epoch 14/200\n",
      "\u001b[1m302/304\u001b[0m \u001b[32m━━━━━━━━━━━━━━━━━━━\u001b[0m\u001b[37m━\u001b[0m \u001b[1m0s\u001b[0m 28ms/step - accuracy: 0.9809 - loss: 0.0473\n",
      "Epoch 14: val_accuracy did not improve from 0.96993\n",
      "\u001b[1m304/304\u001b[0m \u001b[32m━━━━━━━━━━━━━━━━━━━━\u001b[0m\u001b[37m\u001b[0m \u001b[1m9s\u001b[0m 30ms/step - accuracy: 0.9809 - loss: 0.0472 - val_accuracy: 0.9452 - val_loss: 0.1637\n",
      "Epoch 15/200\n",
      "\u001b[1m303/304\u001b[0m \u001b[32m━━━━━━━━━━━━━━━━━━━\u001b[0m\u001b[37m━\u001b[0m \u001b[1m0s\u001b[0m 29ms/step - accuracy: 0.9719 - loss: 0.0917\n",
      "Epoch 15: val_accuracy did not improve from 0.96993\n",
      "\u001b[1m304/304\u001b[0m \u001b[32m━━━━━━━━━━━━━━━━━━━━\u001b[0m\u001b[37m\u001b[0m \u001b[1m9s\u001b[0m 31ms/step - accuracy: 0.9720 - loss: 0.0914 - val_accuracy: 0.9592 - val_loss: 0.1223\n",
      "Epoch 16/200\n",
      "\u001b[1m303/304\u001b[0m \u001b[32m━━━━━━━━━━━━━━━━━━━\u001b[0m\u001b[37m━\u001b[0m \u001b[1m0s\u001b[0m 28ms/step - accuracy: 0.9895 - loss: 0.0284\n",
      "Epoch 16: val_accuracy improved from 0.96993 to 0.98476, saving model to CNN2D_results/V4_2_NOL_exp2/best_model_4.h5\n"
     ]
    },
    {
     "name": "stderr",
     "output_type": "stream",
     "text": [
      "WARNING:absl:You are saving your model as an HDF5 file via `model.save()` or `keras.saving.save_model(model)`. This file format is considered legacy. We recommend using instead the native Keras format, e.g. `model.save('my_model.keras')` or `keras.saving.save_model(model, 'my_model.keras')`. \n"
     ]
    },
    {
     "name": "stdout",
     "output_type": "stream",
     "text": [
      "\u001b[1m304/304\u001b[0m \u001b[32m━━━━━━━━━━━━━━━━━━━━\u001b[0m\u001b[37m\u001b[0m \u001b[1m9s\u001b[0m 30ms/step - accuracy: 0.9895 - loss: 0.0284 - val_accuracy: 0.9848 - val_loss: 0.0495\n",
      "Epoch 17/200\n",
      "\u001b[1m303/304\u001b[0m \u001b[32m━━━━━━━━━━━━━━━━━━━\u001b[0m\u001b[37m━\u001b[0m \u001b[1m0s\u001b[0m 28ms/step - accuracy: 0.9953 - loss: 0.0157\n",
      "Epoch 17: val_accuracy improved from 0.98476 to 0.98929, saving model to CNN2D_results/V4_2_NOL_exp2/best_model_4.h5\n"
     ]
    },
    {
     "name": "stderr",
     "output_type": "stream",
     "text": [
      "WARNING:absl:You are saving your model as an HDF5 file via `model.save()` or `keras.saving.save_model(model)`. This file format is considered legacy. We recommend using instead the native Keras format, e.g. `model.save('my_model.keras')` or `keras.saving.save_model(model, 'my_model.keras')`. \n"
     ]
    },
    {
     "name": "stdout",
     "output_type": "stream",
     "text": [
      "\u001b[1m304/304\u001b[0m \u001b[32m━━━━━━━━━━━━━━━━━━━━\u001b[0m\u001b[37m\u001b[0m \u001b[1m9s\u001b[0m 30ms/step - accuracy: 0.9953 - loss: 0.0157 - val_accuracy: 0.9893 - val_loss: 0.0404\n",
      "Epoch 18/200\n",
      "\u001b[1m303/304\u001b[0m \u001b[32m━━━━━━━━━━━━━━━━━━━\u001b[0m\u001b[37m━\u001b[0m \u001b[1m0s\u001b[0m 28ms/step - accuracy: 0.9945 - loss: 0.0172\n",
      "Epoch 18: val_accuracy did not improve from 0.98929\n",
      "\u001b[1m304/304\u001b[0m \u001b[32m━━━━━━━━━━━━━━━━━━━━\u001b[0m\u001b[37m\u001b[0m \u001b[1m9s\u001b[0m 30ms/step - accuracy: 0.9944 - loss: 0.0173 - val_accuracy: 0.9778 - val_loss: 0.0629\n",
      "Epoch 19/200\n",
      "\u001b[1m302/304\u001b[0m \u001b[32m━━━━━━━━━━━━━━━━━━━\u001b[0m\u001b[37m━\u001b[0m \u001b[1m0s\u001b[0m 28ms/step - accuracy: 0.9934 - loss: 0.0190\n",
      "Epoch 19: val_accuracy did not improve from 0.98929\n",
      "\u001b[1m304/304\u001b[0m \u001b[32m━━━━━━━━━━━━━━━━━━━━\u001b[0m\u001b[37m\u001b[0m \u001b[1m9s\u001b[0m 30ms/step - accuracy: 0.9934 - loss: 0.0191 - val_accuracy: 0.9782 - val_loss: 0.0635\n",
      "Epoch 20/200\n",
      "\u001b[1m303/304\u001b[0m \u001b[32m━━━━━━━━━━━━━━━━━━━\u001b[0m\u001b[37m━\u001b[0m \u001b[1m0s\u001b[0m 28ms/step - accuracy: 0.9916 - loss: 0.0212\n",
      "Epoch 20: val_accuracy did not improve from 0.98929\n",
      "\u001b[1m304/304\u001b[0m \u001b[32m━━━━━━━━━━━━━━━━━━━━\u001b[0m\u001b[37m\u001b[0m \u001b[1m9s\u001b[0m 30ms/step - accuracy: 0.9916 - loss: 0.0213 - val_accuracy: 0.9086 - val_loss: 0.3291\n",
      "Epoch 21/200\n",
      "\u001b[1m302/304\u001b[0m \u001b[32m━━━━━━━━━━━━━━━━━━━\u001b[0m\u001b[37m━\u001b[0m \u001b[1m0s\u001b[0m 29ms/step - accuracy: 0.9790 - loss: 0.0602\n",
      "Epoch 21: val_accuracy did not improve from 0.98929\n",
      "\u001b[1m304/304\u001b[0m \u001b[32m━━━━━━━━━━━━━━━━━━━━\u001b[0m\u001b[37m\u001b[0m \u001b[1m9s\u001b[0m 31ms/step - accuracy: 0.9791 - loss: 0.0602 - val_accuracy: 0.9786 - val_loss: 0.0863\n",
      "Epoch 22/200\n",
      "\u001b[1m303/304\u001b[0m \u001b[32m━━━━━━━━━━━━━━━━━━━\u001b[0m\u001b[37m━\u001b[0m \u001b[1m0s\u001b[0m 28ms/step - accuracy: 0.9937 - loss: 0.0198\n",
      "Epoch 22: val_accuracy did not improve from 0.98929\n",
      "\u001b[1m304/304\u001b[0m \u001b[32m━━━━━━━━━━━━━━━━━━━━\u001b[0m\u001b[37m\u001b[0m \u001b[1m9s\u001b[0m 30ms/step - accuracy: 0.9937 - loss: 0.0199 - val_accuracy: 0.9732 - val_loss: 0.0898\n",
      "Epoch 23/200\n",
      "\u001b[1m303/304\u001b[0m \u001b[32m━━━━━━━━━━━━━━━━━━━\u001b[0m\u001b[37m━\u001b[0m \u001b[1m0s\u001b[0m 29ms/step - accuracy: 0.9945 - loss: 0.0173\n",
      "Epoch 23: val_accuracy did not improve from 0.98929\n",
      "\u001b[1m304/304\u001b[0m \u001b[32m━━━━━━━━━━━━━━━━━━━━\u001b[0m\u001b[37m\u001b[0m \u001b[1m9s\u001b[0m 31ms/step - accuracy: 0.9945 - loss: 0.0173 - val_accuracy: 0.9864 - val_loss: 0.0375\n",
      "Epoch 24/200\n",
      "\u001b[1m302/304\u001b[0m \u001b[32m━━━━━━━━━━━━━━━━━━━\u001b[0m\u001b[37m━\u001b[0m \u001b[1m0s\u001b[0m 29ms/step - accuracy: 0.9960 - loss: 0.0118\n",
      "Epoch 24: val_accuracy did not improve from 0.98929\n",
      "\u001b[1m304/304\u001b[0m \u001b[32m━━━━━━━━━━━━━━━━━━━━\u001b[0m\u001b[37m\u001b[0m \u001b[1m9s\u001b[0m 31ms/step - accuracy: 0.9960 - loss: 0.0118 - val_accuracy: 0.9872 - val_loss: 0.0400\n",
      "Epoch 25/200\n",
      "\u001b[1m303/304\u001b[0m \u001b[32m━━━━━━━━━━━━━━━━━━━\u001b[0m\u001b[37m━\u001b[0m \u001b[1m0s\u001b[0m 28ms/step - accuracy: 0.9970 - loss: 0.0074\n",
      "Epoch 25: val_accuracy improved from 0.98929 to 0.99053, saving model to CNN2D_results/V4_2_NOL_exp2/best_model_4.h5\n"
     ]
    },
    {
     "name": "stderr",
     "output_type": "stream",
     "text": [
      "WARNING:absl:You are saving your model as an HDF5 file via `model.save()` or `keras.saving.save_model(model)`. This file format is considered legacy. We recommend using instead the native Keras format, e.g. `model.save('my_model.keras')` or `keras.saving.save_model(model, 'my_model.keras')`. \n"
     ]
    },
    {
     "name": "stdout",
     "output_type": "stream",
     "text": [
      "\u001b[1m304/304\u001b[0m \u001b[32m━━━━━━━━━━━━━━━━━━━━\u001b[0m\u001b[37m\u001b[0m \u001b[1m9s\u001b[0m 31ms/step - accuracy: 0.9970 - loss: 0.0074 - val_accuracy: 0.9905 - val_loss: 0.0399\n",
      "Epoch 26/200\n",
      "\u001b[1m302/304\u001b[0m \u001b[32m━━━━━━━━━━━━━━━━━━━\u001b[0m\u001b[37m━\u001b[0m \u001b[1m0s\u001b[0m 30ms/step - accuracy: 1.0000 - loss: 7.5800e-04\n",
      "Epoch 26: val_accuracy improved from 0.99053 to 0.99094, saving model to CNN2D_results/V4_2_NOL_exp2/best_model_4.h5\n"
     ]
    },
    {
     "name": "stderr",
     "output_type": "stream",
     "text": [
      "WARNING:absl:You are saving your model as an HDF5 file via `model.save()` or `keras.saving.save_model(model)`. This file format is considered legacy. We recommend using instead the native Keras format, e.g. `model.save('my_model.keras')` or `keras.saving.save_model(model, 'my_model.keras')`. \n"
     ]
    },
    {
     "name": "stdout",
     "output_type": "stream",
     "text": [
      "\u001b[1m304/304\u001b[0m \u001b[32m━━━━━━━━━━━━━━━━━━━━\u001b[0m\u001b[37m\u001b[0m \u001b[1m10s\u001b[0m 32ms/step - accuracy: 1.0000 - loss: 7.5700e-04 - val_accuracy: 0.9909 - val_loss: 0.0395\n",
      "Epoch 27/200\n",
      "\u001b[1m303/304\u001b[0m \u001b[32m━━━━━━━━━━━━━━━━━━━\u001b[0m\u001b[37m━\u001b[0m \u001b[1m0s\u001b[0m 28ms/step - accuracy: 0.9997 - loss: 9.2415e-04\n",
      "Epoch 27: val_accuracy did not improve from 0.99094\n",
      "\u001b[1m304/304\u001b[0m \u001b[32m━━━━━━━━━━━━━━━━━━━━\u001b[0m\u001b[37m\u001b[0m \u001b[1m9s\u001b[0m 30ms/step - accuracy: 0.9997 - loss: 9.2747e-04 - val_accuracy: 0.9897 - val_loss: 0.0462\n",
      "Epoch 28/200\n",
      "\u001b[1m303/304\u001b[0m \u001b[32m━━━━━━━━━━━━━━━━━━━\u001b[0m\u001b[37m━\u001b[0m \u001b[1m0s\u001b[0m 29ms/step - accuracy: 0.9970 - loss: 0.0118\n",
      "Epoch 28: val_accuracy did not improve from 0.99094\n",
      "\u001b[1m304/304\u001b[0m \u001b[32m━━━━━━━━━━━━━━━━━━━━\u001b[0m\u001b[37m\u001b[0m \u001b[1m9s\u001b[0m 31ms/step - accuracy: 0.9969 - loss: 0.0120 - val_accuracy: 0.9671 - val_loss: 0.1132\n",
      "Epoch 29/200\n",
      "\u001b[1m303/304\u001b[0m \u001b[32m━━━━━━━━━━━━━━━━━━━\u001b[0m\u001b[37m━\u001b[0m \u001b[1m0s\u001b[0m 28ms/step - accuracy: 0.9908 - loss: 0.0272\n",
      "Epoch 29: val_accuracy did not improve from 0.99094\n",
      "\u001b[1m304/304\u001b[0m \u001b[32m━━━━━━━━━━━━━━━━━━━━\u001b[0m\u001b[37m\u001b[0m \u001b[1m9s\u001b[0m 30ms/step - accuracy: 0.9908 - loss: 0.0272 - val_accuracy: 0.9786 - val_loss: 0.0696\n",
      "Epoch 30/200\n",
      "\u001b[1m303/304\u001b[0m \u001b[32m━━━━━━━━━━━━━━━━━━━\u001b[0m\u001b[37m━\u001b[0m \u001b[1m0s\u001b[0m 28ms/step - accuracy: 0.9930 - loss: 0.0268\n",
      "Epoch 30: val_accuracy did not improve from 0.99094\n",
      "\u001b[1m304/304\u001b[0m \u001b[32m━━━━━━━━━━━━━━━━━━━━\u001b[0m\u001b[37m\u001b[0m \u001b[1m9s\u001b[0m 30ms/step - accuracy: 0.9930 - loss: 0.0270 - val_accuracy: 0.9852 - val_loss: 0.0527\n",
      "Epoch 31/200\n",
      "\u001b[1m302/304\u001b[0m \u001b[32m━━━━━━━━━━━━━━━━━━━\u001b[0m\u001b[37m━\u001b[0m \u001b[1m0s\u001b[0m 28ms/step - accuracy: 0.9932 - loss: 0.0219\n",
      "Epoch 31: val_accuracy did not improve from 0.99094\n",
      "\u001b[1m304/304\u001b[0m \u001b[32m━━━━━━━━━━━━━━━━━━━━\u001b[0m\u001b[37m\u001b[0m \u001b[1m9s\u001b[0m 30ms/step - accuracy: 0.9932 - loss: 0.0219 - val_accuracy: 0.9885 - val_loss: 0.0317\n",
      "Epoch 32/200\n",
      "\u001b[1m302/304\u001b[0m \u001b[32m━━━━━━━━━━━━━━━━━━━\u001b[0m\u001b[37m━\u001b[0m \u001b[1m0s\u001b[0m 28ms/step - accuracy: 1.0000 - loss: 0.0014\n",
      "Epoch 32: val_accuracy did not improve from 0.99094\n",
      "\u001b[1m304/304\u001b[0m \u001b[32m━━━━━━━━━━━━━━━━━━━━\u001b[0m\u001b[37m\u001b[0m \u001b[1m9s\u001b[0m 30ms/step - accuracy: 1.0000 - loss: 0.0014 - val_accuracy: 0.9881 - val_loss: 0.0345\n",
      "Epoch 33/200\n",
      "\u001b[1m303/304\u001b[0m \u001b[32m━━━━━━━━━━━━━━━━━━━\u001b[0m\u001b[37m━\u001b[0m \u001b[1m0s\u001b[0m 28ms/step - accuracy: 1.0000 - loss: 1.2856e-04\n",
      "Epoch 33: val_accuracy did not improve from 0.99094\n",
      "\u001b[1m304/304\u001b[0m \u001b[32m━━━━━━━━━━━━━━━━━━━━\u001b[0m\u001b[37m\u001b[0m \u001b[1m9s\u001b[0m 30ms/step - accuracy: 1.0000 - loss: 1.2836e-04 - val_accuracy: 0.9893 - val_loss: 0.0359\n",
      "Epoch 34/200\n",
      "\u001b[1m303/304\u001b[0m \u001b[32m━━━━━━━━━━━━━━━━━━━\u001b[0m\u001b[37m━\u001b[0m \u001b[1m0s\u001b[0m 28ms/step - accuracy: 1.0000 - loss: 7.4238e-05\n",
      "Epoch 34: val_accuracy did not improve from 0.99094\n",
      "\u001b[1m304/304\u001b[0m \u001b[32m━━━━━━━━━━━━━━━━━━━━\u001b[0m\u001b[37m\u001b[0m \u001b[1m9s\u001b[0m 30ms/step - accuracy: 1.0000 - loss: 7.4145e-05 - val_accuracy: 0.9893 - val_loss: 0.0368\n",
      "Epoch 35/200\n",
      "\u001b[1m302/304\u001b[0m \u001b[32m━━━━━━━━━━━━━━━━━━━\u001b[0m\u001b[37m━\u001b[0m \u001b[1m0s\u001b[0m 29ms/step - accuracy: 1.0000 - loss: 5.1942e-05\n",
      "Epoch 35: val_accuracy did not improve from 0.99094\n",
      "\u001b[1m304/304\u001b[0m \u001b[32m━━━━━━━━━━━━━━━━━━━━\u001b[0m\u001b[37m\u001b[0m \u001b[1m9s\u001b[0m 31ms/step - accuracy: 1.0000 - loss: 5.1852e-05 - val_accuracy: 0.9889 - val_loss: 0.0374\n",
      "Epoch 36/200\n",
      "\u001b[1m303/304\u001b[0m \u001b[32m━━━━━━━━━━━━━━━━━━━\u001b[0m\u001b[37m━\u001b[0m \u001b[1m0s\u001b[0m 28ms/step - accuracy: 1.0000 - loss: 3.8754e-05\n",
      "Epoch 36: val_accuracy did not improve from 0.99094\n",
      "\u001b[1m304/304\u001b[0m \u001b[32m━━━━━━━━━━━━━━━━━━━━\u001b[0m\u001b[37m\u001b[0m \u001b[1m9s\u001b[0m 30ms/step - accuracy: 1.0000 - loss: 3.8712e-05 - val_accuracy: 0.9889 - val_loss: 0.0381\n",
      "Epoch 37/200\n",
      "\u001b[1m303/304\u001b[0m \u001b[32m━━━━━━━━━━━━━━━━━━━\u001b[0m\u001b[37m━\u001b[0m \u001b[1m0s\u001b[0m 28ms/step - accuracy: 1.0000 - loss: 2.8958e-05\n",
      "Epoch 37: val_accuracy did not improve from 0.99094\n",
      "\u001b[1m304/304\u001b[0m \u001b[32m━━━━━━━━━━━━━━━━━━━━\u001b[0m\u001b[37m\u001b[0m \u001b[1m9s\u001b[0m 30ms/step - accuracy: 1.0000 - loss: 2.8917e-05 - val_accuracy: 0.9889 - val_loss: 0.0406\n",
      "Epoch 38/200\n",
      "\u001b[1m303/304\u001b[0m \u001b[32m━━━━━━━━━━━━━━━━━━━\u001b[0m\u001b[37m━\u001b[0m \u001b[1m0s\u001b[0m 29ms/step - accuracy: 1.0000 - loss: 1.7231e-05\n",
      "Epoch 38: val_accuracy did not improve from 0.99094\n",
      "\u001b[1m304/304\u001b[0m \u001b[32m━━━━━━━━━━━━━━━━━━━━\u001b[0m\u001b[37m\u001b[0m \u001b[1m9s\u001b[0m 31ms/step - accuracy: 1.0000 - loss: 1.7201e-05 - val_accuracy: 0.9885 - val_loss: 0.0429\n",
      "Epoch 39/200\n",
      "\u001b[1m303/304\u001b[0m \u001b[32m━━━━━━━━━━━━━━━━━━━\u001b[0m\u001b[37m━\u001b[0m \u001b[1m0s\u001b[0m 28ms/step - accuracy: 1.0000 - loss: 9.5137e-06\n",
      "Epoch 39: val_accuracy did not improve from 0.99094\n",
      "\u001b[1m304/304\u001b[0m \u001b[32m━━━━━━━━━━━━━━━━━━━━\u001b[0m\u001b[37m\u001b[0m \u001b[1m9s\u001b[0m 30ms/step - accuracy: 1.0000 - loss: 9.5000e-06 - val_accuracy: 0.9889 - val_loss: 0.0442\n",
      "Epoch 40/200\n",
      "\u001b[1m303/304\u001b[0m \u001b[32m━━━━━━━━━━━━━━━━━━━\u001b[0m\u001b[37m━\u001b[0m \u001b[1m0s\u001b[0m 28ms/step - accuracy: 1.0000 - loss: 6.8324e-06\n",
      "Epoch 40: val_accuracy did not improve from 0.99094\n",
      "\u001b[1m304/304\u001b[0m \u001b[32m━━━━━━━━━━━━━━━━━━━━\u001b[0m\u001b[37m\u001b[0m \u001b[1m9s\u001b[0m 30ms/step - accuracy: 1.0000 - loss: 6.8234e-06 - val_accuracy: 0.9889 - val_loss: 0.0450\n",
      "Epoch 41/200\n",
      "\u001b[1m302/304\u001b[0m \u001b[32m━━━━━━━━━━━━━━━━━━━\u001b[0m\u001b[37m━\u001b[0m \u001b[1m0s\u001b[0m 29ms/step - accuracy: 1.0000 - loss: 5.2195e-06\n",
      "Epoch 41: val_accuracy did not improve from 0.99094\n",
      "\u001b[1m304/304\u001b[0m \u001b[32m━━━━━━━━━━━━━━━━━━━━\u001b[0m\u001b[37m\u001b[0m \u001b[1m9s\u001b[0m 31ms/step - accuracy: 1.0000 - loss: 5.2106e-06 - val_accuracy: 0.9885 - val_loss: 0.0457\n",
      "Epoch 42/200\n",
      "\u001b[1m302/304\u001b[0m \u001b[32m━━━━━━━━━━━━━━━━━━━\u001b[0m\u001b[37m━\u001b[0m \u001b[1m0s\u001b[0m 29ms/step - accuracy: 1.0000 - loss: 4.1663e-06\n",
      "Epoch 42: val_accuracy did not improve from 0.99094\n",
      "\u001b[1m304/304\u001b[0m \u001b[32m━━━━━━━━━━━━━━━━━━━━\u001b[0m\u001b[37m\u001b[0m \u001b[1m9s\u001b[0m 31ms/step - accuracy: 1.0000 - loss: 4.1596e-06 - val_accuracy: 0.9885 - val_loss: 0.0464\n",
      "Epoch 43/200\n",
      "\u001b[1m303/304\u001b[0m \u001b[32m━━━━━━━━━━━━━━━━━━━\u001b[0m\u001b[37m━\u001b[0m \u001b[1m0s\u001b[0m 29ms/step - accuracy: 1.0000 - loss: 3.4096e-06\n",
      "Epoch 43: val_accuracy did not improve from 0.99094\n",
      "\u001b[1m304/304\u001b[0m \u001b[32m━━━━━━━━━━━━━━━━━━━━\u001b[0m\u001b[37m\u001b[0m \u001b[1m9s\u001b[0m 31ms/step - accuracy: 1.0000 - loss: 3.4062e-06 - val_accuracy: 0.9881 - val_loss: 0.0469\n",
      "Epoch 44/200\n",
      "\u001b[1m303/304\u001b[0m \u001b[32m━━━━━━━━━━━━━━━━━━━\u001b[0m\u001b[37m━\u001b[0m \u001b[1m0s\u001b[0m 28ms/step - accuracy: 1.0000 - loss: 2.7955e-06\n",
      "Epoch 44: val_accuracy did not improve from 0.99094\n",
      "\u001b[1m304/304\u001b[0m \u001b[32m━━━━━━━━━━━━━━━━━━━━\u001b[0m\u001b[37m\u001b[0m \u001b[1m9s\u001b[0m 30ms/step - accuracy: 1.0000 - loss: 2.7930e-06 - val_accuracy: 0.9881 - val_loss: 0.0476\n",
      "Epoch 45/200\n",
      "\u001b[1m302/304\u001b[0m \u001b[32m━━━━━━━━━━━━━━━━━━━\u001b[0m\u001b[37m━\u001b[0m \u001b[1m0s\u001b[0m 28ms/step - accuracy: 1.0000 - loss: 2.3357e-06\n",
      "Epoch 45: val_accuracy did not improve from 0.99094\n",
      "\u001b[1m304/304\u001b[0m \u001b[32m━━━━━━━━━━━━━━━━━━━━\u001b[0m\u001b[37m\u001b[0m \u001b[1m9s\u001b[0m 30ms/step - accuracy: 1.0000 - loss: 2.3326e-06 - val_accuracy: 0.9876 - val_loss: 0.0483\n",
      "Epoch 46/200\n",
      "\u001b[1m303/304\u001b[0m \u001b[32m━━━━━━━━━━━━━━━━━━━\u001b[0m\u001b[37m━\u001b[0m \u001b[1m0s\u001b[0m 28ms/step - accuracy: 1.0000 - loss: 1.9486e-06\n",
      "Epoch 46: val_accuracy did not improve from 0.99094\n",
      "\u001b[1m304/304\u001b[0m \u001b[32m━━━━━━━━━━━━━━━━━━━━\u001b[0m\u001b[37m\u001b[0m \u001b[1m9s\u001b[0m 30ms/step - accuracy: 1.0000 - loss: 1.9469e-06 - val_accuracy: 0.9881 - val_loss: 0.0488\n",
      "Epoch 47/200\n",
      "\u001b[1m303/304\u001b[0m \u001b[32m━━━━━━━━━━━━━━━━━━━\u001b[0m\u001b[37m━\u001b[0m \u001b[1m0s\u001b[0m 29ms/step - accuracy: 1.0000 - loss: 1.6421e-06\n",
      "Epoch 47: val_accuracy did not improve from 0.99094\n",
      "\u001b[1m304/304\u001b[0m \u001b[32m━━━━━━━━━━━━━━━━━━━━\u001b[0m\u001b[37m\u001b[0m \u001b[1m9s\u001b[0m 31ms/step - accuracy: 1.0000 - loss: 1.6407e-06 - val_accuracy: 0.9881 - val_loss: 0.0494\n",
      "Epoch 48/200\n",
      "\u001b[1m303/304\u001b[0m \u001b[32m━━━━━━━━━━━━━━━━━━━\u001b[0m\u001b[37m━\u001b[0m \u001b[1m0s\u001b[0m 29ms/step - accuracy: 1.0000 - loss: 1.3721e-06\n",
      "Epoch 48: val_accuracy did not improve from 0.99094\n",
      "\u001b[1m304/304\u001b[0m \u001b[32m━━━━━━━━━━━━━━━━━━━━\u001b[0m\u001b[37m\u001b[0m \u001b[1m9s\u001b[0m 31ms/step - accuracy: 1.0000 - loss: 1.3710e-06 - val_accuracy: 0.9881 - val_loss: 0.0502\n",
      "Epoch 49/200\n",
      "\u001b[1m303/304\u001b[0m \u001b[32m━━━━━━━━━━━━━━━━━━━\u001b[0m\u001b[37m━\u001b[0m \u001b[1m0s\u001b[0m 28ms/step - accuracy: 1.0000 - loss: 1.1334e-06\n",
      "Epoch 49: val_accuracy did not improve from 0.99094\n",
      "\u001b[1m304/304\u001b[0m \u001b[32m━━━━━━━━━━━━━━━━━━━━\u001b[0m\u001b[37m\u001b[0m \u001b[1m9s\u001b[0m 30ms/step - accuracy: 1.0000 - loss: 1.1326e-06 - val_accuracy: 0.9881 - val_loss: 0.0510\n",
      "Epoch 50/200\n",
      "\u001b[1m303/304\u001b[0m \u001b[32m━━━━━━━━━━━━━━━━━━━\u001b[0m\u001b[37m━\u001b[0m \u001b[1m0s\u001b[0m 29ms/step - accuracy: 1.0000 - loss: 9.4937e-07\n",
      "Epoch 50: val_accuracy did not improve from 0.99094\n",
      "\u001b[1m304/304\u001b[0m \u001b[32m━━━━━━━━━━━━━━━━━━━━\u001b[0m\u001b[37m\u001b[0m \u001b[1m9s\u001b[0m 31ms/step - accuracy: 1.0000 - loss: 9.4873e-07 - val_accuracy: 0.9885 - val_loss: 0.0517\n",
      "Epoch 51/200\n",
      "\u001b[1m303/304\u001b[0m \u001b[32m━━━━━━━━━━━━━━━━━━━\u001b[0m\u001b[37m━\u001b[0m \u001b[1m0s\u001b[0m 29ms/step - accuracy: 1.0000 - loss: 7.9159e-07\n",
      "Epoch 51: val_accuracy did not improve from 0.99094\n",
      "\u001b[1m304/304\u001b[0m \u001b[32m━━━━━━━━━━━━━━━━━━━━\u001b[0m\u001b[37m\u001b[0m \u001b[1m10s\u001b[0m 31ms/step - accuracy: 1.0000 - loss: 7.9110e-07 - val_accuracy: 0.9889 - val_loss: 0.0524\n",
      "Epoch 52/200\n",
      "\u001b[1m303/304\u001b[0m \u001b[32m━━━━━━━━━━━━━━━━━━━\u001b[0m\u001b[37m━\u001b[0m \u001b[1m0s\u001b[0m 29ms/step - accuracy: 1.0000 - loss: 6.6574e-07\n",
      "Epoch 52: val_accuracy did not improve from 0.99094\n",
      "\u001b[1m304/304\u001b[0m \u001b[32m━━━━━━━━━━━━━━━━━━━━\u001b[0m\u001b[37m\u001b[0m \u001b[1m9s\u001b[0m 31ms/step - accuracy: 1.0000 - loss: 6.6537e-07 - val_accuracy: 0.9889 - val_loss: 0.0533\n",
      "Epoch 53/200\n",
      "\u001b[1m303/304\u001b[0m \u001b[32m━━━━━━━━━━━━━━━━━━━\u001b[0m\u001b[37m━\u001b[0m \u001b[1m0s\u001b[0m 28ms/step - accuracy: 1.0000 - loss: 5.6583e-07\n",
      "Epoch 53: val_accuracy did not improve from 0.99094\n",
      "\u001b[1m304/304\u001b[0m \u001b[32m━━━━━━━━━━━━━━━━━━━━\u001b[0m\u001b[37m\u001b[0m \u001b[1m9s\u001b[0m 30ms/step - accuracy: 1.0000 - loss: 5.6551e-07 - val_accuracy: 0.9893 - val_loss: 0.0540\n",
      "Epoch 54/200\n",
      "\u001b[1m303/304\u001b[0m \u001b[32m━━━━━━━━━━━━━━━━━━━\u001b[0m\u001b[37m━\u001b[0m \u001b[1m0s\u001b[0m 29ms/step - accuracy: 1.0000 - loss: 4.7645e-07\n",
      "Epoch 54: val_accuracy did not improve from 0.99094\n",
      "\u001b[1m304/304\u001b[0m \u001b[32m━━━━━━━━━━━━━━━━━━━━\u001b[0m\u001b[37m\u001b[0m \u001b[1m9s\u001b[0m 31ms/step - accuracy: 1.0000 - loss: 4.7620e-07 - val_accuracy: 0.9893 - val_loss: 0.0547\n",
      "Epoch 55/200\n",
      "\u001b[1m302/304\u001b[0m \u001b[32m━━━━━━━━━━━━━━━━━━━\u001b[0m\u001b[37m━\u001b[0m \u001b[1m0s\u001b[0m 29ms/step - accuracy: 1.0000 - loss: 4.0461e-07\n",
      "Epoch 55: val_accuracy did not improve from 0.99094\n",
      "\u001b[1m304/304\u001b[0m \u001b[32m━━━━━━━━━━━━━━━━━━━━\u001b[0m\u001b[37m\u001b[0m \u001b[1m9s\u001b[0m 31ms/step - accuracy: 1.0000 - loss: 4.0431e-07 - val_accuracy: 0.9889 - val_loss: 0.0553\n",
      "Epoch 56/200\n",
      "\u001b[1m303/304\u001b[0m \u001b[32m━━━━━━━━━━━━━━━━━━━\u001b[0m\u001b[37m━\u001b[0m \u001b[1m0s\u001b[0m 28ms/step - accuracy: 1.0000 - loss: 3.3988e-07\n",
      "Epoch 56: val_accuracy did not improve from 0.99094\n",
      "\u001b[1m304/304\u001b[0m \u001b[32m━━━━━━━━━━━━━━━━━━━━\u001b[0m\u001b[37m\u001b[0m \u001b[1m9s\u001b[0m 30ms/step - accuracy: 1.0000 - loss: 3.3973e-07 - val_accuracy: 0.9889 - val_loss: 0.0559\n",
      "Epoch 57/200\n",
      "\u001b[1m303/304\u001b[0m \u001b[32m━━━━━━━━━━━━━━━━━━━\u001b[0m\u001b[37m━\u001b[0m \u001b[1m0s\u001b[0m 28ms/step - accuracy: 1.0000 - loss: 2.8894e-07\n",
      "Epoch 57: val_accuracy did not improve from 0.99094\n",
      "\u001b[1m304/304\u001b[0m \u001b[32m━━━━━━━━━━━━━━━━━━━━\u001b[0m\u001b[37m\u001b[0m \u001b[1m9s\u001b[0m 30ms/step - accuracy: 1.0000 - loss: 2.8882e-07 - val_accuracy: 0.9889 - val_loss: 0.0565\n",
      "Epoch 58/200\n",
      "\u001b[1m302/304\u001b[0m \u001b[32m━━━━━━━━━━━━━━━━━━━\u001b[0m\u001b[37m━\u001b[0m \u001b[1m0s\u001b[0m 29ms/step - accuracy: 1.0000 - loss: 2.4474e-07\n",
      "Epoch 58: val_accuracy did not improve from 0.99094\n",
      "\u001b[1m304/304\u001b[0m \u001b[32m━━━━━━━━━━━━━━━━━━━━\u001b[0m\u001b[37m\u001b[0m \u001b[1m9s\u001b[0m 31ms/step - accuracy: 1.0000 - loss: 2.4459e-07 - val_accuracy: 0.9889 - val_loss: 0.0572\n",
      "Epoch 59/200\n",
      "\u001b[1m303/304\u001b[0m \u001b[32m━━━━━━━━━━━━━━━━━━━\u001b[0m\u001b[37m━\u001b[0m \u001b[1m0s\u001b[0m 28ms/step - accuracy: 1.0000 - loss: 2.0845e-07\n",
      "Epoch 59: val_accuracy did not improve from 0.99094\n",
      "\u001b[1m304/304\u001b[0m \u001b[32m━━━━━━━━━━━━━━━━━━━━\u001b[0m\u001b[37m\u001b[0m \u001b[1m9s\u001b[0m 30ms/step - accuracy: 1.0000 - loss: 2.0837e-07 - val_accuracy: 0.9889 - val_loss: 0.0577\n",
      "Epoch 60/200\n",
      "\u001b[1m302/304\u001b[0m \u001b[32m━━━━━━━━━━━━━━━━━━━\u001b[0m\u001b[37m━\u001b[0m \u001b[1m0s\u001b[0m 29ms/step - accuracy: 1.0000 - loss: 1.7730e-07\n",
      "Epoch 60: val_accuracy did not improve from 0.99094\n",
      "\u001b[1m304/304\u001b[0m \u001b[32m━━━━━━━━━━━━━━━━━━━━\u001b[0m\u001b[37m\u001b[0m \u001b[1m9s\u001b[0m 31ms/step - accuracy: 1.0000 - loss: 1.7720e-07 - val_accuracy: 0.9889 - val_loss: 0.0582\n",
      "Epoch 61/200\n",
      "\u001b[1m302/304\u001b[0m \u001b[32m━━━━━━━━━━━━━━━━━━━\u001b[0m\u001b[37m━\u001b[0m \u001b[1m0s\u001b[0m 34ms/step - accuracy: 1.0000 - loss: 1.5156e-07\n",
      "Epoch 61: val_accuracy did not improve from 0.99094\n",
      "\u001b[1m304/304\u001b[0m \u001b[32m━━━━━━━━━━━━━━━━━━━━\u001b[0m\u001b[37m\u001b[0m \u001b[1m11s\u001b[0m 36ms/step - accuracy: 1.0000 - loss: 1.5148e-07 - val_accuracy: 0.9889 - val_loss: 0.0588\n",
      "Epoch 62/200\n",
      "\u001b[1m302/304\u001b[0m \u001b[32m━━━━━━━━━━━━━━━━━━━\u001b[0m\u001b[37m━\u001b[0m \u001b[1m0s\u001b[0m 55ms/step - accuracy: 1.0000 - loss: 1.2938e-07\n",
      "Epoch 62: val_accuracy did not improve from 0.99094\n",
      "\u001b[1m304/304\u001b[0m \u001b[32m━━━━━━━━━━━━━━━━━━━━\u001b[0m\u001b[37m\u001b[0m \u001b[1m17s\u001b[0m 57ms/step - accuracy: 1.0000 - loss: 1.2931e-07 - val_accuracy: 0.9889 - val_loss: 0.0594\n",
      "Epoch 63/200\n",
      "\u001b[1m303/304\u001b[0m \u001b[32m━━━━━━━━━━━━━━━━━━━\u001b[0m\u001b[37m━\u001b[0m \u001b[1m0s\u001b[0m 29ms/step - accuracy: 1.0000 - loss: 1.0991e-07\n",
      "Epoch 63: val_accuracy did not improve from 0.99094\n",
      "\u001b[1m304/304\u001b[0m \u001b[32m━━━━━━━━━━━━━━━━━━━━\u001b[0m\u001b[37m\u001b[0m \u001b[1m9s\u001b[0m 31ms/step - accuracy: 1.0000 - loss: 1.0987e-07 - val_accuracy: 0.9889 - val_loss: 0.0600\n",
      "Epoch 64/200\n",
      "\u001b[1m302/304\u001b[0m \u001b[32m━━━━━━━━━━━━━━━━━━━\u001b[0m\u001b[37m━\u001b[0m \u001b[1m0s\u001b[0m 29ms/step - accuracy: 1.0000 - loss: 9.4005e-08\n",
      "Epoch 64: val_accuracy did not improve from 0.99094\n",
      "\u001b[1m304/304\u001b[0m \u001b[32m━━━━━━━━━━━━━━━━━━━━\u001b[0m\u001b[37m\u001b[0m \u001b[1m9s\u001b[0m 31ms/step - accuracy: 1.0000 - loss: 9.3955e-08 - val_accuracy: 0.9889 - val_loss: 0.0606\n",
      "Epoch 65/200\n",
      "\u001b[1m303/304\u001b[0m \u001b[32m━━━━━━━━━━━━━━━━━━━\u001b[0m\u001b[37m━\u001b[0m \u001b[1m0s\u001b[0m 29ms/step - accuracy: 1.0000 - loss: 8.0495e-08\n",
      "Epoch 65: val_accuracy did not improve from 0.99094\n",
      "\u001b[1m304/304\u001b[0m \u001b[32m━━━━━━━━━━━━━━━━━━━━\u001b[0m\u001b[37m\u001b[0m \u001b[1m9s\u001b[0m 31ms/step - accuracy: 1.0000 - loss: 8.0465e-08 - val_accuracy: 0.9889 - val_loss: 0.0611\n",
      "Epoch 66/200\n",
      "\u001b[1m303/304\u001b[0m \u001b[32m━━━━━━━━━━━━━━━━━━━\u001b[0m\u001b[37m━\u001b[0m \u001b[1m0s\u001b[0m 29ms/step - accuracy: 1.0000 - loss: 6.9275e-08\n",
      "Epoch 66: val_accuracy did not improve from 0.99094\n",
      "\u001b[1m304/304\u001b[0m \u001b[32m━━━━━━━━━━━━━━━━━━━━\u001b[0m\u001b[37m\u001b[0m \u001b[1m9s\u001b[0m 31ms/step - accuracy: 1.0000 - loss: 6.9250e-08 - val_accuracy: 0.9893 - val_loss: 0.0618\n",
      "Epoch 67/200\n",
      "\u001b[1m303/304\u001b[0m \u001b[32m━━━━━━━━━━━━━━━━━━━\u001b[0m\u001b[37m━\u001b[0m \u001b[1m0s\u001b[0m 28ms/step - accuracy: 1.0000 - loss: 5.9730e-08\n",
      "Epoch 67: val_accuracy did not improve from 0.99094\n",
      "\u001b[1m304/304\u001b[0m \u001b[32m━━━━━━━━━━━━━━━━━━━━\u001b[0m\u001b[37m\u001b[0m \u001b[1m9s\u001b[0m 31ms/step - accuracy: 1.0000 - loss: 5.9707e-08 - val_accuracy: 0.9897 - val_loss: 0.0623\n",
      "Epoch 68/200\n",
      "\u001b[1m303/304\u001b[0m \u001b[32m━━━━━━━━━━━━━━━━━━━\u001b[0m\u001b[37m━\u001b[0m \u001b[1m0s\u001b[0m 29ms/step - accuracy: 1.0000 - loss: 5.1087e-08\n",
      "Epoch 68: val_accuracy did not improve from 0.99094\n",
      "\u001b[1m304/304\u001b[0m \u001b[32m━━━━━━━━━━━━━━━━━━━━\u001b[0m\u001b[37m\u001b[0m \u001b[1m9s\u001b[0m 31ms/step - accuracy: 1.0000 - loss: 5.1068e-08 - val_accuracy: 0.9897 - val_loss: 0.0630\n",
      "Epoch 69/200\n",
      "\u001b[1m302/304\u001b[0m \u001b[32m━━━━━━━━━━━━━━━━━━━\u001b[0m\u001b[37m━\u001b[0m \u001b[1m0s\u001b[0m 29ms/step - accuracy: 1.0000 - loss: 4.4198e-08\n",
      "Epoch 69: val_accuracy did not improve from 0.99094\n",
      "\u001b[1m304/304\u001b[0m \u001b[32m━━━━━━━━━━━━━━━━━━━━\u001b[0m\u001b[37m\u001b[0m \u001b[1m9s\u001b[0m 31ms/step - accuracy: 1.0000 - loss: 4.4173e-08 - val_accuracy: 0.9897 - val_loss: 0.0636\n",
      "Epoch 70/200\n",
      "\u001b[1m303/304\u001b[0m \u001b[32m━━━━━━━━━━━━━━━━━━━\u001b[0m\u001b[37m━\u001b[0m \u001b[1m0s\u001b[0m 28ms/step - accuracy: 1.0000 - loss: 3.7959e-08\n",
      "Epoch 70: val_accuracy did not improve from 0.99094\n",
      "\u001b[1m304/304\u001b[0m \u001b[32m━━━━━━━━━━━━━━━━━━━━\u001b[0m\u001b[37m\u001b[0m \u001b[1m9s\u001b[0m 30ms/step - accuracy: 1.0000 - loss: 3.7944e-08 - val_accuracy: 0.9893 - val_loss: 0.0643\n",
      "Epoch 71/200\n",
      "\u001b[1m303/304\u001b[0m \u001b[32m━━━━━━━━━━━━━━━━━━━\u001b[0m\u001b[37m━\u001b[0m \u001b[1m0s\u001b[0m 29ms/step - accuracy: 1.0000 - loss: 3.2815e-08\n",
      "Epoch 71: val_accuracy did not improve from 0.99094\n",
      "\u001b[1m304/304\u001b[0m \u001b[32m━━━━━━━━━━━━━━━━━━━━\u001b[0m\u001b[37m\u001b[0m \u001b[1m9s\u001b[0m 31ms/step - accuracy: 1.0000 - loss: 3.2801e-08 - val_accuracy: 0.9893 - val_loss: 0.0649\n",
      "Epoch 72/200\n",
      "\u001b[1m303/304\u001b[0m \u001b[32m━━━━━━━━━━━━━━━━━━━\u001b[0m\u001b[37m━\u001b[0m \u001b[1m0s\u001b[0m 28ms/step - accuracy: 1.0000 - loss: 2.8498e-08\n",
      "Epoch 72: val_accuracy did not improve from 0.99094\n",
      "\u001b[1m304/304\u001b[0m \u001b[32m━━━━━━━━━━━━━━━━━━━━\u001b[0m\u001b[37m\u001b[0m \u001b[1m9s\u001b[0m 30ms/step - accuracy: 1.0000 - loss: 2.8485e-08 - val_accuracy: 0.9893 - val_loss: 0.0655\n",
      "Epoch 73/200\n",
      "\u001b[1m302/304\u001b[0m \u001b[32m━━━━━━━━━━━━━━━━━━━\u001b[0m\u001b[37m━\u001b[0m \u001b[1m0s\u001b[0m 29ms/step - accuracy: 1.0000 - loss: 2.4552e-08\n",
      "Epoch 73: val_accuracy did not improve from 0.99094\n",
      "\u001b[1m304/304\u001b[0m \u001b[32m━━━━━━━━━━━━━━━━━━━━\u001b[0m\u001b[37m\u001b[0m \u001b[1m10s\u001b[0m 31ms/step - accuracy: 1.0000 - loss: 2.4535e-08 - val_accuracy: 0.9893 - val_loss: 0.0661\n",
      "Epoch 74/200\n",
      "\u001b[1m303/304\u001b[0m \u001b[32m━━━━━━━━━━━━━━━━━━━\u001b[0m\u001b[37m━\u001b[0m \u001b[1m0s\u001b[0m 29ms/step - accuracy: 1.0000 - loss: 2.1226e-08\n",
      "Epoch 74: val_accuracy did not improve from 0.99094\n",
      "\u001b[1m304/304\u001b[0m \u001b[32m━━━━━━━━━━━━━━━━━━━━\u001b[0m\u001b[37m\u001b[0m \u001b[1m9s\u001b[0m 31ms/step - accuracy: 1.0000 - loss: 2.1216e-08 - val_accuracy: 0.9897 - val_loss: 0.0667\n",
      "Epoch 75/200\n",
      "\u001b[1m303/304\u001b[0m \u001b[32m━━━━━━━━━━━━━━━━━━━\u001b[0m\u001b[37m━\u001b[0m \u001b[1m0s\u001b[0m 28ms/step - accuracy: 1.0000 - loss: 1.8179e-08\n",
      "Epoch 75: val_accuracy did not improve from 0.99094\n",
      "\u001b[1m304/304\u001b[0m \u001b[32m━━━━━━━━━━━━━━━━━━━━\u001b[0m\u001b[37m\u001b[0m \u001b[1m9s\u001b[0m 30ms/step - accuracy: 1.0000 - loss: 1.8171e-08 - val_accuracy: 0.9897 - val_loss: 0.0672\n",
      "Epoch 76/200\n",
      "\u001b[1m303/304\u001b[0m \u001b[32m━━━━━━━━━━━━━━━━━━━\u001b[0m\u001b[37m━\u001b[0m \u001b[1m0s\u001b[0m 29ms/step - accuracy: 1.0000 - loss: 1.5679e-08\n",
      "Epoch 76: val_accuracy did not improve from 0.99094\n",
      "\u001b[1m304/304\u001b[0m \u001b[32m━━━━━━━━━━━━━━━━━━━━\u001b[0m\u001b[37m\u001b[0m \u001b[1m9s\u001b[0m 31ms/step - accuracy: 1.0000 - loss: 1.5672e-08 - val_accuracy: 0.9897 - val_loss: 0.0678\n"
     ]
    },
    {
     "name": "stderr",
     "output_type": "stream",
     "text": [
      "WARNING:absl:Compiled the loaded model, but the compiled metrics have yet to be built. `model.compile_metrics` will be empty until you train or evaluate the model.\n"
     ]
    },
    {
     "name": "stdout",
     "output_type": "stream",
     "text": [
      "Best model saved at: CNN2D_results/V4_2_NOL_exp2/best_model_4.h5\n",
      "Best model loaded successfully!\n",
      "\u001b[1m15/76\u001b[0m \u001b[32m━━━\u001b[0m\u001b[37m━━━━━━━━━━━━━━━━━\u001b[0m \u001b[1m0s\u001b[0m 8ms/step"
     ]
    },
    {
     "name": "stderr",
     "output_type": "stream",
     "text": [
      "2025-06-04 15:47:56.470985: E tensorflow/core/framework/node_def_util.cc:680] NodeDef mentions attribute use_unbounded_threadpool which is not in the op definition: Op<name=MapDataset; signature=input_dataset:variant, other_arguments: -> handle:variant; attr=f:func; attr=Targuments:list(type),min=0; attr=output_types:list(type),min=1; attr=output_shapes:list(shape),min=1; attr=use_inter_op_parallelism:bool,default=true; attr=preserve_cardinality:bool,default=false; attr=force_synchronous:bool,default=false; attr=metadata:string,default=\"\"> This may be expected if your graph generating binary is newer  than this binary. Unknown attributes will be ignored. NodeDef: {{node ParallelMapDatasetV2/_14}}\n",
      "2025-06-04 15:47:56.471928: E tensorflow/core/framework/node_def_util.cc:680] NodeDef mentions attribute use_unbounded_threadpool which is not in the op definition: Op<name=MapDataset; signature=input_dataset:variant, other_arguments: -> handle:variant; attr=f:func; attr=Targuments:list(type),min=0; attr=output_types:list(type),min=1; attr=output_shapes:list(shape),min=1; attr=use_inter_op_parallelism:bool,default=true; attr=preserve_cardinality:bool,default=false; attr=force_synchronous:bool,default=false; attr=metadata:string,default=\"\"> This may be expected if your graph generating binary is newer  than this binary. Unknown attributes will be ignored. NodeDef: {{node ParallelMapDatasetV2/_14}}\n"
     ]
    },
    {
     "name": "stdout",
     "output_type": "stream",
     "text": [
      "\u001b[1m76/76\u001b[0m \u001b[32m━━━━━━━━━━━━━━━━━━━━\u001b[0m\u001b[37m\u001b[0m \u001b[1m1s\u001b[0m 8ms/step\n",
      "\u001b[1m304/304\u001b[0m \u001b[32m━━━━━━━━━━━━━━━━━━━━\u001b[0m\u001b[37m\u001b[0m \u001b[1m3s\u001b[0m 8ms/step - accuracy: 1.0000 - loss: 1.9121e-04\n",
      "\u001b[1m76/76\u001b[0m \u001b[32m━━━━━━━━━━━━━━━━━━━━\u001b[0m\u001b[37m\u001b[0m \u001b[1m1s\u001b[0m 8ms/step - accuracy: 0.9930 - loss: 0.0322\n",
      "\u001b[1m95/95\u001b[0m \u001b[32m━━━━━━━━━━━━━━━━━━━━\u001b[0m\u001b[37m\u001b[0m \u001b[1m1s\u001b[0m 8ms/step - accuracy: 0.9939 - loss: 0.0203\n",
      "Epoch 1/200\n"
     ]
    },
    {
     "name": "stderr",
     "output_type": "stream",
     "text": [
      "2025-06-04 15:48:01.525640: E tensorflow/core/framework/node_def_util.cc:680] NodeDef mentions attribute use_unbounded_threadpool which is not in the op definition: Op<name=MapDataset; signature=input_dataset:variant, other_arguments: -> handle:variant; attr=f:func; attr=Targuments:list(type),min=0; attr=output_types:list(type),min=1; attr=output_shapes:list(shape),min=1; attr=use_inter_op_parallelism:bool,default=true; attr=preserve_cardinality:bool,default=false; attr=force_synchronous:bool,default=false; attr=metadata:string,default=\"\"> This may be expected if your graph generating binary is newer  than this binary. Unknown attributes will be ignored. NodeDef: {{node ParallelMapDatasetV2/_15}}\n",
      "2025-06-04 15:48:01.525907: E tensorflow/core/framework/node_def_util.cc:680] NodeDef mentions attribute use_unbounded_threadpool which is not in the op definition: Op<name=MapDataset; signature=input_dataset:variant, other_arguments: -> handle:variant; attr=f:func; attr=Targuments:list(type),min=0; attr=output_types:list(type),min=1; attr=output_shapes:list(shape),min=1; attr=use_inter_op_parallelism:bool,default=true; attr=preserve_cardinality:bool,default=false; attr=force_synchronous:bool,default=false; attr=metadata:string,default=\"\"> This may be expected if your graph generating binary is newer  than this binary. Unknown attributes will be ignored. NodeDef: {{node ParallelMapDatasetV2/_15}}\n"
     ]
    },
    {
     "name": "stdout",
     "output_type": "stream",
     "text": [
      "\u001b[1m303/304\u001b[0m \u001b[32m━━━━━━━━━━━━━━━━━━━\u001b[0m\u001b[37m━\u001b[0m \u001b[1m0s\u001b[0m 29ms/step - accuracy: 0.5150 - loss: 1.2869"
     ]
    },
    {
     "name": "stderr",
     "output_type": "stream",
     "text": [
      "2025-06-04 15:48:11.056325: E tensorflow/core/framework/node_def_util.cc:680] NodeDef mentions attribute use_unbounded_threadpool which is not in the op definition: Op<name=MapDataset; signature=input_dataset:variant, other_arguments: -> handle:variant; attr=f:func; attr=Targuments:list(type),min=0; attr=output_types:list(type),min=1; attr=output_shapes:list(shape),min=1; attr=use_inter_op_parallelism:bool,default=true; attr=preserve_cardinality:bool,default=false; attr=force_synchronous:bool,default=false; attr=metadata:string,default=\"\"> This may be expected if your graph generating binary is newer  than this binary. Unknown attributes will be ignored. NodeDef: {{node ParallelMapDatasetV2/_15}}\n",
      "2025-06-04 15:48:11.056631: E tensorflow/core/framework/node_def_util.cc:680] NodeDef mentions attribute use_unbounded_threadpool which is not in the op definition: Op<name=MapDataset; signature=input_dataset:variant, other_arguments: -> handle:variant; attr=f:func; attr=Targuments:list(type),min=0; attr=output_types:list(type),min=1; attr=output_shapes:list(shape),min=1; attr=use_inter_op_parallelism:bool,default=true; attr=preserve_cardinality:bool,default=false; attr=force_synchronous:bool,default=false; attr=metadata:string,default=\"\"> This may be expected if your graph generating binary is newer  than this binary. Unknown attributes will be ignored. NodeDef: {{node ParallelMapDatasetV2/_15}}\n"
     ]
    },
    {
     "name": "stdout",
     "output_type": "stream",
     "text": [
      "\n",
      "Epoch 1: val_accuracy improved from -inf to 0.84061, saving model to CNN2D_results/V4_2_NOL_exp2/best_model_5.h5\n"
     ]
    },
    {
     "name": "stderr",
     "output_type": "stream",
     "text": [
      "WARNING:absl:You are saving your model as an HDF5 file via `model.save()` or `keras.saving.save_model(model)`. This file format is considered legacy. We recommend using instead the native Keras format, e.g. `model.save('my_model.keras')` or `keras.saving.save_model(model, 'my_model.keras')`. \n"
     ]
    },
    {
     "name": "stdout",
     "output_type": "stream",
     "text": [
      "\u001b[1m304/304\u001b[0m \u001b[32m━━━━━━━━━━━━━━━━━━━━\u001b[0m\u001b[37m\u001b[0m \u001b[1m10s\u001b[0m 31ms/step - accuracy: 0.5162 - loss: 1.2837 - val_accuracy: 0.8406 - val_loss: 0.3526\n",
      "Epoch 2/200\n",
      "\u001b[1m302/304\u001b[0m \u001b[32m━━━━━━━━━━━━━━━━━━━\u001b[0m\u001b[37m━\u001b[0m \u001b[1m0s\u001b[0m 32ms/step - accuracy: 0.8334 - loss: 0.3725\n",
      "Epoch 2: val_accuracy improved from 0.84061 to 0.84185, saving model to CNN2D_results/V4_2_NOL_exp2/best_model_5.h5\n"
     ]
    },
    {
     "name": "stderr",
     "output_type": "stream",
     "text": [
      "WARNING:absl:You are saving your model as an HDF5 file via `model.save()` or `keras.saving.save_model(model)`. This file format is considered legacy. We recommend using instead the native Keras format, e.g. `model.save('my_model.keras')` or `keras.saving.save_model(model, 'my_model.keras')`. \n"
     ]
    },
    {
     "name": "stdout",
     "output_type": "stream",
     "text": [
      "\u001b[1m304/304\u001b[0m \u001b[32m━━━━━━━━━━━━━━━━━━━━\u001b[0m\u001b[37m\u001b[0m \u001b[1m10s\u001b[0m 34ms/step - accuracy: 0.8335 - loss: 0.3723 - val_accuracy: 0.8418 - val_loss: 0.3699\n",
      "Epoch 3/200\n",
      "\u001b[1m302/304\u001b[0m \u001b[32m━━━━━━━━━━━━━━━━━━━\u001b[0m\u001b[37m━\u001b[0m \u001b[1m0s\u001b[0m 30ms/step - accuracy: 0.8611 - loss: 0.2907\n",
      "Epoch 3: val_accuracy did not improve from 0.84185\n",
      "\u001b[1m304/304\u001b[0m \u001b[32m━━━━━━━━━━━━━━━━━━━━\u001b[0m\u001b[37m\u001b[0m \u001b[1m10s\u001b[0m 32ms/step - accuracy: 0.8612 - loss: 0.2906 - val_accuracy: 0.7722 - val_loss: 0.8246\n",
      "Epoch 4/200\n",
      "\u001b[1m302/304\u001b[0m \u001b[32m━━━━━━━━━━━━━━━━━━━\u001b[0m\u001b[37m━\u001b[0m \u001b[1m0s\u001b[0m 30ms/step - accuracy: 0.8803 - loss: 0.2500\n",
      "Epoch 4: val_accuracy did not improve from 0.84185\n",
      "\u001b[1m304/304\u001b[0m \u001b[32m━━━━━━━━━━━━━━━━━━━━\u001b[0m\u001b[37m\u001b[0m \u001b[1m10s\u001b[0m 32ms/step - accuracy: 0.8804 - loss: 0.2499 - val_accuracy: 0.8344 - val_loss: 0.4494\n",
      "Epoch 5/200\n",
      "\u001b[1m302/304\u001b[0m \u001b[32m━━━━━━━━━━━━━━━━━━━\u001b[0m\u001b[37m━\u001b[0m \u001b[1m0s\u001b[0m 32ms/step - accuracy: 0.8984 - loss: 0.2132\n",
      "Epoch 5: val_accuracy did not improve from 0.84185\n",
      "\u001b[1m304/304\u001b[0m \u001b[32m━━━━━━━━━━━━━━━━━━━━\u001b[0m\u001b[37m\u001b[0m \u001b[1m10s\u001b[0m 34ms/step - accuracy: 0.8985 - loss: 0.2131 - val_accuracy: 0.8089 - val_loss: 0.5037\n",
      "Epoch 6/200\n",
      "\u001b[1m302/304\u001b[0m \u001b[32m━━━━━━━━━━━━━━━━━━━\u001b[0m\u001b[37m━\u001b[0m \u001b[1m0s\u001b[0m 31ms/step - accuracy: 0.9165 - loss: 0.1979\n",
      "Epoch 6: val_accuracy improved from 0.84185 to 0.93987, saving model to CNN2D_results/V4_2_NOL_exp2/best_model_5.h5\n"
     ]
    },
    {
     "name": "stderr",
     "output_type": "stream",
     "text": [
      "WARNING:absl:You are saving your model as an HDF5 file via `model.save()` or `keras.saving.save_model(model)`. This file format is considered legacy. We recommend using instead the native Keras format, e.g. `model.save('my_model.keras')` or `keras.saving.save_model(model, 'my_model.keras')`. \n"
     ]
    },
    {
     "name": "stdout",
     "output_type": "stream",
     "text": [
      "\u001b[1m304/304\u001b[0m \u001b[32m━━━━━━━━━━━━━━━━━━━━\u001b[0m\u001b[37m\u001b[0m \u001b[1m10s\u001b[0m 33ms/step - accuracy: 0.9166 - loss: 0.1978 - val_accuracy: 0.9399 - val_loss: 0.1556\n",
      "Epoch 7/200\n",
      "\u001b[1m303/304\u001b[0m \u001b[32m━━━━━━━━━━━━━━━━━━━\u001b[0m\u001b[37m━\u001b[0m \u001b[1m0s\u001b[0m 29ms/step - accuracy: 0.9361 - loss: 0.1682\n",
      "Epoch 7: val_accuracy improved from 0.93987 to 0.94357, saving model to CNN2D_results/V4_2_NOL_exp2/best_model_5.h5\n"
     ]
    },
    {
     "name": "stderr",
     "output_type": "stream",
     "text": [
      "WARNING:absl:You are saving your model as an HDF5 file via `model.save()` or `keras.saving.save_model(model)`. This file format is considered legacy. We recommend using instead the native Keras format, e.g. `model.save('my_model.keras')` or `keras.saving.save_model(model, 'my_model.keras')`. \n"
     ]
    },
    {
     "name": "stdout",
     "output_type": "stream",
     "text": [
      "\u001b[1m304/304\u001b[0m \u001b[32m━━━━━━━━━━━━━━━━━━━━\u001b[0m\u001b[37m\u001b[0m \u001b[1m10s\u001b[0m 32ms/step - accuracy: 0.9362 - loss: 0.1681 - val_accuracy: 0.9436 - val_loss: 0.1404\n",
      "Epoch 8/200\n",
      "\u001b[1m304/304\u001b[0m \u001b[32m━━━━━━━━━━━━━━━━━━━━\u001b[0m\u001b[37m\u001b[0m \u001b[1m0s\u001b[0m 30ms/step - accuracy: 0.9528 - loss: 0.1132\n",
      "Epoch 8: val_accuracy improved from 0.94357 to 0.94852, saving model to CNN2D_results/V4_2_NOL_exp2/best_model_5.h5\n"
     ]
    },
    {
     "name": "stderr",
     "output_type": "stream",
     "text": [
      "WARNING:absl:You are saving your model as an HDF5 file via `model.save()` or `keras.saving.save_model(model)`. This file format is considered legacy. We recommend using instead the native Keras format, e.g. `model.save('my_model.keras')` or `keras.saving.save_model(model, 'my_model.keras')`. \n"
     ]
    },
    {
     "name": "stdout",
     "output_type": "stream",
     "text": [
      "\u001b[1m304/304\u001b[0m \u001b[32m━━━━━━━━━━━━━━━━━━━━\u001b[0m\u001b[37m\u001b[0m \u001b[1m10s\u001b[0m 33ms/step - accuracy: 0.9528 - loss: 0.1132 - val_accuracy: 0.9485 - val_loss: 0.1449\n",
      "Epoch 9/200\n",
      "\u001b[1m303/304\u001b[0m \u001b[32m━━━━━━━━━━━━━━━━━━━\u001b[0m\u001b[37m━\u001b[0m \u001b[1m0s\u001b[0m 29ms/step - accuracy: 0.9595 - loss: 0.1056\n",
      "Epoch 9: val_accuracy did not improve from 0.94852\n",
      "\u001b[1m304/304\u001b[0m \u001b[32m━━━━━━━━━━━━━━━━━━━━\u001b[0m\u001b[37m\u001b[0m \u001b[1m9s\u001b[0m 31ms/step - accuracy: 0.9595 - loss: 0.1056 - val_accuracy: 0.9473 - val_loss: 0.1589\n",
      "Epoch 10/200\n",
      "\u001b[1m302/304\u001b[0m \u001b[32m━━━━━━━━━━━━━━━━━━━\u001b[0m\u001b[37m━\u001b[0m \u001b[1m0s\u001b[0m 29ms/step - accuracy: 0.9642 - loss: 0.1030\n",
      "Epoch 10: val_accuracy did not improve from 0.94852\n",
      "\u001b[1m304/304\u001b[0m \u001b[32m━━━━━━━━━━━━━━━━━━━━\u001b[0m\u001b[37m\u001b[0m \u001b[1m10s\u001b[0m 31ms/step - accuracy: 0.9642 - loss: 0.1029 - val_accuracy: 0.9287 - val_loss: 0.1784\n",
      "Epoch 11/200\n",
      "\u001b[1m303/304\u001b[0m \u001b[32m━━━━━━━━━━━━━━━━━━━\u001b[0m\u001b[37m━\u001b[0m \u001b[1m0s\u001b[0m 28ms/step - accuracy: 0.9714 - loss: 0.0721\n",
      "Epoch 11: val_accuracy did not improve from 0.94852\n",
      "\u001b[1m304/304\u001b[0m \u001b[32m━━━━━━━━━━━━━━━━━━━━\u001b[0m\u001b[37m\u001b[0m \u001b[1m9s\u001b[0m 30ms/step - accuracy: 0.9714 - loss: 0.0721 - val_accuracy: 0.9432 - val_loss: 0.1429\n",
      "Epoch 12/200\n",
      "\u001b[1m303/304\u001b[0m \u001b[32m━━━━━━━━━━━━━━━━━━━\u001b[0m\u001b[37m━\u001b[0m \u001b[1m0s\u001b[0m 28ms/step - accuracy: 0.9757 - loss: 0.0711\n",
      "Epoch 12: val_accuracy did not improve from 0.94852\n",
      "\u001b[1m304/304\u001b[0m \u001b[32m━━━━━━━━━━━━━━━━━━━━\u001b[0m\u001b[37m\u001b[0m \u001b[1m9s\u001b[0m 30ms/step - accuracy: 0.9757 - loss: 0.0712 - val_accuracy: 0.9386 - val_loss: 0.1533\n",
      "Epoch 13/200\n",
      "\u001b[1m303/304\u001b[0m \u001b[32m━━━━━━━━━━━━━━━━━━━\u001b[0m\u001b[37m━\u001b[0m \u001b[1m0s\u001b[0m 29ms/step - accuracy: 0.9788 - loss: 0.0624\n",
      "Epoch 13: val_accuracy improved from 0.94852 to 0.97529, saving model to CNN2D_results/V4_2_NOL_exp2/best_model_5.h5\n"
     ]
    },
    {
     "name": "stderr",
     "output_type": "stream",
     "text": [
      "WARNING:absl:You are saving your model as an HDF5 file via `model.save()` or `keras.saving.save_model(model)`. This file format is considered legacy. We recommend using instead the native Keras format, e.g. `model.save('my_model.keras')` or `keras.saving.save_model(model, 'my_model.keras')`. \n"
     ]
    },
    {
     "name": "stdout",
     "output_type": "stream",
     "text": [
      "\u001b[1m304/304\u001b[0m \u001b[32m━━━━━━━━━━━━━━━━━━━━\u001b[0m\u001b[37m\u001b[0m \u001b[1m9s\u001b[0m 31ms/step - accuracy: 0.9788 - loss: 0.0623 - val_accuracy: 0.9753 - val_loss: 0.0628\n",
      "Epoch 14/200\n",
      "\u001b[1m303/304\u001b[0m \u001b[32m━━━━━━━━━━━━━━━━━━━\u001b[0m\u001b[37m━\u001b[0m \u001b[1m0s\u001b[0m 28ms/step - accuracy: 0.9846 - loss: 0.0444\n",
      "Epoch 14: val_accuracy did not improve from 0.97529\n",
      "\u001b[1m304/304\u001b[0m \u001b[32m━━━━━━━━━━━━━━━━━━━━\u001b[0m\u001b[37m\u001b[0m \u001b[1m9s\u001b[0m 30ms/step - accuracy: 0.9846 - loss: 0.0444 - val_accuracy: 0.9419 - val_loss: 0.1708\n",
      "Epoch 15/200\n",
      "\u001b[1m303/304\u001b[0m \u001b[32m━━━━━━━━━━━━━━━━━━━\u001b[0m\u001b[37m━\u001b[0m \u001b[1m0s\u001b[0m 28ms/step - accuracy: 0.9744 - loss: 0.0668\n",
      "Epoch 15: val_accuracy improved from 0.97529 to 0.97858, saving model to CNN2D_results/V4_2_NOL_exp2/best_model_5.h5\n"
     ]
    },
    {
     "name": "stderr",
     "output_type": "stream",
     "text": [
      "WARNING:absl:You are saving your model as an HDF5 file via `model.save()` or `keras.saving.save_model(model)`. This file format is considered legacy. We recommend using instead the native Keras format, e.g. `model.save('my_model.keras')` or `keras.saving.save_model(model, 'my_model.keras')`. \n"
     ]
    },
    {
     "name": "stdout",
     "output_type": "stream",
     "text": [
      "\u001b[1m304/304\u001b[0m \u001b[32m━━━━━━━━━━━━━━━━━━━━\u001b[0m\u001b[37m\u001b[0m \u001b[1m9s\u001b[0m 31ms/step - accuracy: 0.9744 - loss: 0.0667 - val_accuracy: 0.9786 - val_loss: 0.0564\n",
      "Epoch 16/200\n",
      "\u001b[1m303/304\u001b[0m \u001b[32m━━━━━━━━━━━━━━━━━━━\u001b[0m\u001b[37m━\u001b[0m \u001b[1m0s\u001b[0m 29ms/step - accuracy: 0.9832 - loss: 0.0502\n",
      "Epoch 16: val_accuracy did not improve from 0.97858\n",
      "\u001b[1m304/304\u001b[0m \u001b[32m━━━━━━━━━━━━━━━━━━━━\u001b[0m\u001b[37m\u001b[0m \u001b[1m9s\u001b[0m 31ms/step - accuracy: 0.9832 - loss: 0.0503 - val_accuracy: 0.9720 - val_loss: 0.0828\n",
      "Epoch 17/200\n",
      "\u001b[1m303/304\u001b[0m \u001b[32m━━━━━━━━━━━━━━━━━━━\u001b[0m\u001b[37m━\u001b[0m \u001b[1m0s\u001b[0m 28ms/step - accuracy: 0.9869 - loss: 0.0440\n",
      "Epoch 17: val_accuracy did not improve from 0.97858\n",
      "\u001b[1m304/304\u001b[0m \u001b[32m━━━━━━━━━━━━━━━━━━━━\u001b[0m\u001b[37m\u001b[0m \u001b[1m9s\u001b[0m 30ms/step - accuracy: 0.9869 - loss: 0.0439 - val_accuracy: 0.9629 - val_loss: 0.1109\n",
      "Epoch 18/200\n",
      "\u001b[1m303/304\u001b[0m \u001b[32m━━━━━━━━━━━━━━━━━━━\u001b[0m\u001b[37m━\u001b[0m \u001b[1m0s\u001b[0m 28ms/step - accuracy: 0.9940 - loss: 0.0160\n",
      "Epoch 18: val_accuracy did not improve from 0.97858\n",
      "\u001b[1m304/304\u001b[0m \u001b[32m━━━━━━━━━━━━━━━━━━━━\u001b[0m\u001b[37m\u001b[0m \u001b[1m9s\u001b[0m 30ms/step - accuracy: 0.9940 - loss: 0.0160 - val_accuracy: 0.9559 - val_loss: 0.1540\n",
      "Epoch 19/200\n",
      "\u001b[1m303/304\u001b[0m \u001b[32m━━━━━━━━━━━━━━━━━━━\u001b[0m\u001b[37m━\u001b[0m \u001b[1m0s\u001b[0m 28ms/step - accuracy: 0.9832 - loss: 0.0496\n",
      "Epoch 19: val_accuracy did not improve from 0.97858\n",
      "\u001b[1m304/304\u001b[0m \u001b[32m━━━━━━━━━━━━━━━━━━━━\u001b[0m\u001b[37m\u001b[0m \u001b[1m9s\u001b[0m 30ms/step - accuracy: 0.9832 - loss: 0.0496 - val_accuracy: 0.9320 - val_loss: 0.2834\n",
      "Epoch 20/200\n",
      "\u001b[1m303/304\u001b[0m \u001b[32m━━━━━━━━━━━━━━━━━━━\u001b[0m\u001b[37m━\u001b[0m \u001b[1m0s\u001b[0m 28ms/step - accuracy: 0.9892 - loss: 0.0315\n",
      "Epoch 20: val_accuracy improved from 0.97858 to 0.97941, saving model to CNN2D_results/V4_2_NOL_exp2/best_model_5.h5\n"
     ]
    },
    {
     "name": "stderr",
     "output_type": "stream",
     "text": [
      "WARNING:absl:You are saving your model as an HDF5 file via `model.save()` or `keras.saving.save_model(model)`. This file format is considered legacy. We recommend using instead the native Keras format, e.g. `model.save('my_model.keras')` or `keras.saving.save_model(model, 'my_model.keras')`. \n"
     ]
    },
    {
     "name": "stdout",
     "output_type": "stream",
     "text": [
      "\u001b[1m304/304\u001b[0m \u001b[32m━━━━━━━━━━━━━━━━━━━━\u001b[0m\u001b[37m\u001b[0m \u001b[1m9s\u001b[0m 30ms/step - accuracy: 0.9892 - loss: 0.0314 - val_accuracy: 0.9794 - val_loss: 0.0646\n",
      "Epoch 21/200\n",
      "\u001b[1m303/304\u001b[0m \u001b[32m━━━━━━━━━━━━━━━━━━━\u001b[0m\u001b[37m━\u001b[0m \u001b[1m0s\u001b[0m 28ms/step - accuracy: 0.9918 - loss: 0.0273\n",
      "Epoch 21: val_accuracy improved from 0.97941 to 0.98847, saving model to CNN2D_results/V4_2_NOL_exp2/best_model_5.h5\n"
     ]
    },
    {
     "name": "stderr",
     "output_type": "stream",
     "text": [
      "WARNING:absl:You are saving your model as an HDF5 file via `model.save()` or `keras.saving.save_model(model)`. This file format is considered legacy. We recommend using instead the native Keras format, e.g. `model.save('my_model.keras')` or `keras.saving.save_model(model, 'my_model.keras')`. \n"
     ]
    },
    {
     "name": "stdout",
     "output_type": "stream",
     "text": [
      "\u001b[1m304/304\u001b[0m \u001b[32m━━━━━━━━━━━━━━━━━━━━\u001b[0m\u001b[37m\u001b[0m \u001b[1m9s\u001b[0m 30ms/step - accuracy: 0.9918 - loss: 0.0273 - val_accuracy: 0.9885 - val_loss: 0.0424\n",
      "Epoch 22/200\n",
      "\u001b[1m302/304\u001b[0m \u001b[32m━━━━━━━━━━━━━━━━━━━\u001b[0m\u001b[37m━\u001b[0m \u001b[1m0s\u001b[0m 28ms/step - accuracy: 0.9964 - loss: 0.0101\n",
      "Epoch 22: val_accuracy did not improve from 0.98847\n",
      "\u001b[1m304/304\u001b[0m \u001b[32m━━━━━━━━━━━━━━━━━━━━\u001b[0m\u001b[37m\u001b[0m \u001b[1m9s\u001b[0m 30ms/step - accuracy: 0.9964 - loss: 0.0101 - val_accuracy: 0.9419 - val_loss: 0.2324\n",
      "Epoch 23/200\n",
      "\u001b[1m303/304\u001b[0m \u001b[32m━━━━━━━━━━━━━━━━━━━\u001b[0m\u001b[37m━\u001b[0m \u001b[1m0s\u001b[0m 29ms/step - accuracy: 0.9917 - loss: 0.0200\n",
      "Epoch 23: val_accuracy did not improve from 0.98847\n",
      "\u001b[1m304/304\u001b[0m \u001b[32m━━━━━━━━━━━━━━━━━━━━\u001b[0m\u001b[37m\u001b[0m \u001b[1m10s\u001b[0m 31ms/step - accuracy: 0.9917 - loss: 0.0201 - val_accuracy: 0.9773 - val_loss: 0.0781\n",
      "Epoch 24/200\n",
      "\u001b[1m302/304\u001b[0m \u001b[32m━━━━━━━━━━━━━━━━━━━\u001b[0m\u001b[37m━\u001b[0m \u001b[1m0s\u001b[0m 28ms/step - accuracy: 0.9892 - loss: 0.0358\n",
      "Epoch 24: val_accuracy did not improve from 0.98847\n",
      "\u001b[1m304/304\u001b[0m \u001b[32m━━━━━━━━━━━━━━━━━━━━\u001b[0m\u001b[37m\u001b[0m \u001b[1m9s\u001b[0m 30ms/step - accuracy: 0.9892 - loss: 0.0357 - val_accuracy: 0.9584 - val_loss: 0.1647\n",
      "Epoch 25/200\n",
      "\u001b[1m303/304\u001b[0m \u001b[32m━━━━━━━━━━━━━━━━━━━\u001b[0m\u001b[37m━\u001b[0m \u001b[1m0s\u001b[0m 28ms/step - accuracy: 0.9707 - loss: 0.0947\n",
      "Epoch 25: val_accuracy did not improve from 0.98847\n",
      "\u001b[1m304/304\u001b[0m \u001b[32m━━━━━━━━━━━━━━━━━━━━\u001b[0m\u001b[37m\u001b[0m \u001b[1m9s\u001b[0m 30ms/step - accuracy: 0.9708 - loss: 0.0943 - val_accuracy: 0.9794 - val_loss: 0.0664\n",
      "Epoch 26/200\n",
      "\u001b[1m303/304\u001b[0m \u001b[32m━━━━━━━━━━━━━━━━━━━\u001b[0m\u001b[37m━\u001b[0m \u001b[1m0s\u001b[0m 29ms/step - accuracy: 0.9967 - loss: 0.0069\n",
      "Epoch 26: val_accuracy did not improve from 0.98847\n",
      "\u001b[1m304/304\u001b[0m \u001b[32m━━━━━━━━━━━━━━━━━━━━\u001b[0m\u001b[37m\u001b[0m \u001b[1m9s\u001b[0m 31ms/step - accuracy: 0.9967 - loss: 0.0069 - val_accuracy: 0.9724 - val_loss: 0.0944\n",
      "Epoch 27/200\n",
      "\u001b[1m303/304\u001b[0m \u001b[32m━━━━━━━━━━━━━━━━━━━\u001b[0m\u001b[37m━\u001b[0m \u001b[1m0s\u001b[0m 28ms/step - accuracy: 0.9886 - loss: 0.0306\n",
      "Epoch 27: val_accuracy did not improve from 0.98847\n",
      "\u001b[1m304/304\u001b[0m \u001b[32m━━━━━━━━━━━━━━━━━━━━\u001b[0m\u001b[37m\u001b[0m \u001b[1m9s\u001b[0m 30ms/step - accuracy: 0.9886 - loss: 0.0305 - val_accuracy: 0.9757 - val_loss: 0.0950\n",
      "Epoch 28/200\n",
      "\u001b[1m304/304\u001b[0m \u001b[32m━━━━━━━━━━━━━━━━━━━━\u001b[0m\u001b[37m\u001b[0m \u001b[1m0s\u001b[0m 29ms/step - accuracy: 0.9952 - loss: 0.0133\n",
      "Epoch 28: val_accuracy did not improve from 0.98847\n",
      "\u001b[1m304/304\u001b[0m \u001b[32m━━━━━━━━━━━━━━━━━━━━\u001b[0m\u001b[37m\u001b[0m \u001b[1m10s\u001b[0m 31ms/step - accuracy: 0.9952 - loss: 0.0133 - val_accuracy: 0.9852 - val_loss: 0.0562\n",
      "Epoch 29/200\n",
      "\u001b[1m303/304\u001b[0m \u001b[32m━━━━━━━━━━━━━━━━━━━\u001b[0m\u001b[37m━\u001b[0m \u001b[1m0s\u001b[0m 30ms/step - accuracy: 0.9964 - loss: 0.0127\n",
      "Epoch 29: val_accuracy did not improve from 0.98847\n",
      "\u001b[1m304/304\u001b[0m \u001b[32m━━━━━━━━━━━━━━━━━━━━\u001b[0m\u001b[37m\u001b[0m \u001b[1m10s\u001b[0m 32ms/step - accuracy: 0.9964 - loss: 0.0127 - val_accuracy: 0.9802 - val_loss: 0.0837\n",
      "Epoch 30/200\n",
      "\u001b[1m303/304\u001b[0m \u001b[32m━━━━━━━━━━━━━━━━━━━\u001b[0m\u001b[37m━\u001b[0m \u001b[1m0s\u001b[0m 28ms/step - accuracy: 0.9918 - loss: 0.0236\n",
      "Epoch 30: val_accuracy did not improve from 0.98847\n",
      "\u001b[1m304/304\u001b[0m \u001b[32m━━━━━━━━━━━━━━━━━━━━\u001b[0m\u001b[37m\u001b[0m \u001b[1m9s\u001b[0m 30ms/step - accuracy: 0.9918 - loss: 0.0236 - val_accuracy: 0.9798 - val_loss: 0.0834\n",
      "Epoch 31/200\n",
      "\u001b[1m303/304\u001b[0m \u001b[32m━━━━━━━━━━━━━━━━━━━\u001b[0m\u001b[37m━\u001b[0m \u001b[1m0s\u001b[0m 28ms/step - accuracy: 0.9939 - loss: 0.0224\n",
      "Epoch 31: val_accuracy did not improve from 0.98847\n",
      "\u001b[1m304/304\u001b[0m \u001b[32m━━━━━━━━━━━━━━━━━━━━\u001b[0m\u001b[37m\u001b[0m \u001b[1m9s\u001b[0m 30ms/step - accuracy: 0.9939 - loss: 0.0225 - val_accuracy: 0.9864 - val_loss: 0.0490\n",
      "Epoch 32/200\n",
      "\u001b[1m303/304\u001b[0m \u001b[32m━━━━━━━━━━━━━━━━━━━\u001b[0m\u001b[37m━\u001b[0m \u001b[1m0s\u001b[0m 28ms/step - accuracy: 0.9995 - loss: 0.0023\n",
      "Epoch 32: val_accuracy improved from 0.98847 to 0.98888, saving model to CNN2D_results/V4_2_NOL_exp2/best_model_5.h5\n"
     ]
    },
    {
     "name": "stderr",
     "output_type": "stream",
     "text": [
      "WARNING:absl:You are saving your model as an HDF5 file via `model.save()` or `keras.saving.save_model(model)`. This file format is considered legacy. We recommend using instead the native Keras format, e.g. `model.save('my_model.keras')` or `keras.saving.save_model(model, 'my_model.keras')`. \n"
     ]
    },
    {
     "name": "stdout",
     "output_type": "stream",
     "text": [
      "\u001b[1m304/304\u001b[0m \u001b[32m━━━━━━━━━━━━━━━━━━━━\u001b[0m\u001b[37m\u001b[0m \u001b[1m9s\u001b[0m 31ms/step - accuracy: 0.9995 - loss: 0.0023 - val_accuracy: 0.9889 - val_loss: 0.0461\n",
      "Epoch 33/200\n",
      "\u001b[1m303/304\u001b[0m \u001b[32m━━━━━━━━━━━━━━━━━━━\u001b[0m\u001b[37m━\u001b[0m \u001b[1m0s\u001b[0m 28ms/step - accuracy: 0.9956 - loss: 0.0132\n",
      "Epoch 33: val_accuracy did not improve from 0.98888\n",
      "\u001b[1m304/304\u001b[0m \u001b[32m━━━━━━━━━━━━━━━━━━━━\u001b[0m\u001b[37m\u001b[0m \u001b[1m9s\u001b[0m 30ms/step - accuracy: 0.9956 - loss: 0.0132 - val_accuracy: 0.9889 - val_loss: 0.0445\n",
      "Epoch 34/200\n",
      "\u001b[1m304/304\u001b[0m \u001b[32m━━━━━━━━━━━━━━━━━━━━\u001b[0m\u001b[37m\u001b[0m \u001b[1m0s\u001b[0m 28ms/step - accuracy: 1.0000 - loss: 4.6221e-04\n",
      "Epoch 34: val_accuracy did not improve from 0.98888\n",
      "\u001b[1m304/304\u001b[0m \u001b[32m━━━━━━━━━━━━━━━━━━━━\u001b[0m\u001b[37m\u001b[0m \u001b[1m9s\u001b[0m 30ms/step - accuracy: 1.0000 - loss: 4.6182e-04 - val_accuracy: 0.9881 - val_loss: 0.0478\n",
      "Epoch 35/200\n",
      "\u001b[1m303/304\u001b[0m \u001b[32m━━━━━━━━━━━━━━━━━━━\u001b[0m\u001b[37m━\u001b[0m \u001b[1m0s\u001b[0m 28ms/step - accuracy: 1.0000 - loss: 1.0200e-04\n",
      "Epoch 35: val_accuracy did not improve from 0.98888\n",
      "\u001b[1m304/304\u001b[0m \u001b[32m━━━━━━━━━━━━━━━━━━━━\u001b[0m\u001b[37m\u001b[0m \u001b[1m9s\u001b[0m 30ms/step - accuracy: 1.0000 - loss: 1.0199e-04 - val_accuracy: 0.9872 - val_loss: 0.0453\n",
      "Epoch 36/200\n",
      "\u001b[1m303/304\u001b[0m \u001b[32m━━━━━━━━━━━━━━━━━━━\u001b[0m\u001b[37m━\u001b[0m \u001b[1m0s\u001b[0m 29ms/step - accuracy: 1.0000 - loss: 6.0233e-05\n",
      "Epoch 36: val_accuracy did not improve from 0.98888\n",
      "\u001b[1m304/304\u001b[0m \u001b[32m━━━━━━━━━━━━━━━━━━━━\u001b[0m\u001b[37m\u001b[0m \u001b[1m9s\u001b[0m 31ms/step - accuracy: 1.0000 - loss: 6.0242e-05 - val_accuracy: 0.9872 - val_loss: 0.0456\n",
      "Epoch 37/200\n",
      "\u001b[1m303/304\u001b[0m \u001b[32m━━━━━━━━━━━━━━━━━━━\u001b[0m\u001b[37m━\u001b[0m \u001b[1m0s\u001b[0m 28ms/step - accuracy: 1.0000 - loss: 4.1030e-05\n",
      "Epoch 37: val_accuracy did not improve from 0.98888\n",
      "\u001b[1m304/304\u001b[0m \u001b[32m━━━━━━━━━━━━━━━━━━━━\u001b[0m\u001b[37m\u001b[0m \u001b[1m9s\u001b[0m 30ms/step - accuracy: 1.0000 - loss: 4.1041e-05 - val_accuracy: 0.9868 - val_loss: 0.0463\n",
      "Epoch 38/200\n",
      "\u001b[1m303/304\u001b[0m \u001b[32m━━━━━━━━━━━━━━━━━━━\u001b[0m\u001b[37m━\u001b[0m \u001b[1m0s\u001b[0m 28ms/step - accuracy: 1.0000 - loss: 3.0258e-05\n",
      "Epoch 38: val_accuracy did not improve from 0.98888\n",
      "\u001b[1m304/304\u001b[0m \u001b[32m━━━━━━━━━━━━━━━━━━━━\u001b[0m\u001b[37m\u001b[0m \u001b[1m9s\u001b[0m 30ms/step - accuracy: 1.0000 - loss: 3.0266e-05 - val_accuracy: 0.9868 - val_loss: 0.0471\n",
      "Epoch 39/200\n",
      "\u001b[1m303/304\u001b[0m \u001b[32m━━━━━━━━━━━━━━━━━━━\u001b[0m\u001b[37m━\u001b[0m \u001b[1m0s\u001b[0m 28ms/step - accuracy: 1.0000 - loss: 2.3038e-05\n",
      "Epoch 39: val_accuracy did not improve from 0.98888\n",
      "\u001b[1m304/304\u001b[0m \u001b[32m━━━━━━━━━━━━━━━━━━━━\u001b[0m\u001b[37m\u001b[0m \u001b[1m9s\u001b[0m 30ms/step - accuracy: 1.0000 - loss: 2.3044e-05 - val_accuracy: 0.9868 - val_loss: 0.0478\n",
      "Epoch 40/200\n",
      "\u001b[1m303/304\u001b[0m \u001b[32m━━━━━━━━━━━━━━━━━━━\u001b[0m\u001b[37m━\u001b[0m \u001b[1m0s\u001b[0m 28ms/step - accuracy: 1.0000 - loss: 1.7942e-05\n",
      "Epoch 40: val_accuracy did not improve from 0.98888\n",
      "\u001b[1m304/304\u001b[0m \u001b[32m━━━━━━━━━━━━━━━━━━━━\u001b[0m\u001b[37m\u001b[0m \u001b[1m9s\u001b[0m 30ms/step - accuracy: 1.0000 - loss: 1.7947e-05 - val_accuracy: 0.9868 - val_loss: 0.0485\n",
      "Epoch 41/200\n",
      "\u001b[1m302/304\u001b[0m \u001b[32m━━━━━━━━━━━━━━━━━━━\u001b[0m\u001b[37m━\u001b[0m \u001b[1m0s\u001b[0m 28ms/step - accuracy: 1.0000 - loss: 1.4214e-05\n",
      "Epoch 41: val_accuracy did not improve from 0.98888\n",
      "\u001b[1m304/304\u001b[0m \u001b[32m━━━━━━━━━━━━━━━━━━━━\u001b[0m\u001b[37m\u001b[0m \u001b[1m9s\u001b[0m 30ms/step - accuracy: 1.0000 - loss: 1.4220e-05 - val_accuracy: 0.9868 - val_loss: 0.0492\n",
      "Epoch 42/200\n",
      "\u001b[1m302/304\u001b[0m \u001b[32m━━━━━━━━━━━━━━━━━━━\u001b[0m\u001b[37m━\u001b[0m \u001b[1m0s\u001b[0m 29ms/step - accuracy: 1.0000 - loss: 1.1372e-05\n",
      "Epoch 42: val_accuracy did not improve from 0.98888\n",
      "\u001b[1m304/304\u001b[0m \u001b[32m━━━━━━━━━━━━━━━━━━━━\u001b[0m\u001b[37m\u001b[0m \u001b[1m9s\u001b[0m 31ms/step - accuracy: 1.0000 - loss: 1.1377e-05 - val_accuracy: 0.9868 - val_loss: 0.0498\n",
      "Epoch 43/200\n",
      "\u001b[1m303/304\u001b[0m \u001b[32m━━━━━━━━━━━━━━━━━━━\u001b[0m\u001b[37m━\u001b[0m \u001b[1m0s\u001b[0m 29ms/step - accuracy: 1.0000 - loss: 9.1817e-06\n",
      "Epoch 43: val_accuracy did not improve from 0.98888\n",
      "\u001b[1m304/304\u001b[0m \u001b[32m━━━━━━━━━━━━━━━━━━━━\u001b[0m\u001b[37m\u001b[0m \u001b[1m9s\u001b[0m 31ms/step - accuracy: 1.0000 - loss: 9.1844e-06 - val_accuracy: 0.9868 - val_loss: 0.0504\n",
      "Epoch 44/200\n",
      "\u001b[1m302/304\u001b[0m \u001b[32m━━━━━━━━━━━━━━━━━━━\u001b[0m\u001b[37m━\u001b[0m \u001b[1m0s\u001b[0m 28ms/step - accuracy: 1.0000 - loss: 7.4644e-06\n",
      "Epoch 44: val_accuracy did not improve from 0.98888\n",
      "\u001b[1m304/304\u001b[0m \u001b[32m━━━━━━━━━━━━━━━━━━━━\u001b[0m\u001b[37m\u001b[0m \u001b[1m9s\u001b[0m 30ms/step - accuracy: 1.0000 - loss: 7.4679e-06 - val_accuracy: 0.9868 - val_loss: 0.0510\n",
      "Epoch 45/200\n",
      "\u001b[1m302/304\u001b[0m \u001b[32m━━━━━━━━━━━━━━━━━━━\u001b[0m\u001b[37m━\u001b[0m \u001b[1m0s\u001b[0m 29ms/step - accuracy: 1.0000 - loss: 6.1014e-06\n",
      "Epoch 45: val_accuracy did not improve from 0.98888\n",
      "\u001b[1m304/304\u001b[0m \u001b[32m━━━━━━━━━━━━━━━━━━━━\u001b[0m\u001b[37m\u001b[0m \u001b[1m9s\u001b[0m 31ms/step - accuracy: 1.0000 - loss: 6.1044e-06 - val_accuracy: 0.9868 - val_loss: 0.0516\n",
      "Epoch 46/200\n",
      "\u001b[1m302/304\u001b[0m \u001b[32m━━━━━━━━━━━━━━━━━━━\u001b[0m\u001b[37m━\u001b[0m \u001b[1m0s\u001b[0m 29ms/step - accuracy: 1.0000 - loss: 5.0027e-06\n",
      "Epoch 46: val_accuracy did not improve from 0.98888\n",
      "\u001b[1m304/304\u001b[0m \u001b[32m━━━━━━━━━━━━━━━━━━━━\u001b[0m\u001b[37m\u001b[0m \u001b[1m9s\u001b[0m 31ms/step - accuracy: 1.0000 - loss: 5.0052e-06 - val_accuracy: 0.9872 - val_loss: 0.0522\n",
      "Epoch 47/200\n",
      "\u001b[1m302/304\u001b[0m \u001b[32m━━━━━━━━━━━━━━━━━━━\u001b[0m\u001b[37m━\u001b[0m \u001b[1m0s\u001b[0m 28ms/step - accuracy: 1.0000 - loss: 4.1193e-06\n",
      "Epoch 47: val_accuracy did not improve from 0.98888\n",
      "\u001b[1m304/304\u001b[0m \u001b[32m━━━━━━━━━━━━━━━━━━━━\u001b[0m\u001b[37m\u001b[0m \u001b[1m9s\u001b[0m 30ms/step - accuracy: 1.0000 - loss: 4.1214e-06 - val_accuracy: 0.9872 - val_loss: 0.0528\n",
      "Epoch 48/200\n",
      "\u001b[1m303/304\u001b[0m \u001b[32m━━━━━━━━━━━━━━━━━━━\u001b[0m\u001b[37m━\u001b[0m \u001b[1m0s\u001b[0m 28ms/step - accuracy: 1.0000 - loss: 3.4041e-06\n",
      "Epoch 48: val_accuracy did not improve from 0.98888\n",
      "\u001b[1m304/304\u001b[0m \u001b[32m━━━━━━━━━━━━━━━━━━━━\u001b[0m\u001b[37m\u001b[0m \u001b[1m9s\u001b[0m 30ms/step - accuracy: 1.0000 - loss: 3.4053e-06 - val_accuracy: 0.9872 - val_loss: 0.0534\n",
      "Epoch 49/200\n",
      "\u001b[1m303/304\u001b[0m \u001b[32m━━━━━━━━━━━━━━━━━━━\u001b[0m\u001b[37m━\u001b[0m \u001b[1m0s\u001b[0m 28ms/step - accuracy: 1.0000 - loss: 2.8239e-06\n",
      "Epoch 49: val_accuracy did not improve from 0.98888\n",
      "\u001b[1m304/304\u001b[0m \u001b[32m━━━━━━━━━━━━━━━━━━━━\u001b[0m\u001b[37m\u001b[0m \u001b[1m9s\u001b[0m 30ms/step - accuracy: 1.0000 - loss: 2.8249e-06 - val_accuracy: 0.9872 - val_loss: 0.0540\n",
      "Epoch 50/200\n",
      "\u001b[1m303/304\u001b[0m \u001b[32m━━━━━━━━━━━━━━━━━━━\u001b[0m\u001b[37m━\u001b[0m \u001b[1m0s\u001b[0m 28ms/step - accuracy: 1.0000 - loss: 2.3475e-06\n",
      "Epoch 50: val_accuracy did not improve from 0.98888\n",
      "\u001b[1m304/304\u001b[0m \u001b[32m━━━━━━━━━━━━━━━━━━━━\u001b[0m\u001b[37m\u001b[0m \u001b[1m9s\u001b[0m 30ms/step - accuracy: 1.0000 - loss: 2.3484e-06 - val_accuracy: 0.9876 - val_loss: 0.0546\n",
      "Epoch 51/200\n",
      "\u001b[1m303/304\u001b[0m \u001b[32m━━━━━━━━━━━━━━━━━━━\u001b[0m\u001b[37m━\u001b[0m \u001b[1m0s\u001b[0m 28ms/step - accuracy: 1.0000 - loss: 1.9574e-06\n",
      "Epoch 51: val_accuracy did not improve from 0.98888\n",
      "\u001b[1m304/304\u001b[0m \u001b[32m━━━━━━━━━━━━━━━━━━━━\u001b[0m\u001b[37m\u001b[0m \u001b[1m9s\u001b[0m 30ms/step - accuracy: 1.0000 - loss: 1.9581e-06 - val_accuracy: 0.9876 - val_loss: 0.0552\n",
      "Epoch 52/200\n",
      "\u001b[1m303/304\u001b[0m \u001b[32m━━━━━━━━━━━━━━━━━━━\u001b[0m\u001b[37m━\u001b[0m \u001b[1m0s\u001b[0m 29ms/step - accuracy: 1.0000 - loss: 1.6353e-06\n",
      "Epoch 52: val_accuracy did not improve from 0.98888\n",
      "\u001b[1m304/304\u001b[0m \u001b[32m━━━━━━━━━━━━━━━━━━━━\u001b[0m\u001b[37m\u001b[0m \u001b[1m9s\u001b[0m 31ms/step - accuracy: 1.0000 - loss: 1.6359e-06 - val_accuracy: 0.9876 - val_loss: 0.0557\n",
      "Epoch 53/200\n",
      "\u001b[1m303/304\u001b[0m \u001b[32m━━━━━━━━━━━━━━━━━━━\u001b[0m\u001b[37m━\u001b[0m \u001b[1m0s\u001b[0m 28ms/step - accuracy: 1.0000 - loss: 1.3662e-06\n",
      "Epoch 53: val_accuracy did not improve from 0.98888\n",
      "\u001b[1m304/304\u001b[0m \u001b[32m━━━━━━━━━━━━━━━━━━━━\u001b[0m\u001b[37m\u001b[0m \u001b[1m9s\u001b[0m 30ms/step - accuracy: 1.0000 - loss: 1.3668e-06 - val_accuracy: 0.9876 - val_loss: 0.0563\n",
      "Epoch 54/200\n",
      "\u001b[1m302/304\u001b[0m \u001b[32m━━━━━━━━━━━━━━━━━━━\u001b[0m\u001b[37m━\u001b[0m \u001b[1m0s\u001b[0m 33ms/step - accuracy: 1.0000 - loss: 1.1427e-06\n",
      "Epoch 54: val_accuracy did not improve from 0.98888\n",
      "\u001b[1m304/304\u001b[0m \u001b[32m━━━━━━━━━━━━━━━━━━━━\u001b[0m\u001b[37m\u001b[0m \u001b[1m11s\u001b[0m 36ms/step - accuracy: 1.0000 - loss: 1.1434e-06 - val_accuracy: 0.9876 - val_loss: 0.0569\n",
      "Epoch 55/200\n",
      "\u001b[1m303/304\u001b[0m \u001b[32m━━━━━━━━━━━━━━━━━━━\u001b[0m\u001b[37m━\u001b[0m \u001b[1m0s\u001b[0m 31ms/step - accuracy: 1.0000 - loss: 9.5524e-07\n",
      "Epoch 55: val_accuracy did not improve from 0.98888\n",
      "\u001b[1m304/304\u001b[0m \u001b[32m━━━━━━━━━━━━━━━━━━━━\u001b[0m\u001b[37m\u001b[0m \u001b[1m10s\u001b[0m 33ms/step - accuracy: 1.0000 - loss: 9.5564e-07 - val_accuracy: 0.9876 - val_loss: 0.0574\n",
      "Epoch 56/200\n",
      "\u001b[1m302/304\u001b[0m \u001b[32m━━━━━━━━━━━━━━━━━━━\u001b[0m\u001b[37m━\u001b[0m \u001b[1m0s\u001b[0m 31ms/step - accuracy: 1.0000 - loss: 7.9912e-07\n",
      "Epoch 56: val_accuracy did not improve from 0.98888\n",
      "\u001b[1m304/304\u001b[0m \u001b[32m━━━━━━━━━━━━━━━━━━━━\u001b[0m\u001b[37m\u001b[0m \u001b[1m10s\u001b[0m 33ms/step - accuracy: 1.0000 - loss: 7.9962e-07 - val_accuracy: 0.9876 - val_loss: 0.0579\n",
      "Epoch 57/200\n",
      "\u001b[1m303/304\u001b[0m \u001b[32m━━━━━━━━━━━━━━━━━━━\u001b[0m\u001b[37m━\u001b[0m \u001b[1m0s\u001b[0m 31ms/step - accuracy: 1.0000 - loss: 6.6957e-07\n",
      "Epoch 57: val_accuracy did not improve from 0.98888\n",
      "\u001b[1m304/304\u001b[0m \u001b[32m━━━━━━━━━━━━━━━━━━━━\u001b[0m\u001b[37m\u001b[0m \u001b[1m10s\u001b[0m 33ms/step - accuracy: 1.0000 - loss: 6.6985e-07 - val_accuracy: 0.9876 - val_loss: 0.0585\n",
      "Epoch 58/200\n",
      "\u001b[1m303/304\u001b[0m \u001b[32m━━━━━━━━━━━━━━━━━━━\u001b[0m\u001b[37m━\u001b[0m \u001b[1m0s\u001b[0m 28ms/step - accuracy: 1.0000 - loss: 5.6012e-07\n",
      "Epoch 58: val_accuracy did not improve from 0.98888\n",
      "\u001b[1m304/304\u001b[0m \u001b[32m━━━━━━━━━━━━━━━━━━━━\u001b[0m\u001b[37m\u001b[0m \u001b[1m9s\u001b[0m 30ms/step - accuracy: 1.0000 - loss: 5.6036e-07 - val_accuracy: 0.9876 - val_loss: 0.0590\n",
      "Epoch 59/200\n",
      "\u001b[1m303/304\u001b[0m \u001b[32m━━━━━━━━━━━━━━━━━━━\u001b[0m\u001b[37m━\u001b[0m \u001b[1m0s\u001b[0m 28ms/step - accuracy: 1.0000 - loss: 4.6819e-07\n",
      "Epoch 59: val_accuracy did not improve from 0.98888\n",
      "\u001b[1m304/304\u001b[0m \u001b[32m━━━━━━━━━━━━━━━━━━━━\u001b[0m\u001b[37m\u001b[0m \u001b[1m9s\u001b[0m 30ms/step - accuracy: 1.0000 - loss: 4.6840e-07 - val_accuracy: 0.9876 - val_loss: 0.0595\n",
      "Epoch 60/200\n",
      "\u001b[1m302/304\u001b[0m \u001b[32m━━━━━━━━━━━━━━━━━━━\u001b[0m\u001b[37m━\u001b[0m \u001b[1m0s\u001b[0m 28ms/step - accuracy: 1.0000 - loss: 3.9140e-07\n",
      "Epoch 60: val_accuracy did not improve from 0.98888\n",
      "\u001b[1m304/304\u001b[0m \u001b[32m━━━━━━━━━━━━━━━━━━━━\u001b[0m\u001b[37m\u001b[0m \u001b[1m9s\u001b[0m 31ms/step - accuracy: 1.0000 - loss: 3.9168e-07 - val_accuracy: 0.9876 - val_loss: 0.0600\n",
      "Epoch 61/200\n",
      "\u001b[1m303/304\u001b[0m \u001b[32m━━━━━━━━━━━━━━━━━━━\u001b[0m\u001b[37m━\u001b[0m \u001b[1m0s\u001b[0m 29ms/step - accuracy: 1.0000 - loss: 3.2835e-07\n",
      "Epoch 61: val_accuracy did not improve from 0.98888\n",
      "\u001b[1m304/304\u001b[0m \u001b[32m━━━━━━━━━━━━━━━━━━━━\u001b[0m\u001b[37m\u001b[0m \u001b[1m10s\u001b[0m 31ms/step - accuracy: 1.0000 - loss: 3.2851e-07 - val_accuracy: 0.9876 - val_loss: 0.0605\n",
      "Epoch 62/200\n",
      "\u001b[1m303/304\u001b[0m \u001b[32m━━━━━━━━━━━━━━━━━━━\u001b[0m\u001b[37m━\u001b[0m \u001b[1m0s\u001b[0m 28ms/step - accuracy: 1.0000 - loss: 2.7560e-07\n",
      "Epoch 62: val_accuracy did not improve from 0.98888\n",
      "\u001b[1m304/304\u001b[0m \u001b[32m━━━━━━━━━━━━━━━━━━━━\u001b[0m\u001b[37m\u001b[0m \u001b[1m9s\u001b[0m 30ms/step - accuracy: 1.0000 - loss: 2.7574e-07 - val_accuracy: 0.9876 - val_loss: 0.0610\n",
      "Epoch 63/200\n",
      "\u001b[1m303/304\u001b[0m \u001b[32m━━━━━━━━━━━━━━━━━━━\u001b[0m\u001b[37m━\u001b[0m \u001b[1m0s\u001b[0m 28ms/step - accuracy: 1.0000 - loss: 2.3132e-07\n",
      "Epoch 63: val_accuracy did not improve from 0.98888\n",
      "\u001b[1m304/304\u001b[0m \u001b[32m━━━━━━━━━━━━━━━━━━━━\u001b[0m\u001b[37m\u001b[0m \u001b[1m9s\u001b[0m 30ms/step - accuracy: 1.0000 - loss: 2.3144e-07 - val_accuracy: 0.9876 - val_loss: 0.0615\n",
      "Epoch 64/200\n",
      "\u001b[1m302/304\u001b[0m \u001b[32m━━━━━━━━━━━━━━━━━━━\u001b[0m\u001b[37m━\u001b[0m \u001b[1m0s\u001b[0m 29ms/step - accuracy: 1.0000 - loss: 1.9447e-07\n",
      "Epoch 64: val_accuracy did not improve from 0.98888\n",
      "\u001b[1m304/304\u001b[0m \u001b[32m━━━━━━━━━━━━━━━━━━━━\u001b[0m\u001b[37m\u001b[0m \u001b[1m9s\u001b[0m 31ms/step - accuracy: 1.0000 - loss: 1.9463e-07 - val_accuracy: 0.9876 - val_loss: 0.0619\n",
      "Epoch 65/200\n",
      "\u001b[1m303/304\u001b[0m \u001b[32m━━━━━━━━━━━━━━━━━━━\u001b[0m\u001b[37m━\u001b[0m \u001b[1m0s\u001b[0m 28ms/step - accuracy: 1.0000 - loss: 1.6384e-07\n",
      "Epoch 65: val_accuracy did not improve from 0.98888\n",
      "\u001b[1m304/304\u001b[0m \u001b[32m━━━━━━━━━━━━━━━━━━━━\u001b[0m\u001b[37m\u001b[0m \u001b[1m9s\u001b[0m 30ms/step - accuracy: 1.0000 - loss: 1.6392e-07 - val_accuracy: 0.9876 - val_loss: 0.0624\n",
      "Epoch 66/200\n",
      "\u001b[1m303/304\u001b[0m \u001b[32m━━━━━━━━━━━━━━━━━━━\u001b[0m\u001b[37m━\u001b[0m \u001b[1m0s\u001b[0m 29ms/step - accuracy: 1.0000 - loss: 1.3793e-07\n",
      "Epoch 66: val_accuracy did not improve from 0.98888\n",
      "\u001b[1m304/304\u001b[0m \u001b[32m━━━━━━━━━━━━━━━━━━━━\u001b[0m\u001b[37m\u001b[0m \u001b[1m9s\u001b[0m 31ms/step - accuracy: 1.0000 - loss: 1.3801e-07 - val_accuracy: 0.9881 - val_loss: 0.0628\n",
      "Epoch 67/200\n",
      "\u001b[1m303/304\u001b[0m \u001b[32m━━━━━━━━━━━━━━━━━━━\u001b[0m\u001b[37m━\u001b[0m \u001b[1m0s\u001b[0m 28ms/step - accuracy: 1.0000 - loss: 1.1628e-07\n",
      "Epoch 67: val_accuracy did not improve from 0.98888\n",
      "\u001b[1m304/304\u001b[0m \u001b[32m━━━━━━━━━━━━━━━━━━━━\u001b[0m\u001b[37m\u001b[0m \u001b[1m9s\u001b[0m 31ms/step - accuracy: 1.0000 - loss: 1.1634e-07 - val_accuracy: 0.9881 - val_loss: 0.0633\n",
      "Epoch 68/200\n",
      "\u001b[1m303/304\u001b[0m \u001b[32m━━━━━━━━━━━━━━━━━━━\u001b[0m\u001b[37m━\u001b[0m \u001b[1m0s\u001b[0m 29ms/step - accuracy: 1.0000 - loss: 9.8008e-08\n",
      "Epoch 68: val_accuracy did not improve from 0.98888\n",
      "\u001b[1m304/304\u001b[0m \u001b[32m━━━━━━━━━━━━━━━━━━━━\u001b[0m\u001b[37m\u001b[0m \u001b[1m9s\u001b[0m 31ms/step - accuracy: 1.0000 - loss: 9.8060e-08 - val_accuracy: 0.9881 - val_loss: 0.0638\n",
      "Epoch 69/200\n",
      "\u001b[1m303/304\u001b[0m \u001b[32m━━━━━━━━━━━━━━━━━━━\u001b[0m\u001b[37m━\u001b[0m \u001b[1m0s\u001b[0m 28ms/step - accuracy: 1.0000 - loss: 8.2852e-08\n",
      "Epoch 69: val_accuracy did not improve from 0.98888\n",
      "\u001b[1m304/304\u001b[0m \u001b[32m━━━━━━━━━━━━━━━━━━━━\u001b[0m\u001b[37m\u001b[0m \u001b[1m9s\u001b[0m 30ms/step - accuracy: 1.0000 - loss: 8.2895e-08 - val_accuracy: 0.9881 - val_loss: 0.0642\n",
      "Epoch 70/200\n",
      "\u001b[1m302/304\u001b[0m \u001b[32m━━━━━━━━━━━━━━━━━━━\u001b[0m\u001b[37m━\u001b[0m \u001b[1m0s\u001b[0m 28ms/step - accuracy: 1.0000 - loss: 6.9938e-08\n",
      "Epoch 70: val_accuracy did not improve from 0.98888\n",
      "\u001b[1m304/304\u001b[0m \u001b[32m━━━━━━━━━━━━━━━━━━━━\u001b[0m\u001b[37m\u001b[0m \u001b[1m9s\u001b[0m 30ms/step - accuracy: 1.0000 - loss: 6.9995e-08 - val_accuracy: 0.9885 - val_loss: 0.0646\n",
      "Epoch 71/200\n",
      "\u001b[1m303/304\u001b[0m \u001b[32m━━━━━━━━━━━━━━━━━━━\u001b[0m\u001b[37m━\u001b[0m \u001b[1m0s\u001b[0m 28ms/step - accuracy: 1.0000 - loss: 5.9144e-08\n",
      "Epoch 71: val_accuracy did not improve from 0.98888\n",
      "\u001b[1m304/304\u001b[0m \u001b[32m━━━━━━━━━━━━━━━━━━━━\u001b[0m\u001b[37m\u001b[0m \u001b[1m9s\u001b[0m 30ms/step - accuracy: 1.0000 - loss: 5.9175e-08 - val_accuracy: 0.9885 - val_loss: 0.0651\n",
      "Epoch 72/200\n",
      "\u001b[1m303/304\u001b[0m \u001b[32m━━━━━━━━━━━━━━━━━━━\u001b[0m\u001b[37m━\u001b[0m \u001b[1m0s\u001b[0m 28ms/step - accuracy: 1.0000 - loss: 4.9976e-08\n",
      "Epoch 72: val_accuracy did not improve from 0.98888\n",
      "\u001b[1m304/304\u001b[0m \u001b[32m━━━━━━━━━━━━━━━━━━━━\u001b[0m\u001b[37m\u001b[0m \u001b[1m9s\u001b[0m 30ms/step - accuracy: 1.0000 - loss: 5.0004e-08 - val_accuracy: 0.9885 - val_loss: 0.0655\n",
      "Epoch 73/200\n",
      "\u001b[1m303/304\u001b[0m \u001b[32m━━━━━━━━━━━━━━━━━━━\u001b[0m\u001b[37m━\u001b[0m \u001b[1m0s\u001b[0m 29ms/step - accuracy: 1.0000 - loss: 4.2248e-08\n",
      "Epoch 73: val_accuracy did not improve from 0.98888\n",
      "\u001b[1m304/304\u001b[0m \u001b[32m━━━━━━━━━━━━━━━━━━━━\u001b[0m\u001b[37m\u001b[0m \u001b[1m10s\u001b[0m 31ms/step - accuracy: 1.0000 - loss: 4.2270e-08 - val_accuracy: 0.9885 - val_loss: 0.0659\n",
      "Epoch 74/200\n",
      "\u001b[1m302/304\u001b[0m \u001b[32m━━━━━━━━━━━━━━━━━━━\u001b[0m\u001b[37m━\u001b[0m \u001b[1m0s\u001b[0m 29ms/step - accuracy: 1.0000 - loss: 3.5861e-08\n",
      "Epoch 74: val_accuracy did not improve from 0.98888\n",
      "\u001b[1m304/304\u001b[0m \u001b[32m━━━━━━━━━━━━━━━━━━━━\u001b[0m\u001b[37m\u001b[0m \u001b[1m9s\u001b[0m 31ms/step - accuracy: 1.0000 - loss: 3.5890e-08 - val_accuracy: 0.9885 - val_loss: 0.0663\n",
      "Epoch 75/200\n",
      "\u001b[1m303/304\u001b[0m \u001b[32m━━━━━━━━━━━━━━━━━━━\u001b[0m\u001b[37m━\u001b[0m \u001b[1m0s\u001b[0m 28ms/step - accuracy: 1.0000 - loss: 3.0194e-08\n",
      "Epoch 75: val_accuracy did not improve from 0.98888\n",
      "\u001b[1m304/304\u001b[0m \u001b[32m━━━━━━━━━━━━━━━━━━━━\u001b[0m\u001b[37m\u001b[0m \u001b[1m9s\u001b[0m 30ms/step - accuracy: 1.0000 - loss: 3.0211e-08 - val_accuracy: 0.9885 - val_loss: 0.0667\n",
      "Epoch 76/200\n",
      "\u001b[1m303/304\u001b[0m \u001b[32m━━━━━━━━━━━━━━━━━━━\u001b[0m\u001b[37m━\u001b[0m \u001b[1m0s\u001b[0m 28ms/step - accuracy: 1.0000 - loss: 2.5494e-08\n",
      "Epoch 76: val_accuracy did not improve from 0.98888\n",
      "\u001b[1m304/304\u001b[0m \u001b[32m━━━━━━━━━━━━━━━━━━━━\u001b[0m\u001b[37m\u001b[0m \u001b[1m9s\u001b[0m 30ms/step - accuracy: 1.0000 - loss: 2.5508e-08 - val_accuracy: 0.9885 - val_loss: 0.0670\n",
      "Epoch 77/200\n",
      "\u001b[1m303/304\u001b[0m \u001b[32m━━━━━━━━━━━━━━━━━━━\u001b[0m\u001b[37m━\u001b[0m \u001b[1m0s\u001b[0m 29ms/step - accuracy: 1.0000 - loss: 2.1705e-08\n",
      "Epoch 77: val_accuracy did not improve from 0.98888\n",
      "\u001b[1m304/304\u001b[0m \u001b[32m━━━━━━━━━━━━━━━━━━━━\u001b[0m\u001b[37m\u001b[0m \u001b[1m9s\u001b[0m 31ms/step - accuracy: 1.0000 - loss: 2.1716e-08 - val_accuracy: 0.9885 - val_loss: 0.0675\n",
      "Epoch 78/200\n",
      "\u001b[1m303/304\u001b[0m \u001b[32m━━━━━━━━━━━━━━━━━━━\u001b[0m\u001b[37m━\u001b[0m \u001b[1m0s\u001b[0m 28ms/step - accuracy: 1.0000 - loss: 1.8360e-08\n",
      "Epoch 78: val_accuracy did not improve from 0.98888\n",
      "\u001b[1m304/304\u001b[0m \u001b[32m━━━━━━━━━━━━━━━━━━━━\u001b[0m\u001b[37m\u001b[0m \u001b[1m9s\u001b[0m 30ms/step - accuracy: 1.0000 - loss: 1.8370e-08 - val_accuracy: 0.9885 - val_loss: 0.0679\n",
      "Epoch 79/200\n",
      "\u001b[1m303/304\u001b[0m \u001b[32m━━━━━━━━━━━━━━━━━━━\u001b[0m\u001b[37m━\u001b[0m \u001b[1m0s\u001b[0m 29ms/step - accuracy: 1.0000 - loss: 1.5752e-08\n",
      "Epoch 79: val_accuracy did not improve from 0.98888\n",
      "\u001b[1m304/304\u001b[0m \u001b[32m━━━━━━━━━━━━━━━━━━━━\u001b[0m\u001b[37m\u001b[0m \u001b[1m9s\u001b[0m 31ms/step - accuracy: 1.0000 - loss: 1.5760e-08 - val_accuracy: 0.9885 - val_loss: 0.0682\n",
      "Epoch 80/200\n",
      "\u001b[1m303/304\u001b[0m \u001b[32m━━━━━━━━━━━━━━━━━━━\u001b[0m\u001b[37m━\u001b[0m \u001b[1m0s\u001b[0m 29ms/step - accuracy: 1.0000 - loss: 1.3305e-08\n",
      "Epoch 80: val_accuracy did not improve from 0.98888\n",
      "\u001b[1m304/304\u001b[0m \u001b[32m━━━━━━━━━━━━━━━━━━━━\u001b[0m\u001b[37m\u001b[0m \u001b[1m9s\u001b[0m 31ms/step - accuracy: 1.0000 - loss: 1.3312e-08 - val_accuracy: 0.9885 - val_loss: 0.0686\n",
      "Epoch 81/200\n",
      "\u001b[1m303/304\u001b[0m \u001b[32m━━━━━━━━━━━━━━━━━━━\u001b[0m\u001b[37m━\u001b[0m \u001b[1m0s\u001b[0m 29ms/step - accuracy: 1.0000 - loss: 1.1364e-08\n",
      "Epoch 81: val_accuracy did not improve from 0.98888\n",
      "\u001b[1m304/304\u001b[0m \u001b[32m━━━━━━━━━━━━━━━━━━━━\u001b[0m\u001b[37m\u001b[0m \u001b[1m9s\u001b[0m 31ms/step - accuracy: 1.0000 - loss: 1.1370e-08 - val_accuracy: 0.9885 - val_loss: 0.0690\n",
      "Epoch 82/200\n",
      "\u001b[1m303/304\u001b[0m \u001b[32m━━━━━━━━━━━━━━━━━━━\u001b[0m\u001b[37m━\u001b[0m \u001b[1m0s\u001b[0m 29ms/step - accuracy: 1.0000 - loss: 9.6863e-09\n",
      "Epoch 82: val_accuracy did not improve from 0.98888\n",
      "\u001b[1m304/304\u001b[0m \u001b[32m━━━━━━━━━━━━━━━━━━━━\u001b[0m\u001b[37m\u001b[0m \u001b[1m9s\u001b[0m 31ms/step - accuracy: 1.0000 - loss: 9.6914e-09 - val_accuracy: 0.9885 - val_loss: 0.0693\n"
     ]
    },
    {
     "name": "stderr",
     "output_type": "stream",
     "text": [
      "WARNING:absl:Compiled the loaded model, but the compiled metrics have yet to be built. `model.compile_metrics` will be empty until you train or evaluate the model.\n"
     ]
    },
    {
     "name": "stdout",
     "output_type": "stream",
     "text": [
      "Best model saved at: CNN2D_results/V4_2_NOL_exp2/best_model_5.h5\n",
      "Best model loaded successfully!\n"
     ]
    },
    {
     "name": "stderr",
     "output_type": "stream",
     "text": [
      "2025-06-04 16:00:51.972013: E tensorflow/core/framework/node_def_util.cc:680] NodeDef mentions attribute use_unbounded_threadpool which is not in the op definition: Op<name=MapDataset; signature=input_dataset:variant, other_arguments: -> handle:variant; attr=f:func; attr=Targuments:list(type),min=0; attr=output_types:list(type),min=1; attr=output_shapes:list(shape),min=1; attr=use_inter_op_parallelism:bool,default=true; attr=preserve_cardinality:bool,default=false; attr=force_synchronous:bool,default=false; attr=metadata:string,default=\"\"> This may be expected if your graph generating binary is newer  than this binary. Unknown attributes will be ignored. NodeDef: {{node ParallelMapDatasetV2/_14}}\n",
      "2025-06-04 16:00:51.973276: E tensorflow/core/framework/node_def_util.cc:680] NodeDef mentions attribute use_unbounded_threadpool which is not in the op definition: Op<name=MapDataset; signature=input_dataset:variant, other_arguments: -> handle:variant; attr=f:func; attr=Targuments:list(type),min=0; attr=output_types:list(type),min=1; attr=output_shapes:list(shape),min=1; attr=use_inter_op_parallelism:bool,default=true; attr=preserve_cardinality:bool,default=false; attr=force_synchronous:bool,default=false; attr=metadata:string,default=\"\"> This may be expected if your graph generating binary is newer  than this binary. Unknown attributes will be ignored. NodeDef: {{node ParallelMapDatasetV2/_14}}\n"
     ]
    },
    {
     "name": "stdout",
     "output_type": "stream",
     "text": [
      "\u001b[1m76/76\u001b[0m \u001b[32m━━━━━━━━━━━━━━━━━━━━\u001b[0m\u001b[37m\u001b[0m \u001b[1m1s\u001b[0m 8ms/step\n",
      "\u001b[1m304/304\u001b[0m \u001b[32m━━━━━━━━━━━━━━━━━━━━\u001b[0m\u001b[37m\u001b[0m \u001b[1m3s\u001b[0m 8ms/step - accuracy: 1.0000 - loss: 4.5796e-04\n",
      "\u001b[1m76/76\u001b[0m \u001b[32m━━━━━━━━━━━━━━━━━━━━\u001b[0m\u001b[37m\u001b[0m \u001b[1m1s\u001b[0m 8ms/step - accuracy: 0.9914 - loss: 0.0378\n",
      "\u001b[1m95/95\u001b[0m \u001b[32m━━━━━━━━━━━━━━━━━━━━\u001b[0m\u001b[37m\u001b[0m \u001b[1m1s\u001b[0m 8ms/step - accuracy: 0.9918 - loss: 0.0337\n"
     ]
    }
   ],
   "source": [
    "# k-fold cross validation / 5 fold cross validation )\n",
    "kSplits = 5\n",
    "# kfold = KFold(n_splits=kSplits, random_state=42, shuffle=True)\n",
    "kfold = StratifiedKFold(n_splits=kSplits, random_state=42, shuffle=True) # splits training data into 5 folds - class balance(stratify)\n",
    "\n",
    "# File path name to save best models\n",
    "foldername = \"CNN2D_results/V4_2_NOL_exp4/\"\n",
    "\n",
    "from tensorflow.keras.callbacks import ModelCheckpoint #Saves the model with the highest validation accuracy for each fold\n",
    "from tensorflow.keras.callbacks import EarlyStopping \n",
    "from tensorflow.keras.models import load_model \n",
    "\n",
    "accuracy_train = []\n",
    "accuracy_val = []\n",
    "accuracy_test = []\n",
    "pred_all_val = np.zeros([len(X_2D_train),10])\n",
    "y_2D_val = np.zeros([len(X_2D_train),10])\n",
    "kfold_test_len = []\n",
    "\n",
    "fl1 = 0\n",
    "k = 1\n",
    "\n",
    "early_stop = EarlyStopping(monitor='val_accuracy', patience=50, restore_best_weights=True) #Stops training if validation accuracy doesn’t improve for 50 epochs, restoring the best weights.\n",
    "\n",
    "# Train the model \n",
    "# for train, test in kfold.split(X_2D_train,y_2D_train):\n",
    "for fold, (train, test) in enumerate(kfold.split(X_2D_train, y_label_train)):   \n",
    "\n",
    "  # Define where to save the best model\n",
    "  checkpoint_filepath = foldername + \"best_model_\" + str(k) + \".h5\"\n",
    "    \n",
    "  # Create a ModelCheckpoint callback\n",
    "  checkpoint = ModelCheckpoint(\n",
    "      filepath=checkpoint_filepath,\n",
    "      monitor='val_accuracy',  # Monitor validation accuracy\n",
    "      save_best_only=True,  # Save only the best model\n",
    "      mode='max',  # Maximize accuracy\n",
    "      verbose=1\n",
    "  )        \n",
    "\n",
    "#For each fold, trains a new CNN model on the training subset (X_2D_train[train], y_2D_train[train]) for up to 200 epochs.\n",
    "  Classification_2D = CNN_2D()\n",
    "  # history = Classification_2D.model.fit(X_2D_train[train], y_2D_train[train], verbose=1, epochs=50) #epochs=12\n",
    "  history = Classification_2D.model.fit(\n",
    "        X_2D_train[train], y_2D_train[train],\n",
    "        validation_data=(X_2D_train[test], y_2D_train[test]),  # Validation set for monitoring\n",
    "        epochs=200,\n",
    "        verbose=1,\n",
    "        callbacks=[checkpoint, early_stop]  # Save the best model\n",
    "  )\n",
    "  \n",
    "  print(\"Best model saved at:\", checkpoint_filepath)\n",
    "  CNN_2D_best_model = load_model(checkpoint_filepath)\n",
    "  print(\"Best model loaded successfully!\")\n",
    "  \n",
    "  fl2 = fl1 + len(test)\n",
    "  pred_all_val[fl1:fl2,:] = CNN_2D_best_model.predict(X_2D_train[test])\n",
    "  y_2D_val[fl1:fl2,:] = y_2D_train[test]\n",
    "  kfold_test_len.append(fl2-fl1)\n",
    "  fl1 = fl2  \n",
    "\n",
    "  # Evaluate the accuracy of the model on the training set \n",
    "  train_loss, train_accuracy = CNN_2D_best_model.evaluate(X_2D_train[train], y_2D_train[train]) \n",
    "  accuracy_train.append(train_accuracy)\n",
    "  \n",
    "  # Evaluate the accuracy of the model on the validation set \n",
    "  val_loss, val_accuracy = CNN_2D_best_model.evaluate(X_2D_train[test], y_2D_train[test]) \n",
    "  accuracy_val.append(val_accuracy)\n",
    "  \n",
    "  # Evaluate the accuracy of the model on the validation set \n",
    "  test_loss, test_accuracy = CNN_2D_best_model.evaluate(X_2D_test, y_2D_test) \n",
    "  accuracy_test.append(test_accuracy)  \n",
    "  \n",
    "  # Evaluate the accuracy of the model on the training set \n",
    "  # kf_loss, kf_accuracy = Classification_2D.model.evaluate(X_2D_train[test], y_2D_train[test]) \n",
    "  # accuracy_2D.append(kf_accuracy)\n",
    "  \n",
    "  k = k + 1"
   ]
  },
  {
   "cell_type": "code",
   "execution_count": 14,
   "id": "7705181d-c6cb-4412-a002-8937240306ea",
   "metadata": {},
   "outputs": [
    {
     "name": "stdout",
     "output_type": "stream",
     "text": [
      "CNN 2D train accuracy = 99.98147010803223\n",
      "CNN 2D validation accuracy = 98.98707151412964\n",
      "CNN 2D test accuracy = 99.00527000427246\n",
      "\u001b[1m 14/380\u001b[0m \u001b[37m━━━━━━━━━━━━━━━━━━━━\u001b[0m \u001b[1m3s\u001b[0m 8ms/step"
     ]
    },
    {
     "name": "stderr",
     "output_type": "stream",
     "text": [
      "2025-06-05 09:25:41.973738: E tensorflow/core/framework/node_def_util.cc:680] NodeDef mentions attribute use_unbounded_threadpool which is not in the op definition: Op<name=MapDataset; signature=input_dataset:variant, other_arguments: -> handle:variant; attr=f:func; attr=Targuments:list(type),min=0; attr=output_types:list(type),min=1; attr=output_shapes:list(shape),min=1; attr=use_inter_op_parallelism:bool,default=true; attr=preserve_cardinality:bool,default=false; attr=force_synchronous:bool,default=false; attr=metadata:string,default=\"\"> This may be expected if your graph generating binary is newer  than this binary. Unknown attributes will be ignored. NodeDef: {{node ParallelMapDatasetV2/_14}}\n",
      "2025-06-05 09:25:41.974607: E tensorflow/core/framework/node_def_util.cc:680] NodeDef mentions attribute use_unbounded_threadpool which is not in the op definition: Op<name=MapDataset; signature=input_dataset:variant, other_arguments: -> handle:variant; attr=f:func; attr=Targuments:list(type),min=0; attr=output_types:list(type),min=1; attr=output_shapes:list(shape),min=1; attr=use_inter_op_parallelism:bool,default=true; attr=preserve_cardinality:bool,default=false; attr=force_synchronous:bool,default=false; attr=metadata:string,default=\"\"> This may be expected if your graph generating binary is newer  than this binary. Unknown attributes will be ignored. NodeDef: {{node ParallelMapDatasetV2/_14}}\n"
     ]
    },
    {
     "name": "stdout",
     "output_type": "stream",
     "text": [
      "\u001b[1m380/380\u001b[0m \u001b[32m━━━━━━━━━━━━━━━━━━━━\u001b[0m\u001b[37m\u001b[0m \u001b[1m3s\u001b[0m 8ms/step\n"
     ]
    },
    {
     "data": {
      "image/png": "[encoded data removed]",
      "text/plain": [
       "<Figure size 640x480 with 2 Axes>"
      ]
     },
     "metadata": {},
     "output_type": "display_data"
    },
    {
     "name": "stdout",
     "output_type": "stream",
     "text": [
      "\u001b[1m95/95\u001b[0m \u001b[32m━━━━━━━━━━━━━━━━━━━━\u001b[0m\u001b[37m\u001b[0m \u001b[1m1s\u001b[0m 10ms/step\n"
     ]
    },
    {
     "data": {
      "image/png": "[encoded data removed]",
      "text/plain": [
       "<Figure size 640x480 with 2 Axes>"
      ]
     },
     "metadata": {},
     "output_type": "display_data"
    },
    {
     "data": {
      "image/png": "[encoded data removed]",
      "text/plain": [
       "<Figure size 640x480 with 1 Axes>"
      ]
     },
     "metadata": {},
     "output_type": "display_data"
    },
    {
     "data": {
      "image/png": "[encoded data removed]",
      "text/plain": [
       "<Figure size 640x480 with 1 Axes>"
      ]
     },
     "metadata": {},
     "output_type": "display_data"
    }
   ],
   "source": [
    "\"\"\"\n",
    "# -----------------------------------------------------------------------------\n",
    "# Multiclass Classification CNN Model Evaluation\n",
    "# -----------------------------------------------------------------------------\n",
    "\"\"\"\n",
    "\n",
    "# Classification_2D.model.summary()\n",
    "\n",
    "CNN_2D_train_accuracy = np.average(accuracy_train)*100\n",
    "print('CNN 2D train accuracy =', CNN_2D_train_accuracy)\n",
    "# print(accuracy_train)\n",
    "\n",
    "CNN_2D_val_accuracy = np.average(accuracy_val)*100\n",
    "print('CNN 2D validation accuracy =', CNN_2D_val_accuracy)\n",
    "# print(accuracy_val)\n",
    "\n",
    "CNN_2D_test_accuracy = np.average(accuracy_test)*100\n",
    "print('CNN 2D test accuracy =', CNN_2D_test_accuracy)\n",
    "# print(accuracy_test)\n",
    "\n",
    "# Evaluate the accuracy of the model on the test set\n",
    "# CNN_2D_test_loss, CNN_2D_test_accuracy = Classification_2D.model.evaluate(X_2D_test, y_2D_test)\n",
    "# CNN_2D_test_accuracy*=100\n",
    "# print('CNN 2D test accuracy =', CNN_2D_test_accuracy)\n",
    "\n",
    "\n",
    "def ConfusionMatrix(Model, X, y):\n",
    "  y_pred = np.argmax(Model.predict(X), axis=1)\n",
    "  ConfusionMat = confusion_matrix(np.argmax(y, axis=1), y_pred)\n",
    "  return ConfusionMat\n",
    "\n",
    "# Plot results - CNN 2D\n",
    "plt.figure(5)\n",
    "plt.title('Confusion Matrix - CNN 2D Train') \n",
    "sns.heatmap(ConfusionMatrix(CNN_2D_best_model, X_2D_train, y_2D_train) , annot=True, fmt='d',annot_kws={\"fontsize\":8},cmap=\"YlGnBu\")\n",
    "plt.show()\n",
    "\n",
    "plt.figure(6)\n",
    "plt.title('Confusion Matrix - CNN 2D Test') \n",
    "sns.heatmap(ConfusionMatrix(CNN_2D_best_model, X_2D_test, y_2D_test) , annot=True, fmt='d',annot_kws={\"fontsize\":8},cmap=\"YlGnBu\")\n",
    "plt.show()\n",
    "\n",
    "plt.figure(7)\n",
    "plt.title('Train - Accuracy - CNN 2D')\n",
    "plt.bar(np.arange(1,kSplits+1),[i*100 for i in accuracy_val])\n",
    "plt.ylabel('accuracy')\n",
    "plt.xlabel('folds')\n",
    "plt.ylim([70,100])\n",
    "plt.show()\n",
    "\n",
    "plt.figure(8)\n",
    "plt.title('Train vs Test Accuracy - CNN 2D')\n",
    "plt.bar([1,2],[CNN_2D_train_accuracy,CNN_2D_test_accuracy])\n",
    "plt.ylabel('accuracy')\n",
    "plt.xlabel('folds')\n",
    "plt.xticks([1,2],['Train', 'Test'])\n",
    "plt.ylim([70,100])\n",
    "plt.show()"
   ]
  },
  {
   "cell_type": "code",
   "execution_count": 22,
   "id": "923d304a-13a4-42ce-bd02-0c15bc3ecc58",
   "metadata": {},
   "outputs": [
    {
     "name": "stderr",
     "output_type": "stream",
     "text": [
      "WARNING:absl:Compiled the loaded model, but the compiled metrics have yet to be built. `model.compile_metrics` will be empty until you train or evaluate the model.\n"
     ]
    },
    {
     "name": "stdout",
     "output_type": "stream",
     "text": [
      "\n",
      "Model summary for fold 1:\n"
     ]
    },
    {
     "data": {
      "text/html": [
       "<pre style=\"white-space:pre;overflow-x:auto;line-height:normal;font-family:Menlo,'DejaVu Sans Mono',consolas,'Courier New',monospace\"><span style=\"font-weight: bold\">Model: \"sequential_5\"</span>\n",
       "</pre>\n"
      ],
      "text/plain": [
       "\u001b[1mModel: \"sequential_5\"\u001b[0m\n"
      ]
     },
     "metadata": {},
     "output_type": "display_data"
    },
    {
     "data": {
      "text/html": [
       "<pre style=\"white-space:pre;overflow-x:auto;line-height:normal;font-family:Menlo,'DejaVu Sans Mono',consolas,'Courier New',monospace\">┏━━━━━━━━━━━━━━━━━━━━━━━━━━━━━━━━━┳━━━━━━━━━━━━━━━━━━━━━━━━┳━━━━━━━━━━━━━━━┓\n",
       "┃<span style=\"font-weight: bold\"> Layer (type)                    </span>┃<span style=\"font-weight: bold\"> Output Shape           </span>┃<span style=\"font-weight: bold\">       Param # </span>┃\n",
       "┡━━━━━━━━━━━━━━━━━━━━━━━━━━━━━━━━━╇━━━━━━━━━━━━━━━━━━━━━━━━╇━━━━━━━━━━━━━━━┩\n",
       "│ conv2d_20 (<span style=\"color: #0087ff; text-decoration-color: #0087ff\">Conv2D</span>)              │ (<span style=\"color: #00d7ff; text-decoration-color: #00d7ff\">None</span>, <span style=\"color: #00af00; text-decoration-color: #00af00\">40</span>, <span style=\"color: #00af00; text-decoration-color: #00af00\">40</span>, <span style=\"color: #00af00; text-decoration-color: #00af00\">16</span>)     │           <span style=\"color: #00af00; text-decoration-color: #00af00\">160</span> │\n",
       "├─────────────────────────────────┼────────────────────────┼───────────────┤\n",
       "│ max_pooling2d_20 (<span style=\"color: #0087ff; text-decoration-color: #0087ff\">MaxPooling2D</span>) │ (<span style=\"color: #00d7ff; text-decoration-color: #00d7ff\">None</span>, <span style=\"color: #00af00; text-decoration-color: #00af00\">20</span>, <span style=\"color: #00af00; text-decoration-color: #00af00\">20</span>, <span style=\"color: #00af00; text-decoration-color: #00af00\">16</span>)     │             <span style=\"color: #00af00; text-decoration-color: #00af00\">0</span> │\n",
       "├─────────────────────────────────┼────────────────────────┼───────────────┤\n",
       "│ conv2d_21 (<span style=\"color: #0087ff; text-decoration-color: #0087ff\">Conv2D</span>)              │ (<span style=\"color: #00d7ff; text-decoration-color: #00d7ff\">None</span>, <span style=\"color: #00af00; text-decoration-color: #00af00\">20</span>, <span style=\"color: #00af00; text-decoration-color: #00af00\">20</span>, <span style=\"color: #00af00; text-decoration-color: #00af00\">32</span>)     │         <span style=\"color: #00af00; text-decoration-color: #00af00\">4,640</span> │\n",
       "├─────────────────────────────────┼────────────────────────┼───────────────┤\n",
       "│ max_pooling2d_21 (<span style=\"color: #0087ff; text-decoration-color: #0087ff\">MaxPooling2D</span>) │ (<span style=\"color: #00d7ff; text-decoration-color: #00d7ff\">None</span>, <span style=\"color: #00af00; text-decoration-color: #00af00\">10</span>, <span style=\"color: #00af00; text-decoration-color: #00af00\">10</span>, <span style=\"color: #00af00; text-decoration-color: #00af00\">32</span>)     │             <span style=\"color: #00af00; text-decoration-color: #00af00\">0</span> │\n",
       "├─────────────────────────────────┼────────────────────────┼───────────────┤\n",
       "│ conv2d_22 (<span style=\"color: #0087ff; text-decoration-color: #0087ff\">Conv2D</span>)              │ (<span style=\"color: #00d7ff; text-decoration-color: #00d7ff\">None</span>, <span style=\"color: #00af00; text-decoration-color: #00af00\">10</span>, <span style=\"color: #00af00; text-decoration-color: #00af00\">10</span>, <span style=\"color: #00af00; text-decoration-color: #00af00\">64</span>)     │        <span style=\"color: #00af00; text-decoration-color: #00af00\">18,496</span> │\n",
       "├─────────────────────────────────┼────────────────────────┼───────────────┤\n",
       "│ max_pooling2d_22 (<span style=\"color: #0087ff; text-decoration-color: #0087ff\">MaxPooling2D</span>) │ (<span style=\"color: #00d7ff; text-decoration-color: #00d7ff\">None</span>, <span style=\"color: #00af00; text-decoration-color: #00af00\">5</span>, <span style=\"color: #00af00; text-decoration-color: #00af00\">5</span>, <span style=\"color: #00af00; text-decoration-color: #00af00\">64</span>)       │             <span style=\"color: #00af00; text-decoration-color: #00af00\">0</span> │\n",
       "├─────────────────────────────────┼────────────────────────┼───────────────┤\n",
       "│ conv2d_23 (<span style=\"color: #0087ff; text-decoration-color: #0087ff\">Conv2D</span>)              │ (<span style=\"color: #00d7ff; text-decoration-color: #00d7ff\">None</span>, <span style=\"color: #00af00; text-decoration-color: #00af00\">5</span>, <span style=\"color: #00af00; text-decoration-color: #00af00\">5</span>, <span style=\"color: #00af00; text-decoration-color: #00af00\">128</span>)      │        <span style=\"color: #00af00; text-decoration-color: #00af00\">73,856</span> │\n",
       "├─────────────────────────────────┼────────────────────────┼───────────────┤\n",
       "│ max_pooling2d_23 (<span style=\"color: #0087ff; text-decoration-color: #0087ff\">MaxPooling2D</span>) │ (<span style=\"color: #00d7ff; text-decoration-color: #00d7ff\">None</span>, <span style=\"color: #00af00; text-decoration-color: #00af00\">3</span>, <span style=\"color: #00af00; text-decoration-color: #00af00\">3</span>, <span style=\"color: #00af00; text-decoration-color: #00af00\">128</span>)      │             <span style=\"color: #00af00; text-decoration-color: #00af00\">0</span> │\n",
       "├─────────────────────────────────┼────────────────────────┼───────────────┤\n",
       "│ flatten_5 (<span style=\"color: #0087ff; text-decoration-color: #0087ff\">Flatten</span>)             │ (<span style=\"color: #00d7ff; text-decoration-color: #00d7ff\">None</span>, <span style=\"color: #00af00; text-decoration-color: #00af00\">1152</span>)           │             <span style=\"color: #00af00; text-decoration-color: #00af00\">0</span> │\n",
       "├─────────────────────────────────┼────────────────────────┼───────────────┤\n",
       "│ dense_15 (<span style=\"color: #0087ff; text-decoration-color: #0087ff\">Dense</span>)                │ (<span style=\"color: #00d7ff; text-decoration-color: #00d7ff\">None</span>, <span style=\"color: #00af00; text-decoration-color: #00af00\">100</span>)            │       <span style=\"color: #00af00; text-decoration-color: #00af00\">115,300</span> │\n",
       "├─────────────────────────────────┼────────────────────────┼───────────────┤\n",
       "│ dense_16 (<span style=\"color: #0087ff; text-decoration-color: #0087ff\">Dense</span>)                │ (<span style=\"color: #00d7ff; text-decoration-color: #00d7ff\">None</span>, <span style=\"color: #00af00; text-decoration-color: #00af00\">50</span>)             │         <span style=\"color: #00af00; text-decoration-color: #00af00\">5,050</span> │\n",
       "├─────────────────────────────────┼────────────────────────┼───────────────┤\n",
       "│ dense_17 (<span style=\"color: #0087ff; text-decoration-color: #0087ff\">Dense</span>)                │ (<span style=\"color: #00d7ff; text-decoration-color: #00d7ff\">None</span>, <span style=\"color: #00af00; text-decoration-color: #00af00\">10</span>)             │           <span style=\"color: #00af00; text-decoration-color: #00af00\">510</span> │\n",
       "├─────────────────────────────────┼────────────────────────┼───────────────┤\n",
       "│ softmax_5 (<span style=\"color: #0087ff; text-decoration-color: #0087ff\">Softmax</span>)             │ (<span style=\"color: #00d7ff; text-decoration-color: #00d7ff\">None</span>, <span style=\"color: #00af00; text-decoration-color: #00af00\">10</span>)             │             <span style=\"color: #00af00; text-decoration-color: #00af00\">0</span> │\n",
       "└─────────────────────────────────┴────────────────────────┴───────────────┘\n",
       "</pre>\n"
      ],
      "text/plain": [
       "┏━━━━━━━━━━━━━━━━━━━━━━━━━━━━━━━━━┳━━━━━━━━━━━━━━━━━━━━━━━━┳━━━━━━━━━━━━━━━┓\n",
       "┃\u001b[1m \u001b[0m\u001b[1mLayer (type)                   \u001b[0m\u001b[1m \u001b[0m┃\u001b[1m \u001b[0m\u001b[1mOutput Shape          \u001b[0m\u001b[1m \u001b[0m┃\u001b[1m \u001b[0m\u001b[1m      Param #\u001b[0m\u001b[1m \u001b[0m┃\n",
       "┡━━━━━━━━━━━━━━━━━━━━━━━━━━━━━━━━━╇━━━━━━━━━━━━━━━━━━━━━━━━╇━━━━━━━━━━━━━━━┩\n",
       "│ conv2d_20 (\u001b[38;5;33mConv2D\u001b[0m)              │ (\u001b[38;5;45mNone\u001b[0m, \u001b[38;5;34m40\u001b[0m, \u001b[38;5;34m40\u001b[0m, \u001b[38;5;34m16\u001b[0m)     │           \u001b[38;5;34m160\u001b[0m │\n",
       "├─────────────────────────────────┼────────────────────────┼───────────────┤\n",
       "│ max_pooling2d_20 (\u001b[38;5;33mMaxPooling2D\u001b[0m) │ (\u001b[38;5;45mNone\u001b[0m, \u001b[38;5;34m20\u001b[0m, \u001b[38;5;34m20\u001b[0m, \u001b[38;5;34m16\u001b[0m)     │             \u001b[38;5;34m0\u001b[0m │\n",
       "├─────────────────────────────────┼────────────────────────┼───────────────┤\n",
       "│ conv2d_21 (\u001b[38;5;33mConv2D\u001b[0m)              │ (\u001b[38;5;45mNone\u001b[0m, \u001b[38;5;34m20\u001b[0m, \u001b[38;5;34m20\u001b[0m, \u001b[38;5;34m32\u001b[0m)     │         \u001b[38;5;34m4,640\u001b[0m │\n",
       "├─────────────────────────────────┼────────────────────────┼───────────────┤\n",
       "│ max_pooling2d_21 (\u001b[38;5;33mMaxPooling2D\u001b[0m) │ (\u001b[38;5;45mNone\u001b[0m, \u001b[38;5;34m10\u001b[0m, \u001b[38;5;34m10\u001b[0m, \u001b[38;5;34m32\u001b[0m)     │             \u001b[38;5;34m0\u001b[0m │\n",
       "├─────────────────────────────────┼────────────────────────┼───────────────┤\n",
       "│ conv2d_22 (\u001b[38;5;33mConv2D\u001b[0m)              │ (\u001b[38;5;45mNone\u001b[0m, \u001b[38;5;34m10\u001b[0m, \u001b[38;5;34m10\u001b[0m, \u001b[38;5;34m64\u001b[0m)     │        \u001b[38;5;34m18,496\u001b[0m │\n",
       "├─────────────────────────────────┼────────────────────────┼───────────────┤\n",
       "│ max_pooling2d_22 (\u001b[38;5;33mMaxPooling2D\u001b[0m) │ (\u001b[38;5;45mNone\u001b[0m, \u001b[38;5;34m5\u001b[0m, \u001b[38;5;34m5\u001b[0m, \u001b[38;5;34m64\u001b[0m)       │             \u001b[38;5;34m0\u001b[0m │\n",
       "├─────────────────────────────────┼────────────────────────┼───────────────┤\n",
       "│ conv2d_23 (\u001b[38;5;33mConv2D\u001b[0m)              │ (\u001b[38;5;45mNone\u001b[0m, \u001b[38;5;34m5\u001b[0m, \u001b[38;5;34m5\u001b[0m, \u001b[38;5;34m128\u001b[0m)      │        \u001b[38;5;34m73,856\u001b[0m │\n",
       "├─────────────────────────────────┼────────────────────────┼───────────────┤\n",
       "│ max_pooling2d_23 (\u001b[38;5;33mMaxPooling2D\u001b[0m) │ (\u001b[38;5;45mNone\u001b[0m, \u001b[38;5;34m3\u001b[0m, \u001b[38;5;34m3\u001b[0m, \u001b[38;5;34m128\u001b[0m)      │             \u001b[38;5;34m0\u001b[0m │\n",
       "├─────────────────────────────────┼────────────────────────┼───────────────┤\n",
       "│ flatten_5 (\u001b[38;5;33mFlatten\u001b[0m)             │ (\u001b[38;5;45mNone\u001b[0m, \u001b[38;5;34m1152\u001b[0m)           │             \u001b[38;5;34m0\u001b[0m │\n",
       "├─────────────────────────────────┼────────────────────────┼───────────────┤\n",
       "│ dense_15 (\u001b[38;5;33mDense\u001b[0m)                │ (\u001b[38;5;45mNone\u001b[0m, \u001b[38;5;34m100\u001b[0m)            │       \u001b[38;5;34m115,300\u001b[0m │\n",
       "├─────────────────────────────────┼────────────────────────┼───────────────┤\n",
       "│ dense_16 (\u001b[38;5;33mDense\u001b[0m)                │ (\u001b[38;5;45mNone\u001b[0m, \u001b[38;5;34m50\u001b[0m)             │         \u001b[38;5;34m5,050\u001b[0m │\n",
       "├─────────────────────────────────┼────────────────────────┼───────────────┤\n",
       "│ dense_17 (\u001b[38;5;33mDense\u001b[0m)                │ (\u001b[38;5;45mNone\u001b[0m, \u001b[38;5;34m10\u001b[0m)             │           \u001b[38;5;34m510\u001b[0m │\n",
       "├─────────────────────────────────┼────────────────────────┼───────────────┤\n",
       "│ softmax_5 (\u001b[38;5;33mSoftmax\u001b[0m)             │ (\u001b[38;5;45mNone\u001b[0m, \u001b[38;5;34m10\u001b[0m)             │             \u001b[38;5;34m0\u001b[0m │\n",
       "└─────────────────────────────────┴────────────────────────┴───────────────┘\n"
      ]
     },
     "metadata": {},
     "output_type": "display_data"
    },
    {
     "data": {
      "text/html": [
       "<pre style=\"white-space:pre;overflow-x:auto;line-height:normal;font-family:Menlo,'DejaVu Sans Mono',consolas,'Courier New',monospace\"><span style=\"font-weight: bold\"> Total params: </span><span style=\"color: #00af00; text-decoration-color: #00af00\">218,014</span> (851.62 KB)\n",
       "</pre>\n"
      ],
      "text/plain": [
       "\u001b[1m Total params: \u001b[0m\u001b[38;5;34m218,014\u001b[0m (851.62 KB)\n"
      ]
     },
     "metadata": {},
     "output_type": "display_data"
    },
    {
     "data": {
      "text/html": [
       "<pre style=\"white-space:pre;overflow-x:auto;line-height:normal;font-family:Menlo,'DejaVu Sans Mono',consolas,'Courier New',monospace\"><span style=\"font-weight: bold\"> Trainable params: </span><span style=\"color: #00af00; text-decoration-color: #00af00\">218,012</span> (851.61 KB)\n",
       "</pre>\n"
      ],
      "text/plain": [
       "\u001b[1m Trainable params: \u001b[0m\u001b[38;5;34m218,012\u001b[0m (851.61 KB)\n"
      ]
     },
     "metadata": {},
     "output_type": "display_data"
    },
    {
     "data": {
      "text/html": [
       "<pre style=\"white-space:pre;overflow-x:auto;line-height:normal;font-family:Menlo,'DejaVu Sans Mono',consolas,'Courier New',monospace\"><span style=\"font-weight: bold\"> Non-trainable params: </span><span style=\"color: #00af00; text-decoration-color: #00af00\">0</span> (0.00 B)\n",
       "</pre>\n"
      ],
      "text/plain": [
       "\u001b[1m Non-trainable params: \u001b[0m\u001b[38;5;34m0\u001b[0m (0.00 B)\n"
      ]
     },
     "metadata": {},
     "output_type": "display_data"
    },
    {
     "data": {
      "text/html": [
       "<pre style=\"white-space:pre;overflow-x:auto;line-height:normal;font-family:Menlo,'DejaVu Sans Mono',consolas,'Courier New',monospace\"><span style=\"font-weight: bold\"> Optimizer params: </span><span style=\"color: #00af00; text-decoration-color: #00af00\">2</span> (12.00 B)\n",
       "</pre>\n"
      ],
      "text/plain": [
       "\u001b[1m Optimizer params: \u001b[0m\u001b[38;5;34m2\u001b[0m (12.00 B)\n"
      ]
     },
     "metadata": {},
     "output_type": "display_data"
    },
    {
     "name": "stdout",
     "output_type": "stream",
     "text": [
      "0: conv2d_20\n",
      "1: max_pooling2d_20\n",
      "2: conv2d_21\n",
      "3: max_pooling2d_21\n",
      "4: conv2d_22\n",
      "5: max_pooling2d_22\n",
      "6: conv2d_23\n",
      "7: max_pooling2d_23\n",
      "8: flatten_5\n",
      "9: dense_15\n",
      "10: dense_16\n",
      "11: dense_17\n",
      "12: softmax_5\n"
     ]
    },
    {
     "ename": "AttributeError",
     "evalue": "The layer sequential_5 has never been called and thus has no defined input.",
     "output_type": "error",
     "traceback": [
      "\u001b[31m---------------------------------------------------------------------------\u001b[39m",
      "\u001b[31mAttributeError\u001b[39m                            Traceback (most recent call last)",
      "\u001b[36mCell\u001b[39m\u001b[36m \u001b[39m\u001b[32mIn[22]\u001b[39m\u001b[32m, line 21\u001b[39m\n\u001b[32m     17\u001b[39m     \u001b[38;5;28mprint\u001b[39m(\u001b[33mf\u001b[39m\u001b[33m\"\u001b[39m\u001b[38;5;132;01m{\u001b[39;00mi\u001b[38;5;132;01m}\u001b[39;00m\u001b[33m: \u001b[39m\u001b[38;5;132;01m{\u001b[39;00mlayer.name\u001b[38;5;132;01m}\u001b[39;00m\u001b[33m\"\u001b[39m)\n\u001b[32m     20\u001b[39m layer_name = \u001b[33m'\u001b[39m\u001b[33msequential_5\u001b[39m\u001b[33m'\u001b[39m  \u001b[38;5;66;03m# or whatever corresponds to Dense(100)\u001b[39;00m\n\u001b[32m---> \u001b[39m\u001b[32m21\u001b[39m intermediate_model = tf.keras.Model(inputs=\u001b[43mmodel\u001b[49m\u001b[43m.\u001b[49m\u001b[43minput\u001b[49m, outputs=model.get_layer(layer_name).output)\n",
      "\u001b[36mFile \u001b[39m\u001b[32m~/pyenvs/tf-env/lib/python3.11/site-packages/keras/src/ops/operation.py:276\u001b[39m, in \u001b[36mOperation.input\u001b[39m\u001b[34m(self)\u001b[39m\n\u001b[32m    266\u001b[39m \u001b[38;5;129m@property\u001b[39m\n\u001b[32m    267\u001b[39m \u001b[38;5;28;01mdef\u001b[39;00m\u001b[38;5;250m \u001b[39m\u001b[34minput\u001b[39m(\u001b[38;5;28mself\u001b[39m):\n\u001b[32m    268\u001b[39m \u001b[38;5;250m    \u001b[39m\u001b[33;03m\"\"\"Retrieves the input tensor(s) of a symbolic operation.\u001b[39;00m\n\u001b[32m    269\u001b[39m \n\u001b[32m    270\u001b[39m \u001b[33;03m    Only returns the tensor(s) corresponding to the *first time*\u001b[39;00m\n\u001b[32m   (...)\u001b[39m\u001b[32m    274\u001b[39m \u001b[33;03m        Input tensor or list of input tensors.\u001b[39;00m\n\u001b[32m    275\u001b[39m \u001b[33;03m    \"\"\"\u001b[39;00m\n\u001b[32m--> \u001b[39m\u001b[32m276\u001b[39m     \u001b[38;5;28;01mreturn\u001b[39;00m \u001b[38;5;28;43mself\u001b[39;49m\u001b[43m.\u001b[49m\u001b[43m_get_node_attribute_at_index\u001b[49m\u001b[43m(\u001b[49m\u001b[32;43m0\u001b[39;49m\u001b[43m,\u001b[49m\u001b[43m \u001b[49m\u001b[33;43m\"\u001b[39;49m\u001b[33;43minput_tensors\u001b[39;49m\u001b[33;43m\"\u001b[39;49m\u001b[43m,\u001b[49m\u001b[43m \u001b[49m\u001b[33;43m\"\u001b[39;49m\u001b[33;43minput\u001b[39;49m\u001b[33;43m\"\u001b[39;49m\u001b[43m)\u001b[49m\n",
      "\u001b[36mFile \u001b[39m\u001b[32m~/pyenvs/tf-env/lib/python3.11/site-packages/keras/src/ops/operation.py:307\u001b[39m, in \u001b[36mOperation._get_node_attribute_at_index\u001b[39m\u001b[34m(self, node_index, attr, attr_name)\u001b[39m\n\u001b[32m    291\u001b[39m \u001b[38;5;250m\u001b[39m\u001b[33;03m\"\"\"Private utility to retrieves an attribute (e.g. inputs) from a node.\u001b[39;00m\n\u001b[32m    292\u001b[39m \n\u001b[32m    293\u001b[39m \u001b[33;03mThis is used to implement the properties:\u001b[39;00m\n\u001b[32m   (...)\u001b[39m\u001b[32m    304\u001b[39m \u001b[33;03m    The operation's attribute `attr` at the node of index `node_index`.\u001b[39;00m\n\u001b[32m    305\u001b[39m \u001b[33;03m\"\"\"\u001b[39;00m\n\u001b[32m    306\u001b[39m \u001b[38;5;28;01mif\u001b[39;00m \u001b[38;5;129;01mnot\u001b[39;00m \u001b[38;5;28mself\u001b[39m._inbound_nodes:\n\u001b[32m--> \u001b[39m\u001b[32m307\u001b[39m     \u001b[38;5;28;01mraise\u001b[39;00m \u001b[38;5;167;01mAttributeError\u001b[39;00m(\n\u001b[32m    308\u001b[39m         \u001b[33mf\u001b[39m\u001b[33m\"\u001b[39m\u001b[33mThe layer \u001b[39m\u001b[38;5;132;01m{\u001b[39;00m\u001b[38;5;28mself\u001b[39m.name\u001b[38;5;132;01m}\u001b[39;00m\u001b[33m has never been called \u001b[39m\u001b[33m\"\u001b[39m\n\u001b[32m    309\u001b[39m         \u001b[33mf\u001b[39m\u001b[33m\"\u001b[39m\u001b[33mand thus has no defined \u001b[39m\u001b[38;5;132;01m{\u001b[39;00mattr_name\u001b[38;5;132;01m}\u001b[39;00m\u001b[33m.\u001b[39m\u001b[33m\"\u001b[39m\n\u001b[32m    310\u001b[39m     )\n\u001b[32m    311\u001b[39m \u001b[38;5;28;01mif\u001b[39;00m \u001b[38;5;129;01mnot\u001b[39;00m \u001b[38;5;28mlen\u001b[39m(\u001b[38;5;28mself\u001b[39m._inbound_nodes) > node_index:\n\u001b[32m    312\u001b[39m     \u001b[38;5;28;01mraise\u001b[39;00m \u001b[38;5;167;01mValueError\u001b[39;00m(\n\u001b[32m    313\u001b[39m         \u001b[33mf\u001b[39m\u001b[33m\"\u001b[39m\u001b[33mAsked to get \u001b[39m\u001b[38;5;132;01m{\u001b[39;00mattr_name\u001b[38;5;132;01m}\u001b[39;00m\u001b[33m at node \u001b[39m\u001b[33m\"\u001b[39m\n\u001b[32m    314\u001b[39m         \u001b[33mf\u001b[39m\u001b[33m\"\u001b[39m\u001b[38;5;132;01m{\u001b[39;00mnode_index\u001b[38;5;132;01m}\u001b[39;00m\u001b[33m, but the operation has only \u001b[39m\u001b[33m\"\u001b[39m\n\u001b[32m    315\u001b[39m         \u001b[33mf\u001b[39m\u001b[33m\"\u001b[39m\u001b[38;5;132;01m{\u001b[39;00m\u001b[38;5;28mlen\u001b[39m(\u001b[38;5;28mself\u001b[39m._inbound_nodes)\u001b[38;5;132;01m}\u001b[39;00m\u001b[33m inbound nodes.\u001b[39m\u001b[33m\"\u001b[39m\n\u001b[32m    316\u001b[39m     )\n",
      "\u001b[31mAttributeError\u001b[39m: The layer sequential_5 has never been called and thus has no defined input."
     ]
    }
   ],
   "source": [
    "from tensorflow.keras.models import load_model\n",
    "\n",
    "# for i in range(1, 6):\n",
    "#     filepath = f\"CNN2D_results/V4_2_NOL_exp1/best_model_{i}.h5\"\n",
    "#     print(f\"\\nModel summary for fold {i}:\")\n",
    "#     model = load_model(filepath)\n",
    "#     model.summary()\n",
    "#     for i, layer in enumerate(model.layers):\n",
    "#         print(f\"{i}: {layer.name} — {layer.output_shape}\")\n",
    "\n",
    "\n",
    "filepath = f\"CNN2D_results/V4_2_NOL_exp1/best_model_1.h5\"\n",
    "print(f\"\\nModel summary for fold 1:\")\n",
    "model = load_model(filepath)\n",
    "model.summary()\n",
    "for i, layer in enumerate(model.layers):\n",
    "    print(f\"{i}: {layer.name}\")\n",
    "\n",
    "\n",
    "layer_name = 'dense'  # or whatever corresponds to Dense(100)\n",
    "intermediate_model = tf.keras.Model(inputs=model.input, outputs=model.get_layer(layer_name).output)\n"
   ]
  },
  {
   "cell_type": "code",
   "execution_count": null,
   "id": "30b387e8-173c-4018-8896-a0340889bd69",
   "metadata": {},
   "outputs": [],
   "source": [
    "# Step 1: Sample training inputs (every 10th) and get intermediate outputs\n",
    "x_sampled = X_2D_train[::10]\n",
    "y_sampled = y_2D_train[::10]\n",
    "\n",
    "intermediate_outputs = intermediate_model.predict(x_sampled)\n",
    "\n",
    "# Step 2: Reduce dimensionality using t-SNE\n",
    "from sklearn.manifold import TSNE\n",
    "x_embedded = TSNE(n_components=2, learning_rate='auto', init='random', perplexity=30).fit_transform(intermediate_outputs)\n",
    "\n",
    "# Step 3: Decode one-hot labels (if needed)\n",
    "from sklearn.preprocessing import LabelEncoder\n",
    "if y_sampled.shape[1] > 1:\n",
    "    y_label = enc.inverse_transform(y_sampled)\n",
    "else:\n",
    "    y_label = y_sampled.flatten()\n",
    "\n",
    "# Step 4: Plot the results\n",
    "import seaborn as sns\n",
    "import matplotlib.pyplot as plt\n",
    "\n",
    "plt.figure(figsize=(10, 6))\n",
    "sns.scatterplot(x=x_embedded[:, 0], y=x_embedded[:, 1], hue=y_label, style=y_label,\n",
    "                palette=\"bright\", edgecolor='black')\n",
    "plt.title(\"t-SNE of Intermediate CNN Layer Output (Fold 1)\")\n",
    "plt.legend(bbox_to_anchor=(1.05, 1), loc='upper left')\n",
    "plt.tight_layout()\n",
    "plt.show()\n"
   ]
  }
 ],
 "metadata": {
  "kernelspec": {
   "display_name": "Python (tf-env)",
   "language": "python",
   "name": "tf-env"
  },
  "language_info": {
   "codemirror_mode": {
    "name": "ipython",
    "version": 3
   },
   "file_extension": ".py",
   "mimetype": "text/x-python",
   "name": "python",
   "nbconvert_exporter": "python",
   "pygments_lexer": "ipython3",
   "version": "3.11.12"
  }
 },
 "nbformat": 4,
 "nbformat_minor": 5
}
