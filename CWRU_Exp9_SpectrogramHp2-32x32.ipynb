{
 "cells": [
  {
   "cell_type": "markdown",
   "metadata": {},
   "source": [
    "# CWRU Bearing Fault Diagnosis with Spectrogram and Scalogram Inputs\n",
    "\n",
    "This notebook implements a Convolutional Neural Network (CNN) for fault diagnosis of rolling element bearings using the Case Western Reserve University (CWRU) dataset. The methodology is based on Verstraete et al. (2017), which uses time-frequency image representations (spectrograms via STFT and scalograms via Morlet wavelet transform) as inputs to a CNN. The CNN architecture features double convolutional layers before pooling to enhance feature expressivity.\n",
    "\n",
    "## Overview\n",
    "- **Dataset**: CWRU Bearing Data (2HP load, various fault types and sizes)\n",
    "- **Input**: 96x96 pixel spectrogram or scalogram images\n",
    "- **Model**: CNN with three stages of double conv layers (32, 64, 128 filters), max pooling, and two dense layers\n",
    "- **Training**: 5-fold stratified cross-validation with early stopping\n",
    "- **Evaluation**: Accuracy, confusion matrices, and fold-wise performance plots\n",
    "\n",
    "## Requirements\n",
    "- Python libraries: tensorflow, numpy, scipy, scikit-learn, matplotlib, seaborn, pywt, skimage\n",
    "- CWRU dataset files in 'CWRU_BearingData_Load_2HP' folder\n",
    "\n",
    "Run cells sequentially to load data, preprocess, train the model, and evaluate results."
   ]
  },
  {
   "cell_type": "code",
   "execution_count": 15,
   "metadata": {},
   "outputs": [],
   "source": [
    "# Setup for Reproducibility\n",
    "import tensorflow as tf\n",
    "import numpy as np\n",
    "import random\n",
    "import os\n",
    "\n",
    "# Set a fixed seed value for reproducibility\n",
    "SEED = 1\n",
    "random.seed(SEED)            # Python random module\n",
    "np.random.seed(SEED)         # NumPy\n",
    "tf.random.set_seed(SEED)     # TensorFlow\n",
    "\n",
    "# Enforce deterministic behavior for GPU operations\n",
    "os.environ['TF_DETERMINISTIC_OPS'] = '1'  # Ensure deterministic execution\n",
    "os.environ['TF_CUDNN_DETERMINISTIC'] = '1'  # Deterministic cuDNN algorithms\n",
    "\n",
    "# Control GPU memory allocation\n",
    "gpus = tf.config.experimental.list_physical_devices('GPU')\n",
    "if gpus:\n",
    "    for gpu in gpus:\n",
    "        tf.config.experimental.set_memory_growth(gpu, True)  # Enable memory growth\n",
    "\n",
    "# Restrict parallelism\n",
    "tf.config.threading.set_inter_op_parallelism_threads(1)\n",
    "tf.config.threading.set_intra_op_parallelism_threads(1)\n",
    "\n",
    "# Import additional libraries\n",
    "import scipy.io\n",
    "from sklearn.model_selection import train_test_split, StratifiedKFold\n",
    "from sklearn.metrics import confusion_matrix\n",
    "from tensorflow.keras import layers, models\n",
    "import matplotlib.pyplot as plt\n",
    "import seaborn as sns\n",
    "from scipy import signal\n",
    "from skimage.transform import resize\n",
    "import pywt  # For wavelet transform"
   ]
  },
  {
   "cell_type": "markdown",
   "metadata": {},
   "source": [
    "## Load CWRU Bearing Data\n",
    "\n",
    "The `ImportData` function loads the CWRU dataset files (.mat) containing vibration signals for normal and fault conditions (inner race, ball, outer race) at various fault sizes under a 2HP load. The data is stored in a list for further processing."
   ]
  },
  {
   "cell_type": "code",
   "execution_count": 16,
   "metadata": {},
   "outputs": [],
   "source": [
    "def ImportData():\n",
    "    folder_path = 'CWRU_BearingData_Load_2HP'\n",
    "    file_paths = [\n",
    "        os.path.join(folder_path, '99.mat'),\n",
    "        os.path.join(folder_path, '111.mat'),\n",
    "        os.path.join(folder_path, '124.mat'),\n",
    "        os.path.join(folder_path, '137.mat'),\n",
    "        os.path.join(folder_path, '176.mat'),\n",
    "        os.path.join(folder_path, '191.mat'),\n",
    "        os.path.join(folder_path, '203.mat'),\n",
    "        os.path.join(folder_path, '215.mat'),\n",
    "        os.path.join(folder_path, '228.mat'),\n",
    "        os.path.join(folder_path, '240.mat')\n",
    "    ]\n",
    "    data_keys = [\n",
    "        'X099_DE_time', 'X111_DE_time', 'X124_DE_time', 'X137_DE_time',\n",
    "        'X176_DE_time', 'X191_DE_time', 'X203_DE_time', 'X215_DE_time',\n",
    "        'X228_DE_time', 'X240_DE_time'\n",
    "    ]\n",
    "    data = [scipy.io.loadmat(fp)[key] for fp, key in zip(file_paths, data_keys)]\n",
    "    return data"
   ]
  },
  {
   "cell_type": "markdown",
   "metadata": {},
   "source": [
    "## Time-Frequency Image Generation\n",
    "\n",
    "The following functions generate spectrogram and scalogram images from vibration signal segments, as per Verstraete et al. (2017):\n",
    "- **Spectrogram**: Uses Short-Time Fourier Transform (STFT) with a Hann window, 256-point segments, and 128-point overlap. Images are normalized and resized to 96x96 pixels.\n",
    "- **Scalogram**: Uses Continuous Wavelet Transform (CWT) with the Morlet wavelet, scales 1 to 128. Magnitude is normalized and resized to 96x96 pixels."
   ]
  },
  {
   "cell_type": "code",
   "execution_count": 17,
   "metadata": {},
   "outputs": [],
   "source": [
    "def min_max_norm(ary):\n",
    "    ary = (ary - ary.min()) / np.abs(ary.max() - ary.min())\n",
    "    return ary\n",
    "\n",
    "def generate_spectrogram_image(data_y_vector, image_shape=(32, 32)):\n",
    "\n",
    "    \n",
    "    \"\"\"\n",
    "    Calculate the spectrogram of an array data_y_vector and resize it to image_shape.\n",
    "    \"\"\"\n",
    "    fs = 48000\n",
    "    f, t, sxx = signal.spectrogram(\n",
    "        data_y_vector,\n",
    "        fs,\n",
    "        nperseg=256,\n",
    "        noverlap=128,\n",
    "        window='hann'\n",
    "    )\n",
    "    sxx = min_max_norm(sxx)\n",
    "    sxx = resize(sxx, image_shape, mode='constant', anti_aliasing=True)\n",
    "    return sxx\n",
    "\n",
    "def generate_scalogram_image(data_y_vector, image_shape=(32,32)):\n",
    "    \"\"\"\n",
    "    Calculate the scalogram using Morlet wavelet and resize it to image_shape.\n",
    "    \"\"\"\n",
    "    fs = 48000\n",
    "    scales = np.arange(1, 128)  # Adjust scales for Morlet wavelet\n",
    "    coef, freqs = pywt.cwt(\n",
    "        data_y_vector,\n",
    "        scales,\n",
    "        'morl',\n",
    "        sampling_period=1/fs\n",
    "    )\n",
    "    coef = np.abs(coef)  # Use magnitude\n",
    "    coef = min_max_norm(coef)\n",
    "    coef = resize(coef, image_shape, mode='constant', anti_aliasing=True)\n",
    "    return coef"
   ]
  },
  {
   "cell_type": "markdown",
   "metadata": {},
   "source": [
    "## Data Preprocessing\n",
    "\n",
    "The `Sampling` function segments the vibration signals into blocks, and `DataPreparation` generates spectrogram or scalogram images for each segment. Labels are created in one-hot encoded format (`Y_CNN`) for CNN training and as integers (`Y`) for stratification. The output is a 4D array of images and corresponding labels."
   ]
  },
  {
   "cell_type": "code",
   "execution_count": 18,
   "metadata": {},
   "outputs": [],
   "source": [
    "def Sampling(Data, interval_length, samples_per_block, ignore_points=0):\n",
    "    adjusted_length = len(Data) - 2 * ignore_points\n",
    "    No_of_blocks = (round(adjusted_length / interval_length) - round(samples_per_block / interval_length) - 1)\n",
    "    SplitData = np.zeros([No_of_blocks, samples_per_block])\n",
    "    for i in range(No_of_blocks):\n",
    "        start_idx = ignore_points + i * interval_length\n",
    "        SplitData[i, :] = Data[start_idx:(start_idx + samples_per_block)].T\n",
    "    return SplitData\n",
    "\n",
    "def DataPreparation(Data, interval_length, samples_per_block, image_type='spectrogram'):\n",
    "    \"\"\"\n",
    "    Prepare data by generating spectrogram or scalogram images.\n",
    "    \"\"\"\n",
    "    X = []\n",
    "    LabelPositional = []\n",
    "    Label = []\n",
    "    for count, data in enumerate(Data):\n",
    "        SplitData = Sampling(data, interval_length, samples_per_block)\n",
    "        images = []\n",
    "        for segment in SplitData:\n",
    "            if image_type == 'spectrogram':\n",
    "                img = generate_spectrogram_image(segment)\n",
    "            elif image_type == 'scalogram':\n",
    "                img = generate_scalogram_image(segment)\n",
    "            images.append(img)\n",
    "        images = np.array(images)\n",
    "        y = np.zeros([len(SplitData), 10])\n",
    "        y[:, count] = 1\n",
    "        y1 = np.zeros([len(SplitData), 1])\n",
    "        y1[:, 0] = count\n",
    "        X.append(images)\n",
    "        LabelPositional.append(y)\n",
    "        Label.append(y1)\n",
    "    X = np.concatenate(X, axis=0)\n",
    "    LabelPositional = np.concatenate(LabelPositional, axis=0)\n",
    "    Label = np.concatenate(Label, axis=0)\n",
    "    return X, LabelPositional, Label"
   ]
  },
  {
   "cell_type": "markdown",
   "metadata": {},
   "source": [
    "## CNN Model Definition\n",
    "\n",
    "The `CNN_2D` class defines the CNN architecture as per Verstraete et al. (2017):\n",
    "- Three stages, each with two convolutional layers (32, 64, 128 filters, 3x3 kernels) followed by 2x2 max pooling.\n",
    "- Two dense layers (100 units each) with dropout (0.5) before the second dense layer.\n",
    "- Output layer with 10 units (softmax) for 10-class classification.\n",
    "- Compiled with Adam optimizer and categorical crossentropy loss."
   ]
  },
  {
   "cell_type": "code",
   "execution_count": 19,
   "metadata": {},
   "outputs": [],
   "source": [
    "class CNN_2D():\n",
    "    def __init__(self):\n",
    "        self.model = self.CreateModel()\n",
    "\n",
    "    def CreateModel(self):\n",
    "        model = models.Sequential([\n",
    "            layers.Conv2D(32, (3, 3), padding='same', activation='relu', input_shape=(32, 32, 1)),\n",
    "            layers.Conv2D(32, (3, 3), padding='same', activation='relu'),\n",
    "            layers.MaxPool2D((2, 2), padding='same'),\n",
    "            layers.Conv2D(64, (3, 3), padding='same', activation='relu'),\n",
    "            layers.Conv2D(64, (3, 3), padding='same', activation='relu'),\n",
    "            layers.MaxPool2D((2, 2), padding='same'),\n",
    "            layers.Conv2D(128, (3, 3), padding='same', activation='relu'),\n",
    "            layers.Conv2D(128, (3, 3), padding='same', activation='relu'),\n",
    "            layers.MaxPool2D((2, 2), padding='same'),\n",
    "            layers.Flatten(),\n",
    "            layers.Dense(100, activation='relu'),\n",
    "            layers.Dropout(0.5),\n",
    "            layers.Dense(96, activation='relu'),\n",
    "            layers.Dense(10, activation='softmax')\n",
    "        ])\n",
    "        model.compile(\n",
    "            optimizer='adam',\n",
    "            loss=tf.keras.losses.CategoricalCrossentropy(),\n",
    "            metrics=['accuracy']\n",
    "        )\n",
    "        return model"
   ]
  },
  {
   "cell_type": "markdown",
   "metadata": {},
   "source": [
    "## Main Execution\n",
    "\n",
    "This section executes the pipeline:\n",
    "- Loads and preprocesses data to generate 96x96 images (spectrogram or scalogram).\n",
    "- Splits data into training (80%) and test (20%) sets with stratification.\n",
    "- Performs 5-fold cross-validation with early stopping and model checkpointing.\n",
    "- Saves the best model for each fold.\n",
    "\n",
    "**Parameters**:\n",
    "- `image_type`: Set to 'scalogram' or 'spectrogram' to choose input type.\n",
    "- `image_shape`: 96x96 pixels for high accuracy (per Verstraete et al.).\n",
    "- `kSplits`: 5 for cross-validation.\n",
    "- `foldername`: Directory to save model checkpoints."
   ]
  },
  {
   "cell_type": "code",
   "execution_count": 21,
   "metadata": {},
   "outputs": [
    {
     "name": "stdout",
     "output_type": "stream",
     "text": [
      "Shape of Input Data: (15169, 32, 32, 1)\n"
     ]
    },
    {
     "name": "stderr",
     "output_type": "stream",
     "text": [
      "/Users/Gayathri/pyenvs/tf-env/lib/python3.11/site-packages/keras/src/layers/convolutional/base_conv.py:113: UserWarning: Do not pass an `input_shape`/`input_dim` argument to a layer. When using Sequential models, prefer using an `Input(shape)` object as the first layer in the model instead.\n",
      "  super().__init__(activity_regularizer=activity_regularizer, **kwargs)\n"
     ]
    },
    {
     "name": "stdout",
     "output_type": "stream",
     "text": [
      "Epoch 1/200\n"
     ]
    },
    {
     "name": "stderr",
     "output_type": "stream",
     "text": [
      "2025-06-12 07:59:48.038126: E tensorflow/core/framework/node_def_util.cc:680] NodeDef mentions attribute use_unbounded_threadpool which is not in the op definition: Op<name=MapDataset; signature=input_dataset:variant, other_arguments: -> handle:variant; attr=f:func; attr=Targuments:list(type),min=0; attr=output_types:list(type),min=1; attr=output_shapes:list(shape),min=1; attr=use_inter_op_parallelism:bool,default=true; attr=preserve_cardinality:bool,default=false; attr=force_synchronous:bool,default=false; attr=metadata:string,default=\"\"> This may be expected if your graph generating binary is newer  than this binary. Unknown attributes will be ignored. NodeDef: {{node ParallelMapDatasetV2/_15}}\n",
      "2025-06-12 07:59:48.040278: E tensorflow/core/framework/node_def_util.cc:680] NodeDef mentions attribute use_unbounded_threadpool which is not in the op definition: Op<name=MapDataset; signature=input_dataset:variant, other_arguments: -> handle:variant; attr=f:func; attr=Targuments:list(type),min=0; attr=output_types:list(type),min=1; attr=output_shapes:list(shape),min=1; attr=use_inter_op_parallelism:bool,default=true; attr=preserve_cardinality:bool,default=false; attr=force_synchronous:bool,default=false; attr=metadata:string,default=\"\"> This may be expected if your graph generating binary is newer  than this binary. Unknown attributes will be ignored. NodeDef: {{node ParallelMapDatasetV2/_15}}\n"
     ]
    },
    {
     "name": "stdout",
     "output_type": "stream",
     "text": [
      "\u001b[1m304/304\u001b[0m \u001b[32m━━━━━━━━━━━━━━━━━━━━\u001b[0m\u001b[37m\u001b[0m \u001b[1m0s\u001b[0m 152ms/step - accuracy: 0.3678 - loss: 1.6195"
     ]
    },
    {
     "name": "stderr",
     "output_type": "stream",
     "text": [
      "2025-06-12 08:00:35.287492: E tensorflow/core/framework/node_def_util.cc:680] NodeDef mentions attribute use_unbounded_threadpool which is not in the op definition: Op<name=MapDataset; signature=input_dataset:variant, other_arguments: -> handle:variant; attr=f:func; attr=Targuments:list(type),min=0; attr=output_types:list(type),min=1; attr=output_shapes:list(shape),min=1; attr=use_inter_op_parallelism:bool,default=true; attr=preserve_cardinality:bool,default=false; attr=force_synchronous:bool,default=false; attr=metadata:string,default=\"\"> This may be expected if your graph generating binary is newer  than this binary. Unknown attributes will be ignored. NodeDef: {{node ParallelMapDatasetV2/_15}}\n",
      "2025-06-12 08:00:35.287768: E tensorflow/core/framework/node_def_util.cc:680] NodeDef mentions attribute use_unbounded_threadpool which is not in the op definition: Op<name=MapDataset; signature=input_dataset:variant, other_arguments: -> handle:variant; attr=f:func; attr=Targuments:list(type),min=0; attr=output_types:list(type),min=1; attr=output_shapes:list(shape),min=1; attr=use_inter_op_parallelism:bool,default=true; attr=preserve_cardinality:bool,default=false; attr=force_synchronous:bool,default=false; attr=metadata:string,default=\"\"> This may be expected if your graph generating binary is newer  than this binary. Unknown attributes will be ignored. NodeDef: {{node ParallelMapDatasetV2/_15}}\n"
     ]
    },
    {
     "name": "stdout",
     "output_type": "stream",
     "text": [
      "\n",
      "Epoch 1: val_accuracy improved from -inf to 0.77833, saving model to CNN2D_results/Scalogram_Spectrogram/best_model_1.h5\n"
     ]
    },
    {
     "name": "stderr",
     "output_type": "stream",
     "text": [
      "WARNING:absl:You are saving your model as an HDF5 file via `model.save()` or `keras.saving.save_model(model)`. This file format is considered legacy. We recommend using instead the native Keras format, e.g. `model.save('my_model.keras')` or `keras.saving.save_model(model, 'my_model.keras')`. \n"
     ]
    },
    {
     "name": "stdout",
     "output_type": "stream",
     "text": [
      "\u001b[1m304/304\u001b[0m \u001b[32m━━━━━━━━━━━━━━━━━━━━\u001b[0m\u001b[37m\u001b[0m \u001b[1m51s\u001b[0m 163ms/step - accuracy: 0.3683 - loss: 1.6180 - val_accuracy: 0.7783 - val_loss: 0.5118\n",
      "Epoch 2/200\n",
      "\u001b[1m304/304\u001b[0m \u001b[32m━━━━━━━━━━━━━━━━━━━━\u001b[0m\u001b[37m\u001b[0m \u001b[1m0s\u001b[0m 151ms/step - accuracy: 0.7116 - loss: 0.6614\n",
      "Epoch 2: val_accuracy improved from 0.77833 to 0.82118, saving model to CNN2D_results/Scalogram_Spectrogram/best_model_1.h5\n"
     ]
    },
    {
     "name": "stderr",
     "output_type": "stream",
     "text": [
      "WARNING:absl:You are saving your model as an HDF5 file via `model.save()` or `keras.saving.save_model(model)`. This file format is considered legacy. We recommend using instead the native Keras format, e.g. `model.save('my_model.keras')` or `keras.saving.save_model(model, 'my_model.keras')`. \n"
     ]
    },
    {
     "name": "stdout",
     "output_type": "stream",
     "text": [
      "\u001b[1m304/304\u001b[0m \u001b[32m━━━━━━━━━━━━━━━━━━━━\u001b[0m\u001b[37m\u001b[0m \u001b[1m50s\u001b[0m 163ms/step - accuracy: 0.7116 - loss: 0.6612 - val_accuracy: 0.8212 - val_loss: 0.3656\n",
      "Epoch 3/200\n",
      "\u001b[1m304/304\u001b[0m \u001b[32m━━━━━━━━━━━━━━━━━━━━\u001b[0m\u001b[37m\u001b[0m \u001b[1m0s\u001b[0m 150ms/step - accuracy: 0.7915 - loss: 0.4591\n",
      "Epoch 3: val_accuracy improved from 0.82118 to 0.83354, saving model to CNN2D_results/Scalogram_Spectrogram/best_model_1.h5\n"
     ]
    },
    {
     "name": "stderr",
     "output_type": "stream",
     "text": [
      "WARNING:absl:You are saving your model as an HDF5 file via `model.save()` or `keras.saving.save_model(model)`. This file format is considered legacy. We recommend using instead the native Keras format, e.g. `model.save('my_model.keras')` or `keras.saving.save_model(model, 'my_model.keras')`. \n"
     ]
    },
    {
     "name": "stdout",
     "output_type": "stream",
     "text": [
      "\u001b[1m304/304\u001b[0m \u001b[32m━━━━━━━━━━━━━━━━━━━━\u001b[0m\u001b[37m\u001b[0m \u001b[1m49s\u001b[0m 162ms/step - accuracy: 0.7916 - loss: 0.4591 - val_accuracy: 0.8335 - val_loss: 0.3152\n",
      "Epoch 4/200\n",
      "\u001b[1m304/304\u001b[0m \u001b[32m━━━━━━━━━━━━━━━━━━━━\u001b[0m\u001b[37m\u001b[0m \u001b[1m0s\u001b[0m 152ms/step - accuracy: 0.8258 - loss: 0.3783\n",
      "Epoch 4: val_accuracy did not improve from 0.83354\n",
      "\u001b[1m304/304\u001b[0m \u001b[32m━━━━━━━━━━━━━━━━━━━━\u001b[0m\u001b[37m\u001b[0m \u001b[1m50s\u001b[0m 163ms/step - accuracy: 0.8257 - loss: 0.3783 - val_accuracy: 0.8331 - val_loss: 0.3282\n",
      "Epoch 5/200\n",
      "\u001b[1m304/304\u001b[0m \u001b[32m━━━━━━━━━━━━━━━━━━━━\u001b[0m\u001b[37m\u001b[0m \u001b[1m0s\u001b[0m 151ms/step - accuracy: 0.8371 - loss: 0.3444\n",
      "Epoch 5: val_accuracy improved from 0.83354 to 0.90894, saving model to CNN2D_results/Scalogram_Spectrogram/best_model_1.h5\n"
     ]
    },
    {
     "name": "stderr",
     "output_type": "stream",
     "text": [
      "WARNING:absl:You are saving your model as an HDF5 file via `model.save()` or `keras.saving.save_model(model)`. This file format is considered legacy. We recommend using instead the native Keras format, e.g. `model.save('my_model.keras')` or `keras.saving.save_model(model, 'my_model.keras')`. \n"
     ]
    },
    {
     "name": "stdout",
     "output_type": "stream",
     "text": [
      "\u001b[1m304/304\u001b[0m \u001b[32m━━━━━━━━━━━━━━━━━━━━\u001b[0m\u001b[37m\u001b[0m \u001b[1m49s\u001b[0m 162ms/step - accuracy: 0.8371 - loss: 0.3443 - val_accuracy: 0.9089 - val_loss: 0.2283\n",
      "Epoch 6/200\n",
      "\u001b[1m304/304\u001b[0m \u001b[32m━━━━━━━━━━━━━━━━━━━━\u001b[0m\u001b[37m\u001b[0m \u001b[1m0s\u001b[0m 152ms/step - accuracy: 0.8914 - loss: 0.2811\n",
      "Epoch 6: val_accuracy improved from 0.90894 to 0.94808, saving model to CNN2D_results/Scalogram_Spectrogram/best_model_1.h5\n"
     ]
    },
    {
     "name": "stderr",
     "output_type": "stream",
     "text": [
      "WARNING:absl:You are saving your model as an HDF5 file via `model.save()` or `keras.saving.save_model(model)`. This file format is considered legacy. We recommend using instead the native Keras format, e.g. `model.save('my_model.keras')` or `keras.saving.save_model(model, 'my_model.keras')`. \n"
     ]
    },
    {
     "name": "stdout",
     "output_type": "stream",
     "text": [
      "\u001b[1m304/304\u001b[0m \u001b[32m━━━━━━━━━━━━━━━━━━━━\u001b[0m\u001b[37m\u001b[0m \u001b[1m50s\u001b[0m 163ms/step - accuracy: 0.8914 - loss: 0.2811 - val_accuracy: 0.9481 - val_loss: 0.1651\n",
      "Epoch 7/200\n",
      "\u001b[1m304/304\u001b[0m \u001b[32m━━━━━━━━━━━━━━━━━━━━\u001b[0m\u001b[37m\u001b[0m \u001b[1m0s\u001b[0m 150ms/step - accuracy: 0.9270 - loss: 0.2096\n",
      "Epoch 7: val_accuracy did not improve from 0.94808\n",
      "\u001b[1m304/304\u001b[0m \u001b[32m━━━━━━━━━━━━━━━━━━━━\u001b[0m\u001b[37m\u001b[0m \u001b[1m49s\u001b[0m 161ms/step - accuracy: 0.9270 - loss: 0.2097 - val_accuracy: 0.9254 - val_loss: 0.1776\n",
      "Epoch 8/200\n",
      "\u001b[1m304/304\u001b[0m \u001b[32m━━━━━━━━━━━━━━━━━━━━\u001b[0m\u001b[37m\u001b[0m \u001b[1m0s\u001b[0m 154ms/step - accuracy: 0.9309 - loss: 0.1900\n",
      "Epoch 8: val_accuracy improved from 0.94808 to 0.96621, saving model to CNN2D_results/Scalogram_Spectrogram/best_model_1.h5\n"
     ]
    },
    {
     "name": "stderr",
     "output_type": "stream",
     "text": [
      "WARNING:absl:You are saving your model as an HDF5 file via `model.save()` or `keras.saving.save_model(model)`. This file format is considered legacy. We recommend using instead the native Keras format, e.g. `model.save('my_model.keras')` or `keras.saving.save_model(model, 'my_model.keras')`. \n"
     ]
    },
    {
     "name": "stdout",
     "output_type": "stream",
     "text": [
      "\u001b[1m304/304\u001b[0m \u001b[32m━━━━━━━━━━━━━━━━━━━━\u001b[0m\u001b[37m\u001b[0m \u001b[1m50s\u001b[0m 166ms/step - accuracy: 0.9309 - loss: 0.1900 - val_accuracy: 0.9662 - val_loss: 0.1011\n",
      "Epoch 9/200\n",
      "\u001b[1m304/304\u001b[0m \u001b[32m━━━━━━━━━━━━━━━━━━━━\u001b[0m\u001b[37m\u001b[0m \u001b[1m0s\u001b[0m 198ms/step - accuracy: 0.9469 - loss: 0.1524\n",
      "Epoch 9: val_accuracy did not improve from 0.96621\n",
      "\u001b[1m304/304\u001b[0m \u001b[32m━━━━━━━━━━━━━━━━━━━━\u001b[0m\u001b[37m\u001b[0m \u001b[1m65s\u001b[0m 215ms/step - accuracy: 0.9469 - loss: 0.1525 - val_accuracy: 0.9526 - val_loss: 0.1239\n",
      "Epoch 10/200\n",
      "\u001b[1m304/304\u001b[0m \u001b[32m━━━━━━━━━━━━━━━━━━━━\u001b[0m\u001b[37m\u001b[0m \u001b[1m0s\u001b[0m 167ms/step - accuracy: 0.9373 - loss: 0.1770\n",
      "Epoch 10: val_accuracy improved from 0.96621 to 0.96869, saving model to CNN2D_results/Scalogram_Spectrogram/best_model_1.h5\n"
     ]
    },
    {
     "name": "stderr",
     "output_type": "stream",
     "text": [
      "WARNING:absl:You are saving your model as an HDF5 file via `model.save()` or `keras.saving.save_model(model)`. This file format is considered legacy. We recommend using instead the native Keras format, e.g. `model.save('my_model.keras')` or `keras.saving.save_model(model, 'my_model.keras')`. \n"
     ]
    },
    {
     "name": "stdout",
     "output_type": "stream",
     "text": [
      "\u001b[1m304/304\u001b[0m \u001b[32m━━━━━━━━━━━━━━━━━━━━\u001b[0m\u001b[37m\u001b[0m \u001b[1m55s\u001b[0m 181ms/step - accuracy: 0.9373 - loss: 0.1769 - val_accuracy: 0.9687 - val_loss: 0.0870\n",
      "Epoch 11/200\n",
      "\u001b[1m304/304\u001b[0m \u001b[32m━━━━━━━━━━━━━━━━━━━━\u001b[0m\u001b[37m\u001b[0m \u001b[1m0s\u001b[0m 154ms/step - accuracy: 0.9520 - loss: 0.1406\n",
      "Epoch 11: val_accuracy improved from 0.96869 to 0.97239, saving model to CNN2D_results/Scalogram_Spectrogram/best_model_1.h5\n"
     ]
    },
    {
     "name": "stderr",
     "output_type": "stream",
     "text": [
      "WARNING:absl:You are saving your model as an HDF5 file via `model.save()` or `keras.saving.save_model(model)`. This file format is considered legacy. We recommend using instead the native Keras format, e.g. `model.save('my_model.keras')` or `keras.saving.save_model(model, 'my_model.keras')`. \n"
     ]
    },
    {
     "name": "stdout",
     "output_type": "stream",
     "text": [
      "\u001b[1m304/304\u001b[0m \u001b[32m━━━━━━━━━━━━━━━━━━━━\u001b[0m\u001b[37m\u001b[0m \u001b[1m50s\u001b[0m 165ms/step - accuracy: 0.9520 - loss: 0.1406 - val_accuracy: 0.9724 - val_loss: 0.0887\n",
      "Epoch 12/200\n",
      "\u001b[1m304/304\u001b[0m \u001b[32m━━━━━━━━━━━━━━━━━━━━\u001b[0m\u001b[37m\u001b[0m \u001b[1m0s\u001b[0m 152ms/step - accuracy: 0.9646 - loss: 0.1077\n",
      "Epoch 12: val_accuracy did not improve from 0.97239\n",
      "\u001b[1m304/304\u001b[0m \u001b[32m━━━━━━━━━━━━━━━━━━━━\u001b[0m\u001b[37m\u001b[0m \u001b[1m50s\u001b[0m 163ms/step - accuracy: 0.9646 - loss: 0.1077 - val_accuracy: 0.9720 - val_loss: 0.0865\n",
      "Epoch 13/200\n",
      "\u001b[1m304/304\u001b[0m \u001b[32m━━━━━━━━━━━━━━━━━━━━\u001b[0m\u001b[37m\u001b[0m \u001b[1m0s\u001b[0m 152ms/step - accuracy: 0.9596 - loss: 0.1133\n",
      "Epoch 13: val_accuracy improved from 0.97239 to 0.97404, saving model to CNN2D_results/Scalogram_Spectrogram/best_model_1.h5\n"
     ]
    },
    {
     "name": "stderr",
     "output_type": "stream",
     "text": [
      "WARNING:absl:You are saving your model as an HDF5 file via `model.save()` or `keras.saving.save_model(model)`. This file format is considered legacy. We recommend using instead the native Keras format, e.g. `model.save('my_model.keras')` or `keras.saving.save_model(model, 'my_model.keras')`. \n"
     ]
    },
    {
     "name": "stdout",
     "output_type": "stream",
     "text": [
      "\u001b[1m304/304\u001b[0m \u001b[32m━━━━━━━━━━━━━━━━━━━━\u001b[0m\u001b[37m\u001b[0m \u001b[1m50s\u001b[0m 164ms/step - accuracy: 0.9596 - loss: 0.1134 - val_accuracy: 0.9740 - val_loss: 0.0853\n",
      "Epoch 14/200\n",
      "\u001b[1m304/304\u001b[0m \u001b[32m━━━━━━━━━━━━━━━━━━━━\u001b[0m\u001b[37m\u001b[0m \u001b[1m0s\u001b[0m 151ms/step - accuracy: 0.9676 - loss: 0.0971\n",
      "Epoch 14: val_accuracy improved from 0.97404 to 0.97734, saving model to CNN2D_results/Scalogram_Spectrogram/best_model_1.h5\n"
     ]
    },
    {
     "name": "stderr",
     "output_type": "stream",
     "text": [
      "WARNING:absl:You are saving your model as an HDF5 file via `model.save()` or `keras.saving.save_model(model)`. This file format is considered legacy. We recommend using instead the native Keras format, e.g. `model.save('my_model.keras')` or `keras.saving.save_model(model, 'my_model.keras')`. \n"
     ]
    },
    {
     "name": "stdout",
     "output_type": "stream",
     "text": [
      "\u001b[1m304/304\u001b[0m \u001b[32m━━━━━━━━━━━━━━━━━━━━\u001b[0m\u001b[37m\u001b[0m \u001b[1m49s\u001b[0m 162ms/step - accuracy: 0.9676 - loss: 0.0971 - val_accuracy: 0.9773 - val_loss: 0.0751\n",
      "Epoch 15/200\n",
      "\u001b[1m304/304\u001b[0m \u001b[32m━━━━━━━━━━━━━━━━━━━━\u001b[0m\u001b[37m\u001b[0m \u001b[1m0s\u001b[0m 149ms/step - accuracy: 0.9700 - loss: 0.0975\n",
      "Epoch 15: val_accuracy did not improve from 0.97734\n",
      "\u001b[1m304/304\u001b[0m \u001b[32m━━━━━━━━━━━━━━━━━━━━\u001b[0m\u001b[37m\u001b[0m \u001b[1m50s\u001b[0m 165ms/step - accuracy: 0.9700 - loss: 0.0975 - val_accuracy: 0.9753 - val_loss: 0.0759\n",
      "Epoch 16/200\n",
      "\u001b[1m304/304\u001b[0m \u001b[32m━━━━━━━━━━━━━━━━━━━━\u001b[0m\u001b[37m\u001b[0m \u001b[1m0s\u001b[0m 158ms/step - accuracy: 0.9762 - loss: 0.0767\n",
      "Epoch 16: val_accuracy improved from 0.97734 to 0.97940, saving model to CNN2D_results/Scalogram_Spectrogram/best_model_1.h5\n"
     ]
    },
    {
     "name": "stderr",
     "output_type": "stream",
     "text": [
      "WARNING:absl:You are saving your model as an HDF5 file via `model.save()` or `keras.saving.save_model(model)`. This file format is considered legacy. We recommend using instead the native Keras format, e.g. `model.save('my_model.keras')` or `keras.saving.save_model(model, 'my_model.keras')`. \n"
     ]
    },
    {
     "name": "stdout",
     "output_type": "stream",
     "text": [
      "\u001b[1m304/304\u001b[0m \u001b[32m━━━━━━━━━━━━━━━━━━━━\u001b[0m\u001b[37m\u001b[0m \u001b[1m52s\u001b[0m 171ms/step - accuracy: 0.9762 - loss: 0.0767 - val_accuracy: 0.9794 - val_loss: 0.0592\n",
      "Epoch 17/200\n",
      "\u001b[1m304/304\u001b[0m \u001b[32m━━━━━━━━━━━━━━━━━━━━\u001b[0m\u001b[37m\u001b[0m \u001b[1m0s\u001b[0m 175ms/step - accuracy: 0.9705 - loss: 0.0864\n",
      "Epoch 17: val_accuracy did not improve from 0.97940\n",
      "\u001b[1m304/304\u001b[0m \u001b[32m━━━━━━━━━━━━━━━━━━━━\u001b[0m\u001b[37m\u001b[0m \u001b[1m57s\u001b[0m 187ms/step - accuracy: 0.9705 - loss: 0.0864 - val_accuracy: 0.9642 - val_loss: 0.1044\n",
      "Epoch 18/200\n",
      "\u001b[1m304/304\u001b[0m \u001b[32m━━━━━━━━━━━━━━━━━━━━\u001b[0m\u001b[37m\u001b[0m \u001b[1m0s\u001b[0m 155ms/step - accuracy: 0.9709 - loss: 0.0936\n",
      "Epoch 18: val_accuracy improved from 0.97940 to 0.97981, saving model to CNN2D_results/Scalogram_Spectrogram/best_model_1.h5\n"
     ]
    },
    {
     "name": "stderr",
     "output_type": "stream",
     "text": [
      "WARNING:absl:You are saving your model as an HDF5 file via `model.save()` or `keras.saving.save_model(model)`. This file format is considered legacy. We recommend using instead the native Keras format, e.g. `model.save('my_model.keras')` or `keras.saving.save_model(model, 'my_model.keras')`. \n"
     ]
    },
    {
     "name": "stdout",
     "output_type": "stream",
     "text": [
      "\u001b[1m304/304\u001b[0m \u001b[32m━━━━━━━━━━━━━━━━━━━━\u001b[0m\u001b[37m\u001b[0m \u001b[1m51s\u001b[0m 167ms/step - accuracy: 0.9709 - loss: 0.0936 - val_accuracy: 0.9798 - val_loss: 0.0604\n",
      "Epoch 19/200\n",
      "\u001b[1m304/304\u001b[0m \u001b[32m━━━━━━━━━━━━━━━━━━━━\u001b[0m\u001b[37m\u001b[0m \u001b[1m0s\u001b[0m 151ms/step - accuracy: 0.9723 - loss: 0.0767\n",
      "Epoch 19: val_accuracy improved from 0.97981 to 0.98146, saving model to CNN2D_results/Scalogram_Spectrogram/best_model_1.h5\n"
     ]
    },
    {
     "name": "stderr",
     "output_type": "stream",
     "text": [
      "WARNING:absl:You are saving your model as an HDF5 file via `model.save()` or `keras.saving.save_model(model)`. This file format is considered legacy. We recommend using instead the native Keras format, e.g. `model.save('my_model.keras')` or `keras.saving.save_model(model, 'my_model.keras')`. \n"
     ]
    },
    {
     "name": "stdout",
     "output_type": "stream",
     "text": [
      "\u001b[1m304/304\u001b[0m \u001b[32m━━━━━━━━━━━━━━━━━━━━\u001b[0m\u001b[37m\u001b[0m \u001b[1m49s\u001b[0m 162ms/step - accuracy: 0.9723 - loss: 0.0767 - val_accuracy: 0.9815 - val_loss: 0.0529\n",
      "Epoch 20/200\n",
      "\u001b[1m304/304\u001b[0m \u001b[32m━━━━━━━━━━━━━━━━━━━━\u001b[0m\u001b[37m\u001b[0m \u001b[1m0s\u001b[0m 154ms/step - accuracy: 0.9760 - loss: 0.0721\n",
      "Epoch 20: val_accuracy did not improve from 0.98146\n",
      "\u001b[1m304/304\u001b[0m \u001b[32m━━━━━━━━━━━━━━━━━━━━\u001b[0m\u001b[37m\u001b[0m \u001b[1m50s\u001b[0m 165ms/step - accuracy: 0.9760 - loss: 0.0721 - val_accuracy: 0.9786 - val_loss: 0.0639\n",
      "Epoch 21/200\n",
      "\u001b[1m304/304\u001b[0m \u001b[32m━━━━━━━━━━━━━━━━━━━━\u001b[0m\u001b[37m\u001b[0m \u001b[1m0s\u001b[0m 158ms/step - accuracy: 0.9775 - loss: 0.0750\n",
      "Epoch 21: val_accuracy did not improve from 0.98146\n",
      "\u001b[1m304/304\u001b[0m \u001b[32m━━━━━━━━━━━━━━━━━━━━\u001b[0m\u001b[37m\u001b[0m \u001b[1m52s\u001b[0m 170ms/step - accuracy: 0.9775 - loss: 0.0750 - val_accuracy: 0.9810 - val_loss: 0.0548\n",
      "Epoch 22/200\n",
      "\u001b[1m304/304\u001b[0m \u001b[32m━━━━━━━━━━━━━━━━━━━━\u001b[0m\u001b[37m\u001b[0m \u001b[1m0s\u001b[0m 152ms/step - accuracy: 0.9758 - loss: 0.0782\n",
      "Epoch 22: val_accuracy did not improve from 0.98146\n",
      "\u001b[1m304/304\u001b[0m \u001b[32m━━━━━━━━━━━━━━━━━━━━\u001b[0m\u001b[37m\u001b[0m \u001b[1m50s\u001b[0m 163ms/step - accuracy: 0.9757 - loss: 0.0783 - val_accuracy: 0.9769 - val_loss: 0.0655\n",
      "Epoch 23/200\n",
      "\u001b[1m304/304\u001b[0m \u001b[32m━━━━━━━━━━━━━━━━━━━━\u001b[0m\u001b[37m\u001b[0m \u001b[1m0s\u001b[0m 153ms/step - accuracy: 0.9754 - loss: 0.0725\n",
      "Epoch 23: val_accuracy did not improve from 0.98146\n",
      "\u001b[1m304/304\u001b[0m \u001b[32m━━━━━━━━━━━━━━━━━━━━\u001b[0m\u001b[37m\u001b[0m \u001b[1m50s\u001b[0m 164ms/step - accuracy: 0.9754 - loss: 0.0725 - val_accuracy: 0.9749 - val_loss: 0.0844\n",
      "Epoch 24/200\n",
      "\u001b[1m304/304\u001b[0m \u001b[32m━━━━━━━━━━━━━━━━━━━━\u001b[0m\u001b[37m\u001b[0m \u001b[1m0s\u001b[0m 151ms/step - accuracy: 0.9766 - loss: 0.0680\n",
      "Epoch 24: val_accuracy did not improve from 0.98146\n",
      "\u001b[1m304/304\u001b[0m \u001b[32m━━━━━━━━━━━━━━━━━━━━\u001b[0m\u001b[37m\u001b[0m \u001b[1m49s\u001b[0m 162ms/step - accuracy: 0.9766 - loss: 0.0680 - val_accuracy: 0.9802 - val_loss: 0.0492\n",
      "Epoch 25/200\n",
      "\u001b[1m304/304\u001b[0m \u001b[32m━━━━━━━━━━━━━━━━━━━━\u001b[0m\u001b[37m\u001b[0m \u001b[1m0s\u001b[0m 149ms/step - accuracy: 0.9830 - loss: 0.0510\n",
      "Epoch 25: val_accuracy improved from 0.98146 to 0.98269, saving model to CNN2D_results/Scalogram_Spectrogram/best_model_1.h5\n"
     ]
    },
    {
     "name": "stderr",
     "output_type": "stream",
     "text": [
      "WARNING:absl:You are saving your model as an HDF5 file via `model.save()` or `keras.saving.save_model(model)`. This file format is considered legacy. We recommend using instead the native Keras format, e.g. `model.save('my_model.keras')` or `keras.saving.save_model(model, 'my_model.keras')`. \n"
     ]
    },
    {
     "name": "stdout",
     "output_type": "stream",
     "text": [
      "\u001b[1m304/304\u001b[0m \u001b[32m━━━━━━━━━━━━━━━━━━━━\u001b[0m\u001b[37m\u001b[0m \u001b[1m49s\u001b[0m 161ms/step - accuracy: 0.9830 - loss: 0.0510 - val_accuracy: 0.9827 - val_loss: 0.0526\n",
      "Epoch 26/200\n",
      "\u001b[1m304/304\u001b[0m \u001b[32m━━━━━━━━━━━━━━━━━━━━\u001b[0m\u001b[37m\u001b[0m \u001b[1m0s\u001b[0m 151ms/step - accuracy: 0.9787 - loss: 0.0644\n",
      "Epoch 26: val_accuracy did not improve from 0.98269\n",
      "\u001b[1m304/304\u001b[0m \u001b[32m━━━━━━━━━━━━━━━━━━━━\u001b[0m\u001b[37m\u001b[0m \u001b[1m49s\u001b[0m 162ms/step - accuracy: 0.9787 - loss: 0.0644 - val_accuracy: 0.9790 - val_loss: 0.0771\n",
      "Epoch 27/200\n",
      "\u001b[1m304/304\u001b[0m \u001b[32m━━━━━━━━━━━━━━━━━━━━\u001b[0m\u001b[37m\u001b[0m \u001b[1m0s\u001b[0m 209ms/step - accuracy: 0.9771 - loss: 0.0671\n",
      "Epoch 27: val_accuracy did not improve from 0.98269\n",
      "\u001b[1m304/304\u001b[0m \u001b[32m━━━━━━━━━━━━━━━━━━━━\u001b[0m\u001b[37m\u001b[0m \u001b[1m69s\u001b[0m 226ms/step - accuracy: 0.9771 - loss: 0.0671 - val_accuracy: 0.9827 - val_loss: 0.0479\n",
      "Epoch 28/200\n",
      "\u001b[1m304/304\u001b[0m \u001b[32m━━━━━━━━━━━━━━━━━━━━\u001b[0m\u001b[37m\u001b[0m \u001b[1m0s\u001b[0m 191ms/step - accuracy: 0.9863 - loss: 0.0423\n",
      "Epoch 28: val_accuracy improved from 0.98269 to 0.98434, saving model to CNN2D_results/Scalogram_Spectrogram/best_model_1.h5\n"
     ]
    },
    {
     "name": "stderr",
     "output_type": "stream",
     "text": [
      "WARNING:absl:You are saving your model as an HDF5 file via `model.save()` or `keras.saving.save_model(model)`. This file format is considered legacy. We recommend using instead the native Keras format, e.g. `model.save('my_model.keras')` or `keras.saving.save_model(model, 'my_model.keras')`. \n"
     ]
    },
    {
     "name": "stdout",
     "output_type": "stream",
     "text": [
      "\u001b[1m304/304\u001b[0m \u001b[32m━━━━━━━━━━━━━━━━━━━━\u001b[0m\u001b[37m\u001b[0m \u001b[1m63s\u001b[0m 208ms/step - accuracy: 0.9863 - loss: 0.0423 - val_accuracy: 0.9843 - val_loss: 0.0540\n",
      "Epoch 29/200\n",
      "\u001b[1m304/304\u001b[0m \u001b[32m━━━━━━━━━━━━━━━━━━━━\u001b[0m\u001b[37m\u001b[0m \u001b[1m0s\u001b[0m 154ms/step - accuracy: 0.9840 - loss: 0.0436\n",
      "Epoch 29: val_accuracy improved from 0.98434 to 0.98475, saving model to CNN2D_results/Scalogram_Spectrogram/best_model_1.h5\n"
     ]
    },
    {
     "name": "stderr",
     "output_type": "stream",
     "text": [
      "WARNING:absl:You are saving your model as an HDF5 file via `model.save()` or `keras.saving.save_model(model)`. This file format is considered legacy. We recommend using instead the native Keras format, e.g. `model.save('my_model.keras')` or `keras.saving.save_model(model, 'my_model.keras')`. \n"
     ]
    },
    {
     "name": "stdout",
     "output_type": "stream",
     "text": [
      "\u001b[1m304/304\u001b[0m \u001b[32m━━━━━━━━━━━━━━━━━━━━\u001b[0m\u001b[37m\u001b[0m \u001b[1m50s\u001b[0m 166ms/step - accuracy: 0.9840 - loss: 0.0437 - val_accuracy: 0.9848 - val_loss: 0.0409\n",
      "Epoch 30/200\n",
      "\u001b[1m304/304\u001b[0m \u001b[32m━━━━━━━━━━━━━━━━━━━━\u001b[0m\u001b[37m\u001b[0m \u001b[1m0s\u001b[0m 151ms/step - accuracy: 0.9864 - loss: 0.0402\n",
      "Epoch 30: val_accuracy improved from 0.98475 to 0.98517, saving model to CNN2D_results/Scalogram_Spectrogram/best_model_1.h5\n"
     ]
    },
    {
     "name": "stderr",
     "output_type": "stream",
     "text": [
      "WARNING:absl:You are saving your model as an HDF5 file via `model.save()` or `keras.saving.save_model(model)`. This file format is considered legacy. We recommend using instead the native Keras format, e.g. `model.save('my_model.keras')` or `keras.saving.save_model(model, 'my_model.keras')`. \n"
     ]
    },
    {
     "name": "stdout",
     "output_type": "stream",
     "text": [
      "\u001b[1m304/304\u001b[0m \u001b[32m━━━━━━━━━━━━━━━━━━━━\u001b[0m\u001b[37m\u001b[0m \u001b[1m49s\u001b[0m 162ms/step - accuracy: 0.9864 - loss: 0.0402 - val_accuracy: 0.9852 - val_loss: 0.0389\n",
      "Epoch 31/200\n",
      "\u001b[1m304/304\u001b[0m \u001b[32m━━━━━━━━━━━━━━━━━━━━\u001b[0m\u001b[37m\u001b[0m \u001b[1m0s\u001b[0m 150ms/step - accuracy: 0.9841 - loss: 0.0445\n",
      "Epoch 31: val_accuracy did not improve from 0.98517\n",
      "\u001b[1m304/304\u001b[0m \u001b[32m━━━━━━━━━━━━━━━━━━━━\u001b[0m\u001b[37m\u001b[0m \u001b[1m49s\u001b[0m 161ms/step - accuracy: 0.9841 - loss: 0.0445 - val_accuracy: 0.9786 - val_loss: 0.0648\n",
      "Epoch 32/200\n",
      "\u001b[1m304/304\u001b[0m \u001b[32m━━━━━━━━━━━━━━━━━━━━\u001b[0m\u001b[37m\u001b[0m \u001b[1m0s\u001b[0m 152ms/step - accuracy: 0.9826 - loss: 0.0513\n",
      "Epoch 32: val_accuracy improved from 0.98517 to 0.98640, saving model to CNN2D_results/Scalogram_Spectrogram/best_model_1.h5\n"
     ]
    },
    {
     "name": "stderr",
     "output_type": "stream",
     "text": [
      "WARNING:absl:You are saving your model as an HDF5 file via `model.save()` or `keras.saving.save_model(model)`. This file format is considered legacy. We recommend using instead the native Keras format, e.g. `model.save('my_model.keras')` or `keras.saving.save_model(model, 'my_model.keras')`. \n"
     ]
    },
    {
     "name": "stdout",
     "output_type": "stream",
     "text": [
      "\u001b[1m304/304\u001b[0m \u001b[32m━━━━━━━━━━━━━━━━━━━━\u001b[0m\u001b[37m\u001b[0m \u001b[1m50s\u001b[0m 164ms/step - accuracy: 0.9826 - loss: 0.0512 - val_accuracy: 0.9864 - val_loss: 0.0363\n",
      "Epoch 33/200\n",
      "\u001b[1m304/304\u001b[0m \u001b[32m━━━━━━━━━━━━━━━━━━━━\u001b[0m\u001b[37m\u001b[0m \u001b[1m0s\u001b[0m 153ms/step - accuracy: 0.9845 - loss: 0.0438\n",
      "Epoch 33: val_accuracy did not improve from 0.98640\n",
      "\u001b[1m304/304\u001b[0m \u001b[32m━━━━━━━━━━━━━━━━━━━━\u001b[0m\u001b[37m\u001b[0m \u001b[1m50s\u001b[0m 164ms/step - accuracy: 0.9845 - loss: 0.0438 - val_accuracy: 0.9848 - val_loss: 0.0501\n",
      "Epoch 34/200\n",
      "\u001b[1m304/304\u001b[0m \u001b[32m━━━━━━━━━━━━━━━━━━━━\u001b[0m\u001b[37m\u001b[0m \u001b[1m0s\u001b[0m 153ms/step - accuracy: 0.9896 - loss: 0.0316\n",
      "Epoch 34: val_accuracy did not improve from 0.98640\n",
      "\u001b[1m304/304\u001b[0m \u001b[32m━━━━━━━━━━━━━━━━━━━━\u001b[0m\u001b[37m\u001b[0m \u001b[1m50s\u001b[0m 164ms/step - accuracy: 0.9896 - loss: 0.0316 - val_accuracy: 0.9852 - val_loss: 0.0468\n",
      "Epoch 35/200\n",
      "\u001b[1m304/304\u001b[0m \u001b[32m━━━━━━━━━━━━━━━━━━━━\u001b[0m\u001b[37m\u001b[0m \u001b[1m0s\u001b[0m 154ms/step - accuracy: 0.9815 - loss: 0.0583\n",
      "Epoch 35: val_accuracy improved from 0.98640 to 0.98805, saving model to CNN2D_results/Scalogram_Spectrogram/best_model_1.h5\n"
     ]
    },
    {
     "name": "stderr",
     "output_type": "stream",
     "text": [
      "WARNING:absl:You are saving your model as an HDF5 file via `model.save()` or `keras.saving.save_model(model)`. This file format is considered legacy. We recommend using instead the native Keras format, e.g. `model.save('my_model.keras')` or `keras.saving.save_model(model, 'my_model.keras')`. \n"
     ]
    },
    {
     "name": "stdout",
     "output_type": "stream",
     "text": [
      "\u001b[1m304/304\u001b[0m \u001b[32m━━━━━━━━━━━━━━━━━━━━\u001b[0m\u001b[37m\u001b[0m \u001b[1m50s\u001b[0m 166ms/step - accuracy: 0.9815 - loss: 0.0583 - val_accuracy: 0.9881 - val_loss: 0.0388\n",
      "Epoch 36/200\n",
      "\u001b[1m304/304\u001b[0m \u001b[32m━━━━━━━━━━━━━━━━━━━━\u001b[0m\u001b[37m\u001b[0m \u001b[1m0s\u001b[0m 151ms/step - accuracy: 0.9898 - loss: 0.0280\n",
      "Epoch 36: val_accuracy did not improve from 0.98805\n",
      "\u001b[1m304/304\u001b[0m \u001b[32m━━━━━━━━━━━━━━━━━━━━\u001b[0m\u001b[37m\u001b[0m \u001b[1m50s\u001b[0m 163ms/step - accuracy: 0.9898 - loss: 0.0280 - val_accuracy: 0.9881 - val_loss: 0.0377\n",
      "Epoch 37/200\n",
      "\u001b[1m304/304\u001b[0m \u001b[32m━━━━━━━━━━━━━━━━━━━━\u001b[0m\u001b[37m\u001b[0m \u001b[1m0s\u001b[0m 184ms/step - accuracy: 0.9873 - loss: 0.0343\n",
      "Epoch 37: val_accuracy did not improve from 0.98805\n",
      "\u001b[1m304/304\u001b[0m \u001b[32m━━━━━━━━━━━━━━━━━━━━\u001b[0m\u001b[37m\u001b[0m \u001b[1m59s\u001b[0m 195ms/step - accuracy: 0.9873 - loss: 0.0343 - val_accuracy: 0.9839 - val_loss: 0.0428\n",
      "Epoch 38/200\n",
      "\u001b[1m304/304\u001b[0m \u001b[32m━━━━━━━━━━━━━━━━━━━━\u001b[0m\u001b[37m\u001b[0m \u001b[1m0s\u001b[0m 151ms/step - accuracy: 0.9873 - loss: 0.0401\n",
      "Epoch 38: val_accuracy did not improve from 0.98805\n",
      "\u001b[1m304/304\u001b[0m \u001b[32m━━━━━━━━━━━━━━━━━━━━\u001b[0m\u001b[37m\u001b[0m \u001b[1m50s\u001b[0m 163ms/step - accuracy: 0.9873 - loss: 0.0401 - val_accuracy: 0.9827 - val_loss: 0.0483\n",
      "Epoch 39/200\n",
      "\u001b[1m304/304\u001b[0m \u001b[32m━━━━━━━━━━━━━━━━━━━━\u001b[0m\u001b[37m\u001b[0m \u001b[1m0s\u001b[0m 150ms/step - accuracy: 0.9887 - loss: 0.0325\n",
      "Epoch 39: val_accuracy did not improve from 0.98805\n",
      "\u001b[1m304/304\u001b[0m \u001b[32m━━━━━━━━━━━━━━━━━━━━\u001b[0m\u001b[37m\u001b[0m \u001b[1m49s\u001b[0m 162ms/step - accuracy: 0.9887 - loss: 0.0324 - val_accuracy: 0.9843 - val_loss: 0.0532\n",
      "Epoch 40/200\n",
      "\u001b[1m304/304\u001b[0m \u001b[32m━━━━━━━━━━━━━━━━━━━━\u001b[0m\u001b[37m\u001b[0m \u001b[1m0s\u001b[0m 148ms/step - accuracy: 0.9913 - loss: 0.0311\n",
      "Epoch 40: val_accuracy did not improve from 0.98805\n",
      "\u001b[1m304/304\u001b[0m \u001b[32m━━━━━━━━━━━━━━━━━━━━\u001b[0m\u001b[37m\u001b[0m \u001b[1m49s\u001b[0m 161ms/step - accuracy: 0.9913 - loss: 0.0311 - val_accuracy: 0.9835 - val_loss: 0.0427\n",
      "Epoch 41/200\n",
      "\u001b[1m304/304\u001b[0m \u001b[32m━━━━━━━━━━━━━━━━━━━━\u001b[0m\u001b[37m\u001b[0m \u001b[1m0s\u001b[0m 152ms/step - accuracy: 0.9893 - loss: 0.0288\n",
      "Epoch 41: val_accuracy improved from 0.98805 to 0.98846, saving model to CNN2D_results/Scalogram_Spectrogram/best_model_1.h5\n"
     ]
    },
    {
     "name": "stderr",
     "output_type": "stream",
     "text": [
      "WARNING:absl:You are saving your model as an HDF5 file via `model.save()` or `keras.saving.save_model(model)`. This file format is considered legacy. We recommend using instead the native Keras format, e.g. `model.save('my_model.keras')` or `keras.saving.save_model(model, 'my_model.keras')`. \n"
     ]
    },
    {
     "name": "stdout",
     "output_type": "stream",
     "text": [
      "\u001b[1m304/304\u001b[0m \u001b[32m━━━━━━━━━━━━━━━━━━━━\u001b[0m\u001b[37m\u001b[0m \u001b[1m50s\u001b[0m 164ms/step - accuracy: 0.9893 - loss: 0.0288 - val_accuracy: 0.9885 - val_loss: 0.0358\n",
      "Epoch 42/200\n",
      "\u001b[1m304/304\u001b[0m \u001b[32m━━━━━━━━━━━━━━━━━━━━\u001b[0m\u001b[37m\u001b[0m \u001b[1m0s\u001b[0m 148ms/step - accuracy: 0.9914 - loss: 0.0217\n",
      "Epoch 42: val_accuracy improved from 0.98846 to 0.98929, saving model to CNN2D_results/Scalogram_Spectrogram/best_model_1.h5\n"
     ]
    },
    {
     "name": "stderr",
     "output_type": "stream",
     "text": [
      "WARNING:absl:You are saving your model as an HDF5 file via `model.save()` or `keras.saving.save_model(model)`. This file format is considered legacy. We recommend using instead the native Keras format, e.g. `model.save('my_model.keras')` or `keras.saving.save_model(model, 'my_model.keras')`. \n"
     ]
    },
    {
     "name": "stdout",
     "output_type": "stream",
     "text": [
      "\u001b[1m304/304\u001b[0m \u001b[32m━━━━━━━━━━━━━━━━━━━━\u001b[0m\u001b[37m\u001b[0m \u001b[1m48s\u001b[0m 159ms/step - accuracy: 0.9914 - loss: 0.0217 - val_accuracy: 0.9893 - val_loss: 0.0337\n",
      "Epoch 43/200\n",
      "\u001b[1m304/304\u001b[0m \u001b[32m━━━━━━━━━━━━━━━━━━━━\u001b[0m\u001b[37m\u001b[0m \u001b[1m0s\u001b[0m 178ms/step - accuracy: 0.9934 - loss: 0.0163\n",
      "Epoch 43: val_accuracy did not improve from 0.98929\n",
      "\u001b[1m304/304\u001b[0m \u001b[32m━━━━━━━━━━━━━━━━━━━━\u001b[0m\u001b[37m\u001b[0m \u001b[1m58s\u001b[0m 191ms/step - accuracy: 0.9934 - loss: 0.0164 - val_accuracy: 0.9868 - val_loss: 0.0441\n",
      "Epoch 44/200\n",
      "\u001b[1m304/304\u001b[0m \u001b[32m━━━━━━━━━━━━━━━━━━━━\u001b[0m\u001b[37m\u001b[0m \u001b[1m0s\u001b[0m 188ms/step - accuracy: 0.9865 - loss: 0.0422\n",
      "Epoch 44: val_accuracy did not improve from 0.98929\n",
      "\u001b[1m304/304\u001b[0m \u001b[32m━━━━━━━━━━━━━━━━━━━━\u001b[0m\u001b[37m\u001b[0m \u001b[1m61s\u001b[0m 201ms/step - accuracy: 0.9865 - loss: 0.0422 - val_accuracy: 0.9823 - val_loss: 0.0604\n",
      "Epoch 45/200\n",
      "\u001b[1m304/304\u001b[0m \u001b[32m━━━━━━━━━━━━━━━━━━━━\u001b[0m\u001b[37m\u001b[0m \u001b[1m0s\u001b[0m 151ms/step - accuracy: 0.9762 - loss: 0.0845\n",
      "Epoch 45: val_accuracy did not improve from 0.98929\n",
      "\u001b[1m304/304\u001b[0m \u001b[32m━━━━━━━━━━━━━━━━━━━━\u001b[0m\u001b[37m\u001b[0m \u001b[1m49s\u001b[0m 162ms/step - accuracy: 0.9762 - loss: 0.0845 - val_accuracy: 0.9819 - val_loss: 0.0504\n",
      "Epoch 46/200\n",
      "\u001b[1m304/304\u001b[0m \u001b[32m━━━━━━━━━━━━━━━━━━━━\u001b[0m\u001b[37m\u001b[0m \u001b[1m0s\u001b[0m 150ms/step - accuracy: 0.9913 - loss: 0.0278\n",
      "Epoch 46: val_accuracy did not improve from 0.98929\n",
      "\u001b[1m304/304\u001b[0m \u001b[32m━━━━━━━━━━━━━━━━━━━━\u001b[0m\u001b[37m\u001b[0m \u001b[1m49s\u001b[0m 162ms/step - accuracy: 0.9913 - loss: 0.0278 - val_accuracy: 0.9876 - val_loss: 0.0364\n",
      "Epoch 47/200\n",
      "\u001b[1m304/304\u001b[0m \u001b[32m━━━━━━━━━━━━━━━━━━━━\u001b[0m\u001b[37m\u001b[0m \u001b[1m0s\u001b[0m 150ms/step - accuracy: 0.9928 - loss: 0.0191\n",
      "Epoch 47: val_accuracy did not improve from 0.98929\n",
      "\u001b[1m304/304\u001b[0m \u001b[32m━━━━━━━━━━━━━━━━━━━━\u001b[0m\u001b[37m\u001b[0m \u001b[1m49s\u001b[0m 161ms/step - accuracy: 0.9928 - loss: 0.0191 - val_accuracy: 0.9876 - val_loss: 0.0349\n",
      "Epoch 48/200\n",
      "\u001b[1m304/304\u001b[0m \u001b[32m━━━━━━━━━━━━━━━━━━━━\u001b[0m\u001b[37m\u001b[0m \u001b[1m0s\u001b[0m 149ms/step - accuracy: 0.9900 - loss: 0.0307\n",
      "Epoch 48: val_accuracy did not improve from 0.98929\n",
      "\u001b[1m304/304\u001b[0m \u001b[32m━━━━━━━━━━━━━━━━━━━━\u001b[0m\u001b[37m\u001b[0m \u001b[1m49s\u001b[0m 161ms/step - accuracy: 0.9900 - loss: 0.0307 - val_accuracy: 0.9856 - val_loss: 0.0363\n",
      "Epoch 49/200\n",
      "\u001b[1m304/304\u001b[0m \u001b[32m━━━━━━━━━━━━━━━━━━━━\u001b[0m\u001b[37m\u001b[0m \u001b[1m0s\u001b[0m 155ms/step - accuracy: 0.9942 - loss: 0.0197\n",
      "Epoch 49: val_accuracy did not improve from 0.98929\n",
      "\u001b[1m304/304\u001b[0m \u001b[32m━━━━━━━━━━━━━━━━━━━━\u001b[0m\u001b[37m\u001b[0m \u001b[1m51s\u001b[0m 167ms/step - accuracy: 0.9942 - loss: 0.0197 - val_accuracy: 0.9872 - val_loss: 0.0348\n",
      "Epoch 50/200\n",
      "\u001b[1m304/304\u001b[0m \u001b[32m━━━━━━━━━━━━━━━━━━━━\u001b[0m\u001b[37m\u001b[0m \u001b[1m0s\u001b[0m 154ms/step - accuracy: 0.9921 - loss: 0.0252\n",
      "Epoch 50: val_accuracy did not improve from 0.98929\n",
      "\u001b[1m304/304\u001b[0m \u001b[32m━━━━━━━━━━━━━━━━━━━━\u001b[0m\u001b[37m\u001b[0m \u001b[1m50s\u001b[0m 166ms/step - accuracy: 0.9921 - loss: 0.0252 - val_accuracy: 0.9893 - val_loss: 0.0309\n",
      "Epoch 51/200\n",
      "\u001b[1m304/304\u001b[0m \u001b[32m━━━━━━━━━━━━━━━━━━━━\u001b[0m\u001b[37m\u001b[0m \u001b[1m0s\u001b[0m 150ms/step - accuracy: 0.9964 - loss: 0.0087\n",
      "Epoch 51: val_accuracy did not improve from 0.98929\n",
      "\u001b[1m304/304\u001b[0m \u001b[32m━━━━━━━━━━━━━━━━━━━━\u001b[0m\u001b[37m\u001b[0m \u001b[1m50s\u001b[0m 162ms/step - accuracy: 0.9964 - loss: 0.0087 - val_accuracy: 0.9872 - val_loss: 0.0400\n",
      "Epoch 52/200\n",
      "\u001b[1m304/304\u001b[0m \u001b[32m━━━━━━━━━━━━━━━━━━━━\u001b[0m\u001b[37m\u001b[0m \u001b[1m0s\u001b[0m 151ms/step - accuracy: 0.9937 - loss: 0.0239\n",
      "Epoch 52: val_accuracy did not improve from 0.98929\n",
      "\u001b[1m304/304\u001b[0m \u001b[32m━━━━━━━━━━━━━━━━━━━━\u001b[0m\u001b[37m\u001b[0m \u001b[1m49s\u001b[0m 162ms/step - accuracy: 0.9937 - loss: 0.0240 - val_accuracy: 0.9843 - val_loss: 0.0489\n",
      "Epoch 53/200\n",
      "\u001b[1m304/304\u001b[0m \u001b[32m━━━━━━━━━━━━━━━━━━━━\u001b[0m\u001b[37m\u001b[0m \u001b[1m0s\u001b[0m 151ms/step - accuracy: 0.9911 - loss: 0.0276\n",
      "Epoch 53: val_accuracy did not improve from 0.98929\n",
      "\u001b[1m304/304\u001b[0m \u001b[32m━━━━━━━━━━━━━━━━━━━━\u001b[0m\u001b[37m\u001b[0m \u001b[1m49s\u001b[0m 162ms/step - accuracy: 0.9911 - loss: 0.0276 - val_accuracy: 0.9815 - val_loss: 0.0578\n",
      "Epoch 54/200\n",
      "\u001b[1m304/304\u001b[0m \u001b[32m━━━━━━━━━━━━━━━━━━━━\u001b[0m\u001b[37m\u001b[0m \u001b[1m0s\u001b[0m 152ms/step - accuracy: 0.9950 - loss: 0.0209\n",
      "Epoch 54: val_accuracy did not improve from 0.98929\n",
      "\u001b[1m304/304\u001b[0m \u001b[32m━━━━━━━━━━━━━━━━━━━━\u001b[0m\u001b[37m\u001b[0m \u001b[1m50s\u001b[0m 163ms/step - accuracy: 0.9950 - loss: 0.0209 - val_accuracy: 0.9720 - val_loss: 0.1211\n",
      "Epoch 55/200\n",
      "\u001b[1m304/304\u001b[0m \u001b[32m━━━━━━━━━━━━━━━━━━━━\u001b[0m\u001b[37m\u001b[0m \u001b[1m0s\u001b[0m 159ms/step - accuracy: 0.9801 - loss: 0.0634\n",
      "Epoch 55: val_accuracy did not improve from 0.98929\n",
      "\u001b[1m304/304\u001b[0m \u001b[32m━━━━━━━━━━━━━━━━━━━━\u001b[0m\u001b[37m\u001b[0m \u001b[1m52s\u001b[0m 170ms/step - accuracy: 0.9802 - loss: 0.0633 - val_accuracy: 0.9860 - val_loss: 0.0445\n",
      "Epoch 56/200\n",
      "\u001b[1m304/304\u001b[0m \u001b[32m━━━━━━━━━━━━━━━━━━━━\u001b[0m\u001b[37m\u001b[0m \u001b[1m0s\u001b[0m 154ms/step - accuracy: 0.9920 - loss: 0.0265\n",
      "Epoch 56: val_accuracy did not improve from 0.98929\n",
      "\u001b[1m304/304\u001b[0m \u001b[32m━━━━━━━━━━━━━━━━━━━━\u001b[0m\u001b[37m\u001b[0m \u001b[1m50s\u001b[0m 166ms/step - accuracy: 0.9920 - loss: 0.0265 - val_accuracy: 0.9885 - val_loss: 0.0380\n",
      "Epoch 57/200\n",
      "\u001b[1m304/304\u001b[0m \u001b[32m━━━━━━━━━━━━━━━━━━━━\u001b[0m\u001b[37m\u001b[0m \u001b[1m0s\u001b[0m 153ms/step - accuracy: 0.9954 - loss: 0.0114\n",
      "Epoch 57: val_accuracy did not improve from 0.98929\n",
      "\u001b[1m304/304\u001b[0m \u001b[32m━━━━━━━━━━━━━━━━━━━━\u001b[0m\u001b[37m\u001b[0m \u001b[1m50s\u001b[0m 164ms/step - accuracy: 0.9954 - loss: 0.0114 - val_accuracy: 0.9815 - val_loss: 0.0573\n",
      "Epoch 58/200\n",
      "\u001b[1m304/304\u001b[0m \u001b[32m━━━━━━━━━━━━━━━━━━━━\u001b[0m\u001b[37m\u001b[0m \u001b[1m0s\u001b[0m 153ms/step - accuracy: 0.9959 - loss: 0.0146\n",
      "Epoch 58: val_accuracy did not improve from 0.98929\n",
      "\u001b[1m304/304\u001b[0m \u001b[32m━━━━━━━━━━━━━━━━━━━━\u001b[0m\u001b[37m\u001b[0m \u001b[1m50s\u001b[0m 164ms/step - accuracy: 0.9959 - loss: 0.0145 - val_accuracy: 0.9876 - val_loss: 0.0392\n",
      "Epoch 59/200\n",
      "\u001b[1m304/304\u001b[0m \u001b[32m━━━━━━━━━━━━━━━━━━━━\u001b[0m\u001b[37m\u001b[0m \u001b[1m0s\u001b[0m 155ms/step - accuracy: 0.9945 - loss: 0.0229\n",
      "Epoch 59: val_accuracy did not improve from 0.98929\n",
      "\u001b[1m304/304\u001b[0m \u001b[32m━━━━━━━━━━━━━━━━━━━━\u001b[0m\u001b[37m\u001b[0m \u001b[1m51s\u001b[0m 166ms/step - accuracy: 0.9944 - loss: 0.0229 - val_accuracy: 0.9872 - val_loss: 0.0393\n",
      "Epoch 60/200\n",
      "\u001b[1m304/304\u001b[0m \u001b[32m━━━━━━━━━━━━━━━━━━━━\u001b[0m\u001b[37m\u001b[0m \u001b[1m0s\u001b[0m 151ms/step - accuracy: 0.9890 - loss: 0.0366\n",
      "Epoch 60: val_accuracy improved from 0.98929 to 0.98970, saving model to CNN2D_results/Scalogram_Spectrogram/best_model_1.h5\n"
     ]
    },
    {
     "name": "stderr",
     "output_type": "stream",
     "text": [
      "WARNING:absl:You are saving your model as an HDF5 file via `model.save()` or `keras.saving.save_model(model)`. This file format is considered legacy. We recommend using instead the native Keras format, e.g. `model.save('my_model.keras')` or `keras.saving.save_model(model, 'my_model.keras')`. \n"
     ]
    },
    {
     "name": "stdout",
     "output_type": "stream",
     "text": [
      "\u001b[1m304/304\u001b[0m \u001b[32m━━━━━━━━━━━━━━━━━━━━\u001b[0m\u001b[37m\u001b[0m \u001b[1m49s\u001b[0m 163ms/step - accuracy: 0.9890 - loss: 0.0365 - val_accuracy: 0.9897 - val_loss: 0.0382\n",
      "Epoch 61/200\n",
      "\u001b[1m304/304\u001b[0m \u001b[32m━━━━━━━━━━━━━━━━━━━━\u001b[0m\u001b[37m\u001b[0m \u001b[1m0s\u001b[0m 149ms/step - accuracy: 0.9982 - loss: 0.0063\n",
      "Epoch 61: val_accuracy did not improve from 0.98970\n",
      "\u001b[1m304/304\u001b[0m \u001b[32m━━━━━━━━━━━━━━━━━━━━\u001b[0m\u001b[37m\u001b[0m \u001b[1m49s\u001b[0m 160ms/step - accuracy: 0.9982 - loss: 0.0063 - val_accuracy: 0.9835 - val_loss: 0.0796\n",
      "Epoch 62/200\n",
      "\u001b[1m304/304\u001b[0m \u001b[32m━━━━━━━━━━━━━━━━━━━━\u001b[0m\u001b[37m\u001b[0m \u001b[1m0s\u001b[0m 173ms/step - accuracy: 0.9944 - loss: 0.0184\n",
      "Epoch 62: val_accuracy did not improve from 0.98970\n",
      "\u001b[1m304/304\u001b[0m \u001b[32m━━━━━━━━━━━━━━━━━━━━\u001b[0m\u001b[37m\u001b[0m \u001b[1m56s\u001b[0m 184ms/step - accuracy: 0.9944 - loss: 0.0184 - val_accuracy: 0.9864 - val_loss: 0.0353\n",
      "Epoch 63/200\n",
      "\u001b[1m304/304\u001b[0m \u001b[32m━━━━━━━━━━━━━━━━━━━━\u001b[0m\u001b[37m\u001b[0m \u001b[1m0s\u001b[0m 154ms/step - accuracy: 0.9947 - loss: 0.0183\n",
      "Epoch 63: val_accuracy did not improve from 0.98970\n",
      "\u001b[1m304/304\u001b[0m \u001b[32m━━━━━━━━━━━━━━━━━━━━\u001b[0m\u001b[37m\u001b[0m \u001b[1m50s\u001b[0m 165ms/step - accuracy: 0.9947 - loss: 0.0183 - val_accuracy: 0.9839 - val_loss: 0.0485\n",
      "Epoch 64/200\n",
      "\u001b[1m304/304\u001b[0m \u001b[32m━━━━━━━━━━━━━━━━━━━━\u001b[0m\u001b[37m\u001b[0m \u001b[1m0s\u001b[0m 155ms/step - accuracy: 0.9977 - loss: 0.0082\n",
      "Epoch 64: val_accuracy did not improve from 0.98970\n",
      "\u001b[1m304/304\u001b[0m \u001b[32m━━━━━━━━━━━━━━━━━━━━\u001b[0m\u001b[37m\u001b[0m \u001b[1m51s\u001b[0m 168ms/step - accuracy: 0.9977 - loss: 0.0082 - val_accuracy: 0.9885 - val_loss: 0.0446\n",
      "Epoch 65/200\n",
      "\u001b[1m304/304\u001b[0m \u001b[32m━━━━━━━━━━━━━━━━━━━━\u001b[0m\u001b[37m\u001b[0m \u001b[1m0s\u001b[0m 159ms/step - accuracy: 0.9958 - loss: 0.0130\n",
      "Epoch 65: val_accuracy did not improve from 0.98970\n",
      "\u001b[1m304/304\u001b[0m \u001b[32m━━━━━━━━━━━━━━━━━━━━\u001b[0m\u001b[37m\u001b[0m \u001b[1m52s\u001b[0m 171ms/step - accuracy: 0.9958 - loss: 0.0130 - val_accuracy: 0.9794 - val_loss: 0.0970\n",
      "Epoch 66/200\n",
      "\u001b[1m304/304\u001b[0m \u001b[32m━━━━━━━━━━━━━━━━━━━━\u001b[0m\u001b[37m\u001b[0m \u001b[1m0s\u001b[0m 179ms/step - accuracy: 0.9855 - loss: 0.0440\n",
      "Epoch 66: val_accuracy did not improve from 0.98970\n",
      "\u001b[1m304/304\u001b[0m \u001b[32m━━━━━━━━━━━━━━━━━━━━\u001b[0m\u001b[37m\u001b[0m \u001b[1m58s\u001b[0m 190ms/step - accuracy: 0.9855 - loss: 0.0440 - val_accuracy: 0.9876 - val_loss: 0.0423\n",
      "Epoch 67/200\n",
      "\u001b[1m304/304\u001b[0m \u001b[32m━━━━━━━━━━━━━━━━━━━━\u001b[0m\u001b[37m\u001b[0m \u001b[1m0s\u001b[0m 154ms/step - accuracy: 0.9951 - loss: 0.0178\n",
      "Epoch 67: val_accuracy did not improve from 0.98970\n",
      "\u001b[1m304/304\u001b[0m \u001b[32m━━━━━━━━━━━━━━━━━━━━\u001b[0m\u001b[37m\u001b[0m \u001b[1m50s\u001b[0m 166ms/step - accuracy: 0.9951 - loss: 0.0178 - val_accuracy: 0.9872 - val_loss: 0.0482\n",
      "Epoch 68/200\n",
      "\u001b[1m304/304\u001b[0m \u001b[32m━━━━━━━━━━━━━━━━━━━━\u001b[0m\u001b[37m\u001b[0m \u001b[1m0s\u001b[0m 154ms/step - accuracy: 0.9958 - loss: 0.0138\n",
      "Epoch 68: val_accuracy did not improve from 0.98970\n",
      "\u001b[1m304/304\u001b[0m \u001b[32m━━━━━━━━━━━━━━━━━━━━\u001b[0m\u001b[37m\u001b[0m \u001b[1m50s\u001b[0m 165ms/step - accuracy: 0.9958 - loss: 0.0138 - val_accuracy: 0.9827 - val_loss: 0.0581\n",
      "Epoch 69/200\n",
      "\u001b[1m304/304\u001b[0m \u001b[32m━━━━━━━━━━━━━━━━━━━━\u001b[0m\u001b[37m\u001b[0m \u001b[1m0s\u001b[0m 184ms/step - accuracy: 0.9920 - loss: 0.0206\n",
      "Epoch 69: val_accuracy did not improve from 0.98970\n",
      "\u001b[1m304/304\u001b[0m \u001b[32m━━━━━━━━━━━━━━━━━━━━\u001b[0m\u001b[37m\u001b[0m \u001b[1m59s\u001b[0m 195ms/step - accuracy: 0.9920 - loss: 0.0206 - val_accuracy: 0.9868 - val_loss: 0.0420\n",
      "Epoch 70/200\n",
      "\u001b[1m304/304\u001b[0m \u001b[32m━━━━━━━━━━━━━━━━━━━━\u001b[0m\u001b[37m\u001b[0m \u001b[1m0s\u001b[0m 153ms/step - accuracy: 0.9967 - loss: 0.0125\n",
      "Epoch 70: val_accuracy did not improve from 0.98970\n",
      "\u001b[1m304/304\u001b[0m \u001b[32m━━━━━━━━━━━━━━━━━━━━\u001b[0m\u001b[37m\u001b[0m \u001b[1m50s\u001b[0m 164ms/step - accuracy: 0.9967 - loss: 0.0125 - val_accuracy: 0.9876 - val_loss: 0.0453\n",
      "Epoch 71/200\n",
      "\u001b[1m304/304\u001b[0m \u001b[32m━━━━━━━━━━━━━━━━━━━━\u001b[0m\u001b[37m\u001b[0m \u001b[1m0s\u001b[0m 153ms/step - accuracy: 0.9961 - loss: 0.0108\n",
      "Epoch 71: val_accuracy did not improve from 0.98970\n",
      "\u001b[1m304/304\u001b[0m \u001b[32m━━━━━━━━━━━━━━━━━━━━\u001b[0m\u001b[37m\u001b[0m \u001b[1m50s\u001b[0m 164ms/step - accuracy: 0.9961 - loss: 0.0108 - val_accuracy: 0.9868 - val_loss: 0.0501\n",
      "Epoch 72/200\n",
      "\u001b[1m304/304\u001b[0m \u001b[32m━━━━━━━━━━━━━━━━━━━━\u001b[0m\u001b[37m\u001b[0m \u001b[1m0s\u001b[0m 153ms/step - accuracy: 0.9933 - loss: 0.0286\n",
      "Epoch 72: val_accuracy did not improve from 0.98970\n",
      "\u001b[1m304/304\u001b[0m \u001b[32m━━━━━━━━━━━━━━━━━━━━\u001b[0m\u001b[37m\u001b[0m \u001b[1m50s\u001b[0m 166ms/step - accuracy: 0.9933 - loss: 0.0286 - val_accuracy: 0.9856 - val_loss: 0.0519\n",
      "Epoch 73/200\n",
      "\u001b[1m304/304\u001b[0m \u001b[32m━━━━━━━━━━━━━━━━━━━━\u001b[0m\u001b[37m\u001b[0m \u001b[1m0s\u001b[0m 152ms/step - accuracy: 0.9932 - loss: 0.0185\n",
      "Epoch 73: val_accuracy did not improve from 0.98970\n",
      "\u001b[1m304/304\u001b[0m \u001b[32m━━━━━━━━━━━━━━━━━━━━\u001b[0m\u001b[37m\u001b[0m \u001b[1m50s\u001b[0m 163ms/step - accuracy: 0.9932 - loss: 0.0184 - val_accuracy: 0.9872 - val_loss: 0.0395\n",
      "Epoch 74/200\n",
      "\u001b[1m304/304\u001b[0m \u001b[32m━━━━━━━━━━━━━━━━━━━━\u001b[0m\u001b[37m\u001b[0m \u001b[1m0s\u001b[0m 159ms/step - accuracy: 0.9974 - loss: 0.0094\n",
      "Epoch 74: val_accuracy did not improve from 0.98970\n",
      "\u001b[1m304/304\u001b[0m \u001b[32m━━━━━━━━━━━━━━━━━━━━\u001b[0m\u001b[37m\u001b[0m \u001b[1m52s\u001b[0m 170ms/step - accuracy: 0.9974 - loss: 0.0094 - val_accuracy: 0.9872 - val_loss: 0.0405\n",
      "Epoch 75/200\n",
      "\u001b[1m304/304\u001b[0m \u001b[32m━━━━━━━━━━━━━━━━━━━━\u001b[0m\u001b[37m\u001b[0m \u001b[1m0s\u001b[0m 176ms/step - accuracy: 0.9993 - loss: 0.0025\n",
      "Epoch 75: val_accuracy did not improve from 0.98970\n",
      "\u001b[1m304/304\u001b[0m \u001b[32m━━━━━━━━━━━━━━━━━━━━\u001b[0m\u001b[37m\u001b[0m \u001b[1m57s\u001b[0m 187ms/step - accuracy: 0.9993 - loss: 0.0025 - val_accuracy: 0.9876 - val_loss: 0.0535\n",
      "Epoch 76/200\n",
      "\u001b[1m304/304\u001b[0m \u001b[32m━━━━━━━━━━━━━━━━━━━━\u001b[0m\u001b[37m\u001b[0m \u001b[1m0s\u001b[0m 150ms/step - accuracy: 0.9959 - loss: 0.0105\n",
      "Epoch 76: val_accuracy did not improve from 0.98970\n",
      "\u001b[1m304/304\u001b[0m \u001b[32m━━━━━━━━━━━━━━━━━━━━\u001b[0m\u001b[37m\u001b[0m \u001b[1m49s\u001b[0m 161ms/step - accuracy: 0.9959 - loss: 0.0105 - val_accuracy: 0.9819 - val_loss: 0.0681\n",
      "Epoch 77/200\n",
      "\u001b[1m304/304\u001b[0m \u001b[32m━━━━━━━━━━━━━━━━━━━━\u001b[0m\u001b[37m\u001b[0m \u001b[1m0s\u001b[0m 150ms/step - accuracy: 0.9952 - loss: 0.0177\n",
      "Epoch 77: val_accuracy did not improve from 0.98970\n",
      "\u001b[1m304/304\u001b[0m \u001b[32m━━━━━━━━━━━━━━━━━━━━\u001b[0m\u001b[37m\u001b[0m \u001b[1m49s\u001b[0m 162ms/step - accuracy: 0.9952 - loss: 0.0177 - val_accuracy: 0.9876 - val_loss: 0.0407\n",
      "Epoch 78/200\n",
      "\u001b[1m304/304\u001b[0m \u001b[32m━━━━━━━━━━━━━━━━━━━━\u001b[0m\u001b[37m\u001b[0m \u001b[1m0s\u001b[0m 152ms/step - accuracy: 0.9955 - loss: 0.0141\n",
      "Epoch 78: val_accuracy did not improve from 0.98970\n",
      "\u001b[1m304/304\u001b[0m \u001b[32m━━━━━━━━━━━━━━━━━━━━\u001b[0m\u001b[37m\u001b[0m \u001b[1m50s\u001b[0m 163ms/step - accuracy: 0.9955 - loss: 0.0141 - val_accuracy: 0.9852 - val_loss: 0.0551\n",
      "Epoch 79/200\n",
      "\u001b[1m304/304\u001b[0m \u001b[32m━━━━━━━━━━━━━━━━━━━━\u001b[0m\u001b[37m\u001b[0m \u001b[1m0s\u001b[0m 178ms/step - accuracy: 0.9958 - loss: 0.0129\n",
      "Epoch 79: val_accuracy did not improve from 0.98970\n",
      "\u001b[1m304/304\u001b[0m \u001b[32m━━━━━━━━━━━━━━━━━━━━\u001b[0m\u001b[37m\u001b[0m \u001b[1m58s\u001b[0m 192ms/step - accuracy: 0.9958 - loss: 0.0129 - val_accuracy: 0.9893 - val_loss: 0.0474\n",
      "Epoch 80/200\n",
      "\u001b[1m304/304\u001b[0m \u001b[32m━━━━━━━━━━━━━━━━━━━━\u001b[0m\u001b[37m\u001b[0m \u001b[1m0s\u001b[0m 155ms/step - accuracy: 0.9977 - loss: 0.0076\n",
      "Epoch 80: val_accuracy did not improve from 0.98970\n",
      "\u001b[1m304/304\u001b[0m \u001b[32m━━━━━━━━━━━━━━━━━━━━\u001b[0m\u001b[37m\u001b[0m \u001b[1m51s\u001b[0m 167ms/step - accuracy: 0.9977 - loss: 0.0076 - val_accuracy: 0.9856 - val_loss: 0.0652\n",
      "Epoch 81/200\n",
      "\u001b[1m304/304\u001b[0m \u001b[32m━━━━━━━━━━━━━━━━━━━━\u001b[0m\u001b[37m\u001b[0m \u001b[1m0s\u001b[0m 152ms/step - accuracy: 0.9900 - loss: 0.0371\n",
      "Epoch 81: val_accuracy did not improve from 0.98970\n",
      "\u001b[1m304/304\u001b[0m \u001b[32m━━━━━━━━━━━━━━━━━━━━\u001b[0m\u001b[37m\u001b[0m \u001b[1m50s\u001b[0m 163ms/step - accuracy: 0.9900 - loss: 0.0371 - val_accuracy: 0.9852 - val_loss: 0.0682\n",
      "Epoch 82/200\n",
      "\u001b[1m304/304\u001b[0m \u001b[32m━━━━━━━━━━━━━━━━━━━━\u001b[0m\u001b[37m\u001b[0m \u001b[1m0s\u001b[0m 156ms/step - accuracy: 0.9969 - loss: 0.0140\n",
      "Epoch 82: val_accuracy did not improve from 0.98970\n",
      "\u001b[1m304/304\u001b[0m \u001b[32m━━━━━━━━━━━━━━━━━━━━\u001b[0m\u001b[37m\u001b[0m \u001b[1m51s\u001b[0m 168ms/step - accuracy: 0.9969 - loss: 0.0140 - val_accuracy: 0.9872 - val_loss: 0.0745\n",
      "Epoch 83/200\n",
      "\u001b[1m304/304\u001b[0m \u001b[32m━━━━━━━━━━━━━━━━━━━━\u001b[0m\u001b[37m\u001b[0m \u001b[1m0s\u001b[0m 153ms/step - accuracy: 0.9960 - loss: 0.0131\n",
      "Epoch 83: val_accuracy did not improve from 0.98970\n",
      "\u001b[1m304/304\u001b[0m \u001b[32m━━━━━━━━━━━━━━━━━━━━\u001b[0m\u001b[37m\u001b[0m \u001b[1m50s\u001b[0m 165ms/step - accuracy: 0.9960 - loss: 0.0131 - val_accuracy: 0.9773 - val_loss: 0.1039\n",
      "Epoch 84/200\n",
      "\u001b[1m304/304\u001b[0m \u001b[32m━━━━━━━━━━━━━━━━━━━━\u001b[0m\u001b[37m\u001b[0m \u001b[1m0s\u001b[0m 164ms/step - accuracy: 0.9874 - loss: 0.0426\n",
      "Epoch 84: val_accuracy did not improve from 0.98970\n",
      "\u001b[1m304/304\u001b[0m \u001b[32m━━━━━━━━━━━━━━━━━━━━\u001b[0m\u001b[37m\u001b[0m \u001b[1m54s\u001b[0m 178ms/step - accuracy: 0.9874 - loss: 0.0426 - val_accuracy: 0.9876 - val_loss: 0.0560\n",
      "Epoch 85/200\n",
      "\u001b[1m304/304\u001b[0m \u001b[32m━━━━━━━━━━━━━━━━━━━━\u001b[0m\u001b[37m\u001b[0m \u001b[1m0s\u001b[0m 173ms/step - accuracy: 0.9935 - loss: 0.0232\n",
      "Epoch 85: val_accuracy did not improve from 0.98970\n",
      "\u001b[1m304/304\u001b[0m \u001b[32m━━━━━━━━━━━━━━━━━━━━\u001b[0m\u001b[37m\u001b[0m \u001b[1m56s\u001b[0m 184ms/step - accuracy: 0.9935 - loss: 0.0231 - val_accuracy: 0.9885 - val_loss: 0.0433\n",
      "Epoch 86/200\n",
      "\u001b[1m304/304\u001b[0m \u001b[32m━━━━━━━━━━━━━━━━━━━━\u001b[0m\u001b[37m\u001b[0m \u001b[1m0s\u001b[0m 156ms/step - accuracy: 0.9941 - loss: 0.0256\n",
      "Epoch 86: val_accuracy did not improve from 0.98970\n",
      "\u001b[1m304/304\u001b[0m \u001b[32m━━━━━━━━━━━━━━━━━━━━\u001b[0m\u001b[37m\u001b[0m \u001b[1m51s\u001b[0m 168ms/step - accuracy: 0.9941 - loss: 0.0256 - val_accuracy: 0.9881 - val_loss: 0.0386\n",
      "Epoch 87/200\n",
      "\u001b[1m304/304\u001b[0m \u001b[32m━━━━━━━━━━━━━━━━━━━━\u001b[0m\u001b[37m\u001b[0m \u001b[1m0s\u001b[0m 157ms/step - accuracy: 0.9984 - loss: 0.0049\n",
      "Epoch 87: val_accuracy did not improve from 0.98970\n",
      "\u001b[1m304/304\u001b[0m \u001b[32m━━━━━━━━━━━━━━━━━━━━\u001b[0m\u001b[37m\u001b[0m \u001b[1m51s\u001b[0m 169ms/step - accuracy: 0.9984 - loss: 0.0049 - val_accuracy: 0.9860 - val_loss: 0.0484\n",
      "Epoch 88/200\n",
      "\u001b[1m304/304\u001b[0m \u001b[32m━━━━━━━━━━━━━━━━━━━━\u001b[0m\u001b[37m\u001b[0m \u001b[1m0s\u001b[0m 154ms/step - accuracy: 0.9954 - loss: 0.0105\n",
      "Epoch 88: val_accuracy did not improve from 0.98970\n",
      "\u001b[1m304/304\u001b[0m \u001b[32m━━━━━━━━━━━━━━━━━━━━\u001b[0m\u001b[37m\u001b[0m \u001b[1m51s\u001b[0m 166ms/step - accuracy: 0.9954 - loss: 0.0105 - val_accuracy: 0.9876 - val_loss: 0.0435\n",
      "Epoch 89/200\n",
      "\u001b[1m304/304\u001b[0m \u001b[32m━━━━━━━━━━━━━━━━━━━━\u001b[0m\u001b[37m\u001b[0m \u001b[1m0s\u001b[0m 155ms/step - accuracy: 0.9961 - loss: 0.0111\n",
      "Epoch 89: val_accuracy did not improve from 0.98970\n",
      "\u001b[1m304/304\u001b[0m \u001b[32m━━━━━━━━━━━━━━━━━━━━\u001b[0m\u001b[37m\u001b[0m \u001b[1m51s\u001b[0m 166ms/step - accuracy: 0.9961 - loss: 0.0110 - val_accuracy: 0.9885 - val_loss: 0.0479\n",
      "Epoch 90/200\n",
      "\u001b[1m304/304\u001b[0m \u001b[32m━━━━━━━━━━━━━━━━━━━━\u001b[0m\u001b[37m\u001b[0m \u001b[1m0s\u001b[0m 152ms/step - accuracy: 0.9977 - loss: 0.0180\n",
      "Epoch 90: val_accuracy did not improve from 0.98970\n",
      "\u001b[1m304/304\u001b[0m \u001b[32m━━━━━━━━━━━━━━━━━━━━\u001b[0m\u001b[37m\u001b[0m \u001b[1m50s\u001b[0m 163ms/step - accuracy: 0.9977 - loss: 0.0180 - val_accuracy: 0.9868 - val_loss: 0.0432\n",
      "Epoch 91/200\n",
      "\u001b[1m304/304\u001b[0m \u001b[32m━━━━━━━━━━━━━━━━━━━━\u001b[0m\u001b[37m\u001b[0m \u001b[1m0s\u001b[0m 153ms/step - accuracy: 0.9994 - loss: 0.0037\n",
      "Epoch 91: val_accuracy did not improve from 0.98970\n",
      "\u001b[1m304/304\u001b[0m \u001b[32m━━━━━━━━━━━━━━━━━━━━\u001b[0m\u001b[37m\u001b[0m \u001b[1m50s\u001b[0m 165ms/step - accuracy: 0.9994 - loss: 0.0037 - val_accuracy: 0.9773 - val_loss: 0.1102\n",
      "Epoch 92/200\n",
      "\u001b[1m304/304\u001b[0m \u001b[32m━━━━━━━━━━━━━━━━━━━━\u001b[0m\u001b[37m\u001b[0m \u001b[1m0s\u001b[0m 154ms/step - accuracy: 0.9941 - loss: 0.0198\n",
      "Epoch 92: val_accuracy did not improve from 0.98970\n",
      "\u001b[1m304/304\u001b[0m \u001b[32m━━━━━━━━━━━━━━━━━━━━\u001b[0m\u001b[37m\u001b[0m \u001b[1m50s\u001b[0m 165ms/step - accuracy: 0.9941 - loss: 0.0198 - val_accuracy: 0.9856 - val_loss: 0.0502\n",
      "Epoch 93/200\n",
      "\u001b[1m304/304\u001b[0m \u001b[32m━━━━━━━━━━━━━━━━━━━━\u001b[0m\u001b[37m\u001b[0m \u001b[1m0s\u001b[0m 156ms/step - accuracy: 0.9981 - loss: 0.0051\n",
      "Epoch 93: val_accuracy did not improve from 0.98970\n",
      "\u001b[1m304/304\u001b[0m \u001b[32m━━━━━━━━━━━━━━━━━━━━\u001b[0m\u001b[37m\u001b[0m \u001b[1m51s\u001b[0m 168ms/step - accuracy: 0.9981 - loss: 0.0051 - val_accuracy: 0.9889 - val_loss: 0.0434\n",
      "Epoch 94/200\n",
      "\u001b[1m304/304\u001b[0m \u001b[32m━━━━━━━━━━━━━━━━━━━━\u001b[0m\u001b[37m\u001b[0m \u001b[1m0s\u001b[0m 153ms/step - accuracy: 0.9974 - loss: 0.0118\n",
      "Epoch 94: val_accuracy did not improve from 0.98970\n",
      "\u001b[1m304/304\u001b[0m \u001b[32m━━━━━━━━━━━━━━━━━━━━\u001b[0m\u001b[37m\u001b[0m \u001b[1m50s\u001b[0m 165ms/step - accuracy: 0.9973 - loss: 0.0118 - val_accuracy: 0.9839 - val_loss: 0.0502\n",
      "Epoch 95/200\n",
      "\u001b[1m304/304\u001b[0m \u001b[32m━━━━━━━━━━━━━━━━━━━━\u001b[0m\u001b[37m\u001b[0m \u001b[1m0s\u001b[0m 178ms/step - accuracy: 0.9931 - loss: 0.0236\n",
      "Epoch 95: val_accuracy did not improve from 0.98970\n",
      "\u001b[1m304/304\u001b[0m \u001b[32m━━━━━━━━━━━━━━━━━━━━\u001b[0m\u001b[37m\u001b[0m \u001b[1m58s\u001b[0m 191ms/step - accuracy: 0.9931 - loss: 0.0236 - val_accuracy: 0.9889 - val_loss: 0.0387\n",
      "Epoch 96/200\n",
      "\u001b[1m304/304\u001b[0m \u001b[32m━━━━━━━━━━━━━━━━━━━━\u001b[0m\u001b[37m\u001b[0m \u001b[1m0s\u001b[0m 421ms/step - accuracy: 0.9976 - loss: 0.0072\n",
      "Epoch 96: val_accuracy did not improve from 0.98970\n",
      "\u001b[1m304/304\u001b[0m \u001b[32m━━━━━━━━━━━━━━━━━━━━\u001b[0m\u001b[37m\u001b[0m \u001b[1m132s\u001b[0m 435ms/step - accuracy: 0.9976 - loss: 0.0072 - val_accuracy: 0.9819 - val_loss: 0.0698\n",
      "Epoch 97/200\n",
      "\u001b[1m304/304\u001b[0m \u001b[32m━━━━━━━━━━━━━━━━━━━━\u001b[0m\u001b[37m\u001b[0m \u001b[1m0s\u001b[0m 156ms/step - accuracy: 0.9942 - loss: 0.0251\n",
      "Epoch 97: val_accuracy improved from 0.98970 to 0.99052, saving model to CNN2D_results/Scalogram_Spectrogram/best_model_1.h5\n"
     ]
    },
    {
     "name": "stderr",
     "output_type": "stream",
     "text": [
      "WARNING:absl:You are saving your model as an HDF5 file via `model.save()` or `keras.saving.save_model(model)`. This file format is considered legacy. We recommend using instead the native Keras format, e.g. `model.save('my_model.keras')` or `keras.saving.save_model(model, 'my_model.keras')`. \n"
     ]
    },
    {
     "name": "stdout",
     "output_type": "stream",
     "text": [
      "\u001b[1m304/304\u001b[0m \u001b[32m━━━━━━━━━━━━━━━━━━━━\u001b[0m\u001b[37m\u001b[0m \u001b[1m51s\u001b[0m 168ms/step - accuracy: 0.9942 - loss: 0.0251 - val_accuracy: 0.9905 - val_loss: 0.0293\n",
      "Epoch 98/200\n",
      "\u001b[1m304/304\u001b[0m \u001b[32m━━━━━━━━━━━━━━━━━━━━\u001b[0m\u001b[37m\u001b[0m \u001b[1m0s\u001b[0m 169ms/step - accuracy: 0.9986 - loss: 0.0060\n",
      "Epoch 98: val_accuracy did not improve from 0.99052\n",
      "\u001b[1m304/304\u001b[0m \u001b[32m━━━━━━━━━━━━━━━━━━━━\u001b[0m\u001b[37m\u001b[0m \u001b[1m55s\u001b[0m 181ms/step - accuracy: 0.9986 - loss: 0.0060 - val_accuracy: 0.9881 - val_loss: 0.0432\n",
      "Epoch 99/200\n",
      "\u001b[1m304/304\u001b[0m \u001b[32m━━━━━━━━━━━━━━━━━━━━\u001b[0m\u001b[37m\u001b[0m \u001b[1m0s\u001b[0m 160ms/step - accuracy: 0.9977 - loss: 0.0078\n",
      "Epoch 99: val_accuracy did not improve from 0.99052\n",
      "\u001b[1m304/304\u001b[0m \u001b[32m━━━━━━━━━━━━━━━━━━━━\u001b[0m\u001b[37m\u001b[0m \u001b[1m52s\u001b[0m 172ms/step - accuracy: 0.9977 - loss: 0.0078 - val_accuracy: 0.9881 - val_loss: 0.0410\n",
      "Epoch 100/200\n",
      "\u001b[1m304/304\u001b[0m \u001b[32m━━━━━━━━━━━━━━━━━━━━\u001b[0m\u001b[37m\u001b[0m \u001b[1m0s\u001b[0m 164ms/step - accuracy: 0.9978 - loss: 0.0075\n",
      "Epoch 100: val_accuracy did not improve from 0.99052\n",
      "\u001b[1m304/304\u001b[0m \u001b[32m━━━━━━━━━━━━━━━━━━━━\u001b[0m\u001b[37m\u001b[0m \u001b[1m54s\u001b[0m 176ms/step - accuracy: 0.9978 - loss: 0.0075 - val_accuracy: 0.9868 - val_loss: 0.0478\n",
      "Epoch 101/200\n",
      "\u001b[1m304/304\u001b[0m \u001b[32m━━━━━━━━━━━━━━━━━━━━\u001b[0m\u001b[37m\u001b[0m \u001b[1m0s\u001b[0m 171ms/step - accuracy: 0.9963 - loss: 0.0128\n",
      "Epoch 101: val_accuracy did not improve from 0.99052\n",
      "\u001b[1m304/304\u001b[0m \u001b[32m━━━━━━━━━━━━━━━━━━━━\u001b[0m\u001b[37m\u001b[0m \u001b[1m56s\u001b[0m 184ms/step - accuracy: 0.9963 - loss: 0.0128 - val_accuracy: 0.9876 - val_loss: 0.0427\n",
      "Epoch 102/200\n",
      "\u001b[1m304/304\u001b[0m \u001b[32m━━━━━━━━━━━━━━━━━━━━\u001b[0m\u001b[37m\u001b[0m \u001b[1m0s\u001b[0m 153ms/step - accuracy: 0.9954 - loss: 0.0197\n",
      "Epoch 102: val_accuracy did not improve from 0.99052\n",
      "\u001b[1m304/304\u001b[0m \u001b[32m━━━━━━━━━━━━━━━━━━━━\u001b[0m\u001b[37m\u001b[0m \u001b[1m50s\u001b[0m 165ms/step - accuracy: 0.9954 - loss: 0.0197 - val_accuracy: 0.9868 - val_loss: 0.0415\n",
      "Epoch 103/200\n",
      "\u001b[1m304/304\u001b[0m \u001b[32m━━━━━━━━━━━━━━━━━━━━\u001b[0m\u001b[37m\u001b[0m \u001b[1m0s\u001b[0m 155ms/step - accuracy: 0.9953 - loss: 0.0217\n",
      "Epoch 103: val_accuracy did not improve from 0.99052\n",
      "\u001b[1m304/304\u001b[0m \u001b[32m━━━━━━━━━━━━━━━━━━━━\u001b[0m\u001b[37m\u001b[0m \u001b[1m51s\u001b[0m 167ms/step - accuracy: 0.9953 - loss: 0.0216 - val_accuracy: 0.9860 - val_loss: 0.0627\n",
      "Epoch 104/200\n",
      "\u001b[1m304/304\u001b[0m \u001b[32m━━━━━━━━━━━━━━━━━━━━\u001b[0m\u001b[37m\u001b[0m \u001b[1m0s\u001b[0m 156ms/step - accuracy: 0.9990 - loss: 0.0040\n",
      "Epoch 104: val_accuracy did not improve from 0.99052\n",
      "\u001b[1m304/304\u001b[0m \u001b[32m━━━━━━━━━━━━━━━━━━━━\u001b[0m\u001b[37m\u001b[0m \u001b[1m51s\u001b[0m 168ms/step - accuracy: 0.9990 - loss: 0.0040 - val_accuracy: 0.9881 - val_loss: 0.0600\n",
      "Epoch 105/200\n",
      "\u001b[1m304/304\u001b[0m \u001b[32m━━━━━━━━━━━━━━━━━━━━\u001b[0m\u001b[37m\u001b[0m \u001b[1m0s\u001b[0m 167ms/step - accuracy: 0.9940 - loss: 0.0245\n",
      "Epoch 105: val_accuracy did not improve from 0.99052\n",
      "\u001b[1m304/304\u001b[0m \u001b[32m━━━━━━━━━━━━━━━━━━━━\u001b[0m\u001b[37m\u001b[0m \u001b[1m54s\u001b[0m 179ms/step - accuracy: 0.9940 - loss: 0.0245 - val_accuracy: 0.9885 - val_loss: 0.0344\n",
      "Epoch 106/200\n",
      "\u001b[1m304/304\u001b[0m \u001b[32m━━━━━━━━━━━━━━━━━━━━\u001b[0m\u001b[37m\u001b[0m \u001b[1m0s\u001b[0m 159ms/step - accuracy: 0.9866 - loss: 0.0664\n",
      "Epoch 106: val_accuracy did not improve from 0.99052\n",
      "\u001b[1m304/304\u001b[0m \u001b[32m━━━━━━━━━━━━━━━━━━━━\u001b[0m\u001b[37m\u001b[0m \u001b[1m52s\u001b[0m 170ms/step - accuracy: 0.9866 - loss: 0.0663 - val_accuracy: 0.9876 - val_loss: 0.0389\n",
      "Epoch 107/200\n",
      "\u001b[1m304/304\u001b[0m \u001b[32m━━━━━━━━━━━━━━━━━━━━\u001b[0m\u001b[37m\u001b[0m \u001b[1m0s\u001b[0m 168ms/step - accuracy: 0.9991 - loss: 0.0031\n",
      "Epoch 107: val_accuracy did not improve from 0.99052\n",
      "\u001b[1m304/304\u001b[0m \u001b[32m━━━━━━━━━━━━━━━━━━━━\u001b[0m\u001b[37m\u001b[0m \u001b[1m55s\u001b[0m 180ms/step - accuracy: 0.9991 - loss: 0.0031 - val_accuracy: 0.9901 - val_loss: 0.0316\n",
      "Epoch 108/200\n",
      "\u001b[1m304/304\u001b[0m \u001b[32m━━━━━━━━━━━━━━━━━━━━\u001b[0m\u001b[37m\u001b[0m \u001b[1m0s\u001b[0m 152ms/step - accuracy: 0.9995 - loss: 0.0014\n",
      "Epoch 108: val_accuracy did not improve from 0.99052\n",
      "\u001b[1m304/304\u001b[0m \u001b[32m━━━━━━━━━━━━━━━━━━━━\u001b[0m\u001b[37m\u001b[0m \u001b[1m50s\u001b[0m 166ms/step - accuracy: 0.9995 - loss: 0.0014 - val_accuracy: 0.9889 - val_loss: 0.0422\n",
      "Epoch 109/200\n",
      "\u001b[1m304/304\u001b[0m \u001b[32m━━━━━━━━━━━━━━━━━━━━\u001b[0m\u001b[37m\u001b[0m \u001b[1m0s\u001b[0m 161ms/step - accuracy: 0.9995 - loss: 0.0018\n",
      "Epoch 109: val_accuracy did not improve from 0.99052\n",
      "\u001b[1m304/304\u001b[0m \u001b[32m━━━━━━━━━━━━━━━━━━━━\u001b[0m\u001b[37m\u001b[0m \u001b[1m52s\u001b[0m 172ms/step - accuracy: 0.9995 - loss: 0.0018 - val_accuracy: 0.9802 - val_loss: 0.1465\n",
      "Epoch 110/200\n",
      "\u001b[1m304/304\u001b[0m \u001b[32m━━━━━━━━━━━━━━━━━━━━\u001b[0m\u001b[37m\u001b[0m \u001b[1m0s\u001b[0m 157ms/step - accuracy: 0.9901 - loss: 0.0502\n",
      "Epoch 110: val_accuracy did not improve from 0.99052\n",
      "\u001b[1m304/304\u001b[0m \u001b[32m━━━━━━━━━━━━━━━━━━━━\u001b[0m\u001b[37m\u001b[0m \u001b[1m51s\u001b[0m 168ms/step - accuracy: 0.9901 - loss: 0.0502 - val_accuracy: 0.9881 - val_loss: 0.0369\n",
      "Epoch 111/200\n",
      "\u001b[1m304/304\u001b[0m \u001b[32m━━━━━━━━━━━━━━━━━━━━\u001b[0m\u001b[37m\u001b[0m \u001b[1m0s\u001b[0m 160ms/step - accuracy: 0.9979 - loss: 0.0054\n",
      "Epoch 111: val_accuracy did not improve from 0.99052\n",
      "\u001b[1m304/304\u001b[0m \u001b[32m━━━━━━━━━━━━━━━━━━━━\u001b[0m\u001b[37m\u001b[0m \u001b[1m52s\u001b[0m 171ms/step - accuracy: 0.9979 - loss: 0.0054 - val_accuracy: 0.9889 - val_loss: 0.0361\n",
      "Epoch 112/200\n",
      "\u001b[1m304/304\u001b[0m \u001b[32m━━━━━━━━━━━━━━━━━━━━\u001b[0m\u001b[37m\u001b[0m \u001b[1m0s\u001b[0m 164ms/step - accuracy: 0.9984 - loss: 0.0059\n",
      "Epoch 112: val_accuracy did not improve from 0.99052\n",
      "\u001b[1m304/304\u001b[0m \u001b[32m━━━━━━━━━━━━━━━━━━━━\u001b[0m\u001b[37m\u001b[0m \u001b[1m54s\u001b[0m 178ms/step - accuracy: 0.9984 - loss: 0.0060 - val_accuracy: 0.9765 - val_loss: 0.0587\n",
      "Epoch 113/200\n",
      "\u001b[1m304/304\u001b[0m \u001b[32m━━━━━━━━━━━━━━━━━━━━\u001b[0m\u001b[37m\u001b[0m \u001b[1m0s\u001b[0m 183ms/step - accuracy: 0.9959 - loss: 0.0155\n",
      "Epoch 113: val_accuracy did not improve from 0.99052\n",
      "\u001b[1m304/304\u001b[0m \u001b[32m━━━━━━━━━━━━━━━━━━━━\u001b[0m\u001b[37m\u001b[0m \u001b[1m60s\u001b[0m 196ms/step - accuracy: 0.9959 - loss: 0.0155 - val_accuracy: 0.9872 - val_loss: 0.0409\n",
      "Epoch 114/200\n",
      "\u001b[1m304/304\u001b[0m \u001b[32m━━━━━━━━━━━━━━━━━━━━\u001b[0m\u001b[37m\u001b[0m \u001b[1m0s\u001b[0m 153ms/step - accuracy: 0.9990 - loss: 0.0054\n",
      "Epoch 114: val_accuracy did not improve from 0.99052\n",
      "\u001b[1m304/304\u001b[0m \u001b[32m━━━━━━━━━━━━━━━━━━━━\u001b[0m\u001b[37m\u001b[0m \u001b[1m50s\u001b[0m 165ms/step - accuracy: 0.9990 - loss: 0.0054 - val_accuracy: 0.9864 - val_loss: 0.0558\n",
      "Epoch 115/200\n",
      "\u001b[1m304/304\u001b[0m \u001b[32m━━━━━━━━━━━━━━━━━━━━\u001b[0m\u001b[37m\u001b[0m \u001b[1m0s\u001b[0m 154ms/step - accuracy: 0.9966 - loss: 0.0235\n",
      "Epoch 115: val_accuracy improved from 0.99052 to 0.99176, saving model to CNN2D_results/Scalogram_Spectrogram/best_model_1.h5\n"
     ]
    },
    {
     "name": "stderr",
     "output_type": "stream",
     "text": [
      "WARNING:absl:You are saving your model as an HDF5 file via `model.save()` or `keras.saving.save_model(model)`. This file format is considered legacy. We recommend using instead the native Keras format, e.g. `model.save('my_model.keras')` or `keras.saving.save_model(model, 'my_model.keras')`. \n"
     ]
    },
    {
     "name": "stdout",
     "output_type": "stream",
     "text": [
      "\u001b[1m304/304\u001b[0m \u001b[32m━━━━━━━━━━━━━━━━━━━━\u001b[0m\u001b[37m\u001b[0m \u001b[1m51s\u001b[0m 166ms/step - accuracy: 0.9966 - loss: 0.0235 - val_accuracy: 0.9918 - val_loss: 0.0318\n",
      "Epoch 116/200\n",
      "\u001b[1m304/304\u001b[0m \u001b[32m━━━━━━━━━━━━━━━━━━━━\u001b[0m\u001b[37m\u001b[0m \u001b[1m0s\u001b[0m 154ms/step - accuracy: 0.9994 - loss: 0.0033\n",
      "Epoch 116: val_accuracy did not improve from 0.99176\n",
      "\u001b[1m304/304\u001b[0m \u001b[32m━━━━━━━━━━━━━━━━━━━━\u001b[0m\u001b[37m\u001b[0m \u001b[1m50s\u001b[0m 165ms/step - accuracy: 0.9994 - loss: 0.0033 - val_accuracy: 0.9881 - val_loss: 0.0410\n",
      "Epoch 117/200\n",
      "\u001b[1m304/304\u001b[0m \u001b[32m━━━━━━━━━━━━━━━━━━━━\u001b[0m\u001b[37m\u001b[0m \u001b[1m0s\u001b[0m 152ms/step - accuracy: 0.9994 - loss: 0.0020\n",
      "Epoch 117: val_accuracy did not improve from 0.99176\n",
      "\u001b[1m304/304\u001b[0m \u001b[32m━━━━━━━━━━━━━━━━━━━━\u001b[0m\u001b[37m\u001b[0m \u001b[1m50s\u001b[0m 163ms/step - accuracy: 0.9994 - loss: 0.0020 - val_accuracy: 0.9889 - val_loss: 0.0372\n",
      "Epoch 118/200\n",
      "\u001b[1m304/304\u001b[0m \u001b[32m━━━━━━━━━━━━━━━━━━━━\u001b[0m\u001b[37m\u001b[0m \u001b[1m0s\u001b[0m 154ms/step - accuracy: 0.9994 - loss: 8.1572e-04\n",
      "Epoch 118: val_accuracy did not improve from 0.99176\n",
      "\u001b[1m304/304\u001b[0m \u001b[32m━━━━━━━━━━━━━━━━━━━━\u001b[0m\u001b[37m\u001b[0m \u001b[1m50s\u001b[0m 165ms/step - accuracy: 0.9994 - loss: 8.1495e-04 - val_accuracy: 0.9918 - val_loss: 0.0392\n",
      "Epoch 119/200\n",
      "\u001b[1m304/304\u001b[0m \u001b[32m━━━━━━━━━━━━━━━━━━━━\u001b[0m\u001b[37m\u001b[0m \u001b[1m0s\u001b[0m 154ms/step - accuracy: 0.9954 - loss: 0.0220\n",
      "Epoch 119: val_accuracy did not improve from 0.99176\n",
      "\u001b[1m304/304\u001b[0m \u001b[32m━━━━━━━━━━━━━━━━━━━━\u001b[0m\u001b[37m\u001b[0m \u001b[1m50s\u001b[0m 165ms/step - accuracy: 0.9954 - loss: 0.0221 - val_accuracy: 0.9872 - val_loss: 0.0387\n",
      "Epoch 120/200\n",
      "\u001b[1m304/304\u001b[0m \u001b[32m━━━━━━━━━━━━━━━━━━━━\u001b[0m\u001b[37m\u001b[0m \u001b[1m0s\u001b[0m 152ms/step - accuracy: 0.9969 - loss: 0.0083\n",
      "Epoch 120: val_accuracy did not improve from 0.99176\n",
      "\u001b[1m304/304\u001b[0m \u001b[32m━━━━━━━━━━━━━━━━━━━━\u001b[0m\u001b[37m\u001b[0m \u001b[1m50s\u001b[0m 164ms/step - accuracy: 0.9969 - loss: 0.0083 - val_accuracy: 0.9881 - val_loss: 0.0371\n",
      "Epoch 121/200\n",
      "\u001b[1m304/304\u001b[0m \u001b[32m━━━━━━━━━━━━━━━━━━━━\u001b[0m\u001b[37m\u001b[0m \u001b[1m0s\u001b[0m 150ms/step - accuracy: 0.9937 - loss: 0.0193\n",
      "Epoch 121: val_accuracy did not improve from 0.99176\n",
      "\u001b[1m304/304\u001b[0m \u001b[32m━━━━━━━━━━━━━━━━━━━━\u001b[0m\u001b[37m\u001b[0m \u001b[1m49s\u001b[0m 162ms/step - accuracy: 0.9937 - loss: 0.0192 - val_accuracy: 0.9864 - val_loss: 0.0476\n",
      "Epoch 122/200\n",
      "\u001b[1m304/304\u001b[0m \u001b[32m━━━━━━━━━━━━━━━━━━━━\u001b[0m\u001b[37m\u001b[0m \u001b[1m0s\u001b[0m 152ms/step - accuracy: 0.9979 - loss: 0.0041\n",
      "Epoch 122: val_accuracy did not improve from 0.99176\n",
      "\u001b[1m304/304\u001b[0m \u001b[32m━━━━━━━━━━━━━━━━━━━━\u001b[0m\u001b[37m\u001b[0m \u001b[1m50s\u001b[0m 163ms/step - accuracy: 0.9979 - loss: 0.0041 - val_accuracy: 0.9893 - val_loss: 0.0412\n",
      "Epoch 123/200\n",
      "\u001b[1m304/304\u001b[0m \u001b[32m━━━━━━━━━━━━━━━━━━━━\u001b[0m\u001b[37m\u001b[0m \u001b[1m0s\u001b[0m 153ms/step - accuracy: 0.9959 - loss: 0.0179\n",
      "Epoch 123: val_accuracy did not improve from 0.99176\n",
      "\u001b[1m304/304\u001b[0m \u001b[32m━━━━━━━━━━━━━━━━━━━━\u001b[0m\u001b[37m\u001b[0m \u001b[1m50s\u001b[0m 164ms/step - accuracy: 0.9959 - loss: 0.0179 - val_accuracy: 0.9852 - val_loss: 0.0476\n",
      "Epoch 124/200\n",
      "\u001b[1m304/304\u001b[0m \u001b[32m━━━━━━━━━━━━━━━━━━━━\u001b[0m\u001b[37m\u001b[0m \u001b[1m0s\u001b[0m 153ms/step - accuracy: 0.9989 - loss: 0.0033\n",
      "Epoch 124: val_accuracy did not improve from 0.99176\n",
      "\u001b[1m304/304\u001b[0m \u001b[32m━━━━━━━━━━━━━━━━━━━━\u001b[0m\u001b[37m\u001b[0m \u001b[1m50s\u001b[0m 164ms/step - accuracy: 0.9989 - loss: 0.0033 - val_accuracy: 0.9885 - val_loss: 0.0522\n",
      "Epoch 125/200\n",
      "\u001b[1m304/304\u001b[0m \u001b[32m━━━━━━━━━━━━━━━━━━━━\u001b[0m\u001b[37m\u001b[0m \u001b[1m0s\u001b[0m 153ms/step - accuracy: 0.9997 - loss: 7.2839e-04\n",
      "Epoch 125: val_accuracy did not improve from 0.99176\n",
      "\u001b[1m304/304\u001b[0m \u001b[32m━━━━━━━━━━━━━━━━━━━━\u001b[0m\u001b[37m\u001b[0m \u001b[1m50s\u001b[0m 165ms/step - accuracy: 0.9997 - loss: 7.2802e-04 - val_accuracy: 0.9905 - val_loss: 0.0445\n",
      "Epoch 126/200\n",
      "\u001b[1m304/304\u001b[0m \u001b[32m━━━━━━━━━━━━━━━━━━━━\u001b[0m\u001b[37m\u001b[0m \u001b[1m0s\u001b[0m 171ms/step - accuracy: 1.0000 - loss: 2.4340e-04\n",
      "Epoch 126: val_accuracy did not improve from 0.99176\n",
      "\u001b[1m304/304\u001b[0m \u001b[32m━━━━━━━━━━━━━━━━━━━━\u001b[0m\u001b[37m\u001b[0m \u001b[1m56s\u001b[0m 186ms/step - accuracy: 1.0000 - loss: 2.4304e-04 - val_accuracy: 0.9893 - val_loss: 0.0578\n",
      "Epoch 127/200\n",
      "\u001b[1m304/304\u001b[0m \u001b[32m━━━━━━━━━━━━━━━━━━━━\u001b[0m\u001b[37m\u001b[0m \u001b[1m0s\u001b[0m 170ms/step - accuracy: 1.0000 - loss: 6.8645e-05\n",
      "Epoch 127: val_accuracy did not improve from 0.99176\n",
      "\u001b[1m304/304\u001b[0m \u001b[32m━━━━━━━━━━━━━━━━━━━━\u001b[0m\u001b[37m\u001b[0m \u001b[1m56s\u001b[0m 182ms/step - accuracy: 1.0000 - loss: 6.9000e-05 - val_accuracy: 0.9901 - val_loss: 0.0496\n",
      "Epoch 128/200\n",
      "\u001b[1m304/304\u001b[0m \u001b[32m━━━━━━━━━━━━━━━━━━━━\u001b[0m\u001b[37m\u001b[0m \u001b[1m0s\u001b[0m 154ms/step - accuracy: 0.9985 - loss: 0.0060\n",
      "Epoch 128: val_accuracy did not improve from 0.99176\n",
      "\u001b[1m304/304\u001b[0m \u001b[32m━━━━━━━━━━━━━━━━━━━━\u001b[0m\u001b[37m\u001b[0m \u001b[1m50s\u001b[0m 165ms/step - accuracy: 0.9985 - loss: 0.0060 - val_accuracy: 0.9885 - val_loss: 0.0362\n",
      "Epoch 129/200\n",
      "\u001b[1m304/304\u001b[0m \u001b[32m━━━━━━━━━━━━━━━━━━━━\u001b[0m\u001b[37m\u001b[0m \u001b[1m0s\u001b[0m 155ms/step - accuracy: 0.9926 - loss: 0.0250\n",
      "Epoch 129: val_accuracy did not improve from 0.99176\n",
      "\u001b[1m304/304\u001b[0m \u001b[32m━━━━━━━━━━━━━━━━━━━━\u001b[0m\u001b[37m\u001b[0m \u001b[1m51s\u001b[0m 167ms/step - accuracy: 0.9926 - loss: 0.0250 - val_accuracy: 0.9881 - val_loss: 0.0444\n",
      "Epoch 130/200\n",
      "\u001b[1m304/304\u001b[0m \u001b[32m━━━━━━━━━━━━━━━━━━━━\u001b[0m\u001b[37m\u001b[0m \u001b[1m0s\u001b[0m 183ms/step - accuracy: 0.9974 - loss: 0.0094\n",
      "Epoch 130: val_accuracy did not improve from 0.99176\n",
      "\u001b[1m304/304\u001b[0m \u001b[32m━━━━━━━━━━━━━━━━━━━━\u001b[0m\u001b[37m\u001b[0m \u001b[1m60s\u001b[0m 198ms/step - accuracy: 0.9974 - loss: 0.0094 - val_accuracy: 0.9860 - val_loss: 0.0469\n",
      "Epoch 131/200\n",
      "\u001b[1m304/304\u001b[0m \u001b[32m━━━━━━━━━━━━━━━━━━━━\u001b[0m\u001b[37m\u001b[0m \u001b[1m0s\u001b[0m 156ms/step - accuracy: 0.9969 - loss: 0.0248\n",
      "Epoch 131: val_accuracy did not improve from 0.99176\n",
      "\u001b[1m304/304\u001b[0m \u001b[32m━━━━━━━━━━━━━━━━━━━━\u001b[0m\u001b[37m\u001b[0m \u001b[1m51s\u001b[0m 168ms/step - accuracy: 0.9969 - loss: 0.0248 - val_accuracy: 0.9885 - val_loss: 0.0318\n",
      "Epoch 132/200\n",
      "\u001b[1m304/304\u001b[0m \u001b[32m━━━━━━━━━━━━━━━━━━━━\u001b[0m\u001b[37m\u001b[0m \u001b[1m0s\u001b[0m 175ms/step - accuracy: 0.9987 - loss: 0.0032\n",
      "Epoch 132: val_accuracy did not improve from 0.99176\n",
      "\u001b[1m304/304\u001b[0m \u001b[32m━━━━━━━━━━━━━━━━━━━━\u001b[0m\u001b[37m\u001b[0m \u001b[1m57s\u001b[0m 188ms/step - accuracy: 0.9987 - loss: 0.0032 - val_accuracy: 0.9885 - val_loss: 0.0796\n",
      "Epoch 133/200\n",
      "\u001b[1m304/304\u001b[0m \u001b[32m━━━━━━━━━━━━━━━━━━━━\u001b[0m\u001b[37m\u001b[0m \u001b[1m0s\u001b[0m 177ms/step - accuracy: 0.9975 - loss: 0.0116\n",
      "Epoch 133: val_accuracy did not improve from 0.99176\n",
      "\u001b[1m304/304\u001b[0m \u001b[32m━━━━━━━━━━━━━━━━━━━━\u001b[0m\u001b[37m\u001b[0m \u001b[1m57s\u001b[0m 189ms/step - accuracy: 0.9975 - loss: 0.0116 - val_accuracy: 0.9773 - val_loss: 0.0886\n",
      "Epoch 134/200\n",
      "\u001b[1m304/304\u001b[0m \u001b[32m━━━━━━━━━━━━━━━━━━━━\u001b[0m\u001b[37m\u001b[0m \u001b[1m0s\u001b[0m 166ms/step - accuracy: 0.9963 - loss: 0.0128\n",
      "Epoch 134: val_accuracy did not improve from 0.99176\n",
      "\u001b[1m304/304\u001b[0m \u001b[32m━━━━━━━━━━━━━━━━━━━━\u001b[0m\u001b[37m\u001b[0m \u001b[1m54s\u001b[0m 178ms/step - accuracy: 0.9963 - loss: 0.0128 - val_accuracy: 0.9881 - val_loss: 0.0430\n",
      "Epoch 135/200\n",
      "\u001b[1m304/304\u001b[0m \u001b[32m━━━━━━━━━━━━━━━━━━━━\u001b[0m\u001b[37m\u001b[0m \u001b[1m0s\u001b[0m 163ms/step - accuracy: 0.9941 - loss: 0.0230\n",
      "Epoch 135: val_accuracy did not improve from 0.99176\n",
      "\u001b[1m304/304\u001b[0m \u001b[32m━━━━━━━━━━━━━━━━━━━━\u001b[0m\u001b[37m\u001b[0m \u001b[1m53s\u001b[0m 174ms/step - accuracy: 0.9941 - loss: 0.0230 - val_accuracy: 0.9881 - val_loss: 0.0396\n",
      "Epoch 136/200\n",
      "\u001b[1m304/304\u001b[0m \u001b[32m━━━━━━━━━━━━━━━━━━━━\u001b[0m\u001b[37m\u001b[0m \u001b[1m0s\u001b[0m 158ms/step - accuracy: 0.9974 - loss: 0.0126\n",
      "Epoch 136: val_accuracy did not improve from 0.99176\n",
      "\u001b[1m304/304\u001b[0m \u001b[32m━━━━━━━━━━━━━━━━━━━━\u001b[0m\u001b[37m\u001b[0m \u001b[1m52s\u001b[0m 171ms/step - accuracy: 0.9974 - loss: 0.0126 - val_accuracy: 0.9843 - val_loss: 0.0606\n",
      "Epoch 137/200\n",
      "\u001b[1m304/304\u001b[0m \u001b[32m━━━━━━━━━━━━━━━━━━━━\u001b[0m\u001b[37m\u001b[0m \u001b[1m0s\u001b[0m 159ms/step - accuracy: 0.9950 - loss: 0.0186\n",
      "Epoch 137: val_accuracy did not improve from 0.99176\n",
      "\u001b[1m304/304\u001b[0m \u001b[32m━━━━━━━━━━━━━━━━━━━━\u001b[0m\u001b[37m\u001b[0m \u001b[1m52s\u001b[0m 170ms/step - accuracy: 0.9950 - loss: 0.0186 - val_accuracy: 0.9901 - val_loss: 0.0373\n",
      "Epoch 138/200\n",
      "\u001b[1m304/304\u001b[0m \u001b[32m━━━━━━━━━━━━━━━━━━━━\u001b[0m\u001b[37m\u001b[0m \u001b[1m0s\u001b[0m 159ms/step - accuracy: 0.9983 - loss: 0.0064\n",
      "Epoch 138: val_accuracy did not improve from 0.99176\n",
      "\u001b[1m304/304\u001b[0m \u001b[32m━━━━━━━━━━━━━━━━━━━━\u001b[0m\u001b[37m\u001b[0m \u001b[1m52s\u001b[0m 170ms/step - accuracy: 0.9982 - loss: 0.0064 - val_accuracy: 0.9831 - val_loss: 0.0596\n",
      "Epoch 139/200\n",
      "\u001b[1m304/304\u001b[0m \u001b[32m━━━━━━━━━━━━━━━━━━━━\u001b[0m\u001b[37m\u001b[0m \u001b[1m0s\u001b[0m 183ms/step - accuracy: 0.9939 - loss: 0.0261\n",
      "Epoch 139: val_accuracy did not improve from 0.99176\n",
      "\u001b[1m304/304\u001b[0m \u001b[32m━━━━━━━━━━━━━━━━━━━━\u001b[0m\u001b[37m\u001b[0m \u001b[1m59s\u001b[0m 195ms/step - accuracy: 0.9939 - loss: 0.0260 - val_accuracy: 0.9843 - val_loss: 0.0422\n",
      "Epoch 140/200\n",
      "\u001b[1m304/304\u001b[0m \u001b[32m━━━━━━━━━━━━━━━━━━━━\u001b[0m\u001b[37m\u001b[0m \u001b[1m0s\u001b[0m 172ms/step - accuracy: 0.9949 - loss: 0.0177\n",
      "Epoch 140: val_accuracy did not improve from 0.99176\n",
      "\u001b[1m304/304\u001b[0m \u001b[32m━━━━━━━━━━━━━━━━━━━━\u001b[0m\u001b[37m\u001b[0m \u001b[1m56s\u001b[0m 184ms/step - accuracy: 0.9949 - loss: 0.0177 - val_accuracy: 0.9881 - val_loss: 0.0373\n",
      "Epoch 141/200\n",
      "\u001b[1m304/304\u001b[0m \u001b[32m━━━━━━━━━━━━━━━━━━━━\u001b[0m\u001b[37m\u001b[0m \u001b[1m0s\u001b[0m 163ms/step - accuracy: 0.9989 - loss: 0.0054\n",
      "Epoch 141: val_accuracy did not improve from 0.99176\n",
      "\u001b[1m304/304\u001b[0m \u001b[32m━━━━━━━━━━━━━━━━━━━━\u001b[0m\u001b[37m\u001b[0m \u001b[1m53s\u001b[0m 175ms/step - accuracy: 0.9989 - loss: 0.0054 - val_accuracy: 0.9848 - val_loss: 0.0362\n",
      "Epoch 142/200\n",
      "\u001b[1m304/304\u001b[0m \u001b[32m━━━━━━━━━━━━━━━━━━━━\u001b[0m\u001b[37m\u001b[0m \u001b[1m0s\u001b[0m 156ms/step - accuracy: 0.9983 - loss: 0.0032\n",
      "Epoch 142: val_accuracy did not improve from 0.99176\n",
      "\u001b[1m304/304\u001b[0m \u001b[32m━━━━━━━━━━━━━━━━━━━━\u001b[0m\u001b[37m\u001b[0m \u001b[1m51s\u001b[0m 168ms/step - accuracy: 0.9983 - loss: 0.0032 - val_accuracy: 0.9901 - val_loss: 0.0369\n",
      "Epoch 143/200\n",
      "\u001b[1m304/304\u001b[0m \u001b[32m━━━━━━━━━━━━━━━━━━━━\u001b[0m\u001b[37m\u001b[0m \u001b[1m0s\u001b[0m 157ms/step - accuracy: 1.0000 - loss: 2.7449e-04\n",
      "Epoch 143: val_accuracy did not improve from 0.99176\n",
      "\u001b[1m304/304\u001b[0m \u001b[32m━━━━━━━━━━━━━━━━━━━━\u001b[0m\u001b[37m\u001b[0m \u001b[1m51s\u001b[0m 168ms/step - accuracy: 1.0000 - loss: 2.7518e-04 - val_accuracy: 0.9905 - val_loss: 0.0442\n",
      "Epoch 144/200\n",
      "\u001b[1m304/304\u001b[0m \u001b[32m━━━━━━━━━━━━━━━━━━━━\u001b[0m\u001b[37m\u001b[0m \u001b[1m0s\u001b[0m 159ms/step - accuracy: 0.9998 - loss: 0.0016\n",
      "Epoch 144: val_accuracy did not improve from 0.99176\n",
      "\u001b[1m304/304\u001b[0m \u001b[32m━━━━━━━━━━━━━━━━━━━━\u001b[0m\u001b[37m\u001b[0m \u001b[1m52s\u001b[0m 171ms/step - accuracy: 0.9998 - loss: 0.0016 - val_accuracy: 0.9889 - val_loss: 0.0556\n",
      "Epoch 145/200\n",
      "\u001b[1m304/304\u001b[0m \u001b[32m━━━━━━━━━━━━━━━━━━━━\u001b[0m\u001b[37m\u001b[0m \u001b[1m0s\u001b[0m 156ms/step - accuracy: 0.9941 - loss: 0.0329\n",
      "Epoch 145: val_accuracy did not improve from 0.99176\n",
      "\u001b[1m304/304\u001b[0m \u001b[32m━━━━━━━━━━━━━━━━━━━━\u001b[0m\u001b[37m\u001b[0m \u001b[1m51s\u001b[0m 168ms/step - accuracy: 0.9941 - loss: 0.0329 - val_accuracy: 0.9860 - val_loss: 0.0387\n",
      "Epoch 146/200\n",
      "\u001b[1m304/304\u001b[0m \u001b[32m━━━━━━━━━━━━━━━━━━━━\u001b[0m\u001b[37m\u001b[0m \u001b[1m0s\u001b[0m 159ms/step - accuracy: 0.9991 - loss: 0.0041\n",
      "Epoch 146: val_accuracy did not improve from 0.99176\n",
      "\u001b[1m304/304\u001b[0m \u001b[32m━━━━━━━━━━━━━━━━━━━━\u001b[0m\u001b[37m\u001b[0m \u001b[1m52s\u001b[0m 171ms/step - accuracy: 0.9991 - loss: 0.0041 - val_accuracy: 0.9827 - val_loss: 0.0583\n",
      "Epoch 147/200\n",
      "\u001b[1m304/304\u001b[0m \u001b[32m━━━━━━━━━━━━━━━━━━━━\u001b[0m\u001b[37m\u001b[0m \u001b[1m0s\u001b[0m 159ms/step - accuracy: 0.9969 - loss: 0.0068\n",
      "Epoch 147: val_accuracy did not improve from 0.99176\n",
      "\u001b[1m304/304\u001b[0m \u001b[32m━━━━━━━━━━━━━━━━━━━━\u001b[0m\u001b[37m\u001b[0m \u001b[1m52s\u001b[0m 171ms/step - accuracy: 0.9969 - loss: 0.0068 - val_accuracy: 0.9881 - val_loss: 0.0423\n",
      "Epoch 148/200\n",
      "\u001b[1m304/304\u001b[0m \u001b[32m━━━━━━━━━━━━━━━━━━━━\u001b[0m\u001b[37m\u001b[0m \u001b[1m0s\u001b[0m 157ms/step - accuracy: 0.9998 - loss: 9.1667e-04\n",
      "Epoch 148: val_accuracy did not improve from 0.99176\n",
      "\u001b[1m304/304\u001b[0m \u001b[32m━━━━━━━━━━━━━━━━━━━━\u001b[0m\u001b[37m\u001b[0m \u001b[1m51s\u001b[0m 169ms/step - accuracy: 0.9998 - loss: 9.1598e-04 - val_accuracy: 0.9901 - val_loss: 0.0464\n",
      "Epoch 149/200\n",
      "\u001b[1m304/304\u001b[0m \u001b[32m━━━━━━━━━━━━━━━━━━━━\u001b[0m\u001b[37m\u001b[0m \u001b[1m0s\u001b[0m 158ms/step - accuracy: 0.9984 - loss: 0.0077\n",
      "Epoch 149: val_accuracy did not improve from 0.99176\n",
      "\u001b[1m304/304\u001b[0m \u001b[32m━━━━━━━━━━━━━━━━━━━━\u001b[0m\u001b[37m\u001b[0m \u001b[1m52s\u001b[0m 170ms/step - accuracy: 0.9983 - loss: 0.0077 - val_accuracy: 0.9860 - val_loss: 0.0456\n",
      "Epoch 150/200\n",
      "\u001b[1m304/304\u001b[0m \u001b[32m━━━━━━━━━━━━━━━━━━━━\u001b[0m\u001b[37m\u001b[0m \u001b[1m0s\u001b[0m 163ms/step - accuracy: 0.9994 - loss: 0.0032\n",
      "Epoch 150: val_accuracy did not improve from 0.99176\n",
      "\u001b[1m304/304\u001b[0m \u001b[32m━━━━━━━━━━━━━━━━━━━━\u001b[0m\u001b[37m\u001b[0m \u001b[1m53s\u001b[0m 175ms/step - accuracy: 0.9994 - loss: 0.0033 - val_accuracy: 0.9913 - val_loss: 0.0288\n",
      "Epoch 151/200\n",
      "\u001b[1m304/304\u001b[0m \u001b[32m━━━━━━━━━━━━━━━━━━━━\u001b[0m\u001b[37m\u001b[0m \u001b[1m0s\u001b[0m 159ms/step - accuracy: 0.9992 - loss: 0.0025\n",
      "Epoch 151: val_accuracy did not improve from 0.99176\n",
      "\u001b[1m304/304\u001b[0m \u001b[32m━━━━━━━━━━━━━━━━━━━━\u001b[0m\u001b[37m\u001b[0m \u001b[1m53s\u001b[0m 173ms/step - accuracy: 0.9992 - loss: 0.0025 - val_accuracy: 0.9712 - val_loss: 0.0858\n",
      "Epoch 152/200\n",
      "\u001b[1m304/304\u001b[0m \u001b[32m━━━━━━━━━━━━━━━━━━━━\u001b[0m\u001b[37m\u001b[0m \u001b[1m0s\u001b[0m 164ms/step - accuracy: 0.9950 - loss: 0.0152\n",
      "Epoch 152: val_accuracy did not improve from 0.99176\n",
      "\u001b[1m304/304\u001b[0m \u001b[32m━━━━━━━━━━━━━━━━━━━━\u001b[0m\u001b[37m\u001b[0m \u001b[1m54s\u001b[0m 177ms/step - accuracy: 0.9950 - loss: 0.0151 - val_accuracy: 0.9881 - val_loss: 0.0531\n",
      "Epoch 153/200\n",
      "\u001b[1m304/304\u001b[0m \u001b[32m━━━━━━━━━━━━━━━━━━━━\u001b[0m\u001b[37m\u001b[0m \u001b[1m0s\u001b[0m 165ms/step - accuracy: 0.9884 - loss: 0.0519\n",
      "Epoch 153: val_accuracy did not improve from 0.99176\n",
      "\u001b[1m304/304\u001b[0m \u001b[32m━━━━━━━━━━━━━━━━━━━━\u001b[0m\u001b[37m\u001b[0m \u001b[1m54s\u001b[0m 176ms/step - accuracy: 0.9884 - loss: 0.0519 - val_accuracy: 0.9872 - val_loss: 0.0494\n",
      "Epoch 154/200\n",
      "\u001b[1m304/304\u001b[0m \u001b[32m━━━━━━━━━━━━━━━━━━━━\u001b[0m\u001b[37m\u001b[0m \u001b[1m0s\u001b[0m 173ms/step - accuracy: 0.9984 - loss: 0.0058\n",
      "Epoch 154: val_accuracy did not improve from 0.99176\n",
      "\u001b[1m304/304\u001b[0m \u001b[32m━━━━━━━━━━━━━━━━━━━━\u001b[0m\u001b[37m\u001b[0m \u001b[1m56s\u001b[0m 185ms/step - accuracy: 0.9984 - loss: 0.0058 - val_accuracy: 0.9897 - val_loss: 0.0356\n",
      "Epoch 155/200\n",
      "\u001b[1m304/304\u001b[0m \u001b[32m━━━━━━━━━━━━━━━━━━━━\u001b[0m\u001b[37m\u001b[0m \u001b[1m0s\u001b[0m 161ms/step - accuracy: 0.9999 - loss: 6.6493e-04\n",
      "Epoch 155: val_accuracy did not improve from 0.99176\n",
      "\u001b[1m304/304\u001b[0m \u001b[32m━━━━━━━━━━━━━━━━━━━━\u001b[0m\u001b[37m\u001b[0m \u001b[1m52s\u001b[0m 173ms/step - accuracy: 0.9999 - loss: 6.6450e-04 - val_accuracy: 0.9897 - val_loss: 0.0406\n",
      "Epoch 156/200\n",
      "\u001b[1m304/304\u001b[0m \u001b[32m━━━━━━━━━━━━━━━━━━━━\u001b[0m\u001b[37m\u001b[0m \u001b[1m0s\u001b[0m 167ms/step - accuracy: 0.9999 - loss: 5.2609e-04\n",
      "Epoch 156: val_accuracy did not improve from 0.99176\n",
      "\u001b[1m304/304\u001b[0m \u001b[32m━━━━━━━━━━━━━━━━━━━━\u001b[0m\u001b[37m\u001b[0m \u001b[1m54s\u001b[0m 179ms/step - accuracy: 0.9999 - loss: 5.2765e-04 - val_accuracy: 0.9876 - val_loss: 0.0461\n",
      "Epoch 157/200\n",
      "\u001b[1m304/304\u001b[0m \u001b[32m━━━━━━━━━━━━━━━━━━━━\u001b[0m\u001b[37m\u001b[0m \u001b[1m0s\u001b[0m 169ms/step - accuracy: 0.9997 - loss: 6.7417e-04\n",
      "Epoch 157: val_accuracy did not improve from 0.99176\n",
      "\u001b[1m304/304\u001b[0m \u001b[32m━━━━━━━━━━━━━━━━━━━━\u001b[0m\u001b[37m\u001b[0m \u001b[1m55s\u001b[0m 181ms/step - accuracy: 0.9997 - loss: 6.7292e-04 - val_accuracy: 0.9913 - val_loss: 0.0434\n",
      "Epoch 158/200\n",
      "\u001b[1m304/304\u001b[0m \u001b[32m━━━━━━━━━━━━━━━━━━━━\u001b[0m\u001b[37m\u001b[0m \u001b[1m0s\u001b[0m 162ms/step - accuracy: 1.0000 - loss: 5.9856e-05\n",
      "Epoch 158: val_accuracy improved from 0.99176 to 0.99217, saving model to CNN2D_results/Scalogram_Spectrogram/best_model_1.h5\n"
     ]
    },
    {
     "name": "stderr",
     "output_type": "stream",
     "text": [
      "WARNING:absl:You are saving your model as an HDF5 file via `model.save()` or `keras.saving.save_model(model)`. This file format is considered legacy. We recommend using instead the native Keras format, e.g. `model.save('my_model.keras')` or `keras.saving.save_model(model, 'my_model.keras')`. \n"
     ]
    },
    {
     "name": "stdout",
     "output_type": "stream",
     "text": [
      "\u001b[1m304/304\u001b[0m \u001b[32m━━━━━━━━━━━━━━━━━━━━\u001b[0m\u001b[37m\u001b[0m \u001b[1m53s\u001b[0m 174ms/step - accuracy: 1.0000 - loss: 5.9796e-05 - val_accuracy: 0.9922 - val_loss: 0.0449\n",
      "Epoch 159/200\n",
      "\u001b[1m304/304\u001b[0m \u001b[32m━━━━━━━━━━━━━━━━━━━━\u001b[0m\u001b[37m\u001b[0m \u001b[1m0s\u001b[0m 159ms/step - accuracy: 0.9982 - loss: 0.0087\n",
      "Epoch 159: val_accuracy did not improve from 0.99217\n",
      "\u001b[1m304/304\u001b[0m \u001b[32m━━━━━━━━━━━━━━━━━━━━\u001b[0m\u001b[37m\u001b[0m \u001b[1m52s\u001b[0m 170ms/step - accuracy: 0.9982 - loss: 0.0087 - val_accuracy: 0.9868 - val_loss: 0.0423\n",
      "Epoch 160/200\n",
      "\u001b[1m304/304\u001b[0m \u001b[32m━━━━━━━━━━━━━━━━━━━━\u001b[0m\u001b[37m\u001b[0m \u001b[1m0s\u001b[0m 168ms/step - accuracy: 0.9992 - loss: 0.0028\n",
      "Epoch 160: val_accuracy did not improve from 0.99217\n",
      "\u001b[1m304/304\u001b[0m \u001b[32m━━━━━━━━━━━━━━━━━━━━\u001b[0m\u001b[37m\u001b[0m \u001b[1m56s\u001b[0m 183ms/step - accuracy: 0.9992 - loss: 0.0028 - val_accuracy: 0.9881 - val_loss: 0.0401\n",
      "Epoch 161/200\n",
      "\u001b[1m304/304\u001b[0m \u001b[32m━━━━━━━━━━━━━━━━━━━━\u001b[0m\u001b[37m\u001b[0m \u001b[1m0s\u001b[0m 161ms/step - accuracy: 0.9965 - loss: 0.0154\n",
      "Epoch 161: val_accuracy did not improve from 0.99217\n",
      "\u001b[1m304/304\u001b[0m \u001b[32m━━━━━━━━━━━━━━━━━━━━\u001b[0m\u001b[37m\u001b[0m \u001b[1m52s\u001b[0m 172ms/step - accuracy: 0.9965 - loss: 0.0154 - val_accuracy: 0.9872 - val_loss: 0.0342\n",
      "Epoch 162/200\n",
      "\u001b[1m304/304\u001b[0m \u001b[32m━━━━━━━━━━━━━━━━━━━━\u001b[0m\u001b[37m\u001b[0m \u001b[1m0s\u001b[0m 158ms/step - accuracy: 0.9959 - loss: 0.0189\n",
      "Epoch 162: val_accuracy did not improve from 0.99217\n",
      "\u001b[1m304/304\u001b[0m \u001b[32m━━━━━━━━━━━━━━━━━━━━\u001b[0m\u001b[37m\u001b[0m \u001b[1m52s\u001b[0m 171ms/step - accuracy: 0.9959 - loss: 0.0189 - val_accuracy: 0.9856 - val_loss: 0.0439\n",
      "Epoch 163/200\n",
      "\u001b[1m304/304\u001b[0m \u001b[32m━━━━━━━━━━━━━━━━━━━━\u001b[0m\u001b[37m\u001b[0m \u001b[1m0s\u001b[0m 174ms/step - accuracy: 0.9922 - loss: 0.0292\n",
      "Epoch 163: val_accuracy did not improve from 0.99217\n",
      "\u001b[1m304/304\u001b[0m \u001b[32m━━━━━━━━━━━━━━━━━━━━\u001b[0m\u001b[37m\u001b[0m \u001b[1m57s\u001b[0m 187ms/step - accuracy: 0.9922 - loss: 0.0292 - val_accuracy: 0.9909 - val_loss: 0.0362\n",
      "Epoch 164/200\n",
      "\u001b[1m304/304\u001b[0m \u001b[32m━━━━━━━━━━━━━━━━━━━━\u001b[0m\u001b[37m\u001b[0m \u001b[1m0s\u001b[0m 163ms/step - accuracy: 0.9998 - loss: 0.0014\n",
      "Epoch 164: val_accuracy did not improve from 0.99217\n",
      "\u001b[1m304/304\u001b[0m \u001b[32m━━━━━━━━━━━━━━━━━━━━\u001b[0m\u001b[37m\u001b[0m \u001b[1m53s\u001b[0m 174ms/step - accuracy: 0.9997 - loss: 0.0015 - val_accuracy: 0.9716 - val_loss: 0.1293\n",
      "Epoch 165/200\n",
      "\u001b[1m304/304\u001b[0m \u001b[32m━━━━━━━━━━━━━━━━━━━━\u001b[0m\u001b[37m\u001b[0m \u001b[1m0s\u001b[0m 155ms/step - accuracy: 0.9814 - loss: 0.0860\n",
      "Epoch 165: val_accuracy did not improve from 0.99217\n",
      "\u001b[1m304/304\u001b[0m \u001b[32m━━━━━━━━━━━━━━━━━━━━\u001b[0m\u001b[37m\u001b[0m \u001b[1m51s\u001b[0m 166ms/step - accuracy: 0.9814 - loss: 0.0858 - val_accuracy: 0.9868 - val_loss: 0.0419\n",
      "Epoch 166/200\n",
      "\u001b[1m304/304\u001b[0m \u001b[32m━━━━━━━━━━━━━━━━━━━━\u001b[0m\u001b[37m\u001b[0m \u001b[1m0s\u001b[0m 151ms/step - accuracy: 0.9991 - loss: 0.0038\n",
      "Epoch 166: val_accuracy did not improve from 0.99217\n",
      "\u001b[1m304/304\u001b[0m \u001b[32m━━━━━━━━━━━━━━━━━━━━\u001b[0m\u001b[37m\u001b[0m \u001b[1m49s\u001b[0m 162ms/step - accuracy: 0.9991 - loss: 0.0038 - val_accuracy: 0.9885 - val_loss: 0.0367\n",
      "Epoch 167/200\n",
      "\u001b[1m304/304\u001b[0m \u001b[32m━━━━━━━━━━━━━━━━━━━━\u001b[0m\u001b[37m\u001b[0m \u001b[1m0s\u001b[0m 161ms/step - accuracy: 0.9992 - loss: 0.0014\n",
      "Epoch 167: val_accuracy did not improve from 0.99217\n",
      "\u001b[1m304/304\u001b[0m \u001b[32m━━━━━━━━━━━━━━━━━━━━\u001b[0m\u001b[37m\u001b[0m \u001b[1m52s\u001b[0m 173ms/step - accuracy: 0.9992 - loss: 0.0014 - val_accuracy: 0.9909 - val_loss: 0.0391\n",
      "Epoch 168/200\n",
      "\u001b[1m304/304\u001b[0m \u001b[32m━━━━━━━━━━━━━━━━━━━━\u001b[0m\u001b[37m\u001b[0m \u001b[1m0s\u001b[0m 161ms/step - accuracy: 0.9982 - loss: 0.0051\n",
      "Epoch 168: val_accuracy did not improve from 0.99217\n",
      "\u001b[1m304/304\u001b[0m \u001b[32m━━━━━━━━━━━━━━━━━━━━\u001b[0m\u001b[37m\u001b[0m \u001b[1m52s\u001b[0m 172ms/step - accuracy: 0.9982 - loss: 0.0051 - val_accuracy: 0.9885 - val_loss: 0.0529\n",
      "Epoch 169/200\n",
      "\u001b[1m304/304\u001b[0m \u001b[32m━━━━━━━━━━━━━━━━━━━━\u001b[0m\u001b[37m\u001b[0m \u001b[1m0s\u001b[0m 166ms/step - accuracy: 0.9991 - loss: 0.0018\n",
      "Epoch 169: val_accuracy did not improve from 0.99217\n",
      "\u001b[1m304/304\u001b[0m \u001b[32m━━━━━━━━━━━━━━━━━━━━\u001b[0m\u001b[37m\u001b[0m \u001b[1m54s\u001b[0m 178ms/step - accuracy: 0.9991 - loss: 0.0018 - val_accuracy: 0.9901 - val_loss: 0.0504\n",
      "Epoch 170/200\n",
      "\u001b[1m304/304\u001b[0m \u001b[32m━━━━━━━━━━━━━━━━━━━━\u001b[0m\u001b[37m\u001b[0m \u001b[1m0s\u001b[0m 157ms/step - accuracy: 0.9995 - loss: 0.0054\n",
      "Epoch 170: val_accuracy did not improve from 0.99217\n",
      "\u001b[1m304/304\u001b[0m \u001b[32m━━━━━━━━━━━━━━━━━━━━\u001b[0m\u001b[37m\u001b[0m \u001b[1m56s\u001b[0m 183ms/step - accuracy: 0.9995 - loss: 0.0054 - val_accuracy: 0.9831 - val_loss: 0.0723\n",
      "Epoch 171/200\n",
      "\u001b[1m304/304\u001b[0m \u001b[32m━━━━━━━━━━━━━━━━━━━━\u001b[0m\u001b[37m\u001b[0m \u001b[1m0s\u001b[0m 168ms/step - accuracy: 0.9937 - loss: 0.0372\n",
      "Epoch 171: val_accuracy did not improve from 0.99217\n",
      "\u001b[1m304/304\u001b[0m \u001b[32m━━━━━━━━━━━━━━━━━━━━\u001b[0m\u001b[37m\u001b[0m \u001b[1m55s\u001b[0m 180ms/step - accuracy: 0.9937 - loss: 0.0372 - val_accuracy: 0.9876 - val_loss: 0.0436\n",
      "Epoch 172/200\n",
      "\u001b[1m304/304\u001b[0m \u001b[32m━━━━━━━━━━━━━━━━━━━━\u001b[0m\u001b[37m\u001b[0m \u001b[1m0s\u001b[0m 163ms/step - accuracy: 0.9999 - loss: 9.7644e-04\n",
      "Epoch 172: val_accuracy did not improve from 0.99217\n",
      "\u001b[1m304/304\u001b[0m \u001b[32m━━━━━━━━━━━━━━━━━━━━\u001b[0m\u001b[37m\u001b[0m \u001b[1m53s\u001b[0m 176ms/step - accuracy: 0.9999 - loss: 9.8320e-04 - val_accuracy: 0.9868 - val_loss: 0.0474\n",
      "Epoch 173/200\n",
      "\u001b[1m304/304\u001b[0m \u001b[32m━━━━━━━━━━━━━━━━━━━━\u001b[0m\u001b[37m\u001b[0m \u001b[1m0s\u001b[0m 169ms/step - accuracy: 0.9975 - loss: 0.0087\n",
      "Epoch 173: val_accuracy did not improve from 0.99217\n",
      "\u001b[1m304/304\u001b[0m \u001b[32m━━━━━━━━━━━━━━━━━━━━\u001b[0m\u001b[37m\u001b[0m \u001b[1m55s\u001b[0m 182ms/step - accuracy: 0.9975 - loss: 0.0087 - val_accuracy: 0.9909 - val_loss: 0.0362\n",
      "Epoch 174/200\n",
      "\u001b[1m304/304\u001b[0m \u001b[32m━━━━━━━━━━━━━━━━━━━━\u001b[0m\u001b[37m\u001b[0m \u001b[1m0s\u001b[0m 169ms/step - accuracy: 0.9991 - loss: 0.0025\n",
      "Epoch 174: val_accuracy did not improve from 0.99217\n",
      "\u001b[1m304/304\u001b[0m \u001b[32m━━━━━━━━━━━━━━━━━━━━\u001b[0m\u001b[37m\u001b[0m \u001b[1m55s\u001b[0m 181ms/step - accuracy: 0.9991 - loss: 0.0025 - val_accuracy: 0.9848 - val_loss: 0.0583\n",
      "Epoch 175/200\n",
      "\u001b[1m304/304\u001b[0m \u001b[32m━━━━━━━━━━━━━━━━━━━━\u001b[0m\u001b[37m\u001b[0m \u001b[1m0s\u001b[0m 155ms/step - accuracy: 0.9961 - loss: 0.0173\n",
      "Epoch 175: val_accuracy did not improve from 0.99217\n",
      "\u001b[1m304/304\u001b[0m \u001b[32m━━━━━━━━━━━━━━━━━━━━\u001b[0m\u001b[37m\u001b[0m \u001b[1m51s\u001b[0m 168ms/step - accuracy: 0.9961 - loss: 0.0173 - val_accuracy: 0.9868 - val_loss: 0.0530\n",
      "Epoch 176/200\n",
      "\u001b[1m304/304\u001b[0m \u001b[32m━━━━━━━━━━━━━━━━━━━━\u001b[0m\u001b[37m\u001b[0m \u001b[1m0s\u001b[0m 171ms/step - accuracy: 0.9994 - loss: 0.0022\n",
      "Epoch 176: val_accuracy did not improve from 0.99217\n",
      "\u001b[1m304/304\u001b[0m \u001b[32m━━━━━━━━━━━━━━━━━━━━\u001b[0m\u001b[37m\u001b[0m \u001b[1m56s\u001b[0m 183ms/step - accuracy: 0.9994 - loss: 0.0022 - val_accuracy: 0.9876 - val_loss: 0.0462\n",
      "Epoch 177/200\n",
      "\u001b[1m304/304\u001b[0m \u001b[32m━━━━━━━━━━━━━━━━━━━━\u001b[0m\u001b[37m\u001b[0m \u001b[1m0s\u001b[0m 165ms/step - accuracy: 0.9964 - loss: 0.0138\n",
      "Epoch 177: val_accuracy did not improve from 0.99217\n",
      "\u001b[1m304/304\u001b[0m \u001b[32m━━━━━━━━━━━━━━━━━━━━\u001b[0m\u001b[37m\u001b[0m \u001b[1m54s\u001b[0m 179ms/step - accuracy: 0.9964 - loss: 0.0138 - val_accuracy: 0.9856 - val_loss: 0.0605\n",
      "Epoch 178/200\n",
      "\u001b[1m304/304\u001b[0m \u001b[32m━━━━━━━━━━━━━━━━━━━━\u001b[0m\u001b[37m\u001b[0m \u001b[1m0s\u001b[0m 180ms/step - accuracy: 0.9942 - loss: 0.0295\n",
      "Epoch 178: val_accuracy did not improve from 0.99217\n",
      "\u001b[1m304/304\u001b[0m \u001b[32m━━━━━━━━━━━━━━━━━━━━\u001b[0m\u001b[37m\u001b[0m \u001b[1m59s\u001b[0m 193ms/step - accuracy: 0.9942 - loss: 0.0295 - val_accuracy: 0.9860 - val_loss: 0.0434\n",
      "Epoch 179/200\n",
      "\u001b[1m304/304\u001b[0m \u001b[32m━━━━━━━━━━━━━━━━━━━━\u001b[0m\u001b[37m\u001b[0m \u001b[1m0s\u001b[0m 193ms/step - accuracy: 0.9964 - loss: 0.0230\n",
      "Epoch 179: val_accuracy did not improve from 0.99217\n",
      "\u001b[1m304/304\u001b[0m \u001b[32m━━━━━━━━━━━━━━━━━━━━\u001b[0m\u001b[37m\u001b[0m \u001b[1m63s\u001b[0m 206ms/step - accuracy: 0.9964 - loss: 0.0229 - val_accuracy: 0.9893 - val_loss: 0.0319\n",
      "Epoch 180/200\n",
      "\u001b[1m304/304\u001b[0m \u001b[32m━━━━━━━━━━━━━━━━━━━━\u001b[0m\u001b[37m\u001b[0m \u001b[1m0s\u001b[0m 184ms/step - accuracy: 0.9997 - loss: 9.8869e-04\n",
      "Epoch 180: val_accuracy did not improve from 0.99217\n",
      "\u001b[1m304/304\u001b[0m \u001b[32m━━━━━━━━━━━━━━━━━━━━\u001b[0m\u001b[37m\u001b[0m \u001b[1m60s\u001b[0m 197ms/step - accuracy: 0.9997 - loss: 9.8831e-04 - val_accuracy: 0.9918 - val_loss: 0.0370\n",
      "Epoch 181/200\n",
      "\u001b[1m304/304\u001b[0m \u001b[32m━━━━━━━━━━━━━━━━━━━━\u001b[0m\u001b[37m\u001b[0m \u001b[1m0s\u001b[0m 164ms/step - accuracy: 0.9996 - loss: 0.0019\n",
      "Epoch 181: val_accuracy did not improve from 0.99217\n",
      "\u001b[1m304/304\u001b[0m \u001b[32m━━━━━━━━━━━━━━━━━━━━\u001b[0m\u001b[37m\u001b[0m \u001b[1m54s\u001b[0m 177ms/step - accuracy: 0.9996 - loss: 0.0019 - val_accuracy: 0.9897 - val_loss: 0.0381\n",
      "Epoch 182/200\n",
      "\u001b[1m304/304\u001b[0m \u001b[32m━━━━━━━━━━━━━━━━━━━━\u001b[0m\u001b[37m\u001b[0m \u001b[1m0s\u001b[0m 169ms/step - accuracy: 0.9975 - loss: 0.0189\n",
      "Epoch 182: val_accuracy did not improve from 0.99217\n",
      "\u001b[1m304/304\u001b[0m \u001b[32m━━━━━━━━━━━━━━━━━━━━\u001b[0m\u001b[37m\u001b[0m \u001b[1m55s\u001b[0m 180ms/step - accuracy: 0.9975 - loss: 0.0189 - val_accuracy: 0.9897 - val_loss: 0.0363\n",
      "Epoch 183/200\n",
      "\u001b[1m304/304\u001b[0m \u001b[32m━━━━━━━━━━━━━━━━━━━━\u001b[0m\u001b[37m\u001b[0m \u001b[1m0s\u001b[0m 199ms/step - accuracy: 0.9975 - loss: 0.0090\n",
      "Epoch 183: val_accuracy did not improve from 0.99217\n",
      "\u001b[1m304/304\u001b[0m \u001b[32m━━━━━━━━━━━━━━━━━━━━\u001b[0m\u001b[37m\u001b[0m \u001b[1m65s\u001b[0m 213ms/step - accuracy: 0.9975 - loss: 0.0090 - val_accuracy: 0.9922 - val_loss: 0.0381\n",
      "Epoch 184/200\n",
      "\u001b[1m304/304\u001b[0m \u001b[32m━━━━━━━━━━━━━━━━━━━━\u001b[0m\u001b[37m\u001b[0m \u001b[1m0s\u001b[0m 172ms/step - accuracy: 0.9981 - loss: 0.0079\n",
      "Epoch 184: val_accuracy did not improve from 0.99217\n",
      "\u001b[1m304/304\u001b[0m \u001b[32m━━━━━━━━━━━━━━━━━━━━\u001b[0m\u001b[37m\u001b[0m \u001b[1m56s\u001b[0m 186ms/step - accuracy: 0.9981 - loss: 0.0079 - val_accuracy: 0.9876 - val_loss: 0.0417\n",
      "Epoch 185/200\n",
      "\u001b[1m304/304\u001b[0m \u001b[32m━━━━━━━━━━━━━━━━━━━━\u001b[0m\u001b[37m\u001b[0m \u001b[1m0s\u001b[0m 184ms/step - accuracy: 0.9981 - loss: 0.0163\n",
      "Epoch 185: val_accuracy did not improve from 0.99217\n",
      "\u001b[1m304/304\u001b[0m \u001b[32m━━━━━━━━━━━━━━━━━━━━\u001b[0m\u001b[37m\u001b[0m \u001b[1m59s\u001b[0m 196ms/step - accuracy: 0.9981 - loss: 0.0163 - val_accuracy: 0.9868 - val_loss: 0.0409\n",
      "Epoch 186/200\n",
      "\u001b[1m304/304\u001b[0m \u001b[32m━━━━━━━━━━━━━━━━━━━━\u001b[0m\u001b[37m\u001b[0m \u001b[1m0s\u001b[0m 191ms/step - accuracy: 0.9951 - loss: 0.0461\n",
      "Epoch 186: val_accuracy improved from 0.99217 to 0.99341, saving model to CNN2D_results/Scalogram_Spectrogram/best_model_1.h5\n"
     ]
    },
    {
     "name": "stderr",
     "output_type": "stream",
     "text": [
      "WARNING:absl:You are saving your model as an HDF5 file via `model.save()` or `keras.saving.save_model(model)`. This file format is considered legacy. We recommend using instead the native Keras format, e.g. `model.save('my_model.keras')` or `keras.saving.save_model(model, 'my_model.keras')`. \n"
     ]
    },
    {
     "name": "stdout",
     "output_type": "stream",
     "text": [
      "\u001b[1m304/304\u001b[0m \u001b[32m━━━━━━━━━━━━━━━━━━━━\u001b[0m\u001b[37m\u001b[0m \u001b[1m62s\u001b[0m 204ms/step - accuracy: 0.9952 - loss: 0.0460 - val_accuracy: 0.9934 - val_loss: 0.0281\n",
      "Epoch 187/200\n",
      "\u001b[1m304/304\u001b[0m \u001b[32m━━━━━━━━━━━━━━━━━━━━\u001b[0m\u001b[37m\u001b[0m \u001b[1m0s\u001b[0m 166ms/step - accuracy: 0.9990 - loss: 0.0060\n",
      "Epoch 187: val_accuracy did not improve from 0.99341\n",
      "\u001b[1m304/304\u001b[0m \u001b[32m━━━━━━━━━━━━━━━━━━━━\u001b[0m\u001b[37m\u001b[0m \u001b[1m54s\u001b[0m 178ms/step - accuracy: 0.9990 - loss: 0.0060 - val_accuracy: 0.9897 - val_loss: 0.0290\n",
      "Epoch 188/200\n",
      "\u001b[1m304/304\u001b[0m \u001b[32m━━━━━━━━━━━━━━━━━━━━\u001b[0m\u001b[37m\u001b[0m \u001b[1m0s\u001b[0m 177ms/step - accuracy: 0.9997 - loss: 8.6706e-04\n",
      "Epoch 188: val_accuracy did not improve from 0.99341\n",
      "\u001b[1m304/304\u001b[0m \u001b[32m━━━━━━━━━━━━━━━━━━━━\u001b[0m\u001b[37m\u001b[0m \u001b[1m58s\u001b[0m 190ms/step - accuracy: 0.9997 - loss: 8.6873e-04 - val_accuracy: 0.9852 - val_loss: 0.0534\n",
      "Epoch 189/200\n",
      "\u001b[1m304/304\u001b[0m \u001b[32m━━━━━━━━━━━━━━━━━━━━\u001b[0m\u001b[37m\u001b[0m \u001b[1m0s\u001b[0m 164ms/step - accuracy: 0.9975 - loss: 0.0078\n",
      "Epoch 189: val_accuracy did not improve from 0.99341\n",
      "\u001b[1m304/304\u001b[0m \u001b[32m━━━━━━━━━━━━━━━━━━━━\u001b[0m\u001b[37m\u001b[0m \u001b[1m54s\u001b[0m 176ms/step - accuracy: 0.9975 - loss: 0.0078 - val_accuracy: 0.9905 - val_loss: 0.0330\n",
      "Epoch 190/200\n",
      "\u001b[1m304/304\u001b[0m \u001b[32m━━━━━━━━━━━━━━━━━━━━\u001b[0m\u001b[37m\u001b[0m \u001b[1m0s\u001b[0m 159ms/step - accuracy: 0.9979 - loss: 0.0130\n",
      "Epoch 190: val_accuracy did not improve from 0.99341\n",
      "\u001b[1m304/304\u001b[0m \u001b[32m━━━━━━━━━━━━━━━━━━━━\u001b[0m\u001b[37m\u001b[0m \u001b[1m52s\u001b[0m 170ms/step - accuracy: 0.9979 - loss: 0.0131 - val_accuracy: 0.9728 - val_loss: 0.0981\n",
      "Epoch 191/200\n",
      "\u001b[1m304/304\u001b[0m \u001b[32m━━━━━━━━━━━━━━━━━━━━\u001b[0m\u001b[37m\u001b[0m \u001b[1m0s\u001b[0m 172ms/step - accuracy: 0.9909 - loss: 0.0450\n",
      "Epoch 191: val_accuracy did not improve from 0.99341\n",
      "\u001b[1m304/304\u001b[0m \u001b[32m━━━━━━━━━━━━━━━━━━━━\u001b[0m\u001b[37m\u001b[0m \u001b[1m57s\u001b[0m 186ms/step - accuracy: 0.9909 - loss: 0.0450 - val_accuracy: 0.9897 - val_loss: 0.0352\n",
      "Epoch 192/200\n",
      "\u001b[1m304/304\u001b[0m \u001b[32m━━━━━━━━━━━━━━━━━━━━\u001b[0m\u001b[37m\u001b[0m \u001b[1m0s\u001b[0m 151ms/step - accuracy: 0.9987 - loss: 0.0049\n",
      "Epoch 192: val_accuracy did not improve from 0.99341\n",
      "\u001b[1m304/304\u001b[0m \u001b[32m━━━━━━━━━━━━━━━━━━━━\u001b[0m\u001b[37m\u001b[0m \u001b[1m49s\u001b[0m 162ms/step - accuracy: 0.9987 - loss: 0.0049 - val_accuracy: 0.9913 - val_loss: 0.0298\n",
      "Epoch 193/200\n",
      "\u001b[1m304/304\u001b[0m \u001b[32m━━━━━━━━━━━━━━━━━━━━\u001b[0m\u001b[37m\u001b[0m \u001b[1m0s\u001b[0m 149ms/step - accuracy: 0.9999 - loss: 3.9215e-04\n",
      "Epoch 193: val_accuracy did not improve from 0.99341\n",
      "\u001b[1m304/304\u001b[0m \u001b[32m━━━━━━━━━━━━━━━━━━━━\u001b[0m\u001b[37m\u001b[0m \u001b[1m49s\u001b[0m 160ms/step - accuracy: 0.9999 - loss: 3.9219e-04 - val_accuracy: 0.9930 - val_loss: 0.0287\n",
      "Epoch 194/200\n",
      "\u001b[1m304/304\u001b[0m \u001b[32m━━━━━━━━━━━━━━━━━━━━\u001b[0m\u001b[37m\u001b[0m \u001b[1m0s\u001b[0m 165ms/step - accuracy: 1.0000 - loss: 7.8269e-05\n",
      "Epoch 194: val_accuracy did not improve from 0.99341\n",
      "\u001b[1m304/304\u001b[0m \u001b[32m━━━━━━━━━━━━━━━━━━━━\u001b[0m\u001b[37m\u001b[0m \u001b[1m54s\u001b[0m 177ms/step - accuracy: 1.0000 - loss: 7.8398e-05 - val_accuracy: 0.9918 - val_loss: 0.0324\n",
      "Epoch 195/200\n",
      "\u001b[1m304/304\u001b[0m \u001b[32m━━━━━━━━━━━━━━━━━━━━\u001b[0m\u001b[37m\u001b[0m \u001b[1m0s\u001b[0m 156ms/step - accuracy: 1.0000 - loss: 3.1656e-04\n",
      "Epoch 195: val_accuracy did not improve from 0.99341\n",
      "\u001b[1m304/304\u001b[0m \u001b[32m━━━━━━━━━━━━━━━━━━━━\u001b[0m\u001b[37m\u001b[0m \u001b[1m51s\u001b[0m 168ms/step - accuracy: 1.0000 - loss: 3.2111e-04 - val_accuracy: 0.9926 - val_loss: 0.0352\n",
      "Epoch 196/200\n",
      "\u001b[1m304/304\u001b[0m \u001b[32m━━━━━━━━━━━━━━━━━━━━\u001b[0m\u001b[37m\u001b[0m \u001b[1m0s\u001b[0m 152ms/step - accuracy: 1.0000 - loss: 5.8482e-05\n",
      "Epoch 196: val_accuracy did not improve from 0.99341\n",
      "\u001b[1m304/304\u001b[0m \u001b[32m━━━━━━━━━━━━━━━━━━━━\u001b[0m\u001b[37m\u001b[0m \u001b[1m50s\u001b[0m 163ms/step - accuracy: 1.0000 - loss: 5.8459e-05 - val_accuracy: 0.9918 - val_loss: 0.0352\n",
      "Epoch 197/200\n",
      "\u001b[1m304/304\u001b[0m \u001b[32m━━━━━━━━━━━━━━━━━━━━\u001b[0m\u001b[37m\u001b[0m \u001b[1m0s\u001b[0m 152ms/step - accuracy: 0.9991 - loss: 0.0039\n",
      "Epoch 197: val_accuracy did not improve from 0.99341\n",
      "\u001b[1m304/304\u001b[0m \u001b[32m━━━━━━━━━━━━━━━━━━━━\u001b[0m\u001b[37m\u001b[0m \u001b[1m50s\u001b[0m 164ms/step - accuracy: 0.9991 - loss: 0.0039 - val_accuracy: 0.9823 - val_loss: 0.0443\n",
      "Epoch 198/200\n",
      "\u001b[1m304/304\u001b[0m \u001b[32m━━━━━━━━━━━━━━━━━━━━\u001b[0m\u001b[37m\u001b[0m \u001b[1m0s\u001b[0m 153ms/step - accuracy: 0.9941 - loss: 0.0228\n",
      "Epoch 198: val_accuracy did not improve from 0.99341\n",
      "\u001b[1m304/304\u001b[0m \u001b[32m━━━━━━━━━━━━━━━━━━━━\u001b[0m\u001b[37m\u001b[0m \u001b[1m50s\u001b[0m 164ms/step - accuracy: 0.9941 - loss: 0.0228 - val_accuracy: 0.9786 - val_loss: 0.0679\n",
      "Epoch 199/200\n",
      "\u001b[1m304/304\u001b[0m \u001b[32m━━━━━━━━━━━━━━━━━━━━\u001b[0m\u001b[37m\u001b[0m \u001b[1m0s\u001b[0m 151ms/step - accuracy: 0.9965 - loss: 0.0139\n",
      "Epoch 199: val_accuracy did not improve from 0.99341\n",
      "\u001b[1m304/304\u001b[0m \u001b[32m━━━━━━━━━━━━━━━━━━━━\u001b[0m\u001b[37m\u001b[0m \u001b[1m50s\u001b[0m 163ms/step - accuracy: 0.9965 - loss: 0.0138 - val_accuracy: 0.9881 - val_loss: 0.0392\n",
      "Epoch 200/200\n",
      "\u001b[1m304/304\u001b[0m \u001b[32m━━━━━━━━━━━━━━━━━━━━\u001b[0m\u001b[37m\u001b[0m \u001b[1m0s\u001b[0m 152ms/step - accuracy: 0.9977 - loss: 0.0086\n",
      "Epoch 200: val_accuracy did not improve from 0.99341\n",
      "\u001b[1m304/304\u001b[0m \u001b[32m━━━━━━━━━━━━━━━━━━━━\u001b[0m\u001b[37m\u001b[0m \u001b[1m49s\u001b[0m 163ms/step - accuracy: 0.9977 - loss: 0.0086 - val_accuracy: 0.9893 - val_loss: 0.0463\n",
      "Best model saved at: CNN2D_results/Scalogram_Spectrogram/best_model_1.h5\n"
     ]
    },
    {
     "name": "stderr",
     "output_type": "stream",
     "text": [
      "WARNING:absl:Compiled the loaded model, but the compiled metrics have yet to be built. `model.compile_metrics` will be empty until you train or evaluate the model.\n"
     ]
    },
    {
     "name": "stdout",
     "output_type": "stream",
     "text": [
      "Best model loaded successfully!\n",
      "\u001b[1m 1/76\u001b[0m \u001b[37m━━━━━━━━━━━━━━━━━━━━\u001b[0m \u001b[1m11s\u001b[0m 157ms/step"
     ]
    },
    {
     "name": "stderr",
     "output_type": "stream",
     "text": [
      "2025-06-12 10:55:52.378670: E tensorflow/core/framework/node_def_util.cc:680] NodeDef mentions attribute use_unbounded_threadpool which is not in the op definition: Op<name=MapDataset; signature=input_dataset:variant, other_arguments: -> handle:variant; attr=f:func; attr=Targuments:list(type),min=0; attr=output_types:list(type),min=1; attr=output_shapes:list(shape),min=1; attr=use_inter_op_parallelism:bool,default=true; attr=preserve_cardinality:bool,default=false; attr=force_synchronous:bool,default=false; attr=metadata:string,default=\"\"> This may be expected if your graph generating binary is newer  than this binary. Unknown attributes will be ignored. NodeDef: {{node ParallelMapDatasetV2/_14}}\n",
      "2025-06-12 10:55:52.380917: E tensorflow/core/framework/node_def_util.cc:680] NodeDef mentions attribute use_unbounded_threadpool which is not in the op definition: Op<name=MapDataset; signature=input_dataset:variant, other_arguments: -> handle:variant; attr=f:func; attr=Targuments:list(type),min=0; attr=output_types:list(type),min=1; attr=output_shapes:list(shape),min=1; attr=use_inter_op_parallelism:bool,default=true; attr=preserve_cardinality:bool,default=false; attr=force_synchronous:bool,default=false; attr=metadata:string,default=\"\"> This may be expected if your graph generating binary is newer  than this binary. Unknown attributes will be ignored. NodeDef: {{node ParallelMapDatasetV2/_14}}\n"
     ]
    },
    {
     "name": "stdout",
     "output_type": "stream",
     "text": [
      "\u001b[1m76/76\u001b[0m \u001b[32m━━━━━━━━━━━━━━━━━━━━\u001b[0m\u001b[37m\u001b[0m \u001b[1m4s\u001b[0m 46ms/step\n",
      "\u001b[1m304/304\u001b[0m \u001b[32m━━━━━━━━━━━━━━━━━━━━\u001b[0m\u001b[37m\u001b[0m \u001b[1m14s\u001b[0m 45ms/step - accuracy: 1.0000 - loss: 8.7903e-04\n",
      "\u001b[1m 3/76\u001b[0m \u001b[37m━━━━━━━━━━━━━━━━━━━━\u001b[0m \u001b[1m3s\u001b[0m 47ms/step - accuracy: 0.9809 - loss: 0.1716"
     ]
    },
    {
     "name": "stderr",
     "output_type": "stream",
     "text": [
      "2025-06-12 10:56:10.230506: E tensorflow/core/framework/node_def_util.cc:680] NodeDef mentions attribute use_unbounded_threadpool which is not in the op definition: Op<name=MapDataset; signature=input_dataset:variant, other_arguments: -> handle:variant; attr=f:func; attr=Targuments:list(type),min=0; attr=output_types:list(type),min=1; attr=output_shapes:list(shape),min=1; attr=use_inter_op_parallelism:bool,default=true; attr=preserve_cardinality:bool,default=false; attr=force_synchronous:bool,default=false; attr=metadata:string,default=\"\"> This may be expected if your graph generating binary is newer  than this binary. Unknown attributes will be ignored. NodeDef: {{node ParallelMapDatasetV2/_15}}\n",
      "2025-06-12 10:56:10.230863: E tensorflow/core/framework/node_def_util.cc:680] NodeDef mentions attribute use_unbounded_threadpool which is not in the op definition: Op<name=MapDataset; signature=input_dataset:variant, other_arguments: -> handle:variant; attr=f:func; attr=Targuments:list(type),min=0; attr=output_types:list(type),min=1; attr=output_shapes:list(shape),min=1; attr=use_inter_op_parallelism:bool,default=true; attr=preserve_cardinality:bool,default=false; attr=force_synchronous:bool,default=false; attr=metadata:string,default=\"\"> This may be expected if your graph generating binary is newer  than this binary. Unknown attributes will be ignored. NodeDef: {{node ParallelMapDatasetV2/_15}}\n"
     ]
    },
    {
     "name": "stdout",
     "output_type": "stream",
     "text": [
      "\u001b[1m76/76\u001b[0m \u001b[32m━━━━━━━━━━━━━━━━━━━━\u001b[0m\u001b[37m\u001b[0m \u001b[1m3s\u001b[0m 45ms/step - accuracy: 0.9922 - loss: 0.0398\n",
      "\u001b[1m95/95\u001b[0m \u001b[32m━━━━━━━━━━━━━━━━━━━━\u001b[0m\u001b[37m\u001b[0m \u001b[1m4s\u001b[0m 45ms/step - accuracy: 0.9895 - loss: 0.0240\n",
      "Epoch 1/200\n"
     ]
    },
    {
     "name": "stderr",
     "output_type": "stream",
     "text": [
      "2025-06-12 10:56:18.179111: E tensorflow/core/framework/node_def_util.cc:680] NodeDef mentions attribute use_unbounded_threadpool which is not in the op definition: Op<name=MapDataset; signature=input_dataset:variant, other_arguments: -> handle:variant; attr=f:func; attr=Targuments:list(type),min=0; attr=output_types:list(type),min=1; attr=output_shapes:list(shape),min=1; attr=use_inter_op_parallelism:bool,default=true; attr=preserve_cardinality:bool,default=false; attr=force_synchronous:bool,default=false; attr=metadata:string,default=\"\"> This may be expected if your graph generating binary is newer  than this binary. Unknown attributes will be ignored. NodeDef: {{node ParallelMapDatasetV2/_15}}\n",
      "2025-06-12 10:56:18.179524: E tensorflow/core/framework/node_def_util.cc:680] NodeDef mentions attribute use_unbounded_threadpool which is not in the op definition: Op<name=MapDataset; signature=input_dataset:variant, other_arguments: -> handle:variant; attr=f:func; attr=Targuments:list(type),min=0; attr=output_types:list(type),min=1; attr=output_shapes:list(shape),min=1; attr=use_inter_op_parallelism:bool,default=true; attr=preserve_cardinality:bool,default=false; attr=force_synchronous:bool,default=false; attr=metadata:string,default=\"\"> This may be expected if your graph generating binary is newer  than this binary. Unknown attributes will be ignored. NodeDef: {{node ParallelMapDatasetV2/_15}}\n"
     ]
    },
    {
     "name": "stdout",
     "output_type": "stream",
     "text": [
      "\u001b[1m304/304\u001b[0m \u001b[32m━━━━━━━━━━━━━━━━━━━━\u001b[0m\u001b[37m\u001b[0m \u001b[1m0s\u001b[0m 152ms/step - accuracy: 0.3514 - loss: 1.6389"
     ]
    },
    {
     "name": "stderr",
     "output_type": "stream",
     "text": [
      "2025-06-12 10:57:07.828120: E tensorflow/core/framework/node_def_util.cc:680] NodeDef mentions attribute use_unbounded_threadpool which is not in the op definition: Op<name=MapDataset; signature=input_dataset:variant, other_arguments: -> handle:variant; attr=f:func; attr=Targuments:list(type),min=0; attr=output_types:list(type),min=1; attr=output_shapes:list(shape),min=1; attr=use_inter_op_parallelism:bool,default=true; attr=preserve_cardinality:bool,default=false; attr=force_synchronous:bool,default=false; attr=metadata:string,default=\"\"> This may be expected if your graph generating binary is newer  than this binary. Unknown attributes will be ignored. NodeDef: {{node ParallelMapDatasetV2/_15}}\n",
      "2025-06-12 10:57:07.830238: E tensorflow/core/framework/node_def_util.cc:680] NodeDef mentions attribute use_unbounded_threadpool which is not in the op definition: Op<name=MapDataset; signature=input_dataset:variant, other_arguments: -> handle:variant; attr=f:func; attr=Targuments:list(type),min=0; attr=output_types:list(type),min=1; attr=output_shapes:list(shape),min=1; attr=use_inter_op_parallelism:bool,default=true; attr=preserve_cardinality:bool,default=false; attr=force_synchronous:bool,default=false; attr=metadata:string,default=\"\"> This may be expected if your graph generating binary is newer  than this binary. Unknown attributes will be ignored. NodeDef: {{node ParallelMapDatasetV2/_15}}\n"
     ]
    },
    {
     "name": "stdout",
     "output_type": "stream",
     "text": [
      "\n",
      "Epoch 1: val_accuracy improved from -inf to 0.73836, saving model to CNN2D_results/Scalogram_Spectrogram/best_model_2.h5\n"
     ]
    },
    {
     "name": "stderr",
     "output_type": "stream",
     "text": [
      "WARNING:absl:You are saving your model as an HDF5 file via `model.save()` or `keras.saving.save_model(model)`. This file format is considered legacy. We recommend using instead the native Keras format, e.g. `model.save('my_model.keras')` or `keras.saving.save_model(model, 'my_model.keras')`. \n"
     ]
    },
    {
     "name": "stdout",
     "output_type": "stream",
     "text": [
      "\u001b[1m304/304\u001b[0m \u001b[32m━━━━━━━━━━━━━━━━━━━━\u001b[0m\u001b[37m\u001b[0m \u001b[1m53s\u001b[0m 165ms/step - accuracy: 0.3519 - loss: 1.6375 - val_accuracy: 0.7384 - val_loss: 0.6198\n",
      "Epoch 2/200\n",
      "\u001b[1m304/304\u001b[0m \u001b[32m━━━━━━━━━━━━━━━━━━━━\u001b[0m\u001b[37m\u001b[0m \u001b[1m0s\u001b[0m 155ms/step - accuracy: 0.7370 - loss: 0.6165\n",
      "Epoch 2: val_accuracy improved from 0.73836 to 0.81129, saving model to CNN2D_results/Scalogram_Spectrogram/best_model_2.h5\n"
     ]
    },
    {
     "name": "stderr",
     "output_type": "stream",
     "text": [
      "WARNING:absl:You are saving your model as an HDF5 file via `model.save()` or `keras.saving.save_model(model)`. This file format is considered legacy. We recommend using instead the native Keras format, e.g. `model.save('my_model.keras')` or `keras.saving.save_model(model, 'my_model.keras')`. \n"
     ]
    },
    {
     "name": "stdout",
     "output_type": "stream",
     "text": [
      "\u001b[1m304/304\u001b[0m \u001b[32m━━━━━━━━━━━━━━━━━━━━\u001b[0m\u001b[37m\u001b[0m \u001b[1m51s\u001b[0m 166ms/step - accuracy: 0.7370 - loss: 0.6164 - val_accuracy: 0.8113 - val_loss: 0.4272\n",
      "Epoch 3/200\n",
      "\u001b[1m304/304\u001b[0m \u001b[32m━━━━━━━━━━━━━━━━━━━━\u001b[0m\u001b[37m\u001b[0m \u001b[1m0s\u001b[0m 153ms/step - accuracy: 0.8107 - loss: 0.4480\n",
      "Epoch 3: val_accuracy improved from 0.81129 to 0.82777, saving model to CNN2D_results/Scalogram_Spectrogram/best_model_2.h5\n"
     ]
    },
    {
     "name": "stderr",
     "output_type": "stream",
     "text": [
      "WARNING:absl:You are saving your model as an HDF5 file via `model.save()` or `keras.saving.save_model(model)`. This file format is considered legacy. We recommend using instead the native Keras format, e.g. `model.save('my_model.keras')` or `keras.saving.save_model(model, 'my_model.keras')`. \n"
     ]
    },
    {
     "name": "stdout",
     "output_type": "stream",
     "text": [
      "\u001b[1m304/304\u001b[0m \u001b[32m━━━━━━━━━━━━━━━━━━━━\u001b[0m\u001b[37m\u001b[0m \u001b[1m50s\u001b[0m 164ms/step - accuracy: 0.8107 - loss: 0.4480 - val_accuracy: 0.8278 - val_loss: 0.3595\n",
      "Epoch 4/200\n",
      "\u001b[1m304/304\u001b[0m \u001b[32m━━━━━━━━━━━━━━━━━━━━\u001b[0m\u001b[37m\u001b[0m \u001b[1m0s\u001b[0m 150ms/step - accuracy: 0.8490 - loss: 0.3585\n",
      "Epoch 4: val_accuracy improved from 0.82777 to 0.90194, saving model to CNN2D_results/Scalogram_Spectrogram/best_model_2.h5\n"
     ]
    },
    {
     "name": "stderr",
     "output_type": "stream",
     "text": [
      "WARNING:absl:You are saving your model as an HDF5 file via `model.save()` or `keras.saving.save_model(model)`. This file format is considered legacy. We recommend using instead the native Keras format, e.g. `model.save('my_model.keras')` or `keras.saving.save_model(model, 'my_model.keras')`. \n"
     ]
    },
    {
     "name": "stdout",
     "output_type": "stream",
     "text": [
      "\u001b[1m304/304\u001b[0m \u001b[32m━━━━━━━━━━━━━━━━━━━━\u001b[0m\u001b[37m\u001b[0m \u001b[1m49s\u001b[0m 162ms/step - accuracy: 0.8490 - loss: 0.3584 - val_accuracy: 0.9019 - val_loss: 0.2504\n",
      "Epoch 5/200\n",
      "\u001b[1m304/304\u001b[0m \u001b[32m━━━━━━━━━━━━━━━━━━━━\u001b[0m\u001b[37m\u001b[0m \u001b[1m0s\u001b[0m 150ms/step - accuracy: 0.8986 - loss: 0.2698\n",
      "Epoch 5: val_accuracy improved from 0.90194 to 0.91718, saving model to CNN2D_results/Scalogram_Spectrogram/best_model_2.h5\n"
     ]
    },
    {
     "name": "stderr",
     "output_type": "stream",
     "text": [
      "WARNING:absl:You are saving your model as an HDF5 file via `model.save()` or `keras.saving.save_model(model)`. This file format is considered legacy. We recommend using instead the native Keras format, e.g. `model.save('my_model.keras')` or `keras.saving.save_model(model, 'my_model.keras')`. \n"
     ]
    },
    {
     "name": "stdout",
     "output_type": "stream",
     "text": [
      "\u001b[1m304/304\u001b[0m \u001b[32m━━━━━━━━━━━━━━━━━━━━\u001b[0m\u001b[37m\u001b[0m \u001b[1m49s\u001b[0m 162ms/step - accuracy: 0.8986 - loss: 0.2698 - val_accuracy: 0.9172 - val_loss: 0.2001\n",
      "Epoch 6/200\n",
      "\u001b[1m304/304\u001b[0m \u001b[32m━━━━━━━━━━━━━━━━━━━━\u001b[0m\u001b[37m\u001b[0m \u001b[1m0s\u001b[0m 150ms/step - accuracy: 0.9263 - loss: 0.2071\n",
      "Epoch 6: val_accuracy improved from 0.91718 to 0.94932, saving model to CNN2D_results/Scalogram_Spectrogram/best_model_2.h5\n"
     ]
    },
    {
     "name": "stderr",
     "output_type": "stream",
     "text": [
      "WARNING:absl:You are saving your model as an HDF5 file via `model.save()` or `keras.saving.save_model(model)`. This file format is considered legacy. We recommend using instead the native Keras format, e.g. `model.save('my_model.keras')` or `keras.saving.save_model(model, 'my_model.keras')`. \n"
     ]
    },
    {
     "name": "stdout",
     "output_type": "stream",
     "text": [
      "\u001b[1m304/304\u001b[0m \u001b[32m━━━━━━━━━━━━━━━━━━━━\u001b[0m\u001b[37m\u001b[0m \u001b[1m49s\u001b[0m 162ms/step - accuracy: 0.9263 - loss: 0.2072 - val_accuracy: 0.9493 - val_loss: 0.1336\n",
      "Epoch 7/200\n",
      "\u001b[1m304/304\u001b[0m \u001b[32m━━━━━━━━━━━━━━━━━━━━\u001b[0m\u001b[37m\u001b[0m \u001b[1m0s\u001b[0m 150ms/step - accuracy: 0.9413 - loss: 0.1717\n",
      "Epoch 7: val_accuracy improved from 0.94932 to 0.95797, saving model to CNN2D_results/Scalogram_Spectrogram/best_model_2.h5\n"
     ]
    },
    {
     "name": "stderr",
     "output_type": "stream",
     "text": [
      "WARNING:absl:You are saving your model as an HDF5 file via `model.save()` or `keras.saving.save_model(model)`. This file format is considered legacy. We recommend using instead the native Keras format, e.g. `model.save('my_model.keras')` or `keras.saving.save_model(model, 'my_model.keras')`. \n"
     ]
    },
    {
     "name": "stdout",
     "output_type": "stream",
     "text": [
      "\u001b[1m304/304\u001b[0m \u001b[32m━━━━━━━━━━━━━━━━━━━━\u001b[0m\u001b[37m\u001b[0m \u001b[1m49s\u001b[0m 162ms/step - accuracy: 0.9413 - loss: 0.1717 - val_accuracy: 0.9580 - val_loss: 0.1167\n",
      "Epoch 8/200\n",
      "\u001b[1m304/304\u001b[0m \u001b[32m━━━━━━━━━━━━━━━━━━━━\u001b[0m\u001b[37m\u001b[0m \u001b[1m0s\u001b[0m 153ms/step - accuracy: 0.9520 - loss: 0.1372\n",
      "Epoch 8: val_accuracy improved from 0.95797 to 0.96374, saving model to CNN2D_results/Scalogram_Spectrogram/best_model_2.h5\n"
     ]
    },
    {
     "name": "stderr",
     "output_type": "stream",
     "text": [
      "WARNING:absl:You are saving your model as an HDF5 file via `model.save()` or `keras.saving.save_model(model)`. This file format is considered legacy. We recommend using instead the native Keras format, e.g. `model.save('my_model.keras')` or `keras.saving.save_model(model, 'my_model.keras')`. \n"
     ]
    },
    {
     "name": "stdout",
     "output_type": "stream",
     "text": [
      "\u001b[1m304/304\u001b[0m \u001b[32m━━━━━━━━━━━━━━━━━━━━\u001b[0m\u001b[37m\u001b[0m \u001b[1m50s\u001b[0m 164ms/step - accuracy: 0.9520 - loss: 0.1372 - val_accuracy: 0.9637 - val_loss: 0.0914\n",
      "Epoch 9/200\n",
      "\u001b[1m304/304\u001b[0m \u001b[32m━━━━━━━━━━━━━━━━━━━━\u001b[0m\u001b[37m\u001b[0m \u001b[1m0s\u001b[0m 151ms/step - accuracy: 0.9536 - loss: 0.1278\n",
      "Epoch 9: val_accuracy did not improve from 0.96374\n",
      "\u001b[1m304/304\u001b[0m \u001b[32m━━━━━━━━━━━━━━━━━━━━\u001b[0m\u001b[37m\u001b[0m \u001b[1m49s\u001b[0m 162ms/step - accuracy: 0.9536 - loss: 0.1278 - val_accuracy: 0.9625 - val_loss: 0.1032\n",
      "Epoch 10/200\n",
      "\u001b[1m304/304\u001b[0m \u001b[32m━━━━━━━━━━━━━━━━━━━━\u001b[0m\u001b[37m\u001b[0m \u001b[1m0s\u001b[0m 152ms/step - accuracy: 0.9536 - loss: 0.1327\n",
      "Epoch 10: val_accuracy did not improve from 0.96374\n",
      "\u001b[1m304/304\u001b[0m \u001b[32m━━━━━━━━━━━━━━━━━━━━\u001b[0m\u001b[37m\u001b[0m \u001b[1m50s\u001b[0m 164ms/step - accuracy: 0.9536 - loss: 0.1327 - val_accuracy: 0.9543 - val_loss: 0.1156\n",
      "Epoch 11/200\n",
      "\u001b[1m304/304\u001b[0m \u001b[32m━━━━━━━━━━━━━━━━━━━━\u001b[0m\u001b[37m\u001b[0m \u001b[1m0s\u001b[0m 150ms/step - accuracy: 0.9623 - loss: 0.1049\n",
      "Epoch 11: val_accuracy improved from 0.96374 to 0.96498, saving model to CNN2D_results/Scalogram_Spectrogram/best_model_2.h5\n"
     ]
    },
    {
     "name": "stderr",
     "output_type": "stream",
     "text": [
      "WARNING:absl:You are saving your model as an HDF5 file via `model.save()` or `keras.saving.save_model(model)`. This file format is considered legacy. We recommend using instead the native Keras format, e.g. `model.save('my_model.keras')` or `keras.saving.save_model(model, 'my_model.keras')`. \n"
     ]
    },
    {
     "name": "stdout",
     "output_type": "stream",
     "text": [
      "\u001b[1m304/304\u001b[0m \u001b[32m━━━━━━━━━━━━━━━━━━━━\u001b[0m\u001b[37m\u001b[0m \u001b[1m49s\u001b[0m 161ms/step - accuracy: 0.9623 - loss: 0.1050 - val_accuracy: 0.9650 - val_loss: 0.0946\n",
      "Epoch 12/200\n",
      "\u001b[1m304/304\u001b[0m \u001b[32m━━━━━━━━━━━━━━━━━━━━\u001b[0m\u001b[37m\u001b[0m \u001b[1m0s\u001b[0m 154ms/step - accuracy: 0.9678 - loss: 0.1031\n",
      "Epoch 12: val_accuracy did not improve from 0.96498\n",
      "\u001b[1m304/304\u001b[0m \u001b[32m━━━━━━━━━━━━━━━━━━━━\u001b[0m\u001b[37m\u001b[0m \u001b[1m50s\u001b[0m 165ms/step - accuracy: 0.9678 - loss: 0.1031 - val_accuracy: 0.9642 - val_loss: 0.0926\n",
      "Epoch 13/200\n",
      "\u001b[1m304/304\u001b[0m \u001b[32m━━━━━━━━━━━━━━━━━━━━\u001b[0m\u001b[37m\u001b[0m \u001b[1m0s\u001b[0m 151ms/step - accuracy: 0.9683 - loss: 0.0933\n",
      "Epoch 13: val_accuracy improved from 0.96498 to 0.96910, saving model to CNN2D_results/Scalogram_Spectrogram/best_model_2.h5\n"
     ]
    },
    {
     "name": "stderr",
     "output_type": "stream",
     "text": [
      "WARNING:absl:You are saving your model as an HDF5 file via `model.save()` or `keras.saving.save_model(model)`. This file format is considered legacy. We recommend using instead the native Keras format, e.g. `model.save('my_model.keras')` or `keras.saving.save_model(model, 'my_model.keras')`. \n"
     ]
    },
    {
     "name": "stdout",
     "output_type": "stream",
     "text": [
      "\u001b[1m304/304\u001b[0m \u001b[32m━━━━━━━━━━━━━━━━━━━━\u001b[0m\u001b[37m\u001b[0m \u001b[1m49s\u001b[0m 162ms/step - accuracy: 0.9683 - loss: 0.0933 - val_accuracy: 0.9691 - val_loss: 0.0815\n",
      "Epoch 14/200\n",
      "\u001b[1m304/304\u001b[0m \u001b[32m━━━━━━━━━━━━━━━━━━━━\u001b[0m\u001b[37m\u001b[0m \u001b[1m0s\u001b[0m 152ms/step - accuracy: 0.9673 - loss: 0.1017\n",
      "Epoch 14: val_accuracy did not improve from 0.96910\n",
      "\u001b[1m304/304\u001b[0m \u001b[32m━━━━━━━━━━━━━━━━━━━━\u001b[0m\u001b[37m\u001b[0m \u001b[1m50s\u001b[0m 163ms/step - accuracy: 0.9673 - loss: 0.1018 - val_accuracy: 0.9670 - val_loss: 0.0857\n",
      "Epoch 15/200\n",
      "\u001b[1m304/304\u001b[0m \u001b[32m━━━━━━━━━━━━━━━━━━━━\u001b[0m\u001b[37m\u001b[0m \u001b[1m0s\u001b[0m 152ms/step - accuracy: 0.9704 - loss: 0.0884\n",
      "Epoch 15: val_accuracy did not improve from 0.96910\n",
      "\u001b[1m304/304\u001b[0m \u001b[32m━━━━━━━━━━━━━━━━━━━━\u001b[0m\u001b[37m\u001b[0m \u001b[1m50s\u001b[0m 163ms/step - accuracy: 0.9703 - loss: 0.0884 - val_accuracy: 0.9588 - val_loss: 0.1329\n",
      "Epoch 16/200\n",
      "\u001b[1m304/304\u001b[0m \u001b[32m━━━━━━━━━━━━━━━━━━━━\u001b[0m\u001b[37m\u001b[0m \u001b[1m0s\u001b[0m 150ms/step - accuracy: 0.9683 - loss: 0.0888\n",
      "Epoch 16: val_accuracy improved from 0.96910 to 0.97569, saving model to CNN2D_results/Scalogram_Spectrogram/best_model_2.h5\n"
     ]
    },
    {
     "name": "stderr",
     "output_type": "stream",
     "text": [
      "WARNING:absl:You are saving your model as an HDF5 file via `model.save()` or `keras.saving.save_model(model)`. This file format is considered legacy. We recommend using instead the native Keras format, e.g. `model.save('my_model.keras')` or `keras.saving.save_model(model, 'my_model.keras')`. \n"
     ]
    },
    {
     "name": "stdout",
     "output_type": "stream",
     "text": [
      "\u001b[1m304/304\u001b[0m \u001b[32m━━━━━━━━━━━━━━━━━━━━\u001b[0m\u001b[37m\u001b[0m \u001b[1m49s\u001b[0m 161ms/step - accuracy: 0.9683 - loss: 0.0888 - val_accuracy: 0.9757 - val_loss: 0.0674\n",
      "Epoch 17/200\n",
      "\u001b[1m304/304\u001b[0m \u001b[32m━━━━━━━━━━━━━━━━━━━━\u001b[0m\u001b[37m\u001b[0m \u001b[1m0s\u001b[0m 153ms/step - accuracy: 0.9776 - loss: 0.0645\n",
      "Epoch 17: val_accuracy did not improve from 0.97569\n",
      "\u001b[1m304/304\u001b[0m \u001b[32m━━━━━━━━━━━━━━━━━━━━\u001b[0m\u001b[37m\u001b[0m \u001b[1m50s\u001b[0m 164ms/step - accuracy: 0.9776 - loss: 0.0646 - val_accuracy: 0.9753 - val_loss: 0.0661\n",
      "Epoch 18/200\n",
      "\u001b[1m304/304\u001b[0m \u001b[32m━━━━━━━━━━━━━━━━━━━━\u001b[0m\u001b[37m\u001b[0m \u001b[1m0s\u001b[0m 151ms/step - accuracy: 0.9777 - loss: 0.0684\n",
      "Epoch 18: val_accuracy did not improve from 0.97569\n",
      "\u001b[1m304/304\u001b[0m \u001b[32m━━━━━━━━━━━━━━━━━━━━\u001b[0m\u001b[37m\u001b[0m \u001b[1m49s\u001b[0m 162ms/step - accuracy: 0.9776 - loss: 0.0685 - val_accuracy: 0.9662 - val_loss: 0.0915\n",
      "Epoch 19/200\n",
      "\u001b[1m304/304\u001b[0m \u001b[32m━━━━━━━━━━━━━━━━━━━━\u001b[0m\u001b[37m\u001b[0m \u001b[1m0s\u001b[0m 150ms/step - accuracy: 0.9780 - loss: 0.0673\n",
      "Epoch 19: val_accuracy did not improve from 0.97569\n",
      "\u001b[1m304/304\u001b[0m \u001b[32m━━━━━━━━━━━━━━━━━━━━\u001b[0m\u001b[37m\u001b[0m \u001b[1m49s\u001b[0m 161ms/step - accuracy: 0.9780 - loss: 0.0673 - val_accuracy: 0.9757 - val_loss: 0.0603\n",
      "Epoch 20/200\n",
      "\u001b[1m304/304\u001b[0m \u001b[32m━━━━━━━━━━━━━━━━━━━━\u001b[0m\u001b[37m\u001b[0m \u001b[1m0s\u001b[0m 150ms/step - accuracy: 0.9801 - loss: 0.0536\n",
      "Epoch 20: val_accuracy did not improve from 0.97569\n",
      "\u001b[1m304/304\u001b[0m \u001b[32m━━━━━━━━━━━━━━━━━━━━\u001b[0m\u001b[37m\u001b[0m \u001b[1m49s\u001b[0m 162ms/step - accuracy: 0.9801 - loss: 0.0536 - val_accuracy: 0.9724 - val_loss: 0.0756\n",
      "Epoch 21/200\n",
      "\u001b[1m304/304\u001b[0m \u001b[32m━━━━━━━━━━━━━━━━━━━━\u001b[0m\u001b[37m\u001b[0m \u001b[1m0s\u001b[0m 150ms/step - accuracy: 0.9798 - loss: 0.0575\n",
      "Epoch 21: val_accuracy improved from 0.97569 to 0.97940, saving model to CNN2D_results/Scalogram_Spectrogram/best_model_2.h5\n"
     ]
    },
    {
     "name": "stderr",
     "output_type": "stream",
     "text": [
      "WARNING:absl:You are saving your model as an HDF5 file via `model.save()` or `keras.saving.save_model(model)`. This file format is considered legacy. We recommend using instead the native Keras format, e.g. `model.save('my_model.keras')` or `keras.saving.save_model(model, 'my_model.keras')`. \n"
     ]
    },
    {
     "name": "stdout",
     "output_type": "stream",
     "text": [
      "\u001b[1m304/304\u001b[0m \u001b[32m━━━━━━━━━━━━━━━━━━━━\u001b[0m\u001b[37m\u001b[0m \u001b[1m49s\u001b[0m 161ms/step - accuracy: 0.9798 - loss: 0.0575 - val_accuracy: 0.9794 - val_loss: 0.0529\n",
      "Epoch 22/200\n",
      "\u001b[1m304/304\u001b[0m \u001b[32m━━━━━━━━━━━━━━━━━━━━\u001b[0m\u001b[37m\u001b[0m \u001b[1m0s\u001b[0m 148ms/step - accuracy: 0.9815 - loss: 0.0506\n",
      "Epoch 22: val_accuracy did not improve from 0.97940\n",
      "\u001b[1m304/304\u001b[0m \u001b[32m━━━━━━━━━━━━━━━━━━━━\u001b[0m\u001b[37m\u001b[0m \u001b[1m49s\u001b[0m 160ms/step - accuracy: 0.9814 - loss: 0.0506 - val_accuracy: 0.9707 - val_loss: 0.1014\n",
      "Epoch 23/200\n",
      "\u001b[1m304/304\u001b[0m \u001b[32m━━━━━━━━━━━━━━━━━━━━\u001b[0m\u001b[37m\u001b[0m \u001b[1m0s\u001b[0m 149ms/step - accuracy: 0.9741 - loss: 0.0814\n",
      "Epoch 23: val_accuracy improved from 0.97940 to 0.98146, saving model to CNN2D_results/Scalogram_Spectrogram/best_model_2.h5\n"
     ]
    },
    {
     "name": "stderr",
     "output_type": "stream",
     "text": [
      "WARNING:absl:You are saving your model as an HDF5 file via `model.save()` or `keras.saving.save_model(model)`. This file format is considered legacy. We recommend using instead the native Keras format, e.g. `model.save('my_model.keras')` or `keras.saving.save_model(model, 'my_model.keras')`. \n"
     ]
    },
    {
     "name": "stdout",
     "output_type": "stream",
     "text": [
      "\u001b[1m304/304\u001b[0m \u001b[32m━━━━━━━━━━━━━━━━━━━━\u001b[0m\u001b[37m\u001b[0m \u001b[1m49s\u001b[0m 160ms/step - accuracy: 0.9741 - loss: 0.0814 - val_accuracy: 0.9815 - val_loss: 0.0517\n",
      "Epoch 24/200\n",
      "\u001b[1m304/304\u001b[0m \u001b[32m━━━━━━━━━━━━━━━━━━━━\u001b[0m\u001b[37m\u001b[0m \u001b[1m0s\u001b[0m 147ms/step - accuracy: 0.9852 - loss: 0.0453\n",
      "Epoch 24: val_accuracy improved from 0.98146 to 0.98393, saving model to CNN2D_results/Scalogram_Spectrogram/best_model_2.h5\n"
     ]
    },
    {
     "name": "stderr",
     "output_type": "stream",
     "text": [
      "WARNING:absl:You are saving your model as an HDF5 file via `model.save()` or `keras.saving.save_model(model)`. This file format is considered legacy. We recommend using instead the native Keras format, e.g. `model.save('my_model.keras')` or `keras.saving.save_model(model, 'my_model.keras')`. \n"
     ]
    },
    {
     "name": "stdout",
     "output_type": "stream",
     "text": [
      "\u001b[1m304/304\u001b[0m \u001b[32m━━━━━━━━━━━━━━━━━━━━\u001b[0m\u001b[37m\u001b[0m \u001b[1m48s\u001b[0m 159ms/step - accuracy: 0.9852 - loss: 0.0453 - val_accuracy: 0.9839 - val_loss: 0.0430\n",
      "Epoch 25/200\n",
      "\u001b[1m304/304\u001b[0m \u001b[32m━━━━━━━━━━━━━━━━━━━━\u001b[0m\u001b[37m\u001b[0m \u001b[1m0s\u001b[0m 149ms/step - accuracy: 0.9839 - loss: 0.0511\n",
      "Epoch 25: val_accuracy did not improve from 0.98393\n",
      "\u001b[1m304/304\u001b[0m \u001b[32m━━━━━━━━━━━━━━━━━━━━\u001b[0m\u001b[37m\u001b[0m \u001b[1m49s\u001b[0m 160ms/step - accuracy: 0.9839 - loss: 0.0511 - val_accuracy: 0.9794 - val_loss: 0.0583\n",
      "Epoch 26/200\n",
      "\u001b[1m304/304\u001b[0m \u001b[32m━━━━━━━━━━━━━━━━━━━━\u001b[0m\u001b[37m\u001b[0m \u001b[1m0s\u001b[0m 152ms/step - accuracy: 0.9837 - loss: 0.0515\n",
      "Epoch 26: val_accuracy did not improve from 0.98393\n",
      "\u001b[1m304/304\u001b[0m \u001b[32m━━━━━━━━━━━━━━━━━━━━\u001b[0m\u001b[37m\u001b[0m \u001b[1m50s\u001b[0m 163ms/step - accuracy: 0.9837 - loss: 0.0515 - val_accuracy: 0.9761 - val_loss: 0.0663\n",
      "Epoch 27/200\n",
      "\u001b[1m304/304\u001b[0m \u001b[32m━━━━━━━━━━━━━━━━━━━━\u001b[0m\u001b[37m\u001b[0m \u001b[1m0s\u001b[0m 151ms/step - accuracy: 0.9778 - loss: 0.0744\n",
      "Epoch 27: val_accuracy did not improve from 0.98393\n",
      "\u001b[1m304/304\u001b[0m \u001b[32m━━━━━━━━━━━━━━━━━━━━\u001b[0m\u001b[37m\u001b[0m \u001b[1m49s\u001b[0m 163ms/step - accuracy: 0.9778 - loss: 0.0744 - val_accuracy: 0.9827 - val_loss: 0.0438\n",
      "Epoch 28/200\n",
      "\u001b[1m304/304\u001b[0m \u001b[32m━━━━━━━━━━━━━━━━━━━━\u001b[0m\u001b[37m\u001b[0m \u001b[1m0s\u001b[0m 148ms/step - accuracy: 0.9872 - loss: 0.0426\n",
      "Epoch 28: val_accuracy did not improve from 0.98393\n",
      "\u001b[1m304/304\u001b[0m \u001b[32m━━━━━━━━━━━━━━━━━━━━\u001b[0m\u001b[37m\u001b[0m \u001b[1m49s\u001b[0m 160ms/step - accuracy: 0.9872 - loss: 0.0426 - val_accuracy: 0.9778 - val_loss: 0.0623\n",
      "Epoch 29/200\n",
      "\u001b[1m304/304\u001b[0m \u001b[32m━━━━━━━━━━━━━━━━━━━━\u001b[0m\u001b[37m\u001b[0m \u001b[1m0s\u001b[0m 150ms/step - accuracy: 0.9838 - loss: 0.0471\n",
      "Epoch 29: val_accuracy did not improve from 0.98393\n",
      "\u001b[1m304/304\u001b[0m \u001b[32m━━━━━━━━━━━━━━━━━━━━\u001b[0m\u001b[37m\u001b[0m \u001b[1m49s\u001b[0m 161ms/step - accuracy: 0.9838 - loss: 0.0470 - val_accuracy: 0.9806 - val_loss: 0.0510\n",
      "Epoch 30/200\n",
      "\u001b[1m304/304\u001b[0m \u001b[32m━━━━━━━━━━━━━━━━━━━━\u001b[0m\u001b[37m\u001b[0m \u001b[1m0s\u001b[0m 149ms/step - accuracy: 0.9893 - loss: 0.0325\n",
      "Epoch 30: val_accuracy did not improve from 0.98393\n",
      "\u001b[1m304/304\u001b[0m \u001b[32m━━━━━━━━━━━━━━━━━━━━\u001b[0m\u001b[37m\u001b[0m \u001b[1m49s\u001b[0m 160ms/step - accuracy: 0.9893 - loss: 0.0326 - val_accuracy: 0.9361 - val_loss: 0.1587\n",
      "Epoch 31/200\n",
      "\u001b[1m304/304\u001b[0m \u001b[32m━━━━━━━━━━━━━━━━━━━━\u001b[0m\u001b[37m\u001b[0m \u001b[1m0s\u001b[0m 149ms/step - accuracy: 0.9820 - loss: 0.0530\n",
      "Epoch 31: val_accuracy did not improve from 0.98393\n",
      "\u001b[1m304/304\u001b[0m \u001b[32m━━━━━━━━━━━━━━━━━━━━\u001b[0m\u001b[37m\u001b[0m \u001b[1m49s\u001b[0m 161ms/step - accuracy: 0.9820 - loss: 0.0529 - val_accuracy: 0.9600 - val_loss: 0.1093\n",
      "Epoch 32/200\n",
      "\u001b[1m304/304\u001b[0m \u001b[32m━━━━━━━━━━━━━━━━━━━━\u001b[0m\u001b[37m\u001b[0m \u001b[1m0s\u001b[0m 150ms/step - accuracy: 0.9874 - loss: 0.0371\n",
      "Epoch 32: val_accuracy did not improve from 0.98393\n",
      "\u001b[1m304/304\u001b[0m \u001b[32m━━━━━━━━━━━━━━━━━━━━\u001b[0m\u001b[37m\u001b[0m \u001b[1m49s\u001b[0m 161ms/step - accuracy: 0.9874 - loss: 0.0371 - val_accuracy: 0.9810 - val_loss: 0.0570\n",
      "Epoch 33/200\n",
      "\u001b[1m304/304\u001b[0m \u001b[32m━━━━━━━━━━━━━━━━━━━━\u001b[0m\u001b[37m\u001b[0m \u001b[1m0s\u001b[0m 151ms/step - accuracy: 0.9896 - loss: 0.0314\n",
      "Epoch 33: val_accuracy did not improve from 0.98393\n",
      "\u001b[1m304/304\u001b[0m \u001b[32m━━━━━━━━━━━━━━━━━━━━\u001b[0m\u001b[37m\u001b[0m \u001b[1m49s\u001b[0m 162ms/step - accuracy: 0.9896 - loss: 0.0314 - val_accuracy: 0.9431 - val_loss: 0.3144\n",
      "Epoch 34/200\n",
      "\u001b[1m304/304\u001b[0m \u001b[32m━━━━━━━━━━━━━━━━━━━━\u001b[0m\u001b[37m\u001b[0m \u001b[1m0s\u001b[0m 152ms/step - accuracy: 0.9833 - loss: 0.0540\n",
      "Epoch 34: val_accuracy did not improve from 0.98393\n",
      "\u001b[1m304/304\u001b[0m \u001b[32m━━━━━━━━━━━━━━━━━━━━\u001b[0m\u001b[37m\u001b[0m \u001b[1m50s\u001b[0m 163ms/step - accuracy: 0.9833 - loss: 0.0540 - val_accuracy: 0.9749 - val_loss: 0.0661\n",
      "Epoch 35/200\n",
      "\u001b[1m304/304\u001b[0m \u001b[32m━━━━━━━━━━━━━━━━━━━━\u001b[0m\u001b[37m\u001b[0m \u001b[1m0s\u001b[0m 149ms/step - accuracy: 0.9860 - loss: 0.0386\n",
      "Epoch 35: val_accuracy did not improve from 0.98393\n",
      "\u001b[1m304/304\u001b[0m \u001b[32m━━━━━━━━━━━━━━━━━━━━\u001b[0m\u001b[37m\u001b[0m \u001b[1m49s\u001b[0m 160ms/step - accuracy: 0.9860 - loss: 0.0386 - val_accuracy: 0.9773 - val_loss: 0.0770\n",
      "Epoch 36/200\n",
      "\u001b[1m304/304\u001b[0m \u001b[32m━━━━━━━━━━━━━━━━━━━━\u001b[0m\u001b[37m\u001b[0m \u001b[1m0s\u001b[0m 149ms/step - accuracy: 0.9899 - loss: 0.0359\n",
      "Epoch 36: val_accuracy did not improve from 0.98393\n",
      "\u001b[1m304/304\u001b[0m \u001b[32m━━━━━━━━━━━━━━━━━━━━\u001b[0m\u001b[37m\u001b[0m \u001b[1m49s\u001b[0m 161ms/step - accuracy: 0.9899 - loss: 0.0359 - val_accuracy: 0.9831 - val_loss: 0.0495\n",
      "Epoch 37/200\n",
      "\u001b[1m304/304\u001b[0m \u001b[32m━━━━━━━━━━━━━━━━━━━━\u001b[0m\u001b[37m\u001b[0m \u001b[1m0s\u001b[0m 151ms/step - accuracy: 0.9886 - loss: 0.0335\n",
      "Epoch 37: val_accuracy improved from 0.98393 to 0.98434, saving model to CNN2D_results/Scalogram_Spectrogram/best_model_2.h5\n"
     ]
    },
    {
     "name": "stderr",
     "output_type": "stream",
     "text": [
      "WARNING:absl:You are saving your model as an HDF5 file via `model.save()` or `keras.saving.save_model(model)`. This file format is considered legacy. We recommend using instead the native Keras format, e.g. `model.save('my_model.keras')` or `keras.saving.save_model(model, 'my_model.keras')`. \n"
     ]
    },
    {
     "name": "stdout",
     "output_type": "stream",
     "text": [
      "\u001b[1m304/304\u001b[0m \u001b[32m━━━━━━━━━━━━━━━━━━━━\u001b[0m\u001b[37m\u001b[0m \u001b[1m50s\u001b[0m 163ms/step - accuracy: 0.9886 - loss: 0.0336 - val_accuracy: 0.9843 - val_loss: 0.0474\n",
      "Epoch 38/200\n",
      "\u001b[1m304/304\u001b[0m \u001b[32m━━━━━━━━━━━━━━━━━━━━\u001b[0m\u001b[37m\u001b[0m \u001b[1m0s\u001b[0m 151ms/step - accuracy: 0.9910 - loss: 0.0273\n",
      "Epoch 38: val_accuracy did not improve from 0.98434\n",
      "\u001b[1m304/304\u001b[0m \u001b[32m━━━━━━━━━━━━━━━━━━━━\u001b[0m\u001b[37m\u001b[0m \u001b[1m49s\u001b[0m 162ms/step - accuracy: 0.9910 - loss: 0.0274 - val_accuracy: 0.9650 - val_loss: 0.0891\n",
      "Epoch 39/200\n",
      "\u001b[1m304/304\u001b[0m \u001b[32m━━━━━━━━━━━━━━━━━━━━\u001b[0m\u001b[37m\u001b[0m \u001b[1m0s\u001b[0m 148ms/step - accuracy: 0.9849 - loss: 0.0491\n",
      "Epoch 39: val_accuracy did not improve from 0.98434\n",
      "\u001b[1m304/304\u001b[0m \u001b[32m━━━━━━━━━━━━━━━━━━━━\u001b[0m\u001b[37m\u001b[0m \u001b[1m49s\u001b[0m 160ms/step - accuracy: 0.9849 - loss: 0.0492 - val_accuracy: 0.9819 - val_loss: 0.0530\n",
      "Epoch 40/200\n",
      "\u001b[1m304/304\u001b[0m \u001b[32m━━━━━━━━━━━━━━━━━━━━\u001b[0m\u001b[37m\u001b[0m \u001b[1m0s\u001b[0m 149ms/step - accuracy: 0.9903 - loss: 0.0307\n",
      "Epoch 40: val_accuracy did not improve from 0.98434\n",
      "\u001b[1m304/304\u001b[0m \u001b[32m━━━━━━━━━━━━━━━━━━━━\u001b[0m\u001b[37m\u001b[0m \u001b[1m49s\u001b[0m 160ms/step - accuracy: 0.9903 - loss: 0.0307 - val_accuracy: 0.9843 - val_loss: 0.0519\n",
      "Epoch 41/200\n",
      "\u001b[1m304/304\u001b[0m \u001b[32m━━━━━━━━━━━━━━━━━━━━\u001b[0m\u001b[37m\u001b[0m \u001b[1m0s\u001b[0m 149ms/step - accuracy: 0.9909 - loss: 0.0292\n",
      "Epoch 41: val_accuracy did not improve from 0.98434\n",
      "\u001b[1m304/304\u001b[0m \u001b[32m━━━━━━━━━━━━━━━━━━━━\u001b[0m\u001b[37m\u001b[0m \u001b[1m49s\u001b[0m 160ms/step - accuracy: 0.9909 - loss: 0.0293 - val_accuracy: 0.9823 - val_loss: 0.0516\n",
      "Epoch 42/200\n",
      "\u001b[1m304/304\u001b[0m \u001b[32m━━━━━━━━━━━━━━━━━━━━\u001b[0m\u001b[37m\u001b[0m \u001b[1m0s\u001b[0m 150ms/step - accuracy: 0.9925 - loss: 0.0228\n",
      "Epoch 42: val_accuracy did not improve from 0.98434\n",
      "\u001b[1m304/304\u001b[0m \u001b[32m━━━━━━━━━━━━━━━━━━━━\u001b[0m\u001b[37m\u001b[0m \u001b[1m49s\u001b[0m 162ms/step - accuracy: 0.9925 - loss: 0.0228 - val_accuracy: 0.9815 - val_loss: 0.0590\n",
      "Epoch 43/200\n",
      "\u001b[1m304/304\u001b[0m \u001b[32m━━━━━━━━━━━━━━━━━━━━\u001b[0m\u001b[37m\u001b[0m \u001b[1m0s\u001b[0m 149ms/step - accuracy: 0.9903 - loss: 0.0266\n",
      "Epoch 43: val_accuracy did not improve from 0.98434\n",
      "\u001b[1m304/304\u001b[0m \u001b[32m━━━━━━━━━━━━━━━━━━━━\u001b[0m\u001b[37m\u001b[0m \u001b[1m49s\u001b[0m 160ms/step - accuracy: 0.9903 - loss: 0.0266 - val_accuracy: 0.9712 - val_loss: 0.1072\n",
      "Epoch 44/200\n",
      "\u001b[1m304/304\u001b[0m \u001b[32m━━━━━━━━━━━━━━━━━━━━\u001b[0m\u001b[37m\u001b[0m \u001b[1m0s\u001b[0m 147ms/step - accuracy: 0.9872 - loss: 0.0385\n",
      "Epoch 44: val_accuracy did not improve from 0.98434\n",
      "\u001b[1m304/304\u001b[0m \u001b[32m━━━━━━━━━━━━━━━━━━━━\u001b[0m\u001b[37m\u001b[0m \u001b[1m48s\u001b[0m 159ms/step - accuracy: 0.9872 - loss: 0.0385 - val_accuracy: 0.9757 - val_loss: 0.1043\n",
      "Epoch 45/200\n",
      "\u001b[1m304/304\u001b[0m \u001b[32m━━━━━━━━━━━━━━━━━━━━\u001b[0m\u001b[37m\u001b[0m \u001b[1m0s\u001b[0m 148ms/step - accuracy: 0.9919 - loss: 0.0248\n",
      "Epoch 45: val_accuracy did not improve from 0.98434\n",
      "\u001b[1m304/304\u001b[0m \u001b[32m━━━━━━━━━━━━━━━━━━━━\u001b[0m\u001b[37m\u001b[0m \u001b[1m48s\u001b[0m 159ms/step - accuracy: 0.9919 - loss: 0.0248 - val_accuracy: 0.9790 - val_loss: 0.0856\n",
      "Epoch 46/200\n",
      "\u001b[1m304/304\u001b[0m \u001b[32m━━━━━━━━━━━━━━━━━━━━\u001b[0m\u001b[37m\u001b[0m \u001b[1m0s\u001b[0m 149ms/step - accuracy: 0.9938 - loss: 0.0209\n",
      "Epoch 46: val_accuracy improved from 0.98434 to 0.98599, saving model to CNN2D_results/Scalogram_Spectrogram/best_model_2.h5\n"
     ]
    },
    {
     "name": "stderr",
     "output_type": "stream",
     "text": [
      "WARNING:absl:You are saving your model as an HDF5 file via `model.save()` or `keras.saving.save_model(model)`. This file format is considered legacy. We recommend using instead the native Keras format, e.g. `model.save('my_model.keras')` or `keras.saving.save_model(model, 'my_model.keras')`. \n"
     ]
    },
    {
     "name": "stdout",
     "output_type": "stream",
     "text": [
      "\u001b[1m304/304\u001b[0m \u001b[32m━━━━━━━━━━━━━━━━━━━━\u001b[0m\u001b[37m\u001b[0m \u001b[1m49s\u001b[0m 161ms/step - accuracy: 0.9938 - loss: 0.0209 - val_accuracy: 0.9860 - val_loss: 0.0451\n",
      "Epoch 47/200\n",
      "\u001b[1m304/304\u001b[0m \u001b[32m━━━━━━━━━━━━━━━━━━━━\u001b[0m\u001b[37m\u001b[0m \u001b[1m0s\u001b[0m 148ms/step - accuracy: 0.9919 - loss: 0.0257\n",
      "Epoch 47: val_accuracy did not improve from 0.98599\n",
      "\u001b[1m304/304\u001b[0m \u001b[32m━━━━━━━━━━━━━━━━━━━━\u001b[0m\u001b[37m\u001b[0m \u001b[1m48s\u001b[0m 159ms/step - accuracy: 0.9919 - loss: 0.0257 - val_accuracy: 0.9679 - val_loss: 0.1156\n",
      "Epoch 48/200\n",
      "\u001b[1m304/304\u001b[0m \u001b[32m━━━━━━━━━━━━━━━━━━━━\u001b[0m\u001b[37m\u001b[0m \u001b[1m0s\u001b[0m 149ms/step - accuracy: 0.9851 - loss: 0.0679\n",
      "Epoch 48: val_accuracy did not improve from 0.98599\n",
      "\u001b[1m304/304\u001b[0m \u001b[32m━━━━━━━━━━━━━━━━━━━━\u001b[0m\u001b[37m\u001b[0m \u001b[1m49s\u001b[0m 160ms/step - accuracy: 0.9852 - loss: 0.0678 - val_accuracy: 0.9819 - val_loss: 0.0678\n",
      "Epoch 49/200\n",
      "\u001b[1m304/304\u001b[0m \u001b[32m━━━━━━━━━━━━━━━━━━━━\u001b[0m\u001b[37m\u001b[0m \u001b[1m0s\u001b[0m 148ms/step - accuracy: 0.9971 - loss: 0.0135\n",
      "Epoch 49: val_accuracy did not improve from 0.98599\n",
      "\u001b[1m304/304\u001b[0m \u001b[32m━━━━━━━━━━━━━━━━━━━━\u001b[0m\u001b[37m\u001b[0m \u001b[1m49s\u001b[0m 160ms/step - accuracy: 0.9971 - loss: 0.0135 - val_accuracy: 0.9802 - val_loss: 0.0695\n",
      "Epoch 50/200\n",
      "\u001b[1m304/304\u001b[0m \u001b[32m━━━━━━━━━━━━━━━━━━━━\u001b[0m\u001b[37m\u001b[0m \u001b[1m0s\u001b[0m 147ms/step - accuracy: 0.9960 - loss: 0.0136\n",
      "Epoch 50: val_accuracy did not improve from 0.98599\n",
      "\u001b[1m304/304\u001b[0m \u001b[32m━━━━━━━━━━━━━━━━━━━━\u001b[0m\u001b[37m\u001b[0m \u001b[1m48s\u001b[0m 158ms/step - accuracy: 0.9960 - loss: 0.0136 - val_accuracy: 0.9852 - val_loss: 0.0495\n",
      "Epoch 51/200\n",
      "\u001b[1m304/304\u001b[0m \u001b[32m━━━━━━━━━━━━━━━━━━━━\u001b[0m\u001b[37m\u001b[0m \u001b[1m0s\u001b[0m 150ms/step - accuracy: 0.9938 - loss: 0.0176\n",
      "Epoch 51: val_accuracy did not improve from 0.98599\n",
      "\u001b[1m304/304\u001b[0m \u001b[32m━━━━━━━━━━━━━━━━━━━━\u001b[0m\u001b[37m\u001b[0m \u001b[1m49s\u001b[0m 161ms/step - accuracy: 0.9938 - loss: 0.0176 - val_accuracy: 0.9712 - val_loss: 0.1108\n",
      "Epoch 52/200\n",
      "\u001b[1m304/304\u001b[0m \u001b[32m━━━━━━━━━━━━━━━━━━━━\u001b[0m\u001b[37m\u001b[0m \u001b[1m0s\u001b[0m 149ms/step - accuracy: 0.9893 - loss: 0.0393\n",
      "Epoch 52: val_accuracy did not improve from 0.98599\n",
      "\u001b[1m304/304\u001b[0m \u001b[32m━━━━━━━━━━━━━━━━━━━━\u001b[0m\u001b[37m\u001b[0m \u001b[1m49s\u001b[0m 160ms/step - accuracy: 0.9893 - loss: 0.0393 - val_accuracy: 0.9819 - val_loss: 0.0725\n",
      "Epoch 53/200\n",
      "\u001b[1m304/304\u001b[0m \u001b[32m━━━━━━━━━━━━━━━━━━━━\u001b[0m\u001b[37m\u001b[0m \u001b[1m0s\u001b[0m 148ms/step - accuracy: 0.9899 - loss: 0.0375\n",
      "Epoch 53: val_accuracy did not improve from 0.98599\n",
      "\u001b[1m304/304\u001b[0m \u001b[32m━━━━━━━━━━━━━━━━━━━━\u001b[0m\u001b[37m\u001b[0m \u001b[1m49s\u001b[0m 160ms/step - accuracy: 0.9899 - loss: 0.0374 - val_accuracy: 0.9732 - val_loss: 0.0926\n",
      "Epoch 54/200\n",
      "\u001b[1m304/304\u001b[0m \u001b[32m━━━━━━━━━━━━━━━━━━━━\u001b[0m\u001b[37m\u001b[0m \u001b[1m0s\u001b[0m 147ms/step - accuracy: 0.9932 - loss: 0.0222\n",
      "Epoch 54: val_accuracy improved from 0.98599 to 0.98681, saving model to CNN2D_results/Scalogram_Spectrogram/best_model_2.h5\n"
     ]
    },
    {
     "name": "stderr",
     "output_type": "stream",
     "text": [
      "WARNING:absl:You are saving your model as an HDF5 file via `model.save()` or `keras.saving.save_model(model)`. This file format is considered legacy. We recommend using instead the native Keras format, e.g. `model.save('my_model.keras')` or `keras.saving.save_model(model, 'my_model.keras')`. \n"
     ]
    },
    {
     "name": "stdout",
     "output_type": "stream",
     "text": [
      "\u001b[1m304/304\u001b[0m \u001b[32m━━━━━━━━━━━━━━━━━━━━\u001b[0m\u001b[37m\u001b[0m \u001b[1m48s\u001b[0m 160ms/step - accuracy: 0.9932 - loss: 0.0222 - val_accuracy: 0.9868 - val_loss: 0.0568\n",
      "Epoch 55/200\n",
      "\u001b[1m304/304\u001b[0m \u001b[32m━━━━━━━━━━━━━━━━━━━━\u001b[0m\u001b[37m\u001b[0m \u001b[1m0s\u001b[0m 146ms/step - accuracy: 0.9949 - loss: 0.0184\n",
      "Epoch 55: val_accuracy did not improve from 0.98681\n",
      "\u001b[1m304/304\u001b[0m \u001b[32m━━━━━━━━━━━━━━━━━━━━\u001b[0m\u001b[37m\u001b[0m \u001b[1m48s\u001b[0m 157ms/step - accuracy: 0.9948 - loss: 0.0184 - val_accuracy: 0.9749 - val_loss: 0.1005\n",
      "Epoch 56/200\n",
      "\u001b[1m304/304\u001b[0m \u001b[32m━━━━━━━━━━━━━━━━━━━━\u001b[0m\u001b[37m\u001b[0m \u001b[1m0s\u001b[0m 149ms/step - accuracy: 0.9926 - loss: 0.0233\n",
      "Epoch 56: val_accuracy did not improve from 0.98681\n",
      "\u001b[1m304/304\u001b[0m \u001b[32m━━━━━━━━━━━━━━━━━━━━\u001b[0m\u001b[37m\u001b[0m \u001b[1m49s\u001b[0m 160ms/step - accuracy: 0.9926 - loss: 0.0233 - val_accuracy: 0.9609 - val_loss: 0.1718\n",
      "Epoch 57/200\n",
      "\u001b[1m304/304\u001b[0m \u001b[32m━━━━━━━━━━━━━━━━━━━━\u001b[0m\u001b[37m\u001b[0m \u001b[1m0s\u001b[0m 149ms/step - accuracy: 0.9952 - loss: 0.0148\n",
      "Epoch 57: val_accuracy did not improve from 0.98681\n",
      "\u001b[1m304/304\u001b[0m \u001b[32m━━━━━━━━━━━━━━━━━━━━\u001b[0m\u001b[37m\u001b[0m \u001b[1m49s\u001b[0m 160ms/step - accuracy: 0.9952 - loss: 0.0147 - val_accuracy: 0.9839 - val_loss: 0.0739\n",
      "Epoch 58/200\n",
      "\u001b[1m304/304\u001b[0m \u001b[32m━━━━━━━━━━━━━━━━━━━━\u001b[0m\u001b[37m\u001b[0m \u001b[1m0s\u001b[0m 148ms/step - accuracy: 0.9967 - loss: 0.0135\n",
      "Epoch 58: val_accuracy did not improve from 0.98681\n",
      "\u001b[1m304/304\u001b[0m \u001b[32m━━━━━━━━━━━━━━━━━━━━\u001b[0m\u001b[37m\u001b[0m \u001b[1m48s\u001b[0m 159ms/step - accuracy: 0.9967 - loss: 0.0135 - val_accuracy: 0.9794 - val_loss: 0.0979\n",
      "Epoch 59/200\n",
      "\u001b[1m304/304\u001b[0m \u001b[32m━━━━━━━━━━━━━━━━━━━━\u001b[0m\u001b[37m\u001b[0m \u001b[1m0s\u001b[0m 152ms/step - accuracy: 0.9922 - loss: 0.0315\n",
      "Epoch 59: val_accuracy did not improve from 0.98681\n",
      "\u001b[1m304/304\u001b[0m \u001b[32m━━━━━━━━━━━━━━━━━━━━\u001b[0m\u001b[37m\u001b[0m \u001b[1m50s\u001b[0m 163ms/step - accuracy: 0.9922 - loss: 0.0316 - val_accuracy: 0.9629 - val_loss: 0.1016\n",
      "Epoch 60/200\n",
      "\u001b[1m304/304\u001b[0m \u001b[32m━━━━━━━━━━━━━━━━━━━━\u001b[0m\u001b[37m\u001b[0m \u001b[1m0s\u001b[0m 172ms/step - accuracy: 0.9857 - loss: 0.0453\n",
      "Epoch 60: val_accuracy did not improve from 0.98681\n",
      "\u001b[1m304/304\u001b[0m \u001b[32m━━━━━━━━━━━━━━━━━━━━\u001b[0m\u001b[37m\u001b[0m \u001b[1m60s\u001b[0m 197ms/step - accuracy: 0.9858 - loss: 0.0452 - val_accuracy: 0.9852 - val_loss: 0.0591\n",
      "Epoch 61/200\n",
      "\u001b[1m304/304\u001b[0m \u001b[32m━━━━━━━━━━━━━━━━━━━━\u001b[0m\u001b[37m\u001b[0m \u001b[1m0s\u001b[0m 173ms/step - accuracy: 0.9957 - loss: 0.0133\n",
      "Epoch 61: val_accuracy did not improve from 0.98681\n",
      "\u001b[1m304/304\u001b[0m \u001b[32m━━━━━━━━━━━━━━━━━━━━\u001b[0m\u001b[37m\u001b[0m \u001b[1m57s\u001b[0m 186ms/step - accuracy: 0.9957 - loss: 0.0133 - val_accuracy: 0.9753 - val_loss: 0.1081\n",
      "Epoch 62/200\n",
      "\u001b[1m304/304\u001b[0m \u001b[32m━━━━━━━━━━━━━━━━━━━━\u001b[0m\u001b[37m\u001b[0m \u001b[1m0s\u001b[0m 163ms/step - accuracy: 0.9962 - loss: 0.0130\n",
      "Epoch 62: val_accuracy did not improve from 0.98681\n",
      "\u001b[1m304/304\u001b[0m \u001b[32m━━━━━━━━━━━━━━━━━━━━\u001b[0m\u001b[37m\u001b[0m \u001b[1m53s\u001b[0m 175ms/step - accuracy: 0.9962 - loss: 0.0130 - val_accuracy: 0.9580 - val_loss: 0.2434\n",
      "Epoch 63/200\n",
      "\u001b[1m304/304\u001b[0m \u001b[32m━━━━━━━━━━━━━━━━━━━━\u001b[0m\u001b[37m\u001b[0m \u001b[1m0s\u001b[0m 165ms/step - accuracy: 0.9926 - loss: 0.0261\n",
      "Epoch 63: val_accuracy did not improve from 0.98681\n",
      "\u001b[1m304/304\u001b[0m \u001b[32m━━━━━━━━━━━━━━━━━━━━\u001b[0m\u001b[37m\u001b[0m \u001b[1m55s\u001b[0m 180ms/step - accuracy: 0.9926 - loss: 0.0261 - val_accuracy: 0.9794 - val_loss: 0.0638\n",
      "Epoch 64/200\n",
      "\u001b[1m304/304\u001b[0m \u001b[32m━━━━━━━━━━━━━━━━━━━━\u001b[0m\u001b[37m\u001b[0m \u001b[1m0s\u001b[0m 160ms/step - accuracy: 0.9913 - loss: 0.0267\n",
      "Epoch 64: val_accuracy did not improve from 0.98681\n",
      "\u001b[1m304/304\u001b[0m \u001b[32m━━━━━━━━━━━━━━━━━━━━\u001b[0m\u001b[37m\u001b[0m \u001b[1m52s\u001b[0m 171ms/step - accuracy: 0.9914 - loss: 0.0266 - val_accuracy: 0.9852 - val_loss: 0.0669\n",
      "Epoch 65/200\n",
      "\u001b[1m304/304\u001b[0m \u001b[32m━━━━━━━━━━━━━━━━━━━━\u001b[0m\u001b[37m\u001b[0m \u001b[1m0s\u001b[0m 169ms/step - accuracy: 0.9979 - loss: 0.0085\n",
      "Epoch 65: val_accuracy improved from 0.98681 to 0.98888, saving model to CNN2D_results/Scalogram_Spectrogram/best_model_2.h5\n"
     ]
    },
    {
     "name": "stderr",
     "output_type": "stream",
     "text": [
      "WARNING:absl:You are saving your model as an HDF5 file via `model.save()` or `keras.saving.save_model(model)`. This file format is considered legacy. We recommend using instead the native Keras format, e.g. `model.save('my_model.keras')` or `keras.saving.save_model(model, 'my_model.keras')`. \n"
     ]
    },
    {
     "name": "stdout",
     "output_type": "stream",
     "text": [
      "\u001b[1m304/304\u001b[0m \u001b[32m━━━━━━━━━━━━━━━━━━━━\u001b[0m\u001b[37m\u001b[0m \u001b[1m55s\u001b[0m 182ms/step - accuracy: 0.9979 - loss: 0.0085 - val_accuracy: 0.9889 - val_loss: 0.0636\n",
      "Epoch 66/200\n",
      "\u001b[1m304/304\u001b[0m \u001b[32m━━━━━━━━━━━━━━━━━━━━\u001b[0m\u001b[37m\u001b[0m \u001b[1m0s\u001b[0m 155ms/step - accuracy: 0.9983 - loss: 0.0061\n",
      "Epoch 66: val_accuracy did not improve from 0.98888\n",
      "\u001b[1m304/304\u001b[0m \u001b[32m━━━━━━━━━━━━━━━━━━━━\u001b[0m\u001b[37m\u001b[0m \u001b[1m51s\u001b[0m 167ms/step - accuracy: 0.9983 - loss: 0.0061 - val_accuracy: 0.9860 - val_loss: 0.0772\n",
      "Epoch 67/200\n",
      "\u001b[1m304/304\u001b[0m \u001b[32m━━━━━━━━━━━━━━━━━━━━\u001b[0m\u001b[37m\u001b[0m \u001b[1m0s\u001b[0m 157ms/step - accuracy: 0.9948 - loss: 0.0167\n",
      "Epoch 67: val_accuracy did not improve from 0.98888\n",
      "\u001b[1m304/304\u001b[0m \u001b[32m━━━━━━━━━━━━━━━━━━━━\u001b[0m\u001b[37m\u001b[0m \u001b[1m52s\u001b[0m 171ms/step - accuracy: 0.9948 - loss: 0.0167 - val_accuracy: 0.9835 - val_loss: 0.0840\n",
      "Epoch 68/200\n",
      "\u001b[1m304/304\u001b[0m \u001b[32m━━━━━━━━━━━━━━━━━━━━\u001b[0m\u001b[37m\u001b[0m \u001b[1m0s\u001b[0m 167ms/step - accuracy: 0.9963 - loss: 0.0143\n",
      "Epoch 68: val_accuracy did not improve from 0.98888\n",
      "\u001b[1m304/304\u001b[0m \u001b[32m━━━━━━━━━━━━━━━━━━━━\u001b[0m\u001b[37m\u001b[0m \u001b[1m55s\u001b[0m 179ms/step - accuracy: 0.9963 - loss: 0.0143 - val_accuracy: 0.9765 - val_loss: 0.0871\n",
      "Epoch 69/200\n",
      "\u001b[1m304/304\u001b[0m \u001b[32m━━━━━━━━━━━━━━━━━━━━\u001b[0m\u001b[37m\u001b[0m \u001b[1m0s\u001b[0m 162ms/step - accuracy: 0.9850 - loss: 0.0616\n",
      "Epoch 69: val_accuracy did not improve from 0.98888\n",
      "\u001b[1m304/304\u001b[0m \u001b[32m━━━━━━━━━━━━━━━━━━━━\u001b[0m\u001b[37m\u001b[0m \u001b[1m53s\u001b[0m 174ms/step - accuracy: 0.9850 - loss: 0.0616 - val_accuracy: 0.9790 - val_loss: 0.0902\n",
      "Epoch 70/200\n",
      "\u001b[1m304/304\u001b[0m \u001b[32m━━━━━━━━━━━━━━━━━━━━\u001b[0m\u001b[37m\u001b[0m \u001b[1m0s\u001b[0m 158ms/step - accuracy: 0.9963 - loss: 0.0130\n",
      "Epoch 70: val_accuracy did not improve from 0.98888\n",
      "\u001b[1m304/304\u001b[0m \u001b[32m━━━━━━━━━━━━━━━━━━━━\u001b[0m\u001b[37m\u001b[0m \u001b[1m52s\u001b[0m 171ms/step - accuracy: 0.9963 - loss: 0.0130 - val_accuracy: 0.9848 - val_loss: 0.0782\n",
      "Epoch 71/200\n",
      "\u001b[1m304/304\u001b[0m \u001b[32m━━━━━━━━━━━━━━━━━━━━\u001b[0m\u001b[37m\u001b[0m \u001b[1m0s\u001b[0m 160ms/step - accuracy: 0.9972 - loss: 0.0105\n",
      "Epoch 71: val_accuracy did not improve from 0.98888\n",
      "\u001b[1m304/304\u001b[0m \u001b[32m━━━━━━━━━━━━━━━━━━━━\u001b[0m\u001b[37m\u001b[0m \u001b[1m52s\u001b[0m 172ms/step - accuracy: 0.9972 - loss: 0.0105 - val_accuracy: 0.9827 - val_loss: 0.0928\n",
      "Epoch 72/200\n",
      "\u001b[1m304/304\u001b[0m \u001b[32m━━━━━━━━━━━━━━━━━━━━\u001b[0m\u001b[37m\u001b[0m \u001b[1m0s\u001b[0m 158ms/step - accuracy: 0.9902 - loss: 0.0422\n",
      "Epoch 72: val_accuracy did not improve from 0.98888\n",
      "\u001b[1m304/304\u001b[0m \u001b[32m━━━━━━━━━━━━━━━━━━━━\u001b[0m\u001b[37m\u001b[0m \u001b[1m52s\u001b[0m 170ms/step - accuracy: 0.9902 - loss: 0.0422 - val_accuracy: 0.9839 - val_loss: 0.0741\n",
      "Epoch 73/200\n",
      "\u001b[1m304/304\u001b[0m \u001b[32m━━━━━━━━━━━━━━━━━━━━\u001b[0m\u001b[37m\u001b[0m \u001b[1m0s\u001b[0m 158ms/step - accuracy: 0.9967 - loss: 0.0133\n",
      "Epoch 73: val_accuracy did not improve from 0.98888\n",
      "\u001b[1m304/304\u001b[0m \u001b[32m━━━━━━━━━━━━━━━━━━━━\u001b[0m\u001b[37m\u001b[0m \u001b[1m51s\u001b[0m 169ms/step - accuracy: 0.9967 - loss: 0.0133 - val_accuracy: 0.9732 - val_loss: 0.1377\n",
      "Epoch 74/200\n",
      "\u001b[1m304/304\u001b[0m \u001b[32m━━━━━━━━━━━━━━━━━━━━\u001b[0m\u001b[37m\u001b[0m \u001b[1m0s\u001b[0m 160ms/step - accuracy: 0.9963 - loss: 0.0091\n",
      "Epoch 74: val_accuracy did not improve from 0.98888\n",
      "\u001b[1m304/304\u001b[0m \u001b[32m━━━━━━━━━━━━━━━━━━━━\u001b[0m\u001b[37m\u001b[0m \u001b[1m52s\u001b[0m 172ms/step - accuracy: 0.9963 - loss: 0.0090 - val_accuracy: 0.9868 - val_loss: 0.0682\n",
      "Epoch 75/200\n",
      "\u001b[1m304/304\u001b[0m \u001b[32m━━━━━━━━━━━━━━━━━━━━\u001b[0m\u001b[37m\u001b[0m \u001b[1m0s\u001b[0m 161ms/step - accuracy: 0.9980 - loss: 0.0044\n",
      "Epoch 75: val_accuracy did not improve from 0.98888\n",
      "\u001b[1m304/304\u001b[0m \u001b[32m━━━━━━━━━━━━━━━━━━━━\u001b[0m\u001b[37m\u001b[0m \u001b[1m52s\u001b[0m 173ms/step - accuracy: 0.9980 - loss: 0.0044 - val_accuracy: 0.9666 - val_loss: 0.2067\n",
      "Epoch 76/200\n",
      "\u001b[1m304/304\u001b[0m \u001b[32m━━━━━━━━━━━━━━━━━━━━\u001b[0m\u001b[37m\u001b[0m \u001b[1m0s\u001b[0m 165ms/step - accuracy: 0.9878 - loss: 0.0605\n",
      "Epoch 76: val_accuracy did not improve from 0.98888\n",
      "\u001b[1m304/304\u001b[0m \u001b[32m━━━━━━━━━━━━━━━━━━━━\u001b[0m\u001b[37m\u001b[0m \u001b[1m54s\u001b[0m 176ms/step - accuracy: 0.9878 - loss: 0.0604 - val_accuracy: 0.9798 - val_loss: 0.0802\n",
      "Epoch 77/200\n",
      "\u001b[1m304/304\u001b[0m \u001b[32m━━━━━━━━━━━━━━━━━━━━\u001b[0m\u001b[37m\u001b[0m \u001b[1m0s\u001b[0m 157ms/step - accuracy: 0.9958 - loss: 0.0132\n",
      "Epoch 77: val_accuracy did not improve from 0.98888\n",
      "\u001b[1m304/304\u001b[0m \u001b[32m━━━━━━━━━━━━━━━━━━━━\u001b[0m\u001b[37m\u001b[0m \u001b[1m51s\u001b[0m 169ms/step - accuracy: 0.9958 - loss: 0.0132 - val_accuracy: 0.9839 - val_loss: 0.0819\n",
      "Epoch 78/200\n",
      "\u001b[1m304/304\u001b[0m \u001b[32m━━━━━━━━━━━━━━━━━━━━\u001b[0m\u001b[37m\u001b[0m \u001b[1m0s\u001b[0m 159ms/step - accuracy: 0.9968 - loss: 0.0083\n",
      "Epoch 78: val_accuracy did not improve from 0.98888\n",
      "\u001b[1m304/304\u001b[0m \u001b[32m━━━━━━━━━━━━━━━━━━━━\u001b[0m\u001b[37m\u001b[0m \u001b[1m52s\u001b[0m 171ms/step - accuracy: 0.9968 - loss: 0.0083 - val_accuracy: 0.9843 - val_loss: 0.0922\n",
      "Epoch 79/200\n",
      "\u001b[1m304/304\u001b[0m \u001b[32m━━━━━━━━━━━━━━━━━━━━\u001b[0m\u001b[37m\u001b[0m \u001b[1m0s\u001b[0m 163ms/step - accuracy: 0.9967 - loss: 0.0111\n",
      "Epoch 79: val_accuracy did not improve from 0.98888\n",
      "\u001b[1m304/304\u001b[0m \u001b[32m━━━━━━━━━━━━━━━━━━━━\u001b[0m\u001b[37m\u001b[0m \u001b[1m53s\u001b[0m 175ms/step - accuracy: 0.9967 - loss: 0.0111 - val_accuracy: 0.9786 - val_loss: 0.1000\n",
      "Epoch 80/200\n",
      "\u001b[1m304/304\u001b[0m \u001b[32m━━━━━━━━━━━━━━━━━━━━\u001b[0m\u001b[37m\u001b[0m \u001b[1m0s\u001b[0m 163ms/step - accuracy: 0.9961 - loss: 0.0152\n",
      "Epoch 80: val_accuracy did not improve from 0.98888\n",
      "\u001b[1m304/304\u001b[0m \u001b[32m━━━━━━━━━━━━━━━━━━━━\u001b[0m\u001b[37m\u001b[0m \u001b[1m53s\u001b[0m 175ms/step - accuracy: 0.9961 - loss: 0.0152 - val_accuracy: 0.9802 - val_loss: 0.0637\n",
      "Epoch 81/200\n",
      "\u001b[1m304/304\u001b[0m \u001b[32m━━━━━━━━━━━━━━━━━━━━\u001b[0m\u001b[37m\u001b[0m \u001b[1m0s\u001b[0m 162ms/step - accuracy: 0.9913 - loss: 0.0222\n",
      "Epoch 81: val_accuracy did not improve from 0.98888\n",
      "\u001b[1m304/304\u001b[0m \u001b[32m━━━━━━━━━━━━━━━━━━━━\u001b[0m\u001b[37m\u001b[0m \u001b[1m53s\u001b[0m 174ms/step - accuracy: 0.9913 - loss: 0.0222 - val_accuracy: 0.9831 - val_loss: 0.0692\n",
      "Epoch 82/200\n",
      "\u001b[1m304/304\u001b[0m \u001b[32m━━━━━━━━━━━━━━━━━━━━\u001b[0m\u001b[37m\u001b[0m \u001b[1m0s\u001b[0m 162ms/step - accuracy: 0.9954 - loss: 0.0168\n",
      "Epoch 82: val_accuracy did not improve from 0.98888\n",
      "\u001b[1m304/304\u001b[0m \u001b[32m━━━━━━━━━━━━━━━━━━━━\u001b[0m\u001b[37m\u001b[0m \u001b[1m53s\u001b[0m 174ms/step - accuracy: 0.9954 - loss: 0.0168 - val_accuracy: 0.9864 - val_loss: 0.0522\n",
      "Epoch 83/200\n",
      "\u001b[1m304/304\u001b[0m \u001b[32m━━━━━━━━━━━━━━━━━━━━\u001b[0m\u001b[37m\u001b[0m \u001b[1m0s\u001b[0m 164ms/step - accuracy: 0.9987 - loss: 0.0043\n",
      "Epoch 83: val_accuracy did not improve from 0.98888\n",
      "\u001b[1m304/304\u001b[0m \u001b[32m━━━━━━━━━━━━━━━━━━━━\u001b[0m\u001b[37m\u001b[0m \u001b[1m54s\u001b[0m 176ms/step - accuracy: 0.9987 - loss: 0.0043 - val_accuracy: 0.9749 - val_loss: 0.1032\n",
      "Epoch 84/200\n",
      "\u001b[1m304/304\u001b[0m \u001b[32m━━━━━━━━━━━━━━━━━━━━\u001b[0m\u001b[37m\u001b[0m \u001b[1m0s\u001b[0m 160ms/step - accuracy: 0.9965 - loss: 0.0107\n",
      "Epoch 84: val_accuracy did not improve from 0.98888\n",
      "\u001b[1m304/304\u001b[0m \u001b[32m━━━━━━━━━━━━━━━━━━━━\u001b[0m\u001b[37m\u001b[0m \u001b[1m52s\u001b[0m 172ms/step - accuracy: 0.9965 - loss: 0.0107 - val_accuracy: 0.9810 - val_loss: 0.0818\n",
      "Epoch 85/200\n",
      "\u001b[1m304/304\u001b[0m \u001b[32m━━━━━━━━━━━━━━━━━━━━\u001b[0m\u001b[37m\u001b[0m \u001b[1m0s\u001b[0m 170ms/step - accuracy: 0.9941 - loss: 0.0229\n",
      "Epoch 85: val_accuracy did not improve from 0.98888\n",
      "\u001b[1m304/304\u001b[0m \u001b[32m━━━━━━━━━━━━━━━━━━━━\u001b[0m\u001b[37m\u001b[0m \u001b[1m55s\u001b[0m 181ms/step - accuracy: 0.9941 - loss: 0.0229 - val_accuracy: 0.9617 - val_loss: 0.1684\n",
      "Epoch 86/200\n",
      "\u001b[1m304/304\u001b[0m \u001b[32m━━━━━━━━━━━━━━━━━━━━\u001b[0m\u001b[37m\u001b[0m \u001b[1m0s\u001b[0m 164ms/step - accuracy: 0.9928 - loss: 0.0304\n",
      "Epoch 86: val_accuracy did not improve from 0.98888\n",
      "\u001b[1m304/304\u001b[0m \u001b[32m━━━━━━━━━━━━━━━━━━━━\u001b[0m\u001b[37m\u001b[0m \u001b[1m53s\u001b[0m 175ms/step - accuracy: 0.9928 - loss: 0.0304 - val_accuracy: 0.9617 - val_loss: 0.1580\n",
      "Epoch 87/200\n",
      "\u001b[1m304/304\u001b[0m \u001b[32m━━━━━━━━━━━━━━━━━━━━\u001b[0m\u001b[37m\u001b[0m \u001b[1m0s\u001b[0m 161ms/step - accuracy: 0.9928 - loss: 0.0273\n",
      "Epoch 87: val_accuracy did not improve from 0.98888\n",
      "\u001b[1m304/304\u001b[0m \u001b[32m━━━━━━━━━━━━━━━━━━━━\u001b[0m\u001b[37m\u001b[0m \u001b[1m53s\u001b[0m 173ms/step - accuracy: 0.9928 - loss: 0.0273 - val_accuracy: 0.9839 - val_loss: 0.0616\n",
      "Epoch 88/200\n",
      "\u001b[1m304/304\u001b[0m \u001b[32m━━━━━━━━━━━━━━━━━━━━\u001b[0m\u001b[37m\u001b[0m \u001b[1m0s\u001b[0m 163ms/step - accuracy: 0.9994 - loss: 0.0023\n",
      "Epoch 88: val_accuracy did not improve from 0.98888\n",
      "\u001b[1m304/304\u001b[0m \u001b[32m━━━━━━━━━━━━━━━━━━━━\u001b[0m\u001b[37m\u001b[0m \u001b[1m53s\u001b[0m 175ms/step - accuracy: 0.9994 - loss: 0.0023 - val_accuracy: 0.9856 - val_loss: 0.0750\n",
      "Epoch 89/200\n",
      "\u001b[1m304/304\u001b[0m \u001b[32m━━━━━━━━━━━━━━━━━━━━\u001b[0m\u001b[37m\u001b[0m \u001b[1m0s\u001b[0m 165ms/step - accuracy: 0.9997 - loss: 0.0012\n",
      "Epoch 89: val_accuracy did not improve from 0.98888\n",
      "\u001b[1m304/304\u001b[0m \u001b[32m━━━━━━━━━━━━━━━━━━━━\u001b[0m\u001b[37m\u001b[0m \u001b[1m54s\u001b[0m 177ms/step - accuracy: 0.9997 - loss: 0.0012 - val_accuracy: 0.9843 - val_loss: 0.0899\n",
      "Epoch 90/200\n",
      "\u001b[1m304/304\u001b[0m \u001b[32m━━━━━━━━━━━━━━━━━━━━\u001b[0m\u001b[37m\u001b[0m \u001b[1m0s\u001b[0m 154ms/step - accuracy: 0.9943 - loss: 0.0302\n",
      "Epoch 90: val_accuracy did not improve from 0.98888\n",
      "\u001b[1m304/304\u001b[0m \u001b[32m━━━━━━━━━━━━━━━━━━━━\u001b[0m\u001b[37m\u001b[0m \u001b[1m50s\u001b[0m 165ms/step - accuracy: 0.9943 - loss: 0.0302 - val_accuracy: 0.9802 - val_loss: 0.0578\n",
      "Epoch 91/200\n",
      "\u001b[1m304/304\u001b[0m \u001b[32m━━━━━━━━━━━━━━━━━━━━\u001b[0m\u001b[37m\u001b[0m \u001b[1m0s\u001b[0m 165ms/step - accuracy: 0.9975 - loss: 0.0085\n",
      "Epoch 91: val_accuracy did not improve from 0.98888\n",
      "\u001b[1m304/304\u001b[0m \u001b[32m━━━━━━━━━━━━━━━━━━━━\u001b[0m\u001b[37m\u001b[0m \u001b[1m54s\u001b[0m 177ms/step - accuracy: 0.9975 - loss: 0.0085 - val_accuracy: 0.9786 - val_loss: 0.0943\n",
      "Epoch 92/200\n",
      "\u001b[1m304/304\u001b[0m \u001b[32m━━━━━━━━━━━━━━━━━━━━\u001b[0m\u001b[37m\u001b[0m \u001b[1m0s\u001b[0m 161ms/step - accuracy: 0.9965 - loss: 0.0093\n",
      "Epoch 92: val_accuracy did not improve from 0.98888\n",
      "\u001b[1m304/304\u001b[0m \u001b[32m━━━━━━━━━━━━━━━━━━━━\u001b[0m\u001b[37m\u001b[0m \u001b[1m52s\u001b[0m 172ms/step - accuracy: 0.9965 - loss: 0.0093 - val_accuracy: 0.9806 - val_loss: 0.0982\n",
      "Epoch 93/200\n",
      "\u001b[1m304/304\u001b[0m \u001b[32m━━━━━━━━━━━━━━━━━━━━\u001b[0m\u001b[37m\u001b[0m \u001b[1m0s\u001b[0m 165ms/step - accuracy: 0.9991 - loss: 0.0037\n",
      "Epoch 93: val_accuracy did not improve from 0.98888\n",
      "\u001b[1m304/304\u001b[0m \u001b[32m━━━━━━━━━━━━━━━━━━━━\u001b[0m\u001b[37m\u001b[0m \u001b[1m54s\u001b[0m 177ms/step - accuracy: 0.9991 - loss: 0.0037 - val_accuracy: 0.9885 - val_loss: 0.0612\n",
      "Epoch 94/200\n",
      "\u001b[1m304/304\u001b[0m \u001b[32m━━━━━━━━━━━━━━━━━━━━\u001b[0m\u001b[37m\u001b[0m \u001b[1m0s\u001b[0m 163ms/step - accuracy: 0.9966 - loss: 0.0105\n",
      "Epoch 94: val_accuracy did not improve from 0.98888\n",
      "\u001b[1m304/304\u001b[0m \u001b[32m━━━━━━━━━━━━━━━━━━━━\u001b[0m\u001b[37m\u001b[0m \u001b[1m53s\u001b[0m 176ms/step - accuracy: 0.9966 - loss: 0.0106 - val_accuracy: 0.9827 - val_loss: 0.0792\n",
      "Epoch 95/200\n",
      "\u001b[1m304/304\u001b[0m \u001b[32m━━━━━━━━━━━━━━━━━━━━\u001b[0m\u001b[37m\u001b[0m \u001b[1m0s\u001b[0m 164ms/step - accuracy: 0.9971 - loss: 0.0170\n",
      "Epoch 95: val_accuracy did not improve from 0.98888\n",
      "\u001b[1m304/304\u001b[0m \u001b[32m━━━━━━━━━━━━━━━━━━━━\u001b[0m\u001b[37m\u001b[0m \u001b[1m54s\u001b[0m 177ms/step - accuracy: 0.9971 - loss: 0.0170 - val_accuracy: 0.9695 - val_loss: 0.1114\n",
      "Epoch 96/200\n",
      "\u001b[1m304/304\u001b[0m \u001b[32m━━━━━━━━━━━━━━━━━━━━\u001b[0m\u001b[37m\u001b[0m \u001b[1m0s\u001b[0m 177ms/step - accuracy: 0.9924 - loss: 0.0295\n",
      "Epoch 96: val_accuracy did not improve from 0.98888\n",
      "\u001b[1m304/304\u001b[0m \u001b[32m━━━━━━━━━━━━━━━━━━━━\u001b[0m\u001b[37m\u001b[0m \u001b[1m57s\u001b[0m 189ms/step - accuracy: 0.9924 - loss: 0.0295 - val_accuracy: 0.9868 - val_loss: 0.0634\n",
      "Epoch 97/200\n",
      "\u001b[1m304/304\u001b[0m \u001b[32m━━━━━━━━━━━━━━━━━━━━\u001b[0m\u001b[37m\u001b[0m \u001b[1m0s\u001b[0m 168ms/step - accuracy: 0.9994 - loss: 0.0018\n",
      "Epoch 97: val_accuracy did not improve from 0.98888\n",
      "\u001b[1m304/304\u001b[0m \u001b[32m━━━━━━━━━━━━━━━━━━━━\u001b[0m\u001b[37m\u001b[0m \u001b[1m54s\u001b[0m 179ms/step - accuracy: 0.9994 - loss: 0.0018 - val_accuracy: 0.9868 - val_loss: 0.0674\n",
      "Epoch 98/200\n",
      "\u001b[1m304/304\u001b[0m \u001b[32m━━━━━━━━━━━━━━━━━━━━\u001b[0m\u001b[37m\u001b[0m \u001b[1m0s\u001b[0m 169ms/step - accuracy: 0.9971 - loss: 0.0139\n",
      "Epoch 98: val_accuracy did not improve from 0.98888\n",
      "\u001b[1m304/304\u001b[0m \u001b[32m━━━━━━━━━━━━━━━━━━━━\u001b[0m\u001b[37m\u001b[0m \u001b[1m55s\u001b[0m 182ms/step - accuracy: 0.9971 - loss: 0.0140 - val_accuracy: 0.9757 - val_loss: 0.0710\n",
      "Epoch 99/200\n",
      "\u001b[1m304/304\u001b[0m \u001b[32m━━━━━━━━━━━━━━━━━━━━\u001b[0m\u001b[37m\u001b[0m \u001b[1m0s\u001b[0m 167ms/step - accuracy: 0.9986 - loss: 0.0066\n",
      "Epoch 99: val_accuracy did not improve from 0.98888\n",
      "\u001b[1m304/304\u001b[0m \u001b[32m━━━━━━━━━━━━━━━━━━━━\u001b[0m\u001b[37m\u001b[0m \u001b[1m54s\u001b[0m 179ms/step - accuracy: 0.9986 - loss: 0.0066 - val_accuracy: 0.9543 - val_loss: 0.1551\n",
      "Epoch 100/200\n",
      "\u001b[1m304/304\u001b[0m \u001b[32m━━━━━━━━━━━━━━━━━━━━\u001b[0m\u001b[37m\u001b[0m \u001b[1m0s\u001b[0m 162ms/step - accuracy: 0.9931 - loss: 0.0216\n",
      "Epoch 100: val_accuracy did not improve from 0.98888\n",
      "\u001b[1m304/304\u001b[0m \u001b[32m━━━━━━━━━━━━━━━━━━━━\u001b[0m\u001b[37m\u001b[0m \u001b[1m53s\u001b[0m 175ms/step - accuracy: 0.9931 - loss: 0.0216 - val_accuracy: 0.9786 - val_loss: 0.1031\n",
      "Epoch 101/200\n",
      "\u001b[1m304/304\u001b[0m \u001b[32m━━━━━━━━━━━━━━━━━━━━\u001b[0m\u001b[37m\u001b[0m \u001b[1m0s\u001b[0m 164ms/step - accuracy: 0.9940 - loss: 0.0196\n",
      "Epoch 101: val_accuracy did not improve from 0.98888\n",
      "\u001b[1m304/304\u001b[0m \u001b[32m━━━━━━━━━━━━━━━━━━━━\u001b[0m\u001b[37m\u001b[0m \u001b[1m53s\u001b[0m 176ms/step - accuracy: 0.9940 - loss: 0.0195 - val_accuracy: 0.9856 - val_loss: 0.0840\n",
      "Epoch 102/200\n",
      "\u001b[1m304/304\u001b[0m \u001b[32m━━━━━━━━━━━━━━━━━━━━\u001b[0m\u001b[37m\u001b[0m \u001b[1m0s\u001b[0m 158ms/step - accuracy: 0.9978 - loss: 0.0070\n",
      "Epoch 102: val_accuracy did not improve from 0.98888\n",
      "\u001b[1m304/304\u001b[0m \u001b[32m━━━━━━━━━━━━━━━━━━━━\u001b[0m\u001b[37m\u001b[0m \u001b[1m52s\u001b[0m 170ms/step - accuracy: 0.9978 - loss: 0.0070 - val_accuracy: 0.9839 - val_loss: 0.0743\n",
      "Epoch 103/200\n",
      "\u001b[1m304/304\u001b[0m \u001b[32m━━━━━━━━━━━━━━━━━━━━\u001b[0m\u001b[37m\u001b[0m \u001b[1m0s\u001b[0m 164ms/step - accuracy: 0.9974 - loss: 0.0099\n",
      "Epoch 103: val_accuracy did not improve from 0.98888\n",
      "\u001b[1m304/304\u001b[0m \u001b[32m━━━━━━━━━━━━━━━━━━━━\u001b[0m\u001b[37m\u001b[0m \u001b[1m53s\u001b[0m 176ms/step - accuracy: 0.9974 - loss: 0.0100 - val_accuracy: 0.9308 - val_loss: 0.4986\n",
      "Epoch 104/200\n",
      "\u001b[1m304/304\u001b[0m \u001b[32m━━━━━━━━━━━━━━━━━━━━\u001b[0m\u001b[37m\u001b[0m \u001b[1m0s\u001b[0m 158ms/step - accuracy: 0.9788 - loss: 0.1630\n",
      "Epoch 104: val_accuracy did not improve from 0.98888\n",
      "\u001b[1m304/304\u001b[0m \u001b[32m━━━━━━━━━━━━━━━━━━━━\u001b[0m\u001b[37m\u001b[0m \u001b[1m51s\u001b[0m 169ms/step - accuracy: 0.9788 - loss: 0.1627 - val_accuracy: 0.9827 - val_loss: 0.0678\n",
      "Epoch 105/200\n",
      "\u001b[1m304/304\u001b[0m \u001b[32m━━━━━━━━━━━━━━━━━━━━\u001b[0m\u001b[37m\u001b[0m \u001b[1m0s\u001b[0m 158ms/step - accuracy: 0.9973 - loss: 0.0084\n",
      "Epoch 105: val_accuracy did not improve from 0.98888\n",
      "\u001b[1m304/304\u001b[0m \u001b[32m━━━━━━━━━━━━━━━━━━━━\u001b[0m\u001b[37m\u001b[0m \u001b[1m51s\u001b[0m 169ms/step - accuracy: 0.9973 - loss: 0.0084 - val_accuracy: 0.9876 - val_loss: 0.0593\n",
      "Epoch 106/200\n",
      "\u001b[1m304/304\u001b[0m \u001b[32m━━━━━━━━━━━━━━━━━━━━\u001b[0m\u001b[37m\u001b[0m \u001b[1m0s\u001b[0m 164ms/step - accuracy: 0.9994 - loss: 0.0029\n",
      "Epoch 106: val_accuracy did not improve from 0.98888\n",
      "\u001b[1m304/304\u001b[0m \u001b[32m━━━━━━━━━━━━━━━━━━━━\u001b[0m\u001b[37m\u001b[0m \u001b[1m53s\u001b[0m 176ms/step - accuracy: 0.9994 - loss: 0.0029 - val_accuracy: 0.9778 - val_loss: 0.1310\n",
      "Epoch 107/200\n",
      "\u001b[1m304/304\u001b[0m \u001b[32m━━━━━━━━━━━━━━━━━━━━\u001b[0m\u001b[37m\u001b[0m \u001b[1m0s\u001b[0m 167ms/step - accuracy: 0.9988 - loss: 0.0070\n",
      "Epoch 107: val_accuracy did not improve from 0.98888\n",
      "\u001b[1m304/304\u001b[0m \u001b[32m━━━━━━━━━━━━━━━━━━━━\u001b[0m\u001b[37m\u001b[0m \u001b[1m54s\u001b[0m 178ms/step - accuracy: 0.9988 - loss: 0.0070 - val_accuracy: 0.9860 - val_loss: 0.0756\n",
      "Epoch 108/200\n",
      "\u001b[1m304/304\u001b[0m \u001b[32m━━━━━━━━━━━━━━━━━━━━\u001b[0m\u001b[37m\u001b[0m \u001b[1m0s\u001b[0m 173ms/step - accuracy: 0.9984 - loss: 0.0041\n",
      "Epoch 108: val_accuracy did not improve from 0.98888\n",
      "\u001b[1m304/304\u001b[0m \u001b[32m━━━━━━━━━━━━━━━━━━━━\u001b[0m\u001b[37m\u001b[0m \u001b[1m56s\u001b[0m 185ms/step - accuracy: 0.9984 - loss: 0.0041 - val_accuracy: 0.9872 - val_loss: 0.0672\n",
      "Epoch 109/200\n",
      "\u001b[1m304/304\u001b[0m \u001b[32m━━━━━━━━━━━━━━━━━━━━\u001b[0m\u001b[37m\u001b[0m \u001b[1m0s\u001b[0m 170ms/step - accuracy: 0.9987 - loss: 0.0045\n",
      "Epoch 109: val_accuracy did not improve from 0.98888\n",
      "\u001b[1m304/304\u001b[0m \u001b[32m━━━━━━━━━━━━━━━━━━━━\u001b[0m\u001b[37m\u001b[0m \u001b[1m55s\u001b[0m 182ms/step - accuracy: 0.9987 - loss: 0.0045 - val_accuracy: 0.9588 - val_loss: 0.2421\n",
      "Epoch 110/200\n",
      "\u001b[1m304/304\u001b[0m \u001b[32m━━━━━━━━━━━━━━━━━━━━\u001b[0m\u001b[37m\u001b[0m \u001b[1m0s\u001b[0m 182ms/step - accuracy: 0.9894 - loss: 0.0407\n",
      "Epoch 110: val_accuracy did not improve from 0.98888\n",
      "\u001b[1m304/304\u001b[0m \u001b[32m━━━━━━━━━━━━━━━━━━━━\u001b[0m\u001b[37m\u001b[0m \u001b[1m59s\u001b[0m 194ms/step - accuracy: 0.9894 - loss: 0.0406 - val_accuracy: 0.9868 - val_loss: 0.0621\n",
      "Epoch 111/200\n",
      "\u001b[1m304/304\u001b[0m \u001b[32m━━━━━━━━━━━━━━━━━━━━\u001b[0m\u001b[37m\u001b[0m \u001b[1m0s\u001b[0m 211ms/step - accuracy: 0.9976 - loss: 0.0098\n",
      "Epoch 111: val_accuracy did not improve from 0.98888\n",
      "\u001b[1m304/304\u001b[0m \u001b[32m━━━━━━━━━━━━━━━━━━━━\u001b[0m\u001b[37m\u001b[0m \u001b[1m69s\u001b[0m 226ms/step - accuracy: 0.9976 - loss: 0.0098 - val_accuracy: 0.9778 - val_loss: 0.1183\n",
      "Epoch 112/200\n",
      "\u001b[1m304/304\u001b[0m \u001b[32m━━━━━━━━━━━━━━━━━━━━\u001b[0m\u001b[37m\u001b[0m \u001b[1m0s\u001b[0m 242ms/step - accuracy: 0.9977 - loss: 0.0081\n",
      "Epoch 112: val_accuracy did not improve from 0.98888\n",
      "\u001b[1m304/304\u001b[0m \u001b[32m━━━━━━━━━━━━━━━━━━━━\u001b[0m\u001b[37m\u001b[0m \u001b[1m77s\u001b[0m 255ms/step - accuracy: 0.9977 - loss: 0.0081 - val_accuracy: 0.9852 - val_loss: 0.0751\n",
      "Epoch 113/200\n",
      "\u001b[1m304/304\u001b[0m \u001b[32m━━━━━━━━━━━━━━━━━━━━\u001b[0m\u001b[37m\u001b[0m \u001b[1m0s\u001b[0m 167ms/step - accuracy: 0.9988 - loss: 0.0024\n",
      "Epoch 113: val_accuracy did not improve from 0.98888\n",
      "\u001b[1m304/304\u001b[0m \u001b[32m━━━━━━━━━━━━━━━━━━━━\u001b[0m\u001b[37m\u001b[0m \u001b[1m54s\u001b[0m 179ms/step - accuracy: 0.9988 - loss: 0.0024 - val_accuracy: 0.9864 - val_loss: 0.0849\n",
      "Epoch 114/200\n",
      "\u001b[1m304/304\u001b[0m \u001b[32m━━━━━━━━━━━━━━━━━━━━\u001b[0m\u001b[37m\u001b[0m \u001b[1m0s\u001b[0m 158ms/step - accuracy: 0.9941 - loss: 0.0251\n",
      "Epoch 114: val_accuracy did not improve from 0.98888\n",
      "\u001b[1m304/304\u001b[0m \u001b[32m━━━━━━━━━━━━━━━━━━━━\u001b[0m\u001b[37m\u001b[0m \u001b[1m52s\u001b[0m 170ms/step - accuracy: 0.9941 - loss: 0.0252 - val_accuracy: 0.9823 - val_loss: 0.0599\n",
      "Epoch 115/200\n",
      "\u001b[1m304/304\u001b[0m \u001b[32m━━━━━━━━━━━━━━━━━━━━\u001b[0m\u001b[37m\u001b[0m \u001b[1m0s\u001b[0m 171ms/step - accuracy: 0.9993 - loss: 0.0027\n",
      "Epoch 115: val_accuracy did not improve from 0.98888\n",
      "\u001b[1m304/304\u001b[0m \u001b[32m━━━━━━━━━━━━━━━━━━━━\u001b[0m\u001b[37m\u001b[0m \u001b[1m55s\u001b[0m 182ms/step - accuracy: 0.9993 - loss: 0.0027 - val_accuracy: 0.9856 - val_loss: 0.0767\n",
      "Best model saved at: CNN2D_results/Scalogram_Spectrogram/best_model_2.h5\n"
     ]
    },
    {
     "name": "stderr",
     "output_type": "stream",
     "text": [
      "WARNING:absl:Compiled the loaded model, but the compiled metrics have yet to be built. `model.compile_metrics` will be empty until you train or evaluate the model.\n"
     ]
    },
    {
     "name": "stdout",
     "output_type": "stream",
     "text": [
      "Best model loaded successfully!\n",
      "\u001b[1m 2/76\u001b[0m \u001b[37m━━━━━━━━━━━━━━━━━━━━\u001b[0m \u001b[1m3s\u001b[0m 50ms/step  "
     ]
    },
    {
     "name": "stderr",
     "output_type": "stream",
     "text": [
      "2025-06-12 12:35:12.096855: E tensorflow/core/framework/node_def_util.cc:680] NodeDef mentions attribute use_unbounded_threadpool which is not in the op definition: Op<name=MapDataset; signature=input_dataset:variant, other_arguments: -> handle:variant; attr=f:func; attr=Targuments:list(type),min=0; attr=output_types:list(type),min=1; attr=output_shapes:list(shape),min=1; attr=use_inter_op_parallelism:bool,default=true; attr=preserve_cardinality:bool,default=false; attr=force_synchronous:bool,default=false; attr=metadata:string,default=\"\"> This may be expected if your graph generating binary is newer  than this binary. Unknown attributes will be ignored. NodeDef: {{node ParallelMapDatasetV2/_14}}\n",
      "2025-06-12 12:35:12.100401: E tensorflow/core/framework/node_def_util.cc:680] NodeDef mentions attribute use_unbounded_threadpool which is not in the op definition: Op<name=MapDataset; signature=input_dataset:variant, other_arguments: -> handle:variant; attr=f:func; attr=Targuments:list(type),min=0; attr=output_types:list(type),min=1; attr=output_shapes:list(shape),min=1; attr=use_inter_op_parallelism:bool,default=true; attr=preserve_cardinality:bool,default=false; attr=force_synchronous:bool,default=false; attr=metadata:string,default=\"\"> This may be expected if your graph generating binary is newer  than this binary. Unknown attributes will be ignored. NodeDef: {{node ParallelMapDatasetV2/_14}}\n"
     ]
    },
    {
     "name": "stdout",
     "output_type": "stream",
     "text": [
      "\u001b[1m76/76\u001b[0m \u001b[32m━━━━━━━━━━━━━━━━━━━━\u001b[0m\u001b[37m\u001b[0m \u001b[1m4s\u001b[0m 46ms/step\n",
      "\u001b[1m304/304\u001b[0m \u001b[32m━━━━━━━━━━━━━━━━━━━━\u001b[0m\u001b[37m\u001b[0m \u001b[1m16s\u001b[0m 52ms/step - accuracy: 0.9977 - loss: 0.0071\n",
      "\u001b[1m 3/76\u001b[0m \u001b[37m━━━━━━━━━━━━━━━━━━━━\u001b[0m \u001b[1m3s\u001b[0m 47ms/step - accuracy: 1.0000 - loss: 0.0060"
     ]
    },
    {
     "name": "stderr",
     "output_type": "stream",
     "text": [
      "2025-06-12 12:35:32.120041: E tensorflow/core/framework/node_def_util.cc:680] NodeDef mentions attribute use_unbounded_threadpool which is not in the op definition: Op<name=MapDataset; signature=input_dataset:variant, other_arguments: -> handle:variant; attr=f:func; attr=Targuments:list(type),min=0; attr=output_types:list(type),min=1; attr=output_shapes:list(shape),min=1; attr=use_inter_op_parallelism:bool,default=true; attr=preserve_cardinality:bool,default=false; attr=force_synchronous:bool,default=false; attr=metadata:string,default=\"\"> This may be expected if your graph generating binary is newer  than this binary. Unknown attributes will be ignored. NodeDef: {{node ParallelMapDatasetV2/_15}}\n",
      "2025-06-12 12:35:32.121563: E tensorflow/core/framework/node_def_util.cc:680] NodeDef mentions attribute use_unbounded_threadpool which is not in the op definition: Op<name=MapDataset; signature=input_dataset:variant, other_arguments: -> handle:variant; attr=f:func; attr=Targuments:list(type),min=0; attr=output_types:list(type),min=1; attr=output_shapes:list(shape),min=1; attr=use_inter_op_parallelism:bool,default=true; attr=preserve_cardinality:bool,default=false; attr=force_synchronous:bool,default=false; attr=metadata:string,default=\"\"> This may be expected if your graph generating binary is newer  than this binary. Unknown attributes will be ignored. NodeDef: {{node ParallelMapDatasetV2/_15}}\n"
     ]
    },
    {
     "name": "stdout",
     "output_type": "stream",
     "text": [
      "\u001b[1m76/76\u001b[0m \u001b[32m━━━━━━━━━━━━━━━━━━━━\u001b[0m\u001b[37m\u001b[0m \u001b[1m4s\u001b[0m 47ms/step - accuracy: 0.9907 - loss: 0.0545\n",
      "\u001b[1m95/95\u001b[0m \u001b[32m━━━━━━━━━━━━━━━━━━━━\u001b[0m\u001b[37m\u001b[0m \u001b[1m5s\u001b[0m 52ms/step - accuracy: 0.9891 - loss: 0.0370\n",
      "Epoch 1/200\n"
     ]
    },
    {
     "name": "stderr",
     "output_type": "stream",
     "text": [
      "2025-06-12 12:35:41.045891: E tensorflow/core/framework/node_def_util.cc:680] NodeDef mentions attribute use_unbounded_threadpool which is not in the op definition: Op<name=MapDataset; signature=input_dataset:variant, other_arguments: -> handle:variant; attr=f:func; attr=Targuments:list(type),min=0; attr=output_types:list(type),min=1; attr=output_shapes:list(shape),min=1; attr=use_inter_op_parallelism:bool,default=true; attr=preserve_cardinality:bool,default=false; attr=force_synchronous:bool,default=false; attr=metadata:string,default=\"\"> This may be expected if your graph generating binary is newer  than this binary. Unknown attributes will be ignored. NodeDef: {{node ParallelMapDatasetV2/_15}}\n",
      "2025-06-12 12:35:41.046257: E tensorflow/core/framework/node_def_util.cc:680] NodeDef mentions attribute use_unbounded_threadpool which is not in the op definition: Op<name=MapDataset; signature=input_dataset:variant, other_arguments: -> handle:variant; attr=f:func; attr=Targuments:list(type),min=0; attr=output_types:list(type),min=1; attr=output_shapes:list(shape),min=1; attr=use_inter_op_parallelism:bool,default=true; attr=preserve_cardinality:bool,default=false; attr=force_synchronous:bool,default=false; attr=metadata:string,default=\"\"> This may be expected if your graph generating binary is newer  than this binary. Unknown attributes will be ignored. NodeDef: {{node ParallelMapDatasetV2/_15}}\n"
     ]
    },
    {
     "name": "stdout",
     "output_type": "stream",
     "text": [
      "\u001b[1m304/304\u001b[0m \u001b[32m━━━━━━━━━━━━━━━━━━━━\u001b[0m\u001b[37m\u001b[0m \u001b[1m0s\u001b[0m 164ms/step - accuracy: 0.3786 - loss: 1.5844"
     ]
    },
    {
     "name": "stderr",
     "output_type": "stream",
     "text": [
      "2025-06-12 12:36:32.170448: E tensorflow/core/framework/node_def_util.cc:680] NodeDef mentions attribute use_unbounded_threadpool which is not in the op definition: Op<name=MapDataset; signature=input_dataset:variant, other_arguments: -> handle:variant; attr=f:func; attr=Targuments:list(type),min=0; attr=output_types:list(type),min=1; attr=output_shapes:list(shape),min=1; attr=use_inter_op_parallelism:bool,default=true; attr=preserve_cardinality:bool,default=false; attr=force_synchronous:bool,default=false; attr=metadata:string,default=\"\"> This may be expected if your graph generating binary is newer  than this binary. Unknown attributes will be ignored. NodeDef: {{node ParallelMapDatasetV2/_15}}\n",
      "2025-06-12 12:36:32.170796: E tensorflow/core/framework/node_def_util.cc:680] NodeDef mentions attribute use_unbounded_threadpool which is not in the op definition: Op<name=MapDataset; signature=input_dataset:variant, other_arguments: -> handle:variant; attr=f:func; attr=Targuments:list(type),min=0; attr=output_types:list(type),min=1; attr=output_shapes:list(shape),min=1; attr=use_inter_op_parallelism:bool,default=true; attr=preserve_cardinality:bool,default=false; attr=force_synchronous:bool,default=false; attr=metadata:string,default=\"\"> This may be expected if your graph generating binary is newer  than this binary. Unknown attributes will be ignored. NodeDef: {{node ParallelMapDatasetV2/_15}}\n"
     ]
    },
    {
     "name": "stdout",
     "output_type": "stream",
     "text": [
      "\n",
      "Epoch 1: val_accuracy improved from -inf to 0.80635, saving model to CNN2D_results/Scalogram_Spectrogram/best_model_3.h5\n"
     ]
    },
    {
     "name": "stderr",
     "output_type": "stream",
     "text": [
      "WARNING:absl:You are saving your model as an HDF5 file via `model.save()` or `keras.saving.save_model(model)`. This file format is considered legacy. We recommend using instead the native Keras format, e.g. `model.save('my_model.keras')` or `keras.saving.save_model(model, 'my_model.keras')`. \n"
     ]
    },
    {
     "name": "stdout",
     "output_type": "stream",
     "text": [
      "\u001b[1m304/304\u001b[0m \u001b[32m━━━━━━━━━━━━━━━━━━━━\u001b[0m\u001b[37m\u001b[0m \u001b[1m55s\u001b[0m 177ms/step - accuracy: 0.3792 - loss: 1.5828 - val_accuracy: 0.8063 - val_loss: 0.4545\n",
      "Epoch 2/200\n",
      "\u001b[1m304/304\u001b[0m \u001b[32m━━━━━━━━━━━━━━━━━━━━\u001b[0m\u001b[37m\u001b[0m \u001b[1m0s\u001b[0m 166ms/step - accuracy: 0.7700 - loss: 0.5497\n",
      "Epoch 2: val_accuracy did not improve from 0.80635\n",
      "\u001b[1m304/304\u001b[0m \u001b[32m━━━━━━━━━━━━━━━━━━━━\u001b[0m\u001b[37m\u001b[0m \u001b[1m55s\u001b[0m 180ms/step - accuracy: 0.7700 - loss: 0.5495 - val_accuracy: 0.7796 - val_loss: 0.4456\n",
      "Epoch 3/200\n",
      "\u001b[1m304/304\u001b[0m \u001b[32m━━━━━━━━━━━━━━━━━━━━\u001b[0m\u001b[37m\u001b[0m \u001b[1m0s\u001b[0m 191ms/step - accuracy: 0.8031 - loss: 0.4472\n",
      "Epoch 3: val_accuracy improved from 0.80635 to 0.84054, saving model to CNN2D_results/Scalogram_Spectrogram/best_model_3.h5\n"
     ]
    },
    {
     "name": "stderr",
     "output_type": "stream",
     "text": [
      "WARNING:absl:You are saving your model as an HDF5 file via `model.save()` or `keras.saving.save_model(model)`. This file format is considered legacy. We recommend using instead the native Keras format, e.g. `model.save('my_model.keras')` or `keras.saving.save_model(model, 'my_model.keras')`. \n"
     ]
    },
    {
     "name": "stdout",
     "output_type": "stream",
     "text": [
      "\u001b[1m304/304\u001b[0m \u001b[32m━━━━━━━━━━━━━━━━━━━━\u001b[0m\u001b[37m\u001b[0m \u001b[1m61s\u001b[0m 202ms/step - accuracy: 0.8031 - loss: 0.4471 - val_accuracy: 0.8405 - val_loss: 0.3199\n",
      "Epoch 4/200\n",
      "\u001b[1m304/304\u001b[0m \u001b[32m━━━━━━━━━━━━━━━━━━━━\u001b[0m\u001b[37m\u001b[0m \u001b[1m0s\u001b[0m 153ms/step - accuracy: 0.8218 - loss: 0.3802\n",
      "Epoch 4: val_accuracy did not improve from 0.84054\n",
      "\u001b[1m304/304\u001b[0m \u001b[32m━━━━━━━━━━━━━━━━━━━━\u001b[0m\u001b[37m\u001b[0m \u001b[1m50s\u001b[0m 164ms/step - accuracy: 0.8218 - loss: 0.3801 - val_accuracy: 0.8191 - val_loss: 0.3441\n",
      "Epoch 5/200\n",
      "\u001b[1m304/304\u001b[0m \u001b[32m━━━━━━━━━━━━━━━━━━━━\u001b[0m\u001b[37m\u001b[0m \u001b[1m0s\u001b[0m 165ms/step - accuracy: 0.8521 - loss: 0.3168\n",
      "Epoch 5: val_accuracy improved from 0.84054 to 0.91512, saving model to CNN2D_results/Scalogram_Spectrogram/best_model_3.h5\n"
     ]
    },
    {
     "name": "stderr",
     "output_type": "stream",
     "text": [
      "WARNING:absl:You are saving your model as an HDF5 file via `model.save()` or `keras.saving.save_model(model)`. This file format is considered legacy. We recommend using instead the native Keras format, e.g. `model.save('my_model.keras')` or `keras.saving.save_model(model, 'my_model.keras')`. \n"
     ]
    },
    {
     "name": "stdout",
     "output_type": "stream",
     "text": [
      "\u001b[1m304/304\u001b[0m \u001b[32m━━━━━━━━━━━━━━━━━━━━\u001b[0m\u001b[37m\u001b[0m \u001b[1m54s\u001b[0m 177ms/step - accuracy: 0.8521 - loss: 0.3167 - val_accuracy: 0.9151 - val_loss: 0.1921\n",
      "Epoch 6/200\n",
      "\u001b[1m304/304\u001b[0m \u001b[32m━━━━━━━━━━━━━━━━━━━━\u001b[0m\u001b[37m\u001b[0m \u001b[1m0s\u001b[0m 195ms/step - accuracy: 0.9041 - loss: 0.2603\n",
      "Epoch 6: val_accuracy improved from 0.91512 to 0.94602, saving model to CNN2D_results/Scalogram_Spectrogram/best_model_3.h5\n"
     ]
    },
    {
     "name": "stderr",
     "output_type": "stream",
     "text": [
      "WARNING:absl:You are saving your model as an HDF5 file via `model.save()` or `keras.saving.save_model(model)`. This file format is considered legacy. We recommend using instead the native Keras format, e.g. `model.save('my_model.keras')` or `keras.saving.save_model(model, 'my_model.keras')`. \n"
     ]
    },
    {
     "name": "stdout",
     "output_type": "stream",
     "text": [
      "\u001b[1m304/304\u001b[0m \u001b[32m━━━━━━━━━━━━━━━━━━━━\u001b[0m\u001b[37m\u001b[0m \u001b[1m63s\u001b[0m 206ms/step - accuracy: 0.9041 - loss: 0.2602 - val_accuracy: 0.9460 - val_loss: 0.1614\n",
      "Epoch 7/200\n",
      "\u001b[1m304/304\u001b[0m \u001b[32m━━━━━━━━━━━━━━━━━━━━\u001b[0m\u001b[37m\u001b[0m \u001b[1m0s\u001b[0m 153ms/step - accuracy: 0.9354 - loss: 0.1797\n",
      "Epoch 7: val_accuracy did not improve from 0.94602\n",
      "\u001b[1m304/304\u001b[0m \u001b[32m━━━━━━━━━━━━━━━━━━━━\u001b[0m\u001b[37m\u001b[0m \u001b[1m50s\u001b[0m 165ms/step - accuracy: 0.9354 - loss: 0.1797 - val_accuracy: 0.9312 - val_loss: 0.1556\n",
      "Epoch 8/200\n",
      "\u001b[1m304/304\u001b[0m \u001b[32m━━━━━━━━━━━━━━━━━━━━\u001b[0m\u001b[37m\u001b[0m \u001b[1m0s\u001b[0m 156ms/step - accuracy: 0.9358 - loss: 0.1749\n",
      "Epoch 8: val_accuracy improved from 0.94602 to 0.96910, saving model to CNN2D_results/Scalogram_Spectrogram/best_model_3.h5\n"
     ]
    },
    {
     "name": "stderr",
     "output_type": "stream",
     "text": [
      "WARNING:absl:You are saving your model as an HDF5 file via `model.save()` or `keras.saving.save_model(model)`. This file format is considered legacy. We recommend using instead the native Keras format, e.g. `model.save('my_model.keras')` or `keras.saving.save_model(model, 'my_model.keras')`. \n"
     ]
    },
    {
     "name": "stdout",
     "output_type": "stream",
     "text": [
      "\u001b[1m304/304\u001b[0m \u001b[32m━━━━━━━━━━━━━━━━━━━━\u001b[0m\u001b[37m\u001b[0m \u001b[1m51s\u001b[0m 168ms/step - accuracy: 0.9359 - loss: 0.1748 - val_accuracy: 0.9691 - val_loss: 0.0961\n",
      "Epoch 9/200\n",
      "\u001b[1m304/304\u001b[0m \u001b[32m━━━━━━━━━━━━━━━━━━━━\u001b[0m\u001b[37m\u001b[0m \u001b[1m0s\u001b[0m 154ms/step - accuracy: 0.9473 - loss: 0.1611\n",
      "Epoch 9: val_accuracy did not improve from 0.96910\n",
      "\u001b[1m304/304\u001b[0m \u001b[32m━━━━━━━━━━━━━━━━━━━━\u001b[0m\u001b[37m\u001b[0m \u001b[1m50s\u001b[0m 165ms/step - accuracy: 0.9473 - loss: 0.1611 - val_accuracy: 0.9530 - val_loss: 0.1089\n",
      "Epoch 10/200\n",
      "\u001b[1m304/304\u001b[0m \u001b[32m━━━━━━━━━━━━━━━━━━━━\u001b[0m\u001b[37m\u001b[0m \u001b[1m0s\u001b[0m 153ms/step - accuracy: 0.9547 - loss: 0.1341\n",
      "Epoch 10: val_accuracy improved from 0.96910 to 0.97281, saving model to CNN2D_results/Scalogram_Spectrogram/best_model_3.h5\n"
     ]
    },
    {
     "name": "stderr",
     "output_type": "stream",
     "text": [
      "WARNING:absl:You are saving your model as an HDF5 file via `model.save()` or `keras.saving.save_model(model)`. This file format is considered legacy. We recommend using instead the native Keras format, e.g. `model.save('my_model.keras')` or `keras.saving.save_model(model, 'my_model.keras')`. \n"
     ]
    },
    {
     "name": "stdout",
     "output_type": "stream",
     "text": [
      "\u001b[1m304/304\u001b[0m \u001b[32m━━━━━━━━━━━━━━━━━━━━\u001b[0m\u001b[37m\u001b[0m \u001b[1m50s\u001b[0m 165ms/step - accuracy: 0.9547 - loss: 0.1341 - val_accuracy: 0.9728 - val_loss: 0.0789\n",
      "Epoch 11/200\n",
      "\u001b[1m304/304\u001b[0m \u001b[32m━━━━━━━━━━━━━━━━━━━━\u001b[0m\u001b[37m\u001b[0m \u001b[1m0s\u001b[0m 153ms/step - accuracy: 0.9595 - loss: 0.1173\n",
      "Epoch 11: val_accuracy improved from 0.97281 to 0.97899, saving model to CNN2D_results/Scalogram_Spectrogram/best_model_3.h5\n"
     ]
    },
    {
     "name": "stderr",
     "output_type": "stream",
     "text": [
      "WARNING:absl:You are saving your model as an HDF5 file via `model.save()` or `keras.saving.save_model(model)`. This file format is considered legacy. We recommend using instead the native Keras format, e.g. `model.save('my_model.keras')` or `keras.saving.save_model(model, 'my_model.keras')`. \n"
     ]
    },
    {
     "name": "stdout",
     "output_type": "stream",
     "text": [
      "\u001b[1m304/304\u001b[0m \u001b[32m━━━━━━━━━━━━━━━━━━━━\u001b[0m\u001b[37m\u001b[0m \u001b[1m50s\u001b[0m 165ms/step - accuracy: 0.9595 - loss: 0.1173 - val_accuracy: 0.9790 - val_loss: 0.0665\n",
      "Epoch 12/200\n",
      "\u001b[1m304/304\u001b[0m \u001b[32m━━━━━━━━━━━━━━━━━━━━\u001b[0m\u001b[37m\u001b[0m \u001b[1m0s\u001b[0m 159ms/step - accuracy: 0.9641 - loss: 0.1010\n",
      "Epoch 12: val_accuracy did not improve from 0.97899\n",
      "\u001b[1m304/304\u001b[0m \u001b[32m━━━━━━━━━━━━━━━━━━━━\u001b[0m\u001b[37m\u001b[0m \u001b[1m52s\u001b[0m 171ms/step - accuracy: 0.9641 - loss: 0.1010 - val_accuracy: 0.9724 - val_loss: 0.0773\n",
      "Epoch 13/200\n",
      "\u001b[1m304/304\u001b[0m \u001b[32m━━━━━━━━━━━━━━━━━━━━\u001b[0m\u001b[37m\u001b[0m \u001b[1m0s\u001b[0m 168ms/step - accuracy: 0.9660 - loss: 0.0952\n",
      "Epoch 13: val_accuracy did not improve from 0.97899\n",
      "\u001b[1m304/304\u001b[0m \u001b[32m━━━━━━━━━━━━━━━━━━━━\u001b[0m\u001b[37m\u001b[0m \u001b[1m55s\u001b[0m 182ms/step - accuracy: 0.9660 - loss: 0.0952 - val_accuracy: 0.9699 - val_loss: 0.0730\n",
      "Epoch 14/200\n",
      "\u001b[1m304/304\u001b[0m \u001b[32m━━━━━━━━━━━━━━━━━━━━\u001b[0m\u001b[37m\u001b[0m \u001b[1m0s\u001b[0m 179ms/step - accuracy: 0.9647 - loss: 0.1045\n",
      "Epoch 14: val_accuracy did not improve from 0.97899\n",
      "\u001b[1m304/304\u001b[0m \u001b[32m━━━━━━━━━━━━━━━━━━━━\u001b[0m\u001b[37m\u001b[0m \u001b[1m58s\u001b[0m 191ms/step - accuracy: 0.9647 - loss: 0.1045 - val_accuracy: 0.9679 - val_loss: 0.0801\n",
      "Epoch 15/200\n",
      "\u001b[1m304/304\u001b[0m \u001b[32m━━━━━━━━━━━━━━━━━━━━\u001b[0m\u001b[37m\u001b[0m \u001b[1m0s\u001b[0m 161ms/step - accuracy: 0.9501 - loss: 0.1471\n",
      "Epoch 15: val_accuracy did not improve from 0.97899\n",
      "\u001b[1m304/304\u001b[0m \u001b[32m━━━━━━━━━━━━━━━━━━━━\u001b[0m\u001b[37m\u001b[0m \u001b[1m53s\u001b[0m 173ms/step - accuracy: 0.9501 - loss: 0.1470 - val_accuracy: 0.9745 - val_loss: 0.0626\n",
      "Epoch 16/200\n",
      "\u001b[1m304/304\u001b[0m \u001b[32m━━━━━━━━━━━━━━━━━━━━\u001b[0m\u001b[37m\u001b[0m \u001b[1m0s\u001b[0m 167ms/step - accuracy: 0.9743 - loss: 0.0770\n",
      "Epoch 16: val_accuracy did not improve from 0.97899\n",
      "\u001b[1m304/304\u001b[0m \u001b[32m━━━━━━━━━━━━━━━━━━━━\u001b[0m\u001b[37m\u001b[0m \u001b[1m54s\u001b[0m 179ms/step - accuracy: 0.9743 - loss: 0.0770 - val_accuracy: 0.9732 - val_loss: 0.0652\n",
      "Epoch 17/200\n",
      "\u001b[1m304/304\u001b[0m \u001b[32m━━━━━━━━━━━━━━━━━━━━\u001b[0m\u001b[37m\u001b[0m \u001b[1m0s\u001b[0m 154ms/step - accuracy: 0.9754 - loss: 0.0792\n",
      "Epoch 17: val_accuracy did not improve from 0.97899\n",
      "\u001b[1m304/304\u001b[0m \u001b[32m━━━━━━━━━━━━━━━━━━━━\u001b[0m\u001b[37m\u001b[0m \u001b[1m50s\u001b[0m 165ms/step - accuracy: 0.9754 - loss: 0.0793 - val_accuracy: 0.9773 - val_loss: 0.0655\n",
      "Epoch 18/200\n",
      "\u001b[1m304/304\u001b[0m \u001b[32m━━━━━━━━━━━━━━━━━━━━\u001b[0m\u001b[37m\u001b[0m \u001b[1m0s\u001b[0m 155ms/step - accuracy: 0.9792 - loss: 0.0647\n",
      "Epoch 18: val_accuracy did not improve from 0.97899\n",
      "\u001b[1m304/304\u001b[0m \u001b[32m━━━━━━━━━━━━━━━━━━━━\u001b[0m\u001b[37m\u001b[0m \u001b[1m51s\u001b[0m 167ms/step - accuracy: 0.9792 - loss: 0.0648 - val_accuracy: 0.9773 - val_loss: 0.0759\n",
      "Epoch 19/200\n",
      "\u001b[1m304/304\u001b[0m \u001b[32m━━━━━━━━━━━━━━━━━━━━\u001b[0m\u001b[37m\u001b[0m \u001b[1m0s\u001b[0m 157ms/step - accuracy: 0.9781 - loss: 0.0693\n",
      "Epoch 19: val_accuracy did not improve from 0.97899\n",
      "\u001b[1m304/304\u001b[0m \u001b[32m━━━━━━━━━━━━━━━━━━━━\u001b[0m\u001b[37m\u001b[0m \u001b[1m51s\u001b[0m 168ms/step - accuracy: 0.9781 - loss: 0.0694 - val_accuracy: 0.9654 - val_loss: 0.1041\n",
      "Epoch 20/200\n",
      "\u001b[1m304/304\u001b[0m \u001b[32m━━━━━━━━━━━━━━━━━━━━\u001b[0m\u001b[37m\u001b[0m \u001b[1m0s\u001b[0m 156ms/step - accuracy: 0.9748 - loss: 0.0696\n",
      "Epoch 20: val_accuracy did not improve from 0.97899\n",
      "\u001b[1m304/304\u001b[0m \u001b[32m━━━━━━━━━━━━━━━━━━━━\u001b[0m\u001b[37m\u001b[0m \u001b[1m51s\u001b[0m 167ms/step - accuracy: 0.9748 - loss: 0.0696 - val_accuracy: 0.9765 - val_loss: 0.0681\n",
      "Epoch 21/200\n",
      "\u001b[1m304/304\u001b[0m \u001b[32m━━━━━━━━━━━━━━━━━━━━\u001b[0m\u001b[37m\u001b[0m \u001b[1m0s\u001b[0m 155ms/step - accuracy: 0.9823 - loss: 0.0573\n",
      "Epoch 21: val_accuracy improved from 0.97899 to 0.97940, saving model to CNN2D_results/Scalogram_Spectrogram/best_model_3.h5\n"
     ]
    },
    {
     "name": "stderr",
     "output_type": "stream",
     "text": [
      "WARNING:absl:You are saving your model as an HDF5 file via `model.save()` or `keras.saving.save_model(model)`. This file format is considered legacy. We recommend using instead the native Keras format, e.g. `model.save('my_model.keras')` or `keras.saving.save_model(model, 'my_model.keras')`. \n"
     ]
    },
    {
     "name": "stdout",
     "output_type": "stream",
     "text": [
      "\u001b[1m304/304\u001b[0m \u001b[32m━━━━━━━━━━━━━━━━━━━━\u001b[0m\u001b[37m\u001b[0m \u001b[1m51s\u001b[0m 166ms/step - accuracy: 0.9823 - loss: 0.0573 - val_accuracy: 0.9794 - val_loss: 0.0569\n",
      "Epoch 22/200\n",
      "\u001b[1m304/304\u001b[0m \u001b[32m━━━━━━━━━━━━━━━━━━━━\u001b[0m\u001b[37m\u001b[0m \u001b[1m0s\u001b[0m 151ms/step - accuracy: 0.9842 - loss: 0.0481\n",
      "Epoch 22: val_accuracy did not improve from 0.97940\n",
      "\u001b[1m304/304\u001b[0m \u001b[32m━━━━━━━━━━━━━━━━━━━━\u001b[0m\u001b[37m\u001b[0m \u001b[1m49s\u001b[0m 162ms/step - accuracy: 0.9842 - loss: 0.0482 - val_accuracy: 0.9740 - val_loss: 0.0724\n",
      "Epoch 23/200\n",
      "\u001b[1m304/304\u001b[0m \u001b[32m━━━━━━━━━━━━━━━━━━━━\u001b[0m\u001b[37m\u001b[0m \u001b[1m0s\u001b[0m 153ms/step - accuracy: 0.9817 - loss: 0.0583\n",
      "Epoch 23: val_accuracy did not improve from 0.97940\n",
      "\u001b[1m304/304\u001b[0m \u001b[32m━━━━━━━━━━━━━━━━━━━━\u001b[0m\u001b[37m\u001b[0m \u001b[1m50s\u001b[0m 165ms/step - accuracy: 0.9817 - loss: 0.0585 - val_accuracy: 0.9720 - val_loss: 0.0762\n",
      "Epoch 24/200\n",
      "\u001b[1m304/304\u001b[0m \u001b[32m━━━━━━━━━━━━━━━━━━━━\u001b[0m\u001b[37m\u001b[0m \u001b[1m0s\u001b[0m 151ms/step - accuracy: 0.9837 - loss: 0.0524\n",
      "Epoch 24: val_accuracy did not improve from 0.97940\n",
      "\u001b[1m304/304\u001b[0m \u001b[32m━━━━━━━━━━━━━━━━━━━━\u001b[0m\u001b[37m\u001b[0m \u001b[1m49s\u001b[0m 162ms/step - accuracy: 0.9837 - loss: 0.0524 - val_accuracy: 0.9794 - val_loss: 0.0574\n",
      "Epoch 25/200\n",
      "\u001b[1m304/304\u001b[0m \u001b[32m━━━━━━━━━━━━━━━━━━━━\u001b[0m\u001b[37m\u001b[0m \u001b[1m0s\u001b[0m 168ms/step - accuracy: 0.9771 - loss: 0.0703\n",
      "Epoch 25: val_accuracy did not improve from 0.97940\n",
      "\u001b[1m304/304\u001b[0m \u001b[32m━━━━━━━━━━━━━━━━━━━━\u001b[0m\u001b[37m\u001b[0m \u001b[1m55s\u001b[0m 181ms/step - accuracy: 0.9771 - loss: 0.0703 - val_accuracy: 0.9790 - val_loss: 0.0532\n",
      "Epoch 26/200\n",
      "\u001b[1m304/304\u001b[0m \u001b[32m━━━━━━━━━━━━━━━━━━━━\u001b[0m\u001b[37m\u001b[0m \u001b[1m0s\u001b[0m 159ms/step - accuracy: 0.9849 - loss: 0.0420\n",
      "Epoch 26: val_accuracy did not improve from 0.97940\n",
      "\u001b[1m304/304\u001b[0m \u001b[32m━━━━━━━━━━━━━━━━━━━━\u001b[0m\u001b[37m\u001b[0m \u001b[1m52s\u001b[0m 171ms/step - accuracy: 0.9849 - loss: 0.0420 - val_accuracy: 0.9790 - val_loss: 0.0535\n",
      "Epoch 27/200\n",
      "\u001b[1m304/304\u001b[0m \u001b[32m━━━━━━━━━━━━━━━━━━━━\u001b[0m\u001b[37m\u001b[0m \u001b[1m0s\u001b[0m 152ms/step - accuracy: 0.9864 - loss: 0.0382\n",
      "Epoch 27: val_accuracy improved from 0.97940 to 0.98022, saving model to CNN2D_results/Scalogram_Spectrogram/best_model_3.h5\n"
     ]
    },
    {
     "name": "stderr",
     "output_type": "stream",
     "text": [
      "WARNING:absl:You are saving your model as an HDF5 file via `model.save()` or `keras.saving.save_model(model)`. This file format is considered legacy. We recommend using instead the native Keras format, e.g. `model.save('my_model.keras')` or `keras.saving.save_model(model, 'my_model.keras')`. \n"
     ]
    },
    {
     "name": "stdout",
     "output_type": "stream",
     "text": [
      "\u001b[1m304/304\u001b[0m \u001b[32m━━━━━━━━━━━━━━━━━━━━\u001b[0m\u001b[37m\u001b[0m \u001b[1m50s\u001b[0m 164ms/step - accuracy: 0.9864 - loss: 0.0383 - val_accuracy: 0.9802 - val_loss: 0.0586\n",
      "Epoch 28/200\n",
      "\u001b[1m304/304\u001b[0m \u001b[32m━━━━━━━━━━━━━━━━━━━━\u001b[0m\u001b[37m\u001b[0m \u001b[1m0s\u001b[0m 152ms/step - accuracy: 0.9806 - loss: 0.0616\n",
      "Epoch 28: val_accuracy did not improve from 0.98022\n",
      "\u001b[1m304/304\u001b[0m \u001b[32m━━━━━━━━━━━━━━━━━━━━\u001b[0m\u001b[37m\u001b[0m \u001b[1m50s\u001b[0m 164ms/step - accuracy: 0.9806 - loss: 0.0616 - val_accuracy: 0.9782 - val_loss: 0.0578\n",
      "Epoch 29/200\n",
      "\u001b[1m304/304\u001b[0m \u001b[32m━━━━━━━━━━━━━━━━━━━━\u001b[0m\u001b[37m\u001b[0m \u001b[1m0s\u001b[0m 149ms/step - accuracy: 0.9871 - loss: 0.0385\n",
      "Epoch 29: val_accuracy did not improve from 0.98022\n",
      "\u001b[1m304/304\u001b[0m \u001b[32m━━━━━━━━━━━━━━━━━━━━\u001b[0m\u001b[37m\u001b[0m \u001b[1m49s\u001b[0m 160ms/step - accuracy: 0.9871 - loss: 0.0386 - val_accuracy: 0.9736 - val_loss: 0.0705\n",
      "Epoch 30/200\n",
      "\u001b[1m304/304\u001b[0m \u001b[32m━━━━━━━━━━━━━━━━━━━━\u001b[0m\u001b[37m\u001b[0m \u001b[1m0s\u001b[0m 151ms/step - accuracy: 0.9859 - loss: 0.0511\n",
      "Epoch 30: val_accuracy did not improve from 0.98022\n",
      "\u001b[1m304/304\u001b[0m \u001b[32m━━━━━━━━━━━━━━━━━━━━\u001b[0m\u001b[37m\u001b[0m \u001b[1m49s\u001b[0m 162ms/step - accuracy: 0.9859 - loss: 0.0511 - val_accuracy: 0.9782 - val_loss: 0.0677\n",
      "Epoch 31/200\n",
      "\u001b[1m304/304\u001b[0m \u001b[32m━━━━━━━━━━━━━━━━━━━━\u001b[0m\u001b[37m\u001b[0m \u001b[1m0s\u001b[0m 153ms/step - accuracy: 0.9861 - loss: 0.0469\n",
      "Epoch 31: val_accuracy improved from 0.98022 to 0.98228, saving model to CNN2D_results/Scalogram_Spectrogram/best_model_3.h5\n"
     ]
    },
    {
     "name": "stderr",
     "output_type": "stream",
     "text": [
      "WARNING:absl:You are saving your model as an HDF5 file via `model.save()` or `keras.saving.save_model(model)`. This file format is considered legacy. We recommend using instead the native Keras format, e.g. `model.save('my_model.keras')` or `keras.saving.save_model(model, 'my_model.keras')`. \n"
     ]
    },
    {
     "name": "stdout",
     "output_type": "stream",
     "text": [
      "\u001b[1m304/304\u001b[0m \u001b[32m━━━━━━━━━━━━━━━━━━━━\u001b[0m\u001b[37m\u001b[0m \u001b[1m50s\u001b[0m 165ms/step - accuracy: 0.9861 - loss: 0.0469 - val_accuracy: 0.9823 - val_loss: 0.0588\n",
      "Epoch 32/200\n",
      "\u001b[1m304/304\u001b[0m \u001b[32m━━━━━━━━━━━━━━━━━━━━\u001b[0m\u001b[37m\u001b[0m \u001b[1m0s\u001b[0m 150ms/step - accuracy: 0.9873 - loss: 0.0409\n",
      "Epoch 32: val_accuracy did not improve from 0.98228\n",
      "\u001b[1m304/304\u001b[0m \u001b[32m━━━━━━━━━━━━━━━━━━━━\u001b[0m\u001b[37m\u001b[0m \u001b[1m49s\u001b[0m 162ms/step - accuracy: 0.9873 - loss: 0.0410 - val_accuracy: 0.9650 - val_loss: 0.0800\n",
      "Epoch 33/200\n",
      "\u001b[1m304/304\u001b[0m \u001b[32m━━━━━━━━━━━━━━━━━━━━\u001b[0m\u001b[37m\u001b[0m \u001b[1m0s\u001b[0m 149ms/step - accuracy: 0.9849 - loss: 0.0464\n",
      "Epoch 33: val_accuracy did not improve from 0.98228\n",
      "\u001b[1m304/304\u001b[0m \u001b[32m━━━━━━━━━━━━━━━━━━━━\u001b[0m\u001b[37m\u001b[0m \u001b[1m49s\u001b[0m 160ms/step - accuracy: 0.9849 - loss: 0.0464 - val_accuracy: 0.9794 - val_loss: 0.0513\n",
      "Epoch 34/200\n",
      "\u001b[1m304/304\u001b[0m \u001b[32m━━━━━━━━━━━━━━━━━━━━\u001b[0m\u001b[37m\u001b[0m \u001b[1m0s\u001b[0m 150ms/step - accuracy: 0.9911 - loss: 0.0312\n",
      "Epoch 34: val_accuracy improved from 0.98228 to 0.98352, saving model to CNN2D_results/Scalogram_Spectrogram/best_model_3.h5\n"
     ]
    },
    {
     "name": "stderr",
     "output_type": "stream",
     "text": [
      "WARNING:absl:You are saving your model as an HDF5 file via `model.save()` or `keras.saving.save_model(model)`. This file format is considered legacy. We recommend using instead the native Keras format, e.g. `model.save('my_model.keras')` or `keras.saving.save_model(model, 'my_model.keras')`. \n"
     ]
    },
    {
     "name": "stdout",
     "output_type": "stream",
     "text": [
      "\u001b[1m304/304\u001b[0m \u001b[32m━━━━━━━━━━━━━━━━━━━━\u001b[0m\u001b[37m\u001b[0m \u001b[1m49s\u001b[0m 162ms/step - accuracy: 0.9911 - loss: 0.0313 - val_accuracy: 0.9835 - val_loss: 0.0433\n",
      "Epoch 35/200\n",
      "\u001b[1m304/304\u001b[0m \u001b[32m━━━━━━━━━━━━━━━━━━━━\u001b[0m\u001b[37m\u001b[0m \u001b[1m0s\u001b[0m 150ms/step - accuracy: 0.9914 - loss: 0.0271\n",
      "Epoch 35: val_accuracy did not improve from 0.98352\n",
      "\u001b[1m304/304\u001b[0m \u001b[32m━━━━━━━━━━━━━━━━━━━━\u001b[0m\u001b[37m\u001b[0m \u001b[1m49s\u001b[0m 162ms/step - accuracy: 0.9914 - loss: 0.0271 - val_accuracy: 0.9526 - val_loss: 0.2455\n",
      "Epoch 36/200\n",
      "\u001b[1m304/304\u001b[0m \u001b[32m━━━━━━━━━━━━━━━━━━━━\u001b[0m\u001b[37m\u001b[0m \u001b[1m0s\u001b[0m 149ms/step - accuracy: 0.9783 - loss: 0.0802\n",
      "Epoch 36: val_accuracy did not improve from 0.98352\n",
      "\u001b[1m304/304\u001b[0m \u001b[32m━━━━━━━━━━━━━━━━━━━━\u001b[0m\u001b[37m\u001b[0m \u001b[1m49s\u001b[0m 161ms/step - accuracy: 0.9783 - loss: 0.0802 - val_accuracy: 0.9761 - val_loss: 0.0675\n",
      "Epoch 37/200\n",
      "\u001b[1m304/304\u001b[0m \u001b[32m━━━━━━━━━━━━━━━━━━━━\u001b[0m\u001b[37m\u001b[0m \u001b[1m0s\u001b[0m 153ms/step - accuracy: 0.9819 - loss: 0.0611\n",
      "Epoch 37: val_accuracy did not improve from 0.98352\n",
      "\u001b[1m304/304\u001b[0m \u001b[32m━━━━━━━━━━━━━━━━━━━━\u001b[0m\u001b[37m\u001b[0m \u001b[1m50s\u001b[0m 165ms/step - accuracy: 0.9819 - loss: 0.0611 - val_accuracy: 0.9815 - val_loss: 0.0494\n",
      "Epoch 38/200\n",
      "\u001b[1m304/304\u001b[0m \u001b[32m━━━━━━━━━━━━━━━━━━━━\u001b[0m\u001b[37m\u001b[0m \u001b[1m0s\u001b[0m 153ms/step - accuracy: 0.9891 - loss: 0.0299\n",
      "Epoch 38: val_accuracy improved from 0.98352 to 0.98393, saving model to CNN2D_results/Scalogram_Spectrogram/best_model_3.h5\n"
     ]
    },
    {
     "name": "stderr",
     "output_type": "stream",
     "text": [
      "WARNING:absl:You are saving your model as an HDF5 file via `model.save()` or `keras.saving.save_model(model)`. This file format is considered legacy. We recommend using instead the native Keras format, e.g. `model.save('my_model.keras')` or `keras.saving.save_model(model, 'my_model.keras')`. \n"
     ]
    },
    {
     "name": "stdout",
     "output_type": "stream",
     "text": [
      "\u001b[1m304/304\u001b[0m \u001b[32m━━━━━━━━━━━━━━━━━━━━\u001b[0m\u001b[37m\u001b[0m \u001b[1m50s\u001b[0m 164ms/step - accuracy: 0.9891 - loss: 0.0300 - val_accuracy: 0.9839 - val_loss: 0.0502\n",
      "Epoch 39/200\n",
      "\u001b[1m304/304\u001b[0m \u001b[32m━━━━━━━━━━━━━━━━━━━━\u001b[0m\u001b[37m\u001b[0m \u001b[1m0s\u001b[0m 150ms/step - accuracy: 0.9923 - loss: 0.0262\n",
      "Epoch 39: val_accuracy did not improve from 0.98393\n",
      "\u001b[1m304/304\u001b[0m \u001b[32m━━━━━━━━━━━━━━━━━━━━\u001b[0m\u001b[37m\u001b[0m \u001b[1m49s\u001b[0m 161ms/step - accuracy: 0.9923 - loss: 0.0262 - val_accuracy: 0.9778 - val_loss: 0.0655\n",
      "Epoch 40/200\n",
      "\u001b[1m304/304\u001b[0m \u001b[32m━━━━━━━━━━━━━━━━━━━━\u001b[0m\u001b[37m\u001b[0m \u001b[1m0s\u001b[0m 152ms/step - accuracy: 0.9932 - loss: 0.0235\n",
      "Epoch 40: val_accuracy did not improve from 0.98393\n",
      "\u001b[1m304/304\u001b[0m \u001b[32m━━━━━━━━━━━━━━━━━━━━\u001b[0m\u001b[37m\u001b[0m \u001b[1m50s\u001b[0m 164ms/step - accuracy: 0.9932 - loss: 0.0235 - val_accuracy: 0.9679 - val_loss: 0.1010\n",
      "Epoch 41/200\n",
      "\u001b[1m304/304\u001b[0m \u001b[32m━━━━━━━━━━━━━━━━━━━━\u001b[0m\u001b[37m\u001b[0m \u001b[1m0s\u001b[0m 151ms/step - accuracy: 0.9874 - loss: 0.0409\n",
      "Epoch 41: val_accuracy did not improve from 0.98393\n",
      "\u001b[1m304/304\u001b[0m \u001b[32m━━━━━━━━━━━━━━━━━━━━\u001b[0m\u001b[37m\u001b[0m \u001b[1m49s\u001b[0m 162ms/step - accuracy: 0.9874 - loss: 0.0409 - val_accuracy: 0.9724 - val_loss: 0.0817\n",
      "Epoch 42/200\n",
      "\u001b[1m304/304\u001b[0m \u001b[32m━━━━━━━━━━━━━━━━━━━━\u001b[0m\u001b[37m\u001b[0m \u001b[1m0s\u001b[0m 150ms/step - accuracy: 0.9924 - loss: 0.0225\n",
      "Epoch 42: val_accuracy did not improve from 0.98393\n",
      "\u001b[1m304/304\u001b[0m \u001b[32m━━━━━━━━━━━━━━━━━━━━\u001b[0m\u001b[37m\u001b[0m \u001b[1m49s\u001b[0m 161ms/step - accuracy: 0.9924 - loss: 0.0226 - val_accuracy: 0.9790 - val_loss: 0.0659\n",
      "Epoch 43/200\n",
      "\u001b[1m304/304\u001b[0m \u001b[32m━━━━━━━━━━━━━━━━━━━━\u001b[0m\u001b[37m\u001b[0m \u001b[1m0s\u001b[0m 152ms/step - accuracy: 0.9764 - loss: 0.0992\n",
      "Epoch 43: val_accuracy did not improve from 0.98393\n",
      "\u001b[1m304/304\u001b[0m \u001b[32m━━━━━━━━━━━━━━━━━━━━\u001b[0m\u001b[37m\u001b[0m \u001b[1m50s\u001b[0m 164ms/step - accuracy: 0.9764 - loss: 0.0991 - val_accuracy: 0.9831 - val_loss: 0.0445\n",
      "Epoch 44/200\n",
      "\u001b[1m304/304\u001b[0m \u001b[32m━━━━━━━━━━━━━━━━━━━━\u001b[0m\u001b[37m\u001b[0m \u001b[1m0s\u001b[0m 150ms/step - accuracy: 0.9880 - loss: 0.0345\n",
      "Epoch 44: val_accuracy did not improve from 0.98393\n",
      "\u001b[1m304/304\u001b[0m \u001b[32m━━━━━━━━━━━━━━━━━━━━\u001b[0m\u001b[37m\u001b[0m \u001b[1m49s\u001b[0m 161ms/step - accuracy: 0.9880 - loss: 0.0345 - val_accuracy: 0.9790 - val_loss: 0.0599\n",
      "Epoch 45/200\n",
      "\u001b[1m304/304\u001b[0m \u001b[32m━━━━━━━━━━━━━━━━━━━━\u001b[0m\u001b[37m\u001b[0m \u001b[1m0s\u001b[0m 149ms/step - accuracy: 0.9926 - loss: 0.0223\n",
      "Epoch 45: val_accuracy did not improve from 0.98393\n",
      "\u001b[1m304/304\u001b[0m \u001b[32m━━━━━━━━━━━━━━━━━━━━\u001b[0m\u001b[37m\u001b[0m \u001b[1m49s\u001b[0m 160ms/step - accuracy: 0.9926 - loss: 0.0223 - val_accuracy: 0.9810 - val_loss: 0.0748\n",
      "Epoch 46/200\n",
      "\u001b[1m304/304\u001b[0m \u001b[32m━━━━━━━━━━━━━━━━━━━━\u001b[0m\u001b[37m\u001b[0m \u001b[1m0s\u001b[0m 150ms/step - accuracy: 0.9923 - loss: 0.0294\n",
      "Epoch 46: val_accuracy did not improve from 0.98393\n",
      "\u001b[1m304/304\u001b[0m \u001b[32m━━━━━━━━━━━━━━━━━━━━\u001b[0m\u001b[37m\u001b[0m \u001b[1m49s\u001b[0m 162ms/step - accuracy: 0.9923 - loss: 0.0294 - val_accuracy: 0.9749 - val_loss: 0.0844\n",
      "Epoch 47/200\n",
      "\u001b[1m304/304\u001b[0m \u001b[32m━━━━━━━━━━━━━━━━━━━━\u001b[0m\u001b[37m\u001b[0m \u001b[1m0s\u001b[0m 158ms/step - accuracy: 0.9928 - loss: 0.0175\n",
      "Epoch 47: val_accuracy improved from 0.98393 to 0.98434, saving model to CNN2D_results/Scalogram_Spectrogram/best_model_3.h5\n"
     ]
    },
    {
     "name": "stderr",
     "output_type": "stream",
     "text": [
      "WARNING:absl:You are saving your model as an HDF5 file via `model.save()` or `keras.saving.save_model(model)`. This file format is considered legacy. We recommend using instead the native Keras format, e.g. `model.save('my_model.keras')` or `keras.saving.save_model(model, 'my_model.keras')`. \n"
     ]
    },
    {
     "name": "stdout",
     "output_type": "stream",
     "text": [
      "\u001b[1m304/304\u001b[0m \u001b[32m━━━━━━━━━━━━━━━━━━━━\u001b[0m\u001b[37m\u001b[0m \u001b[1m53s\u001b[0m 173ms/step - accuracy: 0.9928 - loss: 0.0175 - val_accuracy: 0.9843 - val_loss: 0.0510\n",
      "Epoch 48/200\n",
      "\u001b[1m304/304\u001b[0m \u001b[32m━━━━━━━━━━━━━━━━━━━━\u001b[0m\u001b[37m\u001b[0m \u001b[1m0s\u001b[0m 171ms/step - accuracy: 0.9910 - loss: 0.0257\n",
      "Epoch 48: val_accuracy did not improve from 0.98434\n",
      "\u001b[1m304/304\u001b[0m \u001b[32m━━━━━━━━━━━━━━━━━━━━\u001b[0m\u001b[37m\u001b[0m \u001b[1m56s\u001b[0m 183ms/step - accuracy: 0.9910 - loss: 0.0258 - val_accuracy: 0.9032 - val_loss: 0.6694\n",
      "Epoch 49/200\n",
      "\u001b[1m304/304\u001b[0m \u001b[32m━━━━━━━━━━━━━━━━━━━━\u001b[0m\u001b[37m\u001b[0m \u001b[1m0s\u001b[0m 163ms/step - accuracy: 0.9846 - loss: 0.0624\n",
      "Epoch 49: val_accuracy did not improve from 0.98434\n",
      "\u001b[1m304/304\u001b[0m \u001b[32m━━━━━━━━━━━━━━━━━━━━\u001b[0m\u001b[37m\u001b[0m \u001b[1m53s\u001b[0m 175ms/step - accuracy: 0.9846 - loss: 0.0623 - val_accuracy: 0.9810 - val_loss: 0.0580\n",
      "Epoch 50/200\n",
      "\u001b[1m304/304\u001b[0m \u001b[32m━━━━━━━━━━━━━━━━━━━━\u001b[0m\u001b[37m\u001b[0m \u001b[1m0s\u001b[0m 165ms/step - accuracy: 0.9941 - loss: 0.0206\n",
      "Epoch 50: val_accuracy did not improve from 0.98434\n",
      "\u001b[1m304/304\u001b[0m \u001b[32m━━━━━━━━━━━━━━━━━━━━\u001b[0m\u001b[37m\u001b[0m \u001b[1m53s\u001b[0m 176ms/step - accuracy: 0.9941 - loss: 0.0206 - val_accuracy: 0.9810 - val_loss: 0.0579\n",
      "Epoch 51/200\n",
      "\u001b[1m304/304\u001b[0m \u001b[32m━━━━━━━━━━━━━━━━━━━━\u001b[0m\u001b[37m\u001b[0m \u001b[1m0s\u001b[0m 153ms/step - accuracy: 0.9911 - loss: 0.0266\n",
      "Epoch 51: val_accuracy did not improve from 0.98434\n",
      "\u001b[1m304/304\u001b[0m \u001b[32m━━━━━━━━━━━━━━━━━━━━\u001b[0m\u001b[37m\u001b[0m \u001b[1m50s\u001b[0m 164ms/step - accuracy: 0.9912 - loss: 0.0266 - val_accuracy: 0.9806 - val_loss: 0.0598\n",
      "Epoch 52/200\n",
      "\u001b[1m304/304\u001b[0m \u001b[32m━━━━━━━━━━━━━━━━━━━━\u001b[0m\u001b[37m\u001b[0m \u001b[1m0s\u001b[0m 149ms/step - accuracy: 0.9945 - loss: 0.0185\n",
      "Epoch 52: val_accuracy did not improve from 0.98434\n",
      "\u001b[1m304/304\u001b[0m \u001b[32m━━━━━━━━━━━━━━━━━━━━\u001b[0m\u001b[37m\u001b[0m \u001b[1m49s\u001b[0m 160ms/step - accuracy: 0.9945 - loss: 0.0185 - val_accuracy: 0.9802 - val_loss: 0.0605\n",
      "Epoch 53/200\n",
      "\u001b[1m304/304\u001b[0m \u001b[32m━━━━━━━━━━━━━━━━━━━━\u001b[0m\u001b[37m\u001b[0m \u001b[1m0s\u001b[0m 151ms/step - accuracy: 0.9917 - loss: 0.0216\n",
      "Epoch 53: val_accuracy did not improve from 0.98434\n",
      "\u001b[1m304/304\u001b[0m \u001b[32m━━━━━━━━━━━━━━━━━━━━\u001b[0m\u001b[37m\u001b[0m \u001b[1m49s\u001b[0m 163ms/step - accuracy: 0.9917 - loss: 0.0216 - val_accuracy: 0.9802 - val_loss: 0.0586\n",
      "Epoch 54/200\n",
      "\u001b[1m304/304\u001b[0m \u001b[32m━━━━━━━━━━━━━━━━━━━━\u001b[0m\u001b[37m\u001b[0m \u001b[1m0s\u001b[0m 157ms/step - accuracy: 0.9838 - loss: 0.0511\n",
      "Epoch 54: val_accuracy did not improve from 0.98434\n",
      "\u001b[1m304/304\u001b[0m \u001b[32m━━━━━━━━━━━━━━━━━━━━\u001b[0m\u001b[37m\u001b[0m \u001b[1m51s\u001b[0m 168ms/step - accuracy: 0.9838 - loss: 0.0510 - val_accuracy: 0.9819 - val_loss: 0.0509\n",
      "Epoch 55/200\n",
      "\u001b[1m304/304\u001b[0m \u001b[32m━━━━━━━━━━━━━━━━━━━━\u001b[0m\u001b[37m\u001b[0m \u001b[1m0s\u001b[0m 168ms/step - accuracy: 0.9949 - loss: 0.0154\n",
      "Epoch 55: val_accuracy did not improve from 0.98434\n",
      "\u001b[1m304/304\u001b[0m \u001b[32m━━━━━━━━━━━━━━━━━━━━\u001b[0m\u001b[37m\u001b[0m \u001b[1m55s\u001b[0m 180ms/step - accuracy: 0.9949 - loss: 0.0154 - val_accuracy: 0.9753 - val_loss: 0.0921\n",
      "Epoch 56/200\n",
      "\u001b[1m304/304\u001b[0m \u001b[32m━━━━━━━━━━━━━━━━━━━━\u001b[0m\u001b[37m\u001b[0m \u001b[1m0s\u001b[0m 162ms/step - accuracy: 0.9910 - loss: 0.0313\n",
      "Epoch 56: val_accuracy did not improve from 0.98434\n",
      "\u001b[1m304/304\u001b[0m \u001b[32m━━━━━━━━━━━━━━━━━━━━\u001b[0m\u001b[37m\u001b[0m \u001b[1m53s\u001b[0m 174ms/step - accuracy: 0.9910 - loss: 0.0313 - val_accuracy: 0.9806 - val_loss: 0.0584\n",
      "Epoch 57/200\n",
      "\u001b[1m304/304\u001b[0m \u001b[32m━━━━━━━━━━━━━━━━━━━━\u001b[0m\u001b[37m\u001b[0m \u001b[1m0s\u001b[0m 148ms/step - accuracy: 0.9956 - loss: 0.0155\n",
      "Epoch 57: val_accuracy did not improve from 0.98434\n",
      "\u001b[1m304/304\u001b[0m \u001b[32m━━━━━━━━━━━━━━━━━━━━\u001b[0m\u001b[37m\u001b[0m \u001b[1m48s\u001b[0m 159ms/step - accuracy: 0.9956 - loss: 0.0156 - val_accuracy: 0.9736 - val_loss: 0.0836\n",
      "Epoch 58/200\n",
      "\u001b[1m304/304\u001b[0m \u001b[32m━━━━━━━━━━━━━━━━━━━━\u001b[0m\u001b[37m\u001b[0m \u001b[1m0s\u001b[0m 151ms/step - accuracy: 0.9922 - loss: 0.0260\n",
      "Epoch 58: val_accuracy improved from 0.98434 to 0.98475, saving model to CNN2D_results/Scalogram_Spectrogram/best_model_3.h5\n"
     ]
    },
    {
     "name": "stderr",
     "output_type": "stream",
     "text": [
      "WARNING:absl:You are saving your model as an HDF5 file via `model.save()` or `keras.saving.save_model(model)`. This file format is considered legacy. We recommend using instead the native Keras format, e.g. `model.save('my_model.keras')` or `keras.saving.save_model(model, 'my_model.keras')`. \n"
     ]
    },
    {
     "name": "stdout",
     "output_type": "stream",
     "text": [
      "\u001b[1m304/304\u001b[0m \u001b[32m━━━━━━━━━━━━━━━━━━━━\u001b[0m\u001b[37m\u001b[0m \u001b[1m50s\u001b[0m 163ms/step - accuracy: 0.9922 - loss: 0.0260 - val_accuracy: 0.9848 - val_loss: 0.0514\n",
      "Epoch 59/200\n",
      "\u001b[1m304/304\u001b[0m \u001b[32m━━━━━━━━━━━━━━━━━━━━\u001b[0m\u001b[37m\u001b[0m \u001b[1m0s\u001b[0m 154ms/step - accuracy: 0.9966 - loss: 0.0123\n",
      "Epoch 59: val_accuracy did not improve from 0.98475\n",
      "\u001b[1m304/304\u001b[0m \u001b[32m━━━━━━━━━━━━━━━━━━━━\u001b[0m\u001b[37m\u001b[0m \u001b[1m50s\u001b[0m 165ms/step - accuracy: 0.9966 - loss: 0.0123 - val_accuracy: 0.9815 - val_loss: 0.0572\n",
      "Epoch 60/200\n",
      "\u001b[1m304/304\u001b[0m \u001b[32m━━━━━━━━━━━━━━━━━━━━\u001b[0m\u001b[37m\u001b[0m \u001b[1m0s\u001b[0m 151ms/step - accuracy: 0.9850 - loss: 0.0767\n",
      "Epoch 60: val_accuracy did not improve from 0.98475\n",
      "\u001b[1m304/304\u001b[0m \u001b[32m━━━━━━━━━━━━━━━━━━━━\u001b[0m\u001b[37m\u001b[0m \u001b[1m49s\u001b[0m 163ms/step - accuracy: 0.9850 - loss: 0.0766 - val_accuracy: 0.9831 - val_loss: 0.0562\n",
      "Epoch 61/200\n",
      "\u001b[1m304/304\u001b[0m \u001b[32m━━━━━━━━━━━━━━━━━━━━\u001b[0m\u001b[37m\u001b[0m \u001b[1m0s\u001b[0m 158ms/step - accuracy: 0.9938 - loss: 0.0188\n",
      "Epoch 61: val_accuracy did not improve from 0.98475\n",
      "\u001b[1m304/304\u001b[0m \u001b[32m━━━━━━━━━━━━━━━━━━━━\u001b[0m\u001b[37m\u001b[0m \u001b[1m52s\u001b[0m 170ms/step - accuracy: 0.9938 - loss: 0.0188 - val_accuracy: 0.9786 - val_loss: 0.0611\n",
      "Epoch 62/200\n",
      "\u001b[1m304/304\u001b[0m \u001b[32m━━━━━━━━━━━━━━━━━━━━\u001b[0m\u001b[37m\u001b[0m \u001b[1m0s\u001b[0m 154ms/step - accuracy: 0.9926 - loss: 0.0276\n",
      "Epoch 62: val_accuracy did not improve from 0.98475\n",
      "\u001b[1m304/304\u001b[0m \u001b[32m━━━━━━━━━━━━━━━━━━━━\u001b[0m\u001b[37m\u001b[0m \u001b[1m50s\u001b[0m 165ms/step - accuracy: 0.9926 - loss: 0.0275 - val_accuracy: 0.9810 - val_loss: 0.0570\n",
      "Epoch 63/200\n",
      "\u001b[1m304/304\u001b[0m \u001b[32m━━━━━━━━━━━━━━━━━━━━\u001b[0m\u001b[37m\u001b[0m \u001b[1m0s\u001b[0m 155ms/step - accuracy: 0.9959 - loss: 0.0133\n",
      "Epoch 63: val_accuracy did not improve from 0.98475\n",
      "\u001b[1m304/304\u001b[0m \u001b[32m━━━━━━━━━━━━━━━━━━━━\u001b[0m\u001b[37m\u001b[0m \u001b[1m51s\u001b[0m 167ms/step - accuracy: 0.9959 - loss: 0.0133 - val_accuracy: 0.9761 - val_loss: 0.0803\n",
      "Epoch 64/200\n",
      "\u001b[1m304/304\u001b[0m \u001b[32m━━━━━━━━━━━━━━━━━━━━\u001b[0m\u001b[37m\u001b[0m \u001b[1m0s\u001b[0m 154ms/step - accuracy: 0.9940 - loss: 0.0176\n",
      "Epoch 64: val_accuracy did not improve from 0.98475\n",
      "\u001b[1m304/304\u001b[0m \u001b[32m━━━━━━━━━━━━━━━━━━━━\u001b[0m\u001b[37m\u001b[0m \u001b[1m50s\u001b[0m 166ms/step - accuracy: 0.9940 - loss: 0.0176 - val_accuracy: 0.9703 - val_loss: 0.0825\n",
      "Epoch 65/200\n",
      "\u001b[1m304/304\u001b[0m \u001b[32m━━━━━━━━━━━━━━━━━━━━\u001b[0m\u001b[37m\u001b[0m \u001b[1m0s\u001b[0m 158ms/step - accuracy: 0.9938 - loss: 0.0177\n",
      "Epoch 65: val_accuracy did not improve from 0.98475\n",
      "\u001b[1m304/304\u001b[0m \u001b[32m━━━━━━━━━━━━━━━━━━━━\u001b[0m\u001b[37m\u001b[0m \u001b[1m52s\u001b[0m 171ms/step - accuracy: 0.9938 - loss: 0.0177 - val_accuracy: 0.9848 - val_loss: 0.0540\n",
      "Epoch 66/200\n",
      "\u001b[1m304/304\u001b[0m \u001b[32m━━━━━━━━━━━━━━━━━━━━\u001b[0m\u001b[37m\u001b[0m \u001b[1m0s\u001b[0m 200ms/step - accuracy: 0.9955 - loss: 0.0134\n",
      "Epoch 66: val_accuracy did not improve from 0.98475\n",
      "\u001b[1m304/304\u001b[0m \u001b[32m━━━━━━━━━━━━━━━━━━━━\u001b[0m\u001b[37m\u001b[0m \u001b[1m65s\u001b[0m 215ms/step - accuracy: 0.9955 - loss: 0.0134 - val_accuracy: 0.9819 - val_loss: 0.0717\n",
      "Epoch 67/200\n",
      "\u001b[1m304/304\u001b[0m \u001b[32m━━━━━━━━━━━━━━━━━━━━\u001b[0m\u001b[37m\u001b[0m \u001b[1m0s\u001b[0m 191ms/step - accuracy: 0.9956 - loss: 0.0155\n",
      "Epoch 67: val_accuracy did not improve from 0.98475\n",
      "\u001b[1m304/304\u001b[0m \u001b[32m━━━━━━━━━━━━━━━━━━━━\u001b[0m\u001b[37m\u001b[0m \u001b[1m62s\u001b[0m 205ms/step - accuracy: 0.9956 - loss: 0.0156 - val_accuracy: 0.9773 - val_loss: 0.0657\n",
      "Epoch 68/200\n",
      "\u001b[1m304/304\u001b[0m \u001b[32m━━━━━━━━━━━━━━━━━━━━\u001b[0m\u001b[37m\u001b[0m \u001b[1m0s\u001b[0m 206ms/step - accuracy: 0.9929 - loss: 0.0231\n",
      "Epoch 68: val_accuracy did not improve from 0.98475\n",
      "\u001b[1m304/304\u001b[0m \u001b[32m━━━━━━━━━━━━━━━━━━━━\u001b[0m\u001b[37m\u001b[0m \u001b[1m66s\u001b[0m 218ms/step - accuracy: 0.9929 - loss: 0.0231 - val_accuracy: 0.9790 - val_loss: 0.0776\n",
      "Epoch 69/200\n",
      "\u001b[1m304/304\u001b[0m \u001b[32m━━━━━━━━━━━━━━━━━━━━\u001b[0m\u001b[37m\u001b[0m \u001b[1m0s\u001b[0m 162ms/step - accuracy: 0.9938 - loss: 0.0224\n",
      "Epoch 69: val_accuracy did not improve from 0.98475\n",
      "\u001b[1m304/304\u001b[0m \u001b[32m━━━━━━━━━━━━━━━━━━━━\u001b[0m\u001b[37m\u001b[0m \u001b[1m53s\u001b[0m 173ms/step - accuracy: 0.9938 - loss: 0.0224 - val_accuracy: 0.9823 - val_loss: 0.0464\n",
      "Epoch 70/200\n",
      "\u001b[1m304/304\u001b[0m \u001b[32m━━━━━━━━━━━━━━━━━━━━\u001b[0m\u001b[37m\u001b[0m \u001b[1m0s\u001b[0m 194ms/step - accuracy: 0.9953 - loss: 0.0151\n",
      "Epoch 70: val_accuracy did not improve from 0.98475\n",
      "\u001b[1m304/304\u001b[0m \u001b[32m━━━━━━━━━━━━━━━━━━━━\u001b[0m\u001b[37m\u001b[0m \u001b[1m63s\u001b[0m 207ms/step - accuracy: 0.9953 - loss: 0.0151 - val_accuracy: 0.9778 - val_loss: 0.0674\n",
      "Epoch 71/200\n",
      "\u001b[1m304/304\u001b[0m \u001b[32m━━━━━━━━━━━━━━━━━━━━\u001b[0m\u001b[37m\u001b[0m \u001b[1m0s\u001b[0m 171ms/step - accuracy: 0.9939 - loss: 0.0183\n",
      "Epoch 71: val_accuracy did not improve from 0.98475\n",
      "\u001b[1m304/304\u001b[0m \u001b[32m━━━━━━━━━━━━━━━━━━━━\u001b[0m\u001b[37m\u001b[0m \u001b[1m56s\u001b[0m 183ms/step - accuracy: 0.9939 - loss: 0.0183 - val_accuracy: 0.9765 - val_loss: 0.0734\n",
      "Epoch 72/200\n",
      "\u001b[1m304/304\u001b[0m \u001b[32m━━━━━━━━━━━━━━━━━━━━\u001b[0m\u001b[37m\u001b[0m \u001b[1m0s\u001b[0m 170ms/step - accuracy: 0.9975 - loss: 0.0086\n",
      "Epoch 72: val_accuracy did not improve from 0.98475\n",
      "\u001b[1m304/304\u001b[0m \u001b[32m━━━━━━━━━━━━━━━━━━━━\u001b[0m\u001b[37m\u001b[0m \u001b[1m55s\u001b[0m 182ms/step - accuracy: 0.9975 - loss: 0.0086 - val_accuracy: 0.9749 - val_loss: 0.1067\n",
      "Epoch 73/200\n",
      "\u001b[1m304/304\u001b[0m \u001b[32m━━━━━━━━━━━━━━━━━━━━\u001b[0m\u001b[37m\u001b[0m \u001b[1m0s\u001b[0m 172ms/step - accuracy: 0.9911 - loss: 0.0363\n",
      "Epoch 73: val_accuracy did not improve from 0.98475\n",
      "\u001b[1m304/304\u001b[0m \u001b[32m━━━━━━━━━━━━━━━━━━━━\u001b[0m\u001b[37m\u001b[0m \u001b[1m56s\u001b[0m 184ms/step - accuracy: 0.9911 - loss: 0.0362 - val_accuracy: 0.9848 - val_loss: 0.0538\n",
      "Epoch 74/200\n",
      "\u001b[1m304/304\u001b[0m \u001b[32m━━━━━━━━━━━━━━━━━━━━\u001b[0m\u001b[37m\u001b[0m \u001b[1m0s\u001b[0m 184ms/step - accuracy: 0.9939 - loss: 0.0243\n",
      "Epoch 74: val_accuracy did not improve from 0.98475\n",
      "\u001b[1m304/304\u001b[0m \u001b[32m━━━━━━━━━━━━━━━━━━━━\u001b[0m\u001b[37m\u001b[0m \u001b[1m60s\u001b[0m 197ms/step - accuracy: 0.9939 - loss: 0.0244 - val_accuracy: 0.9794 - val_loss: 0.0729\n",
      "Epoch 75/200\n",
      "\u001b[1m304/304\u001b[0m \u001b[32m━━━━━━━━━━━━━━━━━━━━\u001b[0m\u001b[37m\u001b[0m \u001b[1m0s\u001b[0m 178ms/step - accuracy: 0.9873 - loss: 0.0382\n",
      "Epoch 75: val_accuracy did not improve from 0.98475\n",
      "\u001b[1m304/304\u001b[0m \u001b[32m━━━━━━━━━━━━━━━━━━━━\u001b[0m\u001b[37m\u001b[0m \u001b[1m58s\u001b[0m 189ms/step - accuracy: 0.9873 - loss: 0.0382 - val_accuracy: 0.9839 - val_loss: 0.0494\n",
      "Epoch 76/200\n",
      "\u001b[1m304/304\u001b[0m \u001b[32m━━━━━━━━━━━━━━━━━━━━\u001b[0m\u001b[37m\u001b[0m \u001b[1m0s\u001b[0m 158ms/step - accuracy: 0.9964 - loss: 0.0144\n",
      "Epoch 76: val_accuracy did not improve from 0.98475\n",
      "\u001b[1m304/304\u001b[0m \u001b[32m━━━━━━━━━━━━━━━━━━━━\u001b[0m\u001b[37m\u001b[0m \u001b[1m52s\u001b[0m 170ms/step - accuracy: 0.9964 - loss: 0.0144 - val_accuracy: 0.9827 - val_loss: 0.0576\n",
      "Epoch 77/200\n",
      "\u001b[1m304/304\u001b[0m \u001b[32m━━━━━━━━━━━━━━━━━━━━\u001b[0m\u001b[37m\u001b[0m \u001b[1m0s\u001b[0m 168ms/step - accuracy: 0.9970 - loss: 0.0127\n",
      "Epoch 77: val_accuracy did not improve from 0.98475\n",
      "\u001b[1m304/304\u001b[0m \u001b[32m━━━━━━━━━━━━━━━━━━━━\u001b[0m\u001b[37m\u001b[0m \u001b[1m55s\u001b[0m 181ms/step - accuracy: 0.9970 - loss: 0.0127 - val_accuracy: 0.9823 - val_loss: 0.0692\n",
      "Epoch 78/200\n",
      "\u001b[1m304/304\u001b[0m \u001b[32m━━━━━━━━━━━━━━━━━━━━\u001b[0m\u001b[37m\u001b[0m \u001b[1m0s\u001b[0m 166ms/step - accuracy: 0.9974 - loss: 0.0082\n",
      "Epoch 78: val_accuracy did not improve from 0.98475\n",
      "\u001b[1m304/304\u001b[0m \u001b[32m━━━━━━━━━━━━━━━━━━━━\u001b[0m\u001b[37m\u001b[0m \u001b[1m54s\u001b[0m 178ms/step - accuracy: 0.9974 - loss: 0.0082 - val_accuracy: 0.9815 - val_loss: 0.0767\n",
      "Epoch 79/200\n",
      "\u001b[1m304/304\u001b[0m \u001b[32m━━━━━━━━━━━━━━━━━━━━\u001b[0m\u001b[37m\u001b[0m \u001b[1m0s\u001b[0m 162ms/step - accuracy: 0.9961 - loss: 0.0141\n",
      "Epoch 79: val_accuracy did not improve from 0.98475\n",
      "\u001b[1m304/304\u001b[0m \u001b[32m━━━━━━━━━━━━━━━━━━━━\u001b[0m\u001b[37m\u001b[0m \u001b[1m53s\u001b[0m 174ms/step - accuracy: 0.9961 - loss: 0.0141 - val_accuracy: 0.9848 - val_loss: 0.0625\n",
      "Epoch 80/200\n",
      "\u001b[1m304/304\u001b[0m \u001b[32m━━━━━━━━━━━━━━━━━━━━\u001b[0m\u001b[37m\u001b[0m \u001b[1m0s\u001b[0m 167ms/step - accuracy: 0.9944 - loss: 0.0138\n",
      "Epoch 80: val_accuracy did not improve from 0.98475\n",
      "\u001b[1m304/304\u001b[0m \u001b[32m━━━━━━━━━━━━━━━━━━━━\u001b[0m\u001b[37m\u001b[0m \u001b[1m54s\u001b[0m 179ms/step - accuracy: 0.9944 - loss: 0.0138 - val_accuracy: 0.9839 - val_loss: 0.0594\n",
      "Epoch 81/200\n",
      "\u001b[1m304/304\u001b[0m \u001b[32m━━━━━━━━━━━━━━━━━━━━\u001b[0m\u001b[37m\u001b[0m \u001b[1m0s\u001b[0m 163ms/step - accuracy: 0.9986 - loss: 0.0055\n",
      "Epoch 81: val_accuracy did not improve from 0.98475\n",
      "\u001b[1m304/304\u001b[0m \u001b[32m━━━━━━━━━━━━━━━━━━━━\u001b[0m\u001b[37m\u001b[0m \u001b[1m53s\u001b[0m 175ms/step - accuracy: 0.9986 - loss: 0.0055 - val_accuracy: 0.9765 - val_loss: 0.1220\n",
      "Epoch 82/200\n",
      "\u001b[1m304/304\u001b[0m \u001b[32m━━━━━━━━━━━━━━━━━━━━\u001b[0m\u001b[37m\u001b[0m \u001b[1m0s\u001b[0m 173ms/step - accuracy: 0.9917 - loss: 0.0351\n",
      "Epoch 82: val_accuracy did not improve from 0.98475\n",
      "\u001b[1m304/304\u001b[0m \u001b[32m━━━━━━━━━━━━━━━━━━━━\u001b[0m\u001b[37m\u001b[0m \u001b[1m56s\u001b[0m 185ms/step - accuracy: 0.9917 - loss: 0.0351 - val_accuracy: 0.9786 - val_loss: 0.0610\n",
      "Epoch 83/200\n",
      "\u001b[1m304/304\u001b[0m \u001b[32m━━━━━━━━━━━━━━━━━━━━\u001b[0m\u001b[37m\u001b[0m \u001b[1m0s\u001b[0m 173ms/step - accuracy: 0.9951 - loss: 0.0158\n",
      "Epoch 83: val_accuracy did not improve from 0.98475\n",
      "\u001b[1m304/304\u001b[0m \u001b[32m━━━━━━━━━━━━━━━━━━━━\u001b[0m\u001b[37m\u001b[0m \u001b[1m56s\u001b[0m 185ms/step - accuracy: 0.9951 - loss: 0.0158 - val_accuracy: 0.9802 - val_loss: 0.0645\n",
      "Epoch 84/200\n",
      "\u001b[1m304/304\u001b[0m \u001b[32m━━━━━━━━━━━━━━━━━━━━\u001b[0m\u001b[37m\u001b[0m \u001b[1m0s\u001b[0m 160ms/step - accuracy: 0.9986 - loss: 0.0067\n",
      "Epoch 84: val_accuracy did not improve from 0.98475\n",
      "\u001b[1m304/304\u001b[0m \u001b[32m━━━━━━━━━━━━━━━━━━━━\u001b[0m\u001b[37m\u001b[0m \u001b[1m52s\u001b[0m 171ms/step - accuracy: 0.9986 - loss: 0.0068 - val_accuracy: 0.9810 - val_loss: 0.0688\n",
      "Epoch 85/200\n",
      "\u001b[1m304/304\u001b[0m \u001b[32m━━━━━━━━━━━━━━━━━━━━\u001b[0m\u001b[37m\u001b[0m \u001b[1m0s\u001b[0m 159ms/step - accuracy: 0.9944 - loss: 0.0239\n",
      "Epoch 85: val_accuracy did not improve from 0.98475\n",
      "\u001b[1m304/304\u001b[0m \u001b[32m━━━━━━━━━━━━━━━━━━━━\u001b[0m\u001b[37m\u001b[0m \u001b[1m52s\u001b[0m 171ms/step - accuracy: 0.9944 - loss: 0.0239 - val_accuracy: 0.9790 - val_loss: 0.0719\n",
      "Epoch 86/200\n",
      "\u001b[1m304/304\u001b[0m \u001b[32m━━━━━━━━━━━━━━━━━━━━\u001b[0m\u001b[37m\u001b[0m \u001b[1m0s\u001b[0m 158ms/step - accuracy: 0.9955 - loss: 0.0171\n",
      "Epoch 86: val_accuracy did not improve from 0.98475\n",
      "\u001b[1m304/304\u001b[0m \u001b[32m━━━━━━━━━━━━━━━━━━━━\u001b[0m\u001b[37m\u001b[0m \u001b[1m52s\u001b[0m 169ms/step - accuracy: 0.9955 - loss: 0.0171 - val_accuracy: 0.9823 - val_loss: 0.0702\n",
      "Epoch 87/200\n",
      "\u001b[1m304/304\u001b[0m \u001b[32m━━━━━━━━━━━━━━━━━━━━\u001b[0m\u001b[37m\u001b[0m \u001b[1m0s\u001b[0m 158ms/step - accuracy: 0.9976 - loss: 0.0164\n",
      "Epoch 87: val_accuracy improved from 0.98475 to 0.98640, saving model to CNN2D_results/Scalogram_Spectrogram/best_model_3.h5\n"
     ]
    },
    {
     "name": "stderr",
     "output_type": "stream",
     "text": [
      "WARNING:absl:You are saving your model as an HDF5 file via `model.save()` or `keras.saving.save_model(model)`. This file format is considered legacy. We recommend using instead the native Keras format, e.g. `model.save('my_model.keras')` or `keras.saving.save_model(model, 'my_model.keras')`. \n"
     ]
    },
    {
     "name": "stdout",
     "output_type": "stream",
     "text": [
      "\u001b[1m304/304\u001b[0m \u001b[32m━━━━━━━━━━━━━━━━━━━━\u001b[0m\u001b[37m\u001b[0m \u001b[1m52s\u001b[0m 171ms/step - accuracy: 0.9976 - loss: 0.0163 - val_accuracy: 0.9864 - val_loss: 0.0719\n",
      "Epoch 88/200\n",
      "\u001b[1m304/304\u001b[0m \u001b[32m━━━━━━━━━━━━━━━━━━━━\u001b[0m\u001b[37m\u001b[0m \u001b[1m0s\u001b[0m 156ms/step - accuracy: 0.9981 - loss: 0.0067\n",
      "Epoch 88: val_accuracy did not improve from 0.98640\n",
      "\u001b[1m304/304\u001b[0m \u001b[32m━━━━━━━━━━━━━━━━━━━━\u001b[0m\u001b[37m\u001b[0m \u001b[1m51s\u001b[0m 168ms/step - accuracy: 0.9981 - loss: 0.0067 - val_accuracy: 0.9852 - val_loss: 0.0592\n",
      "Epoch 89/200\n",
      "\u001b[1m304/304\u001b[0m \u001b[32m━━━━━━━━━━━━━━━━━━━━\u001b[0m\u001b[37m\u001b[0m \u001b[1m0s\u001b[0m 159ms/step - accuracy: 0.9989 - loss: 0.0032\n",
      "Epoch 89: val_accuracy did not improve from 0.98640\n",
      "\u001b[1m304/304\u001b[0m \u001b[32m━━━━━━━━━━━━━━━━━━━━\u001b[0m\u001b[37m\u001b[0m \u001b[1m52s\u001b[0m 172ms/step - accuracy: 0.9988 - loss: 0.0032 - val_accuracy: 0.9839 - val_loss: 0.0644\n",
      "Epoch 90/200\n",
      "\u001b[1m304/304\u001b[0m \u001b[32m━━━━━━━━━━━━━━━━━━━━\u001b[0m\u001b[37m\u001b[0m \u001b[1m0s\u001b[0m 160ms/step - accuracy: 0.9994 - loss: 0.0024\n",
      "Epoch 90: val_accuracy did not improve from 0.98640\n",
      "\u001b[1m304/304\u001b[0m \u001b[32m━━━━━━━━━━━━━━━━━━━━\u001b[0m\u001b[37m\u001b[0m \u001b[1m52s\u001b[0m 172ms/step - accuracy: 0.9994 - loss: 0.0024 - val_accuracy: 0.9794 - val_loss: 0.0681\n",
      "Epoch 91/200\n",
      "\u001b[1m304/304\u001b[0m \u001b[32m━━━━━━━━━━━━━━━━━━━━\u001b[0m\u001b[37m\u001b[0m \u001b[1m0s\u001b[0m 155ms/step - accuracy: 0.9974 - loss: 0.0075\n",
      "Epoch 91: val_accuracy did not improve from 0.98640\n",
      "\u001b[1m304/304\u001b[0m \u001b[32m━━━━━━━━━━━━━━━━━━━━\u001b[0m\u001b[37m\u001b[0m \u001b[1m51s\u001b[0m 166ms/step - accuracy: 0.9974 - loss: 0.0075 - val_accuracy: 0.9848 - val_loss: 0.0751\n",
      "Epoch 92/200\n",
      "\u001b[1m304/304\u001b[0m \u001b[32m━━━━━━━━━━━━━━━━━━━━\u001b[0m\u001b[37m\u001b[0m \u001b[1m0s\u001b[0m 159ms/step - accuracy: 0.9940 - loss: 0.0249\n",
      "Epoch 92: val_accuracy did not improve from 0.98640\n",
      "\u001b[1m304/304\u001b[0m \u001b[32m━━━━━━━━━━━━━━━━━━━━\u001b[0m\u001b[37m\u001b[0m \u001b[1m52s\u001b[0m 171ms/step - accuracy: 0.9940 - loss: 0.0249 - val_accuracy: 0.9810 - val_loss: 0.0519\n",
      "Epoch 93/200\n",
      "\u001b[1m304/304\u001b[0m \u001b[32m━━━━━━━━━━━━━━━━━━━━\u001b[0m\u001b[37m\u001b[0m \u001b[1m0s\u001b[0m 155ms/step - accuracy: 0.9913 - loss: 0.0321\n",
      "Epoch 93: val_accuracy did not improve from 0.98640\n",
      "\u001b[1m304/304\u001b[0m \u001b[32m━━━━━━━━━━━━━━━━━━━━\u001b[0m\u001b[37m\u001b[0m \u001b[1m51s\u001b[0m 166ms/step - accuracy: 0.9913 - loss: 0.0321 - val_accuracy: 0.9716 - val_loss: 0.1250\n",
      "Epoch 94/200\n",
      "\u001b[1m304/304\u001b[0m \u001b[32m━━━━━━━━━━━━━━━━━━━━\u001b[0m\u001b[37m\u001b[0m \u001b[1m0s\u001b[0m 158ms/step - accuracy: 0.9923 - loss: 0.0254\n",
      "Epoch 94: val_accuracy did not improve from 0.98640\n",
      "\u001b[1m304/304\u001b[0m \u001b[32m━━━━━━━━━━━━━━━━━━━━\u001b[0m\u001b[37m\u001b[0m \u001b[1m52s\u001b[0m 170ms/step - accuracy: 0.9923 - loss: 0.0253 - val_accuracy: 0.9810 - val_loss: 0.0559\n",
      "Epoch 95/200\n",
      "\u001b[1m304/304\u001b[0m \u001b[32m━━━━━━━━━━━━━━━━━━━━\u001b[0m\u001b[37m\u001b[0m \u001b[1m0s\u001b[0m 153ms/step - accuracy: 0.9962 - loss: 0.0264\n",
      "Epoch 95: val_accuracy did not improve from 0.98640\n",
      "\u001b[1m304/304\u001b[0m \u001b[32m━━━━━━━━━━━━━━━━━━━━\u001b[0m\u001b[37m\u001b[0m \u001b[1m50s\u001b[0m 165ms/step - accuracy: 0.9962 - loss: 0.0264 - val_accuracy: 0.9823 - val_loss: 0.0577\n",
      "Epoch 96/200\n",
      "\u001b[1m304/304\u001b[0m \u001b[32m━━━━━━━━━━━━━━━━━━━━\u001b[0m\u001b[37m\u001b[0m \u001b[1m0s\u001b[0m 158ms/step - accuracy: 0.9952 - loss: 0.0144\n",
      "Epoch 96: val_accuracy did not improve from 0.98640\n",
      "\u001b[1m304/304\u001b[0m \u001b[32m━━━━━━━━━━━━━━━━━━━━\u001b[0m\u001b[37m\u001b[0m \u001b[1m52s\u001b[0m 171ms/step - accuracy: 0.9952 - loss: 0.0144 - val_accuracy: 0.9852 - val_loss: 0.0604\n",
      "Epoch 97/200\n",
      "\u001b[1m304/304\u001b[0m \u001b[32m━━━━━━━━━━━━━━━━━━━━\u001b[0m\u001b[37m\u001b[0m \u001b[1m0s\u001b[0m 154ms/step - accuracy: 0.9981 - loss: 0.0061\n",
      "Epoch 97: val_accuracy did not improve from 0.98640\n",
      "\u001b[1m304/304\u001b[0m \u001b[32m━━━━━━━━━━━━━━━━━━━━\u001b[0m\u001b[37m\u001b[0m \u001b[1m50s\u001b[0m 166ms/step - accuracy: 0.9981 - loss: 0.0061 - val_accuracy: 0.9856 - val_loss: 0.0628\n",
      "Epoch 98/200\n",
      "\u001b[1m304/304\u001b[0m \u001b[32m━━━━━━━━━━━━━━━━━━━━\u001b[0m\u001b[37m\u001b[0m \u001b[1m0s\u001b[0m 156ms/step - accuracy: 0.9981 - loss: 0.0076\n",
      "Epoch 98: val_accuracy did not improve from 0.98640\n",
      "\u001b[1m304/304\u001b[0m \u001b[32m━━━━━━━━━━━━━━━━━━━━\u001b[0m\u001b[37m\u001b[0m \u001b[1m51s\u001b[0m 167ms/step - accuracy: 0.9981 - loss: 0.0076 - val_accuracy: 0.9819 - val_loss: 0.0596\n",
      "Epoch 99/200\n",
      "\u001b[1m304/304\u001b[0m \u001b[32m━━━━━━━━━━━━━━━━━━━━\u001b[0m\u001b[37m\u001b[0m \u001b[1m0s\u001b[0m 155ms/step - accuracy: 0.9990 - loss: 0.0040\n",
      "Epoch 99: val_accuracy did not improve from 0.98640\n",
      "\u001b[1m304/304\u001b[0m \u001b[32m━━━━━━━━━━━━━━━━━━━━\u001b[0m\u001b[37m\u001b[0m \u001b[1m51s\u001b[0m 166ms/step - accuracy: 0.9990 - loss: 0.0040 - val_accuracy: 0.9839 - val_loss: 0.0774\n",
      "Epoch 100/200\n",
      "\u001b[1m304/304\u001b[0m \u001b[32m━━━━━━━━━━━━━━━━━━━━\u001b[0m\u001b[37m\u001b[0m \u001b[1m0s\u001b[0m 154ms/step - accuracy: 0.9947 - loss: 0.0190\n",
      "Epoch 100: val_accuracy did not improve from 0.98640\n",
      "\u001b[1m304/304\u001b[0m \u001b[32m━━━━━━━━━━━━━━━━━━━━\u001b[0m\u001b[37m\u001b[0m \u001b[1m50s\u001b[0m 166ms/step - accuracy: 0.9947 - loss: 0.0190 - val_accuracy: 0.9835 - val_loss: 0.0674\n",
      "Epoch 101/200\n",
      "\u001b[1m304/304\u001b[0m \u001b[32m━━━━━━━━━━━━━━━━━━━━\u001b[0m\u001b[37m\u001b[0m \u001b[1m0s\u001b[0m 177ms/step - accuracy: 0.9929 - loss: 0.0298\n",
      "Epoch 101: val_accuracy did not improve from 0.98640\n",
      "\u001b[1m304/304\u001b[0m \u001b[32m━━━━━━━━━━━━━━━━━━━━\u001b[0m\u001b[37m\u001b[0m \u001b[1m57s\u001b[0m 189ms/step - accuracy: 0.9929 - loss: 0.0298 - val_accuracy: 0.9810 - val_loss: 0.0746\n",
      "Epoch 102/200\n",
      "\u001b[1m304/304\u001b[0m \u001b[32m━━━━━━━━━━━━━━━━━━━━\u001b[0m\u001b[37m\u001b[0m \u001b[1m0s\u001b[0m 153ms/step - accuracy: 0.9986 - loss: 0.0063\n",
      "Epoch 102: val_accuracy did not improve from 0.98640\n",
      "\u001b[1m304/304\u001b[0m \u001b[32m━━━━━━━━━━━━━━━━━━━━\u001b[0m\u001b[37m\u001b[0m \u001b[1m50s\u001b[0m 164ms/step - accuracy: 0.9986 - loss: 0.0063 - val_accuracy: 0.9843 - val_loss: 0.0486\n",
      "Epoch 103/200\n",
      "\u001b[1m304/304\u001b[0m \u001b[32m━━━━━━━━━━━━━━━━━━━━\u001b[0m\u001b[37m\u001b[0m \u001b[1m0s\u001b[0m 152ms/step - accuracy: 0.9949 - loss: 0.0212\n",
      "Epoch 103: val_accuracy did not improve from 0.98640\n",
      "\u001b[1m304/304\u001b[0m \u001b[32m━━━━━━━━━━━━━━━━━━━━\u001b[0m\u001b[37m\u001b[0m \u001b[1m50s\u001b[0m 164ms/step - accuracy: 0.9949 - loss: 0.0211 - val_accuracy: 0.9856 - val_loss: 0.0561\n",
      "Epoch 104/200\n",
      "\u001b[1m304/304\u001b[0m \u001b[32m━━━━━━━━━━━━━━━━━━━━\u001b[0m\u001b[37m\u001b[0m \u001b[1m0s\u001b[0m 156ms/step - accuracy: 0.9985 - loss: 0.0077\n",
      "Epoch 104: val_accuracy improved from 0.98640 to 0.98681, saving model to CNN2D_results/Scalogram_Spectrogram/best_model_3.h5\n"
     ]
    },
    {
     "name": "stderr",
     "output_type": "stream",
     "text": [
      "WARNING:absl:You are saving your model as an HDF5 file via `model.save()` or `keras.saving.save_model(model)`. This file format is considered legacy. We recommend using instead the native Keras format, e.g. `model.save('my_model.keras')` or `keras.saving.save_model(model, 'my_model.keras')`. \n"
     ]
    },
    {
     "name": "stdout",
     "output_type": "stream",
     "text": [
      "\u001b[1m304/304\u001b[0m \u001b[32m━━━━━━━━━━━━━━━━━━━━\u001b[0m\u001b[37m\u001b[0m \u001b[1m52s\u001b[0m 171ms/step - accuracy: 0.9985 - loss: 0.0077 - val_accuracy: 0.9868 - val_loss: 0.0629\n",
      "Epoch 105/200\n",
      "\u001b[1m304/304\u001b[0m \u001b[32m━━━━━━━━━━━━━━━━━━━━\u001b[0m\u001b[37m\u001b[0m \u001b[1m0s\u001b[0m 161ms/step - accuracy: 0.9997 - loss: 0.0010\n",
      "Epoch 105: val_accuracy improved from 0.98681 to 0.98764, saving model to CNN2D_results/Scalogram_Spectrogram/best_model_3.h5\n"
     ]
    },
    {
     "name": "stderr",
     "output_type": "stream",
     "text": [
      "WARNING:absl:You are saving your model as an HDF5 file via `model.save()` or `keras.saving.save_model(model)`. This file format is considered legacy. We recommend using instead the native Keras format, e.g. `model.save('my_model.keras')` or `keras.saving.save_model(model, 'my_model.keras')`. \n"
     ]
    },
    {
     "name": "stdout",
     "output_type": "stream",
     "text": [
      "\u001b[1m304/304\u001b[0m \u001b[32m━━━━━━━━━━━━━━━━━━━━\u001b[0m\u001b[37m\u001b[0m \u001b[1m53s\u001b[0m 173ms/step - accuracy: 0.9997 - loss: 0.0010 - val_accuracy: 0.9876 - val_loss: 0.0718\n",
      "Epoch 106/200\n",
      "\u001b[1m304/304\u001b[0m \u001b[32m━━━━━━━━━━━━━━━━━━━━\u001b[0m\u001b[37m\u001b[0m \u001b[1m0s\u001b[0m 165ms/step - accuracy: 0.9972 - loss: 0.0106\n",
      "Epoch 106: val_accuracy did not improve from 0.98764\n",
      "\u001b[1m304/304\u001b[0m \u001b[32m━━━━━━━━━━━━━━━━━━━━\u001b[0m\u001b[37m\u001b[0m \u001b[1m54s\u001b[0m 178ms/step - accuracy: 0.9972 - loss: 0.0107 - val_accuracy: 0.9852 - val_loss: 0.0605\n",
      "Epoch 107/200\n",
      "\u001b[1m304/304\u001b[0m \u001b[32m━━━━━━━━━━━━━━━━━━━━\u001b[0m\u001b[37m\u001b[0m \u001b[1m0s\u001b[0m 172ms/step - accuracy: 0.9896 - loss: 0.0431\n",
      "Epoch 107: val_accuracy did not improve from 0.98764\n",
      "\u001b[1m304/304\u001b[0m \u001b[32m━━━━━━━━━━━━━━━━━━━━\u001b[0m\u001b[37m\u001b[0m \u001b[1m56s\u001b[0m 186ms/step - accuracy: 0.9896 - loss: 0.0432 - val_accuracy: 0.9794 - val_loss: 0.0705\n",
      "Epoch 108/200\n",
      "\u001b[1m304/304\u001b[0m \u001b[32m━━━━━━━━━━━━━━━━━━━━\u001b[0m\u001b[37m\u001b[0m \u001b[1m0s\u001b[0m 166ms/step - accuracy: 0.9939 - loss: 0.0217\n",
      "Epoch 108: val_accuracy did not improve from 0.98764\n",
      "\u001b[1m304/304\u001b[0m \u001b[32m━━━━━━━━━━━━━━━━━━━━\u001b[0m\u001b[37m\u001b[0m \u001b[1m54s\u001b[0m 177ms/step - accuracy: 0.9939 - loss: 0.0217 - val_accuracy: 0.9835 - val_loss: 0.0527\n",
      "Epoch 109/200\n",
      "\u001b[1m304/304\u001b[0m \u001b[32m━━━━━━━━━━━━━━━━━━━━\u001b[0m\u001b[37m\u001b[0m \u001b[1m0s\u001b[0m 167ms/step - accuracy: 0.9960 - loss: 0.0128\n",
      "Epoch 109: val_accuracy improved from 0.98764 to 0.98846, saving model to CNN2D_results/Scalogram_Spectrogram/best_model_3.h5\n"
     ]
    },
    {
     "name": "stderr",
     "output_type": "stream",
     "text": [
      "WARNING:absl:You are saving your model as an HDF5 file via `model.save()` or `keras.saving.save_model(model)`. This file format is considered legacy. We recommend using instead the native Keras format, e.g. `model.save('my_model.keras')` or `keras.saving.save_model(model, 'my_model.keras')`. \n"
     ]
    },
    {
     "name": "stdout",
     "output_type": "stream",
     "text": [
      "\u001b[1m304/304\u001b[0m \u001b[32m━━━━━━━━━━━━━━━━━━━━\u001b[0m\u001b[37m\u001b[0m \u001b[1m54s\u001b[0m 178ms/step - accuracy: 0.9960 - loss: 0.0128 - val_accuracy: 0.9885 - val_loss: 0.0412\n",
      "Epoch 110/200\n",
      "\u001b[1m304/304\u001b[0m \u001b[32m━━━━━━━━━━━━━━━━━━━━\u001b[0m\u001b[37m\u001b[0m \u001b[1m0s\u001b[0m 167ms/step - accuracy: 0.9994 - loss: 0.0021\n",
      "Epoch 110: val_accuracy did not improve from 0.98846\n",
      "\u001b[1m304/304\u001b[0m \u001b[32m━━━━━━━━━━━━━━━━━━━━\u001b[0m\u001b[37m\u001b[0m \u001b[1m54s\u001b[0m 178ms/step - accuracy: 0.9994 - loss: 0.0021 - val_accuracy: 0.9872 - val_loss: 0.0690\n",
      "Epoch 111/200\n",
      "\u001b[1m304/304\u001b[0m \u001b[32m━━━━━━━━━━━━━━━━━━━━\u001b[0m\u001b[37m\u001b[0m \u001b[1m0s\u001b[0m 157ms/step - accuracy: 0.9997 - loss: 0.0016\n",
      "Epoch 111: val_accuracy did not improve from 0.98846\n",
      "\u001b[1m304/304\u001b[0m \u001b[32m━━━━━━━━━━━━━━━━━━━━\u001b[0m\u001b[37m\u001b[0m \u001b[1m51s\u001b[0m 169ms/step - accuracy: 0.9997 - loss: 0.0016 - val_accuracy: 0.9815 - val_loss: 0.0996\n",
      "Epoch 112/200\n",
      "\u001b[1m304/304\u001b[0m \u001b[32m━━━━━━━━━━━━━━━━━━━━\u001b[0m\u001b[37m\u001b[0m \u001b[1m0s\u001b[0m 170ms/step - accuracy: 0.9959 - loss: 0.0133\n",
      "Epoch 112: val_accuracy did not improve from 0.98846\n",
      "\u001b[1m304/304\u001b[0m \u001b[32m━━━━━━━━━━━━━━━━━━━━\u001b[0m\u001b[37m\u001b[0m \u001b[1m56s\u001b[0m 185ms/step - accuracy: 0.9959 - loss: 0.0134 - val_accuracy: 0.9839 - val_loss: 0.0601\n",
      "Epoch 113/200\n",
      "\u001b[1m304/304\u001b[0m \u001b[32m━━━━━━━━━━━━━━━━━━━━\u001b[0m\u001b[37m\u001b[0m \u001b[1m0s\u001b[0m 183ms/step - accuracy: 0.9940 - loss: 0.0335\n",
      "Epoch 113: val_accuracy did not improve from 0.98846\n",
      "\u001b[1m304/304\u001b[0m \u001b[32m━━━━━━━━━━━━━━━━━━━━\u001b[0m\u001b[37m\u001b[0m \u001b[1m60s\u001b[0m 198ms/step - accuracy: 0.9940 - loss: 0.0335 - val_accuracy: 0.9848 - val_loss: 0.0623\n",
      "Epoch 114/200\n",
      "\u001b[1m304/304\u001b[0m \u001b[32m━━━━━━━━━━━━━━━━━━━━\u001b[0m\u001b[37m\u001b[0m \u001b[1m0s\u001b[0m 178ms/step - accuracy: 0.9974 - loss: 0.0090\n",
      "Epoch 114: val_accuracy did not improve from 0.98846\n",
      "\u001b[1m304/304\u001b[0m \u001b[32m━━━━━━━━━━━━━━━━━━━━\u001b[0m\u001b[37m\u001b[0m \u001b[1m58s\u001b[0m 190ms/step - accuracy: 0.9974 - loss: 0.0090 - val_accuracy: 0.9856 - val_loss: 0.0575\n",
      "Epoch 115/200\n",
      "\u001b[1m304/304\u001b[0m \u001b[32m━━━━━━━━━━━━━━━━━━━━\u001b[0m\u001b[37m\u001b[0m \u001b[1m0s\u001b[0m 157ms/step - accuracy: 0.9984 - loss: 0.0225\n",
      "Epoch 115: val_accuracy did not improve from 0.98846\n",
      "\u001b[1m304/304\u001b[0m \u001b[32m━━━━━━━━━━━━━━━━━━━━\u001b[0m\u001b[37m\u001b[0m \u001b[1m52s\u001b[0m 172ms/step - accuracy: 0.9984 - loss: 0.0224 - val_accuracy: 0.9872 - val_loss: 0.0570\n",
      "Epoch 116/200\n",
      "\u001b[1m304/304\u001b[0m \u001b[32m━━━━━━━━━━━━━━━━━━━━\u001b[0m\u001b[37m\u001b[0m \u001b[1m0s\u001b[0m 165ms/step - accuracy: 1.0000 - loss: 4.0835e-04\n",
      "Epoch 116: val_accuracy did not improve from 0.98846\n",
      "\u001b[1m304/304\u001b[0m \u001b[32m━━━━━━━━━━━━━━━━━━━━\u001b[0m\u001b[37m\u001b[0m \u001b[1m54s\u001b[0m 177ms/step - accuracy: 1.0000 - loss: 4.0856e-04 - val_accuracy: 0.9876 - val_loss: 0.0680\n",
      "Epoch 117/200\n",
      "\u001b[1m304/304\u001b[0m \u001b[32m━━━━━━━━━━━━━━━━━━━━\u001b[0m\u001b[37m\u001b[0m \u001b[1m0s\u001b[0m 177ms/step - accuracy: 0.9991 - loss: 0.0043\n",
      "Epoch 117: val_accuracy did not improve from 0.98846\n",
      "\u001b[1m304/304\u001b[0m \u001b[32m━━━━━━━━━━━━━━━━━━━━\u001b[0m\u001b[37m\u001b[0m \u001b[1m58s\u001b[0m 190ms/step - accuracy: 0.9991 - loss: 0.0044 - val_accuracy: 0.9782 - val_loss: 0.0989\n",
      "Epoch 118/200\n",
      "\u001b[1m304/304\u001b[0m \u001b[32m━━━━━━━━━━━━━━━━━━━━\u001b[0m\u001b[37m\u001b[0m \u001b[1m0s\u001b[0m 167ms/step - accuracy: 0.9959 - loss: 0.0168\n",
      "Epoch 118: val_accuracy did not improve from 0.98846\n",
      "\u001b[1m304/304\u001b[0m \u001b[32m━━━━━━━━━━━━━━━━━━━━\u001b[0m\u001b[37m\u001b[0m \u001b[1m55s\u001b[0m 180ms/step - accuracy: 0.9959 - loss: 0.0168 - val_accuracy: 0.9839 - val_loss: 0.0659\n",
      "Epoch 119/200\n",
      "\u001b[1m304/304\u001b[0m \u001b[32m━━━━━━━━━━━━━━━━━━━━\u001b[0m\u001b[37m\u001b[0m \u001b[1m0s\u001b[0m 166ms/step - accuracy: 0.9999 - loss: 0.0011\n",
      "Epoch 119: val_accuracy did not improve from 0.98846\n",
      "\u001b[1m304/304\u001b[0m \u001b[32m━━━━━━━━━━━━━━━━━━━━\u001b[0m\u001b[37m\u001b[0m \u001b[1m55s\u001b[0m 181ms/step - accuracy: 0.9999 - loss: 0.0011 - val_accuracy: 0.9806 - val_loss: 0.0762\n",
      "Epoch 120/200\n",
      "\u001b[1m304/304\u001b[0m \u001b[32m━━━━━━━━━━━━━━━━━━━━\u001b[0m\u001b[37m\u001b[0m \u001b[1m0s\u001b[0m 160ms/step - accuracy: 0.9975 - loss: 0.0093\n",
      "Epoch 120: val_accuracy did not improve from 0.98846\n",
      "\u001b[1m304/304\u001b[0m \u001b[32m━━━━━━━━━━━━━━━━━━━━\u001b[0m\u001b[37m\u001b[0m \u001b[1m52s\u001b[0m 172ms/step - accuracy: 0.9975 - loss: 0.0093 - val_accuracy: 0.9848 - val_loss: 0.0671\n",
      "Epoch 121/200\n",
      "\u001b[1m304/304\u001b[0m \u001b[32m━━━━━━━━━━━━━━━━━━━━\u001b[0m\u001b[37m\u001b[0m \u001b[1m0s\u001b[0m 157ms/step - accuracy: 0.9972 - loss: 0.0119\n",
      "Epoch 121: val_accuracy did not improve from 0.98846\n",
      "\u001b[1m304/304\u001b[0m \u001b[32m━━━━━━━━━━━━━━━━━━━━\u001b[0m\u001b[37m\u001b[0m \u001b[1m51s\u001b[0m 168ms/step - accuracy: 0.9972 - loss: 0.0119 - val_accuracy: 0.9778 - val_loss: 0.0655\n",
      "Epoch 122/200\n",
      "\u001b[1m304/304\u001b[0m \u001b[32m━━━━━━━━━━━━━━━━━━━━\u001b[0m\u001b[37m\u001b[0m \u001b[1m0s\u001b[0m 153ms/step - accuracy: 0.9940 - loss: 0.0230\n",
      "Epoch 122: val_accuracy did not improve from 0.98846\n",
      "\u001b[1m304/304\u001b[0m \u001b[32m━━━━━━━━━━━━━━━━━━━━\u001b[0m\u001b[37m\u001b[0m \u001b[1m50s\u001b[0m 165ms/step - accuracy: 0.9940 - loss: 0.0230 - val_accuracy: 0.9827 - val_loss: 0.0508\n",
      "Epoch 123/200\n",
      "\u001b[1m304/304\u001b[0m \u001b[32m━━━━━━━━━━━━━━━━━━━━\u001b[0m\u001b[37m\u001b[0m \u001b[1m0s\u001b[0m 155ms/step - accuracy: 0.9968 - loss: 0.0075\n",
      "Epoch 123: val_accuracy did not improve from 0.98846\n",
      "\u001b[1m304/304\u001b[0m \u001b[32m━━━━━━━━━━━━━━━━━━━━\u001b[0m\u001b[37m\u001b[0m \u001b[1m51s\u001b[0m 167ms/step - accuracy: 0.9968 - loss: 0.0075 - val_accuracy: 0.9827 - val_loss: 0.0658\n",
      "Epoch 124/200\n",
      "\u001b[1m304/304\u001b[0m \u001b[32m━━━━━━━━━━━━━━━━━━━━\u001b[0m\u001b[37m\u001b[0m \u001b[1m0s\u001b[0m 151ms/step - accuracy: 0.9858 - loss: 0.0621\n",
      "Epoch 124: val_accuracy did not improve from 0.98846\n",
      "\u001b[1m304/304\u001b[0m \u001b[32m━━━━━━━━━━━━━━━━━━━━\u001b[0m\u001b[37m\u001b[0m \u001b[1m49s\u001b[0m 162ms/step - accuracy: 0.9858 - loss: 0.0620 - val_accuracy: 0.9843 - val_loss: 0.0567\n",
      "Epoch 125/200\n",
      "\u001b[1m304/304\u001b[0m \u001b[32m━━━━━━━━━━━━━━━━━━━━\u001b[0m\u001b[37m\u001b[0m \u001b[1m0s\u001b[0m 152ms/step - accuracy: 0.9991 - loss: 0.0033\n",
      "Epoch 125: val_accuracy did not improve from 0.98846\n",
      "\u001b[1m304/304\u001b[0m \u001b[32m━━━━━━━━━━━━━━━━━━━━\u001b[0m\u001b[37m\u001b[0m \u001b[1m49s\u001b[0m 163ms/step - accuracy: 0.9991 - loss: 0.0033 - val_accuracy: 0.9848 - val_loss: 0.0657\n",
      "Epoch 126/200\n",
      "\u001b[1m304/304\u001b[0m \u001b[32m━━━━━━━━━━━━━━━━━━━━\u001b[0m\u001b[37m\u001b[0m \u001b[1m0s\u001b[0m 152ms/step - accuracy: 0.9991 - loss: 0.0093\n",
      "Epoch 126: val_accuracy did not improve from 0.98846\n",
      "\u001b[1m304/304\u001b[0m \u001b[32m━━━━━━━━━━━━━━━━━━━━\u001b[0m\u001b[37m\u001b[0m \u001b[1m50s\u001b[0m 163ms/step - accuracy: 0.9991 - loss: 0.0093 - val_accuracy: 0.9827 - val_loss: 0.0832\n",
      "Epoch 127/200\n",
      "\u001b[1m304/304\u001b[0m \u001b[32m━━━━━━━━━━━━━━━━━━━━\u001b[0m\u001b[37m\u001b[0m \u001b[1m0s\u001b[0m 153ms/step - accuracy: 0.9993 - loss: 0.0022\n",
      "Epoch 127: val_accuracy did not improve from 0.98846\n",
      "\u001b[1m304/304\u001b[0m \u001b[32m━━━━━━━━━━━━━━━━━━━━\u001b[0m\u001b[37m\u001b[0m \u001b[1m50s\u001b[0m 164ms/step - accuracy: 0.9993 - loss: 0.0022 - val_accuracy: 0.9806 - val_loss: 0.0611\n",
      "Epoch 128/200\n",
      "\u001b[1m304/304\u001b[0m \u001b[32m━━━━━━━━━━━━━━━━━━━━\u001b[0m\u001b[37m\u001b[0m \u001b[1m0s\u001b[0m 155ms/step - accuracy: 0.9985 - loss: 0.0098\n",
      "Epoch 128: val_accuracy did not improve from 0.98846\n",
      "\u001b[1m304/304\u001b[0m \u001b[32m━━━━━━━━━━━━━━━━━━━━\u001b[0m\u001b[37m\u001b[0m \u001b[1m50s\u001b[0m 166ms/step - accuracy: 0.9985 - loss: 0.0098 - val_accuracy: 0.9654 - val_loss: 0.1432\n",
      "Epoch 129/200\n",
      "\u001b[1m304/304\u001b[0m \u001b[32m━━━━━━━━━━━━━━━━━━━━\u001b[0m\u001b[37m\u001b[0m \u001b[1m0s\u001b[0m 155ms/step - accuracy: 0.9940 - loss: 0.0265\n",
      "Epoch 129: val_accuracy did not improve from 0.98846\n",
      "\u001b[1m304/304\u001b[0m \u001b[32m━━━━━━━━━━━━━━━━━━━━\u001b[0m\u001b[37m\u001b[0m \u001b[1m51s\u001b[0m 166ms/step - accuracy: 0.9940 - loss: 0.0265 - val_accuracy: 0.9852 - val_loss: 0.0481\n",
      "Epoch 130/200\n",
      "\u001b[1m304/304\u001b[0m \u001b[32m━━━━━━━━━━━━━━━━━━━━\u001b[0m\u001b[37m\u001b[0m \u001b[1m0s\u001b[0m 180ms/step - accuracy: 0.9989 - loss: 0.0079\n",
      "Epoch 130: val_accuracy did not improve from 0.98846\n",
      "\u001b[1m304/304\u001b[0m \u001b[32m━━━━━━━━━━━━━━━━━━━━\u001b[0m\u001b[37m\u001b[0m \u001b[1m59s\u001b[0m 194ms/step - accuracy: 0.9989 - loss: 0.0080 - val_accuracy: 0.9468 - val_loss: 0.1757\n",
      "Epoch 131/200\n",
      "\u001b[1m304/304\u001b[0m \u001b[32m━━━━━━━━━━━━━━━━━━━━\u001b[0m\u001b[37m\u001b[0m \u001b[1m0s\u001b[0m 162ms/step - accuracy: 0.9857 - loss: 0.0670\n",
      "Epoch 131: val_accuracy did not improve from 0.98846\n",
      "\u001b[1m304/304\u001b[0m \u001b[32m━━━━━━━━━━━━━━━━━━━━\u001b[0m\u001b[37m\u001b[0m \u001b[1m53s\u001b[0m 174ms/step - accuracy: 0.9857 - loss: 0.0669 - val_accuracy: 0.9823 - val_loss: 0.0693\n",
      "Epoch 132/200\n",
      "\u001b[1m304/304\u001b[0m \u001b[32m━━━━━━━━━━━━━━━━━━━━\u001b[0m\u001b[37m\u001b[0m \u001b[1m0s\u001b[0m 180ms/step - accuracy: 0.9954 - loss: 0.0200\n",
      "Epoch 132: val_accuracy did not improve from 0.98846\n",
      "\u001b[1m304/304\u001b[0m \u001b[32m━━━━━━━━━━━━━━━━━━━━\u001b[0m\u001b[37m\u001b[0m \u001b[1m58s\u001b[0m 192ms/step - accuracy: 0.9954 - loss: 0.0200 - val_accuracy: 0.9810 - val_loss: 0.0680\n",
      "Epoch 133/200\n",
      "\u001b[1m304/304\u001b[0m \u001b[32m━━━━━━━━━━━━━━━━━━━━\u001b[0m\u001b[37m\u001b[0m \u001b[1m0s\u001b[0m 161ms/step - accuracy: 0.9987 - loss: 0.0045\n",
      "Epoch 133: val_accuracy did not improve from 0.98846\n",
      "\u001b[1m304/304\u001b[0m \u001b[32m━━━━━━━━━━━━━━━━━━━━\u001b[0m\u001b[37m\u001b[0m \u001b[1m52s\u001b[0m 172ms/step - accuracy: 0.9987 - loss: 0.0045 - val_accuracy: 0.9839 - val_loss: 0.0592\n",
      "Epoch 134/200\n",
      "\u001b[1m304/304\u001b[0m \u001b[32m━━━━━━━━━━━━━━━━━━━━\u001b[0m\u001b[37m\u001b[0m \u001b[1m0s\u001b[0m 159ms/step - accuracy: 0.9996 - loss: 0.0031\n",
      "Epoch 134: val_accuracy did not improve from 0.98846\n",
      "\u001b[1m304/304\u001b[0m \u001b[32m━━━━━━━━━━━━━━━━━━━━\u001b[0m\u001b[37m\u001b[0m \u001b[1m52s\u001b[0m 171ms/step - accuracy: 0.9996 - loss: 0.0031 - val_accuracy: 0.9852 - val_loss: 0.0599\n",
      "Epoch 135/200\n",
      "\u001b[1m304/304\u001b[0m \u001b[32m━━━━━━━━━━━━━━━━━━━━\u001b[0m\u001b[37m\u001b[0m \u001b[1m0s\u001b[0m 155ms/step - accuracy: 0.9976 - loss: 0.0058\n",
      "Epoch 135: val_accuracy did not improve from 0.98846\n",
      "\u001b[1m304/304\u001b[0m \u001b[32m━━━━━━━━━━━━━━━━━━━━\u001b[0m\u001b[37m\u001b[0m \u001b[1m51s\u001b[0m 167ms/step - accuracy: 0.9976 - loss: 0.0058 - val_accuracy: 0.9810 - val_loss: 0.0685\n",
      "Epoch 136/200\n",
      "\u001b[1m304/304\u001b[0m \u001b[32m━━━━━━━━━━━━━━━━━━━━\u001b[0m\u001b[37m\u001b[0m \u001b[1m0s\u001b[0m 165ms/step - accuracy: 0.9992 - loss: 0.0046\n",
      "Epoch 136: val_accuracy did not improve from 0.98846\n",
      "\u001b[1m304/304\u001b[0m \u001b[32m━━━━━━━━━━━━━━━━━━━━\u001b[0m\u001b[37m\u001b[0m \u001b[1m54s\u001b[0m 176ms/step - accuracy: 0.9992 - loss: 0.0046 - val_accuracy: 0.9835 - val_loss: 0.0694\n",
      "Epoch 137/200\n",
      "\u001b[1m304/304\u001b[0m \u001b[32m━━━━━━━━━━━━━━━━━━━━\u001b[0m\u001b[37m\u001b[0m \u001b[1m0s\u001b[0m 186ms/step - accuracy: 0.9975 - loss: 0.0075\n",
      "Epoch 137: val_accuracy did not improve from 0.98846\n",
      "\u001b[1m304/304\u001b[0m \u001b[32m━━━━━━━━━━━━━━━━━━━━\u001b[0m\u001b[37m\u001b[0m \u001b[1m60s\u001b[0m 198ms/step - accuracy: 0.9975 - loss: 0.0075 - val_accuracy: 0.9856 - val_loss: 0.0702\n",
      "Epoch 138/200\n",
      "\u001b[1m304/304\u001b[0m \u001b[32m━━━━━━━━━━━━━━━━━━━━\u001b[0m\u001b[37m\u001b[0m \u001b[1m0s\u001b[0m 158ms/step - accuracy: 0.9940 - loss: 0.0280\n",
      "Epoch 138: val_accuracy did not improve from 0.98846\n",
      "\u001b[1m304/304\u001b[0m \u001b[32m━━━━━━━━━━━━━━━━━━━━\u001b[0m\u001b[37m\u001b[0m \u001b[1m51s\u001b[0m 169ms/step - accuracy: 0.9940 - loss: 0.0279 - val_accuracy: 0.9860 - val_loss: 0.0448\n",
      "Epoch 139/200\n",
      "\u001b[1m304/304\u001b[0m \u001b[32m━━━━━━━━━━━━━━━━━━━━\u001b[0m\u001b[37m\u001b[0m \u001b[1m0s\u001b[0m 155ms/step - accuracy: 0.9999 - loss: 0.0029\n",
      "Epoch 139: val_accuracy did not improve from 0.98846\n",
      "\u001b[1m304/304\u001b[0m \u001b[32m━━━━━━━━━━━━━━━━━━━━\u001b[0m\u001b[37m\u001b[0m \u001b[1m51s\u001b[0m 167ms/step - accuracy: 0.9999 - loss: 0.0029 - val_accuracy: 0.9872 - val_loss: 0.0525\n",
      "Epoch 140/200\n",
      "\u001b[1m304/304\u001b[0m \u001b[32m━━━━━━━━━━━━━━━━━━━━\u001b[0m\u001b[37m\u001b[0m \u001b[1m0s\u001b[0m 157ms/step - accuracy: 0.9994 - loss: 0.0017\n",
      "Epoch 140: val_accuracy did not improve from 0.98846\n",
      "\u001b[1m304/304\u001b[0m \u001b[32m━━━━━━━━━━━━━━━━━━━━\u001b[0m\u001b[37m\u001b[0m \u001b[1m51s\u001b[0m 168ms/step - accuracy: 0.9994 - loss: 0.0017 - val_accuracy: 0.9885 - val_loss: 0.0581\n",
      "Epoch 141/200\n",
      "\u001b[1m304/304\u001b[0m \u001b[32m━━━━━━━━━━━━━━━━━━━━\u001b[0m\u001b[37m\u001b[0m \u001b[1m0s\u001b[0m 156ms/step - accuracy: 1.0000 - loss: 1.3002e-04\n",
      "Epoch 141: val_accuracy did not improve from 0.98846\n",
      "\u001b[1m304/304\u001b[0m \u001b[32m━━━━━━━━━━━━━━━━━━━━\u001b[0m\u001b[37m\u001b[0m \u001b[1m52s\u001b[0m 170ms/step - accuracy: 1.0000 - loss: 1.3002e-04 - val_accuracy: 0.9864 - val_loss: 0.0833\n",
      "Epoch 142/200\n",
      "\u001b[1m304/304\u001b[0m \u001b[32m━━━━━━━━━━━━━━━━━━━━\u001b[0m\u001b[37m\u001b[0m \u001b[1m0s\u001b[0m 155ms/step - accuracy: 1.0000 - loss: 3.6810e-04\n",
      "Epoch 142: val_accuracy did not improve from 0.98846\n",
      "\u001b[1m304/304\u001b[0m \u001b[32m━━━━━━━━━━━━━━━━━━━━\u001b[0m\u001b[37m\u001b[0m \u001b[1m51s\u001b[0m 166ms/step - accuracy: 1.0000 - loss: 3.7067e-04 - val_accuracy: 0.9848 - val_loss: 0.1100\n",
      "Epoch 143/200\n",
      "\u001b[1m304/304\u001b[0m \u001b[32m━━━━━━━━━━━━━━━━━━━━\u001b[0m\u001b[37m\u001b[0m \u001b[1m0s\u001b[0m 155ms/step - accuracy: 0.9885 - loss: 0.0611\n",
      "Epoch 143: val_accuracy did not improve from 0.98846\n",
      "\u001b[1m304/304\u001b[0m \u001b[32m━━━━━━━━━━━━━━━━━━━━\u001b[0m\u001b[37m\u001b[0m \u001b[1m51s\u001b[0m 166ms/step - accuracy: 0.9885 - loss: 0.0610 - val_accuracy: 0.9852 - val_loss: 0.0408\n",
      "Epoch 144/200\n",
      "\u001b[1m304/304\u001b[0m \u001b[32m━━━━━━━━━━━━━━━━━━━━\u001b[0m\u001b[37m\u001b[0m \u001b[1m0s\u001b[0m 156ms/step - accuracy: 0.9991 - loss: 0.0042\n",
      "Epoch 144: val_accuracy did not improve from 0.98846\n",
      "\u001b[1m304/304\u001b[0m \u001b[32m━━━━━━━━━━━━━━━━━━━━\u001b[0m\u001b[37m\u001b[0m \u001b[1m51s\u001b[0m 168ms/step - accuracy: 0.9991 - loss: 0.0042 - val_accuracy: 0.9852 - val_loss: 0.0691\n",
      "Epoch 145/200\n",
      "\u001b[1m304/304\u001b[0m \u001b[32m━━━━━━━━━━━━━━━━━━━━\u001b[0m\u001b[37m\u001b[0m \u001b[1m0s\u001b[0m 156ms/step - accuracy: 0.9953 - loss: 0.0163\n",
      "Epoch 145: val_accuracy did not improve from 0.98846\n",
      "\u001b[1m304/304\u001b[0m \u001b[32m━━━━━━━━━━━━━━━━━━━━\u001b[0m\u001b[37m\u001b[0m \u001b[1m51s\u001b[0m 169ms/step - accuracy: 0.9953 - loss: 0.0163 - val_accuracy: 0.9728 - val_loss: 0.1111\n",
      "Epoch 146/200\n",
      "\u001b[1m304/304\u001b[0m \u001b[32m━━━━━━━━━━━━━━━━━━━━\u001b[0m\u001b[37m\u001b[0m \u001b[1m0s\u001b[0m 155ms/step - accuracy: 0.9919 - loss: 0.0388\n",
      "Epoch 146: val_accuracy did not improve from 0.98846\n",
      "\u001b[1m304/304\u001b[0m \u001b[32m━━━━━━━━━━━━━━━━━━━━\u001b[0m\u001b[37m\u001b[0m \u001b[1m51s\u001b[0m 167ms/step - accuracy: 0.9919 - loss: 0.0388 - val_accuracy: 0.9856 - val_loss: 0.0589\n",
      "Epoch 147/200\n",
      "\u001b[1m304/304\u001b[0m \u001b[32m━━━━━━━━━━━━━━━━━━━━\u001b[0m\u001b[37m\u001b[0m \u001b[1m0s\u001b[0m 173ms/step - accuracy: 0.9995 - loss: 0.0031\n",
      "Epoch 147: val_accuracy did not improve from 0.98846\n",
      "\u001b[1m304/304\u001b[0m \u001b[32m━━━━━━━━━━━━━━━━━━━━\u001b[0m\u001b[37m\u001b[0m \u001b[1m57s\u001b[0m 185ms/step - accuracy: 0.9995 - loss: 0.0031 - val_accuracy: 0.9856 - val_loss: 0.0576\n",
      "Epoch 148/200\n",
      "\u001b[1m304/304\u001b[0m \u001b[32m━━━━━━━━━━━━━━━━━━━━\u001b[0m\u001b[37m\u001b[0m \u001b[1m0s\u001b[0m 167ms/step - accuracy: 0.9999 - loss: 6.4032e-04\n",
      "Epoch 148: val_accuracy did not improve from 0.98846\n",
      "\u001b[1m304/304\u001b[0m \u001b[32m━━━━━━━━━━━━━━━━━━━━\u001b[0m\u001b[37m\u001b[0m \u001b[1m55s\u001b[0m 180ms/step - accuracy: 0.9999 - loss: 6.4131e-04 - val_accuracy: 0.9819 - val_loss: 0.0697\n",
      "Epoch 149/200\n",
      "\u001b[1m304/304\u001b[0m \u001b[32m━━━━━━━━━━━━━━━━━━━━\u001b[0m\u001b[37m\u001b[0m \u001b[1m0s\u001b[0m 178ms/step - accuracy: 1.0000 - loss: 2.0407e-04\n",
      "Epoch 149: val_accuracy did not improve from 0.98846\n",
      "\u001b[1m304/304\u001b[0m \u001b[32m━━━━━━━━━━━━━━━━━━━━\u001b[0m\u001b[37m\u001b[0m \u001b[1m58s\u001b[0m 189ms/step - accuracy: 1.0000 - loss: 2.0406e-04 - val_accuracy: 0.9868 - val_loss: 0.0723\n",
      "Epoch 150/200\n",
      "\u001b[1m304/304\u001b[0m \u001b[32m━━━━━━━━━━━━━━━━━━━━\u001b[0m\u001b[37m\u001b[0m \u001b[1m0s\u001b[0m 170ms/step - accuracy: 0.9948 - loss: 0.0237\n",
      "Epoch 150: val_accuracy did not improve from 0.98846\n",
      "\u001b[1m304/304\u001b[0m \u001b[32m━━━━━━━━━━━━━━━━━━━━\u001b[0m\u001b[37m\u001b[0m \u001b[1m55s\u001b[0m 182ms/step - accuracy: 0.9948 - loss: 0.0238 - val_accuracy: 0.9782 - val_loss: 0.0641\n",
      "Epoch 151/200\n",
      "\u001b[1m304/304\u001b[0m \u001b[32m━━━━━━━━━━━━━━━━━━━━\u001b[0m\u001b[37m\u001b[0m \u001b[1m0s\u001b[0m 179ms/step - accuracy: 0.9955 - loss: 0.0235\n",
      "Epoch 151: val_accuracy did not improve from 0.98846\n",
      "\u001b[1m304/304\u001b[0m \u001b[32m━━━━━━━━━━━━━━━━━━━━\u001b[0m\u001b[37m\u001b[0m \u001b[1m58s\u001b[0m 191ms/step - accuracy: 0.9955 - loss: 0.0234 - val_accuracy: 0.9872 - val_loss: 0.0499\n",
      "Epoch 152/200\n",
      "\u001b[1m304/304\u001b[0m \u001b[32m━━━━━━━━━━━━━━━━━━━━\u001b[0m\u001b[37m\u001b[0m \u001b[1m0s\u001b[0m 160ms/step - accuracy: 0.9999 - loss: 3.3429e-04\n",
      "Epoch 152: val_accuracy did not improve from 0.98846\n",
      "\u001b[1m304/304\u001b[0m \u001b[32m━━━━━━━━━━━━━━━━━━━━\u001b[0m\u001b[37m\u001b[0m \u001b[1m52s\u001b[0m 171ms/step - accuracy: 0.9999 - loss: 3.3480e-04 - val_accuracy: 0.9860 - val_loss: 0.0554\n",
      "Epoch 153/200\n",
      "\u001b[1m304/304\u001b[0m \u001b[32m━━━━━━━━━━━━━━━━━━━━\u001b[0m\u001b[37m\u001b[0m \u001b[1m0s\u001b[0m 152ms/step - accuracy: 1.0000 - loss: 1.5812e-04\n",
      "Epoch 153: val_accuracy did not improve from 0.98846\n",
      "\u001b[1m304/304\u001b[0m \u001b[32m━━━━━━━━━━━━━━━━━━━━\u001b[0m\u001b[37m\u001b[0m \u001b[1m50s\u001b[0m 163ms/step - accuracy: 1.0000 - loss: 1.5798e-04 - val_accuracy: 0.9872 - val_loss: 0.0673\n",
      "Epoch 154/200\n",
      "\u001b[1m304/304\u001b[0m \u001b[32m━━━━━━━━━━━━━━━━━━━━\u001b[0m\u001b[37m\u001b[0m \u001b[1m0s\u001b[0m 176ms/step - accuracy: 0.9989 - loss: 0.0076\n",
      "Epoch 154: val_accuracy did not improve from 0.98846\n",
      "\u001b[1m304/304\u001b[0m \u001b[32m━━━━━━━━━━━━━━━━━━━━\u001b[0m\u001b[37m\u001b[0m \u001b[1m57s\u001b[0m 187ms/step - accuracy: 0.9989 - loss: 0.0076 - val_accuracy: 0.9868 - val_loss: 0.0627\n",
      "Epoch 155/200\n",
      "\u001b[1m304/304\u001b[0m \u001b[32m━━━━━━━━━━━━━━━━━━━━\u001b[0m\u001b[37m\u001b[0m \u001b[1m0s\u001b[0m 154ms/step - accuracy: 0.9968 - loss: 0.0126\n",
      "Epoch 155: val_accuracy did not improve from 0.98846\n",
      "\u001b[1m304/304\u001b[0m \u001b[32m━━━━━━━━━━━━━━━━━━━━\u001b[0m\u001b[37m\u001b[0m \u001b[1m50s\u001b[0m 166ms/step - accuracy: 0.9968 - loss: 0.0126 - val_accuracy: 0.9839 - val_loss: 0.0609\n",
      "Epoch 156/200\n",
      "\u001b[1m304/304\u001b[0m \u001b[32m━━━━━━━━━━━━━━━━━━━━\u001b[0m\u001b[37m\u001b[0m \u001b[1m0s\u001b[0m 192ms/step - accuracy: 0.9967 - loss: 0.0180\n",
      "Epoch 156: val_accuracy did not improve from 0.98846\n",
      "\u001b[1m304/304\u001b[0m \u001b[32m━━━━━━━━━━━━━━━━━━━━\u001b[0m\u001b[37m\u001b[0m \u001b[1m62s\u001b[0m 205ms/step - accuracy: 0.9967 - loss: 0.0181 - val_accuracy: 0.9732 - val_loss: 0.1013\n",
      "Epoch 157/200\n",
      "\u001b[1m304/304\u001b[0m \u001b[32m━━━━━━━━━━━━━━━━━━━━\u001b[0m\u001b[37m\u001b[0m \u001b[1m0s\u001b[0m 171ms/step - accuracy: 0.9927 - loss: 0.0205\n",
      "Epoch 157: val_accuracy did not improve from 0.98846\n",
      "\u001b[1m304/304\u001b[0m \u001b[32m━━━━━━━━━━━━━━━━━━━━\u001b[0m\u001b[37m\u001b[0m \u001b[1m56s\u001b[0m 184ms/step - accuracy: 0.9927 - loss: 0.0205 - val_accuracy: 0.9843 - val_loss: 0.0676\n",
      "Epoch 158/200\n",
      "\u001b[1m304/304\u001b[0m \u001b[32m━━━━━━━━━━━━━━━━━━━━\u001b[0m\u001b[37m\u001b[0m \u001b[1m0s\u001b[0m 167ms/step - accuracy: 0.9937 - loss: 0.0307\n",
      "Epoch 158: val_accuracy did not improve from 0.98846\n",
      "\u001b[1m304/304\u001b[0m \u001b[32m━━━━━━━━━━━━━━━━━━━━\u001b[0m\u001b[37m\u001b[0m \u001b[1m54s\u001b[0m 178ms/step - accuracy: 0.9937 - loss: 0.0307 - val_accuracy: 0.9778 - val_loss: 0.0827\n",
      "Epoch 159/200\n",
      "\u001b[1m304/304\u001b[0m \u001b[32m━━━━━━━━━━━━━━━━━━━━\u001b[0m\u001b[37m\u001b[0m \u001b[1m0s\u001b[0m 156ms/step - accuracy: 0.9988 - loss: 0.0025\n",
      "Epoch 159: val_accuracy did not improve from 0.98846\n",
      "\u001b[1m304/304\u001b[0m \u001b[32m━━━━━━━━━━━━━━━━━━━━\u001b[0m\u001b[37m\u001b[0m \u001b[1m51s\u001b[0m 167ms/step - accuracy: 0.9988 - loss: 0.0025 - val_accuracy: 0.9843 - val_loss: 0.0595\n",
      "Best model saved at: CNN2D_results/Scalogram_Spectrogram/best_model_3.h5\n"
     ]
    },
    {
     "name": "stderr",
     "output_type": "stream",
     "text": [
      "WARNING:absl:Compiled the loaded model, but the compiled metrics have yet to be built. `model.compile_metrics` will be empty until you train or evaluate the model.\n"
     ]
    },
    {
     "name": "stdout",
     "output_type": "stream",
     "text": [
      "Best model loaded successfully!\n",
      "\u001b[1m 1/76\u001b[0m \u001b[37m━━━━━━━━━━━━━━━━━━━━\u001b[0m \u001b[1m12s\u001b[0m 171ms/step"
     ]
    },
    {
     "name": "stderr",
     "output_type": "stream",
     "text": [
      "2025-06-12 14:55:24.301630: E tensorflow/core/framework/node_def_util.cc:680] NodeDef mentions attribute use_unbounded_threadpool which is not in the op definition: Op<name=MapDataset; signature=input_dataset:variant, other_arguments: -> handle:variant; attr=f:func; attr=Targuments:list(type),min=0; attr=output_types:list(type),min=1; attr=output_shapes:list(shape),min=1; attr=use_inter_op_parallelism:bool,default=true; attr=preserve_cardinality:bool,default=false; attr=force_synchronous:bool,default=false; attr=metadata:string,default=\"\"> This may be expected if your graph generating binary is newer  than this binary. Unknown attributes will be ignored. NodeDef: {{node ParallelMapDatasetV2/_14}}\n",
      "2025-06-12 14:55:24.304303: E tensorflow/core/framework/node_def_util.cc:680] NodeDef mentions attribute use_unbounded_threadpool which is not in the op definition: Op<name=MapDataset; signature=input_dataset:variant, other_arguments: -> handle:variant; attr=f:func; attr=Targuments:list(type),min=0; attr=output_types:list(type),min=1; attr=output_shapes:list(shape),min=1; attr=use_inter_op_parallelism:bool,default=true; attr=preserve_cardinality:bool,default=false; attr=force_synchronous:bool,default=false; attr=metadata:string,default=\"\"> This may be expected if your graph generating binary is newer  than this binary. Unknown attributes will be ignored. NodeDef: {{node ParallelMapDatasetV2/_14}}\n"
     ]
    },
    {
     "name": "stdout",
     "output_type": "stream",
     "text": [
      "\u001b[1m76/76\u001b[0m \u001b[32m━━━━━━━━━━━━━━━━━━━━\u001b[0m\u001b[37m\u001b[0m \u001b[1m4s\u001b[0m 46ms/step\n",
      "\u001b[1m304/304\u001b[0m \u001b[32m━━━━━━━━━━━━━━━━━━━━\u001b[0m\u001b[37m\u001b[0m \u001b[1m14s\u001b[0m 46ms/step - accuracy: 0.9997 - loss: 0.0059\n",
      "\u001b[1m 3/76\u001b[0m \u001b[37m━━━━━━━━━━━━━━━━━━━━\u001b[0m \u001b[1m3s\u001b[0m 44ms/step - accuracy: 0.9809 - loss: 0.0191"
     ]
    },
    {
     "name": "stderr",
     "output_type": "stream",
     "text": [
      "2025-06-12 14:55:42.410011: E tensorflow/core/framework/node_def_util.cc:680] NodeDef mentions attribute use_unbounded_threadpool which is not in the op definition: Op<name=MapDataset; signature=input_dataset:variant, other_arguments: -> handle:variant; attr=f:func; attr=Targuments:list(type),min=0; attr=output_types:list(type),min=1; attr=output_shapes:list(shape),min=1; attr=use_inter_op_parallelism:bool,default=true; attr=preserve_cardinality:bool,default=false; attr=force_synchronous:bool,default=false; attr=metadata:string,default=\"\"> This may be expected if your graph generating binary is newer  than this binary. Unknown attributes will be ignored. NodeDef: {{node ParallelMapDatasetV2/_15}}\n",
      "2025-06-12 14:55:42.410357: E tensorflow/core/framework/node_def_util.cc:680] NodeDef mentions attribute use_unbounded_threadpool which is not in the op definition: Op<name=MapDataset; signature=input_dataset:variant, other_arguments: -> handle:variant; attr=f:func; attr=Targuments:list(type),min=0; attr=output_types:list(type),min=1; attr=output_shapes:list(shape),min=1; attr=use_inter_op_parallelism:bool,default=true; attr=preserve_cardinality:bool,default=false; attr=force_synchronous:bool,default=false; attr=metadata:string,default=\"\"> This may be expected if your graph generating binary is newer  than this binary. Unknown attributes will be ignored. NodeDef: {{node ParallelMapDatasetV2/_15}}\n"
     ]
    },
    {
     "name": "stdout",
     "output_type": "stream",
     "text": [
      "\u001b[1m76/76\u001b[0m \u001b[32m━━━━━━━━━━━━━━━━━━━━\u001b[0m\u001b[37m\u001b[0m \u001b[1m4s\u001b[0m 50ms/step - accuracy: 0.9879 - loss: 0.0443\n",
      "\u001b[1m95/95\u001b[0m \u001b[32m━━━━━━━━━━━━━━━━━━━━\u001b[0m\u001b[37m\u001b[0m \u001b[1m4s\u001b[0m 45ms/step - accuracy: 0.9852 - loss: 0.0576\n",
      "Epoch 1/200\n"
     ]
    },
    {
     "name": "stderr",
     "output_type": "stream",
     "text": [
      "2025-06-12 14:55:50.775873: E tensorflow/core/framework/node_def_util.cc:680] NodeDef mentions attribute use_unbounded_threadpool which is not in the op definition: Op<name=MapDataset; signature=input_dataset:variant, other_arguments: -> handle:variant; attr=f:func; attr=Targuments:list(type),min=0; attr=output_types:list(type),min=1; attr=output_shapes:list(shape),min=1; attr=use_inter_op_parallelism:bool,default=true; attr=preserve_cardinality:bool,default=false; attr=force_synchronous:bool,default=false; attr=metadata:string,default=\"\"> This may be expected if your graph generating binary is newer  than this binary. Unknown attributes will be ignored. NodeDef: {{node ParallelMapDatasetV2/_15}}\n",
      "2025-06-12 14:55:50.776279: E tensorflow/core/framework/node_def_util.cc:680] NodeDef mentions attribute use_unbounded_threadpool which is not in the op definition: Op<name=MapDataset; signature=input_dataset:variant, other_arguments: -> handle:variant; attr=f:func; attr=Targuments:list(type),min=0; attr=output_types:list(type),min=1; attr=output_shapes:list(shape),min=1; attr=use_inter_op_parallelism:bool,default=true; attr=preserve_cardinality:bool,default=false; attr=force_synchronous:bool,default=false; attr=metadata:string,default=\"\"> This may be expected if your graph generating binary is newer  than this binary. Unknown attributes will be ignored. NodeDef: {{node ParallelMapDatasetV2/_15}}\n"
     ]
    },
    {
     "name": "stdout",
     "output_type": "stream",
     "text": [
      "\u001b[1m304/304\u001b[0m \u001b[32m━━━━━━━━━━━━━━━━━━━━\u001b[0m\u001b[37m\u001b[0m \u001b[1m0s\u001b[0m 153ms/step - accuracy: 0.3369 - loss: 1.6785"
     ]
    },
    {
     "name": "stderr",
     "output_type": "stream",
     "text": [
      "2025-06-12 14:56:38.193616: E tensorflow/core/framework/node_def_util.cc:680] NodeDef mentions attribute use_unbounded_threadpool which is not in the op definition: Op<name=MapDataset; signature=input_dataset:variant, other_arguments: -> handle:variant; attr=f:func; attr=Targuments:list(type),min=0; attr=output_types:list(type),min=1; attr=output_shapes:list(shape),min=1; attr=use_inter_op_parallelism:bool,default=true; attr=preserve_cardinality:bool,default=false; attr=force_synchronous:bool,default=false; attr=metadata:string,default=\"\"> This may be expected if your graph generating binary is newer  than this binary. Unknown attributes will be ignored. NodeDef: {{node ParallelMapDatasetV2/_15}}\n",
      "2025-06-12 14:56:38.194017: E tensorflow/core/framework/node_def_util.cc:680] NodeDef mentions attribute use_unbounded_threadpool which is not in the op definition: Op<name=MapDataset; signature=input_dataset:variant, other_arguments: -> handle:variant; attr=f:func; attr=Targuments:list(type),min=0; attr=output_types:list(type),min=1; attr=output_shapes:list(shape),min=1; attr=use_inter_op_parallelism:bool,default=true; attr=preserve_cardinality:bool,default=false; attr=force_synchronous:bool,default=false; attr=metadata:string,default=\"\"> This may be expected if your graph generating binary is newer  than this binary. Unknown attributes will be ignored. NodeDef: {{node ParallelMapDatasetV2/_15}}\n"
     ]
    },
    {
     "name": "stdout",
     "output_type": "stream",
     "text": [
      "\n",
      "Epoch 1: val_accuracy improved from -inf to 0.72600, saving model to CNN2D_results/Scalogram_Spectrogram/best_model_4.h5\n"
     ]
    },
    {
     "name": "stderr",
     "output_type": "stream",
     "text": [
      "WARNING:absl:You are saving your model as an HDF5 file via `model.save()` or `keras.saving.save_model(model)`. This file format is considered legacy. We recommend using instead the native Keras format, e.g. `model.save('my_model.keras')` or `keras.saving.save_model(model, 'my_model.keras')`. \n"
     ]
    },
    {
     "name": "stdout",
     "output_type": "stream",
     "text": [
      "\u001b[1m304/304\u001b[0m \u001b[32m━━━━━━━━━━━━━━━━━━━━\u001b[0m\u001b[37m\u001b[0m \u001b[1m51s\u001b[0m 165ms/step - accuracy: 0.3373 - loss: 1.6772 - val_accuracy: 0.7260 - val_loss: 0.7166\n",
      "Epoch 2/200\n",
      "\u001b[1m304/304\u001b[0m \u001b[32m━━━━━━━━━━━━━━━━━━━━\u001b[0m\u001b[37m\u001b[0m \u001b[1m0s\u001b[0m 175ms/step - accuracy: 0.7059 - loss: 0.6702\n",
      "Epoch 2: val_accuracy improved from 0.72600 to 0.77668, saving model to CNN2D_results/Scalogram_Spectrogram/best_model_4.h5\n"
     ]
    },
    {
     "name": "stderr",
     "output_type": "stream",
     "text": [
      "WARNING:absl:You are saving your model as an HDF5 file via `model.save()` or `keras.saving.save_model(model)`. This file format is considered legacy. We recommend using instead the native Keras format, e.g. `model.save('my_model.keras')` or `keras.saving.save_model(model, 'my_model.keras')`. \n"
     ]
    },
    {
     "name": "stdout",
     "output_type": "stream",
     "text": [
      "\u001b[1m304/304\u001b[0m \u001b[32m━━━━━━━━━━━━━━━━━━━━\u001b[0m\u001b[37m\u001b[0m \u001b[1m57s\u001b[0m 188ms/step - accuracy: 0.7060 - loss: 0.6700 - val_accuracy: 0.7767 - val_loss: 0.4844\n",
      "Epoch 3/200\n",
      "\u001b[1m304/304\u001b[0m \u001b[32m━━━━━━━━━━━━━━━━━━━━\u001b[0m\u001b[37m\u001b[0m \u001b[1m0s\u001b[0m 163ms/step - accuracy: 0.7875 - loss: 0.4670\n",
      "Epoch 3: val_accuracy improved from 0.77668 to 0.84796, saving model to CNN2D_results/Scalogram_Spectrogram/best_model_4.h5\n"
     ]
    },
    {
     "name": "stderr",
     "output_type": "stream",
     "text": [
      "WARNING:absl:You are saving your model as an HDF5 file via `model.save()` or `keras.saving.save_model(model)`. This file format is considered legacy. We recommend using instead the native Keras format, e.g. `model.save('my_model.keras')` or `keras.saving.save_model(model, 'my_model.keras')`. \n"
     ]
    },
    {
     "name": "stdout",
     "output_type": "stream",
     "text": [
      "\u001b[1m304/304\u001b[0m \u001b[32m━━━━━━━━━━━━━━━━━━━━\u001b[0m\u001b[37m\u001b[0m \u001b[1m53s\u001b[0m 176ms/step - accuracy: 0.7875 - loss: 0.4670 - val_accuracy: 0.8480 - val_loss: 0.3135\n",
      "Epoch 4/200\n",
      "\u001b[1m304/304\u001b[0m \u001b[32m━━━━━━━━━━━━━━━━━━━━\u001b[0m\u001b[37m\u001b[0m \u001b[1m0s\u001b[0m 153ms/step - accuracy: 0.8224 - loss: 0.3708\n",
      "Epoch 4: val_accuracy improved from 0.84796 to 0.87145, saving model to CNN2D_results/Scalogram_Spectrogram/best_model_4.h5\n"
     ]
    },
    {
     "name": "stderr",
     "output_type": "stream",
     "text": [
      "WARNING:absl:You are saving your model as an HDF5 file via `model.save()` or `keras.saving.save_model(model)`. This file format is considered legacy. We recommend using instead the native Keras format, e.g. `model.save('my_model.keras')` or `keras.saving.save_model(model, 'my_model.keras')`. \n"
     ]
    },
    {
     "name": "stdout",
     "output_type": "stream",
     "text": [
      "\u001b[1m304/304\u001b[0m \u001b[32m━━━━━━━━━━━━━━━━━━━━\u001b[0m\u001b[37m\u001b[0m \u001b[1m50s\u001b[0m 165ms/step - accuracy: 0.8224 - loss: 0.3708 - val_accuracy: 0.8714 - val_loss: 0.2858\n",
      "Epoch 5/200\n",
      "\u001b[1m304/304\u001b[0m \u001b[32m━━━━━━━━━━━━━━━━━━━━\u001b[0m\u001b[37m\u001b[0m \u001b[1m0s\u001b[0m 152ms/step - accuracy: 0.8370 - loss: 0.3216\n",
      "Epoch 5: val_accuracy did not improve from 0.87145\n",
      "\u001b[1m304/304\u001b[0m \u001b[32m━━━━━━━━━━━━━━━━━━━━\u001b[0m\u001b[37m\u001b[0m \u001b[1m50s\u001b[0m 164ms/step - accuracy: 0.8370 - loss: 0.3216 - val_accuracy: 0.8681 - val_loss: 0.3002\n",
      "Epoch 6/200\n",
      "\u001b[1m304/304\u001b[0m \u001b[32m━━━━━━━━━━━━━━━━━━━━\u001b[0m\u001b[37m\u001b[0m \u001b[1m0s\u001b[0m 161ms/step - accuracy: 0.8503 - loss: 0.3049\n",
      "Epoch 6: val_accuracy improved from 0.87145 to 0.88999, saving model to CNN2D_results/Scalogram_Spectrogram/best_model_4.h5\n"
     ]
    },
    {
     "name": "stderr",
     "output_type": "stream",
     "text": [
      "WARNING:absl:You are saving your model as an HDF5 file via `model.save()` or `keras.saving.save_model(model)`. This file format is considered legacy. We recommend using instead the native Keras format, e.g. `model.save('my_model.keras')` or `keras.saving.save_model(model, 'my_model.keras')`. \n"
     ]
    },
    {
     "name": "stdout",
     "output_type": "stream",
     "text": [
      "\u001b[1m304/304\u001b[0m \u001b[32m━━━━━━━━━━━━━━━━━━━━\u001b[0m\u001b[37m\u001b[0m \u001b[1m53s\u001b[0m 173ms/step - accuracy: 0.8503 - loss: 0.3049 - val_accuracy: 0.8900 - val_loss: 0.2169\n",
      "Epoch 7/200\n",
      "\u001b[1m304/304\u001b[0m \u001b[32m━━━━━━━━━━━━━━━━━━━━\u001b[0m\u001b[37m\u001b[0m \u001b[1m0s\u001b[0m 161ms/step - accuracy: 0.8891 - loss: 0.2350\n",
      "Epoch 7: val_accuracy improved from 0.88999 to 0.95921, saving model to CNN2D_results/Scalogram_Spectrogram/best_model_4.h5\n"
     ]
    },
    {
     "name": "stderr",
     "output_type": "stream",
     "text": [
      "WARNING:absl:You are saving your model as an HDF5 file via `model.save()` or `keras.saving.save_model(model)`. This file format is considered legacy. We recommend using instead the native Keras format, e.g. `model.save('my_model.keras')` or `keras.saving.save_model(model, 'my_model.keras')`. \n"
     ]
    },
    {
     "name": "stdout",
     "output_type": "stream",
     "text": [
      "\u001b[1m304/304\u001b[0m \u001b[32m━━━━━━━━━━━━━━━━━━━━\u001b[0m\u001b[37m\u001b[0m \u001b[1m52s\u001b[0m 172ms/step - accuracy: 0.8891 - loss: 0.2350 - val_accuracy: 0.9592 - val_loss: 0.1188\n",
      "Epoch 8/200\n",
      "\u001b[1m304/304\u001b[0m \u001b[32m━━━━━━━━━━━━━━━━━━━━\u001b[0m\u001b[37m\u001b[0m \u001b[1m0s\u001b[0m 157ms/step - accuracy: 0.9295 - loss: 0.1844\n",
      "Epoch 8: val_accuracy did not improve from 0.95921\n",
      "\u001b[1m304/304\u001b[0m \u001b[32m━━━━━━━━━━━━━━━━━━━━\u001b[0m\u001b[37m\u001b[0m \u001b[1m52s\u001b[0m 170ms/step - accuracy: 0.9295 - loss: 0.1844 - val_accuracy: 0.9571 - val_loss: 0.1229\n",
      "Epoch 9/200\n",
      "\u001b[1m304/304\u001b[0m \u001b[32m━━━━━━━━━━━━━━━━━━━━\u001b[0m\u001b[37m\u001b[0m \u001b[1m0s\u001b[0m 153ms/step - accuracy: 0.9484 - loss: 0.1562\n",
      "Epoch 9: val_accuracy did not improve from 0.95921\n",
      "\u001b[1m304/304\u001b[0m \u001b[32m━━━━━━━━━━━━━━━━━━━━\u001b[0m\u001b[37m\u001b[0m \u001b[1m50s\u001b[0m 164ms/step - accuracy: 0.9484 - loss: 0.1562 - val_accuracy: 0.9333 - val_loss: 0.1862\n",
      "Epoch 10/200\n",
      "\u001b[1m304/304\u001b[0m \u001b[32m━━━━━━━━━━━━━━━━━━━━\u001b[0m\u001b[37m\u001b[0m \u001b[1m0s\u001b[0m 152ms/step - accuracy: 0.9457 - loss: 0.1571\n",
      "Epoch 10: val_accuracy improved from 0.95921 to 0.96374, saving model to CNN2D_results/Scalogram_Spectrogram/best_model_4.h5\n"
     ]
    },
    {
     "name": "stderr",
     "output_type": "stream",
     "text": [
      "WARNING:absl:You are saving your model as an HDF5 file via `model.save()` or `keras.saving.save_model(model)`. This file format is considered legacy. We recommend using instead the native Keras format, e.g. `model.save('my_model.keras')` or `keras.saving.save_model(model, 'my_model.keras')`. \n"
     ]
    },
    {
     "name": "stdout",
     "output_type": "stream",
     "text": [
      "\u001b[1m304/304\u001b[0m \u001b[32m━━━━━━━━━━━━━━━━━━━━\u001b[0m\u001b[37m\u001b[0m \u001b[1m50s\u001b[0m 164ms/step - accuracy: 0.9457 - loss: 0.1571 - val_accuracy: 0.9637 - val_loss: 0.1062\n",
      "Epoch 11/200\n",
      "\u001b[1m304/304\u001b[0m \u001b[32m━━━━━━━━━━━━━━━━━━━━\u001b[0m\u001b[37m\u001b[0m \u001b[1m0s\u001b[0m 150ms/step - accuracy: 0.9549 - loss: 0.1216\n",
      "Epoch 11: val_accuracy improved from 0.96374 to 0.96786, saving model to CNN2D_results/Scalogram_Spectrogram/best_model_4.h5\n"
     ]
    },
    {
     "name": "stderr",
     "output_type": "stream",
     "text": [
      "WARNING:absl:You are saving your model as an HDF5 file via `model.save()` or `keras.saving.save_model(model)`. This file format is considered legacy. We recommend using instead the native Keras format, e.g. `model.save('my_model.keras')` or `keras.saving.save_model(model, 'my_model.keras')`. \n"
     ]
    },
    {
     "name": "stdout",
     "output_type": "stream",
     "text": [
      "\u001b[1m304/304\u001b[0m \u001b[32m━━━━━━━━━━━━━━━━━━━━\u001b[0m\u001b[37m\u001b[0m \u001b[1m49s\u001b[0m 162ms/step - accuracy: 0.9549 - loss: 0.1217 - val_accuracy: 0.9679 - val_loss: 0.0894\n",
      "Epoch 12/200\n",
      "\u001b[1m304/304\u001b[0m \u001b[32m━━━━━━━━━━━━━━━━━━━━\u001b[0m\u001b[37m\u001b[0m \u001b[1m0s\u001b[0m 152ms/step - accuracy: 0.9595 - loss: 0.1172\n",
      "Epoch 12: val_accuracy did not improve from 0.96786\n",
      "\u001b[1m304/304\u001b[0m \u001b[32m━━━━━━━━━━━━━━━━━━━━\u001b[0m\u001b[37m\u001b[0m \u001b[1m50s\u001b[0m 163ms/step - accuracy: 0.9595 - loss: 0.1172 - val_accuracy: 0.9394 - val_loss: 0.1582\n",
      "Epoch 13/200\n",
      "\u001b[1m304/304\u001b[0m \u001b[32m━━━━━━━━━━━━━━━━━━━━\u001b[0m\u001b[37m\u001b[0m \u001b[1m0s\u001b[0m 153ms/step - accuracy: 0.9517 - loss: 0.1447\n",
      "Epoch 13: val_accuracy did not improve from 0.96786\n",
      "\u001b[1m304/304\u001b[0m \u001b[32m━━━━━━━━━━━━━━━━━━━━\u001b[0m\u001b[37m\u001b[0m \u001b[1m50s\u001b[0m 164ms/step - accuracy: 0.9517 - loss: 0.1447 - val_accuracy: 0.9567 - val_loss: 0.1255\n",
      "Epoch 14/200\n",
      "\u001b[1m304/304\u001b[0m \u001b[32m━━━━━━━━━━━━━━━━━━━━\u001b[0m\u001b[37m\u001b[0m \u001b[1m0s\u001b[0m 152ms/step - accuracy: 0.9648 - loss: 0.0980\n",
      "Epoch 14: val_accuracy did not improve from 0.96786\n",
      "\u001b[1m304/304\u001b[0m \u001b[32m━━━━━━━━━━━━━━━━━━━━\u001b[0m\u001b[37m\u001b[0m \u001b[1m50s\u001b[0m 164ms/step - accuracy: 0.9648 - loss: 0.0980 - val_accuracy: 0.9604 - val_loss: 0.1026\n",
      "Epoch 15/200\n",
      "\u001b[1m304/304\u001b[0m \u001b[32m━━━━━━━━━━━━━━━━━━━━\u001b[0m\u001b[37m\u001b[0m \u001b[1m0s\u001b[0m 153ms/step - accuracy: 0.9644 - loss: 0.1089\n",
      "Epoch 15: val_accuracy did not improve from 0.96786\n",
      "\u001b[1m304/304\u001b[0m \u001b[32m━━━━━━━━━━━━━━━━━━━━\u001b[0m\u001b[37m\u001b[0m \u001b[1m50s\u001b[0m 165ms/step - accuracy: 0.9644 - loss: 0.1089 - val_accuracy: 0.9374 - val_loss: 0.1650\n",
      "Epoch 16/200\n",
      "\u001b[1m304/304\u001b[0m \u001b[32m━━━━━━━━━━━━━━━━━━━━\u001b[0m\u001b[37m\u001b[0m \u001b[1m0s\u001b[0m 153ms/step - accuracy: 0.9673 - loss: 0.1022\n",
      "Epoch 16: val_accuracy improved from 0.96786 to 0.97981, saving model to CNN2D_results/Scalogram_Spectrogram/best_model_4.h5\n"
     ]
    },
    {
     "name": "stderr",
     "output_type": "stream",
     "text": [
      "WARNING:absl:You are saving your model as an HDF5 file via `model.save()` or `keras.saving.save_model(model)`. This file format is considered legacy. We recommend using instead the native Keras format, e.g. `model.save('my_model.keras')` or `keras.saving.save_model(model, 'my_model.keras')`. \n"
     ]
    },
    {
     "name": "stdout",
     "output_type": "stream",
     "text": [
      "\u001b[1m304/304\u001b[0m \u001b[32m━━━━━━━━━━━━━━━━━━━━\u001b[0m\u001b[37m\u001b[0m \u001b[1m50s\u001b[0m 165ms/step - accuracy: 0.9673 - loss: 0.1022 - val_accuracy: 0.9798 - val_loss: 0.0623\n",
      "Epoch 17/200\n",
      "\u001b[1m304/304\u001b[0m \u001b[32m━━━━━━━━━━━━━━━━━━━━\u001b[0m\u001b[37m\u001b[0m \u001b[1m0s\u001b[0m 153ms/step - accuracy: 0.9748 - loss: 0.0834\n",
      "Epoch 17: val_accuracy did not improve from 0.97981\n",
      "\u001b[1m304/304\u001b[0m \u001b[32m━━━━━━━━━━━━━━━━━━━━\u001b[0m\u001b[37m\u001b[0m \u001b[1m50s\u001b[0m 165ms/step - accuracy: 0.9748 - loss: 0.0835 - val_accuracy: 0.9592 - val_loss: 0.1231\n",
      "Epoch 18/200\n",
      "\u001b[1m304/304\u001b[0m \u001b[32m━━━━━━━━━━━━━━━━━━━━\u001b[0m\u001b[37m\u001b[0m \u001b[1m0s\u001b[0m 153ms/step - accuracy: 0.9635 - loss: 0.1092\n",
      "Epoch 18: val_accuracy did not improve from 0.97981\n",
      "\u001b[1m304/304\u001b[0m \u001b[32m━━━━━━━━━━━━━━━━━━━━\u001b[0m\u001b[37m\u001b[0m \u001b[1m50s\u001b[0m 164ms/step - accuracy: 0.9635 - loss: 0.1092 - val_accuracy: 0.9361 - val_loss: 0.1719\n",
      "Epoch 19/200\n",
      "\u001b[1m304/304\u001b[0m \u001b[32m━━━━━━━━━━━━━━━━━━━━\u001b[0m\u001b[37m\u001b[0m \u001b[1m0s\u001b[0m 154ms/step - accuracy: 0.9712 - loss: 0.0852\n",
      "Epoch 19: val_accuracy did not improve from 0.97981\n",
      "\u001b[1m304/304\u001b[0m \u001b[32m━━━━━━━━━━━━━━━━━━━━\u001b[0m\u001b[37m\u001b[0m \u001b[1m50s\u001b[0m 166ms/step - accuracy: 0.9712 - loss: 0.0852 - val_accuracy: 0.9679 - val_loss: 0.0926\n",
      "Epoch 20/200\n",
      "\u001b[1m304/304\u001b[0m \u001b[32m━━━━━━━━━━━━━━━━━━━━\u001b[0m\u001b[37m\u001b[0m \u001b[1m0s\u001b[0m 164ms/step - accuracy: 0.9736 - loss: 0.0883\n",
      "Epoch 20: val_accuracy did not improve from 0.97981\n",
      "\u001b[1m304/304\u001b[0m \u001b[32m━━━━━━━━━━━━━━━━━━━━\u001b[0m\u001b[37m\u001b[0m \u001b[1m53s\u001b[0m 176ms/step - accuracy: 0.9736 - loss: 0.0883 - val_accuracy: 0.9798 - val_loss: 0.0717\n",
      "Epoch 21/200\n",
      "\u001b[1m304/304\u001b[0m \u001b[32m━━━━━━━━━━━━━━━━━━━━\u001b[0m\u001b[37m\u001b[0m \u001b[1m0s\u001b[0m 158ms/step - accuracy: 0.9763 - loss: 0.0710\n",
      "Epoch 21: val_accuracy did not improve from 0.97981\n",
      "\u001b[1m304/304\u001b[0m \u001b[32m━━━━━━━━━━━━━━━━━━━━\u001b[0m\u001b[37m\u001b[0m \u001b[1m51s\u001b[0m 169ms/step - accuracy: 0.9763 - loss: 0.0711 - val_accuracy: 0.9773 - val_loss: 0.0742\n",
      "Epoch 22/200\n",
      "\u001b[1m304/304\u001b[0m \u001b[32m━━━━━━━━━━━━━━━━━━━━\u001b[0m\u001b[37m\u001b[0m \u001b[1m0s\u001b[0m 154ms/step - accuracy: 0.9803 - loss: 0.0609\n",
      "Epoch 22: val_accuracy improved from 0.97981 to 0.98311, saving model to CNN2D_results/Scalogram_Spectrogram/best_model_4.h5\n"
     ]
    },
    {
     "name": "stderr",
     "output_type": "stream",
     "text": [
      "WARNING:absl:You are saving your model as an HDF5 file via `model.save()` or `keras.saving.save_model(model)`. This file format is considered legacy. We recommend using instead the native Keras format, e.g. `model.save('my_model.keras')` or `keras.saving.save_model(model, 'my_model.keras')`. \n"
     ]
    },
    {
     "name": "stdout",
     "output_type": "stream",
     "text": [
      "\u001b[1m304/304\u001b[0m \u001b[32m━━━━━━━━━━━━━━━━━━━━\u001b[0m\u001b[37m\u001b[0m \u001b[1m51s\u001b[0m 166ms/step - accuracy: 0.9803 - loss: 0.0609 - val_accuracy: 0.9831 - val_loss: 0.0470\n",
      "Epoch 23/200\n",
      "\u001b[1m304/304\u001b[0m \u001b[32m━━━━━━━━━━━━━━━━━━━━\u001b[0m\u001b[37m\u001b[0m \u001b[1m0s\u001b[0m 156ms/step - accuracy: 0.9796 - loss: 0.0595\n",
      "Epoch 23: val_accuracy did not improve from 0.98311\n",
      "\u001b[1m304/304\u001b[0m \u001b[32m━━━━━━━━━━━━━━━━━━━━\u001b[0m\u001b[37m\u001b[0m \u001b[1m51s\u001b[0m 167ms/step - accuracy: 0.9795 - loss: 0.0596 - val_accuracy: 0.9757 - val_loss: 0.0922\n",
      "Epoch 24/200\n",
      "\u001b[1m304/304\u001b[0m \u001b[32m━━━━━━━━━━━━━━━━━━━━\u001b[0m\u001b[37m\u001b[0m \u001b[1m0s\u001b[0m 164ms/step - accuracy: 0.9748 - loss: 0.0724\n",
      "Epoch 24: val_accuracy did not improve from 0.98311\n",
      "\u001b[1m304/304\u001b[0m \u001b[32m━━━━━━━━━━━━━━━━━━━━\u001b[0m\u001b[37m\u001b[0m \u001b[1m53s\u001b[0m 176ms/step - accuracy: 0.9748 - loss: 0.0724 - val_accuracy: 0.9555 - val_loss: 0.1181\n",
      "Epoch 25/200\n",
      "\u001b[1m304/304\u001b[0m \u001b[32m━━━━━━━━━━━━━━━━━━━━\u001b[0m\u001b[37m\u001b[0m \u001b[1m0s\u001b[0m 185ms/step - accuracy: 0.9752 - loss: 0.0704\n",
      "Epoch 25: val_accuracy did not improve from 0.98311\n",
      "\u001b[1m304/304\u001b[0m \u001b[32m━━━━━━━━━━━━━━━━━━━━\u001b[0m\u001b[37m\u001b[0m \u001b[1m60s\u001b[0m 197ms/step - accuracy: 0.9752 - loss: 0.0704 - val_accuracy: 0.9691 - val_loss: 0.0819\n",
      "Epoch 26/200\n",
      "\u001b[1m304/304\u001b[0m \u001b[32m━━━━━━━━━━━━━━━━━━━━\u001b[0m\u001b[37m\u001b[0m \u001b[1m0s\u001b[0m 160ms/step - accuracy: 0.9787 - loss: 0.0668\n",
      "Epoch 26: val_accuracy improved from 0.98311 to 0.98640, saving model to CNN2D_results/Scalogram_Spectrogram/best_model_4.h5\n"
     ]
    },
    {
     "name": "stderr",
     "output_type": "stream",
     "text": [
      "WARNING:absl:You are saving your model as an HDF5 file via `model.save()` or `keras.saving.save_model(model)`. This file format is considered legacy. We recommend using instead the native Keras format, e.g. `model.save('my_model.keras')` or `keras.saving.save_model(model, 'my_model.keras')`. \n"
     ]
    },
    {
     "name": "stdout",
     "output_type": "stream",
     "text": [
      "\u001b[1m304/304\u001b[0m \u001b[32m━━━━━━━━━━━━━━━━━━━━\u001b[0m\u001b[37m\u001b[0m \u001b[1m52s\u001b[0m 172ms/step - accuracy: 0.9787 - loss: 0.0668 - val_accuracy: 0.9864 - val_loss: 0.0458\n",
      "Epoch 27/200\n",
      "\u001b[1m304/304\u001b[0m \u001b[32m━━━━━━━━━━━━━━━━━━━━\u001b[0m\u001b[37m\u001b[0m \u001b[1m0s\u001b[0m 155ms/step - accuracy: 0.9820 - loss: 0.0529\n",
      "Epoch 27: val_accuracy did not improve from 0.98640\n",
      "\u001b[1m304/304\u001b[0m \u001b[32m━━━━━━━━━━━━━━━━━━━━\u001b[0m\u001b[37m\u001b[0m \u001b[1m50s\u001b[0m 166ms/step - accuracy: 0.9820 - loss: 0.0530 - val_accuracy: 0.9864 - val_loss: 0.0518\n",
      "Epoch 28/200\n",
      "\u001b[1m304/304\u001b[0m \u001b[32m━━━━━━━━━━━━━━━━━━━━\u001b[0m\u001b[37m\u001b[0m \u001b[1m0s\u001b[0m 153ms/step - accuracy: 0.9806 - loss: 0.0614\n",
      "Epoch 28: val_accuracy did not improve from 0.98640\n",
      "\u001b[1m304/304\u001b[0m \u001b[32m━━━━━━━━━━━━━━━━━━━━\u001b[0m\u001b[37m\u001b[0m \u001b[1m50s\u001b[0m 164ms/step - accuracy: 0.9806 - loss: 0.0614 - val_accuracy: 0.9831 - val_loss: 0.0509\n",
      "Epoch 29/200\n",
      "\u001b[1m304/304\u001b[0m \u001b[32m━━━━━━━━━━━━━━━━━━━━\u001b[0m\u001b[37m\u001b[0m \u001b[1m0s\u001b[0m 155ms/step - accuracy: 0.9840 - loss: 0.0480\n",
      "Epoch 29: val_accuracy improved from 0.98640 to 0.99094, saving model to CNN2D_results/Scalogram_Spectrogram/best_model_4.h5\n"
     ]
    },
    {
     "name": "stderr",
     "output_type": "stream",
     "text": [
      "WARNING:absl:You are saving your model as an HDF5 file via `model.save()` or `keras.saving.save_model(model)`. This file format is considered legacy. We recommend using instead the native Keras format, e.g. `model.save('my_model.keras')` or `keras.saving.save_model(model, 'my_model.keras')`. \n"
     ]
    },
    {
     "name": "stdout",
     "output_type": "stream",
     "text": [
      "\u001b[1m304/304\u001b[0m \u001b[32m━━━━━━━━━━━━━━━━━━━━\u001b[0m\u001b[37m\u001b[0m \u001b[1m51s\u001b[0m 166ms/step - accuracy: 0.9840 - loss: 0.0481 - val_accuracy: 0.9909 - val_loss: 0.0434\n",
      "Epoch 30/200\n",
      "\u001b[1m304/304\u001b[0m \u001b[32m━━━━━━━━━━━━━━━━━━━━\u001b[0m\u001b[37m\u001b[0m \u001b[1m0s\u001b[0m 154ms/step - accuracy: 0.9828 - loss: 0.0520\n",
      "Epoch 30: val_accuracy did not improve from 0.99094\n",
      "\u001b[1m304/304\u001b[0m \u001b[32m━━━━━━━━━━━━━━━━━━━━\u001b[0m\u001b[37m\u001b[0m \u001b[1m51s\u001b[0m 166ms/step - accuracy: 0.9828 - loss: 0.0521 - val_accuracy: 0.9823 - val_loss: 0.0684\n",
      "Epoch 31/200\n",
      "\u001b[1m304/304\u001b[0m \u001b[32m━━━━━━━━━━━━━━━━━━━━\u001b[0m\u001b[37m\u001b[0m \u001b[1m0s\u001b[0m 156ms/step - accuracy: 0.9845 - loss: 0.0540\n",
      "Epoch 31: val_accuracy did not improve from 0.99094\n",
      "\u001b[1m304/304\u001b[0m \u001b[32m━━━━━━━━━━━━━━━━━━━━\u001b[0m\u001b[37m\u001b[0m \u001b[1m51s\u001b[0m 167ms/step - accuracy: 0.9845 - loss: 0.0540 - val_accuracy: 0.9885 - val_loss: 0.0437\n",
      "Epoch 32/200\n",
      "\u001b[1m304/304\u001b[0m \u001b[32m━━━━━━━━━━━━━━━━━━━━\u001b[0m\u001b[37m\u001b[0m \u001b[1m0s\u001b[0m 156ms/step - accuracy: 0.9587 - loss: 0.1674\n",
      "Epoch 32: val_accuracy did not improve from 0.99094\n",
      "\u001b[1m304/304\u001b[0m \u001b[32m━━━━━━━━━━━━━━━━━━━━\u001b[0m\u001b[37m\u001b[0m \u001b[1m51s\u001b[0m 168ms/step - accuracy: 0.9588 - loss: 0.1672 - val_accuracy: 0.9782 - val_loss: 0.0722\n",
      "Epoch 33/200\n",
      "\u001b[1m304/304\u001b[0m \u001b[32m━━━━━━━━━━━━━━━━━━━━\u001b[0m\u001b[37m\u001b[0m \u001b[1m0s\u001b[0m 157ms/step - accuracy: 0.9830 - loss: 0.0539\n",
      "Epoch 33: val_accuracy did not improve from 0.99094\n",
      "\u001b[1m304/304\u001b[0m \u001b[32m━━━━━━━━━━━━━━━━━━━━\u001b[0m\u001b[37m\u001b[0m \u001b[1m51s\u001b[0m 168ms/step - accuracy: 0.9830 - loss: 0.0539 - val_accuracy: 0.9876 - val_loss: 0.0434\n",
      "Epoch 34/200\n",
      "\u001b[1m304/304\u001b[0m \u001b[32m━━━━━━━━━━━━━━━━━━━━\u001b[0m\u001b[37m\u001b[0m \u001b[1m0s\u001b[0m 152ms/step - accuracy: 0.9889 - loss: 0.0373\n",
      "Epoch 34: val_accuracy did not improve from 0.99094\n",
      "\u001b[1m304/304\u001b[0m \u001b[32m━━━━━━━━━━━━━━━━━━━━\u001b[0m\u001b[37m\u001b[0m \u001b[1m50s\u001b[0m 163ms/step - accuracy: 0.9889 - loss: 0.0373 - val_accuracy: 0.9889 - val_loss: 0.0484\n",
      "Epoch 35/200\n",
      "\u001b[1m304/304\u001b[0m \u001b[32m━━━━━━━━━━━━━━━━━━━━\u001b[0m\u001b[37m\u001b[0m \u001b[1m0s\u001b[0m 194ms/step - accuracy: 0.9892 - loss: 0.0347\n",
      "Epoch 35: val_accuracy did not improve from 0.99094\n",
      "\u001b[1m304/304\u001b[0m \u001b[32m━━━━━━━━━━━━━━━━━━━━\u001b[0m\u001b[37m\u001b[0m \u001b[1m63s\u001b[0m 206ms/step - accuracy: 0.9892 - loss: 0.0347 - val_accuracy: 0.9885 - val_loss: 0.0339\n",
      "Epoch 36/200\n",
      "\u001b[1m304/304\u001b[0m \u001b[32m━━━━━━━━━━━━━━━━━━━━\u001b[0m\u001b[37m\u001b[0m \u001b[1m0s\u001b[0m 159ms/step - accuracy: 0.9896 - loss: 0.0285\n",
      "Epoch 36: val_accuracy did not improve from 0.99094\n",
      "\u001b[1m304/304\u001b[0m \u001b[32m━━━━━━━━━━━━━━━━━━━━\u001b[0m\u001b[37m\u001b[0m \u001b[1m52s\u001b[0m 170ms/step - accuracy: 0.9896 - loss: 0.0286 - val_accuracy: 0.9815 - val_loss: 0.0557\n",
      "Epoch 37/200\n",
      "\u001b[1m304/304\u001b[0m \u001b[32m━━━━━━━━━━━━━━━━━━━━\u001b[0m\u001b[37m\u001b[0m \u001b[1m0s\u001b[0m 159ms/step - accuracy: 0.9870 - loss: 0.0393\n",
      "Epoch 37: val_accuracy did not improve from 0.99094\n",
      "\u001b[1m304/304\u001b[0m \u001b[32m━━━━━━━━━━━━━━━━━━━━\u001b[0m\u001b[37m\u001b[0m \u001b[1m52s\u001b[0m 173ms/step - accuracy: 0.9870 - loss: 0.0393 - val_accuracy: 0.8447 - val_loss: 0.5943\n",
      "Epoch 38/200\n",
      "\u001b[1m304/304\u001b[0m \u001b[32m━━━━━━━━━━━━━━━━━━━━\u001b[0m\u001b[37m\u001b[0m \u001b[1m0s\u001b[0m 155ms/step - accuracy: 0.9506 - loss: 0.1681\n",
      "Epoch 38: val_accuracy did not improve from 0.99094\n",
      "\u001b[1m304/304\u001b[0m \u001b[32m━━━━━━━━━━━━━━━━━━━━\u001b[0m\u001b[37m\u001b[0m \u001b[1m51s\u001b[0m 167ms/step - accuracy: 0.9506 - loss: 0.1678 - val_accuracy: 0.9868 - val_loss: 0.0479\n",
      "Epoch 39/200\n",
      "\u001b[1m304/304\u001b[0m \u001b[32m━━━━━━━━━━━━━━━━━━━━\u001b[0m\u001b[37m\u001b[0m \u001b[1m0s\u001b[0m 166ms/step - accuracy: 0.9859 - loss: 0.0403\n",
      "Epoch 39: val_accuracy did not improve from 0.99094\n",
      "\u001b[1m304/304\u001b[0m \u001b[32m━━━━━━━━━━━━━━━━━━━━\u001b[0m\u001b[37m\u001b[0m \u001b[1m54s\u001b[0m 178ms/step - accuracy: 0.9859 - loss: 0.0403 - val_accuracy: 0.9843 - val_loss: 0.0558\n",
      "Epoch 40/200\n",
      "\u001b[1m304/304\u001b[0m \u001b[32m━━━━━━━━━━━━━━━━━━━━\u001b[0m\u001b[37m\u001b[0m \u001b[1m0s\u001b[0m 155ms/step - accuracy: 0.9875 - loss: 0.0343\n",
      "Epoch 40: val_accuracy did not improve from 0.99094\n",
      "\u001b[1m304/304\u001b[0m \u001b[32m━━━━━━━━━━━━━━━━━━━━\u001b[0m\u001b[37m\u001b[0m \u001b[1m51s\u001b[0m 167ms/step - accuracy: 0.9875 - loss: 0.0343 - val_accuracy: 0.9893 - val_loss: 0.0432\n",
      "Epoch 41/200\n",
      "\u001b[1m304/304\u001b[0m \u001b[32m━━━━━━━━━━━━━━━━━━━━\u001b[0m\u001b[37m\u001b[0m \u001b[1m0s\u001b[0m 155ms/step - accuracy: 0.9906 - loss: 0.0281\n",
      "Epoch 41: val_accuracy did not improve from 0.99094\n",
      "\u001b[1m304/304\u001b[0m \u001b[32m━━━━━━━━━━━━━━━━━━━━\u001b[0m\u001b[37m\u001b[0m \u001b[1m51s\u001b[0m 166ms/step - accuracy: 0.9906 - loss: 0.0281 - val_accuracy: 0.9839 - val_loss: 0.0409\n",
      "Epoch 42/200\n",
      "\u001b[1m304/304\u001b[0m \u001b[32m━━━━━━━━━━━━━━━━━━━━\u001b[0m\u001b[37m\u001b[0m \u001b[1m0s\u001b[0m 155ms/step - accuracy: 0.9885 - loss: 0.0324\n",
      "Epoch 42: val_accuracy did not improve from 0.99094\n",
      "\u001b[1m304/304\u001b[0m \u001b[32m━━━━━━━━━━━━━━━━━━━━\u001b[0m\u001b[37m\u001b[0m \u001b[1m50s\u001b[0m 166ms/step - accuracy: 0.9885 - loss: 0.0324 - val_accuracy: 0.9852 - val_loss: 0.0461\n",
      "Epoch 43/200\n",
      "\u001b[1m304/304\u001b[0m \u001b[32m━━━━━━━━━━━━━━━━━━━━\u001b[0m\u001b[37m\u001b[0m \u001b[1m0s\u001b[0m 159ms/step - accuracy: 0.9917 - loss: 0.0271\n",
      "Epoch 43: val_accuracy did not improve from 0.99094\n",
      "\u001b[1m304/304\u001b[0m \u001b[32m━━━━━━━━━━━━━━━━━━━━\u001b[0m\u001b[37m\u001b[0m \u001b[1m52s\u001b[0m 172ms/step - accuracy: 0.9917 - loss: 0.0271 - val_accuracy: 0.9905 - val_loss: 0.0361\n",
      "Epoch 44/200\n",
      "\u001b[1m304/304\u001b[0m \u001b[32m━━━━━━━━━━━━━━━━━━━━\u001b[0m\u001b[37m\u001b[0m \u001b[1m0s\u001b[0m 234ms/step - accuracy: 0.9922 - loss: 0.0249\n",
      "Epoch 44: val_accuracy did not improve from 0.99094\n",
      "\u001b[1m304/304\u001b[0m \u001b[32m━━━━━━━━━━━━━━━━━━━━\u001b[0m\u001b[37m\u001b[0m \u001b[1m75s\u001b[0m 246ms/step - accuracy: 0.9922 - loss: 0.0249 - val_accuracy: 0.9843 - val_loss: 0.0503\n",
      "Epoch 45/200\n",
      "\u001b[1m304/304\u001b[0m \u001b[32m━━━━━━━━━━━━━━━━━━━━\u001b[0m\u001b[37m\u001b[0m \u001b[1m0s\u001b[0m 172ms/step - accuracy: 0.9911 - loss: 0.0266\n",
      "Epoch 45: val_accuracy did not improve from 0.99094\n",
      "\u001b[1m304/304\u001b[0m \u001b[32m━━━━━━━━━━━━━━━━━━━━\u001b[0m\u001b[37m\u001b[0m \u001b[1m57s\u001b[0m 187ms/step - accuracy: 0.9911 - loss: 0.0267 - val_accuracy: 0.9889 - val_loss: 0.0371\n",
      "Epoch 46/200\n",
      "\u001b[1m304/304\u001b[0m \u001b[32m━━━━━━━━━━━━━━━━━━━━\u001b[0m\u001b[37m\u001b[0m \u001b[1m0s\u001b[0m 157ms/step - accuracy: 0.9901 - loss: 0.0294\n",
      "Epoch 46: val_accuracy did not improve from 0.99094\n",
      "\u001b[1m304/304\u001b[0m \u001b[32m━━━━━━━━━━━━━━━━━━━━\u001b[0m\u001b[37m\u001b[0m \u001b[1m51s\u001b[0m 168ms/step - accuracy: 0.9901 - loss: 0.0294 - val_accuracy: 0.9786 - val_loss: 0.0639\n",
      "Epoch 47/200\n",
      "\u001b[1m304/304\u001b[0m \u001b[32m━━━━━━━━━━━━━━━━━━━━\u001b[0m\u001b[37m\u001b[0m \u001b[1m0s\u001b[0m 151ms/step - accuracy: 0.9885 - loss: 0.0378\n",
      "Epoch 47: val_accuracy did not improve from 0.99094\n",
      "\u001b[1m304/304\u001b[0m \u001b[32m━━━━━━━━━━━━━━━━━━━━\u001b[0m\u001b[37m\u001b[0m \u001b[1m49s\u001b[0m 162ms/step - accuracy: 0.9885 - loss: 0.0379 - val_accuracy: 0.9609 - val_loss: 0.1570\n",
      "Epoch 48/200\n",
      "\u001b[1m304/304\u001b[0m \u001b[32m━━━━━━━━━━━━━━━━━━━━\u001b[0m\u001b[37m\u001b[0m \u001b[1m0s\u001b[0m 149ms/step - accuracy: 0.9843 - loss: 0.0504\n",
      "Epoch 48: val_accuracy did not improve from 0.99094\n",
      "\u001b[1m304/304\u001b[0m \u001b[32m━━━━━━━━━━━━━━━━━━━━\u001b[0m\u001b[37m\u001b[0m \u001b[1m49s\u001b[0m 161ms/step - accuracy: 0.9843 - loss: 0.0504 - val_accuracy: 0.9889 - val_loss: 0.0407\n",
      "Epoch 49/200\n",
      "\u001b[1m304/304\u001b[0m \u001b[32m━━━━━━━━━━━━━━━━━━━━\u001b[0m\u001b[37m\u001b[0m \u001b[1m0s\u001b[0m 158ms/step - accuracy: 0.9922 - loss: 0.0272\n",
      "Epoch 49: val_accuracy did not improve from 0.99094\n",
      "\u001b[1m304/304\u001b[0m \u001b[32m━━━━━━━━━━━━━━━━━━━━\u001b[0m\u001b[37m\u001b[0m \u001b[1m51s\u001b[0m 169ms/step - accuracy: 0.9922 - loss: 0.0272 - val_accuracy: 0.9773 - val_loss: 0.0762\n",
      "Epoch 50/200\n",
      "\u001b[1m304/304\u001b[0m \u001b[32m━━━━━━━━━━━━━━━━━━━━\u001b[0m\u001b[37m\u001b[0m \u001b[1m0s\u001b[0m 167ms/step - accuracy: 0.9933 - loss: 0.0217\n",
      "Epoch 50: val_accuracy did not improve from 0.99094\n",
      "\u001b[1m304/304\u001b[0m \u001b[32m━━━━━━━━━━━━━━━━━━━━\u001b[0m\u001b[37m\u001b[0m \u001b[1m54s\u001b[0m 179ms/step - accuracy: 0.9933 - loss: 0.0217 - val_accuracy: 0.9790 - val_loss: 0.0687\n",
      "Epoch 51/200\n",
      "\u001b[1m304/304\u001b[0m \u001b[32m━━━━━━━━━━━━━━━━━━━━\u001b[0m\u001b[37m\u001b[0m \u001b[1m0s\u001b[0m 162ms/step - accuracy: 0.9917 - loss: 0.0220\n",
      "Epoch 51: val_accuracy did not improve from 0.99094\n",
      "\u001b[1m304/304\u001b[0m \u001b[32m━━━━━━━━━━━━━━━━━━━━\u001b[0m\u001b[37m\u001b[0m \u001b[1m53s\u001b[0m 174ms/step - accuracy: 0.9917 - loss: 0.0220 - val_accuracy: 0.9749 - val_loss: 0.0857\n",
      "Epoch 52/200\n",
      "\u001b[1m304/304\u001b[0m \u001b[32m━━━━━━━━━━━━━━━━━━━━\u001b[0m\u001b[37m\u001b[0m \u001b[1m0s\u001b[0m 181ms/step - accuracy: 0.9936 - loss: 0.0222\n",
      "Epoch 52: val_accuracy did not improve from 0.99094\n",
      "\u001b[1m304/304\u001b[0m \u001b[32m━━━━━━━━━━━━━━━━━━━━\u001b[0m\u001b[37m\u001b[0m \u001b[1m59s\u001b[0m 193ms/step - accuracy: 0.9936 - loss: 0.0222 - val_accuracy: 0.9843 - val_loss: 0.0433\n",
      "Epoch 53/200\n",
      "\u001b[1m304/304\u001b[0m \u001b[32m━━━━━━━━━━━━━━━━━━━━\u001b[0m\u001b[37m\u001b[0m \u001b[1m0s\u001b[0m 167ms/step - accuracy: 0.9901 - loss: 0.0264\n",
      "Epoch 53: val_accuracy did not improve from 0.99094\n",
      "\u001b[1m304/304\u001b[0m \u001b[32m━━━━━━━━━━━━━━━━━━━━\u001b[0m\u001b[37m\u001b[0m \u001b[1m54s\u001b[0m 178ms/step - accuracy: 0.9901 - loss: 0.0264 - val_accuracy: 0.9893 - val_loss: 0.0550\n",
      "Epoch 54/200\n",
      "\u001b[1m304/304\u001b[0m \u001b[32m━━━━━━━━━━━━━━━━━━━━\u001b[0m\u001b[37m\u001b[0m \u001b[1m0s\u001b[0m 167ms/step - accuracy: 0.9844 - loss: 0.0614\n",
      "Epoch 54: val_accuracy did not improve from 0.99094\n",
      "\u001b[1m304/304\u001b[0m \u001b[32m━━━━━━━━━━━━━━━━━━━━\u001b[0m\u001b[37m\u001b[0m \u001b[1m54s\u001b[0m 179ms/step - accuracy: 0.9844 - loss: 0.0613 - val_accuracy: 0.9876 - val_loss: 0.0479\n",
      "Epoch 55/200\n",
      "\u001b[1m304/304\u001b[0m \u001b[32m━━━━━━━━━━━━━━━━━━━━\u001b[0m\u001b[37m\u001b[0m \u001b[1m0s\u001b[0m 162ms/step - accuracy: 0.9957 - loss: 0.0161\n",
      "Epoch 55: val_accuracy did not improve from 0.99094\n",
      "\u001b[1m304/304\u001b[0m \u001b[32m━━━━━━━━━━━━━━━━━━━━\u001b[0m\u001b[37m\u001b[0m \u001b[1m53s\u001b[0m 174ms/step - accuracy: 0.9957 - loss: 0.0161 - val_accuracy: 0.9868 - val_loss: 0.0382\n",
      "Epoch 56/200\n",
      "\u001b[1m304/304\u001b[0m \u001b[32m━━━━━━━━━━━━━━━━━━━━\u001b[0m\u001b[37m\u001b[0m \u001b[1m0s\u001b[0m 165ms/step - accuracy: 0.9889 - loss: 0.0362\n",
      "Epoch 56: val_accuracy did not improve from 0.99094\n",
      "\u001b[1m304/304\u001b[0m \u001b[32m━━━━━━━━━━━━━━━━━━━━\u001b[0m\u001b[37m\u001b[0m \u001b[1m54s\u001b[0m 177ms/step - accuracy: 0.9889 - loss: 0.0363 - val_accuracy: 0.9048 - val_loss: 0.4165\n",
      "Epoch 57/200\n",
      "\u001b[1m304/304\u001b[0m \u001b[32m━━━━━━━━━━━━━━━━━━━━\u001b[0m\u001b[37m\u001b[0m \u001b[1m0s\u001b[0m 155ms/step - accuracy: 0.9678 - loss: 0.1188\n",
      "Epoch 57: val_accuracy did not improve from 0.99094\n",
      "\u001b[1m304/304\u001b[0m \u001b[32m━━━━━━━━━━━━━━━━━━━━\u001b[0m\u001b[37m\u001b[0m \u001b[1m51s\u001b[0m 167ms/step - accuracy: 0.9679 - loss: 0.1186 - val_accuracy: 0.9782 - val_loss: 0.0527\n",
      "Epoch 58/200\n",
      "\u001b[1m304/304\u001b[0m \u001b[32m━━━━━━━━━━━━━━━━━━━━\u001b[0m\u001b[37m\u001b[0m \u001b[1m0s\u001b[0m 168ms/step - accuracy: 0.9917 - loss: 0.0226\n",
      "Epoch 58: val_accuracy did not improve from 0.99094\n",
      "\u001b[1m304/304\u001b[0m \u001b[32m━━━━━━━━━━━━━━━━━━━━\u001b[0m\u001b[37m\u001b[0m \u001b[1m55s\u001b[0m 181ms/step - accuracy: 0.9917 - loss: 0.0226 - val_accuracy: 0.9881 - val_loss: 0.0280\n",
      "Epoch 59/200\n",
      "\u001b[1m304/304\u001b[0m \u001b[32m━━━━━━━━━━━━━━━━━━━━\u001b[0m\u001b[37m\u001b[0m \u001b[1m0s\u001b[0m 158ms/step - accuracy: 0.9926 - loss: 0.0185\n",
      "Epoch 59: val_accuracy did not improve from 0.99094\n",
      "\u001b[1m304/304\u001b[0m \u001b[32m━━━━━━━━━━━━━━━━━━━━\u001b[0m\u001b[37m\u001b[0m \u001b[1m52s\u001b[0m 169ms/step - accuracy: 0.9926 - loss: 0.0185 - val_accuracy: 0.9876 - val_loss: 0.0376\n",
      "Epoch 60/200\n",
      "\u001b[1m304/304\u001b[0m \u001b[32m━━━━━━━━━━━━━━━━━━━━\u001b[0m\u001b[37m\u001b[0m \u001b[1m0s\u001b[0m 165ms/step - accuracy: 0.9943 - loss: 0.0144\n",
      "Epoch 60: val_accuracy did not improve from 0.99094\n",
      "\u001b[1m304/304\u001b[0m \u001b[32m━━━━━━━━━━━━━━━━━━━━\u001b[0m\u001b[37m\u001b[0m \u001b[1m54s\u001b[0m 177ms/step - accuracy: 0.9943 - loss: 0.0144 - val_accuracy: 0.9852 - val_loss: 0.0443\n",
      "Epoch 61/200\n",
      "\u001b[1m304/304\u001b[0m \u001b[32m━━━━━━━━━━━━━━━━━━━━\u001b[0m\u001b[37m\u001b[0m \u001b[1m0s\u001b[0m 170ms/step - accuracy: 0.9957 - loss: 0.0109\n",
      "Epoch 61: val_accuracy did not improve from 0.99094\n",
      "\u001b[1m304/304\u001b[0m \u001b[32m━━━━━━━━━━━━━━━━━━━━\u001b[0m\u001b[37m\u001b[0m \u001b[1m55s\u001b[0m 182ms/step - accuracy: 0.9957 - loss: 0.0109 - val_accuracy: 0.9872 - val_loss: 0.0428\n",
      "Epoch 62/200\n",
      "\u001b[1m304/304\u001b[0m \u001b[32m━━━━━━━━━━━━━━━━━━━━\u001b[0m\u001b[37m\u001b[0m \u001b[1m0s\u001b[0m 171ms/step - accuracy: 0.9972 - loss: 0.0089\n",
      "Epoch 62: val_accuracy did not improve from 0.99094\n",
      "\u001b[1m304/304\u001b[0m \u001b[32m━━━━━━━━━━━━━━━━━━━━\u001b[0m\u001b[37m\u001b[0m \u001b[1m56s\u001b[0m 183ms/step - accuracy: 0.9972 - loss: 0.0089 - val_accuracy: 0.9761 - val_loss: 0.0789\n",
      "Epoch 63/200\n",
      "\u001b[1m304/304\u001b[0m \u001b[32m━━━━━━━━━━━━━━━━━━━━\u001b[0m\u001b[37m\u001b[0m \u001b[1m0s\u001b[0m 166ms/step - accuracy: 0.9931 - loss: 0.0228\n",
      "Epoch 63: val_accuracy did not improve from 0.99094\n",
      "\u001b[1m304/304\u001b[0m \u001b[32m━━━━━━━━━━━━━━━━━━━━\u001b[0m\u001b[37m\u001b[0m \u001b[1m54s\u001b[0m 178ms/step - accuracy: 0.9931 - loss: 0.0228 - val_accuracy: 0.9860 - val_loss: 0.0420\n",
      "Epoch 64/200\n",
      "\u001b[1m304/304\u001b[0m \u001b[32m━━━━━━━━━━━━━━━━━━━━\u001b[0m\u001b[37m\u001b[0m \u001b[1m0s\u001b[0m 166ms/step - accuracy: 0.9930 - loss: 0.0234\n",
      "Epoch 64: val_accuracy did not improve from 0.99094\n",
      "\u001b[1m304/304\u001b[0m \u001b[32m━━━━━━━━━━━━━━━━━━━━\u001b[0m\u001b[37m\u001b[0m \u001b[1m54s\u001b[0m 179ms/step - accuracy: 0.9930 - loss: 0.0234 - val_accuracy: 0.9885 - val_loss: 0.0399\n",
      "Epoch 65/200\n",
      "\u001b[1m304/304\u001b[0m \u001b[32m━━━━━━━━━━━━━━━━━━━━\u001b[0m\u001b[37m\u001b[0m \u001b[1m0s\u001b[0m 168ms/step - accuracy: 0.9906 - loss: 0.0318\n",
      "Epoch 65: val_accuracy did not improve from 0.99094\n",
      "\u001b[1m304/304\u001b[0m \u001b[32m━━━━━━━━━━━━━━━━━━━━\u001b[0m\u001b[37m\u001b[0m \u001b[1m55s\u001b[0m 180ms/step - accuracy: 0.9906 - loss: 0.0319 - val_accuracy: 0.9749 - val_loss: 0.1065\n",
      "Epoch 66/200\n",
      "\u001b[1m304/304\u001b[0m \u001b[32m━━━━━━━━━━━━━━━━━━━━\u001b[0m\u001b[37m\u001b[0m \u001b[1m0s\u001b[0m 168ms/step - accuracy: 0.9918 - loss: 0.0301\n",
      "Epoch 66: val_accuracy did not improve from 0.99094\n",
      "\u001b[1m304/304\u001b[0m \u001b[32m━━━━━━━━━━━━━━━━━━━━\u001b[0m\u001b[37m\u001b[0m \u001b[1m55s\u001b[0m 181ms/step - accuracy: 0.9918 - loss: 0.0301 - val_accuracy: 0.9905 - val_loss: 0.0303\n",
      "Epoch 67/200\n",
      "\u001b[1m304/304\u001b[0m \u001b[32m━━━━━━━━━━━━━━━━━━━━\u001b[0m\u001b[37m\u001b[0m \u001b[1m0s\u001b[0m 169ms/step - accuracy: 0.9949 - loss: 0.0135\n",
      "Epoch 67: val_accuracy improved from 0.99094 to 0.99217, saving model to CNN2D_results/Scalogram_Spectrogram/best_model_4.h5\n"
     ]
    },
    {
     "name": "stderr",
     "output_type": "stream",
     "text": [
      "WARNING:absl:You are saving your model as an HDF5 file via `model.save()` or `keras.saving.save_model(model)`. This file format is considered legacy. We recommend using instead the native Keras format, e.g. `model.save('my_model.keras')` or `keras.saving.save_model(model, 'my_model.keras')`. \n"
     ]
    },
    {
     "name": "stdout",
     "output_type": "stream",
     "text": [
      "\u001b[1m304/304\u001b[0m \u001b[32m━━━━━━━━━━━━━━━━━━━━\u001b[0m\u001b[37m\u001b[0m \u001b[1m55s\u001b[0m 181ms/step - accuracy: 0.9949 - loss: 0.0135 - val_accuracy: 0.9922 - val_loss: 0.0301\n",
      "Epoch 68/200\n",
      "\u001b[1m304/304\u001b[0m \u001b[32m━━━━━━━━━━━━━━━━━━━━\u001b[0m\u001b[37m\u001b[0m \u001b[1m0s\u001b[0m 160ms/step - accuracy: 0.9969 - loss: 0.0076\n",
      "Epoch 68: val_accuracy improved from 0.99217 to 0.99258, saving model to CNN2D_results/Scalogram_Spectrogram/best_model_4.h5\n"
     ]
    },
    {
     "name": "stderr",
     "output_type": "stream",
     "text": [
      "WARNING:absl:You are saving your model as an HDF5 file via `model.save()` or `keras.saving.save_model(model)`. This file format is considered legacy. We recommend using instead the native Keras format, e.g. `model.save('my_model.keras')` or `keras.saving.save_model(model, 'my_model.keras')`. \n"
     ]
    },
    {
     "name": "stdout",
     "output_type": "stream",
     "text": [
      "\u001b[1m304/304\u001b[0m \u001b[32m━━━━━━━━━━━━━━━━━━━━\u001b[0m\u001b[37m\u001b[0m \u001b[1m55s\u001b[0m 179ms/step - accuracy: 0.9969 - loss: 0.0076 - val_accuracy: 0.9926 - val_loss: 0.0308\n",
      "Epoch 69/200\n",
      "\u001b[1m304/304\u001b[0m \u001b[32m━━━━━━━━━━━━━━━━━━━━\u001b[0m\u001b[37m\u001b[0m \u001b[1m0s\u001b[0m 171ms/step - accuracy: 0.9981 - loss: 0.0063\n",
      "Epoch 69: val_accuracy did not improve from 0.99258\n",
      "\u001b[1m304/304\u001b[0m \u001b[32m━━━━━━━━━━━━━━━━━━━━\u001b[0m\u001b[37m\u001b[0m \u001b[1m56s\u001b[0m 183ms/step - accuracy: 0.9981 - loss: 0.0063 - val_accuracy: 0.9839 - val_loss: 0.0471\n",
      "Epoch 70/200\n",
      "\u001b[1m304/304\u001b[0m \u001b[32m━━━━━━━━━━━━━━━━━━━━\u001b[0m\u001b[37m\u001b[0m \u001b[1m0s\u001b[0m 158ms/step - accuracy: 0.9954 - loss: 0.0173\n",
      "Epoch 70: val_accuracy did not improve from 0.99258\n",
      "\u001b[1m304/304\u001b[0m \u001b[32m━━━━━━━━━━━━━━━━━━━━\u001b[0m\u001b[37m\u001b[0m \u001b[1m52s\u001b[0m 170ms/step - accuracy: 0.9954 - loss: 0.0173 - val_accuracy: 0.9691 - val_loss: 0.1217\n",
      "Epoch 71/200\n",
      "\u001b[1m304/304\u001b[0m \u001b[32m━━━━━━━━━━━━━━━━━━━━\u001b[0m\u001b[37m\u001b[0m \u001b[1m0s\u001b[0m 183ms/step - accuracy: 0.9936 - loss: 0.0222\n",
      "Epoch 71: val_accuracy did not improve from 0.99258\n",
      "\u001b[1m304/304\u001b[0m \u001b[32m━━━━━━━━━━━━━━━━━━━━\u001b[0m\u001b[37m\u001b[0m \u001b[1m59s\u001b[0m 195ms/step - accuracy: 0.9936 - loss: 0.0221 - val_accuracy: 0.9881 - val_loss: 0.0444\n",
      "Epoch 72/200\n",
      "\u001b[1m304/304\u001b[0m \u001b[32m━━━━━━━━━━━━━━━━━━━━\u001b[0m\u001b[37m\u001b[0m \u001b[1m0s\u001b[0m 166ms/step - accuracy: 0.9962 - loss: 0.0141\n",
      "Epoch 72: val_accuracy did not improve from 0.99258\n",
      "\u001b[1m304/304\u001b[0m \u001b[32m━━━━━━━━━━━━━━━━━━━━\u001b[0m\u001b[37m\u001b[0m \u001b[1m54s\u001b[0m 178ms/step - accuracy: 0.9962 - loss: 0.0141 - val_accuracy: 0.9835 - val_loss: 0.0443\n",
      "Epoch 73/200\n",
      "\u001b[1m304/304\u001b[0m \u001b[32m━━━━━━━━━━━━━━━━━━━━\u001b[0m\u001b[37m\u001b[0m \u001b[1m0s\u001b[0m 161ms/step - accuracy: 0.9956 - loss: 0.0129\n",
      "Epoch 73: val_accuracy did not improve from 0.99258\n",
      "\u001b[1m304/304\u001b[0m \u001b[32m━━━━━━━━━━━━━━━━━━━━\u001b[0m\u001b[37m\u001b[0m \u001b[1m52s\u001b[0m 173ms/step - accuracy: 0.9956 - loss: 0.0129 - val_accuracy: 0.9852 - val_loss: 0.0433\n",
      "Epoch 74/200\n",
      "\u001b[1m304/304\u001b[0m \u001b[32m━━━━━━━━━━━━━━━━━━━━\u001b[0m\u001b[37m\u001b[0m \u001b[1m0s\u001b[0m 163ms/step - accuracy: 0.9949 - loss: 0.0222\n",
      "Epoch 74: val_accuracy did not improve from 0.99258\n",
      "\u001b[1m304/304\u001b[0m \u001b[32m━━━━━━━━━━━━━━━━━━━━\u001b[0m\u001b[37m\u001b[0m \u001b[1m53s\u001b[0m 175ms/step - accuracy: 0.9949 - loss: 0.0223 - val_accuracy: 0.9868 - val_loss: 0.0532\n",
      "Epoch 75/200\n",
      "\u001b[1m304/304\u001b[0m \u001b[32m━━━━━━━━━━━━━━━━━━━━\u001b[0m\u001b[37m\u001b[0m \u001b[1m0s\u001b[0m 167ms/step - accuracy: 0.9884 - loss: 0.0438\n",
      "Epoch 75: val_accuracy did not improve from 0.99258\n",
      "\u001b[1m304/304\u001b[0m \u001b[32m━━━━━━━━━━━━━━━━━━━━\u001b[0m\u001b[37m\u001b[0m \u001b[1m54s\u001b[0m 179ms/step - accuracy: 0.9884 - loss: 0.0437 - val_accuracy: 0.9885 - val_loss: 0.0301\n",
      "Epoch 76/200\n",
      "\u001b[1m304/304\u001b[0m \u001b[32m━━━━━━━━━━━━━━━━━━━━\u001b[0m\u001b[37m\u001b[0m \u001b[1m0s\u001b[0m 163ms/step - accuracy: 0.9965 - loss: 0.0192\n",
      "Epoch 76: val_accuracy did not improve from 0.99258\n",
      "\u001b[1m304/304\u001b[0m \u001b[32m━━━━━━━━━━━━━━━━━━━━\u001b[0m\u001b[37m\u001b[0m \u001b[1m80s\u001b[0m 174ms/step - accuracy: 0.9965 - loss: 0.0192 - val_accuracy: 0.9835 - val_loss: 0.0465\n",
      "Epoch 77/200\n",
      "\u001b[1m304/304\u001b[0m \u001b[32m━━━━━━━━━━━━━━━━━━━━\u001b[0m\u001b[37m\u001b[0m \u001b[1m0s\u001b[0m 158ms/step - accuracy: 0.9951 - loss: 0.0137\n",
      "Epoch 77: val_accuracy did not improve from 0.99258\n",
      "\u001b[1m304/304\u001b[0m \u001b[32m━━━━━━━━━━━━━━━━━━━━\u001b[0m\u001b[37m\u001b[0m \u001b[1m51s\u001b[0m 169ms/step - accuracy: 0.9951 - loss: 0.0137 - val_accuracy: 0.9778 - val_loss: 0.1187\n",
      "Epoch 78/200\n",
      "\u001b[1m304/304\u001b[0m \u001b[32m━━━━━━━━━━━━━━━━━━━━\u001b[0m\u001b[37m\u001b[0m \u001b[1m0s\u001b[0m 155ms/step - accuracy: 0.9939 - loss: 0.0191\n",
      "Epoch 78: val_accuracy did not improve from 0.99258\n",
      "\u001b[1m304/304\u001b[0m \u001b[32m━━━━━━━━━━━━━━━━━━━━\u001b[0m\u001b[37m\u001b[0m \u001b[1m51s\u001b[0m 167ms/step - accuracy: 0.9939 - loss: 0.0190 - val_accuracy: 0.9876 - val_loss: 0.0379\n",
      "Epoch 79/200\n",
      "\u001b[1m304/304\u001b[0m \u001b[32m━━━━━━━━━━━━━━━━━━━━\u001b[0m\u001b[37m\u001b[0m \u001b[1m0s\u001b[0m 152ms/step - accuracy: 0.9961 - loss: 0.0149\n",
      "Epoch 79: val_accuracy did not improve from 0.99258\n",
      "\u001b[1m304/304\u001b[0m \u001b[32m━━━━━━━━━━━━━━━━━━━━\u001b[0m\u001b[37m\u001b[0m \u001b[1m50s\u001b[0m 163ms/step - accuracy: 0.9961 - loss: 0.0149 - val_accuracy: 0.9864 - val_loss: 0.0435\n",
      "Epoch 80/200\n",
      "\u001b[1m304/304\u001b[0m \u001b[32m━━━━━━━━━━━━━━━━━━━━\u001b[0m\u001b[37m\u001b[0m \u001b[1m0s\u001b[0m 151ms/step - accuracy: 0.9984 - loss: 0.0051\n",
      "Epoch 80: val_accuracy did not improve from 0.99258\n",
      "\u001b[1m304/304\u001b[0m \u001b[32m━━━━━━━━━━━━━━━━━━━━\u001b[0m\u001b[37m\u001b[0m \u001b[1m49s\u001b[0m 162ms/step - accuracy: 0.9984 - loss: 0.0051 - val_accuracy: 0.9872 - val_loss: 0.0320\n",
      "Epoch 81/200\n",
      "\u001b[1m304/304\u001b[0m \u001b[32m━━━━━━━━━━━━━━━━━━━━\u001b[0m\u001b[37m\u001b[0m \u001b[1m0s\u001b[0m 165ms/step - accuracy: 0.9970 - loss: 0.0108\n",
      "Epoch 81: val_accuracy did not improve from 0.99258\n",
      "\u001b[1m304/304\u001b[0m \u001b[32m━━━━━━━━━━━━━━━━━━━━\u001b[0m\u001b[37m\u001b[0m \u001b[1m54s\u001b[0m 177ms/step - accuracy: 0.9970 - loss: 0.0109 - val_accuracy: 0.9794 - val_loss: 0.0576\n",
      "Epoch 82/200\n",
      "\u001b[1m304/304\u001b[0m \u001b[32m━━━━━━━━━━━━━━━━━━━━\u001b[0m\u001b[37m\u001b[0m \u001b[1m0s\u001b[0m 170ms/step - accuracy: 0.9897 - loss: 0.0406\n",
      "Epoch 82: val_accuracy did not improve from 0.99258\n",
      "\u001b[1m304/304\u001b[0m \u001b[32m━━━━━━━━━━━━━━━━━━━━\u001b[0m\u001b[37m\u001b[0m \u001b[1m55s\u001b[0m 181ms/step - accuracy: 0.9897 - loss: 0.0405 - val_accuracy: 0.9876 - val_loss: 0.0428\n",
      "Epoch 83/200\n",
      "\u001b[1m304/304\u001b[0m \u001b[32m━━━━━━━━━━━━━━━━━━━━\u001b[0m\u001b[37m\u001b[0m \u001b[1m0s\u001b[0m 164ms/step - accuracy: 0.9961 - loss: 0.0134\n",
      "Epoch 83: val_accuracy did not improve from 0.99258\n",
      "\u001b[1m304/304\u001b[0m \u001b[32m━━━━━━━━━━━━━━━━━━━━\u001b[0m\u001b[37m\u001b[0m \u001b[1m53s\u001b[0m 175ms/step - accuracy: 0.9961 - loss: 0.0134 - val_accuracy: 0.9905 - val_loss: 0.0489\n",
      "Epoch 84/200\n",
      "\u001b[1m304/304\u001b[0m \u001b[32m━━━━━━━━━━━━━━━━━━━━\u001b[0m\u001b[37m\u001b[0m \u001b[1m0s\u001b[0m 161ms/step - accuracy: 0.9995 - loss: 0.0030\n",
      "Epoch 84: val_accuracy did not improve from 0.99258\n",
      "\u001b[1m304/304\u001b[0m \u001b[32m━━━━━━━━━━━━━━━━━━━━\u001b[0m\u001b[37m\u001b[0m \u001b[1m53s\u001b[0m 173ms/step - accuracy: 0.9995 - loss: 0.0031 - val_accuracy: 0.9778 - val_loss: 0.0662\n",
      "Epoch 85/200\n",
      "\u001b[1m304/304\u001b[0m \u001b[32m━━━━━━━━━━━━━━━━━━━━\u001b[0m\u001b[37m\u001b[0m \u001b[1m0s\u001b[0m 171ms/step - accuracy: 0.9934 - loss: 0.0210\n",
      "Epoch 85: val_accuracy did not improve from 0.99258\n",
      "\u001b[1m304/304\u001b[0m \u001b[32m━━━━━━━━━━━━━━━━━━━━\u001b[0m\u001b[37m\u001b[0m \u001b[1m56s\u001b[0m 184ms/step - accuracy: 0.9934 - loss: 0.0209 - val_accuracy: 0.9889 - val_loss: 0.0580\n",
      "Epoch 86/200\n",
      "\u001b[1m304/304\u001b[0m \u001b[32m━━━━━━━━━━━━━━━━━━━━\u001b[0m\u001b[37m\u001b[0m \u001b[1m0s\u001b[0m 154ms/step - accuracy: 0.9979 - loss: 0.0055\n",
      "Epoch 86: val_accuracy did not improve from 0.99258\n",
      "\u001b[1m304/304\u001b[0m \u001b[32m━━━━━━━━━━━━━━━━━━━━\u001b[0m\u001b[37m\u001b[0m \u001b[1m50s\u001b[0m 166ms/step - accuracy: 0.9979 - loss: 0.0055 - val_accuracy: 0.9848 - val_loss: 0.0643\n",
      "Epoch 87/200\n",
      "\u001b[1m304/304\u001b[0m \u001b[32m━━━━━━━━━━━━━━━━━━━━\u001b[0m\u001b[37m\u001b[0m \u001b[1m0s\u001b[0m 160ms/step - accuracy: 0.9940 - loss: 0.0263\n",
      "Epoch 87: val_accuracy did not improve from 0.99258\n",
      "\u001b[1m304/304\u001b[0m \u001b[32m━━━━━━━━━━━━━━━━━━━━\u001b[0m\u001b[37m\u001b[0m \u001b[1m52s\u001b[0m 171ms/step - accuracy: 0.9940 - loss: 0.0262 - val_accuracy: 0.9827 - val_loss: 0.0864\n",
      "Epoch 88/200\n",
      "\u001b[1m304/304\u001b[0m \u001b[32m━━━━━━━━━━━━━━━━━━━━\u001b[0m\u001b[37m\u001b[0m \u001b[1m0s\u001b[0m 154ms/step - accuracy: 0.9930 - loss: 0.0218\n",
      "Epoch 88: val_accuracy did not improve from 0.99258\n",
      "\u001b[1m304/304\u001b[0m \u001b[32m━━━━━━━━━━━━━━━━━━━━\u001b[0m\u001b[37m\u001b[0m \u001b[1m50s\u001b[0m 165ms/step - accuracy: 0.9930 - loss: 0.0218 - val_accuracy: 0.9885 - val_loss: 0.0404\n",
      "Epoch 89/200\n",
      "\u001b[1m304/304\u001b[0m \u001b[32m━━━━━━━━━━━━━━━━━━━━\u001b[0m\u001b[37m\u001b[0m \u001b[1m0s\u001b[0m 181ms/step - accuracy: 0.9965 - loss: 0.0112\n",
      "Epoch 89: val_accuracy did not improve from 0.99258\n",
      "\u001b[1m304/304\u001b[0m \u001b[32m━━━━━━━━━━━━━━━━━━━━\u001b[0m\u001b[37m\u001b[0m \u001b[1m59s\u001b[0m 193ms/step - accuracy: 0.9965 - loss: 0.0112 - val_accuracy: 0.9872 - val_loss: 0.0457\n",
      "Epoch 90/200\n",
      "\u001b[1m304/304\u001b[0m \u001b[32m━━━━━━━━━━━━━━━━━━━━\u001b[0m\u001b[37m\u001b[0m \u001b[1m0s\u001b[0m 155ms/step - accuracy: 0.9967 - loss: 0.0135\n",
      "Epoch 90: val_accuracy did not improve from 0.99258\n",
      "\u001b[1m304/304\u001b[0m \u001b[32m━━━━━━━━━━━━━━━━━━━━\u001b[0m\u001b[37m\u001b[0m \u001b[1m51s\u001b[0m 166ms/step - accuracy: 0.9967 - loss: 0.0135 - val_accuracy: 0.9897 - val_loss: 0.0336\n",
      "Epoch 91/200\n",
      "\u001b[1m304/304\u001b[0m \u001b[32m━━━━━━━━━━━━━━━━━━━━\u001b[0m\u001b[37m\u001b[0m \u001b[1m0s\u001b[0m 156ms/step - accuracy: 0.9985 - loss: 0.0053\n",
      "Epoch 91: val_accuracy did not improve from 0.99258\n",
      "\u001b[1m304/304\u001b[0m \u001b[32m━━━━━━━━━━━━━━━━━━━━\u001b[0m\u001b[37m\u001b[0m \u001b[1m51s\u001b[0m 168ms/step - accuracy: 0.9985 - loss: 0.0053 - val_accuracy: 0.9860 - val_loss: 0.0514\n",
      "Epoch 92/200\n",
      "\u001b[1m304/304\u001b[0m \u001b[32m━━━━━━━━━━━━━━━━━━━━\u001b[0m\u001b[37m\u001b[0m \u001b[1m0s\u001b[0m 152ms/step - accuracy: 0.9977 - loss: 0.0081\n",
      "Epoch 92: val_accuracy did not improve from 0.99258\n",
      "\u001b[1m304/304\u001b[0m \u001b[32m━━━━━━━━━━━━━━━━━━━━\u001b[0m\u001b[37m\u001b[0m \u001b[1m50s\u001b[0m 164ms/step - accuracy: 0.9977 - loss: 0.0081 - val_accuracy: 0.9909 - val_loss: 0.0346\n",
      "Epoch 93/200\n",
      "\u001b[1m304/304\u001b[0m \u001b[32m━━━━━━━━━━━━━━━━━━━━\u001b[0m\u001b[37m\u001b[0m \u001b[1m0s\u001b[0m 163ms/step - accuracy: 0.9949 - loss: 0.0250\n",
      "Epoch 93: val_accuracy did not improve from 0.99258\n",
      "\u001b[1m304/304\u001b[0m \u001b[32m━━━━━━━━━━━━━━━━━━━━\u001b[0m\u001b[37m\u001b[0m \u001b[1m53s\u001b[0m 175ms/step - accuracy: 0.9949 - loss: 0.0251 - val_accuracy: 0.9815 - val_loss: 0.0445\n",
      "Epoch 94/200\n",
      "\u001b[1m304/304\u001b[0m \u001b[32m━━━━━━━━━━━━━━━━━━━━\u001b[0m\u001b[37m\u001b[0m \u001b[1m0s\u001b[0m 156ms/step - accuracy: 0.9959 - loss: 0.0110\n",
      "Epoch 94: val_accuracy did not improve from 0.99258\n",
      "\u001b[1m304/304\u001b[0m \u001b[32m━━━━━━━━━━━━━━━━━━━━\u001b[0m\u001b[37m\u001b[0m \u001b[1m51s\u001b[0m 168ms/step - accuracy: 0.9959 - loss: 0.0110 - val_accuracy: 0.9815 - val_loss: 0.0449\n",
      "Epoch 95/200\n",
      "\u001b[1m304/304\u001b[0m \u001b[32m━━━━━━━━━━━━━━━━━━━━\u001b[0m\u001b[37m\u001b[0m \u001b[1m0s\u001b[0m 160ms/step - accuracy: 0.9974 - loss: 0.0083\n",
      "Epoch 95: val_accuracy did not improve from 0.99258\n",
      "\u001b[1m304/304\u001b[0m \u001b[32m━━━━━━━━━━━━━━━━━━━━\u001b[0m\u001b[37m\u001b[0m \u001b[1m52s\u001b[0m 171ms/step - accuracy: 0.9974 - loss: 0.0083 - val_accuracy: 0.9913 - val_loss: 0.0313\n",
      "Epoch 96/200\n",
      "\u001b[1m304/304\u001b[0m \u001b[32m━━━━━━━━━━━━━━━━━━━━\u001b[0m\u001b[37m\u001b[0m \u001b[1m0s\u001b[0m 168ms/step - accuracy: 0.9982 - loss: 0.0074\n",
      "Epoch 96: val_accuracy did not improve from 0.99258\n",
      "\u001b[1m304/304\u001b[0m \u001b[32m━━━━━━━━━━━━━━━━━━━━\u001b[0m\u001b[37m\u001b[0m \u001b[1m55s\u001b[0m 181ms/step - accuracy: 0.9982 - loss: 0.0074 - val_accuracy: 0.9901 - val_loss: 0.0265\n",
      "Epoch 97/200\n",
      "\u001b[1m304/304\u001b[0m \u001b[32m━━━━━━━━━━━━━━━━━━━━\u001b[0m\u001b[37m\u001b[0m \u001b[1m0s\u001b[0m 167ms/step - accuracy: 0.9977 - loss: 0.0089\n",
      "Epoch 97: val_accuracy did not improve from 0.99258\n",
      "\u001b[1m304/304\u001b[0m \u001b[32m━━━━━━━━━━━━━━━━━━━━\u001b[0m\u001b[37m\u001b[0m \u001b[1m55s\u001b[0m 180ms/step - accuracy: 0.9977 - loss: 0.0089 - val_accuracy: 0.9901 - val_loss: 0.0325\n",
      "Epoch 98/200\n",
      "\u001b[1m304/304\u001b[0m \u001b[32m━━━━━━━━━━━━━━━━━━━━\u001b[0m\u001b[37m\u001b[0m \u001b[1m0s\u001b[0m 177ms/step - accuracy: 0.9958 - loss: 0.0139\n",
      "Epoch 98: val_accuracy did not improve from 0.99258\n",
      "\u001b[1m304/304\u001b[0m \u001b[32m━━━━━━━━━━━━━━━━━━━━\u001b[0m\u001b[37m\u001b[0m \u001b[1m58s\u001b[0m 192ms/step - accuracy: 0.9958 - loss: 0.0139 - val_accuracy: 0.9897 - val_loss: 0.0366\n",
      "Epoch 99/200\n",
      "\u001b[1m304/304\u001b[0m \u001b[32m━━━━━━━━━━━━━━━━━━━━\u001b[0m\u001b[37m\u001b[0m \u001b[1m0s\u001b[0m 178ms/step - accuracy: 0.9969 - loss: 0.0111\n",
      "Epoch 99: val_accuracy did not improve from 0.99258\n",
      "\u001b[1m304/304\u001b[0m \u001b[32m━━━━━━━━━━━━━━━━━━━━\u001b[0m\u001b[37m\u001b[0m \u001b[1m58s\u001b[0m 192ms/step - accuracy: 0.9969 - loss: 0.0111 - val_accuracy: 0.9897 - val_loss: 0.0347\n",
      "Epoch 100/200\n",
      "\u001b[1m304/304\u001b[0m \u001b[32m━━━━━━━━━━━━━━━━━━━━\u001b[0m\u001b[37m\u001b[0m \u001b[1m0s\u001b[0m 171ms/step - accuracy: 0.9983 - loss: 0.0040\n",
      "Epoch 100: val_accuracy did not improve from 0.99258\n",
      "\u001b[1m304/304\u001b[0m \u001b[32m━━━━━━━━━━━━━━━━━━━━\u001b[0m\u001b[37m\u001b[0m \u001b[1m56s\u001b[0m 183ms/step - accuracy: 0.9983 - loss: 0.0040 - val_accuracy: 0.9864 - val_loss: 0.0512\n",
      "Epoch 101/200\n",
      "\u001b[1m304/304\u001b[0m \u001b[32m━━━━━━━━━━━━━━━━━━━━\u001b[0m\u001b[37m\u001b[0m \u001b[1m0s\u001b[0m 164ms/step - accuracy: 0.9963 - loss: 0.0203\n",
      "Epoch 101: val_accuracy did not improve from 0.99258\n",
      "\u001b[1m304/304\u001b[0m \u001b[32m━━━━━━━━━━━━━━━━━━━━\u001b[0m\u001b[37m\u001b[0m \u001b[1m53s\u001b[0m 176ms/step - accuracy: 0.9963 - loss: 0.0203 - val_accuracy: 0.9881 - val_loss: 0.0413\n",
      "Epoch 102/200\n",
      "\u001b[1m304/304\u001b[0m \u001b[32m━━━━━━━━━━━━━━━━━━━━\u001b[0m\u001b[37m\u001b[0m \u001b[1m0s\u001b[0m 165ms/step - accuracy: 0.9972 - loss: 0.0093\n",
      "Epoch 102: val_accuracy did not improve from 0.99258\n",
      "\u001b[1m304/304\u001b[0m \u001b[32m━━━━━━━━━━━━━━━━━━━━\u001b[0m\u001b[37m\u001b[0m \u001b[1m54s\u001b[0m 177ms/step - accuracy: 0.9972 - loss: 0.0093 - val_accuracy: 0.9885 - val_loss: 0.0415\n",
      "Epoch 103/200\n",
      "\u001b[1m304/304\u001b[0m \u001b[32m━━━━━━━━━━━━━━━━━━━━\u001b[0m\u001b[37m\u001b[0m \u001b[1m0s\u001b[0m 160ms/step - accuracy: 0.9922 - loss: 0.0366\n",
      "Epoch 103: val_accuracy did not improve from 0.99258\n",
      "\u001b[1m304/304\u001b[0m \u001b[32m━━━━━━━━━━━━━━━━━━━━\u001b[0m\u001b[37m\u001b[0m \u001b[1m52s\u001b[0m 172ms/step - accuracy: 0.9922 - loss: 0.0365 - val_accuracy: 0.9905 - val_loss: 0.0298\n",
      "Epoch 104/200\n",
      "\u001b[1m304/304\u001b[0m \u001b[32m━━━━━━━━━━━━━━━━━━━━\u001b[0m\u001b[37m\u001b[0m \u001b[1m0s\u001b[0m 160ms/step - accuracy: 1.0000 - loss: 0.0011\n",
      "Epoch 104: val_accuracy did not improve from 0.99258\n",
      "\u001b[1m304/304\u001b[0m \u001b[32m━━━━━━━━━━━━━━━━━━━━\u001b[0m\u001b[37m\u001b[0m \u001b[1m52s\u001b[0m 172ms/step - accuracy: 1.0000 - loss: 0.0011 - val_accuracy: 0.9913 - val_loss: 0.0354\n",
      "Epoch 105/200\n",
      "\u001b[1m304/304\u001b[0m \u001b[32m━━━━━━━━━━━━━━━━━━━━\u001b[0m\u001b[37m\u001b[0m \u001b[1m0s\u001b[0m 166ms/step - accuracy: 0.9994 - loss: 0.0018\n",
      "Epoch 105: val_accuracy did not improve from 0.99258\n",
      "\u001b[1m304/304\u001b[0m \u001b[32m━━━━━━━━━━━━━━━━━━━━\u001b[0m\u001b[37m\u001b[0m \u001b[1m54s\u001b[0m 179ms/step - accuracy: 0.9994 - loss: 0.0018 - val_accuracy: 0.9897 - val_loss: 0.0362\n",
      "Epoch 106/200\n",
      "\u001b[1m304/304\u001b[0m \u001b[32m━━━━━━━━━━━━━━━━━━━━\u001b[0m\u001b[37m\u001b[0m \u001b[1m0s\u001b[0m 163ms/step - accuracy: 0.9937 - loss: 0.0188\n",
      "Epoch 106: val_accuracy did not improve from 0.99258\n",
      "\u001b[1m304/304\u001b[0m \u001b[32m━━━━━━━━━━━━━━━━━━━━\u001b[0m\u001b[37m\u001b[0m \u001b[1m53s\u001b[0m 174ms/step - accuracy: 0.9937 - loss: 0.0189 - val_accuracy: 0.9691 - val_loss: 0.1251\n",
      "Epoch 107/200\n",
      "\u001b[1m304/304\u001b[0m \u001b[32m━━━━━━━━━━━━━━━━━━━━\u001b[0m\u001b[37m\u001b[0m \u001b[1m0s\u001b[0m 184ms/step - accuracy: 0.9716 - loss: 0.1439\n",
      "Epoch 107: val_accuracy did not improve from 0.99258\n",
      "\u001b[1m304/304\u001b[0m \u001b[32m━━━━━━━━━━━━━━━━━━━━\u001b[0m\u001b[37m\u001b[0m \u001b[1m60s\u001b[0m 196ms/step - accuracy: 0.9716 - loss: 0.1436 - val_accuracy: 0.9827 - val_loss: 0.0454\n",
      "Epoch 108/200\n",
      "\u001b[1m304/304\u001b[0m \u001b[32m━━━━━━━━━━━━━━━━━━━━\u001b[0m\u001b[37m\u001b[0m \u001b[1m0s\u001b[0m 161ms/step - accuracy: 0.9953 - loss: 0.0127\n",
      "Epoch 108: val_accuracy did not improve from 0.99258\n",
      "\u001b[1m304/304\u001b[0m \u001b[32m━━━━━━━━━━━━━━━━━━━━\u001b[0m\u001b[37m\u001b[0m \u001b[1m52s\u001b[0m 172ms/step - accuracy: 0.9953 - loss: 0.0127 - val_accuracy: 0.9885 - val_loss: 0.0515\n",
      "Epoch 109/200\n",
      "\u001b[1m304/304\u001b[0m \u001b[32m━━━━━━━━━━━━━━━━━━━━\u001b[0m\u001b[37m\u001b[0m \u001b[1m0s\u001b[0m 151ms/step - accuracy: 0.9980 - loss: 0.0054\n",
      "Epoch 109: val_accuracy did not improve from 0.99258\n",
      "\u001b[1m304/304\u001b[0m \u001b[32m━━━━━━━━━━━━━━━━━━━━\u001b[0m\u001b[37m\u001b[0m \u001b[1m49s\u001b[0m 163ms/step - accuracy: 0.9980 - loss: 0.0054 - val_accuracy: 0.9918 - val_loss: 0.0306\n",
      "Epoch 110/200\n",
      "\u001b[1m304/304\u001b[0m \u001b[32m━━━━━━━━━━━━━━━━━━━━\u001b[0m\u001b[37m\u001b[0m \u001b[1m0s\u001b[0m 153ms/step - accuracy: 0.9991 - loss: 0.0042\n",
      "Epoch 110: val_accuracy did not improve from 0.99258\n",
      "\u001b[1m304/304\u001b[0m \u001b[32m━━━━━━━━━━━━━━━━━━━━\u001b[0m\u001b[37m\u001b[0m \u001b[1m50s\u001b[0m 164ms/step - accuracy: 0.9991 - loss: 0.0042 - val_accuracy: 0.9901 - val_loss: 0.0325\n",
      "Epoch 111/200\n",
      "\u001b[1m304/304\u001b[0m \u001b[32m━━━━━━━━━━━━━━━━━━━━\u001b[0m\u001b[37m\u001b[0m \u001b[1m0s\u001b[0m 178ms/step - accuracy: 0.9994 - loss: 0.0029\n",
      "Epoch 111: val_accuracy did not improve from 0.99258\n",
      "\u001b[1m304/304\u001b[0m \u001b[32m━━━━━━━━━━━━━━━━━━━━\u001b[0m\u001b[37m\u001b[0m \u001b[1m58s\u001b[0m 190ms/step - accuracy: 0.9994 - loss: 0.0029 - val_accuracy: 0.9864 - val_loss: 0.0782\n",
      "Epoch 112/200\n",
      "\u001b[1m304/304\u001b[0m \u001b[32m━━━━━━━━━━━━━━━━━━━━\u001b[0m\u001b[37m\u001b[0m \u001b[1m0s\u001b[0m 156ms/step - accuracy: 0.9967 - loss: 0.0092\n",
      "Epoch 112: val_accuracy did not improve from 0.99258\n",
      "\u001b[1m304/304\u001b[0m \u001b[32m━━━━━━━━━━━━━━━━━━━━\u001b[0m\u001b[37m\u001b[0m \u001b[1m51s\u001b[0m 168ms/step - accuracy: 0.9967 - loss: 0.0092 - val_accuracy: 0.9897 - val_loss: 0.0454\n",
      "Epoch 113/200\n",
      "\u001b[1m304/304\u001b[0m \u001b[32m━━━━━━━━━━━━━━━━━━━━\u001b[0m\u001b[37m\u001b[0m \u001b[1m0s\u001b[0m 164ms/step - accuracy: 0.9991 - loss: 0.0036\n",
      "Epoch 113: val_accuracy did not improve from 0.99258\n",
      "\u001b[1m304/304\u001b[0m \u001b[32m━━━━━━━━━━━━━━━━━━━━\u001b[0m\u001b[37m\u001b[0m \u001b[1m53s\u001b[0m 175ms/step - accuracy: 0.9991 - loss: 0.0036 - val_accuracy: 0.9893 - val_loss: 0.0405\n",
      "Epoch 114/200\n",
      "\u001b[1m304/304\u001b[0m \u001b[32m━━━━━━━━━━━━━━━━━━━━\u001b[0m\u001b[37m\u001b[0m \u001b[1m0s\u001b[0m 174ms/step - accuracy: 0.9903 - loss: 0.0397\n",
      "Epoch 114: val_accuracy did not improve from 0.99258\n",
      "\u001b[1m304/304\u001b[0m \u001b[32m━━━━━━━━━━━━━━━━━━━━\u001b[0m\u001b[37m\u001b[0m \u001b[1m57s\u001b[0m 187ms/step - accuracy: 0.9903 - loss: 0.0397 - val_accuracy: 0.9885 - val_loss: 0.0371\n",
      "Epoch 115/200\n",
      "\u001b[1m304/304\u001b[0m \u001b[32m━━━━━━━━━━━━━━━━━━━━\u001b[0m\u001b[37m\u001b[0m \u001b[1m0s\u001b[0m 171ms/step - accuracy: 0.9974 - loss: 0.0065\n",
      "Epoch 115: val_accuracy did not improve from 0.99258\n",
      "\u001b[1m304/304\u001b[0m \u001b[32m━━━━━━━━━━━━━━━━━━━━\u001b[0m\u001b[37m\u001b[0m \u001b[1m55s\u001b[0m 182ms/step - accuracy: 0.9974 - loss: 0.0065 - val_accuracy: 0.9823 - val_loss: 0.1011\n",
      "Epoch 116/200\n",
      "\u001b[1m304/304\u001b[0m \u001b[32m━━━━━━━━━━━━━━━━━━━━\u001b[0m\u001b[37m\u001b[0m \u001b[1m0s\u001b[0m 154ms/step - accuracy: 0.9960 - loss: 0.0207\n",
      "Epoch 116: val_accuracy did not improve from 0.99258\n",
      "\u001b[1m304/304\u001b[0m \u001b[32m━━━━━━━━━━━━━━━━━━━━\u001b[0m\u001b[37m\u001b[0m \u001b[1m51s\u001b[0m 166ms/step - accuracy: 0.9960 - loss: 0.0207 - val_accuracy: 0.9843 - val_loss: 0.0521\n",
      "Epoch 117/200\n",
      "\u001b[1m304/304\u001b[0m \u001b[32m━━━━━━━━━━━━━━━━━━━━\u001b[0m\u001b[37m\u001b[0m \u001b[1m0s\u001b[0m 165ms/step - accuracy: 0.9927 - loss: 0.0331\n",
      "Epoch 117: val_accuracy did not improve from 0.99258\n",
      "\u001b[1m304/304\u001b[0m \u001b[32m━━━━━━━━━━━━━━━━━━━━\u001b[0m\u001b[37m\u001b[0m \u001b[1m54s\u001b[0m 177ms/step - accuracy: 0.9927 - loss: 0.0331 - val_accuracy: 0.9679 - val_loss: 0.1199\n",
      "Epoch 118/200\n",
      "\u001b[1m304/304\u001b[0m \u001b[32m━━━━━━━━━━━━━━━━━━━━\u001b[0m\u001b[37m\u001b[0m \u001b[1m0s\u001b[0m 175ms/step - accuracy: 0.9932 - loss: 0.0258\n",
      "Epoch 118: val_accuracy did not improve from 0.99258\n",
      "\u001b[1m304/304\u001b[0m \u001b[32m━━━━━━━━━━━━━━━━━━━━\u001b[0m\u001b[37m\u001b[0m \u001b[1m58s\u001b[0m 190ms/step - accuracy: 0.9932 - loss: 0.0258 - val_accuracy: 0.9881 - val_loss: 0.0421\n",
      "Best model saved at: CNN2D_results/Scalogram_Spectrogram/best_model_4.h5\n"
     ]
    },
    {
     "name": "stderr",
     "output_type": "stream",
     "text": [
      "WARNING:absl:Compiled the loaded model, but the compiled metrics have yet to be built. `model.compile_metrics` will be empty until you train or evaluate the model.\n"
     ]
    },
    {
     "name": "stdout",
     "output_type": "stream",
     "text": [
      "Best model loaded successfully!\n",
      "\u001b[1m 1/76\u001b[0m \u001b[37m━━━━━━━━━━━━━━━━━━━━\u001b[0m \u001b[1m11s\u001b[0m 152ms/step"
     ]
    },
    {
     "name": "stderr",
     "output_type": "stream",
     "text": [
      "2025-06-12 16:40:34.820819: E tensorflow/core/framework/node_def_util.cc:680] NodeDef mentions attribute use_unbounded_threadpool which is not in the op definition: Op<name=MapDataset; signature=input_dataset:variant, other_arguments: -> handle:variant; attr=f:func; attr=Targuments:list(type),min=0; attr=output_types:list(type),min=1; attr=output_shapes:list(shape),min=1; attr=use_inter_op_parallelism:bool,default=true; attr=preserve_cardinality:bool,default=false; attr=force_synchronous:bool,default=false; attr=metadata:string,default=\"\"> This may be expected if your graph generating binary is newer  than this binary. Unknown attributes will be ignored. NodeDef: {{node ParallelMapDatasetV2/_14}}\n",
      "2025-06-12 16:40:34.822481: E tensorflow/core/framework/node_def_util.cc:680] NodeDef mentions attribute use_unbounded_threadpool which is not in the op definition: Op<name=MapDataset; signature=input_dataset:variant, other_arguments: -> handle:variant; attr=f:func; attr=Targuments:list(type),min=0; attr=output_types:list(type),min=1; attr=output_shapes:list(shape),min=1; attr=use_inter_op_parallelism:bool,default=true; attr=preserve_cardinality:bool,default=false; attr=force_synchronous:bool,default=false; attr=metadata:string,default=\"\"> This may be expected if your graph generating binary is newer  than this binary. Unknown attributes will be ignored. NodeDef: {{node ParallelMapDatasetV2/_14}}\n"
     ]
    },
    {
     "name": "stdout",
     "output_type": "stream",
     "text": [
      "\u001b[1m76/76\u001b[0m \u001b[32m━━━━━━━━━━━━━━━━━━━━\u001b[0m\u001b[37m\u001b[0m \u001b[1m4s\u001b[0m 47ms/step\n",
      "\u001b[1m304/304\u001b[0m \u001b[32m━━━━━━━━━━━━━━━━━━━━\u001b[0m\u001b[37m\u001b[0m \u001b[1m14s\u001b[0m 47ms/step - accuracy: 0.9987 - loss: 0.0051\n",
      "\u001b[1m 3/76\u001b[0m \u001b[37m━━━━━━━━━━━━━━━━━━━━\u001b[0m \u001b[1m3s\u001b[0m 45ms/step - accuracy: 1.0000 - loss: 0.0033    "
     ]
    },
    {
     "name": "stderr",
     "output_type": "stream",
     "text": [
      "2025-06-12 16:40:53.206636: E tensorflow/core/framework/node_def_util.cc:680] NodeDef mentions attribute use_unbounded_threadpool which is not in the op definition: Op<name=MapDataset; signature=input_dataset:variant, other_arguments: -> handle:variant; attr=f:func; attr=Targuments:list(type),min=0; attr=output_types:list(type),min=1; attr=output_shapes:list(shape),min=1; attr=use_inter_op_parallelism:bool,default=true; attr=preserve_cardinality:bool,default=false; attr=force_synchronous:bool,default=false; attr=metadata:string,default=\"\"> This may be expected if your graph generating binary is newer  than this binary. Unknown attributes will be ignored. NodeDef: {{node ParallelMapDatasetV2/_15}}\n",
      "2025-06-12 16:40:53.206949: E tensorflow/core/framework/node_def_util.cc:680] NodeDef mentions attribute use_unbounded_threadpool which is not in the op definition: Op<name=MapDataset; signature=input_dataset:variant, other_arguments: -> handle:variant; attr=f:func; attr=Targuments:list(type),min=0; attr=output_types:list(type),min=1; attr=output_shapes:list(shape),min=1; attr=use_inter_op_parallelism:bool,default=true; attr=preserve_cardinality:bool,default=false; attr=force_synchronous:bool,default=false; attr=metadata:string,default=\"\"> This may be expected if your graph generating binary is newer  than this binary. Unknown attributes will be ignored. NodeDef: {{node ParallelMapDatasetV2/_15}}\n"
     ]
    },
    {
     "name": "stdout",
     "output_type": "stream",
     "text": [
      "\u001b[1m76/76\u001b[0m \u001b[32m━━━━━━━━━━━━━━━━━━━━\u001b[0m\u001b[37m\u001b[0m \u001b[1m4s\u001b[0m 46ms/step - accuracy: 0.9956 - loss: 0.0206\n",
      "\u001b[1m95/95\u001b[0m \u001b[32m━━━━━━━━━━━━━━━━━━━━\u001b[0m\u001b[37m\u001b[0m \u001b[1m4s\u001b[0m 46ms/step - accuracy: 0.9870 - loss: 0.0305\n",
      "Epoch 1/200\n"
     ]
    },
    {
     "name": "stderr",
     "output_type": "stream",
     "text": [
      "2025-06-12 16:41:01.485252: E tensorflow/core/framework/node_def_util.cc:680] NodeDef mentions attribute use_unbounded_threadpool which is not in the op definition: Op<name=MapDataset; signature=input_dataset:variant, other_arguments: -> handle:variant; attr=f:func; attr=Targuments:list(type),min=0; attr=output_types:list(type),min=1; attr=output_shapes:list(shape),min=1; attr=use_inter_op_parallelism:bool,default=true; attr=preserve_cardinality:bool,default=false; attr=force_synchronous:bool,default=false; attr=metadata:string,default=\"\"> This may be expected if your graph generating binary is newer  than this binary. Unknown attributes will be ignored. NodeDef: {{node ParallelMapDatasetV2/_15}}\n",
      "2025-06-12 16:41:01.485641: E tensorflow/core/framework/node_def_util.cc:680] NodeDef mentions attribute use_unbounded_threadpool which is not in the op definition: Op<name=MapDataset; signature=input_dataset:variant, other_arguments: -> handle:variant; attr=f:func; attr=Targuments:list(type),min=0; attr=output_types:list(type),min=1; attr=output_shapes:list(shape),min=1; attr=use_inter_op_parallelism:bool,default=true; attr=preserve_cardinality:bool,default=false; attr=force_synchronous:bool,default=false; attr=metadata:string,default=\"\"> This may be expected if your graph generating binary is newer  than this binary. Unknown attributes will be ignored. NodeDef: {{node ParallelMapDatasetV2/_15}}\n"
     ]
    },
    {
     "name": "stdout",
     "output_type": "stream",
     "text": [
      "\u001b[1m304/304\u001b[0m \u001b[32m━━━━━━━━━━━━━━━━━━━━\u001b[0m\u001b[37m\u001b[0m \u001b[1m0s\u001b[0m 160ms/step - accuracy: 0.2970 - loss: 1.7690"
     ]
    },
    {
     "name": "stderr",
     "output_type": "stream",
     "text": [
      "2025-06-12 16:41:54.254207: E tensorflow/core/framework/node_def_util.cc:680] NodeDef mentions attribute use_unbounded_threadpool which is not in the op definition: Op<name=MapDataset; signature=input_dataset:variant, other_arguments: -> handle:variant; attr=f:func; attr=Targuments:list(type),min=0; attr=output_types:list(type),min=1; attr=output_shapes:list(shape),min=1; attr=use_inter_op_parallelism:bool,default=true; attr=preserve_cardinality:bool,default=false; attr=force_synchronous:bool,default=false; attr=metadata:string,default=\"\"> This may be expected if your graph generating binary is newer  than this binary. Unknown attributes will be ignored. NodeDef: {{node ParallelMapDatasetV2/_15}}\n",
      "2025-06-12 16:41:54.254769: E tensorflow/core/framework/node_def_util.cc:680] NodeDef mentions attribute use_unbounded_threadpool which is not in the op definition: Op<name=MapDataset; signature=input_dataset:variant, other_arguments: -> handle:variant; attr=f:func; attr=Targuments:list(type),min=0; attr=output_types:list(type),min=1; attr=output_shapes:list(shape),min=1; attr=use_inter_op_parallelism:bool,default=true; attr=preserve_cardinality:bool,default=false; attr=force_synchronous:bool,default=false; attr=metadata:string,default=\"\"> This may be expected if your graph generating binary is newer  than this binary. Unknown attributes will be ignored. NodeDef: {{node ParallelMapDatasetV2/_15}}\n"
     ]
    },
    {
     "name": "stdout",
     "output_type": "stream",
     "text": [
      "\n",
      "Epoch 1: val_accuracy improved from -inf to 0.69386, saving model to CNN2D_results/Scalogram_Spectrogram/best_model_5.h5\n"
     ]
    },
    {
     "name": "stderr",
     "output_type": "stream",
     "text": [
      "WARNING:absl:You are saving your model as an HDF5 file via `model.save()` or `keras.saving.save_model(model)`. This file format is considered legacy. We recommend using instead the native Keras format, e.g. `model.save('my_model.keras')` or `keras.saving.save_model(model, 'my_model.keras')`. \n"
     ]
    },
    {
     "name": "stdout",
     "output_type": "stream",
     "text": [
      "\u001b[1m304/304\u001b[0m \u001b[32m━━━━━━━━━━━━━━━━━━━━\u001b[0m\u001b[37m\u001b[0m \u001b[1m56s\u001b[0m 173ms/step - accuracy: 0.2975 - loss: 1.7675 - val_accuracy: 0.6939 - val_loss: 0.6723\n",
      "Epoch 2/200\n",
      "\u001b[1m304/304\u001b[0m \u001b[32m━━━━━━━━━━━━━━━━━━━━\u001b[0m\u001b[37m\u001b[0m \u001b[1m0s\u001b[0m 155ms/step - accuracy: 0.7060 - loss: 0.6853\n",
      "Epoch 2: val_accuracy improved from 0.69386 to 0.81005, saving model to CNN2D_results/Scalogram_Spectrogram/best_model_5.h5\n"
     ]
    },
    {
     "name": "stderr",
     "output_type": "stream",
     "text": [
      "WARNING:absl:You are saving your model as an HDF5 file via `model.save()` or `keras.saving.save_model(model)`. This file format is considered legacy. We recommend using instead the native Keras format, e.g. `model.save('my_model.keras')` or `keras.saving.save_model(model, 'my_model.keras')`. \n"
     ]
    },
    {
     "name": "stdout",
     "output_type": "stream",
     "text": [
      "\u001b[1m304/304\u001b[0m \u001b[32m━━━━━━━━━━━━━━━━━━━━\u001b[0m\u001b[37m\u001b[0m \u001b[1m51s\u001b[0m 169ms/step - accuracy: 0.7061 - loss: 0.6851 - val_accuracy: 0.8101 - val_loss: 0.3809\n",
      "Epoch 3/200\n",
      "\u001b[1m304/304\u001b[0m \u001b[32m━━━━━━━━━━━━━━━━━━━━\u001b[0m\u001b[37m\u001b[0m \u001b[1m0s\u001b[0m 153ms/step - accuracy: 0.8054 - loss: 0.4595\n",
      "Epoch 3: val_accuracy improved from 0.81005 to 0.89658, saving model to CNN2D_results/Scalogram_Spectrogram/best_model_5.h5\n"
     ]
    },
    {
     "name": "stderr",
     "output_type": "stream",
     "text": [
      "WARNING:absl:You are saving your model as an HDF5 file via `model.save()` or `keras.saving.save_model(model)`. This file format is considered legacy. We recommend using instead the native Keras format, e.g. `model.save('my_model.keras')` or `keras.saving.save_model(model, 'my_model.keras')`. \n"
     ]
    },
    {
     "name": "stdout",
     "output_type": "stream",
     "text": [
      "\u001b[1m304/304\u001b[0m \u001b[32m━━━━━━━━━━━━━━━━━━━━\u001b[0m\u001b[37m\u001b[0m \u001b[1m50s\u001b[0m 164ms/step - accuracy: 0.8054 - loss: 0.4594 - val_accuracy: 0.8966 - val_loss: 0.2423\n",
      "Epoch 4/200\n",
      "\u001b[1m304/304\u001b[0m \u001b[32m━━━━━━━━━━━━━━━━━━━━\u001b[0m\u001b[37m\u001b[0m \u001b[1m0s\u001b[0m 158ms/step - accuracy: 0.8639 - loss: 0.3417\n",
      "Epoch 4: val_accuracy improved from 0.89658 to 0.93037, saving model to CNN2D_results/Scalogram_Spectrogram/best_model_5.h5\n"
     ]
    },
    {
     "name": "stderr",
     "output_type": "stream",
     "text": [
      "WARNING:absl:You are saving your model as an HDF5 file via `model.save()` or `keras.saving.save_model(model)`. This file format is considered legacy. We recommend using instead the native Keras format, e.g. `model.save('my_model.keras')` or `keras.saving.save_model(model, 'my_model.keras')`. \n"
     ]
    },
    {
     "name": "stdout",
     "output_type": "stream",
     "text": [
      "\u001b[1m304/304\u001b[0m \u001b[32m━━━━━━━━━━━━━━━━━━━━\u001b[0m\u001b[37m\u001b[0m \u001b[1m52s\u001b[0m 170ms/step - accuracy: 0.8640 - loss: 0.3416 - val_accuracy: 0.9304 - val_loss: 0.1941\n",
      "Epoch 5/200\n",
      "\u001b[1m304/304\u001b[0m \u001b[32m━━━━━━━━━━━━━━━━━━━━\u001b[0m\u001b[37m\u001b[0m \u001b[1m0s\u001b[0m 151ms/step - accuracy: 0.9098 - loss: 0.2507\n",
      "Epoch 5: val_accuracy did not improve from 0.93037\n",
      "\u001b[1m304/304\u001b[0m \u001b[32m━━━━━━━━━━━━━━━━━━━━\u001b[0m\u001b[37m\u001b[0m \u001b[1m49s\u001b[0m 162ms/step - accuracy: 0.9099 - loss: 0.2507 - val_accuracy: 0.9287 - val_loss: 0.1767\n",
      "Epoch 6/200\n",
      "\u001b[1m304/304\u001b[0m \u001b[32m━━━━━━━━━━━━━━━━━━━━\u001b[0m\u001b[37m\u001b[0m \u001b[1m0s\u001b[0m 151ms/step - accuracy: 0.9231 - loss: 0.2117\n",
      "Epoch 6: val_accuracy improved from 0.93037 to 0.95674, saving model to CNN2D_results/Scalogram_Spectrogram/best_model_5.h5\n"
     ]
    },
    {
     "name": "stderr",
     "output_type": "stream",
     "text": [
      "WARNING:absl:You are saving your model as an HDF5 file via `model.save()` or `keras.saving.save_model(model)`. This file format is considered legacy. We recommend using instead the native Keras format, e.g. `model.save('my_model.keras')` or `keras.saving.save_model(model, 'my_model.keras')`. \n"
     ]
    },
    {
     "name": "stdout",
     "output_type": "stream",
     "text": [
      "\u001b[1m304/304\u001b[0m \u001b[32m━━━━━━━━━━━━━━━━━━━━\u001b[0m\u001b[37m\u001b[0m \u001b[1m49s\u001b[0m 162ms/step - accuracy: 0.9231 - loss: 0.2117 - val_accuracy: 0.9567 - val_loss: 0.1257\n",
      "Epoch 7/200\n",
      "\u001b[1m304/304\u001b[0m \u001b[32m━━━━━━━━━━━━━━━━━━━━\u001b[0m\u001b[37m\u001b[0m \u001b[1m0s\u001b[0m 149ms/step - accuracy: 0.9397 - loss: 0.1702\n",
      "Epoch 7: val_accuracy improved from 0.95674 to 0.96457, saving model to CNN2D_results/Scalogram_Spectrogram/best_model_5.h5\n"
     ]
    },
    {
     "name": "stderr",
     "output_type": "stream",
     "text": [
      "WARNING:absl:You are saving your model as an HDF5 file via `model.save()` or `keras.saving.save_model(model)`. This file format is considered legacy. We recommend using instead the native Keras format, e.g. `model.save('my_model.keras')` or `keras.saving.save_model(model, 'my_model.keras')`. \n"
     ]
    },
    {
     "name": "stdout",
     "output_type": "stream",
     "text": [
      "\u001b[1m304/304\u001b[0m \u001b[32m━━━━━━━━━━━━━━━━━━━━\u001b[0m\u001b[37m\u001b[0m \u001b[1m49s\u001b[0m 160ms/step - accuracy: 0.9397 - loss: 0.1702 - val_accuracy: 0.9646 - val_loss: 0.0976\n",
      "Epoch 8/200\n",
      "\u001b[1m304/304\u001b[0m \u001b[32m━━━━━━━━━━━━━━━━━━━━\u001b[0m\u001b[37m\u001b[0m \u001b[1m0s\u001b[0m 152ms/step - accuracy: 0.9453 - loss: 0.1463\n",
      "Epoch 8: val_accuracy improved from 0.96457 to 0.96786, saving model to CNN2D_results/Scalogram_Spectrogram/best_model_5.h5\n"
     ]
    },
    {
     "name": "stderr",
     "output_type": "stream",
     "text": [
      "WARNING:absl:You are saving your model as an HDF5 file via `model.save()` or `keras.saving.save_model(model)`. This file format is considered legacy. We recommend using instead the native Keras format, e.g. `model.save('my_model.keras')` or `keras.saving.save_model(model, 'my_model.keras')`. \n"
     ]
    },
    {
     "name": "stdout",
     "output_type": "stream",
     "text": [
      "\u001b[1m304/304\u001b[0m \u001b[32m━━━━━━━━━━━━━━━━━━━━\u001b[0m\u001b[37m\u001b[0m \u001b[1m50s\u001b[0m 163ms/step - accuracy: 0.9453 - loss: 0.1463 - val_accuracy: 0.9679 - val_loss: 0.0933\n",
      "Epoch 9/200\n",
      "\u001b[1m304/304\u001b[0m \u001b[32m━━━━━━━━━━━━━━━━━━━━\u001b[0m\u001b[37m\u001b[0m \u001b[1m0s\u001b[0m 151ms/step - accuracy: 0.9506 - loss: 0.1462\n",
      "Epoch 9: val_accuracy did not improve from 0.96786\n",
      "\u001b[1m304/304\u001b[0m \u001b[32m━━━━━━━━━━━━━━━━━━━━\u001b[0m\u001b[37m\u001b[0m \u001b[1m49s\u001b[0m 162ms/step - accuracy: 0.9506 - loss: 0.1461 - val_accuracy: 0.9246 - val_loss: 0.2112\n",
      "Epoch 10/200\n",
      "\u001b[1m304/304\u001b[0m \u001b[32m━━━━━━━━━━━━━━━━━━━━\u001b[0m\u001b[37m\u001b[0m \u001b[1m0s\u001b[0m 149ms/step - accuracy: 0.9479 - loss: 0.1543\n",
      "Epoch 10: val_accuracy did not improve from 0.96786\n",
      "\u001b[1m304/304\u001b[0m \u001b[32m━━━━━━━━━━━━━━━━━━━━\u001b[0m\u001b[37m\u001b[0m \u001b[1m49s\u001b[0m 160ms/step - accuracy: 0.9479 - loss: 0.1543 - val_accuracy: 0.9300 - val_loss: 0.1978\n",
      "Epoch 11/200\n",
      "\u001b[1m304/304\u001b[0m \u001b[32m━━━━━━━━━━━━━━━━━━━━\u001b[0m\u001b[37m\u001b[0m \u001b[1m0s\u001b[0m 151ms/step - accuracy: 0.9532 - loss: 0.1380\n",
      "Epoch 11: val_accuracy did not improve from 0.96786\n",
      "\u001b[1m304/304\u001b[0m \u001b[32m━━━━━━━━━━━━━━━━━━━━\u001b[0m\u001b[37m\u001b[0m \u001b[1m50s\u001b[0m 163ms/step - accuracy: 0.9532 - loss: 0.1379 - val_accuracy: 0.9609 - val_loss: 0.1199\n",
      "Epoch 12/200\n",
      "\u001b[1m304/304\u001b[0m \u001b[32m━━━━━━━━━━━━━━━━━━━━\u001b[0m\u001b[37m\u001b[0m \u001b[1m0s\u001b[0m 152ms/step - accuracy: 0.9659 - loss: 0.0975\n",
      "Epoch 12: val_accuracy did not improve from 0.96786\n",
      "\u001b[1m304/304\u001b[0m \u001b[32m━━━━━━━━━━━━━━━━━━━━\u001b[0m\u001b[37m\u001b[0m \u001b[1m50s\u001b[0m 163ms/step - accuracy: 0.9659 - loss: 0.0975 - val_accuracy: 0.9571 - val_loss: 0.1363\n",
      "Epoch 13/200\n",
      "\u001b[1m304/304\u001b[0m \u001b[32m━━━━━━━━━━━━━━━━━━━━\u001b[0m\u001b[37m\u001b[0m \u001b[1m0s\u001b[0m 154ms/step - accuracy: 0.9685 - loss: 0.0968\n",
      "Epoch 13: val_accuracy did not improve from 0.96786\n",
      "\u001b[1m304/304\u001b[0m \u001b[32m━━━━━━━━━━━━━━━━━━━━\u001b[0m\u001b[37m\u001b[0m \u001b[1m50s\u001b[0m 165ms/step - accuracy: 0.9685 - loss: 0.0968 - val_accuracy: 0.9629 - val_loss: 0.1077\n",
      "Epoch 14/200\n",
      "\u001b[1m304/304\u001b[0m \u001b[32m━━━━━━━━━━━━━━━━━━━━\u001b[0m\u001b[37m\u001b[0m \u001b[1m0s\u001b[0m 153ms/step - accuracy: 0.9615 - loss: 0.1038\n",
      "Epoch 14: val_accuracy did not improve from 0.96786\n",
      "\u001b[1m304/304\u001b[0m \u001b[32m━━━━━━━━━━━━━━━━━━━━\u001b[0m\u001b[37m\u001b[0m \u001b[1m50s\u001b[0m 165ms/step - accuracy: 0.9616 - loss: 0.1038 - val_accuracy: 0.9629 - val_loss: 0.1049\n",
      "Epoch 15/200\n",
      "\u001b[1m304/304\u001b[0m \u001b[32m━━━━━━━━━━━━━━━━━━━━\u001b[0m\u001b[37m\u001b[0m \u001b[1m0s\u001b[0m 154ms/step - accuracy: 0.9655 - loss: 0.0905\n",
      "Epoch 15: val_accuracy did not improve from 0.96786\n",
      "\u001b[1m304/304\u001b[0m \u001b[32m━━━━━━━━━━━━━━━━━━━━\u001b[0m\u001b[37m\u001b[0m \u001b[1m50s\u001b[0m 165ms/step - accuracy: 0.9655 - loss: 0.0905 - val_accuracy: 0.9637 - val_loss: 0.1083\n",
      "Epoch 16/200\n",
      "\u001b[1m304/304\u001b[0m \u001b[32m━━━━━━━━━━━━━━━━━━━━\u001b[0m\u001b[37m\u001b[0m \u001b[1m0s\u001b[0m 154ms/step - accuracy: 0.9584 - loss: 0.1204\n",
      "Epoch 16: val_accuracy improved from 0.96786 to 0.97116, saving model to CNN2D_results/Scalogram_Spectrogram/best_model_5.h5\n"
     ]
    },
    {
     "name": "stderr",
     "output_type": "stream",
     "text": [
      "WARNING:absl:You are saving your model as an HDF5 file via `model.save()` or `keras.saving.save_model(model)`. This file format is considered legacy. We recommend using instead the native Keras format, e.g. `model.save('my_model.keras')` or `keras.saving.save_model(model, 'my_model.keras')`. \n"
     ]
    },
    {
     "name": "stdout",
     "output_type": "stream",
     "text": [
      "\u001b[1m304/304\u001b[0m \u001b[32m━━━━━━━━━━━━━━━━━━━━\u001b[0m\u001b[37m\u001b[0m \u001b[1m50s\u001b[0m 166ms/step - accuracy: 0.9584 - loss: 0.1203 - val_accuracy: 0.9712 - val_loss: 0.0702\n",
      "Epoch 17/200\n",
      "\u001b[1m304/304\u001b[0m \u001b[32m━━━━━━━━━━━━━━━━━━━━\u001b[0m\u001b[37m\u001b[0m \u001b[1m0s\u001b[0m 150ms/step - accuracy: 0.9719 - loss: 0.0839\n",
      "Epoch 17: val_accuracy improved from 0.97116 to 0.97198, saving model to CNN2D_results/Scalogram_Spectrogram/best_model_5.h5\n"
     ]
    },
    {
     "name": "stderr",
     "output_type": "stream",
     "text": [
      "WARNING:absl:You are saving your model as an HDF5 file via `model.save()` or `keras.saving.save_model(model)`. This file format is considered legacy. We recommend using instead the native Keras format, e.g. `model.save('my_model.keras')` or `keras.saving.save_model(model, 'my_model.keras')`. \n"
     ]
    },
    {
     "name": "stdout",
     "output_type": "stream",
     "text": [
      "\u001b[1m304/304\u001b[0m \u001b[32m━━━━━━━━━━━━━━━━━━━━\u001b[0m\u001b[37m\u001b[0m \u001b[1m49s\u001b[0m 161ms/step - accuracy: 0.9719 - loss: 0.0839 - val_accuracy: 0.9720 - val_loss: 0.0750\n",
      "Epoch 18/200\n",
      "\u001b[1m304/304\u001b[0m \u001b[32m━━━━━━━━━━━━━━━━━━━━\u001b[0m\u001b[37m\u001b[0m \u001b[1m0s\u001b[0m 155ms/step - accuracy: 0.9752 - loss: 0.0689\n",
      "Epoch 18: val_accuracy improved from 0.97198 to 0.97693, saving model to CNN2D_results/Scalogram_Spectrogram/best_model_5.h5\n"
     ]
    },
    {
     "name": "stderr",
     "output_type": "stream",
     "text": [
      "WARNING:absl:You are saving your model as an HDF5 file via `model.save()` or `keras.saving.save_model(model)`. This file format is considered legacy. We recommend using instead the native Keras format, e.g. `model.save('my_model.keras')` or `keras.saving.save_model(model, 'my_model.keras')`. \n"
     ]
    },
    {
     "name": "stdout",
     "output_type": "stream",
     "text": [
      "\u001b[1m304/304\u001b[0m \u001b[32m━━━━━━━━━━━━━━━━━━━━\u001b[0m\u001b[37m\u001b[0m \u001b[1m51s\u001b[0m 166ms/step - accuracy: 0.9752 - loss: 0.0689 - val_accuracy: 0.9769 - val_loss: 0.0770\n",
      "Epoch 19/200\n",
      "\u001b[1m304/304\u001b[0m \u001b[32m━━━━━━━━━━━━━━━━━━━━\u001b[0m\u001b[37m\u001b[0m \u001b[1m0s\u001b[0m 151ms/step - accuracy: 0.9808 - loss: 0.0520\n",
      "Epoch 19: val_accuracy did not improve from 0.97693\n",
      "\u001b[1m304/304\u001b[0m \u001b[32m━━━━━━━━━━━━━━━━━━━━\u001b[0m\u001b[37m\u001b[0m \u001b[1m49s\u001b[0m 162ms/step - accuracy: 0.9808 - loss: 0.0520 - val_accuracy: 0.9699 - val_loss: 0.0954\n",
      "Epoch 20/200\n",
      "\u001b[1m304/304\u001b[0m \u001b[32m━━━━━━━━━━━━━━━━━━━━\u001b[0m\u001b[37m\u001b[0m \u001b[1m0s\u001b[0m 162ms/step - accuracy: 0.9680 - loss: 0.1098\n",
      "Epoch 20: val_accuracy did not improve from 0.97693\n",
      "\u001b[1m304/304\u001b[0m \u001b[32m━━━━━━━━━━━━━━━━━━━━\u001b[0m\u001b[37m\u001b[0m \u001b[1m53s\u001b[0m 173ms/step - accuracy: 0.9680 - loss: 0.1098 - val_accuracy: 0.9736 - val_loss: 0.0727\n",
      "Epoch 21/200\n",
      "\u001b[1m304/304\u001b[0m \u001b[32m━━━━━━━━━━━━━━━━━━━━\u001b[0m\u001b[37m\u001b[0m \u001b[1m0s\u001b[0m 163ms/step - accuracy: 0.9759 - loss: 0.0733\n",
      "Epoch 21: val_accuracy did not improve from 0.97693\n",
      "\u001b[1m304/304\u001b[0m \u001b[32m━━━━━━━━━━━━━━━━━━━━\u001b[0m\u001b[37m\u001b[0m \u001b[1m53s\u001b[0m 175ms/step - accuracy: 0.9759 - loss: 0.0733 - val_accuracy: 0.9724 - val_loss: 0.0684\n",
      "Epoch 22/200\n",
      "\u001b[1m304/304\u001b[0m \u001b[32m━━━━━━━━━━━━━━━━━━━━\u001b[0m\u001b[37m\u001b[0m \u001b[1m0s\u001b[0m 151ms/step - accuracy: 0.9760 - loss: 0.0751\n",
      "Epoch 22: val_accuracy did not improve from 0.97693\n",
      "\u001b[1m304/304\u001b[0m \u001b[32m━━━━━━━━━━━━━━━━━━━━\u001b[0m\u001b[37m\u001b[0m \u001b[1m50s\u001b[0m 163ms/step - accuracy: 0.9760 - loss: 0.0751 - val_accuracy: 0.9621 - val_loss: 0.1239\n",
      "Epoch 23/200\n",
      "\u001b[1m304/304\u001b[0m \u001b[32m━━━━━━━━━━━━━━━━━━━━\u001b[0m\u001b[37m\u001b[0m \u001b[1m0s\u001b[0m 152ms/step - accuracy: 0.9775 - loss: 0.0666\n",
      "Epoch 23: val_accuracy did not improve from 0.97693\n",
      "\u001b[1m304/304\u001b[0m \u001b[32m━━━━━━━━━━━━━━━━━━━━\u001b[0m\u001b[37m\u001b[0m \u001b[1m51s\u001b[0m 166ms/step - accuracy: 0.9775 - loss: 0.0666 - val_accuracy: 0.9683 - val_loss: 0.0918\n",
      "Epoch 24/200\n",
      "\u001b[1m304/304\u001b[0m \u001b[32m━━━━━━━━━━━━━━━━━━━━\u001b[0m\u001b[37m\u001b[0m \u001b[1m0s\u001b[0m 155ms/step - accuracy: 0.9785 - loss: 0.0662\n",
      "Epoch 24: val_accuracy improved from 0.97693 to 0.97734, saving model to CNN2D_results/Scalogram_Spectrogram/best_model_5.h5\n"
     ]
    },
    {
     "name": "stderr",
     "output_type": "stream",
     "text": [
      "WARNING:absl:You are saving your model as an HDF5 file via `model.save()` or `keras.saving.save_model(model)`. This file format is considered legacy. We recommend using instead the native Keras format, e.g. `model.save('my_model.keras')` or `keras.saving.save_model(model, 'my_model.keras')`. \n"
     ]
    },
    {
     "name": "stdout",
     "output_type": "stream",
     "text": [
      "\u001b[1m304/304\u001b[0m \u001b[32m━━━━━━━━━━━━━━━━━━━━\u001b[0m\u001b[37m\u001b[0m \u001b[1m50s\u001b[0m 166ms/step - accuracy: 0.9785 - loss: 0.0662 - val_accuracy: 0.9773 - val_loss: 0.0678\n",
      "Epoch 25/200\n",
      "\u001b[1m304/304\u001b[0m \u001b[32m━━━━━━━━━━━━━━━━━━━━\u001b[0m\u001b[37m\u001b[0m \u001b[1m0s\u001b[0m 154ms/step - accuracy: 0.9797 - loss: 0.0623\n",
      "Epoch 25: val_accuracy did not improve from 0.97734\n",
      "\u001b[1m304/304\u001b[0m \u001b[32m━━━━━━━━━━━━━━━━━━━━\u001b[0m\u001b[37m\u001b[0m \u001b[1m50s\u001b[0m 165ms/step - accuracy: 0.9797 - loss: 0.0623 - val_accuracy: 0.9732 - val_loss: 0.0691\n",
      "Epoch 26/200\n",
      "\u001b[1m304/304\u001b[0m \u001b[32m━━━━━━━━━━━━━━━━━━━━\u001b[0m\u001b[37m\u001b[0m \u001b[1m0s\u001b[0m 149ms/step - accuracy: 0.9843 - loss: 0.0505\n",
      "Epoch 26: val_accuracy did not improve from 0.97734\n",
      "\u001b[1m304/304\u001b[0m \u001b[32m━━━━━━━━━━━━━━━━━━━━\u001b[0m\u001b[37m\u001b[0m \u001b[1m49s\u001b[0m 160ms/step - accuracy: 0.9843 - loss: 0.0505 - val_accuracy: 0.9670 - val_loss: 0.1395\n",
      "Epoch 27/200\n",
      "\u001b[1m304/304\u001b[0m \u001b[32m━━━━━━━━━━━━━━━━━━━━\u001b[0m\u001b[37m\u001b[0m \u001b[1m0s\u001b[0m 155ms/step - accuracy: 0.9697 - loss: 0.0985\n",
      "Epoch 27: val_accuracy improved from 0.97734 to 0.97981, saving model to CNN2D_results/Scalogram_Spectrogram/best_model_5.h5\n"
     ]
    },
    {
     "name": "stderr",
     "output_type": "stream",
     "text": [
      "WARNING:absl:You are saving your model as an HDF5 file via `model.save()` or `keras.saving.save_model(model)`. This file format is considered legacy. We recommend using instead the native Keras format, e.g. `model.save('my_model.keras')` or `keras.saving.save_model(model, 'my_model.keras')`. \n"
     ]
    },
    {
     "name": "stdout",
     "output_type": "stream",
     "text": [
      "\u001b[1m304/304\u001b[0m \u001b[32m━━━━━━━━━━━━━━━━━━━━\u001b[0m\u001b[37m\u001b[0m \u001b[1m51s\u001b[0m 167ms/step - accuracy: 0.9697 - loss: 0.0985 - val_accuracy: 0.9798 - val_loss: 0.0573\n",
      "Epoch 28/200\n",
      "\u001b[1m304/304\u001b[0m \u001b[32m━━━━━━━━━━━━━━━━━━━━\u001b[0m\u001b[37m\u001b[0m \u001b[1m0s\u001b[0m 150ms/step - accuracy: 0.9839 - loss: 0.0496\n",
      "Epoch 28: val_accuracy did not improve from 0.97981\n",
      "\u001b[1m304/304\u001b[0m \u001b[32m━━━━━━━━━━━━━━━━━━━━\u001b[0m\u001b[37m\u001b[0m \u001b[1m49s\u001b[0m 162ms/step - accuracy: 0.9839 - loss: 0.0496 - val_accuracy: 0.9794 - val_loss: 0.0591\n",
      "Epoch 29/200\n",
      "\u001b[1m304/304\u001b[0m \u001b[32m━━━━━━━━━━━━━━━━━━━━\u001b[0m\u001b[37m\u001b[0m \u001b[1m0s\u001b[0m 158ms/step - accuracy: 0.9839 - loss: 0.0466\n",
      "Epoch 29: val_accuracy did not improve from 0.97981\n",
      "\u001b[1m304/304\u001b[0m \u001b[32m━━━━━━━━━━━━━━━━━━━━\u001b[0m\u001b[37m\u001b[0m \u001b[1m52s\u001b[0m 171ms/step - accuracy: 0.9839 - loss: 0.0466 - val_accuracy: 0.9654 - val_loss: 0.1222\n",
      "Epoch 30/200\n",
      "\u001b[1m304/304\u001b[0m \u001b[32m━━━━━━━━━━━━━━━━━━━━\u001b[0m\u001b[37m\u001b[0m \u001b[1m0s\u001b[0m 153ms/step - accuracy: 0.9844 - loss: 0.0466\n",
      "Epoch 30: val_accuracy did not improve from 0.97981\n",
      "\u001b[1m304/304\u001b[0m \u001b[32m━━━━━━━━━━━━━━━━━━━━\u001b[0m\u001b[37m\u001b[0m \u001b[1m50s\u001b[0m 164ms/step - accuracy: 0.9844 - loss: 0.0466 - val_accuracy: 0.9637 - val_loss: 0.1242\n",
      "Epoch 31/200\n",
      "\u001b[1m304/304\u001b[0m \u001b[32m━━━━━━━━━━━━━━━━━━━━\u001b[0m\u001b[37m\u001b[0m \u001b[1m0s\u001b[0m 153ms/step - accuracy: 0.9857 - loss: 0.0481\n",
      "Epoch 31: val_accuracy did not improve from 0.97981\n",
      "\u001b[1m304/304\u001b[0m \u001b[32m━━━━━━━━━━━━━━━━━━━━\u001b[0m\u001b[37m\u001b[0m \u001b[1m50s\u001b[0m 165ms/step - accuracy: 0.9857 - loss: 0.0481 - val_accuracy: 0.9794 - val_loss: 0.0678\n",
      "Epoch 32/200\n",
      "\u001b[1m304/304\u001b[0m \u001b[32m━━━━━━━━━━━━━━━━━━━━\u001b[0m\u001b[37m\u001b[0m \u001b[1m0s\u001b[0m 153ms/step - accuracy: 0.9853 - loss: 0.0407\n",
      "Epoch 32: val_accuracy improved from 0.97981 to 0.98187, saving model to CNN2D_results/Scalogram_Spectrogram/best_model_5.h5\n"
     ]
    },
    {
     "name": "stderr",
     "output_type": "stream",
     "text": [
      "WARNING:absl:You are saving your model as an HDF5 file via `model.save()` or `keras.saving.save_model(model)`. This file format is considered legacy. We recommend using instead the native Keras format, e.g. `model.save('my_model.keras')` or `keras.saving.save_model(model, 'my_model.keras')`. \n"
     ]
    },
    {
     "name": "stdout",
     "output_type": "stream",
     "text": [
      "\u001b[1m304/304\u001b[0m \u001b[32m━━━━━━━━━━━━━━━━━━━━\u001b[0m\u001b[37m\u001b[0m \u001b[1m50s\u001b[0m 165ms/step - accuracy: 0.9853 - loss: 0.0407 - val_accuracy: 0.9819 - val_loss: 0.0584\n",
      "Epoch 33/200\n",
      "\u001b[1m304/304\u001b[0m \u001b[32m━━━━━━━━━━━━━━━━━━━━\u001b[0m\u001b[37m\u001b[0m \u001b[1m0s\u001b[0m 156ms/step - accuracy: 0.9828 - loss: 0.0553\n",
      "Epoch 33: val_accuracy did not improve from 0.98187\n",
      "\u001b[1m304/304\u001b[0m \u001b[32m━━━━━━━━━━━━━━━━━━━━\u001b[0m\u001b[37m\u001b[0m \u001b[1m51s\u001b[0m 168ms/step - accuracy: 0.9828 - loss: 0.0553 - val_accuracy: 0.9778 - val_loss: 0.0587\n",
      "Epoch 34/200\n",
      "\u001b[1m304/304\u001b[0m \u001b[32m━━━━━━━━━━━━━━━━━━━━\u001b[0m\u001b[37m\u001b[0m \u001b[1m0s\u001b[0m 147ms/step - accuracy: 0.9873 - loss: 0.0382\n",
      "Epoch 34: val_accuracy did not improve from 0.98187\n",
      "\u001b[1m304/304\u001b[0m \u001b[32m━━━━━━━━━━━━━━━━━━━━\u001b[0m\u001b[37m\u001b[0m \u001b[1m48s\u001b[0m 159ms/step - accuracy: 0.9873 - loss: 0.0382 - val_accuracy: 0.9790 - val_loss: 0.0629\n",
      "Epoch 35/200\n",
      "\u001b[1m304/304\u001b[0m \u001b[32m━━━━━━━━━━━━━━━━━━━━\u001b[0m\u001b[37m\u001b[0m \u001b[1m0s\u001b[0m 143ms/step - accuracy: 0.9820 - loss: 0.0560\n",
      "Epoch 35: val_accuracy did not improve from 0.98187\n",
      "\u001b[1m304/304\u001b[0m \u001b[32m━━━━━━━━━━━━━━━━━━━━\u001b[0m\u001b[37m\u001b[0m \u001b[1m47s\u001b[0m 154ms/step - accuracy: 0.9820 - loss: 0.0560 - val_accuracy: 0.9778 - val_loss: 0.0665\n",
      "Epoch 36/200\n",
      "\u001b[1m304/304\u001b[0m \u001b[32m━━━━━━━━━━━━━━━━━━━━\u001b[0m\u001b[37m\u001b[0m \u001b[1m0s\u001b[0m 143ms/step - accuracy: 0.9845 - loss: 0.0466\n",
      "Epoch 36: val_accuracy did not improve from 0.98187\n",
      "\u001b[1m304/304\u001b[0m \u001b[32m━━━━━━━━━━━━━━━━━━━━\u001b[0m\u001b[37m\u001b[0m \u001b[1m47s\u001b[0m 153ms/step - accuracy: 0.9845 - loss: 0.0466 - val_accuracy: 0.9794 - val_loss: 0.0579\n",
      "Epoch 37/200\n",
      "\u001b[1m304/304\u001b[0m \u001b[32m━━━━━━━━━━━━━━━━━━━━\u001b[0m\u001b[37m\u001b[0m \u001b[1m0s\u001b[0m 144ms/step - accuracy: 0.9890 - loss: 0.0341\n",
      "Epoch 37: val_accuracy did not improve from 0.98187\n",
      "\u001b[1m304/304\u001b[0m \u001b[32m━━━━━━━━━━━━━━━━━━━━\u001b[0m\u001b[37m\u001b[0m \u001b[1m47s\u001b[0m 155ms/step - accuracy: 0.9890 - loss: 0.0341 - val_accuracy: 0.9757 - val_loss: 0.0708\n",
      "Epoch 38/200\n",
      "\u001b[1m304/304\u001b[0m \u001b[32m━━━━━━━━━━━━━━━━━━━━\u001b[0m\u001b[37m\u001b[0m \u001b[1m0s\u001b[0m 143ms/step - accuracy: 0.9910 - loss: 0.0258\n",
      "Epoch 38: val_accuracy did not improve from 0.98187\n",
      "\u001b[1m304/304\u001b[0m \u001b[32m━━━━━━━━━━━━━━━━━━━━\u001b[0m\u001b[37m\u001b[0m \u001b[1m47s\u001b[0m 154ms/step - accuracy: 0.9910 - loss: 0.0258 - val_accuracy: 0.9695 - val_loss: 0.1150\n",
      "Epoch 39/200\n",
      "\u001b[1m304/304\u001b[0m \u001b[32m━━━━━━━━━━━━━━━━━━━━\u001b[0m\u001b[37m\u001b[0m \u001b[1m0s\u001b[0m 140ms/step - accuracy: 0.9892 - loss: 0.0367\n",
      "Epoch 39: val_accuracy did not improve from 0.98187\n",
      "\u001b[1m304/304\u001b[0m \u001b[32m━━━━━━━━━━━━━━━━━━━━\u001b[0m\u001b[37m\u001b[0m \u001b[1m46s\u001b[0m 151ms/step - accuracy: 0.9892 - loss: 0.0368 - val_accuracy: 0.9810 - val_loss: 0.0619\n",
      "Epoch 40/200\n",
      "\u001b[1m304/304\u001b[0m \u001b[32m━━━━━━━━━━━━━━━━━━━━\u001b[0m\u001b[37m\u001b[0m \u001b[1m0s\u001b[0m 142ms/step - accuracy: 0.9888 - loss: 0.0352\n",
      "Epoch 40: val_accuracy improved from 0.98187 to 0.98393, saving model to CNN2D_results/Scalogram_Spectrogram/best_model_5.h5\n"
     ]
    },
    {
     "name": "stderr",
     "output_type": "stream",
     "text": [
      "WARNING:absl:You are saving your model as an HDF5 file via `model.save()` or `keras.saving.save_model(model)`. This file format is considered legacy. We recommend using instead the native Keras format, e.g. `model.save('my_model.keras')` or `keras.saving.save_model(model, 'my_model.keras')`. \n"
     ]
    },
    {
     "name": "stdout",
     "output_type": "stream",
     "text": [
      "\u001b[1m304/304\u001b[0m \u001b[32m━━━━━━━━━━━━━━━━━━━━\u001b[0m\u001b[37m\u001b[0m \u001b[1m47s\u001b[0m 153ms/step - accuracy: 0.9888 - loss: 0.0352 - val_accuracy: 0.9839 - val_loss: 0.0533\n",
      "Epoch 41/200\n",
      "\u001b[1m304/304\u001b[0m \u001b[32m━━━━━━━━━━━━━━━━━━━━\u001b[0m\u001b[37m\u001b[0m \u001b[1m0s\u001b[0m 142ms/step - accuracy: 0.9917 - loss: 0.0277\n",
      "Epoch 41: val_accuracy did not improve from 0.98393\n",
      "\u001b[1m304/304\u001b[0m \u001b[32m━━━━━━━━━━━━━━━━━━━━\u001b[0m\u001b[37m\u001b[0m \u001b[1m46s\u001b[0m 153ms/step - accuracy: 0.9917 - loss: 0.0277 - val_accuracy: 0.9786 - val_loss: 0.0548\n",
      "Epoch 42/200\n",
      "\u001b[1m304/304\u001b[0m \u001b[32m━━━━━━━━━━━━━━━━━━━━\u001b[0m\u001b[37m\u001b[0m \u001b[1m0s\u001b[0m 144ms/step - accuracy: 0.9879 - loss: 0.0311\n",
      "Epoch 42: val_accuracy did not improve from 0.98393\n",
      "\u001b[1m304/304\u001b[0m \u001b[32m━━━━━━━━━━━━━━━━━━━━\u001b[0m\u001b[37m\u001b[0m \u001b[1m47s\u001b[0m 154ms/step - accuracy: 0.9879 - loss: 0.0311 - val_accuracy: 0.9819 - val_loss: 0.0458\n",
      "Epoch 43/200\n",
      "\u001b[1m304/304\u001b[0m \u001b[32m━━━━━━━━━━━━━━━━━━━━\u001b[0m\u001b[37m\u001b[0m \u001b[1m0s\u001b[0m 141ms/step - accuracy: 0.9889 - loss: 0.0350\n",
      "Epoch 43: val_accuracy improved from 0.98393 to 0.98434, saving model to CNN2D_results/Scalogram_Spectrogram/best_model_5.h5\n"
     ]
    },
    {
     "name": "stderr",
     "output_type": "stream",
     "text": [
      "WARNING:absl:You are saving your model as an HDF5 file via `model.save()` or `keras.saving.save_model(model)`. This file format is considered legacy. We recommend using instead the native Keras format, e.g. `model.save('my_model.keras')` or `keras.saving.save_model(model, 'my_model.keras')`. \n"
     ]
    },
    {
     "name": "stdout",
     "output_type": "stream",
     "text": [
      "\u001b[1m304/304\u001b[0m \u001b[32m━━━━━━━━━━━━━━━━━━━━\u001b[0m\u001b[37m\u001b[0m \u001b[1m46s\u001b[0m 153ms/step - accuracy: 0.9889 - loss: 0.0350 - val_accuracy: 0.9843 - val_loss: 0.0437\n",
      "Epoch 44/200\n",
      "\u001b[1m304/304\u001b[0m \u001b[32m━━━━━━━━━━━━━━━━━━━━\u001b[0m\u001b[37m\u001b[0m \u001b[1m0s\u001b[0m 140ms/step - accuracy: 0.9884 - loss: 0.0377\n",
      "Epoch 44: val_accuracy did not improve from 0.98434\n",
      "\u001b[1m304/304\u001b[0m \u001b[32m━━━━━━━━━━━━━━━━━━━━\u001b[0m\u001b[37m\u001b[0m \u001b[1m46s\u001b[0m 151ms/step - accuracy: 0.9884 - loss: 0.0377 - val_accuracy: 0.9843 - val_loss: 0.0455\n",
      "Epoch 45/200\n",
      "\u001b[1m304/304\u001b[0m \u001b[32m━━━━━━━━━━━━━━━━━━━━\u001b[0m\u001b[37m\u001b[0m \u001b[1m0s\u001b[0m 142ms/step - accuracy: 0.9900 - loss: 0.0317\n",
      "Epoch 45: val_accuracy did not improve from 0.98434\n",
      "\u001b[1m304/304\u001b[0m \u001b[32m━━━━━━━━━━━━━━━━━━━━\u001b[0m\u001b[37m\u001b[0m \u001b[1m46s\u001b[0m 153ms/step - accuracy: 0.9900 - loss: 0.0318 - val_accuracy: 0.9732 - val_loss: 0.0681\n",
      "Epoch 46/200\n",
      "\u001b[1m304/304\u001b[0m \u001b[32m━━━━━━━━━━━━━━━━━━━━\u001b[0m\u001b[37m\u001b[0m \u001b[1m0s\u001b[0m 142ms/step - accuracy: 0.9894 - loss: 0.0324\n",
      "Epoch 46: val_accuracy did not improve from 0.98434\n",
      "\u001b[1m304/304\u001b[0m \u001b[32m━━━━━━━━━━━━━━━━━━━━\u001b[0m\u001b[37m\u001b[0m \u001b[1m47s\u001b[0m 153ms/step - accuracy: 0.9894 - loss: 0.0324 - val_accuracy: 0.9839 - val_loss: 0.0594\n",
      "Epoch 47/200\n",
      "\u001b[1m304/304\u001b[0m \u001b[32m━━━━━━━━━━━━━━━━━━━━\u001b[0m\u001b[37m\u001b[0m \u001b[1m0s\u001b[0m 141ms/step - accuracy: 0.9940 - loss: 0.0176\n",
      "Epoch 47: val_accuracy did not improve from 0.98434\n",
      "\u001b[1m304/304\u001b[0m \u001b[32m━━━━━━━━━━━━━━━━━━━━\u001b[0m\u001b[37m\u001b[0m \u001b[1m46s\u001b[0m 152ms/step - accuracy: 0.9940 - loss: 0.0176 - val_accuracy: 0.9262 - val_loss: 0.2791\n",
      "Epoch 48/200\n",
      "\u001b[1m304/304\u001b[0m \u001b[32m━━━━━━━━━━━━━━━━━━━━\u001b[0m\u001b[37m\u001b[0m \u001b[1m0s\u001b[0m 142ms/step - accuracy: 0.9889 - loss: 0.0413\n",
      "Epoch 48: val_accuracy improved from 0.98434 to 0.98599, saving model to CNN2D_results/Scalogram_Spectrogram/best_model_5.h5\n"
     ]
    },
    {
     "name": "stderr",
     "output_type": "stream",
     "text": [
      "WARNING:absl:You are saving your model as an HDF5 file via `model.save()` or `keras.saving.save_model(model)`. This file format is considered legacy. We recommend using instead the native Keras format, e.g. `model.save('my_model.keras')` or `keras.saving.save_model(model, 'my_model.keras')`. \n"
     ]
    },
    {
     "name": "stdout",
     "output_type": "stream",
     "text": [
      "\u001b[1m304/304\u001b[0m \u001b[32m━━━━━━━━━━━━━━━━━━━━\u001b[0m\u001b[37m\u001b[0m \u001b[1m47s\u001b[0m 153ms/step - accuracy: 0.9889 - loss: 0.0413 - val_accuracy: 0.9860 - val_loss: 0.0687\n",
      "Epoch 49/200\n",
      "\u001b[1m304/304\u001b[0m \u001b[32m━━━━━━━━━━━━━━━━━━━━\u001b[0m\u001b[37m\u001b[0m \u001b[1m0s\u001b[0m 154ms/step - accuracy: 0.9894 - loss: 0.0354\n",
      "Epoch 49: val_accuracy improved from 0.98599 to 0.98681, saving model to CNN2D_results/Scalogram_Spectrogram/best_model_5.h5\n"
     ]
    },
    {
     "name": "stderr",
     "output_type": "stream",
     "text": [
      "WARNING:absl:You are saving your model as an HDF5 file via `model.save()` or `keras.saving.save_model(model)`. This file format is considered legacy. We recommend using instead the native Keras format, e.g. `model.save('my_model.keras')` or `keras.saving.save_model(model, 'my_model.keras')`. \n"
     ]
    },
    {
     "name": "stdout",
     "output_type": "stream",
     "text": [
      "\u001b[1m304/304\u001b[0m \u001b[32m━━━━━━━━━━━━━━━━━━━━\u001b[0m\u001b[37m\u001b[0m \u001b[1m50s\u001b[0m 166ms/step - accuracy: 0.9894 - loss: 0.0353 - val_accuracy: 0.9868 - val_loss: 0.0539\n",
      "Epoch 50/200\n",
      "\u001b[1m304/304\u001b[0m \u001b[32m━━━━━━━━━━━━━━━━━━━━\u001b[0m\u001b[37m\u001b[0m \u001b[1m0s\u001b[0m 152ms/step - accuracy: 0.9888 - loss: 0.0377\n",
      "Epoch 50: val_accuracy did not improve from 0.98681\n",
      "\u001b[1m304/304\u001b[0m \u001b[32m━━━━━━━━━━━━━━━━━━━━\u001b[0m\u001b[37m\u001b[0m \u001b[1m50s\u001b[0m 164ms/step - accuracy: 0.9888 - loss: 0.0378 - val_accuracy: 0.9749 - val_loss: 0.0988\n",
      "Epoch 51/200\n",
      "\u001b[1m304/304\u001b[0m \u001b[32m━━━━━━━━━━━━━━━━━━━━\u001b[0m\u001b[37m\u001b[0m \u001b[1m0s\u001b[0m 155ms/step - accuracy: 0.9860 - loss: 0.0415\n",
      "Epoch 51: val_accuracy did not improve from 0.98681\n",
      "\u001b[1m304/304\u001b[0m \u001b[32m━━━━━━━━━━━━━━━━━━━━\u001b[0m\u001b[37m\u001b[0m \u001b[1m50s\u001b[0m 166ms/step - accuracy: 0.9860 - loss: 0.0415 - val_accuracy: 0.9868 - val_loss: 0.0587\n",
      "Epoch 52/200\n",
      "\u001b[1m304/304\u001b[0m \u001b[32m━━━━━━━━━━━━━━━━━━━━\u001b[0m\u001b[37m\u001b[0m \u001b[1m0s\u001b[0m 144ms/step - accuracy: 0.9936 - loss: 0.0184\n",
      "Epoch 52: val_accuracy did not improve from 0.98681\n",
      "\u001b[1m304/304\u001b[0m \u001b[32m━━━━━━━━━━━━━━━━━━━━\u001b[0m\u001b[37m\u001b[0m \u001b[1m47s\u001b[0m 155ms/step - accuracy: 0.9936 - loss: 0.0184 - val_accuracy: 0.9815 - val_loss: 0.0597\n",
      "Epoch 53/200\n",
      "\u001b[1m304/304\u001b[0m \u001b[32m━━━━━━━━━━━━━━━━━━━━\u001b[0m\u001b[37m\u001b[0m \u001b[1m0s\u001b[0m 142ms/step - accuracy: 0.9908 - loss: 0.0250\n",
      "Epoch 53: val_accuracy did not improve from 0.98681\n",
      "\u001b[1m304/304\u001b[0m \u001b[32m━━━━━━━━━━━━━━━━━━━━\u001b[0m\u001b[37m\u001b[0m \u001b[1m47s\u001b[0m 153ms/step - accuracy: 0.9908 - loss: 0.0250 - val_accuracy: 0.9860 - val_loss: 0.0506\n",
      "Epoch 54/200\n",
      "\u001b[1m304/304\u001b[0m \u001b[32m━━━━━━━━━━━━━━━━━━━━\u001b[0m\u001b[37m\u001b[0m \u001b[1m0s\u001b[0m 141ms/step - accuracy: 0.9922 - loss: 0.0224\n",
      "Epoch 54: val_accuracy did not improve from 0.98681\n",
      "\u001b[1m304/304\u001b[0m \u001b[32m━━━━━━━━━━━━━━━━━━━━\u001b[0m\u001b[37m\u001b[0m \u001b[1m46s\u001b[0m 152ms/step - accuracy: 0.9922 - loss: 0.0224 - val_accuracy: 0.9786 - val_loss: 0.0597\n",
      "Epoch 55/200\n",
      "\u001b[1m304/304\u001b[0m \u001b[32m━━━━━━━━━━━━━━━━━━━━\u001b[0m\u001b[37m\u001b[0m \u001b[1m0s\u001b[0m 142ms/step - accuracy: 0.9883 - loss: 0.0370\n",
      "Epoch 55: val_accuracy did not improve from 0.98681\n",
      "\u001b[1m304/304\u001b[0m \u001b[32m━━━━━━━━━━━━━━━━━━━━\u001b[0m\u001b[37m\u001b[0m \u001b[1m47s\u001b[0m 153ms/step - accuracy: 0.9883 - loss: 0.0370 - val_accuracy: 0.9798 - val_loss: 0.0898\n",
      "Epoch 56/200\n",
      "\u001b[1m304/304\u001b[0m \u001b[32m━━━━━━━━━━━━━━━━━━━━\u001b[0m\u001b[37m\u001b[0m \u001b[1m0s\u001b[0m 143ms/step - accuracy: 0.9911 - loss: 0.0238\n",
      "Epoch 56: val_accuracy did not improve from 0.98681\n",
      "\u001b[1m304/304\u001b[0m \u001b[32m━━━━━━━━━━━━━━━━━━━━\u001b[0m\u001b[37m\u001b[0m \u001b[1m47s\u001b[0m 154ms/step - accuracy: 0.9911 - loss: 0.0238 - val_accuracy: 0.9835 - val_loss: 0.0607\n",
      "Epoch 57/200\n",
      "\u001b[1m304/304\u001b[0m \u001b[32m━━━━━━━━━━━━━━━━━━━━\u001b[0m\u001b[37m\u001b[0m \u001b[1m0s\u001b[0m 142ms/step - accuracy: 0.9947 - loss: 0.0149\n",
      "Epoch 57: val_accuracy did not improve from 0.98681\n",
      "\u001b[1m304/304\u001b[0m \u001b[32m━━━━━━━━━━━━━━━━━━━━\u001b[0m\u001b[37m\u001b[0m \u001b[1m46s\u001b[0m 153ms/step - accuracy: 0.9947 - loss: 0.0149 - val_accuracy: 0.9810 - val_loss: 0.0698\n",
      "Epoch 58/200\n",
      "\u001b[1m304/304\u001b[0m \u001b[32m━━━━━━━━━━━━━━━━━━━━\u001b[0m\u001b[37m\u001b[0m \u001b[1m0s\u001b[0m 142ms/step - accuracy: 0.9951 - loss: 0.0155\n",
      "Epoch 58: val_accuracy did not improve from 0.98681\n",
      "\u001b[1m304/304\u001b[0m \u001b[32m━━━━━━━━━━━━━━━━━━━━\u001b[0m\u001b[37m\u001b[0m \u001b[1m47s\u001b[0m 153ms/step - accuracy: 0.9951 - loss: 0.0155 - val_accuracy: 0.9782 - val_loss: 0.0612\n",
      "Epoch 59/200\n",
      "\u001b[1m304/304\u001b[0m \u001b[32m━━━━━━━━━━━━━━━━━━━━\u001b[0m\u001b[37m\u001b[0m \u001b[1m0s\u001b[0m 142ms/step - accuracy: 0.9862 - loss: 0.0480\n",
      "Epoch 59: val_accuracy did not improve from 0.98681\n",
      "\u001b[1m304/304\u001b[0m \u001b[32m━━━━━━━━━━━━━━━━━━━━\u001b[0m\u001b[37m\u001b[0m \u001b[1m47s\u001b[0m 153ms/step - accuracy: 0.9862 - loss: 0.0480 - val_accuracy: 0.9848 - val_loss: 0.0513\n",
      "Epoch 60/200\n",
      "\u001b[1m304/304\u001b[0m \u001b[32m━━━━━━━━━━━━━━━━━━━━\u001b[0m\u001b[37m\u001b[0m \u001b[1m0s\u001b[0m 141ms/step - accuracy: 0.9957 - loss: 0.0142\n",
      "Epoch 60: val_accuracy did not improve from 0.98681\n",
      "\u001b[1m304/304\u001b[0m \u001b[32m━━━━━━━━━━━━━━━━━━━━\u001b[0m\u001b[37m\u001b[0m \u001b[1m46s\u001b[0m 152ms/step - accuracy: 0.9957 - loss: 0.0142 - val_accuracy: 0.9852 - val_loss: 0.0533\n",
      "Epoch 61/200\n",
      "\u001b[1m304/304\u001b[0m \u001b[32m━━━━━━━━━━━━━━━━━━━━\u001b[0m\u001b[37m\u001b[0m \u001b[1m0s\u001b[0m 149ms/step - accuracy: 0.9973 - loss: 0.0110\n",
      "Epoch 61: val_accuracy did not improve from 0.98681\n",
      "\u001b[1m304/304\u001b[0m \u001b[32m━━━━━━━━━━━━━━━━━━━━\u001b[0m\u001b[37m\u001b[0m \u001b[1m48s\u001b[0m 159ms/step - accuracy: 0.9973 - loss: 0.0111 - val_accuracy: 0.9839 - val_loss: 0.0602\n",
      "Epoch 62/200\n",
      "\u001b[1m304/304\u001b[0m \u001b[32m━━━━━━━━━━━━━━━━━━━━\u001b[0m\u001b[37m\u001b[0m \u001b[1m0s\u001b[0m 147ms/step - accuracy: 0.9956 - loss: 0.0137\n",
      "Epoch 62: val_accuracy did not improve from 0.98681\n",
      "\u001b[1m304/304\u001b[0m \u001b[32m━━━━━━━━━━━━━━━━━━━━\u001b[0m\u001b[37m\u001b[0m \u001b[1m49s\u001b[0m 160ms/step - accuracy: 0.9956 - loss: 0.0137 - val_accuracy: 0.9852 - val_loss: 0.0636\n",
      "Epoch 63/200\n",
      "\u001b[1m304/304\u001b[0m \u001b[32m━━━━━━━━━━━━━━━━━━━━\u001b[0m\u001b[37m\u001b[0m \u001b[1m0s\u001b[0m 144ms/step - accuracy: 0.9930 - loss: 0.0242\n",
      "Epoch 63: val_accuracy improved from 0.98681 to 0.98846, saving model to CNN2D_results/Scalogram_Spectrogram/best_model_5.h5\n"
     ]
    },
    {
     "name": "stderr",
     "output_type": "stream",
     "text": [
      "WARNING:absl:You are saving your model as an HDF5 file via `model.save()` or `keras.saving.save_model(model)`. This file format is considered legacy. We recommend using instead the native Keras format, e.g. `model.save('my_model.keras')` or `keras.saving.save_model(model, 'my_model.keras')`. \n"
     ]
    },
    {
     "name": "stdout",
     "output_type": "stream",
     "text": [
      "\u001b[1m304/304\u001b[0m \u001b[32m━━━━━━━━━━━━━━━━━━━━\u001b[0m\u001b[37m\u001b[0m \u001b[1m47s\u001b[0m 155ms/step - accuracy: 0.9930 - loss: 0.0242 - val_accuracy: 0.9885 - val_loss: 0.0518\n",
      "Epoch 64/200\n",
      "\u001b[1m304/304\u001b[0m \u001b[32m━━━━━━━━━━━━━━━━━━━━\u001b[0m\u001b[37m\u001b[0m \u001b[1m0s\u001b[0m 147ms/step - accuracy: 0.9962 - loss: 0.0137\n",
      "Epoch 64: val_accuracy did not improve from 0.98846\n",
      "\u001b[1m304/304\u001b[0m \u001b[32m━━━━━━━━━━━━━━━━━━━━\u001b[0m\u001b[37m\u001b[0m \u001b[1m48s\u001b[0m 158ms/step - accuracy: 0.9962 - loss: 0.0137 - val_accuracy: 0.9831 - val_loss: 0.0734\n",
      "Epoch 65/200\n",
      "\u001b[1m304/304\u001b[0m \u001b[32m━━━━━━━━━━━━━━━━━━━━\u001b[0m\u001b[37m\u001b[0m \u001b[1m0s\u001b[0m 141ms/step - accuracy: 0.9971 - loss: 0.0132\n",
      "Epoch 65: val_accuracy did not improve from 0.98846\n",
      "\u001b[1m304/304\u001b[0m \u001b[32m━━━━━━━━━━━━━━━━━━━━\u001b[0m\u001b[37m\u001b[0m \u001b[1m46s\u001b[0m 152ms/step - accuracy: 0.9970 - loss: 0.0132 - val_accuracy: 0.9848 - val_loss: 0.0519\n",
      "Epoch 66/200\n",
      "\u001b[1m304/304\u001b[0m \u001b[32m━━━━━━━━━━━━━━━━━━━━\u001b[0m\u001b[37m\u001b[0m \u001b[1m0s\u001b[0m 142ms/step - accuracy: 0.9821 - loss: 0.0829\n",
      "Epoch 66: val_accuracy did not improve from 0.98846\n",
      "\u001b[1m304/304\u001b[0m \u001b[32m━━━━━━━━━━━━━━━━━━━━\u001b[0m\u001b[37m\u001b[0m \u001b[1m46s\u001b[0m 153ms/step - accuracy: 0.9821 - loss: 0.0827 - val_accuracy: 0.9819 - val_loss: 0.0520\n",
      "Epoch 67/200\n",
      "\u001b[1m304/304\u001b[0m \u001b[32m━━━━━━━━━━━━━━━━━━━━\u001b[0m\u001b[37m\u001b[0m \u001b[1m0s\u001b[0m 142ms/step - accuracy: 0.9951 - loss: 0.0209\n",
      "Epoch 67: val_accuracy did not improve from 0.98846\n",
      "\u001b[1m304/304\u001b[0m \u001b[32m━━━━━━━━━━━━━━━━━━━━\u001b[0m\u001b[37m\u001b[0m \u001b[1m46s\u001b[0m 153ms/step - accuracy: 0.9951 - loss: 0.0209 - val_accuracy: 0.9831 - val_loss: 0.0631\n",
      "Epoch 68/200\n",
      "\u001b[1m304/304\u001b[0m \u001b[32m━━━━━━━━━━━━━━━━━━━━\u001b[0m\u001b[37m\u001b[0m \u001b[1m0s\u001b[0m 143ms/step - accuracy: 0.9949 - loss: 0.0170\n",
      "Epoch 68: val_accuracy did not improve from 0.98846\n",
      "\u001b[1m304/304\u001b[0m \u001b[32m━━━━━━━━━━━━━━━━━━━━\u001b[0m\u001b[37m\u001b[0m \u001b[1m47s\u001b[0m 154ms/step - accuracy: 0.9949 - loss: 0.0171 - val_accuracy: 0.9835 - val_loss: 0.0574\n",
      "Epoch 69/200\n",
      "\u001b[1m304/304\u001b[0m \u001b[32m━━━━━━━━━━━━━━━━━━━━\u001b[0m\u001b[37m\u001b[0m \u001b[1m0s\u001b[0m 142ms/step - accuracy: 0.9963 - loss: 0.0139\n",
      "Epoch 69: val_accuracy did not improve from 0.98846\n",
      "\u001b[1m304/304\u001b[0m \u001b[32m━━━━━━━━━━━━━━━━━━━━\u001b[0m\u001b[37m\u001b[0m \u001b[1m46s\u001b[0m 153ms/step - accuracy: 0.9963 - loss: 0.0139 - val_accuracy: 0.9868 - val_loss: 0.0481\n",
      "Epoch 70/200\n",
      "\u001b[1m304/304\u001b[0m \u001b[32m━━━━━━━━━━━━━━━━━━━━\u001b[0m\u001b[37m\u001b[0m \u001b[1m0s\u001b[0m 142ms/step - accuracy: 0.9953 - loss: 0.0146\n",
      "Epoch 70: val_accuracy did not improve from 0.98846\n",
      "\u001b[1m304/304\u001b[0m \u001b[32m━━━━━━━━━━━━━━━━━━━━\u001b[0m\u001b[37m\u001b[0m \u001b[1m46s\u001b[0m 152ms/step - accuracy: 0.9953 - loss: 0.0146 - val_accuracy: 0.9843 - val_loss: 0.0510\n",
      "Epoch 71/200\n",
      "\u001b[1m304/304\u001b[0m \u001b[32m━━━━━━━━━━━━━━━━━━━━\u001b[0m\u001b[37m\u001b[0m \u001b[1m0s\u001b[0m 142ms/step - accuracy: 0.9975 - loss: 0.0085\n",
      "Epoch 71: val_accuracy did not improve from 0.98846\n",
      "\u001b[1m304/304\u001b[0m \u001b[32m━━━━━━━━━━━━━━━━━━━━\u001b[0m\u001b[37m\u001b[0m \u001b[1m46s\u001b[0m 153ms/step - accuracy: 0.9975 - loss: 0.0086 - val_accuracy: 0.9848 - val_loss: 0.0635\n",
      "Epoch 72/200\n",
      "\u001b[1m304/304\u001b[0m \u001b[32m━━━━━━━━━━━━━━━━━━━━\u001b[0m\u001b[37m\u001b[0m \u001b[1m0s\u001b[0m 149ms/step - accuracy: 0.9839 - loss: 0.0865\n",
      "Epoch 72: val_accuracy did not improve from 0.98846\n",
      "\u001b[1m304/304\u001b[0m \u001b[32m━━━━━━━━━━━━━━━━━━━━\u001b[0m\u001b[37m\u001b[0m \u001b[1m49s\u001b[0m 160ms/step - accuracy: 0.9839 - loss: 0.0864 - val_accuracy: 0.9843 - val_loss: 0.0436\n",
      "Epoch 73/200\n",
      "\u001b[1m304/304\u001b[0m \u001b[32m━━━━━━━━━━━━━━━━━━━━\u001b[0m\u001b[37m\u001b[0m \u001b[1m0s\u001b[0m 148ms/step - accuracy: 0.9984 - loss: 0.0051\n",
      "Epoch 73: val_accuracy did not improve from 0.98846\n",
      "\u001b[1m304/304\u001b[0m \u001b[32m━━━━━━━━━━━━━━━━━━━━\u001b[0m\u001b[37m\u001b[0m \u001b[1m48s\u001b[0m 159ms/step - accuracy: 0.9984 - loss: 0.0051 - val_accuracy: 0.9831 - val_loss: 0.0861\n",
      "Epoch 74/200\n",
      "\u001b[1m304/304\u001b[0m \u001b[32m━━━━━━━━━━━━━━━━━━━━\u001b[0m\u001b[37m\u001b[0m \u001b[1m0s\u001b[0m 145ms/step - accuracy: 0.9963 - loss: 0.0117\n",
      "Epoch 74: val_accuracy did not improve from 0.98846\n",
      "\u001b[1m304/304\u001b[0m \u001b[32m━━━━━━━━━━━━━━━━━━━━\u001b[0m\u001b[37m\u001b[0m \u001b[1m47s\u001b[0m 156ms/step - accuracy: 0.9963 - loss: 0.0117 - val_accuracy: 0.9860 - val_loss: 0.0467\n",
      "Epoch 75/200\n",
      "\u001b[1m304/304\u001b[0m \u001b[32m━━━━━━━━━━━━━━━━━━━━\u001b[0m\u001b[37m\u001b[0m \u001b[1m0s\u001b[0m 143ms/step - accuracy: 0.9996 - loss: 0.0018\n",
      "Epoch 75: val_accuracy did not improve from 0.98846\n",
      "\u001b[1m304/304\u001b[0m \u001b[32m━━━━━━━━━━━━━━━━━━━━\u001b[0m\u001b[37m\u001b[0m \u001b[1m47s\u001b[0m 154ms/step - accuracy: 0.9996 - loss: 0.0018 - val_accuracy: 0.9864 - val_loss: 0.0612\n",
      "Epoch 76/200\n",
      "\u001b[1m304/304\u001b[0m \u001b[32m━━━━━━━━━━━━━━━━━━━━\u001b[0m\u001b[37m\u001b[0m \u001b[1m0s\u001b[0m 146ms/step - accuracy: 0.9912 - loss: 0.0302\n",
      "Epoch 76: val_accuracy did not improve from 0.98846\n",
      "\u001b[1m304/304\u001b[0m \u001b[32m━━━━━━━━━━━━━━━━━━━━\u001b[0m\u001b[37m\u001b[0m \u001b[1m48s\u001b[0m 157ms/step - accuracy: 0.9912 - loss: 0.0303 - val_accuracy: 0.9848 - val_loss: 0.0469\n",
      "Epoch 77/200\n",
      "\u001b[1m304/304\u001b[0m \u001b[32m━━━━━━━━━━━━━━━━━━━━\u001b[0m\u001b[37m\u001b[0m \u001b[1m0s\u001b[0m 150ms/step - accuracy: 0.9960 - loss: 0.0126\n",
      "Epoch 77: val_accuracy did not improve from 0.98846\n",
      "\u001b[1m304/304\u001b[0m \u001b[32m━━━━━━━━━━━━━━━━━━━━\u001b[0m\u001b[37m\u001b[0m \u001b[1m49s\u001b[0m 161ms/step - accuracy: 0.9960 - loss: 0.0126 - val_accuracy: 0.9856 - val_loss: 0.0555\n",
      "Epoch 78/200\n",
      "\u001b[1m304/304\u001b[0m \u001b[32m━━━━━━━━━━━━━━━━━━━━\u001b[0m\u001b[37m\u001b[0m \u001b[1m0s\u001b[0m 149ms/step - accuracy: 0.9946 - loss: 0.0231\n",
      "Epoch 78: val_accuracy did not improve from 0.98846\n",
      "\u001b[1m304/304\u001b[0m \u001b[32m━━━━━━━━━━━━━━━━━━━━\u001b[0m\u001b[37m\u001b[0m \u001b[1m49s\u001b[0m 160ms/step - accuracy: 0.9946 - loss: 0.0231 - val_accuracy: 0.9839 - val_loss: 0.0715\n",
      "Epoch 79/200\n",
      "\u001b[1m304/304\u001b[0m \u001b[32m━━━━━━━━━━━━━━━━━━━━\u001b[0m\u001b[37m\u001b[0m \u001b[1m0s\u001b[0m 145ms/step - accuracy: 0.9971 - loss: 0.0121\n",
      "Epoch 79: val_accuracy did not improve from 0.98846\n",
      "\u001b[1m304/304\u001b[0m \u001b[32m━━━━━━━━━━━━━━━━━━━━\u001b[0m\u001b[37m\u001b[0m \u001b[1m48s\u001b[0m 157ms/step - accuracy: 0.9971 - loss: 0.0121 - val_accuracy: 0.9864 - val_loss: 0.0496\n",
      "Epoch 80/200\n",
      "\u001b[1m304/304\u001b[0m \u001b[32m━━━━━━━━━━━━━━━━━━━━\u001b[0m\u001b[37m\u001b[0m \u001b[1m0s\u001b[0m 144ms/step - accuracy: 0.9956 - loss: 0.0189\n",
      "Epoch 80: val_accuracy did not improve from 0.98846\n",
      "\u001b[1m304/304\u001b[0m \u001b[32m━━━━━━━━━━━━━━━━━━━━\u001b[0m\u001b[37m\u001b[0m \u001b[1m47s\u001b[0m 155ms/step - accuracy: 0.9956 - loss: 0.0189 - val_accuracy: 0.9843 - val_loss: 0.0568\n",
      "Epoch 81/200\n",
      "\u001b[1m304/304\u001b[0m \u001b[32m━━━━━━━━━━━━━━━━━━━━\u001b[0m\u001b[37m\u001b[0m \u001b[1m0s\u001b[0m 143ms/step - accuracy: 0.9940 - loss: 0.0195\n",
      "Epoch 81: val_accuracy did not improve from 0.98846\n",
      "\u001b[1m304/304\u001b[0m \u001b[32m━━━━━━━━━━━━━━━━━━━━\u001b[0m\u001b[37m\u001b[0m \u001b[1m47s\u001b[0m 153ms/step - accuracy: 0.9940 - loss: 0.0195 - val_accuracy: 0.9852 - val_loss: 0.0639\n",
      "Epoch 82/200\n",
      "\u001b[1m304/304\u001b[0m \u001b[32m━━━━━━━━━━━━━━━━━━━━\u001b[0m\u001b[37m\u001b[0m \u001b[1m0s\u001b[0m 143ms/step - accuracy: 0.9968 - loss: 0.0089\n",
      "Epoch 82: val_accuracy did not improve from 0.98846\n",
      "\u001b[1m304/304\u001b[0m \u001b[32m━━━━━━━━━━━━━━━━━━━━\u001b[0m\u001b[37m\u001b[0m \u001b[1m47s\u001b[0m 154ms/step - accuracy: 0.9968 - loss: 0.0089 - val_accuracy: 0.9798 - val_loss: 0.0851\n",
      "Epoch 83/200\n",
      "\u001b[1m304/304\u001b[0m \u001b[32m━━━━━━━━━━━━━━━━━━━━\u001b[0m\u001b[37m\u001b[0m \u001b[1m0s\u001b[0m 147ms/step - accuracy: 0.9948 - loss: 0.0150\n",
      "Epoch 83: val_accuracy did not improve from 0.98846\n",
      "\u001b[1m304/304\u001b[0m \u001b[32m━━━━━━━━━━━━━━━━━━━━\u001b[0m\u001b[37m\u001b[0m \u001b[1m48s\u001b[0m 158ms/step - accuracy: 0.9949 - loss: 0.0150 - val_accuracy: 0.9872 - val_loss: 0.0541\n",
      "Epoch 84/200\n",
      "\u001b[1m304/304\u001b[0m \u001b[32m━━━━━━━━━━━━━━━━━━━━\u001b[0m\u001b[37m\u001b[0m \u001b[1m0s\u001b[0m 143ms/step - accuracy: 1.0000 - loss: 5.4604e-04\n",
      "Epoch 84: val_accuracy did not improve from 0.98846\n",
      "\u001b[1m304/304\u001b[0m \u001b[32m━━━━━━━━━━━━━━━━━━━━\u001b[0m\u001b[37m\u001b[0m \u001b[1m47s\u001b[0m 154ms/step - accuracy: 1.0000 - loss: 5.4577e-04 - val_accuracy: 0.9876 - val_loss: 0.0647\n",
      "Epoch 85/200\n",
      "\u001b[1m304/304\u001b[0m \u001b[32m━━━━━━━━━━━━━━━━━━━━\u001b[0m\u001b[37m\u001b[0m \u001b[1m0s\u001b[0m 145ms/step - accuracy: 0.9936 - loss: 0.0232\n",
      "Epoch 85: val_accuracy did not improve from 0.98846\n",
      "\u001b[1m304/304\u001b[0m \u001b[32m━━━━━━━━━━━━━━━━━━━━\u001b[0m\u001b[37m\u001b[0m \u001b[1m47s\u001b[0m 156ms/step - accuracy: 0.9936 - loss: 0.0232 - val_accuracy: 0.9745 - val_loss: 0.1338\n",
      "Epoch 86/200\n",
      "\u001b[1m304/304\u001b[0m \u001b[32m━━━━━━━━━━━━━━━━━━━━\u001b[0m\u001b[37m\u001b[0m \u001b[1m0s\u001b[0m 152ms/step - accuracy: 0.9894 - loss: 0.0521\n",
      "Epoch 86: val_accuracy did not improve from 0.98846\n",
      "\u001b[1m304/304\u001b[0m \u001b[32m━━━━━━━━━━━━━━━━━━━━\u001b[0m\u001b[37m\u001b[0m \u001b[1m49s\u001b[0m 163ms/step - accuracy: 0.9894 - loss: 0.0520 - val_accuracy: 0.9843 - val_loss: 0.0656\n",
      "Epoch 87/200\n",
      "\u001b[1m304/304\u001b[0m \u001b[32m━━━━━━━━━━━━━━━━━━━━\u001b[0m\u001b[37m\u001b[0m \u001b[1m0s\u001b[0m 146ms/step - accuracy: 0.9953 - loss: 0.0150\n",
      "Epoch 87: val_accuracy did not improve from 0.98846\n",
      "\u001b[1m304/304\u001b[0m \u001b[32m━━━━━━━━━━━━━━━━━━━━\u001b[0m\u001b[37m\u001b[0m \u001b[1m48s\u001b[0m 157ms/step - accuracy: 0.9953 - loss: 0.0150 - val_accuracy: 0.9856 - val_loss: 0.0504\n",
      "Epoch 88/200\n",
      "\u001b[1m304/304\u001b[0m \u001b[32m━━━━━━━━━━━━━━━━━━━━\u001b[0m\u001b[37m\u001b[0m \u001b[1m0s\u001b[0m 156ms/step - accuracy: 0.9922 - loss: 0.0270\n",
      "Epoch 88: val_accuracy did not improve from 0.98846\n",
      "\u001b[1m304/304\u001b[0m \u001b[32m━━━━━━━━━━━━━━━━━━━━\u001b[0m\u001b[37m\u001b[0m \u001b[1m51s\u001b[0m 167ms/step - accuracy: 0.9922 - loss: 0.0271 - val_accuracy: 0.9815 - val_loss: 0.0703\n",
      "Epoch 89/200\n",
      "\u001b[1m304/304\u001b[0m \u001b[32m━━━━━━━━━━━━━━━━━━━━\u001b[0m\u001b[37m\u001b[0m \u001b[1m0s\u001b[0m 154ms/step - accuracy: 0.9901 - loss: 0.0285\n",
      "Epoch 89: val_accuracy did not improve from 0.98846\n",
      "\u001b[1m304/304\u001b[0m \u001b[32m━━━━━━━━━━━━━━━━━━━━\u001b[0m\u001b[37m\u001b[0m \u001b[1m50s\u001b[0m 166ms/step - accuracy: 0.9901 - loss: 0.0285 - val_accuracy: 0.9831 - val_loss: 0.0626\n",
      "Epoch 90/200\n",
      "\u001b[1m304/304\u001b[0m \u001b[32m━━━━━━━━━━━━━━━━━━━━\u001b[0m\u001b[37m\u001b[0m \u001b[1m0s\u001b[0m 150ms/step - accuracy: 0.9977 - loss: 0.0103\n",
      "Epoch 90: val_accuracy did not improve from 0.98846\n",
      "\u001b[1m304/304\u001b[0m \u001b[32m━━━━━━━━━━━━━━━━━━━━\u001b[0m\u001b[37m\u001b[0m \u001b[1m49s\u001b[0m 161ms/step - accuracy: 0.9977 - loss: 0.0103 - val_accuracy: 0.9798 - val_loss: 0.0876\n",
      "Epoch 91/200\n",
      "\u001b[1m304/304\u001b[0m \u001b[32m━━━━━━━━━━━━━━━━━━━━\u001b[0m\u001b[37m\u001b[0m \u001b[1m0s\u001b[0m 152ms/step - accuracy: 0.9963 - loss: 0.0365\n",
      "Epoch 91: val_accuracy did not improve from 0.98846\n",
      "\u001b[1m304/304\u001b[0m \u001b[32m━━━━━━━━━━━━━━━━━━━━\u001b[0m\u001b[37m\u001b[0m \u001b[1m50s\u001b[0m 163ms/step - accuracy: 0.9963 - loss: 0.0364 - val_accuracy: 0.9786 - val_loss: 0.1216\n",
      "Epoch 92/200\n",
      "\u001b[1m304/304\u001b[0m \u001b[32m━━━━━━━━━━━━━━━━━━━━\u001b[0m\u001b[37m\u001b[0m \u001b[1m0s\u001b[0m 148ms/step - accuracy: 0.9973 - loss: 0.0137\n",
      "Epoch 92: val_accuracy improved from 0.98846 to 0.99011, saving model to CNN2D_results/Scalogram_Spectrogram/best_model_5.h5\n"
     ]
    },
    {
     "name": "stderr",
     "output_type": "stream",
     "text": [
      "WARNING:absl:You are saving your model as an HDF5 file via `model.save()` or `keras.saving.save_model(model)`. This file format is considered legacy. We recommend using instead the native Keras format, e.g. `model.save('my_model.keras')` or `keras.saving.save_model(model, 'my_model.keras')`. \n"
     ]
    },
    {
     "name": "stdout",
     "output_type": "stream",
     "text": [
      "\u001b[1m304/304\u001b[0m \u001b[32m━━━━━━━━━━━━━━━━━━━━\u001b[0m\u001b[37m\u001b[0m \u001b[1m49s\u001b[0m 159ms/step - accuracy: 0.9973 - loss: 0.0137 - val_accuracy: 0.9901 - val_loss: 0.0460\n",
      "Epoch 93/200\n",
      "\u001b[1m304/304\u001b[0m \u001b[32m━━━━━━━━━━━━━━━━━━━━\u001b[0m\u001b[37m\u001b[0m \u001b[1m0s\u001b[0m 142ms/step - accuracy: 0.9993 - loss: 0.0045\n",
      "Epoch 93: val_accuracy did not improve from 0.99011\n",
      "\u001b[1m304/304\u001b[0m \u001b[32m━━━━━━━━━━━━━━━━━━━━\u001b[0m\u001b[37m\u001b[0m \u001b[1m47s\u001b[0m 153ms/step - accuracy: 0.9992 - loss: 0.0045 - val_accuracy: 0.9831 - val_loss: 0.0525\n",
      "Epoch 94/200\n",
      "\u001b[1m304/304\u001b[0m \u001b[32m━━━━━━━━━━━━━━━━━━━━\u001b[0m\u001b[37m\u001b[0m \u001b[1m0s\u001b[0m 142ms/step - accuracy: 0.9958 - loss: 0.0179\n",
      "Epoch 94: val_accuracy did not improve from 0.99011\n",
      "\u001b[1m304/304\u001b[0m \u001b[32m━━━━━━━━━━━━━━━━━━━━\u001b[0m\u001b[37m\u001b[0m \u001b[1m46s\u001b[0m 153ms/step - accuracy: 0.9958 - loss: 0.0179 - val_accuracy: 0.9852 - val_loss: 0.0552\n",
      "Epoch 95/200\n",
      "\u001b[1m304/304\u001b[0m \u001b[32m━━━━━━━━━━━━━━━━━━━━\u001b[0m\u001b[37m\u001b[0m \u001b[1m0s\u001b[0m 142ms/step - accuracy: 0.9992 - loss: 0.0056\n",
      "Epoch 95: val_accuracy did not improve from 0.99011\n",
      "\u001b[1m304/304\u001b[0m \u001b[32m━━━━━━━━━━━━━━━━━━━━\u001b[0m\u001b[37m\u001b[0m \u001b[1m46s\u001b[0m 153ms/step - accuracy: 0.9992 - loss: 0.0057 - val_accuracy: 0.9691 - val_loss: 0.1318\n",
      "Epoch 96/200\n",
      "\u001b[1m304/304\u001b[0m \u001b[32m━━━━━━━━━━━━━━━━━━━━\u001b[0m\u001b[37m\u001b[0m \u001b[1m0s\u001b[0m 142ms/step - accuracy: 0.9879 - loss: 0.0426\n",
      "Epoch 96: val_accuracy did not improve from 0.99011\n",
      "\u001b[1m304/304\u001b[0m \u001b[32m━━━━━━━━━━━━━━━━━━━━\u001b[0m\u001b[37m\u001b[0m \u001b[1m46s\u001b[0m 152ms/step - accuracy: 0.9879 - loss: 0.0425 - val_accuracy: 0.9852 - val_loss: 0.0570\n",
      "Epoch 97/200\n",
      "\u001b[1m304/304\u001b[0m \u001b[32m━━━━━━━━━━━━━━━━━━━━\u001b[0m\u001b[37m\u001b[0m \u001b[1m0s\u001b[0m 140ms/step - accuracy: 0.9973 - loss: 0.0074\n",
      "Epoch 97: val_accuracy did not improve from 0.99011\n",
      "\u001b[1m304/304\u001b[0m \u001b[32m━━━━━━━━━━━━━━━━━━━━\u001b[0m\u001b[37m\u001b[0m \u001b[1m46s\u001b[0m 151ms/step - accuracy: 0.9973 - loss: 0.0074 - val_accuracy: 0.9843 - val_loss: 0.0583\n",
      "Epoch 98/200\n",
      "\u001b[1m304/304\u001b[0m \u001b[32m━━━━━━━━━━━━━━━━━━━━\u001b[0m\u001b[37m\u001b[0m \u001b[1m0s\u001b[0m 142ms/step - accuracy: 0.9988 - loss: 0.0039\n",
      "Epoch 98: val_accuracy did not improve from 0.99011\n",
      "\u001b[1m304/304\u001b[0m \u001b[32m━━━━━━━━━━━━━━━━━━━━\u001b[0m\u001b[37m\u001b[0m \u001b[1m46s\u001b[0m 153ms/step - accuracy: 0.9988 - loss: 0.0039 - val_accuracy: 0.9864 - val_loss: 0.0595\n",
      "Epoch 99/200\n",
      "\u001b[1m304/304\u001b[0m \u001b[32m━━━━━━━━━━━━━━━━━━━━\u001b[0m\u001b[37m\u001b[0m \u001b[1m0s\u001b[0m 145ms/step - accuracy: 0.9933 - loss: 0.0305\n",
      "Epoch 99: val_accuracy did not improve from 0.99011\n",
      "\u001b[1m304/304\u001b[0m \u001b[32m━━━━━━━━━━━━━━━━━━━━\u001b[0m\u001b[37m\u001b[0m \u001b[1m47s\u001b[0m 156ms/step - accuracy: 0.9932 - loss: 0.0305 - val_accuracy: 0.9843 - val_loss: 0.0559\n",
      "Epoch 100/200\n",
      "\u001b[1m304/304\u001b[0m \u001b[32m━━━━━━━━━━━━━━━━━━━━\u001b[0m\u001b[37m\u001b[0m \u001b[1m0s\u001b[0m 144ms/step - accuracy: 0.9926 - loss: 0.0262\n",
      "Epoch 100: val_accuracy did not improve from 0.99011\n",
      "\u001b[1m304/304\u001b[0m \u001b[32m━━━━━━━━━━━━━━━━━━━━\u001b[0m\u001b[37m\u001b[0m \u001b[1m47s\u001b[0m 155ms/step - accuracy: 0.9926 - loss: 0.0262 - val_accuracy: 0.9839 - val_loss: 0.0563\n",
      "Epoch 101/200\n",
      "\u001b[1m304/304\u001b[0m \u001b[32m━━━━━━━━━━━━━━━━━━━━\u001b[0m\u001b[37m\u001b[0m \u001b[1m0s\u001b[0m 147ms/step - accuracy: 0.9981 - loss: 0.0047\n",
      "Epoch 101: val_accuracy did not improve from 0.99011\n",
      "\u001b[1m304/304\u001b[0m \u001b[32m━━━━━━━━━━━━━━━━━━━━\u001b[0m\u001b[37m\u001b[0m \u001b[1m48s\u001b[0m 158ms/step - accuracy: 0.9981 - loss: 0.0047 - val_accuracy: 0.9819 - val_loss: 0.0669\n",
      "Epoch 102/200\n",
      "\u001b[1m304/304\u001b[0m \u001b[32m━━━━━━━━━━━━━━━━━━━━\u001b[0m\u001b[37m\u001b[0m \u001b[1m0s\u001b[0m 152ms/step - accuracy: 0.9921 - loss: 0.0275\n",
      "Epoch 102: val_accuracy did not improve from 0.99011\n",
      "\u001b[1m304/304\u001b[0m \u001b[32m━━━━━━━━━━━━━━━━━━━━\u001b[0m\u001b[37m\u001b[0m \u001b[1m50s\u001b[0m 163ms/step - accuracy: 0.9921 - loss: 0.0274 - val_accuracy: 0.9835 - val_loss: 0.0515\n",
      "Epoch 103/200\n",
      "\u001b[1m304/304\u001b[0m \u001b[32m━━━━━━━━━━━━━━━━━━━━\u001b[0m\u001b[37m\u001b[0m \u001b[1m0s\u001b[0m 145ms/step - accuracy: 0.9973 - loss: 0.0090\n",
      "Epoch 103: val_accuracy did not improve from 0.99011\n",
      "\u001b[1m304/304\u001b[0m \u001b[32m━━━━━━━━━━━━━━━━━━━━\u001b[0m\u001b[37m\u001b[0m \u001b[1m48s\u001b[0m 157ms/step - accuracy: 0.9973 - loss: 0.0091 - val_accuracy: 0.9794 - val_loss: 0.0612\n",
      "Epoch 104/200\n",
      "\u001b[1m304/304\u001b[0m \u001b[32m━━━━━━━━━━━━━━━━━━━━\u001b[0m\u001b[37m\u001b[0m \u001b[1m0s\u001b[0m 149ms/step - accuracy: 0.9967 - loss: 0.0146\n",
      "Epoch 104: val_accuracy did not improve from 0.99011\n",
      "\u001b[1m304/304\u001b[0m \u001b[32m━━━━━━━━━━━━━━━━━━━━\u001b[0m\u001b[37m\u001b[0m \u001b[1m49s\u001b[0m 160ms/step - accuracy: 0.9967 - loss: 0.0145 - val_accuracy: 0.9819 - val_loss: 0.0793\n",
      "Epoch 105/200\n",
      "\u001b[1m304/304\u001b[0m \u001b[32m━━━━━━━━━━━━━━━━━━━━\u001b[0m\u001b[37m\u001b[0m \u001b[1m0s\u001b[0m 144ms/step - accuracy: 0.9984 - loss: 0.0056\n",
      "Epoch 105: val_accuracy did not improve from 0.99011\n",
      "\u001b[1m304/304\u001b[0m \u001b[32m━━━━━━━━━━━━━━━━━━━━\u001b[0m\u001b[37m\u001b[0m \u001b[1m47s\u001b[0m 154ms/step - accuracy: 0.9984 - loss: 0.0056 - val_accuracy: 0.9848 - val_loss: 0.0696\n",
      "Epoch 106/200\n",
      "\u001b[1m304/304\u001b[0m \u001b[32m━━━━━━━━━━━━━━━━━━━━\u001b[0m\u001b[37m\u001b[0m \u001b[1m0s\u001b[0m 144ms/step - accuracy: 0.9987 - loss: 0.0043\n",
      "Epoch 106: val_accuracy did not improve from 0.99011\n",
      "\u001b[1m304/304\u001b[0m \u001b[32m━━━━━━━━━━━━━━━━━━━━\u001b[0m\u001b[37m\u001b[0m \u001b[1m47s\u001b[0m 154ms/step - accuracy: 0.9987 - loss: 0.0043 - val_accuracy: 0.9848 - val_loss: 0.0639\n",
      "Epoch 107/200\n",
      "\u001b[1m304/304\u001b[0m \u001b[32m━━━━━━━━━━━━━━━━━━━━\u001b[0m\u001b[37m\u001b[0m \u001b[1m0s\u001b[0m 156ms/step - accuracy: 0.9987 - loss: 0.0046\n",
      "Epoch 107: val_accuracy did not improve from 0.99011\n",
      "\u001b[1m304/304\u001b[0m \u001b[32m━━━━━━━━━━━━━━━━━━━━\u001b[0m\u001b[37m\u001b[0m \u001b[1m51s\u001b[0m 168ms/step - accuracy: 0.9987 - loss: 0.0046 - val_accuracy: 0.9876 - val_loss: 0.0574\n",
      "Epoch 108/200\n",
      "\u001b[1m304/304\u001b[0m \u001b[32m━━━━━━━━━━━━━━━━━━━━\u001b[0m\u001b[37m\u001b[0m \u001b[1m0s\u001b[0m 157ms/step - accuracy: 0.9900 - loss: 0.0509\n",
      "Epoch 108: val_accuracy did not improve from 0.99011\n",
      "\u001b[1m304/304\u001b[0m \u001b[32m━━━━━━━━━━━━━━━━━━━━\u001b[0m\u001b[37m\u001b[0m \u001b[1m52s\u001b[0m 170ms/step - accuracy: 0.9900 - loss: 0.0509 - val_accuracy: 0.9864 - val_loss: 0.0530\n",
      "Epoch 109/200\n",
      "\u001b[1m304/304\u001b[0m \u001b[32m━━━━━━━━━━━━━━━━━━━━\u001b[0m\u001b[37m\u001b[0m \u001b[1m0s\u001b[0m 144ms/step - accuracy: 0.9997 - loss: 0.0023\n",
      "Epoch 109: val_accuracy did not improve from 0.99011\n",
      "\u001b[1m304/304\u001b[0m \u001b[32m━━━━━━━━━━━━━━━━━━━━\u001b[0m\u001b[37m\u001b[0m \u001b[1m47s\u001b[0m 155ms/step - accuracy: 0.9997 - loss: 0.0023 - val_accuracy: 0.9819 - val_loss: 0.0777\n",
      "Epoch 110/200\n",
      "\u001b[1m304/304\u001b[0m \u001b[32m━━━━━━━━━━━━━━━━━━━━\u001b[0m\u001b[37m\u001b[0m \u001b[1m0s\u001b[0m 143ms/step - accuracy: 0.9980 - loss: 0.0089\n",
      "Epoch 110: val_accuracy did not improve from 0.99011\n",
      "\u001b[1m304/304\u001b[0m \u001b[32m━━━━━━━━━━━━━━━━━━━━\u001b[0m\u001b[37m\u001b[0m \u001b[1m47s\u001b[0m 154ms/step - accuracy: 0.9980 - loss: 0.0089 - val_accuracy: 0.9881 - val_loss: 0.0488\n",
      "Epoch 111/200\n",
      "\u001b[1m304/304\u001b[0m \u001b[32m━━━━━━━━━━━━━━━━━━━━\u001b[0m\u001b[37m\u001b[0m \u001b[1m0s\u001b[0m 144ms/step - accuracy: 0.9932 - loss: 0.0432\n",
      "Epoch 111: val_accuracy did not improve from 0.99011\n",
      "\u001b[1m304/304\u001b[0m \u001b[32m━━━━━━━━━━━━━━━━━━━━\u001b[0m\u001b[37m\u001b[0m \u001b[1m47s\u001b[0m 154ms/step - accuracy: 0.9932 - loss: 0.0433 - val_accuracy: 0.9852 - val_loss: 0.0481\n",
      "Epoch 112/200\n",
      "\u001b[1m304/304\u001b[0m \u001b[32m━━━━━━━━━━━━━━━━━━━━\u001b[0m\u001b[37m\u001b[0m \u001b[1m0s\u001b[0m 149ms/step - accuracy: 0.9975 - loss: 0.0088\n",
      "Epoch 112: val_accuracy did not improve from 0.99011\n",
      "\u001b[1m304/304\u001b[0m \u001b[32m━━━━━━━━━━━━━━━━━━━━\u001b[0m\u001b[37m\u001b[0m \u001b[1m49s\u001b[0m 160ms/step - accuracy: 0.9975 - loss: 0.0089 - val_accuracy: 0.9843 - val_loss: 0.0449\n",
      "Epoch 113/200\n",
      "\u001b[1m304/304\u001b[0m \u001b[32m━━━━━━━━━━━━━━━━━━━━\u001b[0m\u001b[37m\u001b[0m \u001b[1m0s\u001b[0m 148ms/step - accuracy: 0.9984 - loss: 0.0053\n",
      "Epoch 113: val_accuracy did not improve from 0.99011\n",
      "\u001b[1m304/304\u001b[0m \u001b[32m━━━━━━━━━━━━━━━━━━━━\u001b[0m\u001b[37m\u001b[0m \u001b[1m48s\u001b[0m 158ms/step - accuracy: 0.9984 - loss: 0.0053 - val_accuracy: 0.9889 - val_loss: 0.0414\n",
      "Epoch 114/200\n",
      "\u001b[1m304/304\u001b[0m \u001b[32m━━━━━━━━━━━━━━━━━━━━\u001b[0m\u001b[37m\u001b[0m \u001b[1m0s\u001b[0m 143ms/step - accuracy: 0.9992 - loss: 0.0019\n",
      "Epoch 114: val_accuracy did not improve from 0.99011\n",
      "\u001b[1m304/304\u001b[0m \u001b[32m━━━━━━━━━━━━━━━━━━━━\u001b[0m\u001b[37m\u001b[0m \u001b[1m47s\u001b[0m 154ms/step - accuracy: 0.9992 - loss: 0.0019 - val_accuracy: 0.9901 - val_loss: 0.0475\n",
      "Epoch 115/200\n",
      "\u001b[1m304/304\u001b[0m \u001b[32m━━━━━━━━━━━━━━━━━━━━\u001b[0m\u001b[37m\u001b[0m \u001b[1m0s\u001b[0m 145ms/step - accuracy: 0.9999 - loss: 9.2168e-04\n",
      "Epoch 115: val_accuracy did not improve from 0.99011\n",
      "\u001b[1m304/304\u001b[0m \u001b[32m━━━━━━━━━━━━━━━━━━━━\u001b[0m\u001b[37m\u001b[0m \u001b[1m47s\u001b[0m 155ms/step - accuracy: 0.9999 - loss: 9.2553e-04 - val_accuracy: 0.9802 - val_loss: 0.0914\n",
      "Epoch 116/200\n",
      "\u001b[1m304/304\u001b[0m \u001b[32m━━━━━━━━━━━━━━━━━━━━\u001b[0m\u001b[37m\u001b[0m \u001b[1m0s\u001b[0m 142ms/step - accuracy: 0.9912 - loss: 0.0366\n",
      "Epoch 116: val_accuracy did not improve from 0.99011\n",
      "\u001b[1m304/304\u001b[0m \u001b[32m━━━━━━━━━━━━━━━━━━━━\u001b[0m\u001b[37m\u001b[0m \u001b[1m47s\u001b[0m 153ms/step - accuracy: 0.9912 - loss: 0.0366 - val_accuracy: 0.9856 - val_loss: 0.0533\n",
      "Epoch 117/200\n",
      "\u001b[1m304/304\u001b[0m \u001b[32m━━━━━━━━━━━━━━━━━━━━\u001b[0m\u001b[37m\u001b[0m \u001b[1m0s\u001b[0m 144ms/step - accuracy: 0.9967 - loss: 0.0130\n",
      "Epoch 117: val_accuracy did not improve from 0.99011\n",
      "\u001b[1m304/304\u001b[0m \u001b[32m━━━━━━━━━━━━━━━━━━━━\u001b[0m\u001b[37m\u001b[0m \u001b[1m47s\u001b[0m 155ms/step - accuracy: 0.9967 - loss: 0.0130 - val_accuracy: 0.9885 - val_loss: 0.0493\n",
      "Epoch 118/200\n",
      "\u001b[1m304/304\u001b[0m \u001b[32m━━━━━━━━━━━━━━━━━━━━\u001b[0m\u001b[37m\u001b[0m \u001b[1m0s\u001b[0m 145ms/step - accuracy: 0.9995 - loss: 0.0052\n",
      "Epoch 118: val_accuracy did not improve from 0.99011\n",
      "\u001b[1m304/304\u001b[0m \u001b[32m━━━━━━━━━━━━━━━━━━━━\u001b[0m\u001b[37m\u001b[0m \u001b[1m47s\u001b[0m 156ms/step - accuracy: 0.9995 - loss: 0.0052 - val_accuracy: 0.9897 - val_loss: 0.0502\n",
      "Epoch 119/200\n",
      "\u001b[1m304/304\u001b[0m \u001b[32m━━━━━━━━━━━━━━━━━━━━\u001b[0m\u001b[37m\u001b[0m \u001b[1m0s\u001b[0m 150ms/step - accuracy: 0.9999 - loss: 5.3417e-04\n",
      "Epoch 119: val_accuracy did not improve from 0.99011\n",
      "\u001b[1m304/304\u001b[0m \u001b[32m━━━━━━━━━━━━━━━━━━━━\u001b[0m\u001b[37m\u001b[0m \u001b[1m49s\u001b[0m 161ms/step - accuracy: 0.9999 - loss: 5.3439e-04 - val_accuracy: 0.9881 - val_loss: 0.0600\n",
      "Epoch 120/200\n",
      "\u001b[1m304/304\u001b[0m \u001b[32m━━━━━━━━━━━━━━━━━━━━\u001b[0m\u001b[37m\u001b[0m \u001b[1m0s\u001b[0m 150ms/step - accuracy: 0.9953 - loss: 0.0253\n",
      "Epoch 120: val_accuracy did not improve from 0.99011\n",
      "\u001b[1m304/304\u001b[0m \u001b[32m━━━━━━━━━━━━━━━━━━━━\u001b[0m\u001b[37m\u001b[0m \u001b[1m49s\u001b[0m 162ms/step - accuracy: 0.9953 - loss: 0.0254 - val_accuracy: 0.9848 - val_loss: 0.0519\n",
      "Epoch 121/200\n",
      "\u001b[1m304/304\u001b[0m \u001b[32m━━━━━━━━━━━━━━━━━━━━\u001b[0m\u001b[37m\u001b[0m \u001b[1m0s\u001b[0m 151ms/step - accuracy: 0.9965 - loss: 0.0127\n",
      "Epoch 121: val_accuracy did not improve from 0.99011\n",
      "\u001b[1m304/304\u001b[0m \u001b[32m━━━━━━━━━━━━━━━━━━━━\u001b[0m\u001b[37m\u001b[0m \u001b[1m49s\u001b[0m 162ms/step - accuracy: 0.9965 - loss: 0.0127 - val_accuracy: 0.9852 - val_loss: 0.0523\n",
      "Epoch 122/200\n",
      "\u001b[1m304/304\u001b[0m \u001b[32m━━━━━━━━━━━━━━━━━━━━\u001b[0m\u001b[37m\u001b[0m \u001b[1m0s\u001b[0m 150ms/step - accuracy: 0.9993 - loss: 0.0040\n",
      "Epoch 122: val_accuracy did not improve from 0.99011\n",
      "\u001b[1m304/304\u001b[0m \u001b[32m━━━━━━━━━━━━━━━━━━━━\u001b[0m\u001b[37m\u001b[0m \u001b[1m49s\u001b[0m 160ms/step - accuracy: 0.9993 - loss: 0.0040 - val_accuracy: 0.9819 - val_loss: 0.0810\n",
      "Epoch 123/200\n",
      "\u001b[1m304/304\u001b[0m \u001b[32m━━━━━━━━━━━━━━━━━━━━\u001b[0m\u001b[37m\u001b[0m \u001b[1m0s\u001b[0m 148ms/step - accuracy: 0.9932 - loss: 0.0232\n",
      "Epoch 123: val_accuracy did not improve from 0.99011\n",
      "\u001b[1m304/304\u001b[0m \u001b[32m━━━━━━━━━━━━━━━━━━━━\u001b[0m\u001b[37m\u001b[0m \u001b[1m48s\u001b[0m 159ms/step - accuracy: 0.9932 - loss: 0.0232 - val_accuracy: 0.9876 - val_loss: 0.0479\n",
      "Epoch 124/200\n",
      "\u001b[1m304/304\u001b[0m \u001b[32m━━━━━━━━━━━━━━━━━━━━\u001b[0m\u001b[37m\u001b[0m \u001b[1m0s\u001b[0m 144ms/step - accuracy: 0.9956 - loss: 0.0142\n",
      "Epoch 124: val_accuracy did not improve from 0.99011\n",
      "\u001b[1m304/304\u001b[0m \u001b[32m━━━━━━━━━━━━━━━━━━━━\u001b[0m\u001b[37m\u001b[0m \u001b[1m47s\u001b[0m 155ms/step - accuracy: 0.9956 - loss: 0.0142 - val_accuracy: 0.9872 - val_loss: 0.0587\n",
      "Epoch 125/200\n",
      "\u001b[1m304/304\u001b[0m \u001b[32m━━━━━━━━━━━━━━━━━━━━\u001b[0m\u001b[37m\u001b[0m \u001b[1m0s\u001b[0m 146ms/step - accuracy: 0.9978 - loss: 0.0110\n",
      "Epoch 125: val_accuracy did not improve from 0.99011\n",
      "\u001b[1m304/304\u001b[0m \u001b[32m━━━━━━━━━━━━━━━━━━━━\u001b[0m\u001b[37m\u001b[0m \u001b[1m48s\u001b[0m 156ms/step - accuracy: 0.9978 - loss: 0.0111 - val_accuracy: 0.9798 - val_loss: 0.0592\n",
      "Epoch 126/200\n",
      "\u001b[1m304/304\u001b[0m \u001b[32m━━━━━━━━━━━━━━━━━━━━\u001b[0m\u001b[37m\u001b[0m \u001b[1m0s\u001b[0m 144ms/step - accuracy: 0.9953 - loss: 0.0133\n",
      "Epoch 126: val_accuracy did not improve from 0.99011\n",
      "\u001b[1m304/304\u001b[0m \u001b[32m━━━━━━━━━━━━━━━━━━━━\u001b[0m\u001b[37m\u001b[0m \u001b[1m47s\u001b[0m 155ms/step - accuracy: 0.9953 - loss: 0.0133 - val_accuracy: 0.9864 - val_loss: 0.0544\n",
      "Epoch 127/200\n",
      "\u001b[1m304/304\u001b[0m \u001b[32m━━━━━━━━━━━━━━━━━━━━\u001b[0m\u001b[37m\u001b[0m \u001b[1m0s\u001b[0m 150ms/step - accuracy: 0.9936 - loss: 0.0282\n",
      "Epoch 127: val_accuracy did not improve from 0.99011\n",
      "\u001b[1m304/304\u001b[0m \u001b[32m━━━━━━━━━━━━━━━━━━━━\u001b[0m\u001b[37m\u001b[0m \u001b[1m49s\u001b[0m 162ms/step - accuracy: 0.9936 - loss: 0.0282 - val_accuracy: 0.9852 - val_loss: 0.0609\n",
      "Epoch 128/200\n",
      "\u001b[1m304/304\u001b[0m \u001b[32m━━━━━━━━━━━━━━━━━━━━\u001b[0m\u001b[37m\u001b[0m \u001b[1m0s\u001b[0m 146ms/step - accuracy: 0.9952 - loss: 0.0178\n",
      "Epoch 128: val_accuracy did not improve from 0.99011\n",
      "\u001b[1m304/304\u001b[0m \u001b[32m━━━━━━━━━━━━━━━━━━━━\u001b[0m\u001b[37m\u001b[0m \u001b[1m48s\u001b[0m 157ms/step - accuracy: 0.9952 - loss: 0.0178 - val_accuracy: 0.9856 - val_loss: 0.0494\n",
      "Epoch 129/200\n",
      "\u001b[1m304/304\u001b[0m \u001b[32m━━━━━━━━━━━━━━━━━━━━\u001b[0m\u001b[37m\u001b[0m \u001b[1m0s\u001b[0m 149ms/step - accuracy: 0.9987 - loss: 0.0071\n",
      "Epoch 129: val_accuracy did not improve from 0.99011\n",
      "\u001b[1m304/304\u001b[0m \u001b[32m━━━━━━━━━━━━━━━━━━━━\u001b[0m\u001b[37m\u001b[0m \u001b[1m49s\u001b[0m 160ms/step - accuracy: 0.9987 - loss: 0.0071 - val_accuracy: 0.9798 - val_loss: 0.0841\n",
      "Epoch 130/200\n",
      "\u001b[1m304/304\u001b[0m \u001b[32m━━━━━━━━━━━━━━━━━━━━\u001b[0m\u001b[37m\u001b[0m \u001b[1m0s\u001b[0m 150ms/step - accuracy: 0.9913 - loss: 0.0321\n",
      "Epoch 130: val_accuracy did not improve from 0.99011\n",
      "\u001b[1m304/304\u001b[0m \u001b[32m━━━━━━━━━━━━━━━━━━━━\u001b[0m\u001b[37m\u001b[0m \u001b[1m49s\u001b[0m 161ms/step - accuracy: 0.9913 - loss: 0.0320 - val_accuracy: 0.9839 - val_loss: 0.0711\n",
      "Epoch 131/200\n",
      "\u001b[1m304/304\u001b[0m \u001b[32m━━━━━━━━━━━━━━━━━━━━\u001b[0m\u001b[37m\u001b[0m \u001b[1m0s\u001b[0m 145ms/step - accuracy: 0.9979 - loss: 0.0094\n",
      "Epoch 131: val_accuracy did not improve from 0.99011\n",
      "\u001b[1m304/304\u001b[0m \u001b[32m━━━━━━━━━━━━━━━━━━━━\u001b[0m\u001b[37m\u001b[0m \u001b[1m48s\u001b[0m 157ms/step - accuracy: 0.9979 - loss: 0.0094 - val_accuracy: 0.9885 - val_loss: 0.0480\n",
      "Epoch 132/200\n",
      "\u001b[1m304/304\u001b[0m \u001b[32m━━━━━━━━━━━━━━━━━━━━\u001b[0m\u001b[37m\u001b[0m \u001b[1m0s\u001b[0m 152ms/step - accuracy: 0.9989 - loss: 0.0024\n",
      "Epoch 132: val_accuracy did not improve from 0.99011\n",
      "\u001b[1m304/304\u001b[0m \u001b[32m━━━━━━━━━━━━━━━━━━━━\u001b[0m\u001b[37m\u001b[0m \u001b[1m49s\u001b[0m 162ms/step - accuracy: 0.9989 - loss: 0.0024 - val_accuracy: 0.9872 - val_loss: 0.0708\n",
      "Epoch 133/200\n",
      "\u001b[1m304/304\u001b[0m \u001b[32m━━━━━━━━━━━━━━━━━━━━\u001b[0m\u001b[37m\u001b[0m \u001b[1m0s\u001b[0m 148ms/step - accuracy: 0.9977 - loss: 0.0125\n",
      "Epoch 133: val_accuracy did not improve from 0.99011\n",
      "\u001b[1m304/304\u001b[0m \u001b[32m━━━━━━━━━━━━━━━━━━━━\u001b[0m\u001b[37m\u001b[0m \u001b[1m48s\u001b[0m 159ms/step - accuracy: 0.9977 - loss: 0.0125 - val_accuracy: 0.9881 - val_loss: 0.0510\n",
      "Epoch 134/200\n",
      "\u001b[1m304/304\u001b[0m \u001b[32m━━━━━━━━━━━━━━━━━━━━\u001b[0m\u001b[37m\u001b[0m \u001b[1m0s\u001b[0m 147ms/step - accuracy: 0.9997 - loss: 0.0021\n",
      "Epoch 134: val_accuracy did not improve from 0.99011\n",
      "\u001b[1m304/304\u001b[0m \u001b[32m━━━━━━━━━━━━━━━━━━━━\u001b[0m\u001b[37m\u001b[0m \u001b[1m48s\u001b[0m 157ms/step - accuracy: 0.9997 - loss: 0.0021 - val_accuracy: 0.9860 - val_loss: 0.0630\n",
      "Epoch 135/200\n",
      "\u001b[1m304/304\u001b[0m \u001b[32m━━━━━━━━━━━━━━━━━━━━\u001b[0m\u001b[37m\u001b[0m \u001b[1m0s\u001b[0m 152ms/step - accuracy: 0.9997 - loss: 0.0014\n",
      "Epoch 135: val_accuracy did not improve from 0.99011\n",
      "\u001b[1m304/304\u001b[0m \u001b[32m━━━━━━━━━━━━━━━━━━━━\u001b[0m\u001b[37m\u001b[0m \u001b[1m49s\u001b[0m 163ms/step - accuracy: 0.9997 - loss: 0.0014 - val_accuracy: 0.9835 - val_loss: 0.0626\n",
      "Epoch 136/200\n",
      "\u001b[1m304/304\u001b[0m \u001b[32m━━━━━━━━━━━━━━━━━━━━\u001b[0m\u001b[37m\u001b[0m \u001b[1m0s\u001b[0m 159ms/step - accuracy: 0.9999 - loss: 0.0011\n",
      "Epoch 136: val_accuracy did not improve from 0.99011\n",
      "\u001b[1m304/304\u001b[0m \u001b[32m━━━━━━━━━━━━━━━━━━━━\u001b[0m\u001b[37m\u001b[0m \u001b[1m52s\u001b[0m 172ms/step - accuracy: 0.9999 - loss: 0.0011 - val_accuracy: 0.9864 - val_loss: 0.0796\n",
      "Epoch 137/200\n",
      "\u001b[1m304/304\u001b[0m \u001b[32m━━━━━━━━━━━━━━━━━━━━\u001b[0m\u001b[37m\u001b[0m \u001b[1m0s\u001b[0m 150ms/step - accuracy: 1.0000 - loss: 2.0402e-04\n",
      "Epoch 137: val_accuracy did not improve from 0.99011\n",
      "\u001b[1m304/304\u001b[0m \u001b[32m━━━━━━━━━━━━━━━━━━━━\u001b[0m\u001b[37m\u001b[0m \u001b[1m49s\u001b[0m 160ms/step - accuracy: 1.0000 - loss: 2.0425e-04 - val_accuracy: 0.9868 - val_loss: 0.1103\n",
      "Epoch 138/200\n",
      "\u001b[1m304/304\u001b[0m \u001b[32m━━━━━━━━━━━━━━━━━━━━\u001b[0m\u001b[37m\u001b[0m \u001b[1m0s\u001b[0m 151ms/step - accuracy: 0.9939 - loss: 0.0322\n",
      "Epoch 138: val_accuracy did not improve from 0.99011\n",
      "\u001b[1m304/304\u001b[0m \u001b[32m━━━━━━━━━━━━━━━━━━━━\u001b[0m\u001b[37m\u001b[0m \u001b[1m49s\u001b[0m 162ms/step - accuracy: 0.9939 - loss: 0.0323 - val_accuracy: 0.9823 - val_loss: 0.0574\n",
      "Epoch 139/200\n",
      "\u001b[1m304/304\u001b[0m \u001b[32m━━━━━━━━━━━━━━━━━━━━\u001b[0m\u001b[37m\u001b[0m \u001b[1m0s\u001b[0m 168ms/step - accuracy: 0.9895 - loss: 0.0426\n",
      "Epoch 139: val_accuracy did not improve from 0.99011\n",
      "\u001b[1m304/304\u001b[0m \u001b[32m━━━━━━━━━━━━━━━━━━━━\u001b[0m\u001b[37m\u001b[0m \u001b[1m55s\u001b[0m 181ms/step - accuracy: 0.9895 - loss: 0.0425 - val_accuracy: 0.9885 - val_loss: 0.0413\n",
      "Epoch 140/200\n",
      "\u001b[1m304/304\u001b[0m \u001b[32m━━━━━━━━━━━━━━━━━━━━\u001b[0m\u001b[37m\u001b[0m \u001b[1m0s\u001b[0m 157ms/step - accuracy: 0.9983 - loss: 0.0060\n",
      "Epoch 140: val_accuracy improved from 0.99011 to 0.99052, saving model to CNN2D_results/Scalogram_Spectrogram/best_model_5.h5\n"
     ]
    },
    {
     "name": "stderr",
     "output_type": "stream",
     "text": [
      "WARNING:absl:You are saving your model as an HDF5 file via `model.save()` or `keras.saving.save_model(model)`. This file format is considered legacy. We recommend using instead the native Keras format, e.g. `model.save('my_model.keras')` or `keras.saving.save_model(model, 'my_model.keras')`. \n"
     ]
    },
    {
     "name": "stdout",
     "output_type": "stream",
     "text": [
      "\u001b[1m304/304\u001b[0m \u001b[32m━━━━━━━━━━━━━━━━━━━━\u001b[0m\u001b[37m\u001b[0m \u001b[1m52s\u001b[0m 170ms/step - accuracy: 0.9983 - loss: 0.0060 - val_accuracy: 0.9905 - val_loss: 0.0391\n",
      "Epoch 141/200\n",
      "\u001b[1m304/304\u001b[0m \u001b[32m━━━━━━━━━━━━━━━━━━━━\u001b[0m\u001b[37m\u001b[0m \u001b[1m0s\u001b[0m 157ms/step - accuracy: 0.9995 - loss: 0.0018\n",
      "Epoch 141: val_accuracy did not improve from 0.99052\n",
      "\u001b[1m304/304\u001b[0m \u001b[32m━━━━━━━━━━━━━━━━━━━━\u001b[0m\u001b[37m\u001b[0m \u001b[1m51s\u001b[0m 168ms/step - accuracy: 0.9995 - loss: 0.0018 - val_accuracy: 0.9885 - val_loss: 0.0580\n",
      "Epoch 142/200\n",
      "\u001b[1m304/304\u001b[0m \u001b[32m━━━━━━━━━━━━━━━━━━━━\u001b[0m\u001b[37m\u001b[0m \u001b[1m0s\u001b[0m 147ms/step - accuracy: 0.9952 - loss: 0.0242\n",
      "Epoch 142: val_accuracy did not improve from 0.99052\n",
      "\u001b[1m304/304\u001b[0m \u001b[32m━━━━━━━━━━━━━━━━━━━━\u001b[0m\u001b[37m\u001b[0m \u001b[1m48s\u001b[0m 158ms/step - accuracy: 0.9952 - loss: 0.0243 - val_accuracy: 0.9856 - val_loss: 0.0580\n",
      "Epoch 143/200\n",
      "\u001b[1m304/304\u001b[0m \u001b[32m━━━━━━━━━━━━━━━━━━━━\u001b[0m\u001b[37m\u001b[0m \u001b[1m0s\u001b[0m 143ms/step - accuracy: 0.9978 - loss: 0.0072\n",
      "Epoch 143: val_accuracy did not improve from 0.99052\n",
      "\u001b[1m304/304\u001b[0m \u001b[32m━━━━━━━━━━━━━━━━━━━━\u001b[0m\u001b[37m\u001b[0m \u001b[1m47s\u001b[0m 153ms/step - accuracy: 0.9978 - loss: 0.0072 - val_accuracy: 0.9881 - val_loss: 0.0412\n",
      "Epoch 144/200\n",
      "\u001b[1m304/304\u001b[0m \u001b[32m━━━━━━━━━━━━━━━━━━━━\u001b[0m\u001b[37m\u001b[0m \u001b[1m0s\u001b[0m 152ms/step - accuracy: 0.9982 - loss: 0.0071\n",
      "Epoch 144: val_accuracy did not improve from 0.99052\n",
      "\u001b[1m304/304\u001b[0m \u001b[32m━━━━━━━━━━━━━━━━━━━━\u001b[0m\u001b[37m\u001b[0m \u001b[1m49s\u001b[0m 162ms/step - accuracy: 0.9981 - loss: 0.0071 - val_accuracy: 0.9827 - val_loss: 0.0721\n",
      "Epoch 145/200\n",
      "\u001b[1m304/304\u001b[0m \u001b[32m━━━━━━━━━━━━━━━━━━━━\u001b[0m\u001b[37m\u001b[0m \u001b[1m0s\u001b[0m 148ms/step - accuracy: 0.9981 - loss: 0.0046\n",
      "Epoch 145: val_accuracy did not improve from 0.99052\n",
      "\u001b[1m304/304\u001b[0m \u001b[32m━━━━━━━━━━━━━━━━━━━━\u001b[0m\u001b[37m\u001b[0m \u001b[1m49s\u001b[0m 160ms/step - accuracy: 0.9981 - loss: 0.0046 - val_accuracy: 0.9889 - val_loss: 0.0387\n",
      "Epoch 146/200\n",
      "\u001b[1m304/304\u001b[0m \u001b[32m━━━━━━━━━━━━━━━━━━━━\u001b[0m\u001b[37m\u001b[0m \u001b[1m0s\u001b[0m 149ms/step - accuracy: 0.9999 - loss: 6.1224e-04\n",
      "Epoch 146: val_accuracy did not improve from 0.99052\n",
      "\u001b[1m304/304\u001b[0m \u001b[32m━━━━━━━━━━━━━━━━━━━━\u001b[0m\u001b[37m\u001b[0m \u001b[1m48s\u001b[0m 159ms/step - accuracy: 0.9999 - loss: 6.1260e-04 - val_accuracy: 0.9901 - val_loss: 0.0413\n",
      "Epoch 147/200\n",
      "\u001b[1m304/304\u001b[0m \u001b[32m━━━━━━━━━━━━━━━━━━━━\u001b[0m\u001b[37m\u001b[0m \u001b[1m0s\u001b[0m 144ms/step - accuracy: 0.9996 - loss: 0.0026\n",
      "Epoch 147: val_accuracy did not improve from 0.99052\n",
      "\u001b[1m304/304\u001b[0m \u001b[32m━━━━━━━━━━━━━━━━━━━━\u001b[0m\u001b[37m\u001b[0m \u001b[1m47s\u001b[0m 155ms/step - accuracy: 0.9996 - loss: 0.0026 - val_accuracy: 0.9881 - val_loss: 0.0576\n",
      "Epoch 148/200\n",
      "\u001b[1m304/304\u001b[0m \u001b[32m━━━━━━━━━━━━━━━━━━━━\u001b[0m\u001b[37m\u001b[0m \u001b[1m0s\u001b[0m 165ms/step - accuracy: 0.9989 - loss: 0.0072\n",
      "Epoch 148: val_accuracy did not improve from 0.99052\n",
      "\u001b[1m304/304\u001b[0m \u001b[32m━━━━━━━━━━━━━━━━━━━━\u001b[0m\u001b[37m\u001b[0m \u001b[1m55s\u001b[0m 180ms/step - accuracy: 0.9989 - loss: 0.0073 - val_accuracy: 0.9802 - val_loss: 0.0805\n",
      "Epoch 149/200\n",
      "\u001b[1m304/304\u001b[0m \u001b[32m━━━━━━━━━━━━━━━━━━━━\u001b[0m\u001b[37m\u001b[0m \u001b[1m0s\u001b[0m 147ms/step - accuracy: 0.9915 - loss: 0.0361\n",
      "Epoch 149: val_accuracy did not improve from 0.99052\n",
      "\u001b[1m304/304\u001b[0m \u001b[32m━━━━━━━━━━━━━━━━━━━━\u001b[0m\u001b[37m\u001b[0m \u001b[1m48s\u001b[0m 158ms/step - accuracy: 0.9915 - loss: 0.0361 - val_accuracy: 0.9835 - val_loss: 0.0746\n",
      "Epoch 150/200\n",
      "\u001b[1m304/304\u001b[0m \u001b[32m━━━━━━━━━━━━━━━━━━━━\u001b[0m\u001b[37m\u001b[0m \u001b[1m0s\u001b[0m 155ms/step - accuracy: 0.9954 - loss: 0.0157\n",
      "Epoch 150: val_accuracy did not improve from 0.99052\n",
      "\u001b[1m304/304\u001b[0m \u001b[32m━━━━━━━━━━━━━━━━━━━━\u001b[0m\u001b[37m\u001b[0m \u001b[1m50s\u001b[0m 166ms/step - accuracy: 0.9954 - loss: 0.0157 - val_accuracy: 0.9864 - val_loss: 0.0413\n",
      "Epoch 151/200\n",
      "\u001b[1m304/304\u001b[0m \u001b[32m━━━━━━━━━━━━━━━━━━━━\u001b[0m\u001b[37m\u001b[0m \u001b[1m0s\u001b[0m 148ms/step - accuracy: 0.9938 - loss: 0.0238\n",
      "Epoch 151: val_accuracy did not improve from 0.99052\n",
      "\u001b[1m304/304\u001b[0m \u001b[32m━━━━━━━━━━━━━━━━━━━━\u001b[0m\u001b[37m\u001b[0m \u001b[1m48s\u001b[0m 159ms/step - accuracy: 0.9938 - loss: 0.0238 - val_accuracy: 0.9856 - val_loss: 0.0448\n",
      "Epoch 152/200\n",
      "\u001b[1m304/304\u001b[0m \u001b[32m━━━━━━━━━━━━━━━━━━━━\u001b[0m\u001b[37m\u001b[0m \u001b[1m0s\u001b[0m 143ms/step - accuracy: 0.9988 - loss: 0.0039\n",
      "Epoch 152: val_accuracy did not improve from 0.99052\n",
      "\u001b[1m304/304\u001b[0m \u001b[32m━━━━━━━━━━━━━━━━━━━━\u001b[0m\u001b[37m\u001b[0m \u001b[1m47s\u001b[0m 154ms/step - accuracy: 0.9988 - loss: 0.0039 - val_accuracy: 0.9876 - val_loss: 0.0479\n",
      "Epoch 153/200\n",
      "\u001b[1m304/304\u001b[0m \u001b[32m━━━━━━━━━━━━━━━━━━━━\u001b[0m\u001b[37m\u001b[0m \u001b[1m0s\u001b[0m 144ms/step - accuracy: 0.9986 - loss: 0.0083\n",
      "Epoch 153: val_accuracy did not improve from 0.99052\n",
      "\u001b[1m304/304\u001b[0m \u001b[32m━━━━━━━━━━━━━━━━━━━━\u001b[0m\u001b[37m\u001b[0m \u001b[1m47s\u001b[0m 155ms/step - accuracy: 0.9986 - loss: 0.0083 - val_accuracy: 0.9893 - val_loss: 0.0415\n",
      "Epoch 154/200\n",
      "\u001b[1m304/304\u001b[0m \u001b[32m━━━━━━━━━━━━━━━━━━━━\u001b[0m\u001b[37m\u001b[0m \u001b[1m0s\u001b[0m 141ms/step - accuracy: 0.9997 - loss: 0.0032\n",
      "Epoch 154: val_accuracy did not improve from 0.99052\n",
      "\u001b[1m304/304\u001b[0m \u001b[32m━━━━━━━━━━━━━━━━━━━━\u001b[0m\u001b[37m\u001b[0m \u001b[1m46s\u001b[0m 152ms/step - accuracy: 0.9997 - loss: 0.0032 - val_accuracy: 0.9881 - val_loss: 0.0455\n",
      "Epoch 155/200\n",
      "\u001b[1m304/304\u001b[0m \u001b[32m━━━━━━━━━━━━━━━━━━━━\u001b[0m\u001b[37m\u001b[0m \u001b[1m0s\u001b[0m 145ms/step - accuracy: 0.9956 - loss: 0.0170\n",
      "Epoch 155: val_accuracy did not improve from 0.99052\n",
      "\u001b[1m304/304\u001b[0m \u001b[32m━━━━━━━━━━━━━━━━━━━━\u001b[0m\u001b[37m\u001b[0m \u001b[1m47s\u001b[0m 156ms/step - accuracy: 0.9956 - loss: 0.0171 - val_accuracy: 0.9827 - val_loss: 0.0571\n",
      "Epoch 156/200\n",
      "\u001b[1m304/304\u001b[0m \u001b[32m━━━━━━━━━━━━━━━━━━━━\u001b[0m\u001b[37m\u001b[0m \u001b[1m0s\u001b[0m 144ms/step - accuracy: 0.9928 - loss: 0.0244\n",
      "Epoch 156: val_accuracy did not improve from 0.99052\n",
      "\u001b[1m304/304\u001b[0m \u001b[32m━━━━━━━━━━━━━━━━━━━━\u001b[0m\u001b[37m\u001b[0m \u001b[1m47s\u001b[0m 155ms/step - accuracy: 0.9928 - loss: 0.0244 - val_accuracy: 0.9876 - val_loss: 0.0453\n",
      "Epoch 157/200\n",
      "\u001b[1m304/304\u001b[0m \u001b[32m━━━━━━━━━━━━━━━━━━━━\u001b[0m\u001b[37m\u001b[0m \u001b[1m0s\u001b[0m 143ms/step - accuracy: 0.9979 - loss: 0.0130\n",
      "Epoch 157: val_accuracy did not improve from 0.99052\n",
      "\u001b[1m304/304\u001b[0m \u001b[32m━━━━━━━━━━━━━━━━━━━━\u001b[0m\u001b[37m\u001b[0m \u001b[1m47s\u001b[0m 153ms/step - accuracy: 0.9979 - loss: 0.0130 - val_accuracy: 0.9893 - val_loss: 0.0371\n",
      "Epoch 158/200\n",
      "\u001b[1m304/304\u001b[0m \u001b[32m━━━━━━━━━━━━━━━━━━━━\u001b[0m\u001b[37m\u001b[0m \u001b[1m0s\u001b[0m 143ms/step - accuracy: 0.9985 - loss: 0.0110\n",
      "Epoch 158: val_accuracy did not improve from 0.99052\n",
      "\u001b[1m304/304\u001b[0m \u001b[32m━━━━━━━━━━━━━━━━━━━━\u001b[0m\u001b[37m\u001b[0m \u001b[1m47s\u001b[0m 153ms/step - accuracy: 0.9984 - loss: 0.0110 - val_accuracy: 0.9856 - val_loss: 0.0434\n",
      "Epoch 159/200\n",
      "\u001b[1m304/304\u001b[0m \u001b[32m━━━━━━━━━━━━━━━━━━━━\u001b[0m\u001b[37m\u001b[0m \u001b[1m0s\u001b[0m 145ms/step - accuracy: 0.9986 - loss: 0.0036\n",
      "Epoch 159: val_accuracy did not improve from 0.99052\n",
      "\u001b[1m304/304\u001b[0m \u001b[32m━━━━━━━━━━━━━━━━━━━━\u001b[0m\u001b[37m\u001b[0m \u001b[1m47s\u001b[0m 155ms/step - accuracy: 0.9986 - loss: 0.0036 - val_accuracy: 0.9897 - val_loss: 0.0528\n",
      "Epoch 160/200\n",
      "\u001b[1m304/304\u001b[0m \u001b[32m━━━━━━━━━━━━━━━━━━━━\u001b[0m\u001b[37m\u001b[0m \u001b[1m0s\u001b[0m 144ms/step - accuracy: 0.9995 - loss: 0.0019\n",
      "Epoch 160: val_accuracy did not improve from 0.99052\n",
      "\u001b[1m304/304\u001b[0m \u001b[32m━━━━━━━━━━━━━━━━━━━━\u001b[0m\u001b[37m\u001b[0m \u001b[1m47s\u001b[0m 155ms/step - accuracy: 0.9995 - loss: 0.0019 - val_accuracy: 0.9876 - val_loss: 0.0533\n",
      "Epoch 161/200\n",
      "\u001b[1m304/304\u001b[0m \u001b[32m━━━━━━━━━━━━━━━━━━━━\u001b[0m\u001b[37m\u001b[0m \u001b[1m0s\u001b[0m 146ms/step - accuracy: 0.9994 - loss: 0.0024\n",
      "Epoch 161: val_accuracy did not improve from 0.99052\n",
      "\u001b[1m304/304\u001b[0m \u001b[32m━━━━━━━━━━━━━━━━━━━━\u001b[0m\u001b[37m\u001b[0m \u001b[1m48s\u001b[0m 156ms/step - accuracy: 0.9994 - loss: 0.0024 - val_accuracy: 0.9876 - val_loss: 0.0524\n",
      "Epoch 162/200\n",
      "\u001b[1m304/304\u001b[0m \u001b[32m━━━━━━━━━━━━━━━━━━━━\u001b[0m\u001b[37m\u001b[0m \u001b[1m0s\u001b[0m 147ms/step - accuracy: 0.9990 - loss: 0.0040\n",
      "Epoch 162: val_accuracy did not improve from 0.99052\n",
      "\u001b[1m304/304\u001b[0m \u001b[32m━━━━━━━━━━━━━━━━━━━━\u001b[0m\u001b[37m\u001b[0m \u001b[1m49s\u001b[0m 160ms/step - accuracy: 0.9990 - loss: 0.0040 - val_accuracy: 0.9885 - val_loss: 0.0492\n",
      "Epoch 163/200\n",
      "\u001b[1m304/304\u001b[0m \u001b[32m━━━━━━━━━━━━━━━━━━━━\u001b[0m\u001b[37m\u001b[0m \u001b[1m0s\u001b[0m 170ms/step - accuracy: 0.9963 - loss: 0.0302\n",
      "Epoch 163: val_accuracy did not improve from 0.99052\n",
      "\u001b[1m304/304\u001b[0m \u001b[32m━━━━━━━━━━━━━━━━━━━━\u001b[0m\u001b[37m\u001b[0m \u001b[1m55s\u001b[0m 182ms/step - accuracy: 0.9962 - loss: 0.0302 - val_accuracy: 0.9823 - val_loss: 0.0763\n",
      "Epoch 164/200\n",
      "\u001b[1m304/304\u001b[0m \u001b[32m━━━━━━━━━━━━━━━━━━━━\u001b[0m\u001b[37m\u001b[0m \u001b[1m0s\u001b[0m 145ms/step - accuracy: 0.9930 - loss: 0.0303\n",
      "Epoch 164: val_accuracy did not improve from 0.99052\n",
      "\u001b[1m304/304\u001b[0m \u001b[32m━━━━━━━━━━━━━━━━━━━━\u001b[0m\u001b[37m\u001b[0m \u001b[1m47s\u001b[0m 156ms/step - accuracy: 0.9930 - loss: 0.0303 - val_accuracy: 0.9839 - val_loss: 0.0482\n",
      "Epoch 165/200\n",
      "\u001b[1m304/304\u001b[0m \u001b[32m━━━━━━━━━━━━━━━━━━━━\u001b[0m\u001b[37m\u001b[0m \u001b[1m0s\u001b[0m 147ms/step - accuracy: 0.9987 - loss: 0.0044\n",
      "Epoch 165: val_accuracy did not improve from 0.99052\n",
      "\u001b[1m304/304\u001b[0m \u001b[32m━━━━━━━━━━━━━━━━━━━━\u001b[0m\u001b[37m\u001b[0m \u001b[1m48s\u001b[0m 159ms/step - accuracy: 0.9987 - loss: 0.0044 - val_accuracy: 0.9872 - val_loss: 0.0418\n",
      "Epoch 166/200\n",
      "\u001b[1m304/304\u001b[0m \u001b[32m━━━━━━━━━━━━━━━━━━━━\u001b[0m\u001b[37m\u001b[0m \u001b[1m0s\u001b[0m 152ms/step - accuracy: 0.9983 - loss: 0.0091\n",
      "Epoch 166: val_accuracy did not improve from 0.99052\n",
      "\u001b[1m304/304\u001b[0m \u001b[32m━━━━━━━━━━━━━━━━━━━━\u001b[0m\u001b[37m\u001b[0m \u001b[1m50s\u001b[0m 163ms/step - accuracy: 0.9983 - loss: 0.0091 - val_accuracy: 0.9864 - val_loss: 0.0536\n",
      "Epoch 167/200\n",
      "\u001b[1m304/304\u001b[0m \u001b[32m━━━━━━━━━━━━━━━━━━━━\u001b[0m\u001b[37m\u001b[0m \u001b[1m0s\u001b[0m 152ms/step - accuracy: 0.9997 - loss: 0.0023\n",
      "Epoch 167: val_accuracy did not improve from 0.99052\n",
      "\u001b[1m304/304\u001b[0m \u001b[32m━━━━━━━━━━━━━━━━━━━━\u001b[0m\u001b[37m\u001b[0m \u001b[1m49s\u001b[0m 163ms/step - accuracy: 0.9997 - loss: 0.0023 - val_accuracy: 0.9868 - val_loss: 0.0642\n",
      "Epoch 168/200\n",
      "\u001b[1m304/304\u001b[0m \u001b[32m━━━━━━━━━━━━━━━━━━━━\u001b[0m\u001b[37m\u001b[0m \u001b[1m0s\u001b[0m 148ms/step - accuracy: 0.9987 - loss: 0.0072\n",
      "Epoch 168: val_accuracy did not improve from 0.99052\n",
      "\u001b[1m304/304\u001b[0m \u001b[32m━━━━━━━━━━━━━━━━━━━━\u001b[0m\u001b[37m\u001b[0m \u001b[1m48s\u001b[0m 159ms/step - accuracy: 0.9986 - loss: 0.0073 - val_accuracy: 0.9778 - val_loss: 0.0878\n",
      "Epoch 169/200\n",
      "\u001b[1m304/304\u001b[0m \u001b[32m━━━━━━━━━━━━━━━━━━━━\u001b[0m\u001b[37m\u001b[0m \u001b[1m0s\u001b[0m 149ms/step - accuracy: 0.9950 - loss: 0.0212\n",
      "Epoch 169: val_accuracy did not improve from 0.99052\n",
      "\u001b[1m304/304\u001b[0m \u001b[32m━━━━━━━━━━━━━━━━━━━━\u001b[0m\u001b[37m\u001b[0m \u001b[1m48s\u001b[0m 159ms/step - accuracy: 0.9949 - loss: 0.0212 - val_accuracy: 0.9848 - val_loss: 0.0604\n",
      "Epoch 170/200\n",
      "\u001b[1m304/304\u001b[0m \u001b[32m━━━━━━━━━━━━━━━━━━━━\u001b[0m\u001b[37m\u001b[0m \u001b[1m0s\u001b[0m 144ms/step - accuracy: 0.9945 - loss: 0.0254\n",
      "Epoch 170: val_accuracy did not improve from 0.99052\n",
      "\u001b[1m304/304\u001b[0m \u001b[32m━━━━━━━━━━━━━━━━━━━━\u001b[0m\u001b[37m\u001b[0m \u001b[1m48s\u001b[0m 157ms/step - accuracy: 0.9945 - loss: 0.0253 - val_accuracy: 0.9881 - val_loss: 0.0369\n",
      "Epoch 171/200\n",
      "\u001b[1m304/304\u001b[0m \u001b[32m━━━━━━━━━━━━━━━━━━━━\u001b[0m\u001b[37m\u001b[0m \u001b[1m0s\u001b[0m 154ms/step - accuracy: 0.9975 - loss: 0.0126\n",
      "Epoch 171: val_accuracy did not improve from 0.99052\n",
      "\u001b[1m304/304\u001b[0m \u001b[32m━━━━━━━━━━━━━━━━━━━━\u001b[0m\u001b[37m\u001b[0m \u001b[1m50s\u001b[0m 165ms/step - accuracy: 0.9975 - loss: 0.0126 - val_accuracy: 0.9860 - val_loss: 0.0459\n",
      "Epoch 172/200\n",
      "\u001b[1m304/304\u001b[0m \u001b[32m━━━━━━━━━━━━━━━━━━━━\u001b[0m\u001b[37m\u001b[0m \u001b[1m0s\u001b[0m 151ms/step - accuracy: 0.9989 - loss: 0.0035\n",
      "Epoch 172: val_accuracy did not improve from 0.99052\n",
      "\u001b[1m304/304\u001b[0m \u001b[32m━━━━━━━━━━━━━━━━━━━━\u001b[0m\u001b[37m\u001b[0m \u001b[1m49s\u001b[0m 162ms/step - accuracy: 0.9989 - loss: 0.0035 - val_accuracy: 0.9868 - val_loss: 0.0454\n",
      "Epoch 173/200\n",
      "\u001b[1m304/304\u001b[0m \u001b[32m━━━━━━━━━━━━━━━━━━━━\u001b[0m\u001b[37m\u001b[0m \u001b[1m0s\u001b[0m 152ms/step - accuracy: 0.9999 - loss: 4.5998e-04\n",
      "Epoch 173: val_accuracy did not improve from 0.99052\n",
      "\u001b[1m304/304\u001b[0m \u001b[32m━━━━━━━━━━━━━━━━━━━━\u001b[0m\u001b[37m\u001b[0m \u001b[1m50s\u001b[0m 163ms/step - accuracy: 0.9999 - loss: 4.6160e-04 - val_accuracy: 0.9885 - val_loss: 0.0439\n",
      "Epoch 174/200\n",
      "\u001b[1m304/304\u001b[0m \u001b[32m━━━━━━━━━━━━━━━━━━━━\u001b[0m\u001b[37m\u001b[0m \u001b[1m0s\u001b[0m 164ms/step - accuracy: 0.9999 - loss: 3.3814e-04\n",
      "Epoch 174: val_accuracy did not improve from 0.99052\n",
      "\u001b[1m304/304\u001b[0m \u001b[32m━━━━━━━━━━━━━━━━━━━━\u001b[0m\u001b[37m\u001b[0m \u001b[1m53s\u001b[0m 175ms/step - accuracy: 0.9999 - loss: 3.4121e-04 - val_accuracy: 0.9901 - val_loss: 0.0446\n",
      "Epoch 175/200\n",
      "\u001b[1m304/304\u001b[0m \u001b[32m━━━━━━━━━━━━━━━━━━━━\u001b[0m\u001b[37m\u001b[0m \u001b[1m0s\u001b[0m 151ms/step - accuracy: 1.0000 - loss: 2.8616e-04\n",
      "Epoch 175: val_accuracy did not improve from 0.99052\n",
      "\u001b[1m304/304\u001b[0m \u001b[32m━━━━━━━━━━━━━━━━━━━━\u001b[0m\u001b[37m\u001b[0m \u001b[1m50s\u001b[0m 163ms/step - accuracy: 1.0000 - loss: 2.8597e-04 - val_accuracy: 0.9893 - val_loss: 0.0450\n",
      "Epoch 176/200\n",
      "\u001b[1m304/304\u001b[0m \u001b[32m━━━━━━━━━━━━━━━━━━━━\u001b[0m\u001b[37m\u001b[0m \u001b[1m0s\u001b[0m 150ms/step - accuracy: 1.0000 - loss: 1.2009e-04\n",
      "Epoch 176: val_accuracy did not improve from 0.99052\n",
      "\u001b[1m304/304\u001b[0m \u001b[32m━━━━━━━━━━━━━━━━━━━━\u001b[0m\u001b[37m\u001b[0m \u001b[1m49s\u001b[0m 161ms/step - accuracy: 1.0000 - loss: 1.2039e-04 - val_accuracy: 0.9885 - val_loss: 0.0484\n",
      "Epoch 177/200\n",
      "\u001b[1m304/304\u001b[0m \u001b[32m━━━━━━━━━━━━━━━━━━━━\u001b[0m\u001b[37m\u001b[0m \u001b[1m0s\u001b[0m 146ms/step - accuracy: 0.9914 - loss: 0.0559\n",
      "Epoch 177: val_accuracy did not improve from 0.99052\n",
      "\u001b[1m304/304\u001b[0m \u001b[32m━━━━━━━━━━━━━━━━━━━━\u001b[0m\u001b[37m\u001b[0m \u001b[1m48s\u001b[0m 157ms/step - accuracy: 0.9914 - loss: 0.0559 - val_accuracy: 0.9864 - val_loss: 0.0486\n",
      "Epoch 178/200\n",
      "\u001b[1m304/304\u001b[0m \u001b[32m━━━━━━━━━━━━━━━━━━━━\u001b[0m\u001b[37m\u001b[0m \u001b[1m0s\u001b[0m 150ms/step - accuracy: 0.9977 - loss: 0.0064\n",
      "Epoch 178: val_accuracy did not improve from 0.99052\n",
      "\u001b[1m304/304\u001b[0m \u001b[32m━━━━━━━━━━━━━━━━━━━━\u001b[0m\u001b[37m\u001b[0m \u001b[1m49s\u001b[0m 161ms/step - accuracy: 0.9977 - loss: 0.0064 - val_accuracy: 0.9778 - val_loss: 0.0660\n",
      "Epoch 179/200\n",
      "\u001b[1m304/304\u001b[0m \u001b[32m━━━━━━━━━━━━━━━━━━━━\u001b[0m\u001b[37m\u001b[0m \u001b[1m0s\u001b[0m 154ms/step - accuracy: 0.9973 - loss: 0.0120\n",
      "Epoch 179: val_accuracy did not improve from 0.99052\n",
      "\u001b[1m304/304\u001b[0m \u001b[32m━━━━━━━━━━━━━━━━━━━━\u001b[0m\u001b[37m\u001b[0m \u001b[1m50s\u001b[0m 166ms/step - accuracy: 0.9973 - loss: 0.0121 - val_accuracy: 0.9881 - val_loss: 0.0437\n",
      "Epoch 180/200\n",
      "\u001b[1m304/304\u001b[0m \u001b[32m━━━━━━━━━━━━━━━━━━━━\u001b[0m\u001b[37m\u001b[0m \u001b[1m0s\u001b[0m 150ms/step - accuracy: 0.9967 - loss: 0.0083\n",
      "Epoch 180: val_accuracy did not improve from 0.99052\n",
      "\u001b[1m304/304\u001b[0m \u001b[32m━━━━━━━━━━━━━━━━━━━━\u001b[0m\u001b[37m\u001b[0m \u001b[1m49s\u001b[0m 161ms/step - accuracy: 0.9967 - loss: 0.0083 - val_accuracy: 0.9893 - val_loss: 0.0476\n",
      "Epoch 181/200\n",
      "\u001b[1m304/304\u001b[0m \u001b[32m━━━━━━━━━━━━━━━━━━━━\u001b[0m\u001b[37m\u001b[0m \u001b[1m0s\u001b[0m 150ms/step - accuracy: 0.9968 - loss: 0.0118\n",
      "Epoch 181: val_accuracy did not improve from 0.99052\n",
      "\u001b[1m304/304\u001b[0m \u001b[32m━━━━━━━━━━━━━━━━━━━━\u001b[0m\u001b[37m\u001b[0m \u001b[1m49s\u001b[0m 160ms/step - accuracy: 0.9968 - loss: 0.0118 - val_accuracy: 0.9868 - val_loss: 0.0547\n",
      "Epoch 182/200\n",
      "\u001b[1m304/304\u001b[0m \u001b[32m━━━━━━━━━━━━━━━━━━━━\u001b[0m\u001b[37m\u001b[0m \u001b[1m0s\u001b[0m 152ms/step - accuracy: 0.9979 - loss: 0.0061\n",
      "Epoch 182: val_accuracy did not improve from 0.99052\n",
      "\u001b[1m304/304\u001b[0m \u001b[32m━━━━━━━━━━━━━━━━━━━━\u001b[0m\u001b[37m\u001b[0m \u001b[1m50s\u001b[0m 164ms/step - accuracy: 0.9979 - loss: 0.0061 - val_accuracy: 0.9885 - val_loss: 0.0529\n",
      "Epoch 183/200\n",
      "\u001b[1m304/304\u001b[0m \u001b[32m━━━━━━━━━━━━━━━━━━━━\u001b[0m\u001b[37m\u001b[0m \u001b[1m0s\u001b[0m 160ms/step - accuracy: 1.0000 - loss: 4.3719e-04\n",
      "Epoch 183: val_accuracy did not improve from 0.99052\n",
      "\u001b[1m304/304\u001b[0m \u001b[32m━━━━━━━━━━━━━━━━━━━━\u001b[0m\u001b[37m\u001b[0m \u001b[1m52s\u001b[0m 171ms/step - accuracy: 1.0000 - loss: 4.4059e-04 - val_accuracy: 0.9876 - val_loss: 0.0601\n",
      "Epoch 184/200\n",
      "\u001b[1m304/304\u001b[0m \u001b[32m━━━━━━━━━━━━━━━━━━━━\u001b[0m\u001b[37m\u001b[0m \u001b[1m0s\u001b[0m 155ms/step - accuracy: 0.9952 - loss: 0.0228\n",
      "Epoch 184: val_accuracy did not improve from 0.99052\n",
      "\u001b[1m304/304\u001b[0m \u001b[32m━━━━━━━━━━━━━━━━━━━━\u001b[0m\u001b[37m\u001b[0m \u001b[1m50s\u001b[0m 166ms/step - accuracy: 0.9952 - loss: 0.0228 - val_accuracy: 0.9843 - val_loss: 0.0576\n",
      "Epoch 185/200\n",
      "\u001b[1m304/304\u001b[0m \u001b[32m━━━━━━━━━━━━━━━━━━━━\u001b[0m\u001b[37m\u001b[0m \u001b[1m0s\u001b[0m 164ms/step - accuracy: 0.9979 - loss: 0.0064\n",
      "Epoch 185: val_accuracy did not improve from 0.99052\n",
      "\u001b[1m304/304\u001b[0m \u001b[32m━━━━━━━━━━━━━━━━━━━━\u001b[0m\u001b[37m\u001b[0m \u001b[1m53s\u001b[0m 175ms/step - accuracy: 0.9979 - loss: 0.0064 - val_accuracy: 0.9868 - val_loss: 0.0478\n",
      "Epoch 186/200\n",
      "\u001b[1m304/304\u001b[0m \u001b[32m━━━━━━━━━━━━━━━━━━━━\u001b[0m\u001b[37m\u001b[0m \u001b[1m0s\u001b[0m 162ms/step - accuracy: 0.9990 - loss: 0.0030\n",
      "Epoch 186: val_accuracy did not improve from 0.99052\n",
      "\u001b[1m304/304\u001b[0m \u001b[32m━━━━━━━━━━━━━━━━━━━━\u001b[0m\u001b[37m\u001b[0m \u001b[1m53s\u001b[0m 173ms/step - accuracy: 0.9990 - loss: 0.0030 - val_accuracy: 0.9860 - val_loss: 0.0582\n",
      "Epoch 187/200\n",
      "\u001b[1m304/304\u001b[0m \u001b[32m━━━━━━━━━━━━━━━━━━━━\u001b[0m\u001b[37m\u001b[0m \u001b[1m0s\u001b[0m 163ms/step - accuracy: 0.9998 - loss: 0.0013\n",
      "Epoch 187: val_accuracy did not improve from 0.99052\n",
      "\u001b[1m304/304\u001b[0m \u001b[32m━━━━━━━━━━━━━━━━━━━━\u001b[0m\u001b[37m\u001b[0m \u001b[1m53s\u001b[0m 174ms/step - accuracy: 0.9998 - loss: 0.0013 - val_accuracy: 0.9848 - val_loss: 0.0545\n",
      "Epoch 188/200\n",
      "\u001b[1m304/304\u001b[0m \u001b[32m━━━━━━━━━━━━━━━━━━━━\u001b[0m\u001b[37m\u001b[0m \u001b[1m0s\u001b[0m 166ms/step - accuracy: 0.9971 - loss: 0.0081\n",
      "Epoch 188: val_accuracy did not improve from 0.99052\n",
      "\u001b[1m304/304\u001b[0m \u001b[32m━━━━━━━━━━━━━━━━━━━━\u001b[0m\u001b[37m\u001b[0m \u001b[1m54s\u001b[0m 179ms/step - accuracy: 0.9971 - loss: 0.0081 - val_accuracy: 0.9843 - val_loss: 0.0651\n",
      "Epoch 189/200\n",
      "\u001b[1m304/304\u001b[0m \u001b[32m━━━━━━━━━━━━━━━━━━━━\u001b[0m\u001b[37m\u001b[0m \u001b[1m0s\u001b[0m 164ms/step - accuracy: 0.9983 - loss: 0.0092\n",
      "Epoch 189: val_accuracy did not improve from 0.99052\n",
      "\u001b[1m304/304\u001b[0m \u001b[32m━━━━━━━━━━━━━━━━━━━━\u001b[0m\u001b[37m\u001b[0m \u001b[1m54s\u001b[0m 176ms/step - accuracy: 0.9983 - loss: 0.0092 - val_accuracy: 0.9839 - val_loss: 0.0703\n",
      "Epoch 190/200\n",
      "\u001b[1m304/304\u001b[0m \u001b[32m━━━━━━━━━━━━━━━━━━━━\u001b[0m\u001b[37m\u001b[0m \u001b[1m0s\u001b[0m 154ms/step - accuracy: 0.9962 - loss: 0.0148\n",
      "Epoch 190: val_accuracy did not improve from 0.99052\n",
      "\u001b[1m304/304\u001b[0m \u001b[32m━━━━━━━━━━━━━━━━━━━━\u001b[0m\u001b[37m\u001b[0m \u001b[1m50s\u001b[0m 165ms/step - accuracy: 0.9962 - loss: 0.0148 - val_accuracy: 0.9876 - val_loss: 0.0396\n",
      "Best model saved at: CNN2D_results/Scalogram_Spectrogram/best_model_5.h5\n"
     ]
    },
    {
     "name": "stderr",
     "output_type": "stream",
     "text": [
      "WARNING:absl:Compiled the loaded model, but the compiled metrics have yet to be built. `model.compile_metrics` will be empty until you train or evaluate the model.\n"
     ]
    },
    {
     "name": "stdout",
     "output_type": "stream",
     "text": [
      "Best model loaded successfully!\n",
      "\u001b[1m 1/76\u001b[0m \u001b[37m━━━━━━━━━━━━━━━━━━━━\u001b[0m \u001b[1m14s\u001b[0m 187ms/step"
     ]
    },
    {
     "name": "stderr",
     "output_type": "stream",
     "text": [
      "2025-06-12 19:15:07.274533: E tensorflow/core/framework/node_def_util.cc:680] NodeDef mentions attribute use_unbounded_threadpool which is not in the op definition: Op<name=MapDataset; signature=input_dataset:variant, other_arguments: -> handle:variant; attr=f:func; attr=Targuments:list(type),min=0; attr=output_types:list(type),min=1; attr=output_shapes:list(shape),min=1; attr=use_inter_op_parallelism:bool,default=true; attr=preserve_cardinality:bool,default=false; attr=force_synchronous:bool,default=false; attr=metadata:string,default=\"\"> This may be expected if your graph generating binary is newer  than this binary. Unknown attributes will be ignored. NodeDef: {{node ParallelMapDatasetV2/_14}}\n",
      "2025-06-12 19:15:07.275551: E tensorflow/core/framework/node_def_util.cc:680] NodeDef mentions attribute use_unbounded_threadpool which is not in the op definition: Op<name=MapDataset; signature=input_dataset:variant, other_arguments: -> handle:variant; attr=f:func; attr=Targuments:list(type),min=0; attr=output_types:list(type),min=1; attr=output_shapes:list(shape),min=1; attr=use_inter_op_parallelism:bool,default=true; attr=preserve_cardinality:bool,default=false; attr=force_synchronous:bool,default=false; attr=metadata:string,default=\"\"> This may be expected if your graph generating binary is newer  than this binary. Unknown attributes will be ignored. NodeDef: {{node ParallelMapDatasetV2/_14}}\n"
     ]
    },
    {
     "name": "stdout",
     "output_type": "stream",
     "text": [
      "\u001b[1m76/76\u001b[0m \u001b[32m━━━━━━━━━━━━━━━━━━━━\u001b[0m\u001b[37m\u001b[0m \u001b[1m4s\u001b[0m 53ms/step\n",
      "\u001b[1m304/304\u001b[0m \u001b[32m━━━━━━━━━━━━━━━━━━━━\u001b[0m\u001b[37m\u001b[0m \u001b[1m14s\u001b[0m 44ms/step - accuracy: 0.9994 - loss: 0.0019\n",
      "\u001b[1m 3/76\u001b[0m \u001b[37m━━━━━━━━━━━━━━━━━━━━\u001b[0m \u001b[1m3s\u001b[0m 43ms/step - accuracy: 0.9965 - loss: 0.0124    "
     ]
    },
    {
     "name": "stderr",
     "output_type": "stream",
     "text": [
      "2025-06-12 19:15:25.395518: E tensorflow/core/framework/node_def_util.cc:680] NodeDef mentions attribute use_unbounded_threadpool which is not in the op definition: Op<name=MapDataset; signature=input_dataset:variant, other_arguments: -> handle:variant; attr=f:func; attr=Targuments:list(type),min=0; attr=output_types:list(type),min=1; attr=output_shapes:list(shape),min=1; attr=use_inter_op_parallelism:bool,default=true; attr=preserve_cardinality:bool,default=false; attr=force_synchronous:bool,default=false; attr=metadata:string,default=\"\"> This may be expected if your graph generating binary is newer  than this binary. Unknown attributes will be ignored. NodeDef: {{node ParallelMapDatasetV2/_15}}\n",
      "2025-06-12 19:15:25.395829: E tensorflow/core/framework/node_def_util.cc:680] NodeDef mentions attribute use_unbounded_threadpool which is not in the op definition: Op<name=MapDataset; signature=input_dataset:variant, other_arguments: -> handle:variant; attr=f:func; attr=Targuments:list(type),min=0; attr=output_types:list(type),min=1; attr=output_shapes:list(shape),min=1; attr=use_inter_op_parallelism:bool,default=true; attr=preserve_cardinality:bool,default=false; attr=force_synchronous:bool,default=false; attr=metadata:string,default=\"\"> This may be expected if your graph generating binary is newer  than this binary. Unknown attributes will be ignored. NodeDef: {{node ParallelMapDatasetV2/_15}}\n"
     ]
    },
    {
     "name": "stdout",
     "output_type": "stream",
     "text": [
      "\u001b[1m76/76\u001b[0m \u001b[32m━━━━━━━━━━━━━━━━━━━━\u001b[0m\u001b[37m\u001b[0m \u001b[1m3s\u001b[0m 44ms/step - accuracy: 0.9896 - loss: 0.0369\n",
      "\u001b[1m95/95\u001b[0m \u001b[32m━━━━━━━━━━━━━━━━━━━━\u001b[0m\u001b[37m\u001b[0m \u001b[1m5s\u001b[0m 48ms/step - accuracy: 0.9860 - loss: 0.0422\n"
     ]
    }
   ],
   "source": [
    "# Parameters\n",
    "interval_length = 320\n",
    "samples_per_block = 1600\n",
    "image_type = 'spectrogram'  # Change to 'spectrogram' to use spectrograms\n",
    "image_shape = (32,32)\n",
    "kSplits = 5\n",
    "foldername = \"CNN2D_results/Scalogram_Spectrogram/\"\n",
    "\n",
    "from tensorflow.keras.callbacks import ModelCheckpoint #Saves the model with the highest validation accuracy for each fold\n",
    "from tensorflow.keras.callbacks import EarlyStopping \n",
    "from tensorflow.keras.models import load_model \n",
    "\n",
    "# Load and prepare data\n",
    "Data = ImportData()\n",
    "X, Y_CNN, Y = DataPreparation(Data, interval_length, samples_per_block, image_type=image_type)\n",
    "Input_2D = X.reshape([-1, image_shape[0], image_shape[1], 1])\n",
    "print(f\"Shape of Input Data: {Input_2D.shape}\")\n",
    "\n",
    "# Train-test split\n",
    "X_2D_train, X_2D_test, y_2D_train, y_2D_test, y_label_train, y_label_test = train_test_split(\n",
    "    Input_2D, Y_CNN, Y, train_size=0.8, test_size=0.2, random_state=42, stratify=Y\n",
    ")\n",
    "\n",
    "# K-fold cross-validation\n",
    "kfold = StratifiedKFold(n_splits=kSplits, random_state=42, shuffle=True)\n",
    "accuracy_train = []\n",
    "accuracy_val = []\n",
    "accuracy_test = []\n",
    "pred_all_val = np.zeros([len(X_2D_train), 10])\n",
    "y_2D_val = np.zeros([len(X_2D_train), 10])\n",
    "kfold_test_len = []\n",
    "fl1 = 0\n",
    "k = 1\n",
    "\n",
    "early_stop = EarlyStopping(monitor='val_accuracy', patience=50, restore_best_weights=True)\n",
    "\n",
    "# Train the model\n",
    "for fold, (train, test) in enumerate(kfold.split(X_2D_train, y_label_train)):\n",
    "    checkpoint_filepath = foldername + f\"best_model_{k}.h5\"\n",
    "    checkpoint = ModelCheckpoint(\n",
    "        filepath=checkpoint_filepath,\n",
    "        monitor='val_accuracy',\n",
    "        save_best_only=True,\n",
    "        mode='max',\n",
    "        verbose=1\n",
    "    )\n",
    "    Classification_2D = CNN_2D()\n",
    "    history = Classification_2D.model.fit(\n",
    "        X_2D_train[train], y_2D_train[train],\n",
    "        validation_data=(X_2D_train[test], y_2D_train[test]),\n",
    "        epochs=200,\n",
    "        verbose=1,\n",
    "        callbacks=[checkpoint, early_stop]\n",
    "    )\n",
    "    print(f\"Best model saved at: {checkpoint_filepath}\")\n",
    "    CNN_2D_best_model = load_model(checkpoint_filepath)\n",
    "    print(\"Best model loaded successfully!\")\n",
    "    \n",
    "    fl2 = fl1 + len(test)\n",
    "    pred_all_val[fl1:fl2, :] = CNN_2D_best_model.predict(X_2D_train[test])\n",
    "    y_2D_val[fl1:fl2, :] = y_2D_train[test]\n",
    "    kfold_test_len.append(fl2 - fl1)\n",
    "    fl1 = fl2\n",
    "\n",
    "    train_loss, train_accuracy = CNN_2D_best_model.evaluate(X_2D_train[train], y_2D_train[train])\n",
    "    accuracy_train.append(train_accuracy)\n",
    "    val_loss, val_accuracy = CNN_2D_best_model.evaluate(X_2D_train[test], y_2D_train[test])\n",
    "    accuracy_val.append(val_accuracy)\n",
    "    test_loss, test_accuracy = CNN_2D_best_model.evaluate(X_2D_test, y_2D_test)\n",
    "    accuracy_test.append(test_accuracy)\n",
    "    \n",
    "    k += 1"
   ]
  },
  {
   "cell_type": "markdown",
   "metadata": {},
   "source": [
    "## Model Evaluation\n",
    "\n",
    "Evaluate the trained model by computing average accuracies across folds for training, validation, and test sets. Visualize performance with confusion matrices for train and test sets, and bar plots for fold-wise and train vs. test accuracies."
   ]
  },
  {
   "cell_type": "code",
   "execution_count": 22,
   "metadata": {},
   "outputs": [
    {
     "name": "stdout",
     "output_type": "stream",
     "text": [
      "CNN 2D train accuracy = 99.8990523815155\n",
      "CNN 2D validation accuracy = 99.07704949378967\n",
      "CNN 2D test accuracy = 99.02438998222351\n",
      "\u001b[1m  3/380\u001b[0m \u001b[37m━━━━━━━━━━━━━━━━━━━━\u001b[0m \u001b[1m16s\u001b[0m 45ms/step"
     ]
    },
    {
     "name": "stderr",
     "output_type": "stream",
     "text": [
      "2025-06-12 19:15:34.035953: E tensorflow/core/framework/node_def_util.cc:680] NodeDef mentions attribute use_unbounded_threadpool which is not in the op definition: Op<name=MapDataset; signature=input_dataset:variant, other_arguments: -> handle:variant; attr=f:func; attr=Targuments:list(type),min=0; attr=output_types:list(type),min=1; attr=output_shapes:list(shape),min=1; attr=use_inter_op_parallelism:bool,default=true; attr=preserve_cardinality:bool,default=false; attr=force_synchronous:bool,default=false; attr=metadata:string,default=\"\"> This may be expected if your graph generating binary is newer  than this binary. Unknown attributes will be ignored. NodeDef: {{node ParallelMapDatasetV2/_14}}\n",
      "2025-06-12 19:15:34.036268: E tensorflow/core/framework/node_def_util.cc:680] NodeDef mentions attribute use_unbounded_threadpool which is not in the op definition: Op<name=MapDataset; signature=input_dataset:variant, other_arguments: -> handle:variant; attr=f:func; attr=Targuments:list(type),min=0; attr=output_types:list(type),min=1; attr=output_shapes:list(shape),min=1; attr=use_inter_op_parallelism:bool,default=true; attr=preserve_cardinality:bool,default=false; attr=force_synchronous:bool,default=false; attr=metadata:string,default=\"\"> This may be expected if your graph generating binary is newer  than this binary. Unknown attributes will be ignored. NodeDef: {{node ParallelMapDatasetV2/_14}}\n"
     ]
    },
    {
     "name": "stdout",
     "output_type": "stream",
     "text": [
      "\u001b[1m380/380\u001b[0m \u001b[32m━━━━━━━━━━━━━━━━━━━━\u001b[0m\u001b[37m\u001b[0m \u001b[1m16s\u001b[0m 43ms/step\n"
     ]
    },
    {
     "data": {
      "image/png": "[encoded data removed]",
      "text/plain": [
       "<Figure size 640x480 with 2 Axes>"
      ]
     },
     "metadata": {},
     "output_type": "display_data"
    },
    {
     "name": "stdout",
     "output_type": "stream",
     "text": [
      "\u001b[1m 3/95\u001b[0m \u001b[37m━━━━━━━━━━━━━━━━━━━━\u001b[0m \u001b[1m4s\u001b[0m 45ms/step"
     ]
    },
    {
     "name": "stderr",
     "output_type": "stream",
     "text": [
      "2025-06-12 19:15:50.864626: E tensorflow/core/framework/node_def_util.cc:680] NodeDef mentions attribute use_unbounded_threadpool which is not in the op definition: Op<name=MapDataset; signature=input_dataset:variant, other_arguments: -> handle:variant; attr=f:func; attr=Targuments:list(type),min=0; attr=output_types:list(type),min=1; attr=output_shapes:list(shape),min=1; attr=use_inter_op_parallelism:bool,default=true; attr=preserve_cardinality:bool,default=false; attr=force_synchronous:bool,default=false; attr=metadata:string,default=\"\"> This may be expected if your graph generating binary is newer  than this binary. Unknown attributes will be ignored. NodeDef: {{node ParallelMapDatasetV2/_14}}\n",
      "2025-06-12 19:15:50.865007: E tensorflow/core/framework/node_def_util.cc:680] NodeDef mentions attribute use_unbounded_threadpool which is not in the op definition: Op<name=MapDataset; signature=input_dataset:variant, other_arguments: -> handle:variant; attr=f:func; attr=Targuments:list(type),min=0; attr=output_types:list(type),min=1; attr=output_shapes:list(shape),min=1; attr=use_inter_op_parallelism:bool,default=true; attr=preserve_cardinality:bool,default=false; attr=force_synchronous:bool,default=false; attr=metadata:string,default=\"\"> This may be expected if your graph generating binary is newer  than this binary. Unknown attributes will be ignored. NodeDef: {{node ParallelMapDatasetV2/_14}}\n"
     ]
    },
    {
     "name": "stdout",
     "output_type": "stream",
     "text": [
      "\u001b[1m95/95\u001b[0m \u001b[32m━━━━━━━━━━━━━━━━━━━━\u001b[0m\u001b[37m\u001b[0m \u001b[1m4s\u001b[0m 43ms/step\n"
     ]
    },
    {
     "data": {
      "image/png": "[encoded data removed]",
      "text/plain": [
       "<Figure size 640x480 with 2 Axes>"
      ]
     },
     "metadata": {},
     "output_type": "display_data"
    },
    {
     "data": {
      "image/png": "[encoded data removed]",
      "text/plain": [
       "<Figure size 640x480 with 1 Axes>"
      ]
     },
     "metadata": {},
     "output_type": "display_data"
    },
    {
     "data": {
      "image/png": "[encoded data removed]",
      "text/plain": [
       "<Figure size 640x480 with 1 Axes>"
      ]
     },
     "metadata": {},
     "output_type": "display_data"
    }
   ],
   "source": [
    "CNN_2D_train_accuracy = np.average(accuracy_train) * 100\n",
    "print(f'CNN 2D train accuracy = {CNN_2D_train_accuracy}')\n",
    "CNN_2D_val_accuracy = np.average(accuracy_val) * 100\n",
    "print(f'CNN 2D validation accuracy = {CNN_2D_val_accuracy}')\n",
    "CNN_2D_test_accuracy = np.average(accuracy_test) * 100\n",
    "print(f'CNN 2D test accuracy = {CNN_2D_test_accuracy}')\n",
    "\n",
    "def ConfusionMatrix(Model, X, y):\n",
    "    y_pred = np.argmax(Model.predict(X), axis=1)\n",
    "    ConfusionMat = confusion_matrix(np.argmax(y, axis=1), y_pred)\n",
    "    return ConfusionMat\n",
    "\n",
    "# Plot results\n",
    "plt.figure(5)\n",
    "plt.title('Confusion Matrix - CNN 2D Train')\n",
    "sns.heatmap(ConfusionMatrix(CNN_2D_best_model, X_2D_train, y_2D_train), annot=True, fmt='d', annot_kws={\"fontsize\":8}, cmap=\"YlGnBu\")\n",
    "plt.show()\n",
    "\n",
    "plt.figure(6)\n",
    "plt.title('Confusion Matrix - CNN 2D Test')\n",
    "sns.heatmap(ConfusionMatrix(CNN_2D_best_model, X_2D_test, y_2D_test), annot=True, fmt='d', annot_kws={\"fontsize\":8}, cmap=\"YlGnBu\")\n",
    "plt.show()\n",
    "\n",
    "plt.figure(7)\n",
    "plt.title('Train - Accuracy - CNN 2D')\n",
    "plt.bar(np.arange(1, kSplits + 1), [i * 100 for i in accuracy_val])\n",
    "plt.ylabel('accuracy')\n",
    "plt.xlabel('folds')\n",
    "plt.ylim([70, 100])\n",
    "plt.show()\n",
    "\n",
    "plt.figure(8)\n",
    "plt.title('Train vs Test Accuracy - CNN 2D')\n",
    "plt.bar([1, 2], [CNN_2D_train_accuracy, CNN_2D_test_accuracy])\n",
    "plt.ylabel('accuracy')\n",
    "plt.xlabel('folds')\n",
    "plt.xticks([1, 2], ['Train', 'Test'])\n",
    "plt.ylim([70, 100])\n",
    "plt.show()"
   ]
  },
  {
   "cell_type": "markdown",
   "metadata": {},
   "source": [
    "## Notes\n",
    "\n",
    "- **Running the Notebook**: Ensure the CWRU dataset files are in the 'CWRU_BearingData_Load_2HP' folder. Install required libraries (e.g., `pip install PyWavelets` for pywt).\n",
    "- **Switching Input Types**: Change `image_type` to 'spectrogram' in the main execution cell to use spectrograms instead of scalograms.\n",
    "- **Performance**: Per Verstraete et al., scalograms achieve up to 99.5% accuracy on CWRU data with 96x96 images, outperforming spectrograms (99.5%) and HHT (97.6%).\n",
    "- **Scalability**: 96x96 images increase computational load. For lower memory usage, set `image_shape = (32, 32)`, but expect reduced accuracy (e.g., 98.8% for scalograms).\n",
    "\n",
    "This notebook provides an interactive environment to experiment with time-frequency-based fault diagnosis, leveraging the strengths of CNNs for automatic feature learning."
   ]
  },
  {
   "cell_type": "code",
   "execution_count": null,
   "metadata": {},
   "outputs": [],
   "source": []
  },
  {
   "cell_type": "code",
   "execution_count": null,
   "metadata": {},
   "outputs": [],
   "source": []
  },
  {
   "cell_type": "code",
   "execution_count": null,
   "metadata": {},
   "outputs": [],
   "source": []
  },
  {
   "cell_type": "code",
   "execution_count": null,
   "metadata": {},
   "outputs": [],
   "source": []
  }
 ],
 "metadata": {
  "kernelspec": {
   "display_name": "Python 3 (ipykernel)",
   "language": "python",
   "name": "python3"
  },
  "language_info": {
   "codemirror_mode": {
    "name": "ipython",
    "version": 3
   },
   "file_extension": ".py",
   "mimetype": "text/x-python",
   "name": "python",
   "nbconvert_exporter": "python",
   "pygments_lexer": "ipython3",
   "version": "3.11.12"
  }
 },
 "nbformat": 4,
 "nbformat_minor": 4
}
